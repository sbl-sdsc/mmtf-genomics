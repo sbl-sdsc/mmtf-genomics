{
 "cells": [
  {
   "cell_type": "markdown",
   "metadata": {},
   "source": [
    "## Map Mutations to Protein-Ligand Interactions\n",
    "Here we find and visualize the mutations at protein-ligand binding sites."
   ]
  },
  {
   "cell_type": "code",
   "execution_count": 1,
   "metadata": {},
   "outputs": [],
   "source": [
    "# Disable Numba: temporary workaround for https://github.com/sbl-sdsc/mmtf-pyspark/issues/288\n",
    "import os\n",
    "os.environ['NUMBA_DISABLE_JIT'] = \"1\""
   ]
  },
  {
   "cell_type": "code",
   "execution_count": 2,
   "metadata": {},
   "outputs": [
    {
     "name": "stderr",
     "output_type": "stream",
     "text": [
      "//miniconda3/envs/mmtf-genomics/lib/python3.7/site-packages/requests/__init__.py:91: RequestsDependencyWarning: urllib3 (1.25.10) or chardet (3.0.4) doesn't match a supported version!\n",
      "  RequestsDependencyWarning)\n"
     ]
    }
   ],
   "source": [
    "from pyspark.sql import SparkSession\n",
    "from mmtfPyspark.io import mmtfReader\n",
    "from mmtfPyspark.interactions import InteractionExtractor, InteractionFilter\n",
    "from ipywidgets import interact, IntSlider, FloatSlider\n",
    "import py3Dmol\n",
    "import pandas as pd"
   ]
  },
  {
   "cell_type": "code",
   "execution_count": 3,
   "metadata": {
    "code_folding": [
     0
    ]
   },
   "outputs": [],
   "source": [
    "# Initialize Spark\n",
    "spark = SparkSession.builder.appName(\"4-MapLigandInteractions\").getOrCreate()"
   ]
  },
  {
   "cell_type": "code",
   "execution_count": 4,
   "metadata": {},
   "outputs": [],
   "source": [
    "# Enable Arrow-based columnar data transfers between Spark and Pandas dataframes\n",
    "spark.conf.set(\"spark.sql.execution.arrow.enabled\", \"true\")"
   ]
  },
  {
   "cell_type": "markdown",
   "metadata": {},
   "source": [
    "#### Input parameters"
   ]
  },
  {
   "cell_type": "code",
   "execution_count": 5,
   "metadata": {},
   "outputs": [],
   "source": [
    "distance_cutoff = 8  # distance cutoff for finding and visualizing interactions\n",
    "input_file_name = 'mutations3d.csv'  # mutations mapped to 3D protein structures\n",
    "output_file_name = 'mutations3d_ligand.csv'  # mutations mapped to protein-ligand binding sites"
   ]
  },
  {
   "cell_type": "markdown",
   "metadata": {},
   "source": [
    "### Read 'mutations3d.csv' file created in the previous step"
   ]
  },
  {
   "cell_type": "code",
   "execution_count": 6,
   "metadata": {
    "scrolled": true
   },
   "outputs": [
    {
     "data": {
      "text/html": [
       "<div>\n",
       "<style scoped>\n",
       "    .dataframe tbody tr th:only-of-type {\n",
       "        vertical-align: middle;\n",
       "    }\n",
       "\n",
       "    .dataframe tbody tr th {\n",
       "        vertical-align: top;\n",
       "    }\n",
       "\n",
       "    .dataframe thead th {\n",
       "        text-align: right;\n",
       "    }\n",
       "</style>\n",
       "<table border=\"1\" class=\"dataframe\">\n",
       "  <thead>\n",
       "    <tr style=\"text-align: right;\">\n",
       "      <th></th>\n",
       "      <th>coverage</th>\n",
       "      <th>description</th>\n",
       "      <th>name</th>\n",
       "      <th>resolution</th>\n",
       "      <th>structureChainId</th>\n",
       "      <th>structureId</th>\n",
       "      <th>uniprotPosition</th>\n",
       "      <th>pdbPosition</th>\n",
       "      <th>residue</th>\n",
       "      <th>variationId</th>\n",
       "      <th>annotation</th>\n",
       "      <th>scale</th>\n",
       "      <th>color</th>\n",
       "    </tr>\n",
       "  </thead>\n",
       "  <tbody>\n",
       "    <tr>\n",
       "      <th>0</th>\n",
       "      <td>0.026709</td>\n",
       "      <td>Spike protein S2</td>\n",
       "      <td>Spike glycoprotein</td>\n",
       "      <td>2.47</td>\n",
       "      <td>6LVN.A</td>\n",
       "      <td>6LVN</td>\n",
       "      <td>1169</td>\n",
       "      <td>2</td>\n",
       "      <td>1169</td>\n",
       "      <td>QHD43416.1:p.1169I&gt;L(1), QHD43416.1:p.1169I&gt;T(...</td>\n",
       "      <td>1169I&gt;L(1), 1169I&gt;T(1), 1169I&gt;F(1)</td>\n",
       "      <td>0.09779</td>\n",
       "      <td>#fee5d8</td>\n",
       "    </tr>\n",
       "    <tr>\n",
       "      <th>1</th>\n",
       "      <td>0.027494</td>\n",
       "      <td>Spike protein S2</td>\n",
       "      <td>Spike glycoprotein</td>\n",
       "      <td>2.47</td>\n",
       "      <td>6LVN.B</td>\n",
       "      <td>6LVN</td>\n",
       "      <td>1169</td>\n",
       "      <td>2</td>\n",
       "      <td>1169</td>\n",
       "      <td>QHD43416.1:p.1169I&gt;L(1), QHD43416.1:p.1169I&gt;T(...</td>\n",
       "      <td>1169I&gt;L(1), 1169I&gt;T(1), 1169I&gt;F(1)</td>\n",
       "      <td>0.09779</td>\n",
       "      <td>#fee5d8</td>\n",
       "    </tr>\n",
       "    <tr>\n",
       "      <th>2</th>\n",
       "      <td>0.026709</td>\n",
       "      <td>Spike protein S2</td>\n",
       "      <td>Spike glycoprotein</td>\n",
       "      <td>2.47</td>\n",
       "      <td>6LVN.D</td>\n",
       "      <td>6LVN</td>\n",
       "      <td>1169</td>\n",
       "      <td>2</td>\n",
       "      <td>1169</td>\n",
       "      <td>QHD43416.1:p.1169I&gt;L(1), QHD43416.1:p.1169I&gt;T(...</td>\n",
       "      <td>1169I&gt;L(1), 1169I&gt;T(1), 1169I&gt;F(1)</td>\n",
       "      <td>0.09779</td>\n",
       "      <td>#fee5d8</td>\n",
       "    </tr>\n",
       "    <tr>\n",
       "      <th>3</th>\n",
       "      <td>0.273370</td>\n",
       "      <td>Spike glycoprotein</td>\n",
       "      <td>Spike glycoprotein</td>\n",
       "      <td>3.00</td>\n",
       "      <td>6XRA.A</td>\n",
       "      <td>6XRA</td>\n",
       "      <td>1169</td>\n",
       "      <td>1169</td>\n",
       "      <td>1169</td>\n",
       "      <td>QHD43416.1:p.1169I&gt;L(1), QHD43416.1:p.1169I&gt;T(...</td>\n",
       "      <td>1169I&gt;L(1), 1169I&gt;T(1), 1169I&gt;F(1)</td>\n",
       "      <td>0.09779</td>\n",
       "      <td>#fee5d8</td>\n",
       "    </tr>\n",
       "    <tr>\n",
       "      <th>4</th>\n",
       "      <td>0.273370</td>\n",
       "      <td>Spike glycoprotein</td>\n",
       "      <td>Spike glycoprotein</td>\n",
       "      <td>3.00</td>\n",
       "      <td>6XRA.B</td>\n",
       "      <td>6XRA</td>\n",
       "      <td>1169</td>\n",
       "      <td>1169</td>\n",
       "      <td>1169</td>\n",
       "      <td>QHD43416.1:p.1169I&gt;L(1), QHD43416.1:p.1169I&gt;T(...</td>\n",
       "      <td>1169I&gt;L(1), 1169I&gt;T(1), 1169I&gt;F(1)</td>\n",
       "      <td>0.09779</td>\n",
       "      <td>#fee5d8</td>\n",
       "    </tr>\n",
       "  </tbody>\n",
       "</table>\n",
       "</div>"
      ],
      "text/plain": [
       "   coverage         description                name  resolution  \\\n",
       "0  0.026709    Spike protein S2  Spike glycoprotein        2.47   \n",
       "1  0.027494    Spike protein S2  Spike glycoprotein        2.47   \n",
       "2  0.026709    Spike protein S2  Spike glycoprotein        2.47   \n",
       "3  0.273370  Spike glycoprotein  Spike glycoprotein        3.00   \n",
       "4  0.273370  Spike glycoprotein  Spike glycoprotein        3.00   \n",
       "\n",
       "  structureChainId structureId  uniprotPosition pdbPosition  residue  \\\n",
       "0           6LVN.A        6LVN             1169           2     1169   \n",
       "1           6LVN.B        6LVN             1169           2     1169   \n",
       "2           6LVN.D        6LVN             1169           2     1169   \n",
       "3           6XRA.A        6XRA             1169        1169     1169   \n",
       "4           6XRA.B        6XRA             1169        1169     1169   \n",
       "\n",
       "                                         variationId  \\\n",
       "0  QHD43416.1:p.1169I>L(1), QHD43416.1:p.1169I>T(...   \n",
       "1  QHD43416.1:p.1169I>L(1), QHD43416.1:p.1169I>T(...   \n",
       "2  QHD43416.1:p.1169I>L(1), QHD43416.1:p.1169I>T(...   \n",
       "3  QHD43416.1:p.1169I>L(1), QHD43416.1:p.1169I>T(...   \n",
       "4  QHD43416.1:p.1169I>L(1), QHD43416.1:p.1169I>T(...   \n",
       "\n",
       "                           annotation    scale    color  \n",
       "0  1169I>L(1), 1169I>T(1), 1169I>F(1)  0.09779  #fee5d8  \n",
       "1  1169I>L(1), 1169I>T(1), 1169I>F(1)  0.09779  #fee5d8  \n",
       "2  1169I>L(1), 1169I>T(1), 1169I>F(1)  0.09779  #fee5d8  \n",
       "3  1169I>L(1), 1169I>T(1), 1169I>F(1)  0.09779  #fee5d8  \n",
       "4  1169I>L(1), 1169I>T(1), 1169I>F(1)  0.09779  #fee5d8  "
      ]
     },
     "execution_count": 6,
     "metadata": {},
     "output_type": "execute_result"
    }
   ],
   "source": [
    "pd.set_option('display.max_columns', None)  # show all columns\n",
    "df = pd.read_csv(input_file_name)\n",
    "df['pdbPosition'] = df['pdbPosition'].astype('str')  # PDB residue numbers must be string to handle insertion codes\n",
    "df.head()"
   ]
  },
  {
   "cell_type": "markdown",
   "metadata": {},
   "source": [
    "## Create a list of unique PDB IDs"
   ]
  },
  {
   "cell_type": "code",
   "execution_count": 7,
   "metadata": {
    "scrolled": true
   },
   "outputs": [
    {
     "name": "stdout",
     "output_type": "stream",
     "text": [
      "PDB Ids: ['6LVN', '6XRA', '6LXT', '6VSB', '6VXX', '6VYB', '6WPS', '6WPT', '6X29', '6X2A', '6X2B', '6X2C', '6X6P', '6X79', '6XCM', '6XCN', '6XEY', '6XF5', '6XF6', '6XKL', '6XLU', '6XM0', '6XM3', '6XM4', '6XM5', '6XR8', '6XS6', '6Z43', '6Z97', '6ZB4', '6ZB5', '6ZDH', '6ZGE', '6ZGG', '6ZGH', '6ZGI', '6ZHD', '6ZOW', '6ZOX', '6ZOY', '6ZOZ', '6ZP0', '6ZP1', '6ZP2', '6ZP5', '6ZP7', '6ZWV', '6ZXN', '7A93', '7A94', '7A95', '7A96', '7A97', '7A98', '7BYR', '7C2L', '7CAI', '7CAK', '7CHH', '7CN9', '7JJI', '7JJJ', '7JZL', '7JZN', '6M1V', '6LZG', '6M0J', '6VW1', '6W41', '6XC2', '6XC3', '6XC4', '6XC7', '6XDG', '6XE1', '6YLA', '6YM0', '6YOR', '6YZ5', '6YZ7', '6Z2M', '6ZBP', '6ZCZ', '6ZDG', '6ZER', '6ZFO', '6ZH9', '7A5R', '7A5S', '7A91', '7A92', '7BWJ', '7BZ5', '7C01', '7C8D', '7C8V', '7C8W', '7CAH', '7CAN', '7CH4', '7CH5', '7CHB', '7CHC', '7CHE', '7CHF', '7JMO', '7JZM', '7JZU', '6M17', '7JMP']\n"
     ]
    }
   ],
   "source": [
    "pdb_ids = list(df.structureId.drop_duplicates())\n",
    "print(\"PDB Ids:\", pdb_ids)"
   ]
  },
  {
   "cell_type": "markdown",
   "metadata": {},
   "source": [
    "## Find all polymer-ligand interactions"
   ]
  },
  {
   "cell_type": "code",
   "execution_count": 8,
   "metadata": {},
   "outputs": [],
   "source": [
    "structures = mmtfReader.download_mmtf_files(pdb_ids)"
   ]
  },
  {
   "cell_type": "code",
   "execution_count": 9,
   "metadata": {},
   "outputs": [
    {
     "data": {
      "text/html": [
       "<div>\n",
       "<style scoped>\n",
       "    .dataframe tbody tr th:only-of-type {\n",
       "        vertical-align: middle;\n",
       "    }\n",
       "\n",
       "    .dataframe tbody tr th {\n",
       "        vertical-align: top;\n",
       "    }\n",
       "\n",
       "    .dataframe thead th {\n",
       "        text-align: right;\n",
       "    }\n",
       "</style>\n",
       "<table border=\"1\" class=\"dataframe\">\n",
       "  <thead>\n",
       "    <tr style=\"text-align: right;\">\n",
       "      <th></th>\n",
       "      <th>structureChainId</th>\n",
       "      <th>queryGroupId</th>\n",
       "      <th>queryChainId</th>\n",
       "      <th>queryGroupNumber</th>\n",
       "      <th>targetGroupId</th>\n",
       "      <th>targetChainId</th>\n",
       "      <th>targetGroupNumber</th>\n",
       "      <th>sequenceIndex</th>\n",
       "      <th>sequence</th>\n",
       "    </tr>\n",
       "  </thead>\n",
       "  <tbody>\n",
       "    <tr>\n",
       "      <th>0</th>\n",
       "      <td>6VXX.C</td>\n",
       "      <td>NAG</td>\n",
       "      <td>C</td>\n",
       "      <td>1312</td>\n",
       "      <td>ALA</td>\n",
       "      <td>C</td>\n",
       "      <td>1070</td>\n",
       "      <td>1088</td>\n",
       "      <td>MGILPSPGMPALLSLVSLLSVLLMGCVAETGTQCVNLTTRTQLPPA...</td>\n",
       "    </tr>\n",
       "    <tr>\n",
       "      <th>1</th>\n",
       "      <td>6VXX.C</td>\n",
       "      <td>NAG</td>\n",
       "      <td>C</td>\n",
       "      <td>1305</td>\n",
       "      <td>THR</td>\n",
       "      <td>C</td>\n",
       "      <td>284</td>\n",
       "      <td>302</td>\n",
       "      <td>MGILPSPGMPALLSLVSLLSVLLMGCVAETGTQCVNLTTRTQLPPA...</td>\n",
       "    </tr>\n",
       "    <tr>\n",
       "      <th>2</th>\n",
       "      <td>6VXX.C</td>\n",
       "      <td>NAG</td>\n",
       "      <td>C</td>\n",
       "      <td>1317</td>\n",
       "      <td>HIS</td>\n",
       "      <td>C</td>\n",
       "      <td>1101</td>\n",
       "      <td>1119</td>\n",
       "      <td>MGILPSPGMPALLSLVSLLSVLLMGCVAETGTQCVNLTTRTQLPPA...</td>\n",
       "    </tr>\n",
       "    <tr>\n",
       "      <th>3</th>\n",
       "      <td>6VXX.A</td>\n",
       "      <td>NAG</td>\n",
       "      <td>A</td>\n",
       "      <td>1306</td>\n",
       "      <td>ARG</td>\n",
       "      <td>A</td>\n",
       "      <td>328</td>\n",
       "      <td>346</td>\n",
       "      <td>MGILPSPGMPALLSLVSLLSVLLMGCVAETGTQCVNLTTRTQLPPA...</td>\n",
       "    </tr>\n",
       "    <tr>\n",
       "      <th>4</th>\n",
       "      <td>6VXX.B</td>\n",
       "      <td>NAG</td>\n",
       "      <td>B</td>\n",
       "      <td>1305</td>\n",
       "      <td>THR</td>\n",
       "      <td>B</td>\n",
       "      <td>286</td>\n",
       "      <td>304</td>\n",
       "      <td>MGILPSPGMPALLSLVSLLSVLLMGCVAETGTQCVNLTTRTQLPPA...</td>\n",
       "    </tr>\n",
       "  </tbody>\n",
       "</table>\n",
       "</div>"
      ],
      "text/plain": [
       "  structureChainId queryGroupId queryChainId queryGroupNumber targetGroupId  \\\n",
       "0           6VXX.C          NAG            C             1312           ALA   \n",
       "1           6VXX.C          NAG            C             1305           THR   \n",
       "2           6VXX.C          NAG            C             1317           HIS   \n",
       "3           6VXX.A          NAG            A             1306           ARG   \n",
       "4           6VXX.B          NAG            B             1305           THR   \n",
       "\n",
       "  targetChainId targetGroupNumber  sequenceIndex  \\\n",
       "0             C              1070           1088   \n",
       "1             C               284            302   \n",
       "2             C              1101           1119   \n",
       "3             A               328            346   \n",
       "4             B               286            304   \n",
       "\n",
       "                                            sequence  \n",
       "0  MGILPSPGMPALLSLVSLLSVLLMGCVAETGTQCVNLTTRTQLPPA...  \n",
       "1  MGILPSPGMPALLSLVSLLSVLLMGCVAETGTQCVNLTTRTQLPPA...  \n",
       "2  MGILPSPGMPALLSLVSLLSVLLMGCVAETGTQCVNLTTRTQLPPA...  \n",
       "3  MGILPSPGMPALLSLVSLLSVLLMGCVAETGTQCVNLTTRTQLPPA...  \n",
       "4  MGILPSPGMPALLSLVSLLSVLLMGCVAETGTQCVNLTTRTQLPPA...  "
      ]
     },
     "execution_count": 9,
     "metadata": {},
     "output_type": "execute_result"
    }
   ],
   "source": [
    "interaction_filter = InteractionFilter(distanceCutoff=distance_cutoff)\n",
    "interaction_filter.set_query_groups(False, [\"HOH\", \"DOD\"])  # exclude water interactions\n",
    "\n",
    "interactions = InteractionExtractor().get_ligand_polymer_interactions(structures, interaction_filter, level='group').toPandas()\n",
    "interactions.head()"
   ]
  },
  {
   "cell_type": "markdown",
   "metadata": {},
   "source": [
    "## Filter mutations by joining with the interaction data"
   ]
  },
  {
   "cell_type": "code",
   "execution_count": 10,
   "metadata": {},
   "outputs": [
    {
     "data": {
      "text/html": [
       "<div>\n",
       "<style scoped>\n",
       "    .dataframe tbody tr th:only-of-type {\n",
       "        vertical-align: middle;\n",
       "    }\n",
       "\n",
       "    .dataframe tbody tr th {\n",
       "        vertical-align: top;\n",
       "    }\n",
       "\n",
       "    .dataframe thead th {\n",
       "        text-align: right;\n",
       "    }\n",
       "</style>\n",
       "<table border=\"1\" class=\"dataframe\">\n",
       "  <thead>\n",
       "    <tr style=\"text-align: right;\">\n",
       "      <th></th>\n",
       "      <th>coverage</th>\n",
       "      <th>description</th>\n",
       "      <th>name</th>\n",
       "      <th>resolution</th>\n",
       "      <th>structureChainId</th>\n",
       "      <th>structureId</th>\n",
       "      <th>uniprotPosition</th>\n",
       "      <th>pdbPosition</th>\n",
       "      <th>residue</th>\n",
       "      <th>variationId</th>\n",
       "      <th>annotation</th>\n",
       "      <th>scale</th>\n",
       "      <th>color</th>\n",
       "      <th>queryGroupId</th>\n",
       "      <th>queryChainId</th>\n",
       "      <th>queryGroupNumber</th>\n",
       "      <th>targetGroupId</th>\n",
       "      <th>targetChainId</th>\n",
       "      <th>targetGroupNumber</th>\n",
       "      <th>sequenceIndex</th>\n",
       "      <th>sequence</th>\n",
       "    </tr>\n",
       "  </thead>\n",
       "  <tbody>\n",
       "    <tr>\n",
       "      <th>0</th>\n",
       "      <td>0.27337</td>\n",
       "      <td>Spike glycoprotein</td>\n",
       "      <td>Spike glycoprotein</td>\n",
       "      <td>3.0</td>\n",
       "      <td>6XRA.A</td>\n",
       "      <td>6XRA</td>\n",
       "      <td>1170</td>\n",
       "      <td>1170</td>\n",
       "      <td>1170</td>\n",
       "      <td>QHD43416.1:p.1170S&gt;T(1), QHD43416.1:p.1170S&gt;P(1)</td>\n",
       "      <td>1170S&gt;T(1), 1170S&gt;P(1)</td>\n",
       "      <td>0.061699</td>\n",
       "      <td>#ffebe2</td>\n",
       "      <td>NAG</td>\n",
       "      <td>A</td>\n",
       "      <td>1417</td>\n",
       "      <td>SER</td>\n",
       "      <td>A</td>\n",
       "      <td>1170</td>\n",
       "      <td>1169</td>\n",
       "      <td>MFVFLVLLPLVSSQCVNLTTRTQLPPAYTNSFTRGVYYPDKVFRSS...</td>\n",
       "    </tr>\n",
       "    <tr>\n",
       "      <th>1</th>\n",
       "      <td>0.27337</td>\n",
       "      <td>Spike glycoprotein</td>\n",
       "      <td>Spike glycoprotein</td>\n",
       "      <td>3.0</td>\n",
       "      <td>6XRA.B</td>\n",
       "      <td>6XRA</td>\n",
       "      <td>1170</td>\n",
       "      <td>1170</td>\n",
       "      <td>1170</td>\n",
       "      <td>QHD43416.1:p.1170S&gt;T(1), QHD43416.1:p.1170S&gt;P(1)</td>\n",
       "      <td>1170S&gt;T(1), 1170S&gt;P(1)</td>\n",
       "      <td>0.061699</td>\n",
       "      <td>#ffebe2</td>\n",
       "      <td>NAG</td>\n",
       "      <td>B</td>\n",
       "      <td>1417</td>\n",
       "      <td>SER</td>\n",
       "      <td>B</td>\n",
       "      <td>1170</td>\n",
       "      <td>1169</td>\n",
       "      <td>MFVFLVLLPLVSSQCVNLTTRTQLPPAYTNSFTRGVYYPDKVFRSS...</td>\n",
       "    </tr>\n",
       "    <tr>\n",
       "      <th>2</th>\n",
       "      <td>0.27337</td>\n",
       "      <td>Spike glycoprotein</td>\n",
       "      <td>Spike glycoprotein</td>\n",
       "      <td>3.0</td>\n",
       "      <td>6XRA.C</td>\n",
       "      <td>6XRA</td>\n",
       "      <td>1170</td>\n",
       "      <td>1170</td>\n",
       "      <td>1170</td>\n",
       "      <td>QHD43416.1:p.1170S&gt;T(1), QHD43416.1:p.1170S&gt;P(1)</td>\n",
       "      <td>1170S&gt;T(1), 1170S&gt;P(1)</td>\n",
       "      <td>0.061699</td>\n",
       "      <td>#ffebe2</td>\n",
       "      <td>NAG</td>\n",
       "      <td>C</td>\n",
       "      <td>1417</td>\n",
       "      <td>SER</td>\n",
       "      <td>C</td>\n",
       "      <td>1170</td>\n",
       "      <td>1169</td>\n",
       "      <td>MFVFLVLLPLVSSQCVNLTTRTQLPPAYTNSFTRGVYYPDKVFRSS...</td>\n",
       "    </tr>\n",
       "    <tr>\n",
       "      <th>3</th>\n",
       "      <td>0.27337</td>\n",
       "      <td>Spike glycoprotein</td>\n",
       "      <td>Spike glycoprotein</td>\n",
       "      <td>3.0</td>\n",
       "      <td>6XRA.A</td>\n",
       "      <td>6XRA</td>\n",
       "      <td>1171</td>\n",
       "      <td>1171</td>\n",
       "      <td>1171</td>\n",
       "      <td>QHD43416.1:p.1171G&gt;V(12), QHD43416.1:p.1171G&gt;S(2)</td>\n",
       "      <td>1171G&gt;V(12), 1171G&gt;S(2)</td>\n",
       "      <td>0.234909</td>\n",
       "      <td>#fcc1a8</td>\n",
       "      <td>NAG</td>\n",
       "      <td>A</td>\n",
       "      <td>1417</td>\n",
       "      <td>GLY</td>\n",
       "      <td>A</td>\n",
       "      <td>1171</td>\n",
       "      <td>1170</td>\n",
       "      <td>MFVFLVLLPLVSSQCVNLTTRTQLPPAYTNSFTRGVYYPDKVFRSS...</td>\n",
       "    </tr>\n",
       "    <tr>\n",
       "      <th>4</th>\n",
       "      <td>0.27337</td>\n",
       "      <td>Spike glycoprotein</td>\n",
       "      <td>Spike glycoprotein</td>\n",
       "      <td>3.0</td>\n",
       "      <td>6XRA.B</td>\n",
       "      <td>6XRA</td>\n",
       "      <td>1171</td>\n",
       "      <td>1171</td>\n",
       "      <td>1171</td>\n",
       "      <td>QHD43416.1:p.1171G&gt;V(12), QHD43416.1:p.1171G&gt;S(2)</td>\n",
       "      <td>1171G&gt;V(12), 1171G&gt;S(2)</td>\n",
       "      <td>0.234909</td>\n",
       "      <td>#fcc1a8</td>\n",
       "      <td>NAG</td>\n",
       "      <td>B</td>\n",
       "      <td>1417</td>\n",
       "      <td>GLY</td>\n",
       "      <td>B</td>\n",
       "      <td>1171</td>\n",
       "      <td>1170</td>\n",
       "      <td>MFVFLVLLPLVSSQCVNLTTRTQLPPAYTNSFTRGVYYPDKVFRSS...</td>\n",
       "    </tr>\n",
       "  </tbody>\n",
       "</table>\n",
       "</div>"
      ],
      "text/plain": [
       "   coverage         description                name  resolution  \\\n",
       "0   0.27337  Spike glycoprotein  Spike glycoprotein         3.0   \n",
       "1   0.27337  Spike glycoprotein  Spike glycoprotein         3.0   \n",
       "2   0.27337  Spike glycoprotein  Spike glycoprotein         3.0   \n",
       "3   0.27337  Spike glycoprotein  Spike glycoprotein         3.0   \n",
       "4   0.27337  Spike glycoprotein  Spike glycoprotein         3.0   \n",
       "\n",
       "  structureChainId structureId  uniprotPosition pdbPosition  residue  \\\n",
       "0           6XRA.A        6XRA             1170        1170     1170   \n",
       "1           6XRA.B        6XRA             1170        1170     1170   \n",
       "2           6XRA.C        6XRA             1170        1170     1170   \n",
       "3           6XRA.A        6XRA             1171        1171     1171   \n",
       "4           6XRA.B        6XRA             1171        1171     1171   \n",
       "\n",
       "                                         variationId               annotation  \\\n",
       "0   QHD43416.1:p.1170S>T(1), QHD43416.1:p.1170S>P(1)   1170S>T(1), 1170S>P(1)   \n",
       "1   QHD43416.1:p.1170S>T(1), QHD43416.1:p.1170S>P(1)   1170S>T(1), 1170S>P(1)   \n",
       "2   QHD43416.1:p.1170S>T(1), QHD43416.1:p.1170S>P(1)   1170S>T(1), 1170S>P(1)   \n",
       "3  QHD43416.1:p.1171G>V(12), QHD43416.1:p.1171G>S(2)  1171G>V(12), 1171G>S(2)   \n",
       "4  QHD43416.1:p.1171G>V(12), QHD43416.1:p.1171G>S(2)  1171G>V(12), 1171G>S(2)   \n",
       "\n",
       "      scale    color queryGroupId queryChainId queryGroupNumber targetGroupId  \\\n",
       "0  0.061699  #ffebe2          NAG            A             1417           SER   \n",
       "1  0.061699  #ffebe2          NAG            B             1417           SER   \n",
       "2  0.061699  #ffebe2          NAG            C             1417           SER   \n",
       "3  0.234909  #fcc1a8          NAG            A             1417           GLY   \n",
       "4  0.234909  #fcc1a8          NAG            B             1417           GLY   \n",
       "\n",
       "  targetChainId targetGroupNumber  sequenceIndex  \\\n",
       "0             A              1170           1169   \n",
       "1             B              1170           1169   \n",
       "2             C              1170           1169   \n",
       "3             A              1171           1170   \n",
       "4             B              1171           1170   \n",
       "\n",
       "                                            sequence  \n",
       "0  MFVFLVLLPLVSSQCVNLTTRTQLPPAYTNSFTRGVYYPDKVFRSS...  \n",
       "1  MFVFLVLLPLVSSQCVNLTTRTQLPPAYTNSFTRGVYYPDKVFRSS...  \n",
       "2  MFVFLVLLPLVSSQCVNLTTRTQLPPAYTNSFTRGVYYPDKVFRSS...  \n",
       "3  MFVFLVLLPLVSSQCVNLTTRTQLPPAYTNSFTRGVYYPDKVFRSS...  \n",
       "4  MFVFLVLLPLVSSQCVNLTTRTQLPPAYTNSFTRGVYYPDKVFRSS...  "
      ]
     },
     "execution_count": 10,
     "metadata": {},
     "output_type": "execute_result"
    }
   ],
   "source": [
    "mt = df.merge(interactions, left_on=['structureChainId','pdbPosition'], right_on=['structureChainId','targetGroupNumber'], how='inner')\n",
    "mt.head()"
   ]
  },
  {
   "cell_type": "markdown",
   "metadata": {},
   "source": [
    "## Save protein-ligand mapping"
   ]
  },
  {
   "cell_type": "code",
   "execution_count": 11,
   "metadata": {},
   "outputs": [],
   "source": [
    "mt.to_csv(output_file_name, index=False)"
   ]
  },
  {
   "cell_type": "markdown",
   "metadata": {},
   "source": [
    "## View mutations grouped by protein chain\n",
    "Use the slider to view each protein chain. Turn labels off for an unobstructed view of the mutations. Interacting ligands are rendered as spheres with green carbon atoms."
   ]
  },
  {
   "cell_type": "code",
   "execution_count": 12,
   "metadata": {},
   "outputs": [
    {
     "name": "stdout",
     "output_type": "stream",
     "text": [
      "Chains: ['6LXT.A', '6LXT.B', '6LXT.E', '6LXT.F', '6LZG.B', '6M0J.E', '6M17.E', '6M17.F', '6VSB.A', '6VSB.B', '6VSB.C', '6VW1.E', '6VW1.F', '6VXX.A', '6VXX.B', '6VXX.C', '6VYB.A', '6VYB.B', '6VYB.C', '6W41.C', '6WPS.A', '6WPS.B', '6WPS.E', '6WPT.A', '6WPT.B', '6WPT.C', '6X6P.A', '6X6P.B', '6X6P.C', '6X79.A', '6X79.B', '6X79.C', '6XC2.A', '6XC2.Z', '6XC3.C', '6XC4.A', '6XC4.Z', '6XC7.A', '6XCM.A', '6XCM.B', '6XCM.C', '6XCN.A', '6XCN.C', '6XCN.E', '6XDG.E', '6XE1.E', '6XEY.A', '6XEY.B', '6XEY.C', '6XF5.A', '6XF5.B', '6XF5.C', '6XF6.A', '6XF6.B', '6XF6.C', '6XKL.A', '6XKL.B', '6XKL.C', '6XLU.A', '6XLU.B', '6XLU.C', '6XM0.A', '6XM0.B', '6XM0.C', '6XM3.A', '6XM3.B', '6XM3.C', '6XM4.A', '6XM4.B', '6XM4.C', '6XM5.A', '6XM5.B', '6XM5.C', '6XR8.A', '6XR8.B', '6XR8.C', '6XRA.A', '6XRA.B', '6XRA.C', '6YLA.A', '6YLA.E', '6YZ5.E', '6YZ7.AAA', '6YZ7.EEE', '6Z2M.A', '6Z2M.E', '6Z43.A', '6Z43.B', '6Z43.C', '6Z97.A', '6Z97.B', '6Z97.C', '6ZB4.A', '6ZB4.B', '6ZB4.C', '6ZB5.A', '6ZB5.B', '6ZB5.C', '6ZBP.EEE', '6ZCZ.E', '6ZDG.A', '6ZDG.D', '6ZDG.E', '6ZDH.A', '6ZDH.B', '6ZDH.C', '6ZER.A', '6ZER.D', '6ZER.E', '6ZFO.A', '6ZFO.E', '6ZGE.A', '6ZGE.B', '6ZGE.C', '6ZGI.A', '6ZGI.B', '6ZGI.C', '6ZHD.A', '6ZHD.B', '6ZHD.C', '6ZOW.A', '6ZOW.B', '6ZOW.C', '6ZOW.a', '6ZOX.A', '6ZOX.B', '6ZOX.C', '6ZOY.A', '6ZOY.B', '6ZOY.C', '6ZOZ.A', '6ZOZ.B', '6ZOZ.C', '6ZP0.A', '6ZP0.B', '6ZP0.C', '6ZP1.A', '6ZP1.B', '6ZP1.C', '6ZP2.A', '6ZP2.B', '6ZP2.C', '6ZP5.A', '6ZP5.B', '6ZP5.C', '6ZP7.A', '6ZP7.B', '6ZP7.C', '6ZWV.A', '6ZWV.B', '6ZWV.C', '6ZXN.A', '6ZXN.B', '6ZXN.C', '7A5R.A', '7A5R.B', '7A5S.A', '7A5S.B', '7A91.A', '7A92.A', '7A94.A', '7A94.B', '7A94.C', '7BWJ.E', '7BYR.A', '7BYR.B', '7BYR.C', '7BZ5.A', '7C01.A', '7C01.B', '7C2L.A', '7C2L.B', '7C2L.C', '7C8V.B', '7C8W.B', '7CAI.A', '7CAI.B', '7CAI.C', '7CAK.A', '7CAK.B', '7CAK.C', '7CAN.B', '7CHB.R', '7CHH.A', '7CHH.B', '7CHH.C', '7CN9.A', '7CN9.B', '7CN9.C', '7JJI.A', '7JJI.B', '7JJI.C', '7JJJ.A', '7JJJ.B', '7JJJ.C', '7JJJ.D', '7JJJ.E', '7JJJ.F', '7JMO.A', '7JMP.A', '7JZL.A', '7JZL.B', '7JZL.C', '7JZM.B', '7JZN.A', '7JZN.B', '7JZN.C', '7JZU.B']\n"
     ]
    }
   ],
   "source": [
    "chains = mt.groupby('structureChainId')\n",
    "print(\"Chains:\", list(chains.groups.keys()))"
   ]
  },
  {
   "cell_type": "code",
   "execution_count": 13,
   "metadata": {
    "code_folding": [
     0
    ],
    "jupyter": {
     "source_hidden": true
    }
   },
   "outputs": [],
   "source": [
    "# Setup viewer\n",
    "def view_grouped_mutations(grouped_df, *args):\n",
    "    chainIds = list(grouped_df.groups.keys())\n",
    "\n",
    "    def view3d(show_bio_assembly, show_surface, show_short_label, show_long_label, size, font, logFreq, i):\n",
    "        group = grouped_df.get_group(chainIds[i])\n",
    "        \n",
    "        pdb_id, chain_id = chainIds[i].split('.')\n",
    "        global viewer1\n",
    "        viewer1 = py3Dmol.view(query='pdb:' + pdb_id, options={'doAssembly': show_bio_assembly}, width=size, height=size)\n",
    "\n",
    "        # polymer style\n",
    "        viewer1.setStyle({'cartoon': {'colorscheme': 'chain', 'width': 0.6, 'opacity':0.9}})\n",
    "\n",
    "        # highlight chain of interest in blue\n",
    "        viewer1.setStyle({'chain': chain_id},{'cartoon': {'color': 'blue'}})\n",
    "   \n",
    "        # non-polymer style\n",
    "        viewer1.setStyle({'hetflag': True}, {'stick':{'radius': 0.3, 'singleBond': False}})\n",
    "        \n",
    "        # don't display water molecules\n",
    "        viewer1.setStyle({'resn': ['HOH','DOD']}, {})\n",
    "        \n",
    "        rows = group.shape[0]\n",
    "        for j in range(0, rows):\n",
    "            if group.iloc[j]['scale'] > logFreq:\n",
    "                # interacting residue info\n",
    "                res_num = str(group.iloc[j]['pdbPosition'])\n",
    "                mod_res = {'resi': res_num, 'chain': chain_id}\n",
    "            \n",
    "                # interacting ligand info\n",
    "                lig_id = group.iloc[j]['queryGroupId']\n",
    "                lig_chain = group.iloc[j]['queryChainId']\n",
    "                lig_num = group.iloc[j]['queryGroupNumber']\n",
    "                lig_res = {'resi': lig_num, 'chain': lig_chain}\n",
    "            \n",
    "                col = group.iloc[j]['color']\n",
    "                c_col = col + 'Carbon'\n",
    "                viewer1.addStyle(mod_res, {'stick':{'colorscheme':c_col, 'radius': 0.2}})\n",
    "                viewer1.addStyle(mod_res, {'sphere':{'color':col, 'opacity': 0.6}})   \n",
    "                viewer1.addStyle(lig_res, {'sphere': {'colorscheme': 'greenCarbon'}})\n",
    "            \n",
    "                annotation = group.iloc[j]['annotation']\n",
    "                variationId = group.iloc[j]['variationId']\n",
    "                \n",
    "                if show_short_label:\n",
    "                    label = annotation\n",
    "                if show_long_label:\n",
    "                    label = chain_id + \".\" + str(res_num) + \": \" + variationId\n",
    "                if show_short_label or show_long_label:\n",
    "                    viewer1.addLabel(label, {'fontSize':font,'fontColor': 'black','backgroundColor':'ivory'}, mod_res)\n",
    "                    viewer1.addLabel(lig_id + lig_num, {'fontSize':font}, lig_res)\n",
    "\n",
    "        viewer1.zoomTo({'chain': chain_id})\n",
    "        viewer1.center({'chain': chain_id})\n",
    "        \n",
    "        if show_surface:\n",
    "             viewer1.addSurface(py3Dmol.SES,{'opacity':0.8,'color':'lightblue'},{'chain': chain_id})\n",
    "                \n",
    "        # print header\n",
    "        name = group.iloc[0]['name']\n",
    "        resolution = group.iloc[0]['resolution']\n",
    "        coverage = group.iloc[0]['coverage']\n",
    "        description = group.iloc[0]['description']\n",
    "        print(name)\n",
    "        print()\n",
    "        print(f'PDB Id: {pdb_id}, chain Id: {chain_id}, resolution: {resolution}, sequence coverage: {coverage:.2f}')\n",
    "        print(f'description: {description}')\n",
    "        \n",
    "        # print any specified additional columns from the dataframe\n",
    "        for a in args:\n",
    "            print(a + \": \" + group.iloc[j][a])\n",
    "                \n",
    "        return viewer1.show()\n",
    "\n",
    "    f_widget = IntSlider(value=9, min=5, max=20, description='font size', continuous_update=False)\n",
    "    z_widget = IntSlider(value=750, min=500, max=1200, description='size', continuous_update=False)\n",
    "    s_widget = IntSlider(min=0, max=len(chainIds)-1, description='structure', continuous_update=False)\n",
    "    l_widget = FloatSlider(value=0.5, min=0, max=1, step=0.05, description='logFreq:', disabled=False, \n",
    "                           continuous_update=False, orientation='horizontal', readout=True, readout_format='.2f')\n",
    "    \n",
    "    return interact(view3d, show_bio_assembly=False, show_surface=False, show_short_label=True, show_long_label=False, size=z_widget, \n",
    "                    font=f_widget, logFreq=l_widget, i=s_widget)\n",
    "\n",
    "def view_image1():\n",
    "    return viewer1.png()"
   ]
  },
  {
   "cell_type": "code",
   "execution_count": 14,
   "metadata": {},
   "outputs": [
    {
     "data": {
      "application/vnd.jupyter.widget-view+json": {
       "model_id": "929f4186efd04888a87a5da428f7e5e9",
       "version_major": 2,
       "version_minor": 0
      },
      "text/plain": [
       "interactive(children=(Checkbox(value=False, description='show_bio_assembly'), Checkbox(value=False, descriptio…"
      ]
     },
     "metadata": {},
     "output_type": "display_data"
    }
   ],
   "source": [
    "view_grouped_mutations(chains);"
   ]
  },
  {
   "cell_type": "markdown",
   "metadata": {},
   "source": [
    "## View one mutation at a time\n",
    "Use the slider to view each mutation. Surrounding residues within the `distance_cutoff` are rendered as orange sticks. Interacting ligands are rendered as spheres with green carbon atoms."
   ]
  },
  {
   "cell_type": "code",
   "execution_count": 15,
   "metadata": {
    "code_folding": [
     0
    ],
    "jupyter": {
     "source_hidden": true
    }
   },
   "outputs": [],
   "source": [
    "# Setup viewer\n",
    "def view_single_mutation(df, distance_cutoff, *args):\n",
    "\n",
    "    def view3d(show_bio_assembly, show_surface, show_short_label, show_long_label, size, font, logFreq, i):        \n",
    "        pdb_id, chain_id = df.iloc[i]['structureChainId'].split('.')\n",
    "        \n",
    "        global viewer2\n",
    "        viewer2 = py3Dmol.view(query='pdb:' + pdb_id, options={'doAssembly': show_bio_assembly}, width=size, height=size)\n",
    "\n",
    "        # polymer style\n",
    "        viewer2.setStyle({'cartoon': {'colorscheme': 'chain', 'width': 0.6, 'opacity':0.7}})\n",
    "       \n",
    "        # highlight chain of interest in blue\n",
    "        viewer2.setStyle({'chain': chain_id},{'cartoon': {'color': 'blue', 'width': 0.6, 'opacity':0.5}})\n",
    "        \n",
    "        # non-polymer style\n",
    "        viewer2.setStyle({'hetflag': True}, {'stick':{'radius': 0.3, 'singleBond': False}})\n",
    "        \n",
    "        # don't display water molecules\n",
    "        viewer2.setStyle({'resn': ['HOH','DOD']}, {})\n",
    "        \n",
    "        # interacting residue info\n",
    "        res_num = str(df.iloc[i]['pdbPosition'])\n",
    "        mod_res = {'resi': res_num, 'chain': chain_id}\n",
    "        \n",
    "        # interacting ligand info\n",
    "        label = df.iloc[i]['variationId']  \n",
    "        lig_id = df.iloc[i]['queryGroupId']\n",
    "        lig_chain = df.iloc[i]['queryChainId']\n",
    "        lig_num = df.iloc[i]['queryGroupNumber']\n",
    "        lig_res = {'resi': lig_num, 'chain': lig_chain}\n",
    "        lig_label = lig_id + \"-\" + lig_chain + lig_num\n",
    "        \n",
    "        col = df.iloc[i]['color']\n",
    "        c_col = col + 'Carbon'\n",
    "        viewer2.addStyle(mod_res, {'stick':{'colorscheme': c_col, 'radius': 0.2}})\n",
    "        viewer2.addStyle(mod_res, {'sphere':{'color': col, 'opacity': 0.8}})  \n",
    "\n",
    "        # text label\n",
    "        annotation = df.iloc[i]['annotation']\n",
    "        variationId = df.iloc[i]['variationId']\n",
    "                \n",
    "        if show_short_label:\n",
    "            label = annotation\n",
    "        if show_long_label:\n",
    "            label = chain_id + \".\" + str(res_num) + \": \" + variationId\n",
    "        if show_short_label or show_long_label:\n",
    "            viewer2.addLabel(label, {'fontSize':font,'fontColor': 'black','backgroundColor':'ivory', 'opacity': 1.0}, mod_res)    \n",
    "            viewer2.addLabel(lig_label, {'fontSize':font-2}, lig_res)      \n",
    "\n",
    "        # select neigboring residues by distance\n",
    "        surroundings = {'chain': chain_id, 'resi': res_num, 'byres': True, 'expand': distance_cutoff}\n",
    "        \n",
    "        # residues surrounding mutation site\n",
    "        viewer2.addStyle(surroundings,{'stick':{'colorscheme':'orangeCarbon', 'radius': 0.15}})\n",
    "\n",
    "        \n",
    "        # interacting ligand style\n",
    "        viewer2.addStyle(lig_res, {'sphere': {'colorscheme': 'greenCarbon'}})  \n",
    "        \n",
    "        # set style for interacting waters\n",
    "        waters = {'resn': ['HOH','DOD']}\n",
    "        waters.update(surroundings)\n",
    "        viewer2.addStyle(waters,{'sphere':{'color':'orange', 'radius': 0.5}})\n",
    "    \n",
    "        if show_surface:\n",
    "             viewer2.addSurface(py3Dmol.SES, {'opacity':0.8,'color':'lightblue'}, {'chain': chain_id})\n",
    "         \n",
    "        viewer2.zoomTo(surroundings)\n",
    "        viewer2.center(mod_res)\n",
    "        \n",
    "        # print header\n",
    "        print(\"PDB Id:\", pdb_id, \"chain Id:\" , chain_id, \"residue:\", res_num, \"ligand:\", lig_label, \"mutation:\", variationId)\n",
    "        \n",
    "        # print any specified additional columns from the dataframe\n",
    "        for a in args:\n",
    "            print(a + \": \" + df.iloc[i][a])\n",
    "                \n",
    "        return viewer2.show()\n",
    "\n",
    "    f_widget = IntSlider(value=12, min=5, max=20, description='font size', continuous_update=False)\n",
    "    z_widget = IntSlider(value=750, min=500, max=1200, description='size', continuous_update=False)\n",
    "    s_widget = IntSlider(min=0, max=len(df)-1, description='structure', continuous_update=False)\n",
    "    l_widget = FloatSlider(value=0.5, min=0, max=1, step=0.05, description='logFreq:', disabled=False, \n",
    "                           continuous_update=False, orientation='horizontal', readout=True, readout_format='.2f')\n",
    "    \n",
    "    return interact(view3d, show_bio_assembly=False, show_surface=False, show_short_label=True, show_long_label=False, size=z_widget, \n",
    "                    font=f_widget, logFreq=l_widget, i=s_widget)\n",
    "\n",
    "def view_image2():\n",
    "    return viewer2.png()"
   ]
  },
  {
   "cell_type": "code",
   "execution_count": 16,
   "metadata": {},
   "outputs": [],
   "source": [
    "mt_unique = mt.drop_duplicates([\"structureChainId\",\"variationId\",'queryGroupId','queryGroupNumber'])"
   ]
  },
  {
   "cell_type": "code",
   "execution_count": 17,
   "metadata": {},
   "outputs": [
    {
     "data": {
      "application/vnd.jupyter.widget-view+json": {
       "model_id": "424de6eefb164550afdaa907cd59bd0c",
       "version_major": 2,
       "version_minor": 0
      },
      "text/plain": [
       "interactive(children=(Checkbox(value=False, description='show_bio_assembly'), Checkbox(value=False, descriptio…"
      ]
     },
     "metadata": {},
     "output_type": "display_data"
    }
   ],
   "source": [
    "view_single_mutation(mt_unique, distance_cutoff);"
   ]
  },
  {
   "cell_type": "code",
   "execution_count": 18,
   "metadata": {
    "code_folding": [
     0
    ]
   },
   "outputs": [],
   "source": [
    "# Shutdown Spark\n",
    "spark.stop()"
   ]
  },
  {
   "cell_type": "markdown",
   "metadata": {},
   "source": [
    "## Now run the next step\n",
    "Map mutations occuring at protein-polymer interfaces: [4-MapToDrugInteractions.ipynb](4-MapToDrugInteractions.ipynb)"
   ]
  },
  {
   "cell_type": "code",
   "execution_count": null,
   "metadata": {},
   "outputs": [],
   "source": []
  }
 ],
 "metadata": {
  "kernelspec": {
   "display_name": "Python 3",
   "language": "python",
   "name": "python3"
  },
  "language_info": {
   "codemirror_mode": {
    "name": "ipython",
    "version": 3
   },
   "file_extension": ".py",
   "mimetype": "text/x-python",
   "name": "python",
   "nbconvert_exporter": "python",
   "pygments_lexer": "ipython3",
   "version": "3.7.8"
  }
 },
 "nbformat": 4,
 "nbformat_minor": 4
}
