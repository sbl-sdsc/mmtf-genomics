{
 "cells": [
  {
   "cell_type": "markdown",
   "metadata": {},
   "source": [
    "# Maps SARS-CoV-2 Mutations to 3D Protein Structures\n",
    "[Work in progress]\n",
    "\n",
    "This notebook maps mutation frequency of SARS-CoV-2 strains onto 3D protein structures with bound antibody fragments in the [Protein Data Bank](https://www.wwpdb.org/). SARS-CoV2-2 strains and their mutations have been aggregated in the [COVID-19-Net Knowledge Graph](https://github.com/covid-19-net/covid-19-community)."
   ]
  },
  {
   "cell_type": "code",
   "execution_count": 1,
   "metadata": {},
   "outputs": [],
   "source": [
    "import math\n",
    "import pandas as pd\n",
    "import numpy as np\n",
    "import matplotlib.pyplot as plt\n",
    "import matplotlib.colors\n",
    "import matplotlib.cm as cm\n",
    "import ipywidgets as widgets\n",
    "from ipywidgets import interact, IntSlider, FloatSlider, SelectMultiple\n",
    "from py2neo import Graph\n",
    "import py3Dmol"
   ]
  },
  {
   "cell_type": "code",
   "execution_count": 2,
   "metadata": {},
   "outputs": [],
   "source": [
    "pd.options.display.max_rows = None  # display all rows\n",
    "pd.options.display.max_columns = None  # display all columsns"
   ]
  },
  {
   "cell_type": "code",
   "execution_count": 3,
   "metadata": {},
   "outputs": [],
   "source": [
    "output_file_name = 'mutations3d.csv' # mutations mapped to 3D protein structures"
   ]
  },
  {
   "cell_type": "markdown",
   "metadata": {},
   "source": [
    "#### Connect to COVID-19-Community Knowledge Graph\n",
    "[COVID-19-Net Knowledge Graph](https://github.com/covid-19-net/covid-19-community)"
   ]
  },
  {
   "cell_type": "code",
   "execution_count": 4,
   "metadata": {},
   "outputs": [],
   "source": [
    "graph = Graph(\"bolt://132.249.238.185:7687\", user=\"reader\", password=\"demo\")"
   ]
  },
  {
   "cell_type": "markdown",
   "metadata": {},
   "source": [
    "### Taxonomy ids for pathogen (SARS-CoV-2) and host (human)"
   ]
  },
  {
   "cell_type": "code",
   "execution_count": 5,
   "metadata": {},
   "outputs": [],
   "source": [
    "pathogen_taxonomy_id = 'taxonomy:2697049'\n",
    "host_taxonomy_id = 'taxonomy:9606'\n",
    "with_antibodies = True"
   ]
  },
  {
   "cell_type": "markdown",
   "metadata": {},
   "source": [
    "### Get list of SARS-CoV-2 proteins"
   ]
  },
  {
   "cell_type": "code",
   "execution_count": 6,
   "metadata": {},
   "outputs": [],
   "source": [
    "query = \"\"\"\n",
    "MATCH (p:Protein{taxonomyId: $pathogen_taxonomy_id})-[t:HAS_TERTIARY_STRUCTURE]->(:Chain)-[:IS_PART_OF_STRUCTURE]->(s:Structure)\n",
    "WHERE t.coverage > 0.2 // eliminate polyprotein\n",
    "RETURN p.name AS protein, p.accession as accession, p.proId as proId, p.sequence as sequence, s.description AS description\n",
    "ORDER BY protein\n",
    "\"\"\""
   ]
  },
  {
   "cell_type": "code",
   "execution_count": 7,
   "metadata": {},
   "outputs": [],
   "source": [
    "structures = graph.run(query, pathogen_taxonomy_id=pathogen_taxonomy_id).to_data_frame()"
   ]
  },
  {
   "cell_type": "code",
   "execution_count": 8,
   "metadata": {},
   "outputs": [],
   "source": [
    "proteins = structures[['protein', 'accession', 'proId', 'sequence']].drop_duplicates()"
   ]
  },
  {
   "cell_type": "code",
   "execution_count": 9,
   "metadata": {},
   "outputs": [
    {
     "data": {
      "text/html": [
       "<div>\n",
       "<style scoped>\n",
       "    .dataframe tbody tr th:only-of-type {\n",
       "        vertical-align: middle;\n",
       "    }\n",
       "\n",
       "    .dataframe tbody tr th {\n",
       "        vertical-align: top;\n",
       "    }\n",
       "\n",
       "    .dataframe thead th {\n",
       "        text-align: right;\n",
       "    }\n",
       "</style>\n",
       "<table border=\"1\" class=\"dataframe\">\n",
       "  <thead>\n",
       "    <tr style=\"text-align: right;\">\n",
       "      <th></th>\n",
       "      <th>protein</th>\n",
       "      <th>accession</th>\n",
       "      <th>proId</th>\n",
       "      <th>sequence</th>\n",
       "    </tr>\n",
       "  </thead>\n",
       "  <tbody>\n",
       "    <tr>\n",
       "      <th>0</th>\n",
       "      <td>2'-O-methyltransferase</td>\n",
       "      <td>uniprot:P0DTD1</td>\n",
       "      <td>uniprot.chain:PRO_0000449633</td>\n",
       "      <td>SSQAWQPGVAMPNLYKMQRMLLEKCDLQNYGDSATLPKGIMMNVAK...</td>\n",
       "    </tr>\n",
       "    <tr>\n",
       "      <th>26</th>\n",
       "      <td>3C-like proteinase</td>\n",
       "      <td>uniprot:P0DTC1</td>\n",
       "      <td>uniprot.chain:PRO_0000449639</td>\n",
       "      <td>SGFRKMAFPSGKVEGCMVQVTCGTTTLNGLWLDDVVYCPRHVICTS...</td>\n",
       "    </tr>\n",
       "    <tr>\n",
       "      <th>402</th>\n",
       "      <td>Envelope small membrane protein</td>\n",
       "      <td>uniprot:P0DTC4</td>\n",
       "      <td>uniprot.chain:PRO_0000449651</td>\n",
       "      <td>MYSFVSEETGTLIVNSVLLFLAFVVFLLVTLAILTALRLCAYCCNI...</td>\n",
       "    </tr>\n",
       "    <tr>\n",
       "      <th>407</th>\n",
       "      <td>Helicase</td>\n",
       "      <td>uniprot:P0DTD1</td>\n",
       "      <td>uniprot.chain:PRO_0000449630</td>\n",
       "      <td>AVGACVLCNSQTSLRCGACIRRPFLCCKCCYDHVISTSHKLVLSVN...</td>\n",
       "    </tr>\n",
       "    <tr>\n",
       "      <th>532</th>\n",
       "      <td>Host translation inhibitor nsp1</td>\n",
       "      <td>uniprot:P0DTC1</td>\n",
       "      <td>uniprot.chain:PRO_0000449635</td>\n",
       "      <td>MESLVPGFNEKTHVQLSLPVLQVRDVLVRGFGDSVEEVLSEARQHL...</td>\n",
       "    </tr>\n",
       "    <tr>\n",
       "      <th>534</th>\n",
       "      <td>Non-structural protein 10</td>\n",
       "      <td>uniprot:P0DTC1</td>\n",
       "      <td>uniprot.chain:PRO_0000449644</td>\n",
       "      <td>AGNATEVPANSTVLSFCAFAVDAAKAYKDYLASGGQPITNCVKMLC...</td>\n",
       "    </tr>\n",
       "    <tr>\n",
       "      <th>563</th>\n",
       "      <td>Non-structural protein 7</td>\n",
       "      <td>uniprot:P0DTC1</td>\n",
       "      <td>uniprot.chain:PRO_0000449641</td>\n",
       "      <td>SKMSDVKCTSVVLLSVLQQLRVESSSKLWAQCVQLHNDILLAKDTT...</td>\n",
       "    </tr>\n",
       "    <tr>\n",
       "      <th>602</th>\n",
       "      <td>Non-structural protein 8</td>\n",
       "      <td>uniprot:P0DTC1</td>\n",
       "      <td>uniprot.chain:PRO_0000449642</td>\n",
       "      <td>AIASEFSSLPSYAAFATAQEAYEQAVANGDSEVVLKKLKKSLNVAK...</td>\n",
       "    </tr>\n",
       "    <tr>\n",
       "      <th>656</th>\n",
       "      <td>Non-structural protein 9</td>\n",
       "      <td>uniprot:P0DTC1</td>\n",
       "      <td>uniprot.chain:PRO_0000449643</td>\n",
       "      <td>NNELSPVALRQMSCAAGTTQTACTDDNALAYYNTTKGGRFVLALLS...</td>\n",
       "    </tr>\n",
       "    <tr>\n",
       "      <th>664</th>\n",
       "      <td>Nucleoprotein</td>\n",
       "      <td>uniprot:P0DTC9</td>\n",
       "      <td>uniprot.chain:PRO_0000449656</td>\n",
       "      <td>MSDNGPQNQRNAPRITFGGPSDSTGSNQNGERSGARSKQRRPQGLP...</td>\n",
       "    </tr>\n",
       "    <tr>\n",
       "      <th>711</th>\n",
       "      <td>ORF3a protein</td>\n",
       "      <td>uniprot:P0DTC3</td>\n",
       "      <td>uniprot.chain:PRO_0000449650</td>\n",
       "      <td>MDLFMRIFTIGTVTLKQGEIKDATPSDFVRATATIPIQASLPFGWL...</td>\n",
       "    </tr>\n",
       "    <tr>\n",
       "      <th>715</th>\n",
       "      <td>ORF7a protein</td>\n",
       "      <td>uniprot:P0DTC7</td>\n",
       "      <td>None</td>\n",
       "      <td>MKIILFLALITLATCELYHYQECVRGTTVLLKEPCSSGTYEGNSPF...</td>\n",
       "    </tr>\n",
       "    <tr>\n",
       "      <th>716</th>\n",
       "      <td>ORF7a protein</td>\n",
       "      <td>uniprot:P0DTC7</td>\n",
       "      <td>uniprot.chain:PRO_0000449654</td>\n",
       "      <td>ELYHYQECVRGTTVLLKEPCSSGTYEGNSPFHPLADNKFALTCFST...</td>\n",
       "    </tr>\n",
       "    <tr>\n",
       "      <th>717</th>\n",
       "      <td>ORF8 protein</td>\n",
       "      <td>uniprot:P0DTC8</td>\n",
       "      <td>None</td>\n",
       "      <td>MKFLVFLGIITTVAAFHQECSLQSCTQHQPYVVDDPCPIHFYSKWY...</td>\n",
       "    </tr>\n",
       "    <tr>\n",
       "      <th>721</th>\n",
       "      <td>ORF8 protein</td>\n",
       "      <td>uniprot:P0DTC8</td>\n",
       "      <td>uniprot.chain:PRO_0000449655</td>\n",
       "      <td>FHQECSLQSCTQHQPYVVDDPCPIHFYSKWYIRVGARKSAPLIELC...</td>\n",
       "    </tr>\n",
       "    <tr>\n",
       "      <th>725</th>\n",
       "      <td>ORF9b protein</td>\n",
       "      <td>uniprot:P0DTD2</td>\n",
       "      <td>uniprot.chain:PRO_0000449657</td>\n",
       "      <td>MDPKISEMHPALRLVDPQIQLAVTRMENAVGRDQNNVGPKVYPIIL...</td>\n",
       "    </tr>\n",
       "    <tr>\n",
       "      <th>728</th>\n",
       "      <td>RNA-directed RNA polymerase</td>\n",
       "      <td>uniprot:P0DTD1</td>\n",
       "      <td>uniprot.chain:PRO_0000449629</td>\n",
       "      <td>SADAQSFLNRVCGVSAARLTPCGTGTSTDVVYRAFDIYNDKVAGFA...</td>\n",
       "    </tr>\n",
       "    <tr>\n",
       "      <th>751</th>\n",
       "      <td>Spike glycoprotein</td>\n",
       "      <td>uniprot:P0DTC2</td>\n",
       "      <td>None</td>\n",
       "      <td>MFVFLVLLPLVSSQCVNLTTRTQLPPAYTNSFTRGVYYPDKVFRSS...</td>\n",
       "    </tr>\n",
       "    <tr>\n",
       "      <th>1467</th>\n",
       "      <td>Spike glycoprotein</td>\n",
       "      <td>uniprot:P0DTC2</td>\n",
       "      <td>uniprot.chain:PRO_0000449646</td>\n",
       "      <td>SQCVNLTTRTQLPPAYTNSFTRGVYYPDKVFRSSVLHSTQDLFLPF...</td>\n",
       "    </tr>\n",
       "    <tr>\n",
       "      <th>2183</th>\n",
       "      <td>Spike protein S1</td>\n",
       "      <td>uniprot:P0DTC2</td>\n",
       "      <td>uniprot.chain:PRO_0000449647</td>\n",
       "      <td>SQCVNLTTRTQLPPAYTNSFTRGVYYPDKVFRSSVLHSTQDLFLPF...</td>\n",
       "    </tr>\n",
       "    <tr>\n",
       "      <th>2346</th>\n",
       "      <td>Spike protein S2</td>\n",
       "      <td>uniprot:P0DTC2</td>\n",
       "      <td>uniprot.chain:PRO_0000449648</td>\n",
       "      <td>SVASQSIIAYTMSLGAENSVAYSNNSIAIPTNFTISVTTEILPVSM...</td>\n",
       "    </tr>\n",
       "    <tr>\n",
       "      <th>2350</th>\n",
       "      <td>Spike protein S2'</td>\n",
       "      <td>uniprot:P0DTC2</td>\n",
       "      <td>uniprot.chain:PRO_0000449649</td>\n",
       "      <td>SFIEDLLFNKVTLADAGFIKQYGDCLGDIAARDLICAQKFNGLTVL...</td>\n",
       "    </tr>\n",
       "    <tr>\n",
       "      <th>2356</th>\n",
       "      <td>Uridylate-specific endoribonuclease</td>\n",
       "      <td>uniprot:P0DTD1</td>\n",
       "      <td>uniprot.chain:PRO_0000449632</td>\n",
       "      <td>SLENVAFNVVNKGHFDGQQGEVPVSIINNTVYTKVDGVDVELFENK...</td>\n",
       "    </tr>\n",
       "  </tbody>\n",
       "</table>\n",
       "</div>"
      ],
      "text/plain": [
       "                                  protein       accession  \\\n",
       "0                  2'-O-methyltransferase  uniprot:P0DTD1   \n",
       "26                     3C-like proteinase  uniprot:P0DTC1   \n",
       "402       Envelope small membrane protein  uniprot:P0DTC4   \n",
       "407                              Helicase  uniprot:P0DTD1   \n",
       "532       Host translation inhibitor nsp1  uniprot:P0DTC1   \n",
       "534             Non-structural protein 10  uniprot:P0DTC1   \n",
       "563              Non-structural protein 7  uniprot:P0DTC1   \n",
       "602              Non-structural protein 8  uniprot:P0DTC1   \n",
       "656              Non-structural protein 9  uniprot:P0DTC1   \n",
       "664                         Nucleoprotein  uniprot:P0DTC9   \n",
       "711                         ORF3a protein  uniprot:P0DTC3   \n",
       "715                         ORF7a protein  uniprot:P0DTC7   \n",
       "716                         ORF7a protein  uniprot:P0DTC7   \n",
       "717                          ORF8 protein  uniprot:P0DTC8   \n",
       "721                          ORF8 protein  uniprot:P0DTC8   \n",
       "725                         ORF9b protein  uniprot:P0DTD2   \n",
       "728           RNA-directed RNA polymerase  uniprot:P0DTD1   \n",
       "751                    Spike glycoprotein  uniprot:P0DTC2   \n",
       "1467                   Spike glycoprotein  uniprot:P0DTC2   \n",
       "2183                     Spike protein S1  uniprot:P0DTC2   \n",
       "2346                     Spike protein S2  uniprot:P0DTC2   \n",
       "2350                    Spike protein S2'  uniprot:P0DTC2   \n",
       "2356  Uridylate-specific endoribonuclease  uniprot:P0DTD1   \n",
       "\n",
       "                             proId  \\\n",
       "0     uniprot.chain:PRO_0000449633   \n",
       "26    uniprot.chain:PRO_0000449639   \n",
       "402   uniprot.chain:PRO_0000449651   \n",
       "407   uniprot.chain:PRO_0000449630   \n",
       "532   uniprot.chain:PRO_0000449635   \n",
       "534   uniprot.chain:PRO_0000449644   \n",
       "563   uniprot.chain:PRO_0000449641   \n",
       "602   uniprot.chain:PRO_0000449642   \n",
       "656   uniprot.chain:PRO_0000449643   \n",
       "664   uniprot.chain:PRO_0000449656   \n",
       "711   uniprot.chain:PRO_0000449650   \n",
       "715                           None   \n",
       "716   uniprot.chain:PRO_0000449654   \n",
       "717                           None   \n",
       "721   uniprot.chain:PRO_0000449655   \n",
       "725   uniprot.chain:PRO_0000449657   \n",
       "728   uniprot.chain:PRO_0000449629   \n",
       "751                           None   \n",
       "1467  uniprot.chain:PRO_0000449646   \n",
       "2183  uniprot.chain:PRO_0000449647   \n",
       "2346  uniprot.chain:PRO_0000449648   \n",
       "2350  uniprot.chain:PRO_0000449649   \n",
       "2356  uniprot.chain:PRO_0000449632   \n",
       "\n",
       "                                               sequence  \n",
       "0     SSQAWQPGVAMPNLYKMQRMLLEKCDLQNYGDSATLPKGIMMNVAK...  \n",
       "26    SGFRKMAFPSGKVEGCMVQVTCGTTTLNGLWLDDVVYCPRHVICTS...  \n",
       "402   MYSFVSEETGTLIVNSVLLFLAFVVFLLVTLAILTALRLCAYCCNI...  \n",
       "407   AVGACVLCNSQTSLRCGACIRRPFLCCKCCYDHVISTSHKLVLSVN...  \n",
       "532   MESLVPGFNEKTHVQLSLPVLQVRDVLVRGFGDSVEEVLSEARQHL...  \n",
       "534   AGNATEVPANSTVLSFCAFAVDAAKAYKDYLASGGQPITNCVKMLC...  \n",
       "563   SKMSDVKCTSVVLLSVLQQLRVESSSKLWAQCVQLHNDILLAKDTT...  \n",
       "602   AIASEFSSLPSYAAFATAQEAYEQAVANGDSEVVLKKLKKSLNVAK...  \n",
       "656   NNELSPVALRQMSCAAGTTQTACTDDNALAYYNTTKGGRFVLALLS...  \n",
       "664   MSDNGPQNQRNAPRITFGGPSDSTGSNQNGERSGARSKQRRPQGLP...  \n",
       "711   MDLFMRIFTIGTVTLKQGEIKDATPSDFVRATATIPIQASLPFGWL...  \n",
       "715   MKIILFLALITLATCELYHYQECVRGTTVLLKEPCSSGTYEGNSPF...  \n",
       "716   ELYHYQECVRGTTVLLKEPCSSGTYEGNSPFHPLADNKFALTCFST...  \n",
       "717   MKFLVFLGIITTVAAFHQECSLQSCTQHQPYVVDDPCPIHFYSKWY...  \n",
       "721   FHQECSLQSCTQHQPYVVDDPCPIHFYSKWYIRVGARKSAPLIELC...  \n",
       "725   MDPKISEMHPALRLVDPQIQLAVTRMENAVGRDQNNVGPKVYPIIL...  \n",
       "728   SADAQSFLNRVCGVSAARLTPCGTGTSTDVVYRAFDIYNDKVAGFA...  \n",
       "751   MFVFLVLLPLVSSQCVNLTTRTQLPPAYTNSFTRGVYYPDKVFRSS...  \n",
       "1467  SQCVNLTTRTQLPPAYTNSFTRGVYYPDKVFRSSVLHSTQDLFLPF...  \n",
       "2183  SQCVNLTTRTQLPPAYTNSFTRGVYYPDKVFRSSVLHSTQDLFLPF...  \n",
       "2346  SVASQSIIAYTMSLGAENSVAYSNNSIAIPTNFTISVTTEILPVSM...  \n",
       "2350  SFIEDLLFNKVTLADAGFIKQYGDCLGDIAARDLICAQKFNGLTVL...  \n",
       "2356  SLENVAFNVVNKGHFDGQQGEVPVSIINNTVYTKVDGVDVELFENK...  "
      ]
     },
     "execution_count": 9,
     "metadata": {},
     "output_type": "execute_result"
    }
   ],
   "source": [
    "proteins.head(50)"
   ]
  },
  {
   "cell_type": "code",
   "execution_count": 10,
   "metadata": {},
   "outputs": [],
   "source": [
    "protein_list = structures['protein'].unique()"
   ]
  },
  {
   "cell_type": "code",
   "execution_count": 11,
   "metadata": {},
   "outputs": [],
   "source": [
    "protein_widget = widgets.Dropdown(options=protein_list, description='Select protein:', value='Spike glycoprotein',\n",
    "                                  style={'description_width': 'initial'}, )"
   ]
  },
  {
   "cell_type": "markdown",
   "metadata": {},
   "source": [
    "### Select SARS-CoV-2 Protein"
   ]
  },
  {
   "cell_type": "code",
   "execution_count": 12,
   "metadata": {},
   "outputs": [
    {
     "data": {
      "application/vnd.jupyter.widget-view+json": {
       "model_id": "7f951d0caeeb476aa70201e20da77022",
       "version_major": 2,
       "version_minor": 0
      },
      "text/plain": [
       "Dropdown(description='Select protein:', index=15, options=(\"2'-O-methyltransferase\", '3C-like proteinase', 'En…"
      ]
     },
     "metadata": {},
     "output_type": "display_data"
    }
   ],
   "source": [
    "display(protein_widget)"
   ]
  },
  {
   "cell_type": "code",
   "execution_count": 13,
   "metadata": {},
   "outputs": [
    {
     "name": "stdout",
     "output_type": "stream",
     "text": [
      "Protein name: Spike glycoprotein\n"
     ]
    }
   ],
   "source": [
    "protein_name = protein_widget.value\n",
    "print('Protein name:', protein_name)"
   ]
  },
  {
   "cell_type": "code",
   "execution_count": 14,
   "metadata": {},
   "outputs": [],
   "source": [
    "subset = structures.query(f'protein == \"{protein_name}\"').copy()\n",
    "subset.fillna('', inplace=True)"
   ]
  },
  {
   "cell_type": "code",
   "execution_count": 15,
   "metadata": {},
   "outputs": [
    {
     "data": {
      "text/html": [
       "<div>\n",
       "<style scoped>\n",
       "    .dataframe tbody tr th:only-of-type {\n",
       "        vertical-align: middle;\n",
       "    }\n",
       "\n",
       "    .dataframe tbody tr th {\n",
       "        vertical-align: top;\n",
       "    }\n",
       "\n",
       "    .dataframe thead th {\n",
       "        text-align: right;\n",
       "    }\n",
       "</style>\n",
       "<table border=\"1\" class=\"dataframe\">\n",
       "  <thead>\n",
       "    <tr style=\"text-align: right;\">\n",
       "      <th></th>\n",
       "      <th>accession</th>\n",
       "      <th>description</th>\n",
       "      <th>proId</th>\n",
       "      <th>protein</th>\n",
       "      <th>sequence</th>\n",
       "    </tr>\n",
       "  </thead>\n",
       "  <tbody>\n",
       "    <tr>\n",
       "      <th>751</th>\n",
       "      <td>uniprot:P0DTC2</td>\n",
       "      <td>Spike glycoprotein, 2-acetamido-2-deoxy-beta-D...</td>\n",
       "      <td></td>\n",
       "      <td>Spike glycoprotein</td>\n",
       "      <td>MFVFLVLLPLVSSQCVNLTTRTQLPPAYTNSFTRGVYYPDKVFRSS...</td>\n",
       "    </tr>\n",
       "    <tr>\n",
       "      <th>752</th>\n",
       "      <td>uniprot:P0DTC2</td>\n",
       "      <td>Spike glycoprotein, P008_056 Fab Heavy chain, ...</td>\n",
       "      <td></td>\n",
       "      <td>Spike glycoprotein</td>\n",
       "      <td>MFVFLVLLPLVSSQCVNLTTRTQLPPAYTNSFTRGVYYPDKVFRSS...</td>\n",
       "    </tr>\n",
       "    <tr>\n",
       "      <th>753</th>\n",
       "      <td>uniprot:P0DTC2</td>\n",
       "      <td>Spike glycoprotein, 2-acetamido-2-deoxy-beta-D...</td>\n",
       "      <td></td>\n",
       "      <td>Spike glycoprotein</td>\n",
       "      <td>MFVFLVLLPLVSSQCVNLTTRTQLPPAYTNSFTRGVYYPDKVFRSS...</td>\n",
       "    </tr>\n",
       "    <tr>\n",
       "      <th>754</th>\n",
       "      <td>uniprot:P0DTC2</td>\n",
       "      <td>Spike glycoprotein, P008_056 Fab Heavy chain, ...</td>\n",
       "      <td></td>\n",
       "      <td>Spike glycoprotein</td>\n",
       "      <td>MFVFLVLLPLVSSQCVNLTTRTQLPPAYTNSFTRGVYYPDKVFRSS...</td>\n",
       "    </tr>\n",
       "    <tr>\n",
       "      <th>755</th>\n",
       "      <td>uniprot:P0DTC2</td>\n",
       "      <td>Spike glycoprotein, P008_056 Fab Heavy chain, ...</td>\n",
       "      <td></td>\n",
       "      <td>Spike glycoprotein</td>\n",
       "      <td>MFVFLVLLPLVSSQCVNLTTRTQLPPAYTNSFTRGVYYPDKVFRSS...</td>\n",
       "    </tr>\n",
       "  </tbody>\n",
       "</table>\n",
       "</div>"
      ],
      "text/plain": [
       "          accession                                        description proId  \\\n",
       "751  uniprot:P0DTC2  Spike glycoprotein, 2-acetamido-2-deoxy-beta-D...         \n",
       "752  uniprot:P0DTC2  Spike glycoprotein, P008_056 Fab Heavy chain, ...         \n",
       "753  uniprot:P0DTC2  Spike glycoprotein, 2-acetamido-2-deoxy-beta-D...         \n",
       "754  uniprot:P0DTC2  Spike glycoprotein, P008_056 Fab Heavy chain, ...         \n",
       "755  uniprot:P0DTC2  Spike glycoprotein, P008_056 Fab Heavy chain, ...         \n",
       "\n",
       "                protein                                           sequence  \n",
       "751  Spike glycoprotein  MFVFLVLLPLVSSQCVNLTTRTQLPPAYTNSFTRGVYYPDKVFRSS...  \n",
       "752  Spike glycoprotein  MFVFLVLLPLVSSQCVNLTTRTQLPPAYTNSFTRGVYYPDKVFRSS...  \n",
       "753  Spike glycoprotein  MFVFLVLLPLVSSQCVNLTTRTQLPPAYTNSFTRGVYYPDKVFRSS...  \n",
       "754  Spike glycoprotein  MFVFLVLLPLVSSQCVNLTTRTQLPPAYTNSFTRGVYYPDKVFRSS...  \n",
       "755  Spike glycoprotein  MFVFLVLLPLVSSQCVNLTTRTQLPPAYTNSFTRGVYYPDKVFRSS...  "
      ]
     },
     "execution_count": 15,
     "metadata": {},
     "output_type": "execute_result"
    }
   ],
   "source": [
    "subset.head()"
   ]
  },
  {
   "cell_type": "markdown",
   "metadata": {},
   "source": [
    "### Get total number of strains"
   ]
  },
  {
   "cell_type": "code",
   "execution_count": 16,
   "metadata": {},
   "outputs": [],
   "source": [
    "query = \"\"\"\n",
    "MATCH (s:Strain)\n",
    "WHERE s.taxonomyId = $pathogen_taxonomy_id AND s.hostTaxonomyId = $host_taxonomy_id\n",
    "RETURN count(s)\n",
    "\"\"\""
   ]
  },
  {
   "cell_type": "code",
   "execution_count": 17,
   "metadata": {},
   "outputs": [],
   "source": [
    "strains = graph.evaluate(query, pathogen_taxonomy_id=pathogen_taxonomy_id, \n",
    "                         host_taxonomy_id=host_taxonomy_id)"
   ]
  },
  {
   "cell_type": "code",
   "execution_count": 18,
   "metadata": {},
   "outputs": [
    {
     "name": "stdout",
     "output_type": "stream",
     "text": [
      "Total number of human strains: 912224\n"
     ]
    }
   ],
   "source": [
    "print('Total number of human strains:', strains)"
   ]
  },
  {
   "cell_type": "markdown",
   "metadata": {},
   "source": [
    "### Get variants for selected protein"
   ]
  },
  {
   "cell_type": "code",
   "execution_count": 19,
   "metadata": {},
   "outputs": [],
   "source": [
    "query = \"\"\"\n",
    "MATCH (p:Protein{reviewed: True})-[:HAS_VARIANT]->(v:Variant{variantConsequence:'missense_variant'})<-[:HAS_VARIANT]-(s:Strain)\n",
    "WHERE p.name = $protein_name AND p.taxonomyId = $pathogen_taxonomy_id AND s.hostTaxonomyId = $host_taxonomy_id\n",
    "WITH v.proteinPosition AS residue, count(v.proteinVariant) AS count, \n",
    "     v.proteinVariant + '(' + count(v.proteinVariant) + ')' AS variationId ,\n",
    "     split(v.proteinVariant, ':')[1] + '(' + count(v.proteinVariant) + ')' AS annotation\n",
    "     ORDER by count DESC\n",
    "WITH residue, count, variationId, annotation\n",
    "RETURN residue, collect(variationId) AS variationId, collect(annotation) AS annotation, sum(count) AS count ORDER BY residue\n",
    "\"\"\""
   ]
  },
  {
   "cell_type": "markdown",
   "metadata": {},
   "source": [
    "### Add mutation annotation to each residue"
   ]
  },
  {
   "cell_type": "code",
   "execution_count": 20,
   "metadata": {},
   "outputs": [],
   "source": [
    "variants = graph.run(query, protein_name=protein_name, pathogen_taxonomy_id=pathogen_taxonomy_id, \n",
    "                     host_taxonomy_id=host_taxonomy_id).to_data_frame()"
   ]
  },
  {
   "cell_type": "code",
   "execution_count": 21,
   "metadata": {},
   "outputs": [
    {
     "data": {
      "text/plain": [
       "(1199, 4)"
      ]
     },
     "execution_count": 21,
     "metadata": {},
     "output_type": "execute_result"
    }
   ],
   "source": [
    "variants.shape"
   ]
  },
  {
   "cell_type": "code",
   "execution_count": 22,
   "metadata": {},
   "outputs": [
    {
     "data": {
      "text/html": [
       "<div>\n",
       "<style scoped>\n",
       "    .dataframe tbody tr th:only-of-type {\n",
       "        vertical-align: middle;\n",
       "    }\n",
       "\n",
       "    .dataframe tbody tr th {\n",
       "        vertical-align: top;\n",
       "    }\n",
       "\n",
       "    .dataframe thead th {\n",
       "        text-align: right;\n",
       "    }\n",
       "</style>\n",
       "<table border=\"1\" class=\"dataframe\">\n",
       "  <thead>\n",
       "    <tr style=\"text-align: right;\">\n",
       "      <th></th>\n",
       "      <th>annotation</th>\n",
       "      <th>count</th>\n",
       "      <th>residue</th>\n",
       "      <th>variationId</th>\n",
       "    </tr>\n",
       "  </thead>\n",
       "  <tbody>\n",
       "    <tr>\n",
       "      <th>0</th>\n",
       "      <td>[p.2F&gt;L(67), p.2F&gt;V(9), p.2F&gt;S(4), p.2F&gt;Y(2)]</td>\n",
       "      <td>82</td>\n",
       "      <td>2</td>\n",
       "      <td>[S:p.2F&gt;L(67), S:p.2F&gt;V(9), S:p.2F&gt;S(4), QHD43...</td>\n",
       "    </tr>\n",
       "    <tr>\n",
       "      <th>1</th>\n",
       "      <td>[p.3V&gt;G(389), p.3V&gt;I(18), p.3V&gt;F(7)]</td>\n",
       "      <td>414</td>\n",
       "      <td>3</td>\n",
       "      <td>[S:p.3V&gt;G(389), S:p.3V&gt;I(18), S:p.3V&gt;F(7)]</td>\n",
       "    </tr>\n",
       "    <tr>\n",
       "      <th>2</th>\n",
       "      <td>[p.4F&gt;S(6), p.4F&gt;L(5), p.4F&gt;I(1)]</td>\n",
       "      <td>12</td>\n",
       "      <td>4</td>\n",
       "      <td>[S:p.4F&gt;S(6), S:p.4F&gt;L(5), S:p.4F&gt;I(1)]</td>\n",
       "    </tr>\n",
       "    <tr>\n",
       "      <th>3</th>\n",
       "      <td>[p.5L&gt;F(13770), p.5L&gt;I(4), p.5L&gt;V(4)]</td>\n",
       "      <td>13778</td>\n",
       "      <td>5</td>\n",
       "      <td>[S:p.5L&gt;F(13770), S:p.5L&gt;I(4), S:p.5L&gt;V(4)]</td>\n",
       "    </tr>\n",
       "    <tr>\n",
       "      <th>4</th>\n",
       "      <td>[p.6V&gt;A(367), p.6V&gt;F(314), p.6V&gt;I(41), p.6V&gt;L(...</td>\n",
       "      <td>728</td>\n",
       "      <td>6</td>\n",
       "      <td>[S:p.6V&gt;A(367), S:p.6V&gt;F(314), S:p.6V&gt;I(41), S...</td>\n",
       "    </tr>\n",
       "  </tbody>\n",
       "</table>\n",
       "</div>"
      ],
      "text/plain": [
       "                                          annotation  count  residue  \\\n",
       "0      [p.2F>L(67), p.2F>V(9), p.2F>S(4), p.2F>Y(2)]     82        2   \n",
       "1               [p.3V>G(389), p.3V>I(18), p.3V>F(7)]    414        3   \n",
       "2                  [p.4F>S(6), p.4F>L(5), p.4F>I(1)]     12        4   \n",
       "3              [p.5L>F(13770), p.5L>I(4), p.5L>V(4)]  13778        5   \n",
       "4  [p.6V>A(367), p.6V>F(314), p.6V>I(41), p.6V>L(...    728        6   \n",
       "\n",
       "                                         variationId  \n",
       "0  [S:p.2F>L(67), S:p.2F>V(9), S:p.2F>S(4), QHD43...  \n",
       "1         [S:p.3V>G(389), S:p.3V>I(18), S:p.3V>F(7)]  \n",
       "2            [S:p.4F>S(6), S:p.4F>L(5), S:p.4F>I(1)]  \n",
       "3        [S:p.5L>F(13770), S:p.5L>I(4), S:p.5L>V(4)]  \n",
       "4  [S:p.6V>A(367), S:p.6V>F(314), S:p.6V>I(41), S...  "
      ]
     },
     "execution_count": 22,
     "metadata": {},
     "output_type": "execute_result"
    }
   ],
   "source": [
    "variants.head()"
   ]
  },
  {
   "cell_type": "code",
   "execution_count": 23,
   "metadata": {},
   "outputs": [],
   "source": [
    "variants.sort_values('count', ascending=False, inplace=True)"
   ]
  },
  {
   "cell_type": "code",
   "execution_count": 24,
   "metadata": {},
   "outputs": [],
   "source": [
    "variants['variationId'] = variants['variationId'].apply(lambda x: ', '.join(x))\n",
    "variants['annotation'] = variants['annotation'].apply(lambda x: ', '.join(x))"
   ]
  },
  {
   "cell_type": "code",
   "execution_count": 25,
   "metadata": {},
   "outputs": [],
   "source": [
    "variants['annotation'] = variants['annotation'].str.replace('p.', '')"
   ]
  },
  {
   "cell_type": "markdown",
   "metadata": {},
   "source": [
    "Create a color scale based on the log mutation frequency"
   ]
  },
  {
   "cell_type": "code",
   "execution_count": 26,
   "metadata": {},
   "outputs": [],
   "source": [
    "total = variants['count'].sum()\n",
    "variants['scale'] = variants['count'].apply(np.log10) / math.log10(total)"
   ]
  },
  {
   "cell_type": "code",
   "execution_count": 27,
   "metadata": {},
   "outputs": [],
   "source": [
    "n_colors = 100\n",
    "colors = cm.Reds(np.linspace(0.0, 1.0, n_colors))\n",
    "col = np.empty(n_colors, dtype=object)\n",
    "\n",
    "for i, color in enumerate(colors):\n",
    "    col[i] = matplotlib.colors.rgb2hex(color)"
   ]
  },
  {
   "cell_type": "code",
   "execution_count": 28,
   "metadata": {},
   "outputs": [],
   "source": [
    "variants['color'] = variants['scale'].apply(lambda x: col[round(x*n_colors)])"
   ]
  },
  {
   "cell_type": "code",
   "execution_count": 29,
   "metadata": {},
   "outputs": [
    {
     "data": {
      "text/html": [
       "<div>\n",
       "<style scoped>\n",
       "    .dataframe tbody tr th:only-of-type {\n",
       "        vertical-align: middle;\n",
       "    }\n",
       "\n",
       "    .dataframe tbody tr th {\n",
       "        vertical-align: top;\n",
       "    }\n",
       "\n",
       "    .dataframe thead th {\n",
       "        text-align: right;\n",
       "    }\n",
       "</style>\n",
       "<table border=\"1\" class=\"dataframe\">\n",
       "  <thead>\n",
       "    <tr style=\"text-align: right;\">\n",
       "      <th></th>\n",
       "      <th>annotation</th>\n",
       "      <th>count</th>\n",
       "      <th>residue</th>\n",
       "      <th>variationId</th>\n",
       "      <th>scale</th>\n",
       "      <th>color</th>\n",
       "    </tr>\n",
       "  </thead>\n",
       "  <tbody>\n",
       "    <tr>\n",
       "      <th>577</th>\n",
       "      <td>614D&gt;G(1153554), 614D&gt;N(162), 614D&gt;A(18)</td>\n",
       "      <td>1153734</td>\n",
       "      <td>614</td>\n",
       "      <td>S:p.614D&gt;G(1153554), S:p.614D&gt;N(162), S:p.614D...</td>\n",
       "      <td>0.914755</td>\n",
       "      <td>#8e0912</td>\n",
       "    </tr>\n",
       "    <tr>\n",
       "      <th>638</th>\n",
       "      <td>681P&gt;H(363478), 681P&gt;R(2312), 681P&gt;L(464), 681...</td>\n",
       "      <td>366328</td>\n",
       "      <td>681</td>\n",
       "      <td>S:p.681P&gt;H(363478), S:p.681P&gt;R(2312), S:p.681P...</td>\n",
       "      <td>0.839573</td>\n",
       "      <td>#ac1117</td>\n",
       "    </tr>\n",
       "    <tr>\n",
       "      <th>474</th>\n",
       "      <td>501N&gt;Y(350436), 501N&gt;T(2846), 501N&gt;S(24), 501N...</td>\n",
       "      <td>353324</td>\n",
       "      <td>501</td>\n",
       "      <td>S:p.501N&gt;Y(350436), S:p.501N&gt;T(2846), S:p.501N...</td>\n",
       "      <td>0.837204</td>\n",
       "      <td>#ac1117</td>\n",
       "    </tr>\n",
       "    <tr>\n",
       "      <th>672</th>\n",
       "      <td>716T&gt;I(345552), 716T&gt;A(58), 716T&gt;K(2), 716T&gt;S(2)</td>\n",
       "      <td>345614</td>\n",
       "      <td>716</td>\n",
       "      <td>S:p.716T&gt;I(345552), S:p.716T&gt;A(58), S:p.716T&gt;K...</td>\n",
       "      <td>0.835758</td>\n",
       "      <td>#ac1117</td>\n",
       "    </tr>\n",
       "    <tr>\n",
       "      <th>1046</th>\n",
       "      <td>1118D&gt;H(343072), 1118D&gt;Y(698), 1118D&gt;V(30), 11...</td>\n",
       "      <td>343824</td>\n",
       "      <td>1118</td>\n",
       "      <td>S:p.1118D&gt;H(343072), S:p.1118D&gt;Y(698), QHD4341...</td>\n",
       "      <td>0.835418</td>\n",
       "      <td>#ac1117</td>\n",
       "    </tr>\n",
       "  </tbody>\n",
       "</table>\n",
       "</div>"
      ],
      "text/plain": [
       "                                             annotation    count  residue  \\\n",
       "577            614D>G(1153554), 614D>N(162), 614D>A(18)  1153734      614   \n",
       "638   681P>H(363478), 681P>R(2312), 681P>L(464), 681...   366328      681   \n",
       "474   501N>Y(350436), 501N>T(2846), 501N>S(24), 501N...   353324      501   \n",
       "672    716T>I(345552), 716T>A(58), 716T>K(2), 716T>S(2)   345614      716   \n",
       "1046  1118D>H(343072), 1118D>Y(698), 1118D>V(30), 11...   343824     1118   \n",
       "\n",
       "                                            variationId     scale    color  \n",
       "577   S:p.614D>G(1153554), S:p.614D>N(162), S:p.614D...  0.914755  #8e0912  \n",
       "638   S:p.681P>H(363478), S:p.681P>R(2312), S:p.681P...  0.839573  #ac1117  \n",
       "474   S:p.501N>Y(350436), S:p.501N>T(2846), S:p.501N...  0.837204  #ac1117  \n",
       "672   S:p.716T>I(345552), S:p.716T>A(58), S:p.716T>K...  0.835758  #ac1117  \n",
       "1046  S:p.1118D>H(343072), S:p.1118D>Y(698), QHD4341...  0.835418  #ac1117  "
      ]
     },
     "execution_count": 29,
     "metadata": {},
     "output_type": "execute_result"
    }
   ],
   "source": [
    "variants.head()"
   ]
  },
  {
   "cell_type": "markdown",
   "metadata": {},
   "source": [
    "### Get 3D structure for selected protein"
   ]
  },
  {
   "cell_type": "code",
   "execution_count": 30,
   "metadata": {},
   "outputs": [],
   "source": [
    "# some Electron microscopy structures are of low resolution. Keep only high and medium resolution structures (0 - 4 Å).\n",
    "resolution_threshold = 3.9"
   ]
  },
  {
   "cell_type": "code",
   "execution_count": 31,
   "metadata": {},
   "outputs": [],
   "source": [
    "query = \"\"\"\n",
    "MATCH (g:Gene)-[:ENCODES]->(p:Protein{name: $protein_name, taxonomyId: $pathogen_taxonomy_id})-[h:HAS_TERTIARY_STRUCTURE]->(c:Chain)-[:IS_PART_OF_STRUCTURE]->(s:Structure)\n",
    "WHERE s.resolution <= $resolution_threshold\n",
    "RETURN p.name AS name, p.start, p.end, c.name AS structureChainId, c.uniprotStart, c.uniprotEnd, c.pdbStart, c.pdbEnd, s.resolution AS resolution, s.description AS description, h.coverage AS coverage\n",
    "ORDER BY resolution, coverage DESC\n",
    "\"\"\""
   ]
  },
  {
   "cell_type": "code",
   "execution_count": 32,
   "metadata": {},
   "outputs": [],
   "source": [
    "chains = graph.run(query, protein_name=protein_name, pathogen_taxonomy_id=pathogen_taxonomy_id, \n",
    "                   resolution_threshold=resolution_threshold).to_data_frame()"
   ]
  },
  {
   "cell_type": "code",
   "execution_count": 33,
   "metadata": {},
   "outputs": [],
   "source": [
    "chains['structureChainId'] = chains['structureChainId'].str[4:]"
   ]
  },
  {
   "cell_type": "code",
   "execution_count": 34,
   "metadata": {},
   "outputs": [],
   "source": [
    "chains['structureId'] = chains['structureChainId'].str[:4]"
   ]
  },
  {
   "cell_type": "code",
   "execution_count": 35,
   "metadata": {},
   "outputs": [
    {
     "data": {
      "text/html": [
       "<div>\n",
       "<style scoped>\n",
       "    .dataframe tbody tr th:only-of-type {\n",
       "        vertical-align: middle;\n",
       "    }\n",
       "\n",
       "    .dataframe tbody tr th {\n",
       "        vertical-align: top;\n",
       "    }\n",
       "\n",
       "    .dataframe thead th {\n",
       "        text-align: right;\n",
       "    }\n",
       "</style>\n",
       "<table border=\"1\" class=\"dataframe\">\n",
       "  <thead>\n",
       "    <tr style=\"text-align: right;\">\n",
       "      <th></th>\n",
       "      <th>c.pdbEnd</th>\n",
       "      <th>c.pdbStart</th>\n",
       "      <th>c.uniprotEnd</th>\n",
       "      <th>c.uniprotStart</th>\n",
       "      <th>coverage</th>\n",
       "      <th>description</th>\n",
       "      <th>name</th>\n",
       "      <th>p.end</th>\n",
       "      <th>p.start</th>\n",
       "      <th>resolution</th>\n",
       "      <th>structureChainId</th>\n",
       "      <th>structureId</th>\n",
       "    </tr>\n",
       "  </thead>\n",
       "  <tbody>\n",
       "    <tr>\n",
       "      <th>757</th>\n",
       "      <td>[526]</td>\n",
       "      <td>[333]</td>\n",
       "      <td>[526]</td>\n",
       "      <td>[333]</td>\n",
       "      <td>0.152396</td>\n",
       "      <td>Spike protein S1, REGN10933 antibody Fab fragm...</td>\n",
       "      <td>Spike glycoprotein</td>\n",
       "      <td>1273</td>\n",
       "      <td>1</td>\n",
       "      <td>3.9</td>\n",
       "      <td>6XDG.E</td>\n",
       "      <td>6XDG</td>\n",
       "    </tr>\n",
       "  </tbody>\n",
       "</table>\n",
       "</div>"
      ],
      "text/plain": [
       "    c.pdbEnd c.pdbStart c.uniprotEnd c.uniprotStart  coverage  \\\n",
       "757    [526]      [333]        [526]          [333]  0.152396   \n",
       "\n",
       "                                           description                name  \\\n",
       "757  Spike protein S1, REGN10933 antibody Fab fragm...  Spike glycoprotein   \n",
       "\n",
       "     p.end  p.start  resolution structureChainId structureId  \n",
       "757   1273        1         3.9           6XDG.E        6XDG  "
      ]
     },
     "execution_count": 35,
     "metadata": {},
     "output_type": "execute_result"
    }
   ],
   "source": [
    "chains.query('structureId == \"6XDG\"')"
   ]
  },
  {
   "cell_type": "code",
   "execution_count": 36,
   "metadata": {},
   "outputs": [],
   "source": [
    "if with_antibodies:\n",
    "    chains = chains[chains['description'].str.contains('heavy') | \n",
    "                    chains['description'].str.contains('antibody') |\n",
    "                    chains['description'].str.contains('nanobody') |\n",
    "                    chains['description'].str.contains('Fab')]"
   ]
  },
  {
   "cell_type": "code",
   "execution_count": 37,
   "metadata": {},
   "outputs": [
    {
     "data": {
      "text/html": [
       "<div>\n",
       "<style scoped>\n",
       "    .dataframe tbody tr th:only-of-type {\n",
       "        vertical-align: middle;\n",
       "    }\n",
       "\n",
       "    .dataframe tbody tr th {\n",
       "        vertical-align: top;\n",
       "    }\n",
       "\n",
       "    .dataframe thead th {\n",
       "        text-align: right;\n",
       "    }\n",
       "</style>\n",
       "<table border=\"1\" class=\"dataframe\">\n",
       "  <thead>\n",
       "    <tr style=\"text-align: right;\">\n",
       "      <th></th>\n",
       "      <th>c.pdbEnd</th>\n",
       "      <th>c.pdbStart</th>\n",
       "      <th>c.uniprotEnd</th>\n",
       "      <th>c.uniprotStart</th>\n",
       "      <th>coverage</th>\n",
       "      <th>description</th>\n",
       "      <th>name</th>\n",
       "      <th>p.end</th>\n",
       "      <th>p.start</th>\n",
       "      <th>resolution</th>\n",
       "      <th>structureChainId</th>\n",
       "      <th>structureId</th>\n",
       "    </tr>\n",
       "  </thead>\n",
       "  <tbody>\n",
       "    <tr>\n",
       "      <th>757</th>\n",
       "      <td>[526]</td>\n",
       "      <td>[333]</td>\n",
       "      <td>[526]</td>\n",
       "      <td>[333]</td>\n",
       "      <td>0.152396</td>\n",
       "      <td>Spike protein S1, REGN10933 antibody Fab fragm...</td>\n",
       "      <td>Spike glycoprotein</td>\n",
       "      <td>1273</td>\n",
       "      <td>1</td>\n",
       "      <td>3.9</td>\n",
       "      <td>6XDG.E</td>\n",
       "      <td>6XDG</td>\n",
       "    </tr>\n",
       "  </tbody>\n",
       "</table>\n",
       "</div>"
      ],
      "text/plain": [
       "    c.pdbEnd c.pdbStart c.uniprotEnd c.uniprotStart  coverage  \\\n",
       "757    [526]      [333]        [526]          [333]  0.152396   \n",
       "\n",
       "                                           description                name  \\\n",
       "757  Spike protein S1, REGN10933 antibody Fab fragm...  Spike glycoprotein   \n",
       "\n",
       "     p.end  p.start  resolution structureChainId structureId  \n",
       "757   1273        1         3.9           6XDG.E        6XDG  "
      ]
     },
     "execution_count": 37,
     "metadata": {},
     "output_type": "execute_result"
    }
   ],
   "source": [
    "chains.query('structureId == \"6XDG\"')"
   ]
  },
  {
   "cell_type": "code",
   "execution_count": 38,
   "metadata": {},
   "outputs": [
    {
     "data": {
      "text/html": [
       "<div>\n",
       "<style scoped>\n",
       "    .dataframe tbody tr th:only-of-type {\n",
       "        vertical-align: middle;\n",
       "    }\n",
       "\n",
       "    .dataframe tbody tr th {\n",
       "        vertical-align: top;\n",
       "    }\n",
       "\n",
       "    .dataframe thead th {\n",
       "        text-align: right;\n",
       "    }\n",
       "</style>\n",
       "<table border=\"1\" class=\"dataframe\">\n",
       "  <thead>\n",
       "    <tr style=\"text-align: right;\">\n",
       "      <th></th>\n",
       "      <th>c.pdbEnd</th>\n",
       "      <th>c.pdbStart</th>\n",
       "      <th>c.uniprotEnd</th>\n",
       "      <th>c.uniprotStart</th>\n",
       "      <th>coverage</th>\n",
       "      <th>description</th>\n",
       "      <th>name</th>\n",
       "      <th>p.end</th>\n",
       "      <th>p.start</th>\n",
       "      <th>resolution</th>\n",
       "      <th>structureChainId</th>\n",
       "      <th>structureId</th>\n",
       "    </tr>\n",
       "  </thead>\n",
       "  <tbody>\n",
       "    <tr>\n",
       "      <th>0</th>\n",
       "      <td>[527]</td>\n",
       "      <td>[324]</td>\n",
       "      <td>[527]</td>\n",
       "      <td>[324]</td>\n",
       "      <td>0.160251</td>\n",
       "      <td>Spike protein S1, the heavy chain of Fab fragm...</td>\n",
       "      <td>Spike glycoprotein</td>\n",
       "      <td>1273</td>\n",
       "      <td>1</td>\n",
       "      <td>1.400</td>\n",
       "      <td>7EAM.A</td>\n",
       "      <td>7EAM</td>\n",
       "    </tr>\n",
       "    <tr>\n",
       "      <th>1</th>\n",
       "      <td>[527]</td>\n",
       "      <td>[324]</td>\n",
       "      <td>[527]</td>\n",
       "      <td>[324]</td>\n",
       "      <td>0.160251</td>\n",
       "      <td>Spike protein S1, the heavy chain of Fab fragm...</td>\n",
       "      <td>Spike glycoprotein</td>\n",
       "      <td>1273</td>\n",
       "      <td>1</td>\n",
       "      <td>1.400</td>\n",
       "      <td>7EAM.B</td>\n",
       "      <td>7EAM</td>\n",
       "    </tr>\n",
       "    <tr>\n",
       "      <th>3</th>\n",
       "      <td>[359, 369, 384, 516]</td>\n",
       "      <td>[338, 366, 371, 392]</td>\n",
       "      <td>[359, 369, 384, 516]</td>\n",
       "      <td>[338, 366, 371, 392]</td>\n",
       "      <td>0.129615</td>\n",
       "      <td>Spike protein S1, COVA2-39 heavy chain, COVA2-...</td>\n",
       "      <td>Spike glycoprotein</td>\n",
       "      <td>1273</td>\n",
       "      <td>1</td>\n",
       "      <td>1.712</td>\n",
       "      <td>7JMP.A</td>\n",
       "      <td>7JMP</td>\n",
       "    </tr>\n",
       "    <tr>\n",
       "      <th>4</th>\n",
       "      <td>[527]</td>\n",
       "      <td>[334]</td>\n",
       "      <td>[527]</td>\n",
       "      <td>[334]</td>\n",
       "      <td>0.152396</td>\n",
       "      <td>LY-CoV488 Fab heavy chain, LY-CoV488 Fab light...</td>\n",
       "      <td>Spike glycoprotein</td>\n",
       "      <td>1273</td>\n",
       "      <td>1</td>\n",
       "      <td>1.720</td>\n",
       "      <td>7KMH.C</td>\n",
       "      <td>7KMH</td>\n",
       "    </tr>\n",
       "    <tr>\n",
       "      <th>5</th>\n",
       "      <td>[527]</td>\n",
       "      <td>[334]</td>\n",
       "      <td>[527]</td>\n",
       "      <td>[334]</td>\n",
       "      <td>0.152396</td>\n",
       "      <td>LY-CoV481 Fab heavy chain, LY-CoV481 Fab light...</td>\n",
       "      <td>Spike glycoprotein</td>\n",
       "      <td>1273</td>\n",
       "      <td>1</td>\n",
       "      <td>1.730</td>\n",
       "      <td>7KMI.C</td>\n",
       "      <td>7KMI</td>\n",
       "    </tr>\n",
       "  </tbody>\n",
       "</table>\n",
       "</div>"
      ],
      "text/plain": [
       "               c.pdbEnd            c.pdbStart          c.uniprotEnd  \\\n",
       "0                 [527]                 [324]                 [527]   \n",
       "1                 [527]                 [324]                 [527]   \n",
       "3  [359, 369, 384, 516]  [338, 366, 371, 392]  [359, 369, 384, 516]   \n",
       "4                 [527]                 [334]                 [527]   \n",
       "5                 [527]                 [334]                 [527]   \n",
       "\n",
       "         c.uniprotStart  coverage  \\\n",
       "0                 [324]  0.160251   \n",
       "1                 [324]  0.160251   \n",
       "3  [338, 366, 371, 392]  0.129615   \n",
       "4                 [334]  0.152396   \n",
       "5                 [334]  0.152396   \n",
       "\n",
       "                                         description                name  \\\n",
       "0  Spike protein S1, the heavy chain of Fab fragm...  Spike glycoprotein   \n",
       "1  Spike protein S1, the heavy chain of Fab fragm...  Spike glycoprotein   \n",
       "3  Spike protein S1, COVA2-39 heavy chain, COVA2-...  Spike glycoprotein   \n",
       "4  LY-CoV488 Fab heavy chain, LY-CoV488 Fab light...  Spike glycoprotein   \n",
       "5  LY-CoV481 Fab heavy chain, LY-CoV481 Fab light...  Spike glycoprotein   \n",
       "\n",
       "   p.end  p.start  resolution structureChainId structureId  \n",
       "0   1273        1       1.400           7EAM.A        7EAM  \n",
       "1   1273        1       1.400           7EAM.B        7EAM  \n",
       "3   1273        1       1.712           7JMP.A        7JMP  \n",
       "4   1273        1       1.720           7KMH.C        7KMH  \n",
       "5   1273        1       1.730           7KMI.C        7KMI  "
      ]
     },
     "execution_count": 38,
     "metadata": {},
     "output_type": "execute_result"
    }
   ],
   "source": [
    "chains.head()"
   ]
  },
  {
   "cell_type": "code",
   "execution_count": 39,
   "metadata": {},
   "outputs": [],
   "source": [
    "chains.drop_duplicates(subset=['structureChainId'], inplace=True)\n",
    "chains.sort_values(by=['structureChainId'], inplace=True)"
   ]
  },
  {
   "cell_type": "markdown",
   "metadata": {},
   "source": [
    "#### Map uniprot residue numbers to PDB residue numbers"
   ]
  },
  {
   "cell_type": "code",
   "execution_count": 40,
   "metadata": {
    "jupyter": {
     "source_hidden": true
    }
   },
   "outputs": [],
   "source": [
    "def uniprot_to_pdb_mapping(row):\n",
    "    mapping = dict()\n",
    "    for (us,ue, ps, pe) in zip(row['c.uniprotStart'], row['c.uniprotEnd'], row['c.pdbStart'], row['c.pdbEnd']):\n",
    "        ps = int(ps)\n",
    "        pe = int(pe)\n",
    "        if (ue-us != pe-ps):\n",
    "            print('length mismatch:', row['structureChainId'], ue-us, pe-ps)\n",
    "        else:\n",
    "            offset = ps - us\n",
    "            for v in range(us, ue+1):\n",
    "                mapping[v] = offset + v\n",
    "                \n",
    "    #print(mapping)\n",
    "    return mapping"
   ]
  },
  {
   "cell_type": "code",
   "execution_count": 41,
   "metadata": {},
   "outputs": [],
   "source": [
    "chains['mapping'] = chains.apply(lambda row: uniprot_to_pdb_mapping(row), axis=1)"
   ]
  },
  {
   "cell_type": "code",
   "execution_count": 42,
   "metadata": {},
   "outputs": [
    {
     "data": {
      "text/html": [
       "<div>\n",
       "<style scoped>\n",
       "    .dataframe tbody tr th:only-of-type {\n",
       "        vertical-align: middle;\n",
       "    }\n",
       "\n",
       "    .dataframe tbody tr th {\n",
       "        vertical-align: top;\n",
       "    }\n",
       "\n",
       "    .dataframe thead th {\n",
       "        text-align: right;\n",
       "    }\n",
       "</style>\n",
       "<table border=\"1\" class=\"dataframe\">\n",
       "  <thead>\n",
       "    <tr style=\"text-align: right;\">\n",
       "      <th></th>\n",
       "      <th>c.pdbEnd</th>\n",
       "      <th>c.pdbStart</th>\n",
       "      <th>c.uniprotEnd</th>\n",
       "      <th>c.uniprotStart</th>\n",
       "      <th>coverage</th>\n",
       "      <th>description</th>\n",
       "      <th>name</th>\n",
       "      <th>p.end</th>\n",
       "      <th>p.start</th>\n",
       "      <th>resolution</th>\n",
       "      <th>structureChainId</th>\n",
       "      <th>structureId</th>\n",
       "      <th>mapping</th>\n",
       "    </tr>\n",
       "  </thead>\n",
       "  <tbody>\n",
       "    <tr>\n",
       "      <th>757</th>\n",
       "      <td>[526]</td>\n",
       "      <td>[333]</td>\n",
       "      <td>[526]</td>\n",
       "      <td>[333]</td>\n",
       "      <td>0.152396</td>\n",
       "      <td>Spike protein S1, REGN10933 antibody Fab fragm...</td>\n",
       "      <td>Spike glycoprotein</td>\n",
       "      <td>1273</td>\n",
       "      <td>1</td>\n",
       "      <td>3.9</td>\n",
       "      <td>6XDG.E</td>\n",
       "      <td>6XDG</td>\n",
       "      <td>{333: 333, 334: 334, 335: 335, 336: 336, 337: ...</td>\n",
       "    </tr>\n",
       "  </tbody>\n",
       "</table>\n",
       "</div>"
      ],
      "text/plain": [
       "    c.pdbEnd c.pdbStart c.uniprotEnd c.uniprotStart  coverage  \\\n",
       "757    [526]      [333]        [526]          [333]  0.152396   \n",
       "\n",
       "                                           description                name  \\\n",
       "757  Spike protein S1, REGN10933 antibody Fab fragm...  Spike glycoprotein   \n",
       "\n",
       "     p.end  p.start  resolution structureChainId structureId  \\\n",
       "757   1273        1         3.9           6XDG.E        6XDG   \n",
       "\n",
       "                                               mapping  \n",
       "757  {333: 333, 334: 334, 335: 335, 336: 336, 337: ...  "
      ]
     },
     "execution_count": 42,
     "metadata": {},
     "output_type": "execute_result"
    }
   ],
   "source": [
    "chains.query('structureId == \"6XDG\"')"
   ]
  },
  {
   "cell_type": "markdown",
   "metadata": {},
   "source": [
    "### Visualize mutation sites\n",
    "\n",
    "Mutations are mapped onto protein chains for available 3D protein structures.\n",
    "\n",
    "Display options:\n",
    "\n",
    "|||\n",
    "|:-|:-|\n",
    "| *show_bio_assembly* | Toggle display of the biologically relevant quaternary structure |\n",
    "| *show_surface* | Toggle surface for protein chain |\n",
    "| *show_short_label* | Toggle display of mutation information<br>{UniProtResidue}{aminoAcid1}>{aminoAcid2}(# observations)<br>Example: 501N>Y(350436)|\n",
    "| *show_long_label* | Toggle display of mutation information<br>{PDBId}.{chainId}.{PDBResidue}: {geneName}.p{UniProtResidue}{aminoAcid1}>{aminoAcid2}(# observations)<br>Example: 6XDG.E.501: S:p.501N>Y(350436) |\n",
    "| *size* | Change size of visualization |\n",
    "| *font* | Change font size of annotations |\n",
    "| *logFreq* | Change minimum threshold to display mutations based on normalized log of mutation frequency [0.0 - 1.0]|\n",
    "| *structure* | Move slider to browse through available structures |"
   ]
  },
  {
   "cell_type": "markdown",
   "metadata": {},
   "source": [
    "#### Example: Move the structure slider to PDB ID:6XDG to see how mutations (e.g., 501N>Y) effect the binding of the Regeneron antibodies "
   ]
  },
  {
   "cell_type": "code",
   "execution_count": 43,
   "metadata": {
    "jupyter": {
     "source_hidden": true
    },
    "tags": []
   },
   "outputs": [],
   "source": [
    "# Setup viewer\n",
    "def view_mutations(df, variants, *args):\n",
    "    chainIds = list(df['structureChainId'])\n",
    "\n",
    "    def view3d(show_bio_assembly, show_surface, show_short_label, show_long_label, size, font, logFreq, i): \n",
    "        pdb_id, chain_id = chainIds[i].split('.')\n",
    "        global viewer1\n",
    "        viewer1 = py3Dmol.view(query='pdb:' + pdb_id, options={'doAssembly': show_bio_assembly}, width=size, height=size)\n",
    "\n",
    "        # polymer style\n",
    "        viewer1.setStyle({'cartoon': {'colorscheme': 'chain', 'width': 0.6, 'opacity':0.8}})\n",
    "\n",
    "        # highlight chain of interest in blue\n",
    "        viewer1.setStyle({'chain': chain_id},{'cartoon': {'color': 'blue'}})\n",
    "        \n",
    "        # non-polymer style\n",
    "        viewer1.setStyle({'hetflag': True}, {'stick':{'radius': 0.3, 'singleBond': False, 'colorscheme': 'greenCarbon'}})\n",
    "        \n",
    "        mapping = df['mapping'].iloc[i]\n",
    "\n",
    "        for row in variants.itertuples():\n",
    "            # get PDB residue mapping from a UniProt residue number\n",
    "            res_num = mapping.get(row.residue, 0)\n",
    "            col = row.color\n",
    "            if res_num > 0 and row.scale > logFreq:\n",
    "                mut_res = {'resi': res_num, 'chain': chain_id}\n",
    "                viewer1.addStyle(mut_res, {'sphere':{'color':col, 'opacity': 1.0}}) \n",
    "\n",
    "                if show_short_label:\n",
    "                    label = row.annotation\n",
    "                if show_long_label:\n",
    "                    label = chainIds[i] + \".\" + str(res_num) + \": \" + row.variationId\n",
    "                if show_short_label or show_long_label:\n",
    "                    viewer1.addLabel(label, {'fontSize':font,'fontColor': 'black','backgroundColor':'ivory', 'opacity': 1.0}, {'resi': res_num, 'chain': chain_id})\n",
    "\n",
    "        description = df['description'].iloc[i]\n",
    "        resolution = df['resolution'].iloc[i]\n",
    "        coverage = df['coverage'].iloc[i]\n",
    "        name = df['name'].iloc[i]\n",
    "        \n",
    "        print(name)\n",
    "        print()\n",
    "        print(f'PDB Id: {pdb_id}, chain Id: {chain_id}, resolution: {resolution}, sequence coverage: {coverage:.2f}')\n",
    "        print(f'description: {description}')\n",
    "        \n",
    "        # print any specified additional columns from the dataframe\n",
    "        for a in args:\n",
    "            print(a + \": \" + df.iloc[i][a])\n",
    "\n",
    "        viewer1.zoomTo({'chain': chain_id})\n",
    "        viewer1.center({'chain': chain_id})\n",
    "        \n",
    "        if show_surface:\n",
    "             viewer1.addSurface(py3Dmol.SES,{'opacity':0.8,'color':'lightblue'},{'chain': chain_id})\n",
    "\n",
    "        return viewer1.show()\n",
    "       \n",
    "    f_widget = IntSlider(value=9, min=5, max=20, description='font size', continuous_update=False)\n",
    "    z_widget = IntSlider(value=750, min=500, max=1200, description='size', continuous_update=False)\n",
    "    s_widget = IntSlider(min=0, max=len(chainIds)-1, description='structure', continuous_update=False)\n",
    "    l_widget = FloatSlider(value=0.8, min=0, max=1, step=0.05, description='logFreq:', \n",
    "                           continuous_update=False, orientation='horizontal', readout=True, readout_format='.2f')\n",
    "    \n",
    "    \n",
    "    return interact(view3d, show_bio_assembly=False, show_surface=False, show_short_label=True, show_long_label=False, size=z_widget, font=f_widget, logFreq=l_widget, i=s_widget)\n",
    "\n",
    "def view_image1():\n",
    "    return viewer1.png()"
   ]
  },
  {
   "cell_type": "code",
   "execution_count": 44,
   "metadata": {
    "tags": []
   },
   "outputs": [
    {
     "data": {
      "application/vnd.jupyter.widget-view+json": {
       "model_id": "60937a738da54dc6b541e43b330e73c9",
       "version_major": 2,
       "version_minor": 0
      },
      "text/plain": [
       "interactive(children=(Checkbox(value=False, description='show_bio_assembly'), Checkbox(value=False, descriptio…"
      ]
     },
     "metadata": {},
     "output_type": "display_data"
    }
   ],
   "source": [
    "view_mutations(chains, variants);"
   ]
  },
  {
   "cell_type": "code",
   "execution_count": 45,
   "metadata": {
    "jupyter": {
     "source_hidden": true
    }
   },
   "outputs": [],
   "source": [
    "# https://stackoverflow.com/questions/32468402/how-to-explode-a-list-inside-a-dataframe-cell-into-separate-rows\n",
    "import copy\n",
    "\n",
    "def pandas_explode(df, column_to_explode):\n",
    "    \"\"\"\n",
    "    Similar to Hive's EXPLODE function, take a column with iterable elements, and flatten the iterable to one element \n",
    "    per observation in the output table\n",
    "\n",
    "    :param df: A dataframe to explod\n",
    "    :type df: pandas.DataFrame\n",
    "    :param column_to_explode: \n",
    "    :type column_to_explode: str\n",
    "    :return: An exploded data frame\n",
    "    :rtype: pandas.DataFrame\n",
    "    \"\"\"\n",
    "\n",
    "    # Create a list of new observations\n",
    "    new_observations = list()\n",
    "\n",
    "    # Iterate through existing observations\n",
    "    for row in df.to_dict(orient='records'):\n",
    "\n",
    "        # Take out the exploding iterable\n",
    "        explode_values = row[column_to_explode]\n",
    "        del row[column_to_explode]\n",
    "\n",
    "        # Create a new observation for every entry in the exploding iterable & add all of the other columns\n",
    "        for explode_value in explode_values.items():\n",
    "\n",
    "            # Deep copy existing observation\n",
    "            new_observation = copy.deepcopy(row)\n",
    "\n",
    "            # Add one (newly flattened) value from exploding iterable\n",
    "            new_observation[column_to_explode] = explode_value\n",
    "\n",
    "            # Add to the list of new observations\n",
    "            new_observations.append(new_observation)\n",
    "\n",
    "    # Create a DataFrame\n",
    "    return_df = pd.DataFrame(new_observations)\n",
    "\n",
    "    # Return\n",
    "    return return_df"
   ]
  },
  {
   "cell_type": "markdown",
   "metadata": {},
   "source": [
    "### Expand chains into residues"
   ]
  },
  {
   "cell_type": "code",
   "execution_count": 46,
   "metadata": {},
   "outputs": [],
   "source": [
    "residues = pandas_explode(chains, 'mapping')\n",
    "residues['uniprotPosition'] = residues['mapping'].apply(lambda x: x[0])\n",
    "residues['pdbPosition'] = residues['mapping'].apply(lambda x: x[1])\n",
    "residues.drop(columns='mapping', inplace=True)"
   ]
  },
  {
   "cell_type": "code",
   "execution_count": 47,
   "metadata": {},
   "outputs": [],
   "source": [
    "residues = residues.drop(columns=['c.pdbEnd', 'c.pdbStart', 'c.uniprotEnd', 'c.uniprotStart', 'p.end', 'p.start'])"
   ]
  },
  {
   "cell_type": "code",
   "execution_count": 48,
   "metadata": {},
   "outputs": [
    {
     "data": {
      "text/html": [
       "<div>\n",
       "<style scoped>\n",
       "    .dataframe tbody tr th:only-of-type {\n",
       "        vertical-align: middle;\n",
       "    }\n",
       "\n",
       "    .dataframe tbody tr th {\n",
       "        vertical-align: top;\n",
       "    }\n",
       "\n",
       "    .dataframe thead th {\n",
       "        text-align: right;\n",
       "    }\n",
       "</style>\n",
       "<table border=\"1\" class=\"dataframe\">\n",
       "  <thead>\n",
       "    <tr style=\"text-align: right;\">\n",
       "      <th></th>\n",
       "      <th>coverage</th>\n",
       "      <th>description</th>\n",
       "      <th>name</th>\n",
       "      <th>resolution</th>\n",
       "      <th>structureChainId</th>\n",
       "      <th>structureId</th>\n",
       "      <th>uniprotPosition</th>\n",
       "      <th>pdbPosition</th>\n",
       "    </tr>\n",
       "  </thead>\n",
       "  <tbody>\n",
       "    <tr>\n",
       "      <th>0</th>\n",
       "      <td>0.153181</td>\n",
       "      <td>CR3022 Fab heavy chain, CR3022 Fab light chain...</td>\n",
       "      <td>Spike glycoprotein</td>\n",
       "      <td>3.084</td>\n",
       "      <td>6W41.C</td>\n",
       "      <td>6W41</td>\n",
       "      <td>333</td>\n",
       "      <td>333</td>\n",
       "    </tr>\n",
       "    <tr>\n",
       "      <th>1</th>\n",
       "      <td>0.153181</td>\n",
       "      <td>CR3022 Fab heavy chain, CR3022 Fab light chain...</td>\n",
       "      <td>Spike glycoprotein</td>\n",
       "      <td>3.084</td>\n",
       "      <td>6W41.C</td>\n",
       "      <td>6W41</td>\n",
       "      <td>334</td>\n",
       "      <td>334</td>\n",
       "    </tr>\n",
       "    <tr>\n",
       "      <th>2</th>\n",
       "      <td>0.153181</td>\n",
       "      <td>CR3022 Fab heavy chain, CR3022 Fab light chain...</td>\n",
       "      <td>Spike glycoprotein</td>\n",
       "      <td>3.084</td>\n",
       "      <td>6W41.C</td>\n",
       "      <td>6W41</td>\n",
       "      <td>335</td>\n",
       "      <td>335</td>\n",
       "    </tr>\n",
       "    <tr>\n",
       "      <th>3</th>\n",
       "      <td>0.153181</td>\n",
       "      <td>CR3022 Fab heavy chain, CR3022 Fab light chain...</td>\n",
       "      <td>Spike glycoprotein</td>\n",
       "      <td>3.084</td>\n",
       "      <td>6W41.C</td>\n",
       "      <td>6W41</td>\n",
       "      <td>336</td>\n",
       "      <td>336</td>\n",
       "    </tr>\n",
       "    <tr>\n",
       "      <th>4</th>\n",
       "      <td>0.153181</td>\n",
       "      <td>CR3022 Fab heavy chain, CR3022 Fab light chain...</td>\n",
       "      <td>Spike glycoprotein</td>\n",
       "      <td>3.084</td>\n",
       "      <td>6W41.C</td>\n",
       "      <td>6W41</td>\n",
       "      <td>337</td>\n",
       "      <td>337</td>\n",
       "    </tr>\n",
       "  </tbody>\n",
       "</table>\n",
       "</div>"
      ],
      "text/plain": [
       "   coverage                                        description  \\\n",
       "0  0.153181  CR3022 Fab heavy chain, CR3022 Fab light chain...   \n",
       "1  0.153181  CR3022 Fab heavy chain, CR3022 Fab light chain...   \n",
       "2  0.153181  CR3022 Fab heavy chain, CR3022 Fab light chain...   \n",
       "3  0.153181  CR3022 Fab heavy chain, CR3022 Fab light chain...   \n",
       "4  0.153181  CR3022 Fab heavy chain, CR3022 Fab light chain...   \n",
       "\n",
       "                 name  resolution structureChainId structureId  \\\n",
       "0  Spike glycoprotein       3.084           6W41.C        6W41   \n",
       "1  Spike glycoprotein       3.084           6W41.C        6W41   \n",
       "2  Spike glycoprotein       3.084           6W41.C        6W41   \n",
       "3  Spike glycoprotein       3.084           6W41.C        6W41   \n",
       "4  Spike glycoprotein       3.084           6W41.C        6W41   \n",
       "\n",
       "   uniprotPosition  pdbPosition  \n",
       "0              333          333  \n",
       "1              334          334  \n",
       "2              335          335  \n",
       "3              336          336  \n",
       "4              337          337  "
      ]
     },
     "execution_count": 48,
     "metadata": {},
     "output_type": "execute_result"
    }
   ],
   "source": [
    "residues.head()"
   ]
  },
  {
   "cell_type": "code",
   "execution_count": 49,
   "metadata": {},
   "outputs": [],
   "source": [
    "variants = variants[['residue', 'variationId', 'annotation', 'scale', 'color']]"
   ]
  },
  {
   "cell_type": "code",
   "execution_count": 50,
   "metadata": {},
   "outputs": [],
   "source": [
    "residues_variants = residues.merge(variants, left_on='uniprotPosition', right_on='residue')"
   ]
  },
  {
   "cell_type": "code",
   "execution_count": 51,
   "metadata": {},
   "outputs": [
    {
     "data": {
      "text/html": [
       "<div>\n",
       "<style scoped>\n",
       "    .dataframe tbody tr th:only-of-type {\n",
       "        vertical-align: middle;\n",
       "    }\n",
       "\n",
       "    .dataframe tbody tr th {\n",
       "        vertical-align: top;\n",
       "    }\n",
       "\n",
       "    .dataframe thead th {\n",
       "        text-align: right;\n",
       "    }\n",
       "</style>\n",
       "<table border=\"1\" class=\"dataframe\">\n",
       "  <thead>\n",
       "    <tr style=\"text-align: right;\">\n",
       "      <th></th>\n",
       "      <th>coverage</th>\n",
       "      <th>description</th>\n",
       "      <th>name</th>\n",
       "      <th>resolution</th>\n",
       "      <th>structureChainId</th>\n",
       "      <th>structureId</th>\n",
       "      <th>uniprotPosition</th>\n",
       "      <th>pdbPosition</th>\n",
       "      <th>residue</th>\n",
       "      <th>variationId</th>\n",
       "      <th>annotation</th>\n",
       "      <th>scale</th>\n",
       "      <th>color</th>\n",
       "    </tr>\n",
       "  </thead>\n",
       "  <tbody>\n",
       "    <tr>\n",
       "      <th>0</th>\n",
       "      <td>0.153181</td>\n",
       "      <td>CR3022 Fab heavy chain, CR3022 Fab light chain...</td>\n",
       "      <td>Spike glycoprotein</td>\n",
       "      <td>3.084</td>\n",
       "      <td>6W41.C</td>\n",
       "      <td>6W41</td>\n",
       "      <td>333</td>\n",
       "      <td>333</td>\n",
       "      <td>333</td>\n",
       "      <td>S:p.333T&gt;I(4), S:p.333T&gt;K(4)</td>\n",
       "      <td>333T&gt;I(4), 333T&gt;K(4)</td>\n",
       "      <td>0.136274</td>\n",
       "      <td>#fedbcc</td>\n",
       "    </tr>\n",
       "    <tr>\n",
       "      <th>1</th>\n",
       "      <td>0.750196</td>\n",
       "      <td>spike glycoprotein, S309 neutralizing antibody...</td>\n",
       "      <td>Spike glycoprotein</td>\n",
       "      <td>3.100</td>\n",
       "      <td>6WPS.A</td>\n",
       "      <td>6WPS</td>\n",
       "      <td>333</td>\n",
       "      <td>333</td>\n",
       "      <td>333</td>\n",
       "      <td>S:p.333T&gt;I(4), S:p.333T&gt;K(4)</td>\n",
       "      <td>333T&gt;I(4), 333T&gt;K(4)</td>\n",
       "      <td>0.136274</td>\n",
       "      <td>#fedbcc</td>\n",
       "    </tr>\n",
       "    <tr>\n",
       "      <th>2</th>\n",
       "      <td>0.750196</td>\n",
       "      <td>spike glycoprotein, S309 neutralizing antibody...</td>\n",
       "      <td>Spike glycoprotein</td>\n",
       "      <td>3.100</td>\n",
       "      <td>6WPS.B</td>\n",
       "      <td>6WPS</td>\n",
       "      <td>333</td>\n",
       "      <td>333</td>\n",
       "      <td>333</td>\n",
       "      <td>S:p.333T&gt;I(4), S:p.333T&gt;K(4)</td>\n",
       "      <td>333T&gt;I(4), 333T&gt;K(4)</td>\n",
       "      <td>0.136274</td>\n",
       "      <td>#fedbcc</td>\n",
       "    </tr>\n",
       "    <tr>\n",
       "      <th>3</th>\n",
       "      <td>0.750196</td>\n",
       "      <td>spike glycoprotein, S309 neutralizing antibody...</td>\n",
       "      <td>Spike glycoprotein</td>\n",
       "      <td>3.100</td>\n",
       "      <td>6WPS.E</td>\n",
       "      <td>6WPS</td>\n",
       "      <td>333</td>\n",
       "      <td>333</td>\n",
       "      <td>333</td>\n",
       "      <td>S:p.333T&gt;I(4), S:p.333T&gt;K(4)</td>\n",
       "      <td>333T&gt;I(4), 333T&gt;K(4)</td>\n",
       "      <td>0.136274</td>\n",
       "      <td>#fedbcc</td>\n",
       "    </tr>\n",
       "    <tr>\n",
       "      <th>4</th>\n",
       "      <td>0.742341</td>\n",
       "      <td>spike glycoprotein, S309 neutralizing antibody...</td>\n",
       "      <td>Spike glycoprotein</td>\n",
       "      <td>3.700</td>\n",
       "      <td>6WPT.A</td>\n",
       "      <td>6WPT</td>\n",
       "      <td>333</td>\n",
       "      <td>333</td>\n",
       "      <td>333</td>\n",
       "      <td>S:p.333T&gt;I(4), S:p.333T&gt;K(4)</td>\n",
       "      <td>333T&gt;I(4), 333T&gt;K(4)</td>\n",
       "      <td>0.136274</td>\n",
       "      <td>#fedbcc</td>\n",
       "    </tr>\n",
       "  </tbody>\n",
       "</table>\n",
       "</div>"
      ],
      "text/plain": [
       "   coverage                                        description  \\\n",
       "0  0.153181  CR3022 Fab heavy chain, CR3022 Fab light chain...   \n",
       "1  0.750196  spike glycoprotein, S309 neutralizing antibody...   \n",
       "2  0.750196  spike glycoprotein, S309 neutralizing antibody...   \n",
       "3  0.750196  spike glycoprotein, S309 neutralizing antibody...   \n",
       "4  0.742341  spike glycoprotein, S309 neutralizing antibody...   \n",
       "\n",
       "                 name  resolution structureChainId structureId  \\\n",
       "0  Spike glycoprotein       3.084           6W41.C        6W41   \n",
       "1  Spike glycoprotein       3.100           6WPS.A        6WPS   \n",
       "2  Spike glycoprotein       3.100           6WPS.B        6WPS   \n",
       "3  Spike glycoprotein       3.100           6WPS.E        6WPS   \n",
       "4  Spike glycoprotein       3.700           6WPT.A        6WPT   \n",
       "\n",
       "   uniprotPosition  pdbPosition  residue                   variationId  \\\n",
       "0              333          333      333  S:p.333T>I(4), S:p.333T>K(4)   \n",
       "1              333          333      333  S:p.333T>I(4), S:p.333T>K(4)   \n",
       "2              333          333      333  S:p.333T>I(4), S:p.333T>K(4)   \n",
       "3              333          333      333  S:p.333T>I(4), S:p.333T>K(4)   \n",
       "4              333          333      333  S:p.333T>I(4), S:p.333T>K(4)   \n",
       "\n",
       "             annotation     scale    color  \n",
       "0  333T>I(4), 333T>K(4)  0.136274  #fedbcc  \n",
       "1  333T>I(4), 333T>K(4)  0.136274  #fedbcc  \n",
       "2  333T>I(4), 333T>K(4)  0.136274  #fedbcc  \n",
       "3  333T>I(4), 333T>K(4)  0.136274  #fedbcc  \n",
       "4  333T>I(4), 333T>K(4)  0.136274  #fedbcc  "
      ]
     },
     "execution_count": 51,
     "metadata": {},
     "output_type": "execute_result"
    }
   ],
   "source": [
    "residues_variants.head()"
   ]
  },
  {
   "cell_type": "code",
   "execution_count": 52,
   "metadata": {},
   "outputs": [],
   "source": [
    "residues_variants.to_csv(output_file_name, index=False)"
   ]
  },
  {
   "cell_type": "markdown",
   "metadata": {},
   "source": [
    "## Now run the next step\n",
    "Map mutations occuring at protein-protein interaction sites: [2-MapToPolymerInteractions.ipynb](2-MapToPolymerInteractions.ipynb)"
   ]
  },
  {
   "cell_type": "code",
   "execution_count": null,
   "metadata": {},
   "outputs": [],
   "source": []
  }
 ],
 "metadata": {
  "kernelspec": {
   "display_name": "Python 3",
   "language": "python",
   "name": "python3"
  },
  "language_info": {
   "codemirror_mode": {
    "name": "ipython",
    "version": 3
   },
   "file_extension": ".py",
   "mimetype": "text/x-python",
   "name": "python",
   "nbconvert_exporter": "python",
   "pygments_lexer": "ipython3",
   "version": "3.6.13"
  }
 },
 "nbformat": 4,
 "nbformat_minor": 4
}
