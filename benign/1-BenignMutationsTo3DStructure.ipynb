{
 "cells": [
  {
   "cell_type": "markdown",
   "metadata": {},
   "source": [
    "# Map Benign Mutations to 3D Structure"
   ]
  },
  {
   "cell_type": "markdown",
   "metadata": {},
   "source": [
    "This notebook maps a dataset of 63,197 missense mutations with allele frequencies >=1% and <25% extracted from the ExAC database to 3D structures in the Protein Data Bank.\n",
    "The dataset is described in:\n",
    "    \n",
    "[1] Niroula A, Vihinen M (2019) How good are pathogenicity predictors in detecting benign variants? \n",
    "PLoS Comput Biol 15(2): e1006481. doi: [10.1371/journal.pcbi.1006481](https://doi.org/10.1371/journal.pcbi.1006481)"
   ]
  },
  {
   "cell_type": "code",
   "execution_count": 1,
   "metadata": {},
   "outputs": [],
   "source": [
    "# Disable Numba: temporary workaround for https://github.com/sbl-sdsc/mmtf-pyspark/issues/288\n",
    "import os\n",
    "os.environ['NUMBA_DISABLE_JIT'] = \"1\""
   ]
  },
  {
   "cell_type": "code",
   "execution_count": 2,
   "metadata": {},
   "outputs": [],
   "source": [
    "from pyspark.sql import SparkSession\n",
    "from mmtfPyspark.datasets import dbSnpDataset, pdbjMineDataset\n",
    "from ipywidgets import interact, IntSlider\n",
    "import pandas as pd\n",
    "import py3Dmol"
   ]
  },
  {
   "cell_type": "code",
   "execution_count": 3,
   "metadata": {
    "code_folding": [
     0
    ]
   },
   "outputs": [],
   "source": [
    "#### Initialize Spark\n",
    "spark = SparkSession.builder.appName(\"BenignMutationsTo3DStructure\").getOrCreate()"
   ]
  },
  {
   "cell_type": "code",
   "execution_count": 4,
   "metadata": {},
   "outputs": [],
   "source": [
    "# Enable Arrow-based columnar data transfers between Spark and Pandas dataframes\n",
    "spark.conf.set(\"spark.sql.execution.arrow.enabled\", \"true\")"
   ]
  },
  {
   "cell_type": "markdown",
   "metadata": {},
   "source": [
    "## Read ExAC_ASS dataset [1]"
   ]
  },
  {
   "cell_type": "code",
   "execution_count": 5,
   "metadata": {
    "scrolled": true
   },
   "outputs": [
    {
     "data": {
      "text/html": [
       "<div>\n",
       "<style scoped>\n",
       "    .dataframe tbody tr th:only-of-type {\n",
       "        vertical-align: middle;\n",
       "    }\n",
       "\n",
       "    .dataframe tbody tr th {\n",
       "        vertical-align: top;\n",
       "    }\n",
       "\n",
       "    .dataframe thead th {\n",
       "        text-align: right;\n",
       "    }\n",
       "</style>\n",
       "<table border=\"1\" class=\"dataframe\">\n",
       "  <thead>\n",
       "    <tr style=\"text-align: right;\">\n",
       "      <th></th>\n",
       "      <th>Chromosome</th>\n",
       "      <th>Position</th>\n",
       "      <th>Reference_allele</th>\n",
       "      <th>Altered_allele</th>\n",
       "      <th>Reference_AA</th>\n",
       "      <th>Altered_AA</th>\n",
       "      <th>RSID</th>\n",
       "      <th>hg19_chr</th>\n",
       "      <th>hg19_pos.1.based.</th>\n",
       "      <th>AF_Adj</th>\n",
       "      <th>...</th>\n",
       "      <th>FATHMM_pred</th>\n",
       "      <th>PROVEAN_score</th>\n",
       "      <th>PROVEAN_pred</th>\n",
       "      <th>VEST3_score</th>\n",
       "      <th>MetaSVM_score</th>\n",
       "      <th>MetaSVM_pred</th>\n",
       "      <th>MetaLR_score</th>\n",
       "      <th>MetaLR_pred</th>\n",
       "      <th>CADD_phred</th>\n",
       "      <th>rs_id</th>\n",
       "    </tr>\n",
       "  </thead>\n",
       "  <tbody>\n",
       "    <tr>\n",
       "      <th>0</th>\n",
       "      <td>1</td>\n",
       "      <td>69428</td>\n",
       "      <td>T</td>\n",
       "      <td>G</td>\n",
       "      <td>F</td>\n",
       "      <td>C</td>\n",
       "      <td>rs140739101</td>\n",
       "      <td>1</td>\n",
       "      <td>69428</td>\n",
       "      <td>0.0246222622</td>\n",
       "      <td>...</td>\n",
       "      <td>T</td>\n",
       "      <td>-5.05</td>\n",
       "      <td>D</td>\n",
       "      <td>0.261</td>\n",
       "      <td>-0.9558</td>\n",
       "      <td>T</td>\n",
       "      <td>0.0007</td>\n",
       "      <td>T</td>\n",
       "      <td>23.7</td>\n",
       "      <td>140739101</td>\n",
       "    </tr>\n",
       "    <tr>\n",
       "      <th>1</th>\n",
       "      <td>1</td>\n",
       "      <td>69761</td>\n",
       "      <td>A</td>\n",
       "      <td>T</td>\n",
       "      <td>D</td>\n",
       "      <td>V</td>\n",
       "      <td>rs200505207</td>\n",
       "      <td>1</td>\n",
       "      <td>69761</td>\n",
       "      <td>0.1771387237</td>\n",
       "      <td>...</td>\n",
       "      <td>T</td>\n",
       "      <td>-2.22</td>\n",
       "      <td>N</td>\n",
       "      <td>0.111</td>\n",
       "      <td>-1.1242</td>\n",
       "      <td>T</td>\n",
       "      <td>0.0000</td>\n",
       "      <td>T</td>\n",
       "      <td>0.684</td>\n",
       "      <td>200505207</td>\n",
       "    </tr>\n",
       "    <tr>\n",
       "      <th>2</th>\n",
       "      <td>1</td>\n",
       "      <td>930314</td>\n",
       "      <td>C</td>\n",
       "      <td>T</td>\n",
       "      <td>H</td>\n",
       "      <td>Y</td>\n",
       "      <td>rs9988179</td>\n",
       "      <td>1</td>\n",
       "      <td>865694</td>\n",
       "      <td>0.0381036473</td>\n",
       "      <td>...</td>\n",
       "      <td>.</td>\n",
       "      <td>-4.51</td>\n",
       "      <td>D</td>\n",
       "      <td>0.171</td>\n",
       "      <td>-1.0840</td>\n",
       "      <td>T</td>\n",
       "      <td>0.0008</td>\n",
       "      <td>T</td>\n",
       "      <td>21.3</td>\n",
       "      <td>9988179</td>\n",
       "    </tr>\n",
       "    <tr>\n",
       "      <th>3</th>\n",
       "      <td>1</td>\n",
       "      <td>942951</td>\n",
       "      <td>C</td>\n",
       "      <td>T</td>\n",
       "      <td>P</td>\n",
       "      <td>L</td>\n",
       "      <td>rs148327885</td>\n",
       "      <td>1</td>\n",
       "      <td>878331</td>\n",
       "      <td>0.0183868339</td>\n",
       "      <td>...</td>\n",
       "      <td>.</td>\n",
       "      <td>-3.81</td>\n",
       "      <td>D</td>\n",
       "      <td>0.046</td>\n",
       "      <td>-1.0420</td>\n",
       "      <td>T</td>\n",
       "      <td>0.0526</td>\n",
       "      <td>T</td>\n",
       "      <td>13.8</td>\n",
       "      <td>148327885</td>\n",
       "    </tr>\n",
       "    <tr>\n",
       "      <th>4</th>\n",
       "      <td>1</td>\n",
       "      <td>946538</td>\n",
       "      <td>G</td>\n",
       "      <td>A</td>\n",
       "      <td>S</td>\n",
       "      <td>L</td>\n",
       "      <td>rs35471880</td>\n",
       "      <td>1</td>\n",
       "      <td>881918</td>\n",
       "      <td>0.0470013621</td>\n",
       "      <td>...</td>\n",
       "      <td>T</td>\n",
       "      <td>-3.63</td>\n",
       "      <td>D</td>\n",
       "      <td>0.163</td>\n",
       "      <td>-1.1375</td>\n",
       "      <td>T</td>\n",
       "      <td>0.0123</td>\n",
       "      <td>T</td>\n",
       "      <td>24.1</td>\n",
       "      <td>35471880</td>\n",
       "    </tr>\n",
       "  </tbody>\n",
       "</table>\n",
       "<p>5 rows × 45 columns</p>\n",
       "</div>"
      ],
      "text/plain": [
       "  Chromosome Position Reference_allele Altered_allele Reference_AA Altered_AA  \\\n",
       "0          1    69428                T              G            F          C   \n",
       "1          1    69761                A              T            D          V   \n",
       "2          1   930314                C              T            H          Y   \n",
       "3          1   942951                C              T            P          L   \n",
       "4          1   946538                G              A            S          L   \n",
       "\n",
       "          RSID hg19_chr hg19_pos.1.based.        AF_Adj    ...      \\\n",
       "0  rs140739101        1             69428  0.0246222622    ...       \n",
       "1  rs200505207        1             69761  0.1771387237    ...       \n",
       "2    rs9988179        1            865694  0.0381036473    ...       \n",
       "3  rs148327885        1            878331  0.0183868339    ...       \n",
       "4   rs35471880        1            881918  0.0470013621    ...       \n",
       "\n",
       "  FATHMM_pred PROVEAN_score PROVEAN_pred VEST3_score MetaSVM_score  \\\n",
       "0           T         -5.05            D       0.261       -0.9558   \n",
       "1           T         -2.22            N       0.111       -1.1242   \n",
       "2           .         -4.51            D       0.171       -1.0840   \n",
       "3           .         -3.81            D       0.046       -1.0420   \n",
       "4           T         -3.63            D       0.163       -1.1375   \n",
       "\n",
       "  MetaSVM_pred MetaLR_score MetaLR_pred CADD_phred      rs_id  \n",
       "0            T       0.0007           T       23.7  140739101  \n",
       "1            T       0.0000           T      0.684  200505207  \n",
       "2            T       0.0008           T       21.3    9988179  \n",
       "3            T       0.0526           T       13.8  148327885  \n",
       "4            T       0.0123           T       24.1   35471880  \n",
       "\n",
       "[5 rows x 45 columns]"
      ]
     },
     "execution_count": 5,
     "metadata": {},
     "output_type": "execute_result"
    }
   ],
   "source": [
    "df = pd.read_excel('http://structure.bmc.lu.se/VariBench/ExAC_AAS_20171214.xlsx', dtype=str, nrows=63198)\n",
    "df = df[df.RSID.str.startswith('rs')]  # keep only rows that contain rs ids.\n",
    "df = df[df.RSID.str.contains(';') == False]  # skip rows with an ';' in the RSID column\n",
    "df['rs_id'] = df.RSID.str[2:].astype('int')  #  create integer column of rs ids\n",
    "df.head()"
   ]
  },
  {
   "cell_type": "markdown",
   "metadata": {},
   "source": [
    "Convert Pandas dataframe to Spark Dataframe"
   ]
  },
  {
   "cell_type": "code",
   "execution_count": 6,
   "metadata": {},
   "outputs": [],
   "source": [
    "ds = spark.createDataFrame(df)"
   ]
  },
  {
   "cell_type": "markdown",
   "metadata": {},
   "source": [
    "## Read file with dbSNP info\n",
    "The following dataset was created from the NCBI dbSNP SNP3D_PDB_GRCH37 dataset by mapping non-synonymous SNPs to human proteins with >= 95% sequence identity in the PDB."
   ]
  },
  {
   "cell_type": "code",
   "execution_count": 7,
   "metadata": {},
   "outputs": [],
   "source": [
    "dn = dbSnpDataset.get_cached_dataset()"
   ]
  },
  {
   "cell_type": "markdown",
   "metadata": {},
   "source": [
    "## Find the intersection between the two dataframes"
   ]
  },
  {
   "cell_type": "code",
   "execution_count": 8,
   "metadata": {},
   "outputs": [
    {
     "data": {
      "text/html": [
       "<div>\n",
       "<style scoped>\n",
       "    .dataframe tbody tr th:only-of-type {\n",
       "        vertical-align: middle;\n",
       "    }\n",
       "\n",
       "    .dataframe tbody tr th {\n",
       "        vertical-align: top;\n",
       "    }\n",
       "\n",
       "    .dataframe thead th {\n",
       "        text-align: right;\n",
       "    }\n",
       "</style>\n",
       "<table border=\"1\" class=\"dataframe\">\n",
       "  <thead>\n",
       "    <tr style=\"text-align: right;\">\n",
       "      <th></th>\n",
       "      <th>chr</th>\n",
       "      <th>pos</th>\n",
       "      <th>snp_id</th>\n",
       "      <th>master_acc</th>\n",
       "      <th>master_gi</th>\n",
       "      <th>master_pos</th>\n",
       "      <th>master_res</th>\n",
       "      <th>master_var</th>\n",
       "      <th>pdb_gi</th>\n",
       "      <th>pdb_res</th>\n",
       "      <th>pdb_pos</th>\n",
       "      <th>blast_ident</th>\n",
       "      <th>clinsig</th>\n",
       "      <th>pdbChainId</th>\n",
       "      <th>tax_id</th>\n",
       "      <th>pdbResNum</th>\n",
       "      <th>uniprotId</th>\n",
       "      <th>uniprotNum</th>\n",
       "      <th>Chromosome</th>\n",
       "      <th>Position</th>\n",
       "      <th>Reference_allele</th>\n",
       "      <th>Altered_allele</th>\n",
       "      <th>Reference_AA</th>\n",
       "      <th>Altered_AA</th>\n",
       "      <th>RSID</th>\n",
       "      <th>hg19_chr</th>\n",
       "      <th>hg19_pos.1.based.</th>\n",
       "      <th>AF_Adj</th>\n",
       "      <th>AF_AFR</th>\n",
       "      <th>AF_AMR</th>\n",
       "      <th>AF_EAS</th>\n",
       "      <th>AF_FIN</th>\n",
       "      <th>AF_NFE</th>\n",
       "      <th>AF_OTH</th>\n",
       "      <th>AF_SAS</th>\n",
       "      <th>AF_MALE</th>\n",
       "      <th>AF_FEMALE</th>\n",
       "      <th>AF_CONS</th>\n",
       "      <th>PON-P2_score</th>\n",
       "      <th>PON-P2_pred</th>\n",
       "      <th>SIFT_score</th>\n",
       "      <th>SIFT_pred</th>\n",
       "      <th>Polyphen2_HDIV_score</th>\n",
       "      <th>Polyphen2_HDIV_pred</th>\n",
       "      <th>Polyphen2_HVAR_score</th>\n",
       "      <th>Polyphen2_HVAR_pred</th>\n",
       "      <th>LRT_score</th>\n",
       "      <th>LRT_pred</th>\n",
       "      <th>MutationTaster_score</th>\n",
       "      <th>MutationTaster_pred</th>\n",
       "      <th>MutationAssessor_score</th>\n",
       "      <th>MutationAssessor_pred</th>\n",
       "      <th>FATHMM_score</th>\n",
       "      <th>FATHMM_pred</th>\n",
       "      <th>PROVEAN_score</th>\n",
       "      <th>PROVEAN_pred</th>\n",
       "      <th>VEST3_score</th>\n",
       "      <th>MetaSVM_score</th>\n",
       "      <th>MetaSVM_pred</th>\n",
       "      <th>MetaLR_score</th>\n",
       "      <th>MetaLR_pred</th>\n",
       "      <th>CADD_phred</th>\n",
       "      <th>rs_id</th>\n",
       "    </tr>\n",
       "  </thead>\n",
       "  <tbody>\n",
       "    <tr>\n",
       "      <th>1780</th>\n",
       "      <td>1</td>\n",
       "      <td>949422</td>\n",
       "      <td>143888043</td>\n",
       "      <td>NP_005092</td>\n",
       "      <td>4826774</td>\n",
       "      <td>21</td>\n",
       "      <td>S</td>\n",
       "      <td>N</td>\n",
       "      <td>340780633</td>\n",
       "      <td>S</td>\n",
       "      <td>28</td>\n",
       "      <td>100.0</td>\n",
       "      <td>Benign</td>\n",
       "      <td>3SDL.C</td>\n",
       "      <td>9606</td>\n",
       "      <td>21</td>\n",
       "      <td>P05161</td>\n",
       "      <td>21.0</td>\n",
       "      <td>1</td>\n",
       "      <td>1014042</td>\n",
       "      <td>G</td>\n",
       "      <td>A</td>\n",
       "      <td>S</td>\n",
       "      <td>N</td>\n",
       "      <td>rs143888043</td>\n",
       "      <td>1</td>\n",
       "      <td>949422</td>\n",
       "      <td>0.0016525877</td>\n",
       "      <td>0.0168897603</td>\n",
       "      <td>0.0011257263</td>\n",
       "      <td>0</td>\n",
       "      <td>0</td>\n",
       "      <td>0.000137057</td>\n",
       "      <td>0.0011209506</td>\n",
       "      <td>6.18e-05</td>\n",
       "      <td>0.0010919627</td>\n",
       "      <td>0.0023602674</td>\n",
       "      <td>0</td>\n",
       "      <td>0.081</td>\n",
       "      <td>Neutral</td>\n",
       "      <td>0.732</td>\n",
       "      <td>T</td>\n",
       "      <td>0.0</td>\n",
       "      <td>B</td>\n",
       "      <td>0.0</td>\n",
       "      <td>B</td>\n",
       "      <td>0.541861</td>\n",
       "      <td>N</td>\n",
       "      <td>1</td>\n",
       "      <td>N</td>\n",
       "      <td>-0.59</td>\n",
       "      <td>N</td>\n",
       "      <td>-0.85</td>\n",
       "      <td>T</td>\n",
       "      <td>0.34</td>\n",
       "      <td>N</td>\n",
       "      <td>0.0085</td>\n",
       "      <td>-0.9246</td>\n",
       "      <td>T</td>\n",
       "      <td>0.1229</td>\n",
       "      <td>T</td>\n",
       "      <td>0.254</td>\n",
       "      <td>143888043</td>\n",
       "    </tr>\n",
       "    <tr>\n",
       "      <th>321</th>\n",
       "      <td>1</td>\n",
       "      <td>949608</td>\n",
       "      <td>1921</td>\n",
       "      <td>NP_005092</td>\n",
       "      <td>4826774</td>\n",
       "      <td>83</td>\n",
       "      <td>S</td>\n",
       "      <td>N</td>\n",
       "      <td>340780633</td>\n",
       "      <td>S</td>\n",
       "      <td>90</td>\n",
       "      <td>100.0</td>\n",
       "      <td>Benign</td>\n",
       "      <td>3SDL.C</td>\n",
       "      <td>9606</td>\n",
       "      <td>83</td>\n",
       "      <td>P05161</td>\n",
       "      <td>83.0</td>\n",
       "      <td>1</td>\n",
       "      <td>1014228</td>\n",
       "      <td>G</td>\n",
       "      <td>A</td>\n",
       "      <td>S</td>\n",
       "      <td>N</td>\n",
       "      <td>rs1921</td>\n",
       "      <td>1</td>\n",
       "      <td>949608</td>\n",
       "      <td>0.370246762</td>\n",
       "      <td>0.4111114339</td>\n",
       "      <td>0.2454099255</td>\n",
       "      <td>0.205113894</td>\n",
       "      <td>0.4757061975</td>\n",
       "      <td>0.4041889166</td>\n",
       "      <td>0.3777358071</td>\n",
       "      <td>0.3399131441</td>\n",
       "      <td>0.3734580725</td>\n",
       "      <td>0.3662007238</td>\n",
       "      <td>0.339171018</td>\n",
       "      <td>0.334</td>\n",
       "      <td>Unknown</td>\n",
       "      <td>0.311</td>\n",
       "      <td>T</td>\n",
       "      <td>0.01</td>\n",
       "      <td>B</td>\n",
       "      <td>0.005</td>\n",
       "      <td>B</td>\n",
       "      <td>0.000631</td>\n",
       "      <td>N</td>\n",
       "      <td>0.999999</td>\n",
       "      <td>P</td>\n",
       "      <td>1.6</td>\n",
       "      <td>L</td>\n",
       "      <td>1.59</td>\n",
       "      <td>T</td>\n",
       "      <td>-1.02</td>\n",
       "      <td>N</td>\n",
       "      <td>0.012</td>\n",
       "      <td>-0.9028</td>\n",
       "      <td>T</td>\n",
       "      <td>0.0000</td>\n",
       "      <td>T</td>\n",
       "      <td>2.276</td>\n",
       "      <td>1921</td>\n",
       "    </tr>\n",
       "    <tr>\n",
       "      <th>322</th>\n",
       "      <td>1</td>\n",
       "      <td>949608</td>\n",
       "      <td>1921</td>\n",
       "      <td>NP_005092</td>\n",
       "      <td>4826774</td>\n",
       "      <td>83</td>\n",
       "      <td>S</td>\n",
       "      <td>T</td>\n",
       "      <td>340780633</td>\n",
       "      <td>S</td>\n",
       "      <td>90</td>\n",
       "      <td>100.0</td>\n",
       "      <td>Benign</td>\n",
       "      <td>3SDL.C</td>\n",
       "      <td>9606</td>\n",
       "      <td>83</td>\n",
       "      <td>P05161</td>\n",
       "      <td>83.0</td>\n",
       "      <td>1</td>\n",
       "      <td>1014228</td>\n",
       "      <td>G</td>\n",
       "      <td>A</td>\n",
       "      <td>S</td>\n",
       "      <td>N</td>\n",
       "      <td>rs1921</td>\n",
       "      <td>1</td>\n",
       "      <td>949608</td>\n",
       "      <td>0.370246762</td>\n",
       "      <td>0.4111114339</td>\n",
       "      <td>0.2454099255</td>\n",
       "      <td>0.205113894</td>\n",
       "      <td>0.4757061975</td>\n",
       "      <td>0.4041889166</td>\n",
       "      <td>0.3777358071</td>\n",
       "      <td>0.3399131441</td>\n",
       "      <td>0.3734580725</td>\n",
       "      <td>0.3662007238</td>\n",
       "      <td>0.339171018</td>\n",
       "      <td>0.334</td>\n",
       "      <td>Unknown</td>\n",
       "      <td>0.311</td>\n",
       "      <td>T</td>\n",
       "      <td>0.01</td>\n",
       "      <td>B</td>\n",
       "      <td>0.005</td>\n",
       "      <td>B</td>\n",
       "      <td>0.000631</td>\n",
       "      <td>N</td>\n",
       "      <td>0.999999</td>\n",
       "      <td>P</td>\n",
       "      <td>1.6</td>\n",
       "      <td>L</td>\n",
       "      <td>1.59</td>\n",
       "      <td>T</td>\n",
       "      <td>-1.02</td>\n",
       "      <td>N</td>\n",
       "      <td>0.012</td>\n",
       "      <td>-0.9028</td>\n",
       "      <td>T</td>\n",
       "      <td>0.0000</td>\n",
       "      <td>T</td>\n",
       "      <td>2.276</td>\n",
       "      <td>1921</td>\n",
       "    </tr>\n",
       "    <tr>\n",
       "      <th>2415</th>\n",
       "      <td>1</td>\n",
       "      <td>1262635</td>\n",
       "      <td>142934629</td>\n",
       "      <td>NP_001025056</td>\n",
       "      <td>71274150</td>\n",
       "      <td>46</td>\n",
       "      <td>L</td>\n",
       "      <td>Q</td>\n",
       "      <td>524934171</td>\n",
       "      <td>L</td>\n",
       "      <td>47</td>\n",
       "      <td>100.0</td>\n",
       "      <td>None</td>\n",
       "      <td>4K80.A</td>\n",
       "      <td>9606</td>\n",
       "      <td>46</td>\n",
       "      <td>Q5TA50</td>\n",
       "      <td>46.0</td>\n",
       "      <td>1</td>\n",
       "      <td>1327255</td>\n",
       "      <td>T</td>\n",
       "      <td>A</td>\n",
       "      <td>L</td>\n",
       "      <td>Q</td>\n",
       "      <td>rs142934629</td>\n",
       "      <td>1</td>\n",
       "      <td>1262635</td>\n",
       "      <td>0.0019542234</td>\n",
       "      <td>0.000102795</td>\n",
       "      <td>0.0001756219</td>\n",
       "      <td>0</td>\n",
       "      <td>0</td>\n",
       "      <td>0.0008136429</td>\n",
       "      <td>0</td>\n",
       "      <td>0.0106200524</td>\n",
       "      <td>0.0023970592</td>\n",
       "      <td>0.0013848768</td>\n",
       "      <td>0.014814129</td>\n",
       "      <td>0.129</td>\n",
       "      <td>Neutral</td>\n",
       "      <td>0.001</td>\n",
       "      <td>D</td>\n",
       "      <td>0.999</td>\n",
       "      <td>D</td>\n",
       "      <td>0.985</td>\n",
       "      <td>D</td>\n",
       "      <td>0.000009</td>\n",
       "      <td>U</td>\n",
       "      <td>1</td>\n",
       "      <td>D</td>\n",
       "      <td>3.37</td>\n",
       "      <td>M</td>\n",
       "      <td>.</td>\n",
       "      <td>.</td>\n",
       "      <td>-4.38</td>\n",
       "      <td>D</td>\n",
       "      <td>0.948</td>\n",
       "      <td>0.1935</td>\n",
       "      <td>D</td>\n",
       "      <td>0.5264</td>\n",
       "      <td>D</td>\n",
       "      <td>25.7</td>\n",
       "      <td>142934629</td>\n",
       "    </tr>\n",
       "    <tr>\n",
       "      <th>1009</th>\n",
       "      <td>1</td>\n",
       "      <td>1262979</td>\n",
       "      <td>61746802</td>\n",
       "      <td>NP_001025056</td>\n",
       "      <td>71274150</td>\n",
       "      <td>161</td>\n",
       "      <td>A</td>\n",
       "      <td>T</td>\n",
       "      <td>524934171</td>\n",
       "      <td>A</td>\n",
       "      <td>162</td>\n",
       "      <td>100.0</td>\n",
       "      <td>None</td>\n",
       "      <td>4K80.A</td>\n",
       "      <td>9606</td>\n",
       "      <td>161</td>\n",
       "      <td>Q5TA50</td>\n",
       "      <td>161.0</td>\n",
       "      <td>1</td>\n",
       "      <td>1327599</td>\n",
       "      <td>G</td>\n",
       "      <td>A</td>\n",
       "      <td>A</td>\n",
       "      <td>T</td>\n",
       "      <td>rs61746802</td>\n",
       "      <td>1</td>\n",
       "      <td>1262979</td>\n",
       "      <td>0.0011473985</td>\n",
       "      <td>0.0137367435</td>\n",
       "      <td>0.0004735701</td>\n",
       "      <td>0</td>\n",
       "      <td>0</td>\n",
       "      <td>1.68e-05</td>\n",
       "      <td>0</td>\n",
       "      <td>6.32e-05</td>\n",
       "      <td>0.0008197235</td>\n",
       "      <td>0.0015836973</td>\n",
       "      <td>0</td>\n",
       "      <td>0.407</td>\n",
       "      <td>Unknown</td>\n",
       "      <td>0.006</td>\n",
       "      <td>D</td>\n",
       "      <td>1.0</td>\n",
       "      <td>D</td>\n",
       "      <td>0.999</td>\n",
       "      <td>D</td>\n",
       "      <td>0.000000</td>\n",
       "      <td>U</td>\n",
       "      <td>1</td>\n",
       "      <td>D</td>\n",
       "      <td>3.475</td>\n",
       "      <td>M</td>\n",
       "      <td>.</td>\n",
       "      <td>.</td>\n",
       "      <td>-3.8</td>\n",
       "      <td>D</td>\n",
       "      <td>0.918</td>\n",
       "      <td>0.1628</td>\n",
       "      <td>D</td>\n",
       "      <td>0.4086</td>\n",
       "      <td>T</td>\n",
       "      <td>25.8</td>\n",
       "      <td>61746802</td>\n",
       "    </tr>\n",
       "  </tbody>\n",
       "</table>\n",
       "</div>"
      ],
      "text/plain": [
       "     chr      pos     snp_id    master_acc  master_gi  master_pos master_res  \\\n",
       "1780   1   949422  143888043     NP_005092    4826774          21          S   \n",
       "321    1   949608       1921     NP_005092    4826774          83          S   \n",
       "322    1   949608       1921     NP_005092    4826774          83          S   \n",
       "2415   1  1262635  142934629  NP_001025056   71274150          46          L   \n",
       "1009   1  1262979   61746802  NP_001025056   71274150         161          A   \n",
       "\n",
       "     master_var     pdb_gi pdb_res  pdb_pos  blast_ident clinsig pdbChainId  \\\n",
       "1780          N  340780633       S       28        100.0  Benign     3SDL.C   \n",
       "321           N  340780633       S       90        100.0  Benign     3SDL.C   \n",
       "322           T  340780633       S       90        100.0  Benign     3SDL.C   \n",
       "2415          Q  524934171       L       47        100.0    None     4K80.A   \n",
       "1009          T  524934171       A      162        100.0    None     4K80.A   \n",
       "\n",
       "      tax_id pdbResNum uniprotId  uniprotNum Chromosome Position  \\\n",
       "1780    9606        21    P05161        21.0          1  1014042   \n",
       "321     9606        83    P05161        83.0          1  1014228   \n",
       "322     9606        83    P05161        83.0          1  1014228   \n",
       "2415    9606        46    Q5TA50        46.0          1  1327255   \n",
       "1009    9606       161    Q5TA50       161.0          1  1327599   \n",
       "\n",
       "     Reference_allele Altered_allele Reference_AA Altered_AA         RSID  \\\n",
       "1780                G              A            S          N  rs143888043   \n",
       "321                 G              A            S          N       rs1921   \n",
       "322                 G              A            S          N       rs1921   \n",
       "2415                T              A            L          Q  rs142934629   \n",
       "1009                G              A            A          T   rs61746802   \n",
       "\n",
       "     hg19_chr hg19_pos.1.based.        AF_Adj        AF_AFR        AF_AMR  \\\n",
       "1780        1            949422  0.0016525877  0.0168897603  0.0011257263   \n",
       "321         1            949608   0.370246762  0.4111114339  0.2454099255   \n",
       "322         1            949608   0.370246762  0.4111114339  0.2454099255   \n",
       "2415        1           1262635  0.0019542234   0.000102795  0.0001756219   \n",
       "1009        1           1262979  0.0011473985  0.0137367435  0.0004735701   \n",
       "\n",
       "           AF_EAS        AF_FIN        AF_NFE        AF_OTH        AF_SAS  \\\n",
       "1780            0             0   0.000137057  0.0011209506      6.18e-05   \n",
       "321   0.205113894  0.4757061975  0.4041889166  0.3777358071  0.3399131441   \n",
       "322   0.205113894  0.4757061975  0.4041889166  0.3777358071  0.3399131441   \n",
       "2415            0             0  0.0008136429             0  0.0106200524   \n",
       "1009            0             0      1.68e-05             0      6.32e-05   \n",
       "\n",
       "           AF_MALE     AF_FEMALE      AF_CONS PON-P2_score PON-P2_pred  \\\n",
       "1780  0.0010919627  0.0023602674            0        0.081     Neutral   \n",
       "321   0.3734580725  0.3662007238  0.339171018        0.334     Unknown   \n",
       "322   0.3734580725  0.3662007238  0.339171018        0.334     Unknown   \n",
       "2415  0.0023970592  0.0013848768  0.014814129        0.129     Neutral   \n",
       "1009  0.0008197235  0.0015836973            0        0.407     Unknown   \n",
       "\n",
       "     SIFT_score SIFT_pred Polyphen2_HDIV_score Polyphen2_HDIV_pred  \\\n",
       "1780      0.732         T                  0.0                   B   \n",
       "321       0.311         T                 0.01                   B   \n",
       "322       0.311         T                 0.01                   B   \n",
       "2415      0.001         D                0.999                   D   \n",
       "1009      0.006         D                  1.0                   D   \n",
       "\n",
       "     Polyphen2_HVAR_score Polyphen2_HVAR_pred LRT_score LRT_pred  \\\n",
       "1780                  0.0                   B  0.541861        N   \n",
       "321                 0.005                   B  0.000631        N   \n",
       "322                 0.005                   B  0.000631        N   \n",
       "2415                0.985                   D  0.000009        U   \n",
       "1009                0.999                   D  0.000000        U   \n",
       "\n",
       "     MutationTaster_score MutationTaster_pred MutationAssessor_score  \\\n",
       "1780                    1                   N                  -0.59   \n",
       "321              0.999999                   P                    1.6   \n",
       "322              0.999999                   P                    1.6   \n",
       "2415                    1                   D                   3.37   \n",
       "1009                    1                   D                  3.475   \n",
       "\n",
       "     MutationAssessor_pred FATHMM_score FATHMM_pred PROVEAN_score  \\\n",
       "1780                     N        -0.85           T          0.34   \n",
       "321                      L         1.59           T         -1.02   \n",
       "322                      L         1.59           T         -1.02   \n",
       "2415                     M            .           .         -4.38   \n",
       "1009                     M            .           .          -3.8   \n",
       "\n",
       "     PROVEAN_pred VEST3_score MetaSVM_score MetaSVM_pred MetaLR_score  \\\n",
       "1780            N      0.0085       -0.9246            T       0.1229   \n",
       "321             N       0.012       -0.9028            T       0.0000   \n",
       "322             N       0.012       -0.9028            T       0.0000   \n",
       "2415            D       0.948        0.1935            D       0.5264   \n",
       "1009            D       0.918        0.1628            D       0.4086   \n",
       "\n",
       "     MetaLR_pred CADD_phred      rs_id  \n",
       "1780           T      0.254  143888043  \n",
       "321            T      2.276       1921  \n",
       "322            T      2.276       1921  \n",
       "2415           D       25.7  142934629  \n",
       "1009           T       25.8   61746802  "
      ]
     },
     "execution_count": 8,
     "metadata": {},
     "output_type": "execute_result"
    }
   ],
   "source": [
    "pd.set_option('display.max_columns', None)  # show all columns\n",
    "dp = dn.join(ds, dn.snp_id == ds.rs_id).toPandas()\n",
    "dp = dp.sort_values(['chr', 'pos'])\n",
    "dp.head()"
   ]
  },
  {
   "cell_type": "markdown",
   "metadata": {},
   "source": [
    "## View mutations grouped by protein chain\n",
    "Use the slider to view each protein chain."
   ]
  },
  {
   "cell_type": "code",
   "execution_count": 9,
   "metadata": {
    "scrolled": true
   },
   "outputs": [],
   "source": [
    "chains = dp.groupby('pdbChainId')"
   ]
  },
  {
   "cell_type": "code",
   "execution_count": 10,
   "metadata": {
    "code_folding": [
     0
    ],
    "jupyter": {
     "source_hidden": true
    },
    "tags": []
   },
   "outputs": [],
   "source": [
    "def view_grouped_mutations(grouped_df, *args):\n",
    "    chainIds = list(grouped_df.groups.keys())\n",
    "\n",
    "    def view3d(show_bio_assembly=False, show_surface=False, show_labels=True, i=0):\n",
    "        group = grouped_df.get_group(chainIds[i])\n",
    "        \n",
    "        pdb_id, chain_id = chainIds[i].split('.')\n",
    "        viewer = py3Dmol.view(query='pdb:' + pdb_id, options={'doAssembly': show_bio_assembly})\n",
    "\n",
    "#       # polymer style\n",
    "        viewer.setStyle({'cartoon': {'colorscheme': 'chain', 'width': 0.6, 'opacity':0.9}})\n",
    "\n",
    "#       # non-polymer style\n",
    "        viewer.setStyle({'hetflag': True}, {'stick':{'radius': 0.3, 'singleBond': False}})\n",
    "       \n",
    "        # highlight chain of interest in blue\n",
    "        viewer.setStyle({'chain': chain_id},{'cartoon': {'color': 'blue'}})\n",
    "        \n",
    "        rows = group.shape[0]\n",
    "        for j in range(0, rows):\n",
    "            res_num = str(group.iloc[j]['pdbResNum'])\n",
    "            mod_res = {'resi': res_num, 'chain': chain_id} \n",
    "            col = 'red'\n",
    "            c_col = col + 'Carbon'\n",
    "            viewer.addStyle(mod_res, {'stick':{'colorscheme':c_col, 'radius': 0.2}})\n",
    "            viewer.addStyle(mod_res, {'sphere':{'color':col, 'opacity': 0.6}})          \n",
    "            if show_labels:\n",
    "                label = 'rs' + str(group.iloc[j]['rs_id'])\n",
    "                viewer.addLabel(label, {'fontSize':10,'fontColor': 'black','backgroundColor':'ivory'}, {'resi': res_num, 'chain': chain_id})\n",
    "        \n",
    "        \n",
    "        #print header\n",
    "        print(\"PDB Id: \" + pdb_id + \" chain Id: \" + chain_id)\n",
    "        \n",
    "        # print any specified additional columns from the dataframe\n",
    "        for a in args:\n",
    "            print(a + \": \" + group.iloc[0][a])\n",
    "\n",
    "        viewer.zoomTo({'chain': chain_id})\n",
    "        \n",
    "        if show_surface:\n",
    "             viewer.addSurface(py3Dmol.SES,{'opacity':0.8,'color':'lightblue'},{'chain': chain_id})\n",
    "                \n",
    "        return viewer.show()\n",
    "       \n",
    "    s_widget = IntSlider(min=0, max=len(chainIds)-1, description='Structure', continuous_update=False)\n",
    "    \n",
    "    return interact(view3d, show_bio_assembly=False, show_surface=False, show_labels=True, i=s_widget)"
   ]
  },
  {
   "cell_type": "code",
   "execution_count": 11,
   "metadata": {},
   "outputs": [
    {
     "data": {
      "application/vnd.jupyter.widget-view+json": {
       "model_id": "aa1b0f9b60874f189ccbef91f6e0485d",
       "version_major": 2,
       "version_minor": 0
      },
      "text/plain": [
       "interactive(children=(Checkbox(value=False, description='show_bio_assembly'), Checkbox(value=False, descriptio…"
      ]
     },
     "metadata": {},
     "output_type": "display_data"
    }
   ],
   "source": [
    "view_grouped_mutations(chains, 'uniprotId','Chromosome');"
   ]
  },
  {
   "cell_type": "code",
   "execution_count": 12,
   "metadata": {
    "code_folding": [
     0
    ]
   },
   "outputs": [],
   "source": [
    "def view_single_mutation(df, distance_cutoff, *args):\n",
    "\n",
    "    def view3d(show_bio_assembly=False, show_surface=False, show_labels=True, i=0):        \n",
    "        pdb_id, chain_id = df.iloc[i]['pdbChainId'].split('.')\n",
    "        \n",
    "        viewer = py3Dmol.view(query='pdb:' + pdb_id, options={'doAssembly': show_bio_assembly})\n",
    "\n",
    "        # polymer style\n",
    "        viewer.setStyle({'cartoon': {'colorscheme': 'chain', 'width': 0.6, 'opacity':0.9}})\n",
    "\n",
    "        # non-polymer style\n",
    "        viewer.setStyle({'hetflag': True}, {'stick':{'radius': 0.3, 'singleBond': False}})\n",
    "       \n",
    "        # highlight chain of interest in green\n",
    "        viewer.setStyle({'chain': chain_id},{'cartoon': {'color': 'blue', 'opacity':0.5}})\n",
    "        \n",
    "        # \n",
    "        res_num = str(df.iloc[i]['pdbResNum'])\n",
    "        label = 'rs' + str(df.iloc[i]['rs_id'])\n",
    "        mod_res = {'resi': res_num, 'chain': chain_id} \n",
    "        col = 'red'\n",
    "        c_col = col + 'Carbon'\n",
    "        viewer.addStyle(mod_res, {'stick':{'colorscheme':c_col, 'radius': 0.2}})\n",
    "        viewer.addStyle(mod_res, {'sphere':{'color':col, 'opacity': 0.8}})          \n",
    "        \n",
    "        if show_labels:\n",
    "            viewer.addLabel(label, {'fontSize':12,'fontColor': 'black','backgroundColor':'ivory'}, {'resi': res_num, 'chain': chain_id})\n",
    "\n",
    "        # select neigboring residues by distance\n",
    "        surroundings = {'chain': chain_id, 'resi': res_num, 'byres': True, 'expand': distance_cutoff}\n",
    "        \n",
    "        # residues surrounding mutation positions\n",
    "        viewer.addStyle(surroundings,{'stick':{'colorscheme':'orangeCarbon', 'radius': 0.15}})\n",
    "        \n",
    "        viewer.zoomTo(surroundings)\n",
    "        \n",
    "        if show_surface:\n",
    "             viewer.addSurface(py3Dmol.SES, {'opacity':0.8,'color':'lightblue'}, {'chain': chain_id})\n",
    "                \n",
    "         #print header\n",
    "        print(\"PDB Id:\", pdb_id, \"chain Id:\" , chain_id, \"residue:\", res_num, \"mutation:\", label)\n",
    "        \n",
    "        # print any specified additional columns from the dataframe\n",
    "        for a in args:\n",
    "            print(a + \": \" + str(df.iloc[i][a]))\n",
    "            \n",
    "        return viewer.show()\n",
    "       \n",
    "    s_widget = IntSlider(min=0, max=len(df)-1, description='Structure', continuous_update=False)\n",
    "    \n",
    "    return interact(view3d, show_bio_assembly=False, show_surface=False, show_labels=True, i=s_widget)"
   ]
  },
  {
   "cell_type": "markdown",
   "metadata": {},
   "source": [
    "## View one mutation at a time\n",
    "Use the slider to view each mutation. Interacting residues within the distance_cutoff of 8 A are rendered as orange sticks."
   ]
  },
  {
   "cell_type": "code",
   "execution_count": 13,
   "metadata": {},
   "outputs": [
    {
     "data": {
      "application/vnd.jupyter.widget-view+json": {
       "model_id": "2d7ab84f3bd64356bca14e2db64ef2f1",
       "version_major": 2,
       "version_minor": 0
      },
      "text/plain": [
       "interactive(children=(Checkbox(value=False, description='show_bio_assembly'), Checkbox(value=False, descriptio…"
      ]
     },
     "metadata": {},
     "output_type": "display_data"
    }
   ],
   "source": [
    "distance_cutoff = 8\n",
    "view_single_mutation(dp, distance_cutoff, 'uniprotId','Chromosome','Position','Reference_allele','Altered_allele','Reference_AA','Altered_AA','clinsig', 'AF_Adj');"
   ]
  },
  {
   "cell_type": "code",
   "execution_count": 14,
   "metadata": {},
   "outputs": [],
   "source": [
    "spark.stop()"
   ]
  }
 ],
 "metadata": {
  "kernelspec": {
   "display_name": "Python 3",
   "language": "python",
   "name": "python3"
  },
  "language_info": {
   "codemirror_mode": {
    "name": "ipython",
    "version": 3
   },
   "file_extension": ".py",
   "mimetype": "text/x-python",
   "name": "python",
   "nbconvert_exporter": "python",
   "pygments_lexer": "ipython3",
   "version": "3.6.13"
  },
  "widgets": {
   "application/vnd.jupyter.widget-state+json": {
    "state": {
     "00df65828c2b4eb28174100228e725ca": {
      "model_module": "@jupyter-widgets/controls",
      "model_module_version": "1.3.0",
      "model_name": "DescriptionStyleModel",
      "state": {
       "description_width": ""
      }
     },
     "01abe4f0616741cea14bb19566ef358a": {
      "model_module": "@jupyter-widgets/controls",
      "model_module_version": "1.3.0",
      "model_name": "CheckboxModel",
      "state": {
       "description": "show_labels",
       "disabled": false,
       "layout": "IPY_MODEL_fa905030cac9416e8afc7e5b75be383f",
       "style": "IPY_MODEL_f0a4beca686b4ecbb42b841772a4fae1",
       "value": true
      }
     },
     "01ddb36c3cfa415eb11bb747c3b111dc": {
      "model_module": "@jupyter-widgets/base",
      "model_module_version": "1.1.0",
      "model_name": "LayoutModel",
      "state": {}
     },
     "0201d578de5544408ba0814905c5b668": {
      "model_module": "@jupyter-widgets/controls",
      "model_module_version": "1.3.0",
      "model_name": "SliderStyleModel",
      "state": {
       "description_width": ""
      }
     },
     "03ee6602cae14c6c9e5d3f24b42d5dd4": {
      "model_module": "@jupyter-widgets/base",
      "model_module_version": "1.1.0",
      "model_name": "LayoutModel",
      "state": {}
     },
     "06cf7db7da324ea78be6abb06d3590eb": {
      "model_module": "@jupyter-widgets/controls",
      "model_module_version": "1.3.0",
      "model_name": "VBoxModel",
      "state": {
       "_dom_classes": [
        "widget-interact"
       ],
       "children": [
        "IPY_MODEL_c589a5f6cae24b6892c4e9b49ff2c65c",
        "IPY_MODEL_09310d17e1544308a3d6b78a1e53d02c",
        "IPY_MODEL_73a23605858f422e8c2b3160a23f801a",
        "IPY_MODEL_f9bb9f8dc2f84789b97b5530e5a3c372",
        "IPY_MODEL_bb0423c209b1433c956e7e444db8356b"
       ],
       "layout": "IPY_MODEL_333d9c7073d84e53ab035bce9908e44c"
      }
     },
     "08524e298ad8435989e53c2cfeb64454": {
      "model_module": "@jupyter-widgets/base",
      "model_module_version": "1.1.0",
      "model_name": "LayoutModel",
      "state": {}
     },
     "09310d17e1544308a3d6b78a1e53d02c": {
      "model_module": "@jupyter-widgets/controls",
      "model_module_version": "1.3.0",
      "model_name": "CheckboxModel",
      "state": {
       "description": "show_surface",
       "disabled": false,
       "layout": "IPY_MODEL_f9057bd843e441c384c29127dd19d9a6",
       "style": "IPY_MODEL_a9254bd7cbbc453d98bd04195cbbf646",
       "value": false
      }
     },
     "0abb13623ec54628bd7bbf6a3e7a2adf": {
      "model_module": "@jupyter-widgets/controls",
      "model_module_version": "1.3.0",
      "model_name": "DescriptionStyleModel",
      "state": {
       "description_width": ""
      }
     },
     "0b46a32ae5ae4db78454b5e471878557": {
      "model_module": "@jupyter-widgets/controls",
      "model_module_version": "1.3.0",
      "model_name": "DescriptionStyleModel",
      "state": {
       "description_width": ""
      }
     },
     "0d87fefb7b0b49fb824ef66c3046995b": {
      "model_module": "@jupyter-widgets/controls",
      "model_module_version": "1.3.0",
      "model_name": "CheckboxModel",
      "state": {
       "description": "show_labels",
       "disabled": false,
       "layout": "IPY_MODEL_1e94ded854114815b013fcb72f14cb34",
       "style": "IPY_MODEL_c7b1e77400544c21be853c0b15e75691",
       "value": true
      }
     },
     "0e988eb893b644378e9cc46c6ae5e834": {
      "model_module": "@jupyter-widgets/base",
      "model_module_version": "1.1.0",
      "model_name": "LayoutModel",
      "state": {}
     },
     "0ec1beb2f11b48f9a088311a445cf294": {
      "model_module": "@jupyter-widgets/base",
      "model_module_version": "1.1.0",
      "model_name": "LayoutModel",
      "state": {}
     },
     "0f97ef7109b9419ba0fa1c2f4073c3ab": {
      "model_module": "@jupyter-widgets/controls",
      "model_module_version": "1.3.0",
      "model_name": "DescriptionStyleModel",
      "state": {
       "description_width": ""
      }
     },
     "1008bb9cae65434983c2297116f366d6": {
      "model_module": "@jupyter-widgets/base",
      "model_module_version": "1.1.0",
      "model_name": "LayoutModel",
      "state": {}
     },
     "116db6bd4aa74f84941be6b7132a157c": {
      "model_module": "@jupyter-widgets/controls",
      "model_module_version": "1.3.0",
      "model_name": "DescriptionStyleModel",
      "state": {
       "description_width": ""
      }
     },
     "1170100444e04f228638a5b01acfb31f": {
      "model_module": "@jupyter-widgets/controls",
      "model_module_version": "1.3.0",
      "model_name": "CheckboxModel",
      "state": {
       "description": "show_surface",
       "disabled": false,
       "layout": "IPY_MODEL_e22baa7ec6be455fa6b11306d9c43bf0",
       "style": "IPY_MODEL_3a532ce923b540f0938027c058a6d544",
       "value": false
      }
     },
     "11cb6e039d1549b28ce35950c666bd43": {
      "model_module": "@jupyter-widgets/base",
      "model_module_version": "1.1.0",
      "model_name": "LayoutModel",
      "state": {}
     },
     "12eed0b4750a45ffaa84abe7f64110b5": {
      "model_module": "@jupyter-widgets/controls",
      "model_module_version": "1.3.0",
      "model_name": "DescriptionStyleModel",
      "state": {
       "description_width": ""
      }
     },
     "139353bec67848d8a38af3bdf2ef1fe7": {
      "model_module": "@jupyter-widgets/controls",
      "model_module_version": "1.3.0",
      "model_name": "DescriptionStyleModel",
      "state": {
       "description_width": ""
      }
     },
     "14bf3bc090184ab08ad6cc68cc35590f": {
      "model_module": "@jupyter-widgets/controls",
      "model_module_version": "1.3.0",
      "model_name": "DescriptionStyleModel",
      "state": {
       "description_width": ""
      }
     },
     "1501010579f149fe9b7d15f9b3ca9bd9": {
      "model_module": "@jupyter-widgets/controls",
      "model_module_version": "1.3.0",
      "model_name": "SelectMultipleModel",
      "state": {
       "_options_labels": [
        "All",
        "Benign",
        "Likely benign",
        "Likely pathogenic",
        "Pathogenic",
        "drug-response",
        "untested",
        "Uncertain significance",
        "other",
        "null"
       ],
       "description": "Significance:",
       "index": [
        1,
        2,
        3,
        4,
        5
       ],
       "layout": "IPY_MODEL_b83efa0ba1724e8ab340f2212645bece",
       "rows": 5,
       "style": "IPY_MODEL_443e89c1cae540b386283ee270ed77de"
      }
     },
     "15116018f1834ecd8fd26c141cbdc5fe": {
      "model_module": "@jupyter-widgets/controls",
      "model_module_version": "1.3.0",
      "model_name": "DropdownModel",
      "state": {
       "_options_labels": [
        "none",
        "snp_id",
        "pdbChainId",
        "uniprotId",
        "sqlQuery"
       ],
       "description": "Select field:",
       "index": 0,
       "layout": "IPY_MODEL_65c76a34af8146cfb18c5a2bf1c3dff6",
       "style": "IPY_MODEL_680c320b387046089bd364d1d6097524"
      }
     },
     "156004e78ca94ea182c9ace99f942184": {
      "model_module": "@jupyter-widgets/base",
      "model_module_version": "1.1.0",
      "model_name": "LayoutModel",
      "state": {}
     },
     "1587a84460c94db99cc7bf534f9566bf": {
      "model_module": "@jupyter-widgets/controls",
      "model_module_version": "1.3.0",
      "model_name": "CheckboxModel",
      "state": {
       "description": "show_bio_assembly",
       "disabled": false,
       "layout": "IPY_MODEL_a3a98e6e4e2547e49713d7df9f81967a",
       "style": "IPY_MODEL_a9284a13d4ce4c67b09351b3be2ce78d",
       "value": false
      }
     },
     "1633c5c793554a678411d3720e294c46": {
      "model_module": "@jupyter-widgets/controls",
      "model_module_version": "1.3.0",
      "model_name": "DropdownModel",
      "state": {
       "_options_labels": [
        "none",
        "snp_id",
        "pdbChainId",
        "uniprotId",
        "sqlQuery"
       ],
       "description": "Select field:",
       "index": 0,
       "layout": "IPY_MODEL_1f773b6307cd4d71a63bd5732aeee59e",
       "style": "IPY_MODEL_0abb13623ec54628bd7bbf6a3e7a2adf"
      }
     },
     "16c844af797347d2980141fccb62d708": {
      "model_module": "@jupyter-widgets/controls",
      "model_module_version": "1.3.0",
      "model_name": "DescriptionStyleModel",
      "state": {
       "description_width": ""
      }
     },
     "16d2119643f741e1932e15ccb98eea36": {
      "model_module": "@jupyter-widgets/controls",
      "model_module_version": "1.3.0",
      "model_name": "CheckboxModel",
      "state": {
       "description": "show_surface",
       "disabled": false,
       "layout": "IPY_MODEL_43d1e45d89fa4da1859f6fc664a3a855",
       "style": "IPY_MODEL_338fa3d4b4f242689781436d957a8f88",
       "value": false
      }
     },
     "170cae3a13e14bb9a49ee1e927a4e400": {
      "model_module": "@jupyter-widgets/base",
      "model_module_version": "1.1.0",
      "model_name": "LayoutModel",
      "state": {}
     },
     "178023a6621247f78ddd4a54c82e30ff": {
      "model_module": "@jupyter-widgets/controls",
      "model_module_version": "1.3.0",
      "model_name": "DescriptionStyleModel",
      "state": {
       "description_width": ""
      }
     },
     "17baa857a5f24793be2e1c5080fdecf2": {
      "model_module": "@jupyter-widgets/base",
      "model_module_version": "1.1.0",
      "model_name": "LayoutModel",
      "state": {}
     },
     "17c43604290e4bb1b2cd0ab3b1b0f63c": {
      "model_module": "@jupyter-widgets/controls",
      "model_module_version": "1.3.0",
      "model_name": "CheckboxModel",
      "state": {
       "description": "show_bio_assembly",
       "disabled": false,
       "layout": "IPY_MODEL_6c1d1bc50980429688b97fc04d9b361a",
       "style": "IPY_MODEL_37aaf91a01694120b1693838b44d5b05",
       "value": false
      }
     },
     "1964c8fa155846bbb4e27e63a56ecc2a": {
      "model_module": "@jupyter-widgets/controls",
      "model_module_version": "1.3.0",
      "model_name": "SelectMultipleModel",
      "state": {
       "_options_labels": [
        "All",
        "Benign",
        "Likely benign",
        "Likely pathogenic",
        "Pathogenic",
        "drug-response",
        "untested",
        "Uncertain significance",
        "other",
        "null"
       ],
       "description": "Significance:",
       "index": [
        1,
        2,
        3,
        4,
        5
       ],
       "layout": "IPY_MODEL_42ac3b935c1f4418adb138c14b57aff8",
       "rows": 5,
       "style": "IPY_MODEL_56aac5f1e603460c913d2fe157b03d8f"
      }
     },
     "1c246c59f31042319297887575f94867": {
      "model_module": "@jupyter-widgets/base",
      "model_module_version": "1.1.0",
      "model_name": "LayoutModel",
      "state": {}
     },
     "1dc27a2683eb49a9bf943b3bfc0f2fbf": {
      "model_module": "@jupyter-widgets/controls",
      "model_module_version": "1.3.0",
      "model_name": "IntSliderModel",
      "state": {
       "continuous_update": false,
       "description": "Structure",
       "layout": "IPY_MODEL_689041fce6d2476a973203010bca9550",
       "max": 1455,
       "style": "IPY_MODEL_90416a3ad6274221825943dfc9330bcc"
      }
     },
     "1e94ded854114815b013fcb72f14cb34": {
      "model_module": "@jupyter-widgets/base",
      "model_module_version": "1.1.0",
      "model_name": "LayoutModel",
      "state": {}
     },
     "1f773b6307cd4d71a63bd5732aeee59e": {
      "model_module": "@jupyter-widgets/base",
      "model_module_version": "1.1.0",
      "model_name": "LayoutModel",
      "state": {}
     },
     "208c50b031bd40afaf17874eed11004b": {
      "model_module": "@jupyter-widgets/controls",
      "model_module_version": "1.3.0",
      "model_name": "DescriptionStyleModel",
      "state": {
       "description_width": ""
      }
     },
     "2266945df59f4a658f1cedc43cff6948": {
      "model_module": "@jupyter-widgets/controls",
      "model_module_version": "1.3.0",
      "model_name": "TextareaModel",
      "state": {
       "description": "Enter id(s):",
       "layout": "IPY_MODEL_17baa857a5f24793be2e1c5080fdecf2",
       "style": "IPY_MODEL_00df65828c2b4eb28174100228e725ca"
      }
     },
     "22d814ff0f5a43bcad33aa63fa08b764": {
      "model_module": "@jupyter-widgets/base",
      "model_module_version": "1.1.0",
      "model_name": "LayoutModel",
      "state": {}
     },
     "231aa8f5289e45b4b1a1d24d1204f674": {
      "model_module": "@jupyter-widgets/controls",
      "model_module_version": "1.3.0",
      "model_name": "SliderStyleModel",
      "state": {
       "description_width": ""
      }
     },
     "236bc370350c4e16bf2e1fbb0ee4ce16": {
      "model_module": "@jupyter-widgets/controls",
      "model_module_version": "1.3.0",
      "model_name": "DescriptionStyleModel",
      "state": {
       "description_width": ""
      }
     },
     "2458795a6df94f308d4725e57f5aa614": {
      "model_module": "@jupyter-widgets/base",
      "model_module_version": "1.1.0",
      "model_name": "LayoutModel",
      "state": {}
     },
     "24e587f44d024fe28ba757025afa2919": {
      "model_module": "@jupyter-widgets/base",
      "model_module_version": "1.1.0",
      "model_name": "LayoutModel",
      "state": {}
     },
     "26451d85be7d4c309ef25bf8cd492ebb": {
      "model_module": "@jupyter-widgets/controls",
      "model_module_version": "1.3.0",
      "model_name": "VBoxModel",
      "state": {
       "_dom_classes": [
        "widget-interact"
       ],
       "children": [
        "IPY_MODEL_50aca1de4e4948b784426dc694957815",
        "IPY_MODEL_bdd6b23be12b4cf3915f5af55f0d9833",
        "IPY_MODEL_d1e49256fa8d4d149a17d84dce1e4f72",
        "IPY_MODEL_921b19cd1caa48b1a3197c7df6723a81",
        "IPY_MODEL_639d184da3194af792118e79469184ee"
       ],
       "layout": "IPY_MODEL_70c53e8c27bd4074b90774f4eb9efa54"
      }
     },
     "2656ddbdef5644ef8019a2945457ab99": {
      "model_module": "@jupyter-widgets/base",
      "model_module_version": "1.1.0",
      "model_name": "LayoutModel",
      "state": {}
     },
     "26d9f17cab9c4e1e817570f8535e1021": {
      "model_module": "@jupyter-widgets/controls",
      "model_module_version": "1.3.0",
      "model_name": "DescriptionStyleModel",
      "state": {
       "description_width": ""
      }
     },
     "26fd3c1deff2462d9bca21cc16a3c8b0": {
      "model_module": "@jupyter-widgets/output",
      "model_module_version": "1.0.0",
      "model_name": "OutputModel",
      "state": {
       "layout": "IPY_MODEL_f94e787c7c5643bf82b5029f4dd6b550",
       "outputs": [
        {
         "ename": "KeyError",
         "evalue": "'pdbResNums'",
         "output_type": "error",
         "traceback": [
          "\u001b[0;31m---------------------------------------------------------------------------\u001b[0m",
          "\u001b[0;31mTypeError\u001b[0m                                 Traceback (most recent call last)",
          "\u001b[0;32m~/anaconda3/lib/python3.6/site-packages/pandas/core/indexes/base.py\u001b[0m in \u001b[0;36mget_value\u001b[0;34m(self, series, key)\u001b[0m\n\u001b[1;32m   2565\u001b[0m             \u001b[0;32mtry\u001b[0m\u001b[0;34m:\u001b[0m\u001b[0;34m\u001b[0m\u001b[0m\n\u001b[0;32m-> 2566\u001b[0;31m                 \u001b[0;32mreturn\u001b[0m \u001b[0mlibts\u001b[0m\u001b[0;34m.\u001b[0m\u001b[0mget_value_box\u001b[0m\u001b[0;34m(\u001b[0m\u001b[0ms\u001b[0m\u001b[0;34m,\u001b[0m \u001b[0mkey\u001b[0m\u001b[0;34m)\u001b[0m\u001b[0;34m\u001b[0m\u001b[0m\n\u001b[0m\u001b[1;32m   2567\u001b[0m             \u001b[0;32mexcept\u001b[0m \u001b[0mIndexError\u001b[0m\u001b[0;34m:\u001b[0m\u001b[0;34m\u001b[0m\u001b[0m\n",
          "\u001b[0;32mpandas/_libs/tslib.pyx\u001b[0m in \u001b[0;36mpandas._libs.tslib.get_value_box\u001b[0;34m()\u001b[0m\n",
          "\u001b[0;32mpandas/_libs/tslib.pyx\u001b[0m in \u001b[0;36mpandas._libs.tslib.get_value_box\u001b[0;34m()\u001b[0m\n",
          "\u001b[0;31mTypeError\u001b[0m: 'str' object cannot be interpreted as an integer",
          "\nDuring handling of the above exception, another exception occurred:\n",
          "\u001b[0;31mKeyError\u001b[0m                                  Traceback (most recent call last)",
          "\u001b[0;32m~/anaconda3/lib/python3.6/site-packages/ipywidgets/widgets/interaction.py\u001b[0m in \u001b[0;36mupdate\u001b[0;34m(self, *args)\u001b[0m\n\u001b[1;32m    249\u001b[0m                     \u001b[0mvalue\u001b[0m \u001b[0;34m=\u001b[0m \u001b[0mwidget\u001b[0m\u001b[0;34m.\u001b[0m\u001b[0mget_interact_value\u001b[0m\u001b[0;34m(\u001b[0m\u001b[0;34m)\u001b[0m\u001b[0;34m\u001b[0m\u001b[0m\n\u001b[1;32m    250\u001b[0m                     \u001b[0mself\u001b[0m\u001b[0;34m.\u001b[0m\u001b[0mkwargs\u001b[0m\u001b[0;34m[\u001b[0m\u001b[0mwidget\u001b[0m\u001b[0;34m.\u001b[0m\u001b[0m_kwarg\u001b[0m\u001b[0;34m]\u001b[0m \u001b[0;34m=\u001b[0m \u001b[0mvalue\u001b[0m\u001b[0;34m\u001b[0m\u001b[0m\n\u001b[0;32m--> 251\u001b[0;31m                 \u001b[0mself\u001b[0m\u001b[0;34m.\u001b[0m\u001b[0mresult\u001b[0m \u001b[0;34m=\u001b[0m \u001b[0mself\u001b[0m\u001b[0;34m.\u001b[0m\u001b[0mf\u001b[0m\u001b[0;34m(\u001b[0m\u001b[0;34m**\u001b[0m\u001b[0mself\u001b[0m\u001b[0;34m.\u001b[0m\u001b[0mkwargs\u001b[0m\u001b[0;34m)\u001b[0m\u001b[0;34m\u001b[0m\u001b[0m\n\u001b[0m\u001b[1;32m    252\u001b[0m                 \u001b[0mshow_inline_matplotlib_plots\u001b[0m\u001b[0;34m(\u001b[0m\u001b[0;34m)\u001b[0m\u001b[0;34m\u001b[0m\u001b[0m\n\u001b[1;32m    253\u001b[0m                 \u001b[0;32mif\u001b[0m \u001b[0mself\u001b[0m\u001b[0;34m.\u001b[0m\u001b[0mauto_display\u001b[0m \u001b[0;32mand\u001b[0m \u001b[0mself\u001b[0m\u001b[0;34m.\u001b[0m\u001b[0mresult\u001b[0m \u001b[0;32mis\u001b[0m \u001b[0;32mnot\u001b[0m \u001b[0;32mNone\u001b[0m\u001b[0;34m:\u001b[0m\u001b[0;34m\u001b[0m\u001b[0m\n",
          "\u001b[0;32m<ipython-input-14-9eab7ab5ff80>\u001b[0m in \u001b[0;36mview3d\u001b[0;34m(show_bio_assembly, show_surface, show_labels, i)\u001b[0m\n\u001b[1;32m      3\u001b[0m     \u001b[0;32mdef\u001b[0m \u001b[0mview3d\u001b[0m\u001b[0;34m(\u001b[0m\u001b[0mshow_bio_assembly\u001b[0m\u001b[0;34m=\u001b[0m\u001b[0;32mFalse\u001b[0m\u001b[0;34m,\u001b[0m \u001b[0mshow_surface\u001b[0m\u001b[0;34m=\u001b[0m\u001b[0;32mFalse\u001b[0m\u001b[0;34m,\u001b[0m \u001b[0mshow_labels\u001b[0m\u001b[0;34m=\u001b[0m\u001b[0;32mTrue\u001b[0m\u001b[0;34m,\u001b[0m \u001b[0mi\u001b[0m\u001b[0;34m=\u001b[0m\u001b[0;36m0\u001b[0m\u001b[0;34m)\u001b[0m\u001b[0;34m:\u001b[0m\u001b[0;34m\u001b[0m\u001b[0m\n\u001b[1;32m      4\u001b[0m         \u001b[0mpdb_id\u001b[0m\u001b[0;34m,\u001b[0m \u001b[0mchain_id\u001b[0m \u001b[0;34m=\u001b[0m \u001b[0mdf\u001b[0m\u001b[0;34m.\u001b[0m\u001b[0miloc\u001b[0m\u001b[0;34m[\u001b[0m\u001b[0mi\u001b[0m\u001b[0;34m]\u001b[0m\u001b[0;34m[\u001b[0m\u001b[0;34m'pdbChainId'\u001b[0m\u001b[0;34m]\u001b[0m\u001b[0;34m.\u001b[0m\u001b[0msplit\u001b[0m\u001b[0;34m(\u001b[0m\u001b[0;34m'.'\u001b[0m\u001b[0;34m)\u001b[0m\u001b[0;34m\u001b[0m\u001b[0m\n\u001b[0;32m----> 5\u001b[0;31m         \u001b[0mres_num\u001b[0m \u001b[0;34m=\u001b[0m \u001b[0mdf\u001b[0m\u001b[0;34m.\u001b[0m\u001b[0miloc\u001b[0m\u001b[0;34m[\u001b[0m\u001b[0mi\u001b[0m\u001b[0;34m]\u001b[0m\u001b[0;34m[\u001b[0m\u001b[0;34m'pdbResNums'\u001b[0m\u001b[0;34m]\u001b[0m\u001b[0;34m\u001b[0m\u001b[0m\n\u001b[0m\u001b[1;32m      6\u001b[0m         \u001b[0mlabels\u001b[0m \u001b[0;34m=\u001b[0m \u001b[0mdf\u001b[0m\u001b[0;34m.\u001b[0m\u001b[0miloc\u001b[0m\u001b[0;34m[\u001b[0m\u001b[0mi\u001b[0m\u001b[0;34m]\u001b[0m\u001b[0;34m[\u001b[0m\u001b[0;34m'snps'\u001b[0m\u001b[0;34m]\u001b[0m\u001b[0;34m\u001b[0m\u001b[0m\n\u001b[1;32m      7\u001b[0m         \u001b[0msigs\u001b[0m \u001b[0;34m=\u001b[0m \u001b[0mdf\u001b[0m\u001b[0;34m.\u001b[0m\u001b[0miloc\u001b[0m\u001b[0;34m[\u001b[0m\u001b[0mi\u001b[0m\u001b[0;34m]\u001b[0m\u001b[0;34m[\u001b[0m\u001b[0;34m'clinsig'\u001b[0m\u001b[0;34m]\u001b[0m\u001b[0;34m\u001b[0m\u001b[0m\n",
          "\u001b[0;32m~/anaconda3/lib/python3.6/site-packages/pandas/core/series.py\u001b[0m in \u001b[0;36m__getitem__\u001b[0;34m(self, key)\u001b[0m\n\u001b[1;32m    621\u001b[0m         \u001b[0mkey\u001b[0m \u001b[0;34m=\u001b[0m \u001b[0mcom\u001b[0m\u001b[0;34m.\u001b[0m\u001b[0m_apply_if_callable\u001b[0m\u001b[0;34m(\u001b[0m\u001b[0mkey\u001b[0m\u001b[0;34m,\u001b[0m \u001b[0mself\u001b[0m\u001b[0;34m)\u001b[0m\u001b[0;34m\u001b[0m\u001b[0m\n\u001b[1;32m    622\u001b[0m         \u001b[0;32mtry\u001b[0m\u001b[0;34m:\u001b[0m\u001b[0;34m\u001b[0m\u001b[0m\n\u001b[0;32m--> 623\u001b[0;31m             \u001b[0mresult\u001b[0m \u001b[0;34m=\u001b[0m \u001b[0mself\u001b[0m\u001b[0;34m.\u001b[0m\u001b[0mindex\u001b[0m\u001b[0;34m.\u001b[0m\u001b[0mget_value\u001b[0m\u001b[0;34m(\u001b[0m\u001b[0mself\u001b[0m\u001b[0;34m,\u001b[0m \u001b[0mkey\u001b[0m\u001b[0;34m)\u001b[0m\u001b[0;34m\u001b[0m\u001b[0m\n\u001b[0m\u001b[1;32m    624\u001b[0m \u001b[0;34m\u001b[0m\u001b[0m\n\u001b[1;32m    625\u001b[0m             \u001b[0;32mif\u001b[0m \u001b[0;32mnot\u001b[0m \u001b[0mis_scalar\u001b[0m\u001b[0;34m(\u001b[0m\u001b[0mresult\u001b[0m\u001b[0;34m)\u001b[0m\u001b[0;34m:\u001b[0m\u001b[0;34m\u001b[0m\u001b[0m\n",
          "\u001b[0;32m~/anaconda3/lib/python3.6/site-packages/pandas/core/indexes/base.py\u001b[0m in \u001b[0;36mget_value\u001b[0;34m(self, series, key)\u001b[0m\n\u001b[1;32m   2572\u001b[0m                     \u001b[0;32mraise\u001b[0m \u001b[0mInvalidIndexError\u001b[0m\u001b[0;34m(\u001b[0m\u001b[0mkey\u001b[0m\u001b[0;34m)\u001b[0m\u001b[0;34m\u001b[0m\u001b[0m\n\u001b[1;32m   2573\u001b[0m                 \u001b[0;32melse\u001b[0m\u001b[0;34m:\u001b[0m\u001b[0;34m\u001b[0m\u001b[0m\n\u001b[0;32m-> 2574\u001b[0;31m                     \u001b[0;32mraise\u001b[0m \u001b[0me1\u001b[0m\u001b[0;34m\u001b[0m\u001b[0m\n\u001b[0m\u001b[1;32m   2575\u001b[0m             \u001b[0;32mexcept\u001b[0m \u001b[0mException\u001b[0m\u001b[0;34m:\u001b[0m  \u001b[0;31m# pragma: no cover\u001b[0m\u001b[0;34m\u001b[0m\u001b[0m\n\u001b[1;32m   2576\u001b[0m                 \u001b[0;32mraise\u001b[0m \u001b[0me1\u001b[0m\u001b[0;34m\u001b[0m\u001b[0m\n",
          "\u001b[0;32m~/anaconda3/lib/python3.6/site-packages/pandas/core/indexes/base.py\u001b[0m in \u001b[0;36mget_value\u001b[0;34m(self, series, key)\u001b[0m\n\u001b[1;32m   2558\u001b[0m         \u001b[0;32mtry\u001b[0m\u001b[0;34m:\u001b[0m\u001b[0;34m\u001b[0m\u001b[0m\n\u001b[1;32m   2559\u001b[0m             return self._engine.get_value(s, k,\n\u001b[0;32m-> 2560\u001b[0;31m                                           tz=getattr(series.dtype, 'tz', None))\n\u001b[0m\u001b[1;32m   2561\u001b[0m         \u001b[0;32mexcept\u001b[0m \u001b[0mKeyError\u001b[0m \u001b[0;32mas\u001b[0m \u001b[0me1\u001b[0m\u001b[0;34m:\u001b[0m\u001b[0;34m\u001b[0m\u001b[0m\n\u001b[1;32m   2562\u001b[0m             \u001b[0;32mif\u001b[0m \u001b[0mlen\u001b[0m\u001b[0;34m(\u001b[0m\u001b[0mself\u001b[0m\u001b[0;34m)\u001b[0m \u001b[0;34m>\u001b[0m \u001b[0;36m0\u001b[0m \u001b[0;32mand\u001b[0m \u001b[0mself\u001b[0m\u001b[0;34m.\u001b[0m\u001b[0minferred_type\u001b[0m \u001b[0;32min\u001b[0m \u001b[0;34m[\u001b[0m\u001b[0;34m'integer'\u001b[0m\u001b[0;34m,\u001b[0m \u001b[0;34m'boolean'\u001b[0m\u001b[0;34m]\u001b[0m\u001b[0;34m:\u001b[0m\u001b[0;34m\u001b[0m\u001b[0m\n",
          "\u001b[0;32mpandas/_libs/index.pyx\u001b[0m in \u001b[0;36mpandas._libs.index.IndexEngine.get_value\u001b[0;34m()\u001b[0m\n",
          "\u001b[0;32mpandas/_libs/index.pyx\u001b[0m in \u001b[0;36mpandas._libs.index.IndexEngine.get_value\u001b[0;34m()\u001b[0m\n",
          "\u001b[0;32mpandas/_libs/index.pyx\u001b[0m in \u001b[0;36mpandas._libs.index.IndexEngine.get_loc\u001b[0;34m()\u001b[0m\n",
          "\u001b[0;32mpandas/_libs/hashtable_class_helper.pxi\u001b[0m in \u001b[0;36mpandas._libs.hashtable.PyObjectHashTable.get_item\u001b[0;34m()\u001b[0m\n",
          "\u001b[0;32mpandas/_libs/hashtable_class_helper.pxi\u001b[0m in \u001b[0;36mpandas._libs.hashtable.PyObjectHashTable.get_item\u001b[0;34m()\u001b[0m\n",
          "\u001b[0;31mKeyError\u001b[0m: 'pdbResNums'"
         ]
        }
       ]
      }
     },
     "284f4e5dcf694e79bb6b5473c7dc5920": {
      "model_module": "@jupyter-widgets/base",
      "model_module_version": "1.1.0",
      "model_name": "LayoutModel",
      "state": {}
     },
     "28dc1562e1c74b34ac122d97d19082d9": {
      "model_module": "@jupyter-widgets/base",
      "model_module_version": "1.1.0",
      "model_name": "LayoutModel",
      "state": {}
     },
     "2b96a49ae77b4e11ae25e8096fc2b042": {
      "model_module": "@jupyter-widgets/base",
      "model_module_version": "1.1.0",
      "model_name": "LayoutModel",
      "state": {}
     },
     "2c20921911c44a9a8cc0442114098d11": {
      "model_module": "@jupyter-widgets/controls",
      "model_module_version": "1.3.0",
      "model_name": "IntSliderModel",
      "state": {
       "continuous_update": false,
       "description": "Structure",
       "layout": "IPY_MODEL_e5cebe2cd7534d67891a689e2fffe6ea",
       "max": 1455,
       "style": "IPY_MODEL_4cb6b63785584ec4a11ad058893ff421"
      }
     },
     "2dc41f7d5ade4818b8a72b1a946ff591": {
      "model_module": "@jupyter-widgets/controls",
      "model_module_version": "1.3.0",
      "model_name": "DescriptionStyleModel",
      "state": {
       "description_width": ""
      }
     },
     "2ec7dd1872bb4ceda671cf3c0034c590": {
      "model_module": "@jupyter-widgets/base",
      "model_module_version": "1.1.0",
      "model_name": "LayoutModel",
      "state": {}
     },
     "2f4d798ec7c7442994892015d535e371": {
      "model_module": "@jupyter-widgets/base",
      "model_module_version": "1.1.0",
      "model_name": "LayoutModel",
      "state": {}
     },
     "2fb37a813ceb461daf93237960172bb4": {
      "model_module": "@jupyter-widgets/controls",
      "model_module_version": "1.3.0",
      "model_name": "DescriptionStyleModel",
      "state": {
       "description_width": ""
      }
     },
     "30320d2cee3c46a5ad152be72eceb241": {
      "model_module": "@jupyter-widgets/controls",
      "model_module_version": "1.3.0",
      "model_name": "VBoxModel",
      "state": {
       "_dom_classes": [
        "widget-interact"
       ],
       "children": [
        "IPY_MODEL_d68ff6da11814b9ea5cf74cb28897d03",
        "IPY_MODEL_16d2119643f741e1932e15ccb98eea36",
        "IPY_MODEL_cfbfe7d558e24439ad01029551de310a",
        "IPY_MODEL_5f3fb76c38e842959173fb68ea4fa08a",
        "IPY_MODEL_a2ec76940e5849abb1029070c139eee6"
       ],
       "layout": "IPY_MODEL_cd099e73995141b19792a4f9704043fb"
      }
     },
     "30960e1d146649f6b82e93aeda1ab871": {
      "model_module": "@jupyter-widgets/controls",
      "model_module_version": "1.3.0",
      "model_name": "SelectMultipleModel",
      "state": {
       "_options_labels": [
        "All",
        "Benign",
        "Likely benign",
        "Likely pathogenic",
        "Pathogenic",
        "drug-response",
        "untested",
        "Uncertain significance",
        "other",
        "null"
       ],
       "description": "Significance:",
       "index": [
        1,
        2,
        3,
        4,
        5
       ],
       "layout": "IPY_MODEL_b0cbc725bd8e4065a331a2f56e331f72",
       "rows": 5,
       "style": "IPY_MODEL_e945c9f0cd854d66b8cb4a53e20f149e"
      }
     },
     "31e14688001344a6886b9650bf07f423": {
      "model_module": "@jupyter-widgets/controls",
      "model_module_version": "1.3.0",
      "model_name": "TextareaModel",
      "state": {
       "description": "Enter id(s):",
       "layout": "IPY_MODEL_bbc81bdc6fa4486c97170d08a12bab55",
       "style": "IPY_MODEL_5aee98b3c97d4dd3a821c7dc2a9a45d7"
      }
     },
     "330b25ede59341a5ad29883e86ee7f04": {
      "model_module": "@jupyter-widgets/controls",
      "model_module_version": "1.3.0",
      "model_name": "DescriptionStyleModel",
      "state": {
       "description_width": ""
      }
     },
     "3317b17133b94d1a8e5c3ef4ad92c8cc": {
      "model_module": "@jupyter-widgets/controls",
      "model_module_version": "1.3.0",
      "model_name": "SelectMultipleModel",
      "state": {
       "_options_labels": [
        "All",
        "Benign",
        "Likely benign",
        "Likely pathogenic",
        "Pathogenic",
        "drug-response",
        "untested",
        "Uncertain significance",
        "other",
        "null"
       ],
       "description": "Significance:",
       "index": [
        1,
        2,
        3,
        4,
        5
       ],
       "layout": "IPY_MODEL_cde25a4550a74c1896d5c78a1624b22d",
       "rows": 5,
       "style": "IPY_MODEL_16c844af797347d2980141fccb62d708"
      }
     },
     "333d9c7073d84e53ab035bce9908e44c": {
      "model_module": "@jupyter-widgets/base",
      "model_module_version": "1.1.0",
      "model_name": "LayoutModel",
      "state": {}
     },
     "334bf4a3da7b4906a3de78822d3c303a": {
      "model_module": "@jupyter-widgets/controls",
      "model_module_version": "1.3.0",
      "model_name": "SliderStyleModel",
      "state": {
       "description_width": ""
      }
     },
     "338fa3d4b4f242689781436d957a8f88": {
      "model_module": "@jupyter-widgets/controls",
      "model_module_version": "1.3.0",
      "model_name": "DescriptionStyleModel",
      "state": {
       "description_width": ""
      }
     },
     "36fa9d98dd764235b9f91e29339b623d": {
      "model_module": "@jupyter-widgets/controls",
      "model_module_version": "1.3.0",
      "model_name": "VBoxModel",
      "state": {
       "_dom_classes": [
        "widget-interact"
       ],
       "children": [
        "IPY_MODEL_9689515fb86e44728675416b7c3dcec7",
        "IPY_MODEL_e7b5b78f25c54b7d9fbe0045680a5e41",
        "IPY_MODEL_c744db66aafb45bda77ad58df8732fed",
        "IPY_MODEL_5626623c648d4230ae7b4be92757704b",
        "IPY_MODEL_3b4aa6d513344e029297effe7e7d0ea9"
       ],
       "layout": "IPY_MODEL_624be8f057e143b38ca004d169e47693"
      }
     },
     "376436867e1b4da58501edaa649fdc59": {
      "model_module": "@jupyter-widgets/controls",
      "model_module_version": "1.3.0",
      "model_name": "DescriptionStyleModel",
      "state": {
       "description_width": ""
      }
     },
     "37aaf91a01694120b1693838b44d5b05": {
      "model_module": "@jupyter-widgets/controls",
      "model_module_version": "1.3.0",
      "model_name": "DescriptionStyleModel",
      "state": {
       "description_width": ""
      }
     },
     "391208b222024de9b47e619fb17d7921": {
      "model_module": "@jupyter-widgets/controls",
      "model_module_version": "1.3.0",
      "model_name": "DescriptionStyleModel",
      "state": {
       "description_width": ""
      }
     },
     "39b2298680bc4144a0a9a85f784855eb": {
      "model_module": "@jupyter-widgets/base",
      "model_module_version": "1.1.0",
      "model_name": "LayoutModel",
      "state": {}
     },
     "3a532ce923b540f0938027c058a6d544": {
      "model_module": "@jupyter-widgets/controls",
      "model_module_version": "1.3.0",
      "model_name": "DescriptionStyleModel",
      "state": {
       "description_width": ""
      }
     },
     "3af81d02858240b0a645f4e5652a5e0e": {
      "model_module": "@jupyter-widgets/base",
      "model_module_version": "1.1.0",
      "model_name": "LayoutModel",
      "state": {}
     },
     "3b07fb64587b457aaf471956359260a5": {
      "model_module": "@jupyter-widgets/controls",
      "model_module_version": "1.3.0",
      "model_name": "TextareaModel",
      "state": {
       "description": "Enter id(s):",
       "layout": "IPY_MODEL_8e08d74de35542a6a59e75c7843c8f43",
       "style": "IPY_MODEL_236bc370350c4e16bf2e1fbb0ee4ce16"
      }
     },
     "3b4aa6d513344e029297effe7e7d0ea9": {
      "model_module": "@jupyter-widgets/output",
      "model_module_version": "1.0.0",
      "model_name": "OutputModel",
      "state": {
       "layout": "IPY_MODEL_a4f7676b4ae34fa6aa1d129285d14b2d",
       "outputs": [
        {
         "name": "stdout",
         "output_type": "stream",
         "text": "PDB Id: 2AMY chain Id: A\nuniprotId: O15305\n"
        },
        {
         "data": {
          "application/3dmoljs_load.v0": "<div id=\"3dmolviewer_15344575052049222\"  style=\"position: relative; width: 640px; height: 480px\">\n        <p id=\"3dmolwarning_15344575052049222\" style=\"background-color:#ffcccc;color:black\">You appear to be running in JupyterLab.  You need to install the 3dmol extension: <br>\n        <tt>jupyter labextension install jupyterlab_3dmol</tt></p>\n        </div>\n<script>\n\nvar loadScriptAsync = function(uri){\n  return new Promise((resolve, reject) => {\n    var tag = document.createElement('script');\n    tag.src = uri;\n    tag.async = true;\n    tag.onload = () => {\n      resolve();\n    };\n  var firstScriptTag = document.getElementsByTagName('script')[0];\n  firstScriptTag.parentNode.insertBefore(tag, firstScriptTag);\n});\n};\n\nif(typeof $3Dmolpromise === 'undefined') {\n$3Dmolpromise = null;\n  $3Dmolpromise = loadScriptAsync('https://3dmol.csb.pitt.edu/build/3Dmol.js');\n}\n\nvar viewer_15344575052049222 = null;\nvar warn = document.getElementById(\"3dmolwarning_15344575052049222\");\nif(warn) {\n    warn.parentNode.removeChild(warn);\n}\n$3Dmolpromise.then(function() {\nviewer_15344575052049222 = $3Dmol.createViewer($(\"#3dmolviewer_15344575052049222\"),{backgroundColor:\"white\"});\n$3Dmol.download(\"pdb:2AMY\", viewer_15344575052049222, {\"doAssembly\": false}, function() {\n\tviewer_15344575052049222.setStyle({\"sphere\": {\"colorscheme\": \"chain\", \"opacity\": 0.6}});\n\tviewer_15344575052049222.setStyle({\"hetflag\": true},{\"stick\": {\"radius\": 0.3, \"singleBond\": false}});\n\tviewer_15344575052049222.setStyle({\"resi\": \"63\", \"chain\": \"A\"},{\"sphere\": {\"color\": \"palevioletred\"}});\n\tviewer_15344575052049222.addLabel(\"K->N Likely pathogenic\",{\"fontSize\": 10, \"fontColor\": \"palevioletred\", \"backgroundColor\": \"ivory\"},{\"resi\": \"63\", \"chain\": \"A\"});\n\tviewer_15344575052049222.setStyle({\"resi\": \"132\", \"chain\": \"A\"},{\"sphere\": {\"color\": \"palevioletred\"}});\n\tviewer_15344575052049222.addLabel(\"I->T Likely pathogenic\",{\"fontSize\": 10, \"fontColor\": \"palevioletred\", \"backgroundColor\": \"ivory\"},{\"resi\": \"132\", \"chain\": \"A\"});\n\tviewer_15344575052049222.setStyle({\"resi\": \"69\", \"chain\": \"A\"},{\"sphere\": {\"color\": \"palevioletred\"}});\n\tviewer_15344575052049222.addLabel(\"P->SA Likely pathogenic\",{\"fontSize\": 10, \"fontColor\": \"palevioletred\", \"backgroundColor\": \"ivory\"},{\"resi\": \"69\", \"chain\": \"A\"});\n\tviewer_15344575052049222.setStyle({\"resi\": \"171\", \"chain\": \"A\"},{\"sphere\": {\"color\": \"palevioletred\"}});\n\tviewer_15344575052049222.addLabel(\"T->N Likely pathogenic\",{\"fontSize\": 10, \"fontColor\": \"palevioletred\", \"backgroundColor\": \"ivory\"},{\"resi\": \"171\", \"chain\": \"A\"});\n\tviewer_15344575052049222.setStyle({\"resi\": \"226\", \"chain\": \"A\"},{\"sphere\": {\"color\": \"red\"}});\n\tviewer_15344575052049222.addLabel(\"T->S Pathogenic\",{\"fontSize\": 10, \"fontColor\": \"red\", \"backgroundColor\": \"ivory\"},{\"resi\": \"226\", \"chain\": \"A\"});\n\tviewer_15344575052049222.setStyle({\"resi\": \"187\", \"chain\": \"A\"},{\"sphere\": {\"color\": \"palevioletred\"}});\n\tviewer_15344575052049222.addLabel(\"W->* Likely pathogenic\",{\"fontSize\": 10, \"fontColor\": \"palevioletred\", \"backgroundColor\": \"ivory\"},{\"resi\": \"187\", \"chain\": \"A\"});\n\tviewer_15344575052049222.setStyle({\"resi\": \"32\", \"chain\": \"A\"},{\"sphere\": {\"color\": \"red\"}});\n\tviewer_15344575052049222.addLabel(\"L->R Pathogenic\",{\"fontSize\": 10, \"fontColor\": \"red\", \"backgroundColor\": \"ivory\"},{\"resi\": \"32\", \"chain\": \"A\"});\n\tviewer_15344575052049222.setStyle({\"resi\": \"157\", \"chain\": \"A\"},{\"sphere\": {\"color\": \"red\"}});\n\tviewer_15344575052049222.addLabel(\"F->S Pathogenic\",{\"fontSize\": 10, \"fontColor\": \"red\", \"backgroundColor\": \"ivory\"},{\"resi\": \"157\", \"chain\": \"A\"});\n\tviewer_15344575052049222.setStyle({\"resi\": \"141\", \"chain\": \"A\"},{\"sphere\": {\"color\": \"red\"}});\n\tviewer_15344575052049222.addLabel(\"R->H Pathogenic\",{\"fontSize\": 10, \"fontColor\": \"red\", \"backgroundColor\": \"ivory\"},{\"resi\": \"141\", \"chain\": \"A\"});\n\tviewer_15344575052049222.setStyle({\"resi\": \"188\", \"chain\": \"A\"},{\"sphere\": {\"color\": \"red\"}});\n\tviewer_15344575052049222.addLabel(\"D->G Pathogenic\",{\"fontSize\": 10, \"fontColor\": \"red\", \"backgroundColor\": \"ivory\"},{\"resi\": \"188\", \"chain\": \"A\"});\n\tviewer_15344575052049222.setStyle({\"resi\": \"208\", \"chain\": \"A\"},{\"sphere\": {\"color\": \"red\"}});\n\tviewer_15344575052049222.addLabel(\"G->EA Pathogenic\",{\"fontSize\": 10, \"fontColor\": \"red\", \"backgroundColor\": \"ivory\"},{\"resi\": \"208\", \"chain\": \"A\"});\n\tviewer_15344575052049222.setStyle({\"resi\": \"148\", \"chain\": \"A\"},{\"sphere\": {\"color\": \"red\"}});\n\tviewer_15344575052049222.addLabel(\"D->N Pathogenic\",{\"fontSize\": 10, \"fontColor\": \"red\", \"backgroundColor\": \"ivory\"},{\"resi\": \"148\", \"chain\": \"A\"});\n\tviewer_15344575052049222.setStyle({\"resi\": \"9\", \"chain\": \"A\"},{\"sphere\": {\"color\": \"palevioletred\"}});\n\tviewer_15344575052049222.addLabel(\"C->*AY Likely pathogenic\",{\"fontSize\": 10, \"fontColor\": \"palevioletred\", \"backgroundColor\": \"ivory\"},{\"resi\": \"9\", \"chain\": \"A\"});\n\tviewer_15344575052049222.setStyle({\"resi\": \"231\", \"chain\": \"A\"},{\"sphere\": {\"color\": \"red\"}});\n\tviewer_15344575052049222.addLabel(\"V->M Pathogenic\",{\"fontSize\": 10, \"fontColor\": \"red\", \"backgroundColor\": \"ivory\"},{\"resi\": \"231\", \"chain\": \"A\"});\n\tviewer_15344575052049222.setStyle({\"resi\": \"18\", \"chain\": \"A\"},{\"sphere\": {\"color\": \"palevioletred\"}});\n\tviewer_15344575052049222.addLabel(\"T->S Likely pathogenic\",{\"fontSize\": 10, \"fontColor\": \"palevioletred\", \"backgroundColor\": \"ivory\"},{\"resi\": \"18\", \"chain\": \"A\"});\n\tviewer_15344575052049222.setStyle({\"resi\": \"241\", \"chain\": \"A\"},{\"sphere\": {\"color\": \"red\"}});\n\tviewer_15344575052049222.addLabel(\"C->S Pathogenic\",{\"fontSize\": 10, \"fontColor\": \"red\", \"backgroundColor\": \"ivory\"},{\"resi\": \"241\", \"chain\": \"A\"});\n\tviewer_15344575052049222.setStyle({\"resi\": \"129\", \"chain\": \"A\"},{\"sphere\": {\"color\": \"red\"}});\n\tviewer_15344575052049222.addLabel(\"V->M Pathogenic\",{\"fontSize\": 10, \"fontColor\": \"red\", \"backgroundColor\": \"ivory\"},{\"resi\": \"129\", \"chain\": \"A\"});\n\tviewer_15344575052049222.setStyle({\"resi\": \"116\", \"chain\": \"A\"},{\"sphere\": {\"color\": \"palevioletred\"}});\n\tviewer_15344575052049222.addLabel(\"R->E Likely pathogenic\",{\"fontSize\": 10, \"fontColor\": \"palevioletred\", \"backgroundColor\": \"ivory\"},{\"resi\": \"116\", \"chain\": \"A\"});\n\tviewer_15344575052049222.setStyle({\"resi\": \"119\", \"chain\": \"A\"},{\"sphere\": {\"color\": \"red\"}});\n\tviewer_15344575052049222.addLabel(\"F->L Pathogenic\",{\"fontSize\": 10, \"fontColor\": \"red\", \"backgroundColor\": \"ivory\"},{\"resi\": \"119\", \"chain\": \"A\"});\n\tviewer_15344575052049222.setStyle({\"resi\": \"108\", \"chain\": \"A\"},{\"sphere\": {\"color\": \"red\"}});\n\tviewer_15344575052049222.addLabel(\"A->V Pathogenic\",{\"fontSize\": 10, \"fontColor\": \"red\", \"backgroundColor\": \"ivory\"},{\"resi\": \"108\", \"chain\": \"A\"});\n\tviewer_15344575052049222.setStyle({\"resi\": \"31\", \"chain\": \"A\"},{\"sphere\": {\"color\": \"palevioletred\"}});\n\tviewer_15344575052049222.addLabel(\"F->L Likely pathogenic\",{\"fontSize\": 10, \"fontColor\": \"palevioletred\", \"backgroundColor\": \"ivory\"},{\"resi\": \"31\", \"chain\": \"A\"});\n\tviewer_15344575052049222.setStyle({\"resi\": \"194\", \"chain\": \"A\"},{\"sphere\": {\"color\": \"palevioletred\"}});\n\tviewer_15344575052049222.addLabel(\"R->* Likely pathogenic\",{\"fontSize\": 10, \"fontColor\": \"palevioletred\", \"backgroundColor\": \"ivory\"},{\"resi\": \"194\", \"chain\": \"A\"});\n\tviewer_15344575052049222.setStyle({\"resi\": \"176\", \"chain\": \"A\"},{\"sphere\": {\"color\": \"palevioletred\"}});\n\tviewer_15344575052049222.addLabel(\"G->D Likely pathogenic\",{\"fontSize\": 10, \"fontColor\": \"palevioletred\", \"backgroundColor\": \"ivory\"},{\"resi\": \"176\", \"chain\": \"A\"});\n\tviewer_15344575052049222.setStyle({\"resi\": \"106\", \"chain\": \"A\"},{\"sphere\": {\"color\": \"red\"}});\n\tviewer_15344575052049222.addLabel(\"Y->F Pathogenic\",{\"fontSize\": 10, \"fontColor\": \"red\", \"backgroundColor\": \"ivory\"},{\"resi\": \"106\", \"chain\": \"A\"});\n\tviewer_15344575052049222.setStyle({\"resi\": \"216\", \"chain\": \"A\"},{\"sphere\": {\"color\": \"red\"}});\n\tviewer_15344575052049222.addLabel(\"N->S Pathogenic,Likely pathogenic\",{\"fontSize\": 10, \"fontColor\": \"red\", \"backgroundColor\": \"ivory\"},{\"resi\": \"216\", \"chain\": \"A\"});\n\tviewer_15344575052049222.setStyle({\"resi\": \"207\", \"chain\": \"A\"},{\"sphere\": {\"color\": \"palevioletred\"}});\n\tviewer_15344575052049222.addLabel(\"F->S Likely pathogenic\",{\"fontSize\": 10, \"fontColor\": \"palevioletred\", \"backgroundColor\": \"ivory\"},{\"resi\": \"207\", \"chain\": \"A\"});\n\tviewer_15344575052049222.setStyle({\"resi\": \"65\", \"chain\": \"A\"},{\"sphere\": {\"color\": \"red\"}});\n\tviewer_15344575052049222.addLabel(\"D->Y Pathogenic\",{\"fontSize\": 10, \"fontColor\": \"red\", \"backgroundColor\": \"ivory\"},{\"resi\": \"65\", \"chain\": \"A\"});\n\tviewer_15344575052049222.setStyle({\"resi\": \"237\", \"chain\": \"A\"},{\"sphere\": {\"color\": \"red\"}});\n\tviewer_15344575052049222.addLabel(\"T->MR Pathogenic\",{\"fontSize\": 10, \"fontColor\": \"red\", \"backgroundColor\": \"ivory\"},{\"resi\": \"237\", \"chain\": \"A\"});\n\tviewer_15344575052049222.setStyle({\"resi\": \"44\", \"chain\": \"A\"},{\"sphere\": {\"color\": \"palevioletred\"}});\n\tviewer_15344575052049222.addLabel(\"V->A Likely pathogenic\",{\"fontSize\": 10, \"fontColor\": \"palevioletred\", \"backgroundColor\": \"ivory\"},{\"resi\": \"44\", \"chain\": \"A\"});\n\tviewer_15344575052049222.setStyle({\"resi\": \"218\", \"chain\": \"A\"},{\"sphere\": {\"color\": \"red\"}});\n\tviewer_15344575052049222.addLabel(\"H->LD Pathogenic,Likely pathogenic\",{\"fontSize\": 10, \"fontColor\": \"red\", \"backgroundColor\": \"ivory\"},{\"resi\": \"218\", \"chain\": \"A\"});\n\tviewer_15344575052049222.setStyle({\"resi\": \"139\", \"chain\": \"A\"},{\"sphere\": {\"color\": \"red\"}});\n\tviewer_15344575052049222.addLabel(\"E->K Pathogenic,Likely pathogenic\",{\"fontSize\": 10, \"fontColor\": \"red\", \"backgroundColor\": \"ivory\"},{\"resi\": \"139\", \"chain\": \"A\"});\n\tviewer_15344575052049222.setStyle({\"resi\": \"43\", \"chain\": \"A\"},{\"sphere\": {\"color\": \"palevioletred\"}});\n\tviewer_15344575052049222.addLabel(\"V->L Likely pathogenic\",{\"fontSize\": 10, \"fontColor\": \"palevioletred\", \"backgroundColor\": \"ivory\"},{\"resi\": \"43\", \"chain\": \"A\"});\n\tviewer_15344575052049222.setStyle({\"resi\": \"144\", \"chain\": \"A\"},{\"sphere\": {\"color\": \"palevioletred\"}});\n\tviewer_15344575052049222.addLabel(\"F->L Likely pathogenic\",{\"fontSize\": 10, \"fontColor\": \"palevioletred\", \"backgroundColor\": \"ivory\"},{\"resi\": \"144\", \"chain\": \"A\"});\n\tviewer_15344575052049222.setStyle({\"resi\": \"53\", \"chain\": \"A\"},{\"sphere\": {\"color\": \"red\"}});\n\tviewer_15344575052049222.addLabel(\"Q->* Pathogenic\",{\"fontSize\": 10, \"fontColor\": \"red\", \"backgroundColor\": \"ivory\"},{\"resi\": \"53\", \"chain\": \"A\"});\n\tviewer_15344575052049222.setStyle({\"resi\": \"153\", \"chain\": \"A\"},{\"sphere\": {\"color\": \"palevioletred\"}});\n\tviewer_15344575052049222.addLabel(\"I->T Likely pathogenic\",{\"fontSize\": 10, \"fontColor\": \"palevioletred\", \"backgroundColor\": \"ivory\"},{\"resi\": \"153\", \"chain\": \"A\"});\n\tviewer_15344575052049222.setStyle({\"resi\": \"113\", \"chain\": \"A\"},{\"sphere\": {\"color\": \"red\"}});\n\tviewer_15344575052049222.addLabel(\"P->TSL Pathogenic,Likely pathogenic\",{\"fontSize\": 10, \"fontColor\": \"red\", \"backgroundColor\": \"ivory\"},{\"resi\": \"113\", \"chain\": \"A\"});\n\tviewer_15344575052049222.setStyle({\"resi\": \"223\", \"chain\": \"A\"},{\"sphere\": {\"color\": \"red\"}});\n\tviewer_15344575052049222.addLabel(\"D->E Pathogenic\",{\"fontSize\": 10, \"fontColor\": \"red\", \"backgroundColor\": \"ivory\"},{\"resi\": \"223\", \"chain\": \"A\"});\n\tviewer_15344575052049222.setStyle({\"resi\": \"117\", \"chain\": \"A\"},{\"sphere\": {\"color\": \"red\"}});\n\tviewer_15344575052049222.addLabel(\"G->R Pathogenic\",{\"fontSize\": 10, \"fontColor\": \"red\", \"backgroundColor\": \"ivory\"},{\"resi\": \"117\", \"chain\": \"A\"});\n\tviewer_15344575052049222.setStyle({\"resi\": \"104\", \"chain\": \"A\"},{\"sphere\": {\"color\": \"red\"}});\n\tviewer_15344575052049222.addLabel(\"L->V Pathogenic\",{\"fontSize\": 10, \"fontColor\": \"red\", \"backgroundColor\": \"ivory\"},{\"resi\": \"104\", \"chain\": \"A\"});\n\tviewer_15344575052049222.setStyle({\"resi\": \"162\", \"chain\": \"A\"},{\"sphere\": {\"color\": \"red\"}});\n\tviewer_15344575052049222.addLabel(\"R->W Pathogenic\",{\"fontSize\": 10, \"fontColor\": \"red\", \"backgroundColor\": \"ivory\"},{\"resi\": \"162\", \"chain\": \"A\"});\n\tviewer_15344575052049222.setStyle({\"resi\": \"123\", \"chain\": \"A\"},{\"sphere\": {\"color\": \"red\"}});\n\tviewer_15344575052049222.addLabel(\"R->*Q Pathogenic\",{\"fontSize\": 10, \"fontColor\": \"red\", \"backgroundColor\": \"ivory\"},{\"resi\": \"123\", \"chain\": \"A\"});\n\tviewer_15344575052049222.zoomTo({\"resi\": [\"63\", \"132\", \"69\", \"171\", \"226\", \"187\", \"32\", \"157\", \"141\", \"188\", \"208\", \"148\", \"9\", \"231\", \"18\", \"241\", \"129\", \"116\", \"119\", \"108\", \"31\", \"194\", \"176\", \"106\", \"216\", \"207\", \"65\", \"237\", \"44\", \"218\", \"139\", \"43\", \"144\", \"53\", \"153\", \"113\", \"223\", \"117\", \"104\", \"162\", \"123\"], \"chain\": \"A\"});\nviewer_15344575052049222.render();\n})\n});\n</script>",
          "text/html": "<div id=\"3dmolviewer_15344575052049222\"  style=\"position: relative; width: 640px; height: 480px\">\n        <p id=\"3dmolwarning_15344575052049222\" style=\"background-color:#ffcccc;color:black\">You appear to be running in JupyterLab.  You need to install the 3dmol extension: <br>\n        <tt>jupyter labextension install jupyterlab_3dmol</tt></p>\n        </div>\n<script>\n\nvar loadScriptAsync = function(uri){\n  return new Promise((resolve, reject) => {\n    var tag = document.createElement('script');\n    tag.src = uri;\n    tag.async = true;\n    tag.onload = () => {\n      resolve();\n    };\n  var firstScriptTag = document.getElementsByTagName('script')[0];\n  firstScriptTag.parentNode.insertBefore(tag, firstScriptTag);\n});\n};\n\nif(typeof $3Dmolpromise === 'undefined') {\n$3Dmolpromise = null;\n  $3Dmolpromise = loadScriptAsync('https://3dmol.csb.pitt.edu/build/3Dmol.js');\n}\n\nvar viewer_15344575052049222 = null;\nvar warn = document.getElementById(\"3dmolwarning_15344575052049222\");\nif(warn) {\n    warn.parentNode.removeChild(warn);\n}\n$3Dmolpromise.then(function() {\nviewer_15344575052049222 = $3Dmol.createViewer($(\"#3dmolviewer_15344575052049222\"),{backgroundColor:\"white\"});\n$3Dmol.download(\"pdb:2AMY\", viewer_15344575052049222, {\"doAssembly\": false}, function() {\n\tviewer_15344575052049222.setStyle({\"sphere\": {\"colorscheme\": \"chain\", \"opacity\": 0.6}});\n\tviewer_15344575052049222.setStyle({\"hetflag\": true},{\"stick\": {\"radius\": 0.3, \"singleBond\": false}});\n\tviewer_15344575052049222.setStyle({\"resi\": \"63\", \"chain\": \"A\"},{\"sphere\": {\"color\": \"palevioletred\"}});\n\tviewer_15344575052049222.addLabel(\"K->N Likely pathogenic\",{\"fontSize\": 10, \"fontColor\": \"palevioletred\", \"backgroundColor\": \"ivory\"},{\"resi\": \"63\", \"chain\": \"A\"});\n\tviewer_15344575052049222.setStyle({\"resi\": \"132\", \"chain\": \"A\"},{\"sphere\": {\"color\": \"palevioletred\"}});\n\tviewer_15344575052049222.addLabel(\"I->T Likely pathogenic\",{\"fontSize\": 10, \"fontColor\": \"palevioletred\", \"backgroundColor\": \"ivory\"},{\"resi\": \"132\", \"chain\": \"A\"});\n\tviewer_15344575052049222.setStyle({\"resi\": \"69\", \"chain\": \"A\"},{\"sphere\": {\"color\": \"palevioletred\"}});\n\tviewer_15344575052049222.addLabel(\"P->SA Likely pathogenic\",{\"fontSize\": 10, \"fontColor\": \"palevioletred\", \"backgroundColor\": \"ivory\"},{\"resi\": \"69\", \"chain\": \"A\"});\n\tviewer_15344575052049222.setStyle({\"resi\": \"171\", \"chain\": \"A\"},{\"sphere\": {\"color\": \"palevioletred\"}});\n\tviewer_15344575052049222.addLabel(\"T->N Likely pathogenic\",{\"fontSize\": 10, \"fontColor\": \"palevioletred\", \"backgroundColor\": \"ivory\"},{\"resi\": \"171\", \"chain\": \"A\"});\n\tviewer_15344575052049222.setStyle({\"resi\": \"226\", \"chain\": \"A\"},{\"sphere\": {\"color\": \"red\"}});\n\tviewer_15344575052049222.addLabel(\"T->S Pathogenic\",{\"fontSize\": 10, \"fontColor\": \"red\", \"backgroundColor\": \"ivory\"},{\"resi\": \"226\", \"chain\": \"A\"});\n\tviewer_15344575052049222.setStyle({\"resi\": \"187\", \"chain\": \"A\"},{\"sphere\": {\"color\": \"palevioletred\"}});\n\tviewer_15344575052049222.addLabel(\"W->* Likely pathogenic\",{\"fontSize\": 10, \"fontColor\": \"palevioletred\", \"backgroundColor\": \"ivory\"},{\"resi\": \"187\", \"chain\": \"A\"});\n\tviewer_15344575052049222.setStyle({\"resi\": \"32\", \"chain\": \"A\"},{\"sphere\": {\"color\": \"red\"}});\n\tviewer_15344575052049222.addLabel(\"L->R Pathogenic\",{\"fontSize\": 10, \"fontColor\": \"red\", \"backgroundColor\": \"ivory\"},{\"resi\": \"32\", \"chain\": \"A\"});\n\tviewer_15344575052049222.setStyle({\"resi\": \"157\", \"chain\": \"A\"},{\"sphere\": {\"color\": \"red\"}});\n\tviewer_15344575052049222.addLabel(\"F->S Pathogenic\",{\"fontSize\": 10, \"fontColor\": \"red\", \"backgroundColor\": \"ivory\"},{\"resi\": \"157\", \"chain\": \"A\"});\n\tviewer_15344575052049222.setStyle({\"resi\": \"141\", \"chain\": \"A\"},{\"sphere\": {\"color\": \"red\"}});\n\tviewer_15344575052049222.addLabel(\"R->H Pathogenic\",{\"fontSize\": 10, \"fontColor\": \"red\", \"backgroundColor\": \"ivory\"},{\"resi\": \"141\", \"chain\": \"A\"});\n\tviewer_15344575052049222.setStyle({\"resi\": \"188\", \"chain\": \"A\"},{\"sphere\": {\"color\": \"red\"}});\n\tviewer_15344575052049222.addLabel(\"D->G Pathogenic\",{\"fontSize\": 10, \"fontColor\": \"red\", \"backgroundColor\": \"ivory\"},{\"resi\": \"188\", \"chain\": \"A\"});\n\tviewer_15344575052049222.setStyle({\"resi\": \"208\", \"chain\": \"A\"},{\"sphere\": {\"color\": \"red\"}});\n\tviewer_15344575052049222.addLabel(\"G->EA Pathogenic\",{\"fontSize\": 10, \"fontColor\": \"red\", \"backgroundColor\": \"ivory\"},{\"resi\": \"208\", \"chain\": \"A\"});\n\tviewer_15344575052049222.setStyle({\"resi\": \"148\", \"chain\": \"A\"},{\"sphere\": {\"color\": \"red\"}});\n\tviewer_15344575052049222.addLabel(\"D->N Pathogenic\",{\"fontSize\": 10, \"fontColor\": \"red\", \"backgroundColor\": \"ivory\"},{\"resi\": \"148\", \"chain\": \"A\"});\n\tviewer_15344575052049222.setStyle({\"resi\": \"9\", \"chain\": \"A\"},{\"sphere\": {\"color\": \"palevioletred\"}});\n\tviewer_15344575052049222.addLabel(\"C->*AY Likely pathogenic\",{\"fontSize\": 10, \"fontColor\": \"palevioletred\", \"backgroundColor\": \"ivory\"},{\"resi\": \"9\", \"chain\": \"A\"});\n\tviewer_15344575052049222.setStyle({\"resi\": \"231\", \"chain\": \"A\"},{\"sphere\": {\"color\": \"red\"}});\n\tviewer_15344575052049222.addLabel(\"V->M Pathogenic\",{\"fontSize\": 10, \"fontColor\": \"red\", \"backgroundColor\": \"ivory\"},{\"resi\": \"231\", \"chain\": \"A\"});\n\tviewer_15344575052049222.setStyle({\"resi\": \"18\", \"chain\": \"A\"},{\"sphere\": {\"color\": \"palevioletred\"}});\n\tviewer_15344575052049222.addLabel(\"T->S Likely pathogenic\",{\"fontSize\": 10, \"fontColor\": \"palevioletred\", \"backgroundColor\": \"ivory\"},{\"resi\": \"18\", \"chain\": \"A\"});\n\tviewer_15344575052049222.setStyle({\"resi\": \"241\", \"chain\": \"A\"},{\"sphere\": {\"color\": \"red\"}});\n\tviewer_15344575052049222.addLabel(\"C->S Pathogenic\",{\"fontSize\": 10, \"fontColor\": \"red\", \"backgroundColor\": \"ivory\"},{\"resi\": \"241\", \"chain\": \"A\"});\n\tviewer_15344575052049222.setStyle({\"resi\": \"129\", \"chain\": \"A\"},{\"sphere\": {\"color\": \"red\"}});\n\tviewer_15344575052049222.addLabel(\"V->M Pathogenic\",{\"fontSize\": 10, \"fontColor\": \"red\", \"backgroundColor\": \"ivory\"},{\"resi\": \"129\", \"chain\": \"A\"});\n\tviewer_15344575052049222.setStyle({\"resi\": \"116\", \"chain\": \"A\"},{\"sphere\": {\"color\": \"palevioletred\"}});\n\tviewer_15344575052049222.addLabel(\"R->E Likely pathogenic\",{\"fontSize\": 10, \"fontColor\": \"palevioletred\", \"backgroundColor\": \"ivory\"},{\"resi\": \"116\", \"chain\": \"A\"});\n\tviewer_15344575052049222.setStyle({\"resi\": \"119\", \"chain\": \"A\"},{\"sphere\": {\"color\": \"red\"}});\n\tviewer_15344575052049222.addLabel(\"F->L Pathogenic\",{\"fontSize\": 10, \"fontColor\": \"red\", \"backgroundColor\": \"ivory\"},{\"resi\": \"119\", \"chain\": \"A\"});\n\tviewer_15344575052049222.setStyle({\"resi\": \"108\", \"chain\": \"A\"},{\"sphere\": {\"color\": \"red\"}});\n\tviewer_15344575052049222.addLabel(\"A->V Pathogenic\",{\"fontSize\": 10, \"fontColor\": \"red\", \"backgroundColor\": \"ivory\"},{\"resi\": \"108\", \"chain\": \"A\"});\n\tviewer_15344575052049222.setStyle({\"resi\": \"31\", \"chain\": \"A\"},{\"sphere\": {\"color\": \"palevioletred\"}});\n\tviewer_15344575052049222.addLabel(\"F->L Likely pathogenic\",{\"fontSize\": 10, \"fontColor\": \"palevioletred\", \"backgroundColor\": \"ivory\"},{\"resi\": \"31\", \"chain\": \"A\"});\n\tviewer_15344575052049222.setStyle({\"resi\": \"194\", \"chain\": \"A\"},{\"sphere\": {\"color\": \"palevioletred\"}});\n\tviewer_15344575052049222.addLabel(\"R->* Likely pathogenic\",{\"fontSize\": 10, \"fontColor\": \"palevioletred\", \"backgroundColor\": \"ivory\"},{\"resi\": \"194\", \"chain\": \"A\"});\n\tviewer_15344575052049222.setStyle({\"resi\": \"176\", \"chain\": \"A\"},{\"sphere\": {\"color\": \"palevioletred\"}});\n\tviewer_15344575052049222.addLabel(\"G->D Likely pathogenic\",{\"fontSize\": 10, \"fontColor\": \"palevioletred\", \"backgroundColor\": \"ivory\"},{\"resi\": \"176\", \"chain\": \"A\"});\n\tviewer_15344575052049222.setStyle({\"resi\": \"106\", \"chain\": \"A\"},{\"sphere\": {\"color\": \"red\"}});\n\tviewer_15344575052049222.addLabel(\"Y->F Pathogenic\",{\"fontSize\": 10, \"fontColor\": \"red\", \"backgroundColor\": \"ivory\"},{\"resi\": \"106\", \"chain\": \"A\"});\n\tviewer_15344575052049222.setStyle({\"resi\": \"216\", \"chain\": \"A\"},{\"sphere\": {\"color\": \"red\"}});\n\tviewer_15344575052049222.addLabel(\"N->S Pathogenic,Likely pathogenic\",{\"fontSize\": 10, \"fontColor\": \"red\", \"backgroundColor\": \"ivory\"},{\"resi\": \"216\", \"chain\": \"A\"});\n\tviewer_15344575052049222.setStyle({\"resi\": \"207\", \"chain\": \"A\"},{\"sphere\": {\"color\": \"palevioletred\"}});\n\tviewer_15344575052049222.addLabel(\"F->S Likely pathogenic\",{\"fontSize\": 10, \"fontColor\": \"palevioletred\", \"backgroundColor\": \"ivory\"},{\"resi\": \"207\", \"chain\": \"A\"});\n\tviewer_15344575052049222.setStyle({\"resi\": \"65\", \"chain\": \"A\"},{\"sphere\": {\"color\": \"red\"}});\n\tviewer_15344575052049222.addLabel(\"D->Y Pathogenic\",{\"fontSize\": 10, \"fontColor\": \"red\", \"backgroundColor\": \"ivory\"},{\"resi\": \"65\", \"chain\": \"A\"});\n\tviewer_15344575052049222.setStyle({\"resi\": \"237\", \"chain\": \"A\"},{\"sphere\": {\"color\": \"red\"}});\n\tviewer_15344575052049222.addLabel(\"T->MR Pathogenic\",{\"fontSize\": 10, \"fontColor\": \"red\", \"backgroundColor\": \"ivory\"},{\"resi\": \"237\", \"chain\": \"A\"});\n\tviewer_15344575052049222.setStyle({\"resi\": \"44\", \"chain\": \"A\"},{\"sphere\": {\"color\": \"palevioletred\"}});\n\tviewer_15344575052049222.addLabel(\"V->A Likely pathogenic\",{\"fontSize\": 10, \"fontColor\": \"palevioletred\", \"backgroundColor\": \"ivory\"},{\"resi\": \"44\", \"chain\": \"A\"});\n\tviewer_15344575052049222.setStyle({\"resi\": \"218\", \"chain\": \"A\"},{\"sphere\": {\"color\": \"red\"}});\n\tviewer_15344575052049222.addLabel(\"H->LD Pathogenic,Likely pathogenic\",{\"fontSize\": 10, \"fontColor\": \"red\", \"backgroundColor\": \"ivory\"},{\"resi\": \"218\", \"chain\": \"A\"});\n\tviewer_15344575052049222.setStyle({\"resi\": \"139\", \"chain\": \"A\"},{\"sphere\": {\"color\": \"red\"}});\n\tviewer_15344575052049222.addLabel(\"E->K Pathogenic,Likely pathogenic\",{\"fontSize\": 10, \"fontColor\": \"red\", \"backgroundColor\": \"ivory\"},{\"resi\": \"139\", \"chain\": \"A\"});\n\tviewer_15344575052049222.setStyle({\"resi\": \"43\", \"chain\": \"A\"},{\"sphere\": {\"color\": \"palevioletred\"}});\n\tviewer_15344575052049222.addLabel(\"V->L Likely pathogenic\",{\"fontSize\": 10, \"fontColor\": \"palevioletred\", \"backgroundColor\": \"ivory\"},{\"resi\": \"43\", \"chain\": \"A\"});\n\tviewer_15344575052049222.setStyle({\"resi\": \"144\", \"chain\": \"A\"},{\"sphere\": {\"color\": \"palevioletred\"}});\n\tviewer_15344575052049222.addLabel(\"F->L Likely pathogenic\",{\"fontSize\": 10, \"fontColor\": \"palevioletred\", \"backgroundColor\": \"ivory\"},{\"resi\": \"144\", \"chain\": \"A\"});\n\tviewer_15344575052049222.setStyle({\"resi\": \"53\", \"chain\": \"A\"},{\"sphere\": {\"color\": \"red\"}});\n\tviewer_15344575052049222.addLabel(\"Q->* Pathogenic\",{\"fontSize\": 10, \"fontColor\": \"red\", \"backgroundColor\": \"ivory\"},{\"resi\": \"53\", \"chain\": \"A\"});\n\tviewer_15344575052049222.setStyle({\"resi\": \"153\", \"chain\": \"A\"},{\"sphere\": {\"color\": \"palevioletred\"}});\n\tviewer_15344575052049222.addLabel(\"I->T Likely pathogenic\",{\"fontSize\": 10, \"fontColor\": \"palevioletred\", \"backgroundColor\": \"ivory\"},{\"resi\": \"153\", \"chain\": \"A\"});\n\tviewer_15344575052049222.setStyle({\"resi\": \"113\", \"chain\": \"A\"},{\"sphere\": {\"color\": \"red\"}});\n\tviewer_15344575052049222.addLabel(\"P->TSL Pathogenic,Likely pathogenic\",{\"fontSize\": 10, \"fontColor\": \"red\", \"backgroundColor\": \"ivory\"},{\"resi\": \"113\", \"chain\": \"A\"});\n\tviewer_15344575052049222.setStyle({\"resi\": \"223\", \"chain\": \"A\"},{\"sphere\": {\"color\": \"red\"}});\n\tviewer_15344575052049222.addLabel(\"D->E Pathogenic\",{\"fontSize\": 10, \"fontColor\": \"red\", \"backgroundColor\": \"ivory\"},{\"resi\": \"223\", \"chain\": \"A\"});\n\tviewer_15344575052049222.setStyle({\"resi\": \"117\", \"chain\": \"A\"},{\"sphere\": {\"color\": \"red\"}});\n\tviewer_15344575052049222.addLabel(\"G->R Pathogenic\",{\"fontSize\": 10, \"fontColor\": \"red\", \"backgroundColor\": \"ivory\"},{\"resi\": \"117\", \"chain\": \"A\"});\n\tviewer_15344575052049222.setStyle({\"resi\": \"104\", \"chain\": \"A\"},{\"sphere\": {\"color\": \"red\"}});\n\tviewer_15344575052049222.addLabel(\"L->V Pathogenic\",{\"fontSize\": 10, \"fontColor\": \"red\", \"backgroundColor\": \"ivory\"},{\"resi\": \"104\", \"chain\": \"A\"});\n\tviewer_15344575052049222.setStyle({\"resi\": \"162\", \"chain\": \"A\"},{\"sphere\": {\"color\": \"red\"}});\n\tviewer_15344575052049222.addLabel(\"R->W Pathogenic\",{\"fontSize\": 10, \"fontColor\": \"red\", \"backgroundColor\": \"ivory\"},{\"resi\": \"162\", \"chain\": \"A\"});\n\tviewer_15344575052049222.setStyle({\"resi\": \"123\", \"chain\": \"A\"},{\"sphere\": {\"color\": \"red\"}});\n\tviewer_15344575052049222.addLabel(\"R->*Q Pathogenic\",{\"fontSize\": 10, \"fontColor\": \"red\", \"backgroundColor\": \"ivory\"},{\"resi\": \"123\", \"chain\": \"A\"});\n\tviewer_15344575052049222.zoomTo({\"resi\": [\"63\", \"132\", \"69\", \"171\", \"226\", \"187\", \"32\", \"157\", \"141\", \"188\", \"208\", \"148\", \"9\", \"231\", \"18\", \"241\", \"129\", \"116\", \"119\", \"108\", \"31\", \"194\", \"176\", \"106\", \"216\", \"207\", \"65\", \"237\", \"44\", \"218\", \"139\", \"43\", \"144\", \"53\", \"153\", \"113\", \"223\", \"117\", \"104\", \"162\", \"123\"], \"chain\": \"A\"});\nviewer_15344575052049222.render();\n})\n});\n</script>"
         },
         "metadata": {},
         "output_type": "display_data"
        }
       ]
      }
     },
     "3b7e9dc7ac894a42b1809754d9140027": {
      "model_module": "@jupyter-widgets/base",
      "model_module_version": "1.1.0",
      "model_name": "LayoutModel",
      "state": {}
     },
     "3db783c1d3024482ada52f922a20eb19": {
      "model_module": "@jupyter-widgets/controls",
      "model_module_version": "1.3.0",
      "model_name": "DescriptionStyleModel",
      "state": {
       "description_width": ""
      }
     },
     "3f7b7048bdbe4502b31a331f22c80766": {
      "model_module": "@jupyter-widgets/base",
      "model_module_version": "1.1.0",
      "model_name": "LayoutModel",
      "state": {}
     },
     "4078d23232f84cd995368e1885acd114": {
      "model_module": "@jupyter-widgets/base",
      "model_module_version": "1.1.0",
      "model_name": "LayoutModel",
      "state": {}
     },
     "417ba18dfb2d418d8dea6228629f1bdc": {
      "model_module": "@jupyter-widgets/controls",
      "model_module_version": "1.3.0",
      "model_name": "CheckboxModel",
      "state": {
       "description": "show_labels",
       "disabled": false,
       "layout": "IPY_MODEL_ee0b68541b1d4f8d8700e78806d2be16",
       "style": "IPY_MODEL_bca2be2e63084f17838260be59d9c4ec",
       "value": true
      }
     },
     "420b1d136d0b4635add2dd91e55ee751": {
      "model_module": "@jupyter-widgets/base",
      "model_module_version": "1.1.0",
      "model_name": "LayoutModel",
      "state": {}
     },
     "42ac3b935c1f4418adb138c14b57aff8": {
      "model_module": "@jupyter-widgets/base",
      "model_module_version": "1.1.0",
      "model_name": "LayoutModel",
      "state": {}
     },
     "43d1e45d89fa4da1859f6fc664a3a855": {
      "model_module": "@jupyter-widgets/base",
      "model_module_version": "1.1.0",
      "model_name": "LayoutModel",
      "state": {}
     },
     "443e89c1cae540b386283ee270ed77de": {
      "model_module": "@jupyter-widgets/controls",
      "model_module_version": "1.3.0",
      "model_name": "DescriptionStyleModel",
      "state": {
       "description_width": ""
      }
     },
     "46589af67b1b4cda994d409b17fdc9b5": {
      "model_module": "@jupyter-widgets/base",
      "model_module_version": "1.1.0",
      "model_name": "LayoutModel",
      "state": {}
     },
     "4673e0c2a378451ab1dcf2324c413644": {
      "model_module": "@jupyter-widgets/controls",
      "model_module_version": "1.3.0",
      "model_name": "CheckboxModel",
      "state": {
       "description": "show_bio_assembly",
       "disabled": false,
       "layout": "IPY_MODEL_08524e298ad8435989e53c2cfeb64454",
       "style": "IPY_MODEL_816e34b99fe24a77b2673796b48812cf",
       "value": false
      }
     },
     "48cb14ede62441479be384bd1dcbb93a": {
      "model_module": "@jupyter-widgets/base",
      "model_module_version": "1.1.0",
      "model_name": "LayoutModel",
      "state": {}
     },
     "48d7844f95ca47ffac7622d97459c441": {
      "model_module": "@jupyter-widgets/base",
      "model_module_version": "1.1.0",
      "model_name": "LayoutModel",
      "state": {}
     },
     "49f70cef2477498089f34e7c1030fca8": {
      "model_module": "@jupyter-widgets/controls",
      "model_module_version": "1.3.0",
      "model_name": "DescriptionStyleModel",
      "state": {
       "description_width": ""
      }
     },
     "4ba76275a3fe4c34bbe2cca2ab0e4573": {
      "model_module": "@jupyter-widgets/base",
      "model_module_version": "1.1.0",
      "model_name": "LayoutModel",
      "state": {}
     },
     "4be52e9262384bbf94e6c3820670f6c1": {
      "model_module": "@jupyter-widgets/base",
      "model_module_version": "1.1.0",
      "model_name": "LayoutModel",
      "state": {}
     },
     "4c940a6cfe7a419c938b7fc760130816": {
      "model_module": "@jupyter-widgets/controls",
      "model_module_version": "1.3.0",
      "model_name": "IntSliderModel",
      "state": {
       "continuous_update": false,
       "description": "Structure",
       "layout": "IPY_MODEL_48cb14ede62441479be384bd1dcbb93a",
       "max": 49712,
       "style": "IPY_MODEL_0201d578de5544408ba0814905c5b668"
      }
     },
     "4cb6b63785584ec4a11ad058893ff421": {
      "model_module": "@jupyter-widgets/controls",
      "model_module_version": "1.3.0",
      "model_name": "SliderStyleModel",
      "state": {
       "description_width": ""
      }
     },
     "4d1874012dbd44a687cb42c2acccddbc": {
      "model_module": "@jupyter-widgets/controls",
      "model_module_version": "1.3.0",
      "model_name": "DescriptionStyleModel",
      "state": {
       "description_width": ""
      }
     },
     "4d6983428821462288328ff95b57a307": {
      "model_module": "@jupyter-widgets/controls",
      "model_module_version": "1.3.0",
      "model_name": "CheckboxModel",
      "state": {
       "description": "show_surface",
       "disabled": false,
       "layout": "IPY_MODEL_3f7b7048bdbe4502b31a331f22c80766",
       "style": "IPY_MODEL_330b25ede59341a5ad29883e86ee7f04",
       "value": false
      }
     },
     "50aca1de4e4948b784426dc694957815": {
      "model_module": "@jupyter-widgets/controls",
      "model_module_version": "1.3.0",
      "model_name": "CheckboxModel",
      "state": {
       "description": "show_bio_assembly",
       "disabled": false,
       "layout": "IPY_MODEL_d7d68bfabce341b99f639ba9333effc9",
       "style": "IPY_MODEL_fd2ff2ce0792437b867e869774e209f1",
       "value": false
      }
     },
     "50f0a2c32caa4baf84f7eaa99e1a570e": {
      "model_module": "@jupyter-widgets/controls",
      "model_module_version": "1.3.0",
      "model_name": "DescriptionStyleModel",
      "state": {
       "description_width": ""
      }
     },
     "522c4ffaf649421db9597af2e36f9d9c": {
      "model_module": "@jupyter-widgets/controls",
      "model_module_version": "1.3.0",
      "model_name": "CheckboxModel",
      "state": {
       "description": "show_surface",
       "disabled": false,
       "layout": "IPY_MODEL_01ddb36c3cfa415eb11bb747c3b111dc",
       "style": "IPY_MODEL_71b92166fb154261a81f407759195c7c",
       "value": false
      }
     },
     "529ca41c457e46ab89bbad89973d56f5": {
      "model_module": "@jupyter-widgets/controls",
      "model_module_version": "1.3.0",
      "model_name": "SliderStyleModel",
      "state": {
       "description_width": ""
      }
     },
     "531b97711b0c43ee9d7cf586199cf446": {
      "model_module": "@jupyter-widgets/base",
      "model_module_version": "1.1.0",
      "model_name": "LayoutModel",
      "state": {}
     },
     "5463b2dad3c04d7c89e35d0315db65f7": {
      "model_module": "@jupyter-widgets/controls",
      "model_module_version": "1.3.0",
      "model_name": "DescriptionStyleModel",
      "state": {
       "description_width": ""
      }
     },
     "5626623c648d4230ae7b4be92757704b": {
      "model_module": "@jupyter-widgets/controls",
      "model_module_version": "1.3.0",
      "model_name": "IntSliderModel",
      "state": {
       "continuous_update": false,
       "description": "Structure",
       "layout": "IPY_MODEL_c6a45f71699345bc80efcfe1a1884b33",
       "max": 1455,
       "style": "IPY_MODEL_a2116ef243c64d2aa72f6788f2137d64"
      }
     },
     "56549dea90254a508d96151b941d1e6f": {
      "model_module": "@jupyter-widgets/controls",
      "model_module_version": "1.3.0",
      "model_name": "DropdownModel",
      "state": {
       "_options_labels": [
        "none",
        "snp_id",
        "pdbChainId",
        "uniprotId",
        "sqlQuery"
       ],
       "description": "Select field:",
       "index": 0,
       "layout": "IPY_MODEL_11cb6e039d1549b28ce35950c666bd43",
       "style": "IPY_MODEL_6d00a34508a64b98ae3ddea1bd2257a9"
      }
     },
     "56912ba30235472dbf36eda4272aadf8": {
      "model_module": "@jupyter-widgets/base",
      "model_module_version": "1.1.0",
      "model_name": "LayoutModel",
      "state": {}
     },
     "56aac5f1e603460c913d2fe157b03d8f": {
      "model_module": "@jupyter-widgets/controls",
      "model_module_version": "1.3.0",
      "model_name": "DescriptionStyleModel",
      "state": {
       "description_width": ""
      }
     },
     "56c52e25ea7a4270865a7e22f0b61b50": {
      "model_module": "@jupyter-widgets/controls",
      "model_module_version": "1.3.0",
      "model_name": "DescriptionStyleModel",
      "state": {
       "description_width": ""
      }
     },
     "583a3873fa8c44b1a8ca6c286d2ae02a": {
      "model_module": "@jupyter-widgets/controls",
      "model_module_version": "1.3.0",
      "model_name": "VBoxModel",
      "state": {
       "_dom_classes": [
        "widget-interact"
       ],
       "children": [
        "IPY_MODEL_a11beae898794619a97aa003bdb4323e",
        "IPY_MODEL_522c4ffaf649421db9597af2e36f9d9c",
        "IPY_MODEL_01abe4f0616741cea14bb19566ef358a",
        "IPY_MODEL_b6a8874911404c37963d39c39dfe66c5",
        "IPY_MODEL_e762cbc7b748429593c08341d04130d5"
       ],
       "layout": "IPY_MODEL_39b2298680bc4144a0a9a85f784855eb"
      }
     },
     "58989db032f34f10ab4b39496021f2c7": {
      "model_module": "@jupyter-widgets/output",
      "model_module_version": "1.0.0",
      "model_name": "OutputModel",
      "state": {
       "layout": "IPY_MODEL_69731c55f4a142d1b6cf3eae548f1cbe",
       "outputs": [
        {
         "name": "stdout",
         "output_type": "stream",
         "text": "PDB Id: 2AMY chain Id: A\nuniprotId: O15305\n"
        },
        {
         "data": {
          "application/3dmoljs_load.v0": "<div id=\"3dmolviewer_1534461011207386\"  style=\"position: relative; width: 640px; height: 480px\">\n        <p id=\"3dmolwarning_1534461011207386\" style=\"background-color:#ffcccc;color:black\">You appear to be running in JupyterLab.  You need to install the 3dmol extension: <br>\n        <tt>jupyter labextension install jupyterlab_3dmol</tt></p>\n        </div>\n<script>\n\nvar loadScriptAsync = function(uri){\n  return new Promise((resolve, reject) => {\n    var tag = document.createElement('script');\n    tag.src = uri;\n    tag.async = true;\n    tag.onload = () => {\n      resolve();\n    };\n  var firstScriptTag = document.getElementsByTagName('script')[0];\n  firstScriptTag.parentNode.insertBefore(tag, firstScriptTag);\n});\n};\n\nif(typeof $3Dmolpromise === 'undefined') {\n$3Dmolpromise = null;\n  $3Dmolpromise = loadScriptAsync('https://3dmol.csb.pitt.edu/build/3Dmol.js');\n}\n\nvar viewer_1534461011207386 = null;\nvar warn = document.getElementById(\"3dmolwarning_1534461011207386\");\nif(warn) {\n    warn.parentNode.removeChild(warn);\n}\n$3Dmolpromise.then(function() {\nviewer_1534461011207386 = $3Dmol.createViewer($(\"#3dmolviewer_1534461011207386\"),{backgroundColor:\"white\"});\n$3Dmol.download(\"pdb:2AMY\", viewer_1534461011207386, {\"doAssembly\": false}, function() {\n\tviewer_1534461011207386.setStyle({\"cartoon\": {\"colorscheme\": \"chain\", \"width\": 0.6, \"opacity\": 0.9}});\n\tviewer_1534461011207386.setStyle({\"hetflag\": true},{\"stick\": {\"radius\": 0.3, \"singleBond\": false}});\n\tviewer_1534461011207386.addStyle({\"chain\": \"A\", \"resi\": [\"63\", \"132\", \"69\", \"171\", \"226\", \"187\", \"32\", \"157\", \"141\", \"188\", \"208\", \"148\", \"9\", \"231\", \"18\", \"241\", \"129\", \"116\", \"119\", \"108\", \"31\", \"194\", \"176\", \"106\", \"216\", \"207\", \"65\", \"237\", \"44\", \"218\", \"139\", \"43\", \"144\", \"53\", \"153\", \"113\", \"223\", \"117\", \"104\", \"162\", \"123\"], \"byres\": true, \"expand\": 6},{\"stick\": {\"colorscheme\": \"orangeCarbon\", \"radius\": 0.15}});\n\tviewer_1534461011207386.addStyle({\"resi\": \"63\", \"chain\": \"A\"},{\"stick\": {\"colorscheme\": \"palevioletredCarbon\", \"radius\": 0.2}});\n\tviewer_1534461011207386.addStyle({\"resi\": \"63\", \"chain\": \"A\"},{\"sphere\": {\"color\": \"palevioletred\", \"opacity\": 0.6}});\n\tviewer_1534461011207386.addLabel(\"K->N Likely pathogenic\",{\"fontSize\": 10, \"fontColor\": \"palevioletred\", \"backgroundColor\": \"ivory\"},{\"resi\": \"63\", \"chain\": \"A\"});\n\tviewer_1534461011207386.addStyle({\"resi\": \"132\", \"chain\": \"A\"},{\"stick\": {\"colorscheme\": \"palevioletredCarbon\", \"radius\": 0.2}});\n\tviewer_1534461011207386.addStyle({\"resi\": \"132\", \"chain\": \"A\"},{\"sphere\": {\"color\": \"palevioletred\", \"opacity\": 0.6}});\n\tviewer_1534461011207386.addLabel(\"I->T Likely pathogenic\",{\"fontSize\": 10, \"fontColor\": \"palevioletred\", \"backgroundColor\": \"ivory\"},{\"resi\": \"132\", \"chain\": \"A\"});\n\tviewer_1534461011207386.addStyle({\"resi\": \"69\", \"chain\": \"A\"},{\"stick\": {\"colorscheme\": \"palevioletredCarbon\", \"radius\": 0.2}});\n\tviewer_1534461011207386.addStyle({\"resi\": \"69\", \"chain\": \"A\"},{\"sphere\": {\"color\": \"palevioletred\", \"opacity\": 0.6}});\n\tviewer_1534461011207386.addLabel(\"P->SA Likely pathogenic\",{\"fontSize\": 10, \"fontColor\": \"palevioletred\", \"backgroundColor\": \"ivory\"},{\"resi\": \"69\", \"chain\": \"A\"});\n\tviewer_1534461011207386.addStyle({\"resi\": \"171\", \"chain\": \"A\"},{\"stick\": {\"colorscheme\": \"palevioletredCarbon\", \"radius\": 0.2}});\n\tviewer_1534461011207386.addStyle({\"resi\": \"171\", \"chain\": \"A\"},{\"sphere\": {\"color\": \"palevioletred\", \"opacity\": 0.6}});\n\tviewer_1534461011207386.addLabel(\"T->N Likely pathogenic\",{\"fontSize\": 10, \"fontColor\": \"palevioletred\", \"backgroundColor\": \"ivory\"},{\"resi\": \"171\", \"chain\": \"A\"});\n\tviewer_1534461011207386.addStyle({\"resi\": \"226\", \"chain\": \"A\"},{\"stick\": {\"colorscheme\": \"redCarbon\", \"radius\": 0.2}});\n\tviewer_1534461011207386.addStyle({\"resi\": \"226\", \"chain\": \"A\"},{\"sphere\": {\"color\": \"red\", \"opacity\": 0.6}});\n\tviewer_1534461011207386.addLabel(\"T->S Pathogenic\",{\"fontSize\": 10, \"fontColor\": \"red\", \"backgroundColor\": \"ivory\"},{\"resi\": \"226\", \"chain\": \"A\"});\n\tviewer_1534461011207386.addStyle({\"resi\": \"187\", \"chain\": \"A\"},{\"stick\": {\"colorscheme\": \"palevioletredCarbon\", \"radius\": 0.2}});\n\tviewer_1534461011207386.addStyle({\"resi\": \"187\", \"chain\": \"A\"},{\"sphere\": {\"color\": \"palevioletred\", \"opacity\": 0.6}});\n\tviewer_1534461011207386.addLabel(\"W->* Likely pathogenic\",{\"fontSize\": 10, \"fontColor\": \"palevioletred\", \"backgroundColor\": \"ivory\"},{\"resi\": \"187\", \"chain\": \"A\"});\n\tviewer_1534461011207386.addStyle({\"resi\": \"32\", \"chain\": \"A\"},{\"stick\": {\"colorscheme\": \"redCarbon\", \"radius\": 0.2}});\n\tviewer_1534461011207386.addStyle({\"resi\": \"32\", \"chain\": \"A\"},{\"sphere\": {\"color\": \"red\", \"opacity\": 0.6}});\n\tviewer_1534461011207386.addLabel(\"L->R Pathogenic\",{\"fontSize\": 10, \"fontColor\": \"red\", \"backgroundColor\": \"ivory\"},{\"resi\": \"32\", \"chain\": \"A\"});\n\tviewer_1534461011207386.addStyle({\"resi\": \"157\", \"chain\": \"A\"},{\"stick\": {\"colorscheme\": \"redCarbon\", \"radius\": 0.2}});\n\tviewer_1534461011207386.addStyle({\"resi\": \"157\", \"chain\": \"A\"},{\"sphere\": {\"color\": \"red\", \"opacity\": 0.6}});\n\tviewer_1534461011207386.addLabel(\"F->S Pathogenic\",{\"fontSize\": 10, \"fontColor\": \"red\", \"backgroundColor\": \"ivory\"},{\"resi\": \"157\", \"chain\": \"A\"});\n\tviewer_1534461011207386.addStyle({\"resi\": \"141\", \"chain\": \"A\"},{\"stick\": {\"colorscheme\": \"redCarbon\", \"radius\": 0.2}});\n\tviewer_1534461011207386.addStyle({\"resi\": \"141\", \"chain\": \"A\"},{\"sphere\": {\"color\": \"red\", \"opacity\": 0.6}});\n\tviewer_1534461011207386.addLabel(\"R->H Pathogenic\",{\"fontSize\": 10, \"fontColor\": \"red\", \"backgroundColor\": \"ivory\"},{\"resi\": \"141\", \"chain\": \"A\"});\n\tviewer_1534461011207386.addStyle({\"resi\": \"188\", \"chain\": \"A\"},{\"stick\": {\"colorscheme\": \"redCarbon\", \"radius\": 0.2}});\n\tviewer_1534461011207386.addStyle({\"resi\": \"188\", \"chain\": \"A\"},{\"sphere\": {\"color\": \"red\", \"opacity\": 0.6}});\n\tviewer_1534461011207386.addLabel(\"D->G Pathogenic\",{\"fontSize\": 10, \"fontColor\": \"red\", \"backgroundColor\": \"ivory\"},{\"resi\": \"188\", \"chain\": \"A\"});\n\tviewer_1534461011207386.addStyle({\"resi\": \"208\", \"chain\": \"A\"},{\"stick\": {\"colorscheme\": \"redCarbon\", \"radius\": 0.2}});\n\tviewer_1534461011207386.addStyle({\"resi\": \"208\", \"chain\": \"A\"},{\"sphere\": {\"color\": \"red\", \"opacity\": 0.6}});\n\tviewer_1534461011207386.addLabel(\"G->EA Pathogenic\",{\"fontSize\": 10, \"fontColor\": \"red\", \"backgroundColor\": \"ivory\"},{\"resi\": \"208\", \"chain\": \"A\"});\n\tviewer_1534461011207386.addStyle({\"resi\": \"148\", \"chain\": \"A\"},{\"stick\": {\"colorscheme\": \"redCarbon\", \"radius\": 0.2}});\n\tviewer_1534461011207386.addStyle({\"resi\": \"148\", \"chain\": \"A\"},{\"sphere\": {\"color\": \"red\", \"opacity\": 0.6}});\n\tviewer_1534461011207386.addLabel(\"D->N Pathogenic\",{\"fontSize\": 10, \"fontColor\": \"red\", \"backgroundColor\": \"ivory\"},{\"resi\": \"148\", \"chain\": \"A\"});\n\tviewer_1534461011207386.addStyle({\"resi\": \"9\", \"chain\": \"A\"},{\"stick\": {\"colorscheme\": \"palevioletredCarbon\", \"radius\": 0.2}});\n\tviewer_1534461011207386.addStyle({\"resi\": \"9\", \"chain\": \"A\"},{\"sphere\": {\"color\": \"palevioletred\", \"opacity\": 0.6}});\n\tviewer_1534461011207386.addLabel(\"C->*AY Likely pathogenic\",{\"fontSize\": 10, \"fontColor\": \"palevioletred\", \"backgroundColor\": \"ivory\"},{\"resi\": \"9\", \"chain\": \"A\"});\n\tviewer_1534461011207386.addStyle({\"resi\": \"231\", \"chain\": \"A\"},{\"stick\": {\"colorscheme\": \"redCarbon\", \"radius\": 0.2}});\n\tviewer_1534461011207386.addStyle({\"resi\": \"231\", \"chain\": \"A\"},{\"sphere\": {\"color\": \"red\", \"opacity\": 0.6}});\n\tviewer_1534461011207386.addLabel(\"V->M Pathogenic\",{\"fontSize\": 10, \"fontColor\": \"red\", \"backgroundColor\": \"ivory\"},{\"resi\": \"231\", \"chain\": \"A\"});\n\tviewer_1534461011207386.addStyle({\"resi\": \"18\", \"chain\": \"A\"},{\"stick\": {\"colorscheme\": \"palevioletredCarbon\", \"radius\": 0.2}});\n\tviewer_1534461011207386.addStyle({\"resi\": \"18\", \"chain\": \"A\"},{\"sphere\": {\"color\": \"palevioletred\", \"opacity\": 0.6}});\n\tviewer_1534461011207386.addLabel(\"T->S Likely pathogenic\",{\"fontSize\": 10, \"fontColor\": \"palevioletred\", \"backgroundColor\": \"ivory\"},{\"resi\": \"18\", \"chain\": \"A\"});\n\tviewer_1534461011207386.addStyle({\"resi\": \"241\", \"chain\": \"A\"},{\"stick\": {\"colorscheme\": \"redCarbon\", \"radius\": 0.2}});\n\tviewer_1534461011207386.addStyle({\"resi\": \"241\", \"chain\": \"A\"},{\"sphere\": {\"color\": \"red\", \"opacity\": 0.6}});\n\tviewer_1534461011207386.addLabel(\"C->S Pathogenic\",{\"fontSize\": 10, \"fontColor\": \"red\", \"backgroundColor\": \"ivory\"},{\"resi\": \"241\", \"chain\": \"A\"});\n\tviewer_1534461011207386.addStyle({\"resi\": \"129\", \"chain\": \"A\"},{\"stick\": {\"colorscheme\": \"redCarbon\", \"radius\": 0.2}});\n\tviewer_1534461011207386.addStyle({\"resi\": \"129\", \"chain\": \"A\"},{\"sphere\": {\"color\": \"red\", \"opacity\": 0.6}});\n\tviewer_1534461011207386.addLabel(\"V->M Pathogenic\",{\"fontSize\": 10, \"fontColor\": \"red\", \"backgroundColor\": \"ivory\"},{\"resi\": \"129\", \"chain\": \"A\"});\n\tviewer_1534461011207386.addStyle({\"resi\": \"116\", \"chain\": \"A\"},{\"stick\": {\"colorscheme\": \"palevioletredCarbon\", \"radius\": 0.2}});\n\tviewer_1534461011207386.addStyle({\"resi\": \"116\", \"chain\": \"A\"},{\"sphere\": {\"color\": \"palevioletred\", \"opacity\": 0.6}});\n\tviewer_1534461011207386.addLabel(\"R->E Likely pathogenic\",{\"fontSize\": 10, \"fontColor\": \"palevioletred\", \"backgroundColor\": \"ivory\"},{\"resi\": \"116\", \"chain\": \"A\"});\n\tviewer_1534461011207386.addStyle({\"resi\": \"119\", \"chain\": \"A\"},{\"stick\": {\"colorscheme\": \"redCarbon\", \"radius\": 0.2}});\n\tviewer_1534461011207386.addStyle({\"resi\": \"119\", \"chain\": \"A\"},{\"sphere\": {\"color\": \"red\", \"opacity\": 0.6}});\n\tviewer_1534461011207386.addLabel(\"F->L Pathogenic\",{\"fontSize\": 10, \"fontColor\": \"red\", \"backgroundColor\": \"ivory\"},{\"resi\": \"119\", \"chain\": \"A\"});\n\tviewer_1534461011207386.addStyle({\"resi\": \"108\", \"chain\": \"A\"},{\"stick\": {\"colorscheme\": \"redCarbon\", \"radius\": 0.2}});\n\tviewer_1534461011207386.addStyle({\"resi\": \"108\", \"chain\": \"A\"},{\"sphere\": {\"color\": \"red\", \"opacity\": 0.6}});\n\tviewer_1534461011207386.addLabel(\"A->V Pathogenic\",{\"fontSize\": 10, \"fontColor\": \"red\", \"backgroundColor\": \"ivory\"},{\"resi\": \"108\", \"chain\": \"A\"});\n\tviewer_1534461011207386.addStyle({\"resi\": \"31\", \"chain\": \"A\"},{\"stick\": {\"colorscheme\": \"palevioletredCarbon\", \"radius\": 0.2}});\n\tviewer_1534461011207386.addStyle({\"resi\": \"31\", \"chain\": \"A\"},{\"sphere\": {\"color\": \"palevioletred\", \"opacity\": 0.6}});\n\tviewer_1534461011207386.addLabel(\"F->L Likely pathogenic\",{\"fontSize\": 10, \"fontColor\": \"palevioletred\", \"backgroundColor\": \"ivory\"},{\"resi\": \"31\", \"chain\": \"A\"});\n\tviewer_1534461011207386.addStyle({\"resi\": \"194\", \"chain\": \"A\"},{\"stick\": {\"colorscheme\": \"palevioletredCarbon\", \"radius\": 0.2}});\n\tviewer_1534461011207386.addStyle({\"resi\": \"194\", \"chain\": \"A\"},{\"sphere\": {\"color\": \"palevioletred\", \"opacity\": 0.6}});\n\tviewer_1534461011207386.addLabel(\"R->* Likely pathogenic\",{\"fontSize\": 10, \"fontColor\": \"palevioletred\", \"backgroundColor\": \"ivory\"},{\"resi\": \"194\", \"chain\": \"A\"});\n\tviewer_1534461011207386.addStyle({\"resi\": \"176\", \"chain\": \"A\"},{\"stick\": {\"colorscheme\": \"palevioletredCarbon\", \"radius\": 0.2}});\n\tviewer_1534461011207386.addStyle({\"resi\": \"176\", \"chain\": \"A\"},{\"sphere\": {\"color\": \"palevioletred\", \"opacity\": 0.6}});\n\tviewer_1534461011207386.addLabel(\"G->D Likely pathogenic\",{\"fontSize\": 10, \"fontColor\": \"palevioletred\", \"backgroundColor\": \"ivory\"},{\"resi\": \"176\", \"chain\": \"A\"});\n\tviewer_1534461011207386.addStyle({\"resi\": \"106\", \"chain\": \"A\"},{\"stick\": {\"colorscheme\": \"redCarbon\", \"radius\": 0.2}});\n\tviewer_1534461011207386.addStyle({\"resi\": \"106\", \"chain\": \"A\"},{\"sphere\": {\"color\": \"red\", \"opacity\": 0.6}});\n\tviewer_1534461011207386.addLabel(\"Y->F Pathogenic\",{\"fontSize\": 10, \"fontColor\": \"red\", \"backgroundColor\": \"ivory\"},{\"resi\": \"106\", \"chain\": \"A\"});\n\tviewer_1534461011207386.addStyle({\"resi\": \"216\", \"chain\": \"A\"},{\"stick\": {\"colorscheme\": \"redCarbon\", \"radius\": 0.2}});\n\tviewer_1534461011207386.addStyle({\"resi\": \"216\", \"chain\": \"A\"},{\"sphere\": {\"color\": \"red\", \"opacity\": 0.6}});\n\tviewer_1534461011207386.addLabel(\"N->S Pathogenic,Likely pathogenic\",{\"fontSize\": 10, \"fontColor\": \"red\", \"backgroundColor\": \"ivory\"},{\"resi\": \"216\", \"chain\": \"A\"});\n\tviewer_1534461011207386.addStyle({\"resi\": \"207\", \"chain\": \"A\"},{\"stick\": {\"colorscheme\": \"palevioletredCarbon\", \"radius\": 0.2}});\n\tviewer_1534461011207386.addStyle({\"resi\": \"207\", \"chain\": \"A\"},{\"sphere\": {\"color\": \"palevioletred\", \"opacity\": 0.6}});\n\tviewer_1534461011207386.addLabel(\"F->S Likely pathogenic\",{\"fontSize\": 10, \"fontColor\": \"palevioletred\", \"backgroundColor\": \"ivory\"},{\"resi\": \"207\", \"chain\": \"A\"});\n\tviewer_1534461011207386.addStyle({\"resi\": \"65\", \"chain\": \"A\"},{\"stick\": {\"colorscheme\": \"redCarbon\", \"radius\": 0.2}});\n\tviewer_1534461011207386.addStyle({\"resi\": \"65\", \"chain\": \"A\"},{\"sphere\": {\"color\": \"red\", \"opacity\": 0.6}});\n\tviewer_1534461011207386.addLabel(\"D->Y Pathogenic\",{\"fontSize\": 10, \"fontColor\": \"red\", \"backgroundColor\": \"ivory\"},{\"resi\": \"65\", \"chain\": \"A\"});\n\tviewer_1534461011207386.addStyle({\"resi\": \"237\", \"chain\": \"A\"},{\"stick\": {\"colorscheme\": \"redCarbon\", \"radius\": 0.2}});\n\tviewer_1534461011207386.addStyle({\"resi\": \"237\", \"chain\": \"A\"},{\"sphere\": {\"color\": \"red\", \"opacity\": 0.6}});\n\tviewer_1534461011207386.addLabel(\"T->MR Pathogenic\",{\"fontSize\": 10, \"fontColor\": \"red\", \"backgroundColor\": \"ivory\"},{\"resi\": \"237\", \"chain\": \"A\"});\n\tviewer_1534461011207386.addStyle({\"resi\": \"44\", \"chain\": \"A\"},{\"stick\": {\"colorscheme\": \"palevioletredCarbon\", \"radius\": 0.2}});\n\tviewer_1534461011207386.addStyle({\"resi\": \"44\", \"chain\": \"A\"},{\"sphere\": {\"color\": \"palevioletred\", \"opacity\": 0.6}});\n\tviewer_1534461011207386.addLabel(\"V->A Likely pathogenic\",{\"fontSize\": 10, \"fontColor\": \"palevioletred\", \"backgroundColor\": \"ivory\"},{\"resi\": \"44\", \"chain\": \"A\"});\n\tviewer_1534461011207386.addStyle({\"resi\": \"218\", \"chain\": \"A\"},{\"stick\": {\"colorscheme\": \"redCarbon\", \"radius\": 0.2}});\n\tviewer_1534461011207386.addStyle({\"resi\": \"218\", \"chain\": \"A\"},{\"sphere\": {\"color\": \"red\", \"opacity\": 0.6}});\n\tviewer_1534461011207386.addLabel(\"H->LD Pathogenic,Likely pathogenic\",{\"fontSize\": 10, \"fontColor\": \"red\", \"backgroundColor\": \"ivory\"},{\"resi\": \"218\", \"chain\": \"A\"});\n\tviewer_1534461011207386.addStyle({\"resi\": \"139\", \"chain\": \"A\"},{\"stick\": {\"colorscheme\": \"redCarbon\", \"radius\": 0.2}});\n\tviewer_1534461011207386.addStyle({\"resi\": \"139\", \"chain\": \"A\"},{\"sphere\": {\"color\": \"red\", \"opacity\": 0.6}});\n\tviewer_1534461011207386.addLabel(\"E->K Pathogenic,Likely pathogenic\",{\"fontSize\": 10, \"fontColor\": \"red\", \"backgroundColor\": \"ivory\"},{\"resi\": \"139\", \"chain\": \"A\"});\n\tviewer_1534461011207386.addStyle({\"resi\": \"43\", \"chain\": \"A\"},{\"stick\": {\"colorscheme\": \"palevioletredCarbon\", \"radius\": 0.2}});\n\tviewer_1534461011207386.addStyle({\"resi\": \"43\", \"chain\": \"A\"},{\"sphere\": {\"color\": \"palevioletred\", \"opacity\": 0.6}});\n\tviewer_1534461011207386.addLabel(\"V->L Likely pathogenic\",{\"fontSize\": 10, \"fontColor\": \"palevioletred\", \"backgroundColor\": \"ivory\"},{\"resi\": \"43\", \"chain\": \"A\"});\n\tviewer_1534461011207386.addStyle({\"resi\": \"144\", \"chain\": \"A\"},{\"stick\": {\"colorscheme\": \"palevioletredCarbon\", \"radius\": 0.2}});\n\tviewer_1534461011207386.addStyle({\"resi\": \"144\", \"chain\": \"A\"},{\"sphere\": {\"color\": \"palevioletred\", \"opacity\": 0.6}});\n\tviewer_1534461011207386.addLabel(\"F->L Likely pathogenic\",{\"fontSize\": 10, \"fontColor\": \"palevioletred\", \"backgroundColor\": \"ivory\"},{\"resi\": \"144\", \"chain\": \"A\"});\n\tviewer_1534461011207386.addStyle({\"resi\": \"53\", \"chain\": \"A\"},{\"stick\": {\"colorscheme\": \"redCarbon\", \"radius\": 0.2}});\n\tviewer_1534461011207386.addStyle({\"resi\": \"53\", \"chain\": \"A\"},{\"sphere\": {\"color\": \"red\", \"opacity\": 0.6}});\n\tviewer_1534461011207386.addLabel(\"Q->* Pathogenic\",{\"fontSize\": 10, \"fontColor\": \"red\", \"backgroundColor\": \"ivory\"},{\"resi\": \"53\", \"chain\": \"A\"});\n\tviewer_1534461011207386.addStyle({\"resi\": \"153\", \"chain\": \"A\"},{\"stick\": {\"colorscheme\": \"palevioletredCarbon\", \"radius\": 0.2}});\n\tviewer_1534461011207386.addStyle({\"resi\": \"153\", \"chain\": \"A\"},{\"sphere\": {\"color\": \"palevioletred\", \"opacity\": 0.6}});\n\tviewer_1534461011207386.addLabel(\"I->T Likely pathogenic\",{\"fontSize\": 10, \"fontColor\": \"palevioletred\", \"backgroundColor\": \"ivory\"},{\"resi\": \"153\", \"chain\": \"A\"});\n\tviewer_1534461011207386.addStyle({\"resi\": \"113\", \"chain\": \"A\"},{\"stick\": {\"colorscheme\": \"redCarbon\", \"radius\": 0.2}});\n\tviewer_1534461011207386.addStyle({\"resi\": \"113\", \"chain\": \"A\"},{\"sphere\": {\"color\": \"red\", \"opacity\": 0.6}});\n\tviewer_1534461011207386.addLabel(\"P->TSL Pathogenic,Likely pathogenic\",{\"fontSize\": 10, \"fontColor\": \"red\", \"backgroundColor\": \"ivory\"},{\"resi\": \"113\", \"chain\": \"A\"});\n\tviewer_1534461011207386.addStyle({\"resi\": \"223\", \"chain\": \"A\"},{\"stick\": {\"colorscheme\": \"redCarbon\", \"radius\": 0.2}});\n\tviewer_1534461011207386.addStyle({\"resi\": \"223\", \"chain\": \"A\"},{\"sphere\": {\"color\": \"red\", \"opacity\": 0.6}});\n\tviewer_1534461011207386.addLabel(\"D->E Pathogenic\",{\"fontSize\": 10, \"fontColor\": \"red\", \"backgroundColor\": \"ivory\"},{\"resi\": \"223\", \"chain\": \"A\"});\n\tviewer_1534461011207386.addStyle({\"resi\": \"117\", \"chain\": \"A\"},{\"stick\": {\"colorscheme\": \"redCarbon\", \"radius\": 0.2}});\n\tviewer_1534461011207386.addStyle({\"resi\": \"117\", \"chain\": \"A\"},{\"sphere\": {\"color\": \"red\", \"opacity\": 0.6}});\n\tviewer_1534461011207386.addLabel(\"G->R Pathogenic\",{\"fontSize\": 10, \"fontColor\": \"red\", \"backgroundColor\": \"ivory\"},{\"resi\": \"117\", \"chain\": \"A\"});\n\tviewer_1534461011207386.addStyle({\"resi\": \"104\", \"chain\": \"A\"},{\"stick\": {\"colorscheme\": \"redCarbon\", \"radius\": 0.2}});\n\tviewer_1534461011207386.addStyle({\"resi\": \"104\", \"chain\": \"A\"},{\"sphere\": {\"color\": \"red\", \"opacity\": 0.6}});\n\tviewer_1534461011207386.addLabel(\"L->V Pathogenic\",{\"fontSize\": 10, \"fontColor\": \"red\", \"backgroundColor\": \"ivory\"},{\"resi\": \"104\", \"chain\": \"A\"});\n\tviewer_1534461011207386.addStyle({\"resi\": \"162\", \"chain\": \"A\"},{\"stick\": {\"colorscheme\": \"redCarbon\", \"radius\": 0.2}});\n\tviewer_1534461011207386.addStyle({\"resi\": \"162\", \"chain\": \"A\"},{\"sphere\": {\"color\": \"red\", \"opacity\": 0.6}});\n\tviewer_1534461011207386.addLabel(\"R->W Pathogenic\",{\"fontSize\": 10, \"fontColor\": \"red\", \"backgroundColor\": \"ivory\"},{\"resi\": \"162\", \"chain\": \"A\"});\n\tviewer_1534461011207386.addStyle({\"resi\": \"123\", \"chain\": \"A\"},{\"stick\": {\"colorscheme\": \"redCarbon\", \"radius\": 0.2}});\n\tviewer_1534461011207386.addStyle({\"resi\": \"123\", \"chain\": \"A\"},{\"sphere\": {\"color\": \"red\", \"opacity\": 0.6}});\n\tviewer_1534461011207386.addLabel(\"R->*Q Pathogenic\",{\"fontSize\": 10, \"fontColor\": \"red\", \"backgroundColor\": \"ivory\"},{\"resi\": \"123\", \"chain\": \"A\"});\n\tviewer_1534461011207386.zoomTo({\"resi\": [\"63\", \"132\", \"69\", \"171\", \"226\", \"187\", \"32\", \"157\", \"141\", \"188\", \"208\", \"148\", \"9\", \"231\", \"18\", \"241\", \"129\", \"116\", \"119\", \"108\", \"31\", \"194\", \"176\", \"106\", \"216\", \"207\", \"65\", \"237\", \"44\", \"218\", \"139\", \"43\", \"144\", \"53\", \"153\", \"113\", \"223\", \"117\", \"104\", \"162\", \"123\"], \"chain\": \"A\"});\nviewer_1534461011207386.render();\n})\n});\n</script>",
          "text/html": "<div id=\"3dmolviewer_1534461011207386\"  style=\"position: relative; width: 640px; height: 480px\">\n        <p id=\"3dmolwarning_1534461011207386\" style=\"background-color:#ffcccc;color:black\">You appear to be running in JupyterLab.  You need to install the 3dmol extension: <br>\n        <tt>jupyter labextension install jupyterlab_3dmol</tt></p>\n        </div>\n<script>\n\nvar loadScriptAsync = function(uri){\n  return new Promise((resolve, reject) => {\n    var tag = document.createElement('script');\n    tag.src = uri;\n    tag.async = true;\n    tag.onload = () => {\n      resolve();\n    };\n  var firstScriptTag = document.getElementsByTagName('script')[0];\n  firstScriptTag.parentNode.insertBefore(tag, firstScriptTag);\n});\n};\n\nif(typeof $3Dmolpromise === 'undefined') {\n$3Dmolpromise = null;\n  $3Dmolpromise = loadScriptAsync('https://3dmol.csb.pitt.edu/build/3Dmol.js');\n}\n\nvar viewer_1534461011207386 = null;\nvar warn = document.getElementById(\"3dmolwarning_1534461011207386\");\nif(warn) {\n    warn.parentNode.removeChild(warn);\n}\n$3Dmolpromise.then(function() {\nviewer_1534461011207386 = $3Dmol.createViewer($(\"#3dmolviewer_1534461011207386\"),{backgroundColor:\"white\"});\n$3Dmol.download(\"pdb:2AMY\", viewer_1534461011207386, {\"doAssembly\": false}, function() {\n\tviewer_1534461011207386.setStyle({\"cartoon\": {\"colorscheme\": \"chain\", \"width\": 0.6, \"opacity\": 0.9}});\n\tviewer_1534461011207386.setStyle({\"hetflag\": true},{\"stick\": {\"radius\": 0.3, \"singleBond\": false}});\n\tviewer_1534461011207386.addStyle({\"chain\": \"A\", \"resi\": [\"63\", \"132\", \"69\", \"171\", \"226\", \"187\", \"32\", \"157\", \"141\", \"188\", \"208\", \"148\", \"9\", \"231\", \"18\", \"241\", \"129\", \"116\", \"119\", \"108\", \"31\", \"194\", \"176\", \"106\", \"216\", \"207\", \"65\", \"237\", \"44\", \"218\", \"139\", \"43\", \"144\", \"53\", \"153\", \"113\", \"223\", \"117\", \"104\", \"162\", \"123\"], \"byres\": true, \"expand\": 6},{\"stick\": {\"colorscheme\": \"orangeCarbon\", \"radius\": 0.15}});\n\tviewer_1534461011207386.addStyle({\"resi\": \"63\", \"chain\": \"A\"},{\"stick\": {\"colorscheme\": \"palevioletredCarbon\", \"radius\": 0.2}});\n\tviewer_1534461011207386.addStyle({\"resi\": \"63\", \"chain\": \"A\"},{\"sphere\": {\"color\": \"palevioletred\", \"opacity\": 0.6}});\n\tviewer_1534461011207386.addLabel(\"K->N Likely pathogenic\",{\"fontSize\": 10, \"fontColor\": \"palevioletred\", \"backgroundColor\": \"ivory\"},{\"resi\": \"63\", \"chain\": \"A\"});\n\tviewer_1534461011207386.addStyle({\"resi\": \"132\", \"chain\": \"A\"},{\"stick\": {\"colorscheme\": \"palevioletredCarbon\", \"radius\": 0.2}});\n\tviewer_1534461011207386.addStyle({\"resi\": \"132\", \"chain\": \"A\"},{\"sphere\": {\"color\": \"palevioletred\", \"opacity\": 0.6}});\n\tviewer_1534461011207386.addLabel(\"I->T Likely pathogenic\",{\"fontSize\": 10, \"fontColor\": \"palevioletred\", \"backgroundColor\": \"ivory\"},{\"resi\": \"132\", \"chain\": \"A\"});\n\tviewer_1534461011207386.addStyle({\"resi\": \"69\", \"chain\": \"A\"},{\"stick\": {\"colorscheme\": \"palevioletredCarbon\", \"radius\": 0.2}});\n\tviewer_1534461011207386.addStyle({\"resi\": \"69\", \"chain\": \"A\"},{\"sphere\": {\"color\": \"palevioletred\", \"opacity\": 0.6}});\n\tviewer_1534461011207386.addLabel(\"P->SA Likely pathogenic\",{\"fontSize\": 10, \"fontColor\": \"palevioletred\", \"backgroundColor\": \"ivory\"},{\"resi\": \"69\", \"chain\": \"A\"});\n\tviewer_1534461011207386.addStyle({\"resi\": \"171\", \"chain\": \"A\"},{\"stick\": {\"colorscheme\": \"palevioletredCarbon\", \"radius\": 0.2}});\n\tviewer_1534461011207386.addStyle({\"resi\": \"171\", \"chain\": \"A\"},{\"sphere\": {\"color\": \"palevioletred\", \"opacity\": 0.6}});\n\tviewer_1534461011207386.addLabel(\"T->N Likely pathogenic\",{\"fontSize\": 10, \"fontColor\": \"palevioletred\", \"backgroundColor\": \"ivory\"},{\"resi\": \"171\", \"chain\": \"A\"});\n\tviewer_1534461011207386.addStyle({\"resi\": \"226\", \"chain\": \"A\"},{\"stick\": {\"colorscheme\": \"redCarbon\", \"radius\": 0.2}});\n\tviewer_1534461011207386.addStyle({\"resi\": \"226\", \"chain\": \"A\"},{\"sphere\": {\"color\": \"red\", \"opacity\": 0.6}});\n\tviewer_1534461011207386.addLabel(\"T->S Pathogenic\",{\"fontSize\": 10, \"fontColor\": \"red\", \"backgroundColor\": \"ivory\"},{\"resi\": \"226\", \"chain\": \"A\"});\n\tviewer_1534461011207386.addStyle({\"resi\": \"187\", \"chain\": \"A\"},{\"stick\": {\"colorscheme\": \"palevioletredCarbon\", \"radius\": 0.2}});\n\tviewer_1534461011207386.addStyle({\"resi\": \"187\", \"chain\": \"A\"},{\"sphere\": {\"color\": \"palevioletred\", \"opacity\": 0.6}});\n\tviewer_1534461011207386.addLabel(\"W->* Likely pathogenic\",{\"fontSize\": 10, \"fontColor\": \"palevioletred\", \"backgroundColor\": \"ivory\"},{\"resi\": \"187\", \"chain\": \"A\"});\n\tviewer_1534461011207386.addStyle({\"resi\": \"32\", \"chain\": \"A\"},{\"stick\": {\"colorscheme\": \"redCarbon\", \"radius\": 0.2}});\n\tviewer_1534461011207386.addStyle({\"resi\": \"32\", \"chain\": \"A\"},{\"sphere\": {\"color\": \"red\", \"opacity\": 0.6}});\n\tviewer_1534461011207386.addLabel(\"L->R Pathogenic\",{\"fontSize\": 10, \"fontColor\": \"red\", \"backgroundColor\": \"ivory\"},{\"resi\": \"32\", \"chain\": \"A\"});\n\tviewer_1534461011207386.addStyle({\"resi\": \"157\", \"chain\": \"A\"},{\"stick\": {\"colorscheme\": \"redCarbon\", \"radius\": 0.2}});\n\tviewer_1534461011207386.addStyle({\"resi\": \"157\", \"chain\": \"A\"},{\"sphere\": {\"color\": \"red\", \"opacity\": 0.6}});\n\tviewer_1534461011207386.addLabel(\"F->S Pathogenic\",{\"fontSize\": 10, \"fontColor\": \"red\", \"backgroundColor\": \"ivory\"},{\"resi\": \"157\", \"chain\": \"A\"});\n\tviewer_1534461011207386.addStyle({\"resi\": \"141\", \"chain\": \"A\"},{\"stick\": {\"colorscheme\": \"redCarbon\", \"radius\": 0.2}});\n\tviewer_1534461011207386.addStyle({\"resi\": \"141\", \"chain\": \"A\"},{\"sphere\": {\"color\": \"red\", \"opacity\": 0.6}});\n\tviewer_1534461011207386.addLabel(\"R->H Pathogenic\",{\"fontSize\": 10, \"fontColor\": \"red\", \"backgroundColor\": \"ivory\"},{\"resi\": \"141\", \"chain\": \"A\"});\n\tviewer_1534461011207386.addStyle({\"resi\": \"188\", \"chain\": \"A\"},{\"stick\": {\"colorscheme\": \"redCarbon\", \"radius\": 0.2}});\n\tviewer_1534461011207386.addStyle({\"resi\": \"188\", \"chain\": \"A\"},{\"sphere\": {\"color\": \"red\", \"opacity\": 0.6}});\n\tviewer_1534461011207386.addLabel(\"D->G Pathogenic\",{\"fontSize\": 10, \"fontColor\": \"red\", \"backgroundColor\": \"ivory\"},{\"resi\": \"188\", \"chain\": \"A\"});\n\tviewer_1534461011207386.addStyle({\"resi\": \"208\", \"chain\": \"A\"},{\"stick\": {\"colorscheme\": \"redCarbon\", \"radius\": 0.2}});\n\tviewer_1534461011207386.addStyle({\"resi\": \"208\", \"chain\": \"A\"},{\"sphere\": {\"color\": \"red\", \"opacity\": 0.6}});\n\tviewer_1534461011207386.addLabel(\"G->EA Pathogenic\",{\"fontSize\": 10, \"fontColor\": \"red\", \"backgroundColor\": \"ivory\"},{\"resi\": \"208\", \"chain\": \"A\"});\n\tviewer_1534461011207386.addStyle({\"resi\": \"148\", \"chain\": \"A\"},{\"stick\": {\"colorscheme\": \"redCarbon\", \"radius\": 0.2}});\n\tviewer_1534461011207386.addStyle({\"resi\": \"148\", \"chain\": \"A\"},{\"sphere\": {\"color\": \"red\", \"opacity\": 0.6}});\n\tviewer_1534461011207386.addLabel(\"D->N Pathogenic\",{\"fontSize\": 10, \"fontColor\": \"red\", \"backgroundColor\": \"ivory\"},{\"resi\": \"148\", \"chain\": \"A\"});\n\tviewer_1534461011207386.addStyle({\"resi\": \"9\", \"chain\": \"A\"},{\"stick\": {\"colorscheme\": \"palevioletredCarbon\", \"radius\": 0.2}});\n\tviewer_1534461011207386.addStyle({\"resi\": \"9\", \"chain\": \"A\"},{\"sphere\": {\"color\": \"palevioletred\", \"opacity\": 0.6}});\n\tviewer_1534461011207386.addLabel(\"C->*AY Likely pathogenic\",{\"fontSize\": 10, \"fontColor\": \"palevioletred\", \"backgroundColor\": \"ivory\"},{\"resi\": \"9\", \"chain\": \"A\"});\n\tviewer_1534461011207386.addStyle({\"resi\": \"231\", \"chain\": \"A\"},{\"stick\": {\"colorscheme\": \"redCarbon\", \"radius\": 0.2}});\n\tviewer_1534461011207386.addStyle({\"resi\": \"231\", \"chain\": \"A\"},{\"sphere\": {\"color\": \"red\", \"opacity\": 0.6}});\n\tviewer_1534461011207386.addLabel(\"V->M Pathogenic\",{\"fontSize\": 10, \"fontColor\": \"red\", \"backgroundColor\": \"ivory\"},{\"resi\": \"231\", \"chain\": \"A\"});\n\tviewer_1534461011207386.addStyle({\"resi\": \"18\", \"chain\": \"A\"},{\"stick\": {\"colorscheme\": \"palevioletredCarbon\", \"radius\": 0.2}});\n\tviewer_1534461011207386.addStyle({\"resi\": \"18\", \"chain\": \"A\"},{\"sphere\": {\"color\": \"palevioletred\", \"opacity\": 0.6}});\n\tviewer_1534461011207386.addLabel(\"T->S Likely pathogenic\",{\"fontSize\": 10, \"fontColor\": \"palevioletred\", \"backgroundColor\": \"ivory\"},{\"resi\": \"18\", \"chain\": \"A\"});\n\tviewer_1534461011207386.addStyle({\"resi\": \"241\", \"chain\": \"A\"},{\"stick\": {\"colorscheme\": \"redCarbon\", \"radius\": 0.2}});\n\tviewer_1534461011207386.addStyle({\"resi\": \"241\", \"chain\": \"A\"},{\"sphere\": {\"color\": \"red\", \"opacity\": 0.6}});\n\tviewer_1534461011207386.addLabel(\"C->S Pathogenic\",{\"fontSize\": 10, \"fontColor\": \"red\", \"backgroundColor\": \"ivory\"},{\"resi\": \"241\", \"chain\": \"A\"});\n\tviewer_1534461011207386.addStyle({\"resi\": \"129\", \"chain\": \"A\"},{\"stick\": {\"colorscheme\": \"redCarbon\", \"radius\": 0.2}});\n\tviewer_1534461011207386.addStyle({\"resi\": \"129\", \"chain\": \"A\"},{\"sphere\": {\"color\": \"red\", \"opacity\": 0.6}});\n\tviewer_1534461011207386.addLabel(\"V->M Pathogenic\",{\"fontSize\": 10, \"fontColor\": \"red\", \"backgroundColor\": \"ivory\"},{\"resi\": \"129\", \"chain\": \"A\"});\n\tviewer_1534461011207386.addStyle({\"resi\": \"116\", \"chain\": \"A\"},{\"stick\": {\"colorscheme\": \"palevioletredCarbon\", \"radius\": 0.2}});\n\tviewer_1534461011207386.addStyle({\"resi\": \"116\", \"chain\": \"A\"},{\"sphere\": {\"color\": \"palevioletred\", \"opacity\": 0.6}});\n\tviewer_1534461011207386.addLabel(\"R->E Likely pathogenic\",{\"fontSize\": 10, \"fontColor\": \"palevioletred\", \"backgroundColor\": \"ivory\"},{\"resi\": \"116\", \"chain\": \"A\"});\n\tviewer_1534461011207386.addStyle({\"resi\": \"119\", \"chain\": \"A\"},{\"stick\": {\"colorscheme\": \"redCarbon\", \"radius\": 0.2}});\n\tviewer_1534461011207386.addStyle({\"resi\": \"119\", \"chain\": \"A\"},{\"sphere\": {\"color\": \"red\", \"opacity\": 0.6}});\n\tviewer_1534461011207386.addLabel(\"F->L Pathogenic\",{\"fontSize\": 10, \"fontColor\": \"red\", \"backgroundColor\": \"ivory\"},{\"resi\": \"119\", \"chain\": \"A\"});\n\tviewer_1534461011207386.addStyle({\"resi\": \"108\", \"chain\": \"A\"},{\"stick\": {\"colorscheme\": \"redCarbon\", \"radius\": 0.2}});\n\tviewer_1534461011207386.addStyle({\"resi\": \"108\", \"chain\": \"A\"},{\"sphere\": {\"color\": \"red\", \"opacity\": 0.6}});\n\tviewer_1534461011207386.addLabel(\"A->V Pathogenic\",{\"fontSize\": 10, \"fontColor\": \"red\", \"backgroundColor\": \"ivory\"},{\"resi\": \"108\", \"chain\": \"A\"});\n\tviewer_1534461011207386.addStyle({\"resi\": \"31\", \"chain\": \"A\"},{\"stick\": {\"colorscheme\": \"palevioletredCarbon\", \"radius\": 0.2}});\n\tviewer_1534461011207386.addStyle({\"resi\": \"31\", \"chain\": \"A\"},{\"sphere\": {\"color\": \"palevioletred\", \"opacity\": 0.6}});\n\tviewer_1534461011207386.addLabel(\"F->L Likely pathogenic\",{\"fontSize\": 10, \"fontColor\": \"palevioletred\", \"backgroundColor\": \"ivory\"},{\"resi\": \"31\", \"chain\": \"A\"});\n\tviewer_1534461011207386.addStyle({\"resi\": \"194\", \"chain\": \"A\"},{\"stick\": {\"colorscheme\": \"palevioletredCarbon\", \"radius\": 0.2}});\n\tviewer_1534461011207386.addStyle({\"resi\": \"194\", \"chain\": \"A\"},{\"sphere\": {\"color\": \"palevioletred\", \"opacity\": 0.6}});\n\tviewer_1534461011207386.addLabel(\"R->* Likely pathogenic\",{\"fontSize\": 10, \"fontColor\": \"palevioletred\", \"backgroundColor\": \"ivory\"},{\"resi\": \"194\", \"chain\": \"A\"});\n\tviewer_1534461011207386.addStyle({\"resi\": \"176\", \"chain\": \"A\"},{\"stick\": {\"colorscheme\": \"palevioletredCarbon\", \"radius\": 0.2}});\n\tviewer_1534461011207386.addStyle({\"resi\": \"176\", \"chain\": \"A\"},{\"sphere\": {\"color\": \"palevioletred\", \"opacity\": 0.6}});\n\tviewer_1534461011207386.addLabel(\"G->D Likely pathogenic\",{\"fontSize\": 10, \"fontColor\": \"palevioletred\", \"backgroundColor\": \"ivory\"},{\"resi\": \"176\", \"chain\": \"A\"});\n\tviewer_1534461011207386.addStyle({\"resi\": \"106\", \"chain\": \"A\"},{\"stick\": {\"colorscheme\": \"redCarbon\", \"radius\": 0.2}});\n\tviewer_1534461011207386.addStyle({\"resi\": \"106\", \"chain\": \"A\"},{\"sphere\": {\"color\": \"red\", \"opacity\": 0.6}});\n\tviewer_1534461011207386.addLabel(\"Y->F Pathogenic\",{\"fontSize\": 10, \"fontColor\": \"red\", \"backgroundColor\": \"ivory\"},{\"resi\": \"106\", \"chain\": \"A\"});\n\tviewer_1534461011207386.addStyle({\"resi\": \"216\", \"chain\": \"A\"},{\"stick\": {\"colorscheme\": \"redCarbon\", \"radius\": 0.2}});\n\tviewer_1534461011207386.addStyle({\"resi\": \"216\", \"chain\": \"A\"},{\"sphere\": {\"color\": \"red\", \"opacity\": 0.6}});\n\tviewer_1534461011207386.addLabel(\"N->S Pathogenic,Likely pathogenic\",{\"fontSize\": 10, \"fontColor\": \"red\", \"backgroundColor\": \"ivory\"},{\"resi\": \"216\", \"chain\": \"A\"});\n\tviewer_1534461011207386.addStyle({\"resi\": \"207\", \"chain\": \"A\"},{\"stick\": {\"colorscheme\": \"palevioletredCarbon\", \"radius\": 0.2}});\n\tviewer_1534461011207386.addStyle({\"resi\": \"207\", \"chain\": \"A\"},{\"sphere\": {\"color\": \"palevioletred\", \"opacity\": 0.6}});\n\tviewer_1534461011207386.addLabel(\"F->S Likely pathogenic\",{\"fontSize\": 10, \"fontColor\": \"palevioletred\", \"backgroundColor\": \"ivory\"},{\"resi\": \"207\", \"chain\": \"A\"});\n\tviewer_1534461011207386.addStyle({\"resi\": \"65\", \"chain\": \"A\"},{\"stick\": {\"colorscheme\": \"redCarbon\", \"radius\": 0.2}});\n\tviewer_1534461011207386.addStyle({\"resi\": \"65\", \"chain\": \"A\"},{\"sphere\": {\"color\": \"red\", \"opacity\": 0.6}});\n\tviewer_1534461011207386.addLabel(\"D->Y Pathogenic\",{\"fontSize\": 10, \"fontColor\": \"red\", \"backgroundColor\": \"ivory\"},{\"resi\": \"65\", \"chain\": \"A\"});\n\tviewer_1534461011207386.addStyle({\"resi\": \"237\", \"chain\": \"A\"},{\"stick\": {\"colorscheme\": \"redCarbon\", \"radius\": 0.2}});\n\tviewer_1534461011207386.addStyle({\"resi\": \"237\", \"chain\": \"A\"},{\"sphere\": {\"color\": \"red\", \"opacity\": 0.6}});\n\tviewer_1534461011207386.addLabel(\"T->MR Pathogenic\",{\"fontSize\": 10, \"fontColor\": \"red\", \"backgroundColor\": \"ivory\"},{\"resi\": \"237\", \"chain\": \"A\"});\n\tviewer_1534461011207386.addStyle({\"resi\": \"44\", \"chain\": \"A\"},{\"stick\": {\"colorscheme\": \"palevioletredCarbon\", \"radius\": 0.2}});\n\tviewer_1534461011207386.addStyle({\"resi\": \"44\", \"chain\": \"A\"},{\"sphere\": {\"color\": \"palevioletred\", \"opacity\": 0.6}});\n\tviewer_1534461011207386.addLabel(\"V->A Likely pathogenic\",{\"fontSize\": 10, \"fontColor\": \"palevioletred\", \"backgroundColor\": \"ivory\"},{\"resi\": \"44\", \"chain\": \"A\"});\n\tviewer_1534461011207386.addStyle({\"resi\": \"218\", \"chain\": \"A\"},{\"stick\": {\"colorscheme\": \"redCarbon\", \"radius\": 0.2}});\n\tviewer_1534461011207386.addStyle({\"resi\": \"218\", \"chain\": \"A\"},{\"sphere\": {\"color\": \"red\", \"opacity\": 0.6}});\n\tviewer_1534461011207386.addLabel(\"H->LD Pathogenic,Likely pathogenic\",{\"fontSize\": 10, \"fontColor\": \"red\", \"backgroundColor\": \"ivory\"},{\"resi\": \"218\", \"chain\": \"A\"});\n\tviewer_1534461011207386.addStyle({\"resi\": \"139\", \"chain\": \"A\"},{\"stick\": {\"colorscheme\": \"redCarbon\", \"radius\": 0.2}});\n\tviewer_1534461011207386.addStyle({\"resi\": \"139\", \"chain\": \"A\"},{\"sphere\": {\"color\": \"red\", \"opacity\": 0.6}});\n\tviewer_1534461011207386.addLabel(\"E->K Pathogenic,Likely pathogenic\",{\"fontSize\": 10, \"fontColor\": \"red\", \"backgroundColor\": \"ivory\"},{\"resi\": \"139\", \"chain\": \"A\"});\n\tviewer_1534461011207386.addStyle({\"resi\": \"43\", \"chain\": \"A\"},{\"stick\": {\"colorscheme\": \"palevioletredCarbon\", \"radius\": 0.2}});\n\tviewer_1534461011207386.addStyle({\"resi\": \"43\", \"chain\": \"A\"},{\"sphere\": {\"color\": \"palevioletred\", \"opacity\": 0.6}});\n\tviewer_1534461011207386.addLabel(\"V->L Likely pathogenic\",{\"fontSize\": 10, \"fontColor\": \"palevioletred\", \"backgroundColor\": \"ivory\"},{\"resi\": \"43\", \"chain\": \"A\"});\n\tviewer_1534461011207386.addStyle({\"resi\": \"144\", \"chain\": \"A\"},{\"stick\": {\"colorscheme\": \"palevioletredCarbon\", \"radius\": 0.2}});\n\tviewer_1534461011207386.addStyle({\"resi\": \"144\", \"chain\": \"A\"},{\"sphere\": {\"color\": \"palevioletred\", \"opacity\": 0.6}});\n\tviewer_1534461011207386.addLabel(\"F->L Likely pathogenic\",{\"fontSize\": 10, \"fontColor\": \"palevioletred\", \"backgroundColor\": \"ivory\"},{\"resi\": \"144\", \"chain\": \"A\"});\n\tviewer_1534461011207386.addStyle({\"resi\": \"53\", \"chain\": \"A\"},{\"stick\": {\"colorscheme\": \"redCarbon\", \"radius\": 0.2}});\n\tviewer_1534461011207386.addStyle({\"resi\": \"53\", \"chain\": \"A\"},{\"sphere\": {\"color\": \"red\", \"opacity\": 0.6}});\n\tviewer_1534461011207386.addLabel(\"Q->* Pathogenic\",{\"fontSize\": 10, \"fontColor\": \"red\", \"backgroundColor\": \"ivory\"},{\"resi\": \"53\", \"chain\": \"A\"});\n\tviewer_1534461011207386.addStyle({\"resi\": \"153\", \"chain\": \"A\"},{\"stick\": {\"colorscheme\": \"palevioletredCarbon\", \"radius\": 0.2}});\n\tviewer_1534461011207386.addStyle({\"resi\": \"153\", \"chain\": \"A\"},{\"sphere\": {\"color\": \"palevioletred\", \"opacity\": 0.6}});\n\tviewer_1534461011207386.addLabel(\"I->T Likely pathogenic\",{\"fontSize\": 10, \"fontColor\": \"palevioletred\", \"backgroundColor\": \"ivory\"},{\"resi\": \"153\", \"chain\": \"A\"});\n\tviewer_1534461011207386.addStyle({\"resi\": \"113\", \"chain\": \"A\"},{\"stick\": {\"colorscheme\": \"redCarbon\", \"radius\": 0.2}});\n\tviewer_1534461011207386.addStyle({\"resi\": \"113\", \"chain\": \"A\"},{\"sphere\": {\"color\": \"red\", \"opacity\": 0.6}});\n\tviewer_1534461011207386.addLabel(\"P->TSL Pathogenic,Likely pathogenic\",{\"fontSize\": 10, \"fontColor\": \"red\", \"backgroundColor\": \"ivory\"},{\"resi\": \"113\", \"chain\": \"A\"});\n\tviewer_1534461011207386.addStyle({\"resi\": \"223\", \"chain\": \"A\"},{\"stick\": {\"colorscheme\": \"redCarbon\", \"radius\": 0.2}});\n\tviewer_1534461011207386.addStyle({\"resi\": \"223\", \"chain\": \"A\"},{\"sphere\": {\"color\": \"red\", \"opacity\": 0.6}});\n\tviewer_1534461011207386.addLabel(\"D->E Pathogenic\",{\"fontSize\": 10, \"fontColor\": \"red\", \"backgroundColor\": \"ivory\"},{\"resi\": \"223\", \"chain\": \"A\"});\n\tviewer_1534461011207386.addStyle({\"resi\": \"117\", \"chain\": \"A\"},{\"stick\": {\"colorscheme\": \"redCarbon\", \"radius\": 0.2}});\n\tviewer_1534461011207386.addStyle({\"resi\": \"117\", \"chain\": \"A\"},{\"sphere\": {\"color\": \"red\", \"opacity\": 0.6}});\n\tviewer_1534461011207386.addLabel(\"G->R Pathogenic\",{\"fontSize\": 10, \"fontColor\": \"red\", \"backgroundColor\": \"ivory\"},{\"resi\": \"117\", \"chain\": \"A\"});\n\tviewer_1534461011207386.addStyle({\"resi\": \"104\", \"chain\": \"A\"},{\"stick\": {\"colorscheme\": \"redCarbon\", \"radius\": 0.2}});\n\tviewer_1534461011207386.addStyle({\"resi\": \"104\", \"chain\": \"A\"},{\"sphere\": {\"color\": \"red\", \"opacity\": 0.6}});\n\tviewer_1534461011207386.addLabel(\"L->V Pathogenic\",{\"fontSize\": 10, \"fontColor\": \"red\", \"backgroundColor\": \"ivory\"},{\"resi\": \"104\", \"chain\": \"A\"});\n\tviewer_1534461011207386.addStyle({\"resi\": \"162\", \"chain\": \"A\"},{\"stick\": {\"colorscheme\": \"redCarbon\", \"radius\": 0.2}});\n\tviewer_1534461011207386.addStyle({\"resi\": \"162\", \"chain\": \"A\"},{\"sphere\": {\"color\": \"red\", \"opacity\": 0.6}});\n\tviewer_1534461011207386.addLabel(\"R->W Pathogenic\",{\"fontSize\": 10, \"fontColor\": \"red\", \"backgroundColor\": \"ivory\"},{\"resi\": \"162\", \"chain\": \"A\"});\n\tviewer_1534461011207386.addStyle({\"resi\": \"123\", \"chain\": \"A\"},{\"stick\": {\"colorscheme\": \"redCarbon\", \"radius\": 0.2}});\n\tviewer_1534461011207386.addStyle({\"resi\": \"123\", \"chain\": \"A\"},{\"sphere\": {\"color\": \"red\", \"opacity\": 0.6}});\n\tviewer_1534461011207386.addLabel(\"R->*Q Pathogenic\",{\"fontSize\": 10, \"fontColor\": \"red\", \"backgroundColor\": \"ivory\"},{\"resi\": \"123\", \"chain\": \"A\"});\n\tviewer_1534461011207386.zoomTo({\"resi\": [\"63\", \"132\", \"69\", \"171\", \"226\", \"187\", \"32\", \"157\", \"141\", \"188\", \"208\", \"148\", \"9\", \"231\", \"18\", \"241\", \"129\", \"116\", \"119\", \"108\", \"31\", \"194\", \"176\", \"106\", \"216\", \"207\", \"65\", \"237\", \"44\", \"218\", \"139\", \"43\", \"144\", \"53\", \"153\", \"113\", \"223\", \"117\", \"104\", \"162\", \"123\"], \"chain\": \"A\"});\nviewer_1534461011207386.render();\n})\n});\n</script>"
         },
         "metadata": {},
         "output_type": "display_data"
        }
       ]
      }
     },
     "5a22f2ee4e624d3a83ab4c49d30ad6b8": {
      "model_module": "@jupyter-widgets/base",
      "model_module_version": "1.1.0",
      "model_name": "LayoutModel",
      "state": {}
     },
     "5a5aa4235b294fd893a46a3e7bf36a52": {
      "model_module": "@jupyter-widgets/controls",
      "model_module_version": "1.3.0",
      "model_name": "DescriptionStyleModel",
      "state": {
       "description_width": ""
      }
     },
     "5aee98b3c97d4dd3a821c7dc2a9a45d7": {
      "model_module": "@jupyter-widgets/controls",
      "model_module_version": "1.3.0",
      "model_name": "DescriptionStyleModel",
      "state": {
       "description_width": ""
      }
     },
     "5d8542a1da3e4e2893884b9a55cc63f9": {
      "model_module": "@jupyter-widgets/controls",
      "model_module_version": "1.3.0",
      "model_name": "IntSliderModel",
      "state": {
       "continuous_update": false,
       "description": "Structure",
       "layout": "IPY_MODEL_65e6a1ea98744f3492a31fc7ae133cef",
       "max": 1455,
       "style": "IPY_MODEL_66ea146cc6804425883561c7f6bdb5b6"
      }
     },
     "5f3fb76c38e842959173fb68ea4fa08a": {
      "model_module": "@jupyter-widgets/controls",
      "model_module_version": "1.3.0",
      "model_name": "IntSliderModel",
      "state": {
       "continuous_update": false,
       "description": "Structure",
       "layout": "IPY_MODEL_ac3dfdd1ecb74376af15ea0f323631d2",
       "max": 1455,
       "style": "IPY_MODEL_6844069adcd444f196f82cea4cab866b",
       "value": 392
      }
     },
     "5f64bd2fdfda4f5b81f28d11713fda69": {
      "model_module": "@jupyter-widgets/controls",
      "model_module_version": "1.3.0",
      "model_name": "DropdownModel",
      "state": {
       "_options_labels": [
        "none",
        "snp_id",
        "pdbChainId",
        "uniprotId",
        "sqlQuery"
       ],
       "description": "Select field:",
       "index": 0,
       "layout": "IPY_MODEL_b125546d96e649d29f9b8e5d69d1417e",
       "style": "IPY_MODEL_887c606c61524d87ae8529025106c0ad"
      }
     },
     "614b82fc152048d2bdcd61af5a63ca9a": {
      "model_module": "@jupyter-widgets/base",
      "model_module_version": "1.1.0",
      "model_name": "LayoutModel",
      "state": {}
     },
     "624be8f057e143b38ca004d169e47693": {
      "model_module": "@jupyter-widgets/base",
      "model_module_version": "1.1.0",
      "model_name": "LayoutModel",
      "state": {}
     },
     "634cb5aaa1fa4624b6e1ac6f776c4350": {
      "model_module": "@jupyter-widgets/controls",
      "model_module_version": "1.3.0",
      "model_name": "IntSliderModel",
      "state": {
       "continuous_update": false,
       "description": "Structure",
       "layout": "IPY_MODEL_e686b22682524526aa7dcc6b6a0694d9",
       "max": 49712,
       "style": "IPY_MODEL_334bf4a3da7b4906a3de78822d3c303a"
      }
     },
     "638e20ba20694e8b97b5e9ab5e784f72": {
      "model_module": "@jupyter-widgets/controls",
      "model_module_version": "1.3.0",
      "model_name": "CheckboxModel",
      "state": {
       "description": "show_surface",
       "disabled": false,
       "layout": "IPY_MODEL_a65eaf14d7f94102b25524cfcb907cee",
       "style": "IPY_MODEL_ece8ff0fa25042d3a9447137ba7378d3",
       "value": false
      }
     },
     "639d184da3194af792118e79469184ee": {
      "model_module": "@jupyter-widgets/output",
      "model_module_version": "1.0.0",
      "model_name": "OutputModel",
      "state": {
       "layout": "IPY_MODEL_79695acf309942a3af15f78092e3d36a",
       "outputs": [
        {
         "name": "stdout",
         "output_type": "stream",
         "text": "PDB Id: 2AMY chain Id: A\nuniprotId: O15305\n"
        },
        {
         "data": {
          "application/3dmoljs_load.v0": "<div id=\"3dmolviewer_1534461011298095\"  style=\"position: relative; width: 640px; height: 480px\">\n        <p id=\"3dmolwarning_1534461011298095\" style=\"background-color:#ffcccc;color:black\">You appear to be running in JupyterLab.  You need to install the 3dmol extension: <br>\n        <tt>jupyter labextension install jupyterlab_3dmol</tt></p>\n        </div>\n<script>\n\nvar loadScriptAsync = function(uri){\n  return new Promise((resolve, reject) => {\n    var tag = document.createElement('script');\n    tag.src = uri;\n    tag.async = true;\n    tag.onload = () => {\n      resolve();\n    };\n  var firstScriptTag = document.getElementsByTagName('script')[0];\n  firstScriptTag.parentNode.insertBefore(tag, firstScriptTag);\n});\n};\n\nif(typeof $3Dmolpromise === 'undefined') {\n$3Dmolpromise = null;\n  $3Dmolpromise = loadScriptAsync('https://3dmol.csb.pitt.edu/build/3Dmol.js');\n}\n\nvar viewer_1534461011298095 = null;\nvar warn = document.getElementById(\"3dmolwarning_1534461011298095\");\nif(warn) {\n    warn.parentNode.removeChild(warn);\n}\n$3Dmolpromise.then(function() {\nviewer_1534461011298095 = $3Dmol.createViewer($(\"#3dmolviewer_1534461011298095\"),{backgroundColor:\"white\"});\n$3Dmol.download(\"pdb:2AMY\", viewer_1534461011298095, {\"doAssembly\": false}, function() {\n\tviewer_1534461011298095.setStyle({\"sphere\": {\"colorscheme\": \"chain\", \"opacity\": 0.6}});\n\tviewer_1534461011298095.setStyle({\"hetflag\": true},{\"stick\": {\"radius\": 0.3, \"singleBond\": false}});\n\tviewer_1534461011298095.setStyle({\"resi\": \"63\", \"chain\": \"A\"},{\"sphere\": {\"color\": \"palevioletred\"}});\n\tviewer_1534461011298095.addLabel(\"K->N Likely pathogenic\",{\"fontSize\": 10, \"fontColor\": \"palevioletred\", \"backgroundColor\": \"ivory\"},{\"resi\": \"63\", \"chain\": \"A\"});\n\tviewer_1534461011298095.setStyle({\"resi\": \"132\", \"chain\": \"A\"},{\"sphere\": {\"color\": \"palevioletred\"}});\n\tviewer_1534461011298095.addLabel(\"I->T Likely pathogenic\",{\"fontSize\": 10, \"fontColor\": \"palevioletred\", \"backgroundColor\": \"ivory\"},{\"resi\": \"132\", \"chain\": \"A\"});\n\tviewer_1534461011298095.setStyle({\"resi\": \"69\", \"chain\": \"A\"},{\"sphere\": {\"color\": \"palevioletred\"}});\n\tviewer_1534461011298095.addLabel(\"P->SA Likely pathogenic\",{\"fontSize\": 10, \"fontColor\": \"palevioletred\", \"backgroundColor\": \"ivory\"},{\"resi\": \"69\", \"chain\": \"A\"});\n\tviewer_1534461011298095.setStyle({\"resi\": \"171\", \"chain\": \"A\"},{\"sphere\": {\"color\": \"palevioletred\"}});\n\tviewer_1534461011298095.addLabel(\"T->N Likely pathogenic\",{\"fontSize\": 10, \"fontColor\": \"palevioletred\", \"backgroundColor\": \"ivory\"},{\"resi\": \"171\", \"chain\": \"A\"});\n\tviewer_1534461011298095.setStyle({\"resi\": \"226\", \"chain\": \"A\"},{\"sphere\": {\"color\": \"red\"}});\n\tviewer_1534461011298095.addLabel(\"T->S Pathogenic\",{\"fontSize\": 10, \"fontColor\": \"red\", \"backgroundColor\": \"ivory\"},{\"resi\": \"226\", \"chain\": \"A\"});\n\tviewer_1534461011298095.setStyle({\"resi\": \"187\", \"chain\": \"A\"},{\"sphere\": {\"color\": \"palevioletred\"}});\n\tviewer_1534461011298095.addLabel(\"W->* Likely pathogenic\",{\"fontSize\": 10, \"fontColor\": \"palevioletred\", \"backgroundColor\": \"ivory\"},{\"resi\": \"187\", \"chain\": \"A\"});\n\tviewer_1534461011298095.setStyle({\"resi\": \"32\", \"chain\": \"A\"},{\"sphere\": {\"color\": \"red\"}});\n\tviewer_1534461011298095.addLabel(\"L->R Pathogenic\",{\"fontSize\": 10, \"fontColor\": \"red\", \"backgroundColor\": \"ivory\"},{\"resi\": \"32\", \"chain\": \"A\"});\n\tviewer_1534461011298095.setStyle({\"resi\": \"157\", \"chain\": \"A\"},{\"sphere\": {\"color\": \"red\"}});\n\tviewer_1534461011298095.addLabel(\"F->S Pathogenic\",{\"fontSize\": 10, \"fontColor\": \"red\", \"backgroundColor\": \"ivory\"},{\"resi\": \"157\", \"chain\": \"A\"});\n\tviewer_1534461011298095.setStyle({\"resi\": \"141\", \"chain\": \"A\"},{\"sphere\": {\"color\": \"red\"}});\n\tviewer_1534461011298095.addLabel(\"R->H Pathogenic\",{\"fontSize\": 10, \"fontColor\": \"red\", \"backgroundColor\": \"ivory\"},{\"resi\": \"141\", \"chain\": \"A\"});\n\tviewer_1534461011298095.setStyle({\"resi\": \"188\", \"chain\": \"A\"},{\"sphere\": {\"color\": \"red\"}});\n\tviewer_1534461011298095.addLabel(\"D->G Pathogenic\",{\"fontSize\": 10, \"fontColor\": \"red\", \"backgroundColor\": \"ivory\"},{\"resi\": \"188\", \"chain\": \"A\"});\n\tviewer_1534461011298095.setStyle({\"resi\": \"208\", \"chain\": \"A\"},{\"sphere\": {\"color\": \"red\"}});\n\tviewer_1534461011298095.addLabel(\"G->EA Pathogenic\",{\"fontSize\": 10, \"fontColor\": \"red\", \"backgroundColor\": \"ivory\"},{\"resi\": \"208\", \"chain\": \"A\"});\n\tviewer_1534461011298095.setStyle({\"resi\": \"148\", \"chain\": \"A\"},{\"sphere\": {\"color\": \"red\"}});\n\tviewer_1534461011298095.addLabel(\"D->N Pathogenic\",{\"fontSize\": 10, \"fontColor\": \"red\", \"backgroundColor\": \"ivory\"},{\"resi\": \"148\", \"chain\": \"A\"});\n\tviewer_1534461011298095.setStyle({\"resi\": \"9\", \"chain\": \"A\"},{\"sphere\": {\"color\": \"palevioletred\"}});\n\tviewer_1534461011298095.addLabel(\"C->*AY Likely pathogenic\",{\"fontSize\": 10, \"fontColor\": \"palevioletred\", \"backgroundColor\": \"ivory\"},{\"resi\": \"9\", \"chain\": \"A\"});\n\tviewer_1534461011298095.setStyle({\"resi\": \"231\", \"chain\": \"A\"},{\"sphere\": {\"color\": \"red\"}});\n\tviewer_1534461011298095.addLabel(\"V->M Pathogenic\",{\"fontSize\": 10, \"fontColor\": \"red\", \"backgroundColor\": \"ivory\"},{\"resi\": \"231\", \"chain\": \"A\"});\n\tviewer_1534461011298095.setStyle({\"resi\": \"18\", \"chain\": \"A\"},{\"sphere\": {\"color\": \"palevioletred\"}});\n\tviewer_1534461011298095.addLabel(\"T->S Likely pathogenic\",{\"fontSize\": 10, \"fontColor\": \"palevioletred\", \"backgroundColor\": \"ivory\"},{\"resi\": \"18\", \"chain\": \"A\"});\n\tviewer_1534461011298095.setStyle({\"resi\": \"241\", \"chain\": \"A\"},{\"sphere\": {\"color\": \"red\"}});\n\tviewer_1534461011298095.addLabel(\"C->S Pathogenic\",{\"fontSize\": 10, \"fontColor\": \"red\", \"backgroundColor\": \"ivory\"},{\"resi\": \"241\", \"chain\": \"A\"});\n\tviewer_1534461011298095.setStyle({\"resi\": \"129\", \"chain\": \"A\"},{\"sphere\": {\"color\": \"red\"}});\n\tviewer_1534461011298095.addLabel(\"V->M Pathogenic\",{\"fontSize\": 10, \"fontColor\": \"red\", \"backgroundColor\": \"ivory\"},{\"resi\": \"129\", \"chain\": \"A\"});\n\tviewer_1534461011298095.setStyle({\"resi\": \"116\", \"chain\": \"A\"},{\"sphere\": {\"color\": \"palevioletred\"}});\n\tviewer_1534461011298095.addLabel(\"R->E Likely pathogenic\",{\"fontSize\": 10, \"fontColor\": \"palevioletred\", \"backgroundColor\": \"ivory\"},{\"resi\": \"116\", \"chain\": \"A\"});\n\tviewer_1534461011298095.setStyle({\"resi\": \"119\", \"chain\": \"A\"},{\"sphere\": {\"color\": \"red\"}});\n\tviewer_1534461011298095.addLabel(\"F->L Pathogenic\",{\"fontSize\": 10, \"fontColor\": \"red\", \"backgroundColor\": \"ivory\"},{\"resi\": \"119\", \"chain\": \"A\"});\n\tviewer_1534461011298095.setStyle({\"resi\": \"108\", \"chain\": \"A\"},{\"sphere\": {\"color\": \"red\"}});\n\tviewer_1534461011298095.addLabel(\"A->V Pathogenic\",{\"fontSize\": 10, \"fontColor\": \"red\", \"backgroundColor\": \"ivory\"},{\"resi\": \"108\", \"chain\": \"A\"});\n\tviewer_1534461011298095.setStyle({\"resi\": \"31\", \"chain\": \"A\"},{\"sphere\": {\"color\": \"palevioletred\"}});\n\tviewer_1534461011298095.addLabel(\"F->L Likely pathogenic\",{\"fontSize\": 10, \"fontColor\": \"palevioletred\", \"backgroundColor\": \"ivory\"},{\"resi\": \"31\", \"chain\": \"A\"});\n\tviewer_1534461011298095.setStyle({\"resi\": \"194\", \"chain\": \"A\"},{\"sphere\": {\"color\": \"palevioletred\"}});\n\tviewer_1534461011298095.addLabel(\"R->* Likely pathogenic\",{\"fontSize\": 10, \"fontColor\": \"palevioletred\", \"backgroundColor\": \"ivory\"},{\"resi\": \"194\", \"chain\": \"A\"});\n\tviewer_1534461011298095.setStyle({\"resi\": \"176\", \"chain\": \"A\"},{\"sphere\": {\"color\": \"palevioletred\"}});\n\tviewer_1534461011298095.addLabel(\"G->D Likely pathogenic\",{\"fontSize\": 10, \"fontColor\": \"palevioletred\", \"backgroundColor\": \"ivory\"},{\"resi\": \"176\", \"chain\": \"A\"});\n\tviewer_1534461011298095.setStyle({\"resi\": \"106\", \"chain\": \"A\"},{\"sphere\": {\"color\": \"red\"}});\n\tviewer_1534461011298095.addLabel(\"Y->F Pathogenic\",{\"fontSize\": 10, \"fontColor\": \"red\", \"backgroundColor\": \"ivory\"},{\"resi\": \"106\", \"chain\": \"A\"});\n\tviewer_1534461011298095.setStyle({\"resi\": \"216\", \"chain\": \"A\"},{\"sphere\": {\"color\": \"red\"}});\n\tviewer_1534461011298095.addLabel(\"N->S Pathogenic,Likely pathogenic\",{\"fontSize\": 10, \"fontColor\": \"red\", \"backgroundColor\": \"ivory\"},{\"resi\": \"216\", \"chain\": \"A\"});\n\tviewer_1534461011298095.setStyle({\"resi\": \"207\", \"chain\": \"A\"},{\"sphere\": {\"color\": \"palevioletred\"}});\n\tviewer_1534461011298095.addLabel(\"F->S Likely pathogenic\",{\"fontSize\": 10, \"fontColor\": \"palevioletred\", \"backgroundColor\": \"ivory\"},{\"resi\": \"207\", \"chain\": \"A\"});\n\tviewer_1534461011298095.setStyle({\"resi\": \"65\", \"chain\": \"A\"},{\"sphere\": {\"color\": \"red\"}});\n\tviewer_1534461011298095.addLabel(\"D->Y Pathogenic\",{\"fontSize\": 10, \"fontColor\": \"red\", \"backgroundColor\": \"ivory\"},{\"resi\": \"65\", \"chain\": \"A\"});\n\tviewer_1534461011298095.setStyle({\"resi\": \"237\", \"chain\": \"A\"},{\"sphere\": {\"color\": \"red\"}});\n\tviewer_1534461011298095.addLabel(\"T->MR Pathogenic\",{\"fontSize\": 10, \"fontColor\": \"red\", \"backgroundColor\": \"ivory\"},{\"resi\": \"237\", \"chain\": \"A\"});\n\tviewer_1534461011298095.setStyle({\"resi\": \"44\", \"chain\": \"A\"},{\"sphere\": {\"color\": \"palevioletred\"}});\n\tviewer_1534461011298095.addLabel(\"V->A Likely pathogenic\",{\"fontSize\": 10, \"fontColor\": \"palevioletred\", \"backgroundColor\": \"ivory\"},{\"resi\": \"44\", \"chain\": \"A\"});\n\tviewer_1534461011298095.setStyle({\"resi\": \"218\", \"chain\": \"A\"},{\"sphere\": {\"color\": \"red\"}});\n\tviewer_1534461011298095.addLabel(\"H->LD Pathogenic,Likely pathogenic\",{\"fontSize\": 10, \"fontColor\": \"red\", \"backgroundColor\": \"ivory\"},{\"resi\": \"218\", \"chain\": \"A\"});\n\tviewer_1534461011298095.setStyle({\"resi\": \"139\", \"chain\": \"A\"},{\"sphere\": {\"color\": \"red\"}});\n\tviewer_1534461011298095.addLabel(\"E->K Pathogenic,Likely pathogenic\",{\"fontSize\": 10, \"fontColor\": \"red\", \"backgroundColor\": \"ivory\"},{\"resi\": \"139\", \"chain\": \"A\"});\n\tviewer_1534461011298095.setStyle({\"resi\": \"43\", \"chain\": \"A\"},{\"sphere\": {\"color\": \"palevioletred\"}});\n\tviewer_1534461011298095.addLabel(\"V->L Likely pathogenic\",{\"fontSize\": 10, \"fontColor\": \"palevioletred\", \"backgroundColor\": \"ivory\"},{\"resi\": \"43\", \"chain\": \"A\"});\n\tviewer_1534461011298095.setStyle({\"resi\": \"144\", \"chain\": \"A\"},{\"sphere\": {\"color\": \"palevioletred\"}});\n\tviewer_1534461011298095.addLabel(\"F->L Likely pathogenic\",{\"fontSize\": 10, \"fontColor\": \"palevioletred\", \"backgroundColor\": \"ivory\"},{\"resi\": \"144\", \"chain\": \"A\"});\n\tviewer_1534461011298095.setStyle({\"resi\": \"53\", \"chain\": \"A\"},{\"sphere\": {\"color\": \"red\"}});\n\tviewer_1534461011298095.addLabel(\"Q->* Pathogenic\",{\"fontSize\": 10, \"fontColor\": \"red\", \"backgroundColor\": \"ivory\"},{\"resi\": \"53\", \"chain\": \"A\"});\n\tviewer_1534461011298095.setStyle({\"resi\": \"153\", \"chain\": \"A\"},{\"sphere\": {\"color\": \"palevioletred\"}});\n\tviewer_1534461011298095.addLabel(\"I->T Likely pathogenic\",{\"fontSize\": 10, \"fontColor\": \"palevioletred\", \"backgroundColor\": \"ivory\"},{\"resi\": \"153\", \"chain\": \"A\"});\n\tviewer_1534461011298095.setStyle({\"resi\": \"113\", \"chain\": \"A\"},{\"sphere\": {\"color\": \"red\"}});\n\tviewer_1534461011298095.addLabel(\"P->TSL Pathogenic,Likely pathogenic\",{\"fontSize\": 10, \"fontColor\": \"red\", \"backgroundColor\": \"ivory\"},{\"resi\": \"113\", \"chain\": \"A\"});\n\tviewer_1534461011298095.setStyle({\"resi\": \"223\", \"chain\": \"A\"},{\"sphere\": {\"color\": \"red\"}});\n\tviewer_1534461011298095.addLabel(\"D->E Pathogenic\",{\"fontSize\": 10, \"fontColor\": \"red\", \"backgroundColor\": \"ivory\"},{\"resi\": \"223\", \"chain\": \"A\"});\n\tviewer_1534461011298095.setStyle({\"resi\": \"117\", \"chain\": \"A\"},{\"sphere\": {\"color\": \"red\"}});\n\tviewer_1534461011298095.addLabel(\"G->R Pathogenic\",{\"fontSize\": 10, \"fontColor\": \"red\", \"backgroundColor\": \"ivory\"},{\"resi\": \"117\", \"chain\": \"A\"});\n\tviewer_1534461011298095.setStyle({\"resi\": \"104\", \"chain\": \"A\"},{\"sphere\": {\"color\": \"red\"}});\n\tviewer_1534461011298095.addLabel(\"L->V Pathogenic\",{\"fontSize\": 10, \"fontColor\": \"red\", \"backgroundColor\": \"ivory\"},{\"resi\": \"104\", \"chain\": \"A\"});\n\tviewer_1534461011298095.setStyle({\"resi\": \"162\", \"chain\": \"A\"},{\"sphere\": {\"color\": \"red\"}});\n\tviewer_1534461011298095.addLabel(\"R->W Pathogenic\",{\"fontSize\": 10, \"fontColor\": \"red\", \"backgroundColor\": \"ivory\"},{\"resi\": \"162\", \"chain\": \"A\"});\n\tviewer_1534461011298095.setStyle({\"resi\": \"123\", \"chain\": \"A\"},{\"sphere\": {\"color\": \"red\"}});\n\tviewer_1534461011298095.addLabel(\"R->*Q Pathogenic\",{\"fontSize\": 10, \"fontColor\": \"red\", \"backgroundColor\": \"ivory\"},{\"resi\": \"123\", \"chain\": \"A\"});\n\tviewer_1534461011298095.zoomTo({\"resi\": [\"63\", \"132\", \"69\", \"171\", \"226\", \"187\", \"32\", \"157\", \"141\", \"188\", \"208\", \"148\", \"9\", \"231\", \"18\", \"241\", \"129\", \"116\", \"119\", \"108\", \"31\", \"194\", \"176\", \"106\", \"216\", \"207\", \"65\", \"237\", \"44\", \"218\", \"139\", \"43\", \"144\", \"53\", \"153\", \"113\", \"223\", \"117\", \"104\", \"162\", \"123\"], \"chain\": \"A\"});\nviewer_1534461011298095.render();\n})\n});\n</script>",
          "text/html": "<div id=\"3dmolviewer_1534461011298095\"  style=\"position: relative; width: 640px; height: 480px\">\n        <p id=\"3dmolwarning_1534461011298095\" style=\"background-color:#ffcccc;color:black\">You appear to be running in JupyterLab.  You need to install the 3dmol extension: <br>\n        <tt>jupyter labextension install jupyterlab_3dmol</tt></p>\n        </div>\n<script>\n\nvar loadScriptAsync = function(uri){\n  return new Promise((resolve, reject) => {\n    var tag = document.createElement('script');\n    tag.src = uri;\n    tag.async = true;\n    tag.onload = () => {\n      resolve();\n    };\n  var firstScriptTag = document.getElementsByTagName('script')[0];\n  firstScriptTag.parentNode.insertBefore(tag, firstScriptTag);\n});\n};\n\nif(typeof $3Dmolpromise === 'undefined') {\n$3Dmolpromise = null;\n  $3Dmolpromise = loadScriptAsync('https://3dmol.csb.pitt.edu/build/3Dmol.js');\n}\n\nvar viewer_1534461011298095 = null;\nvar warn = document.getElementById(\"3dmolwarning_1534461011298095\");\nif(warn) {\n    warn.parentNode.removeChild(warn);\n}\n$3Dmolpromise.then(function() {\nviewer_1534461011298095 = $3Dmol.createViewer($(\"#3dmolviewer_1534461011298095\"),{backgroundColor:\"white\"});\n$3Dmol.download(\"pdb:2AMY\", viewer_1534461011298095, {\"doAssembly\": false}, function() {\n\tviewer_1534461011298095.setStyle({\"sphere\": {\"colorscheme\": \"chain\", \"opacity\": 0.6}});\n\tviewer_1534461011298095.setStyle({\"hetflag\": true},{\"stick\": {\"radius\": 0.3, \"singleBond\": false}});\n\tviewer_1534461011298095.setStyle({\"resi\": \"63\", \"chain\": \"A\"},{\"sphere\": {\"color\": \"palevioletred\"}});\n\tviewer_1534461011298095.addLabel(\"K->N Likely pathogenic\",{\"fontSize\": 10, \"fontColor\": \"palevioletred\", \"backgroundColor\": \"ivory\"},{\"resi\": \"63\", \"chain\": \"A\"});\n\tviewer_1534461011298095.setStyle({\"resi\": \"132\", \"chain\": \"A\"},{\"sphere\": {\"color\": \"palevioletred\"}});\n\tviewer_1534461011298095.addLabel(\"I->T Likely pathogenic\",{\"fontSize\": 10, \"fontColor\": \"palevioletred\", \"backgroundColor\": \"ivory\"},{\"resi\": \"132\", \"chain\": \"A\"});\n\tviewer_1534461011298095.setStyle({\"resi\": \"69\", \"chain\": \"A\"},{\"sphere\": {\"color\": \"palevioletred\"}});\n\tviewer_1534461011298095.addLabel(\"P->SA Likely pathogenic\",{\"fontSize\": 10, \"fontColor\": \"palevioletred\", \"backgroundColor\": \"ivory\"},{\"resi\": \"69\", \"chain\": \"A\"});\n\tviewer_1534461011298095.setStyle({\"resi\": \"171\", \"chain\": \"A\"},{\"sphere\": {\"color\": \"palevioletred\"}});\n\tviewer_1534461011298095.addLabel(\"T->N Likely pathogenic\",{\"fontSize\": 10, \"fontColor\": \"palevioletred\", \"backgroundColor\": \"ivory\"},{\"resi\": \"171\", \"chain\": \"A\"});\n\tviewer_1534461011298095.setStyle({\"resi\": \"226\", \"chain\": \"A\"},{\"sphere\": {\"color\": \"red\"}});\n\tviewer_1534461011298095.addLabel(\"T->S Pathogenic\",{\"fontSize\": 10, \"fontColor\": \"red\", \"backgroundColor\": \"ivory\"},{\"resi\": \"226\", \"chain\": \"A\"});\n\tviewer_1534461011298095.setStyle({\"resi\": \"187\", \"chain\": \"A\"},{\"sphere\": {\"color\": \"palevioletred\"}});\n\tviewer_1534461011298095.addLabel(\"W->* Likely pathogenic\",{\"fontSize\": 10, \"fontColor\": \"palevioletred\", \"backgroundColor\": \"ivory\"},{\"resi\": \"187\", \"chain\": \"A\"});\n\tviewer_1534461011298095.setStyle({\"resi\": \"32\", \"chain\": \"A\"},{\"sphere\": {\"color\": \"red\"}});\n\tviewer_1534461011298095.addLabel(\"L->R Pathogenic\",{\"fontSize\": 10, \"fontColor\": \"red\", \"backgroundColor\": \"ivory\"},{\"resi\": \"32\", \"chain\": \"A\"});\n\tviewer_1534461011298095.setStyle({\"resi\": \"157\", \"chain\": \"A\"},{\"sphere\": {\"color\": \"red\"}});\n\tviewer_1534461011298095.addLabel(\"F->S Pathogenic\",{\"fontSize\": 10, \"fontColor\": \"red\", \"backgroundColor\": \"ivory\"},{\"resi\": \"157\", \"chain\": \"A\"});\n\tviewer_1534461011298095.setStyle({\"resi\": \"141\", \"chain\": \"A\"},{\"sphere\": {\"color\": \"red\"}});\n\tviewer_1534461011298095.addLabel(\"R->H Pathogenic\",{\"fontSize\": 10, \"fontColor\": \"red\", \"backgroundColor\": \"ivory\"},{\"resi\": \"141\", \"chain\": \"A\"});\n\tviewer_1534461011298095.setStyle({\"resi\": \"188\", \"chain\": \"A\"},{\"sphere\": {\"color\": \"red\"}});\n\tviewer_1534461011298095.addLabel(\"D->G Pathogenic\",{\"fontSize\": 10, \"fontColor\": \"red\", \"backgroundColor\": \"ivory\"},{\"resi\": \"188\", \"chain\": \"A\"});\n\tviewer_1534461011298095.setStyle({\"resi\": \"208\", \"chain\": \"A\"},{\"sphere\": {\"color\": \"red\"}});\n\tviewer_1534461011298095.addLabel(\"G->EA Pathogenic\",{\"fontSize\": 10, \"fontColor\": \"red\", \"backgroundColor\": \"ivory\"},{\"resi\": \"208\", \"chain\": \"A\"});\n\tviewer_1534461011298095.setStyle({\"resi\": \"148\", \"chain\": \"A\"},{\"sphere\": {\"color\": \"red\"}});\n\tviewer_1534461011298095.addLabel(\"D->N Pathogenic\",{\"fontSize\": 10, \"fontColor\": \"red\", \"backgroundColor\": \"ivory\"},{\"resi\": \"148\", \"chain\": \"A\"});\n\tviewer_1534461011298095.setStyle({\"resi\": \"9\", \"chain\": \"A\"},{\"sphere\": {\"color\": \"palevioletred\"}});\n\tviewer_1534461011298095.addLabel(\"C->*AY Likely pathogenic\",{\"fontSize\": 10, \"fontColor\": \"palevioletred\", \"backgroundColor\": \"ivory\"},{\"resi\": \"9\", \"chain\": \"A\"});\n\tviewer_1534461011298095.setStyle({\"resi\": \"231\", \"chain\": \"A\"},{\"sphere\": {\"color\": \"red\"}});\n\tviewer_1534461011298095.addLabel(\"V->M Pathogenic\",{\"fontSize\": 10, \"fontColor\": \"red\", \"backgroundColor\": \"ivory\"},{\"resi\": \"231\", \"chain\": \"A\"});\n\tviewer_1534461011298095.setStyle({\"resi\": \"18\", \"chain\": \"A\"},{\"sphere\": {\"color\": \"palevioletred\"}});\n\tviewer_1534461011298095.addLabel(\"T->S Likely pathogenic\",{\"fontSize\": 10, \"fontColor\": \"palevioletred\", \"backgroundColor\": \"ivory\"},{\"resi\": \"18\", \"chain\": \"A\"});\n\tviewer_1534461011298095.setStyle({\"resi\": \"241\", \"chain\": \"A\"},{\"sphere\": {\"color\": \"red\"}});\n\tviewer_1534461011298095.addLabel(\"C->S Pathogenic\",{\"fontSize\": 10, \"fontColor\": \"red\", \"backgroundColor\": \"ivory\"},{\"resi\": \"241\", \"chain\": \"A\"});\n\tviewer_1534461011298095.setStyle({\"resi\": \"129\", \"chain\": \"A\"},{\"sphere\": {\"color\": \"red\"}});\n\tviewer_1534461011298095.addLabel(\"V->M Pathogenic\",{\"fontSize\": 10, \"fontColor\": \"red\", \"backgroundColor\": \"ivory\"},{\"resi\": \"129\", \"chain\": \"A\"});\n\tviewer_1534461011298095.setStyle({\"resi\": \"116\", \"chain\": \"A\"},{\"sphere\": {\"color\": \"palevioletred\"}});\n\tviewer_1534461011298095.addLabel(\"R->E Likely pathogenic\",{\"fontSize\": 10, \"fontColor\": \"palevioletred\", \"backgroundColor\": \"ivory\"},{\"resi\": \"116\", \"chain\": \"A\"});\n\tviewer_1534461011298095.setStyle({\"resi\": \"119\", \"chain\": \"A\"},{\"sphere\": {\"color\": \"red\"}});\n\tviewer_1534461011298095.addLabel(\"F->L Pathogenic\",{\"fontSize\": 10, \"fontColor\": \"red\", \"backgroundColor\": \"ivory\"},{\"resi\": \"119\", \"chain\": \"A\"});\n\tviewer_1534461011298095.setStyle({\"resi\": \"108\", \"chain\": \"A\"},{\"sphere\": {\"color\": \"red\"}});\n\tviewer_1534461011298095.addLabel(\"A->V Pathogenic\",{\"fontSize\": 10, \"fontColor\": \"red\", \"backgroundColor\": \"ivory\"},{\"resi\": \"108\", \"chain\": \"A\"});\n\tviewer_1534461011298095.setStyle({\"resi\": \"31\", \"chain\": \"A\"},{\"sphere\": {\"color\": \"palevioletred\"}});\n\tviewer_1534461011298095.addLabel(\"F->L Likely pathogenic\",{\"fontSize\": 10, \"fontColor\": \"palevioletred\", \"backgroundColor\": \"ivory\"},{\"resi\": \"31\", \"chain\": \"A\"});\n\tviewer_1534461011298095.setStyle({\"resi\": \"194\", \"chain\": \"A\"},{\"sphere\": {\"color\": \"palevioletred\"}});\n\tviewer_1534461011298095.addLabel(\"R->* Likely pathogenic\",{\"fontSize\": 10, \"fontColor\": \"palevioletred\", \"backgroundColor\": \"ivory\"},{\"resi\": \"194\", \"chain\": \"A\"});\n\tviewer_1534461011298095.setStyle({\"resi\": \"176\", \"chain\": \"A\"},{\"sphere\": {\"color\": \"palevioletred\"}});\n\tviewer_1534461011298095.addLabel(\"G->D Likely pathogenic\",{\"fontSize\": 10, \"fontColor\": \"palevioletred\", \"backgroundColor\": \"ivory\"},{\"resi\": \"176\", \"chain\": \"A\"});\n\tviewer_1534461011298095.setStyle({\"resi\": \"106\", \"chain\": \"A\"},{\"sphere\": {\"color\": \"red\"}});\n\tviewer_1534461011298095.addLabel(\"Y->F Pathogenic\",{\"fontSize\": 10, \"fontColor\": \"red\", \"backgroundColor\": \"ivory\"},{\"resi\": \"106\", \"chain\": \"A\"});\n\tviewer_1534461011298095.setStyle({\"resi\": \"216\", \"chain\": \"A\"},{\"sphere\": {\"color\": \"red\"}});\n\tviewer_1534461011298095.addLabel(\"N->S Pathogenic,Likely pathogenic\",{\"fontSize\": 10, \"fontColor\": \"red\", \"backgroundColor\": \"ivory\"},{\"resi\": \"216\", \"chain\": \"A\"});\n\tviewer_1534461011298095.setStyle({\"resi\": \"207\", \"chain\": \"A\"},{\"sphere\": {\"color\": \"palevioletred\"}});\n\tviewer_1534461011298095.addLabel(\"F->S Likely pathogenic\",{\"fontSize\": 10, \"fontColor\": \"palevioletred\", \"backgroundColor\": \"ivory\"},{\"resi\": \"207\", \"chain\": \"A\"});\n\tviewer_1534461011298095.setStyle({\"resi\": \"65\", \"chain\": \"A\"},{\"sphere\": {\"color\": \"red\"}});\n\tviewer_1534461011298095.addLabel(\"D->Y Pathogenic\",{\"fontSize\": 10, \"fontColor\": \"red\", \"backgroundColor\": \"ivory\"},{\"resi\": \"65\", \"chain\": \"A\"});\n\tviewer_1534461011298095.setStyle({\"resi\": \"237\", \"chain\": \"A\"},{\"sphere\": {\"color\": \"red\"}});\n\tviewer_1534461011298095.addLabel(\"T->MR Pathogenic\",{\"fontSize\": 10, \"fontColor\": \"red\", \"backgroundColor\": \"ivory\"},{\"resi\": \"237\", \"chain\": \"A\"});\n\tviewer_1534461011298095.setStyle({\"resi\": \"44\", \"chain\": \"A\"},{\"sphere\": {\"color\": \"palevioletred\"}});\n\tviewer_1534461011298095.addLabel(\"V->A Likely pathogenic\",{\"fontSize\": 10, \"fontColor\": \"palevioletred\", \"backgroundColor\": \"ivory\"},{\"resi\": \"44\", \"chain\": \"A\"});\n\tviewer_1534461011298095.setStyle({\"resi\": \"218\", \"chain\": \"A\"},{\"sphere\": {\"color\": \"red\"}});\n\tviewer_1534461011298095.addLabel(\"H->LD Pathogenic,Likely pathogenic\",{\"fontSize\": 10, \"fontColor\": \"red\", \"backgroundColor\": \"ivory\"},{\"resi\": \"218\", \"chain\": \"A\"});\n\tviewer_1534461011298095.setStyle({\"resi\": \"139\", \"chain\": \"A\"},{\"sphere\": {\"color\": \"red\"}});\n\tviewer_1534461011298095.addLabel(\"E->K Pathogenic,Likely pathogenic\",{\"fontSize\": 10, \"fontColor\": \"red\", \"backgroundColor\": \"ivory\"},{\"resi\": \"139\", \"chain\": \"A\"});\n\tviewer_1534461011298095.setStyle({\"resi\": \"43\", \"chain\": \"A\"},{\"sphere\": {\"color\": \"palevioletred\"}});\n\tviewer_1534461011298095.addLabel(\"V->L Likely pathogenic\",{\"fontSize\": 10, \"fontColor\": \"palevioletred\", \"backgroundColor\": \"ivory\"},{\"resi\": \"43\", \"chain\": \"A\"});\n\tviewer_1534461011298095.setStyle({\"resi\": \"144\", \"chain\": \"A\"},{\"sphere\": {\"color\": \"palevioletred\"}});\n\tviewer_1534461011298095.addLabel(\"F->L Likely pathogenic\",{\"fontSize\": 10, \"fontColor\": \"palevioletred\", \"backgroundColor\": \"ivory\"},{\"resi\": \"144\", \"chain\": \"A\"});\n\tviewer_1534461011298095.setStyle({\"resi\": \"53\", \"chain\": \"A\"},{\"sphere\": {\"color\": \"red\"}});\n\tviewer_1534461011298095.addLabel(\"Q->* Pathogenic\",{\"fontSize\": 10, \"fontColor\": \"red\", \"backgroundColor\": \"ivory\"},{\"resi\": \"53\", \"chain\": \"A\"});\n\tviewer_1534461011298095.setStyle({\"resi\": \"153\", \"chain\": \"A\"},{\"sphere\": {\"color\": \"palevioletred\"}});\n\tviewer_1534461011298095.addLabel(\"I->T Likely pathogenic\",{\"fontSize\": 10, \"fontColor\": \"palevioletred\", \"backgroundColor\": \"ivory\"},{\"resi\": \"153\", \"chain\": \"A\"});\n\tviewer_1534461011298095.setStyle({\"resi\": \"113\", \"chain\": \"A\"},{\"sphere\": {\"color\": \"red\"}});\n\tviewer_1534461011298095.addLabel(\"P->TSL Pathogenic,Likely pathogenic\",{\"fontSize\": 10, \"fontColor\": \"red\", \"backgroundColor\": \"ivory\"},{\"resi\": \"113\", \"chain\": \"A\"});\n\tviewer_1534461011298095.setStyle({\"resi\": \"223\", \"chain\": \"A\"},{\"sphere\": {\"color\": \"red\"}});\n\tviewer_1534461011298095.addLabel(\"D->E Pathogenic\",{\"fontSize\": 10, \"fontColor\": \"red\", \"backgroundColor\": \"ivory\"},{\"resi\": \"223\", \"chain\": \"A\"});\n\tviewer_1534461011298095.setStyle({\"resi\": \"117\", \"chain\": \"A\"},{\"sphere\": {\"color\": \"red\"}});\n\tviewer_1534461011298095.addLabel(\"G->R Pathogenic\",{\"fontSize\": 10, \"fontColor\": \"red\", \"backgroundColor\": \"ivory\"},{\"resi\": \"117\", \"chain\": \"A\"});\n\tviewer_1534461011298095.setStyle({\"resi\": \"104\", \"chain\": \"A\"},{\"sphere\": {\"color\": \"red\"}});\n\tviewer_1534461011298095.addLabel(\"L->V Pathogenic\",{\"fontSize\": 10, \"fontColor\": \"red\", \"backgroundColor\": \"ivory\"},{\"resi\": \"104\", \"chain\": \"A\"});\n\tviewer_1534461011298095.setStyle({\"resi\": \"162\", \"chain\": \"A\"},{\"sphere\": {\"color\": \"red\"}});\n\tviewer_1534461011298095.addLabel(\"R->W Pathogenic\",{\"fontSize\": 10, \"fontColor\": \"red\", \"backgroundColor\": \"ivory\"},{\"resi\": \"162\", \"chain\": \"A\"});\n\tviewer_1534461011298095.setStyle({\"resi\": \"123\", \"chain\": \"A\"},{\"sphere\": {\"color\": \"red\"}});\n\tviewer_1534461011298095.addLabel(\"R->*Q Pathogenic\",{\"fontSize\": 10, \"fontColor\": \"red\", \"backgroundColor\": \"ivory\"},{\"resi\": \"123\", \"chain\": \"A\"});\n\tviewer_1534461011298095.zoomTo({\"resi\": [\"63\", \"132\", \"69\", \"171\", \"226\", \"187\", \"32\", \"157\", \"141\", \"188\", \"208\", \"148\", \"9\", \"231\", \"18\", \"241\", \"129\", \"116\", \"119\", \"108\", \"31\", \"194\", \"176\", \"106\", \"216\", \"207\", \"65\", \"237\", \"44\", \"218\", \"139\", \"43\", \"144\", \"53\", \"153\", \"113\", \"223\", \"117\", \"104\", \"162\", \"123\"], \"chain\": \"A\"});\nviewer_1534461011298095.render();\n})\n});\n</script>"
         },
         "metadata": {},
         "output_type": "display_data"
        }
       ]
      }
     },
     "643fd25e5ca341de871b27daf6374c07": {
      "model_module": "@jupyter-widgets/base",
      "model_module_version": "1.1.0",
      "model_name": "LayoutModel",
      "state": {}
     },
     "65c76a34af8146cfb18c5a2bf1c3dff6": {
      "model_module": "@jupyter-widgets/base",
      "model_module_version": "1.1.0",
      "model_name": "LayoutModel",
      "state": {}
     },
     "65e6a1ea98744f3492a31fc7ae133cef": {
      "model_module": "@jupyter-widgets/base",
      "model_module_version": "1.1.0",
      "model_name": "LayoutModel",
      "state": {}
     },
     "66ea146cc6804425883561c7f6bdb5b6": {
      "model_module": "@jupyter-widgets/controls",
      "model_module_version": "1.3.0",
      "model_name": "SliderStyleModel",
      "state": {
       "description_width": ""
      }
     },
     "6701bd61c4d149c8b4afa0a4dbff3cac": {
      "model_module": "@jupyter-widgets/base",
      "model_module_version": "1.1.0",
      "model_name": "LayoutModel",
      "state": {}
     },
     "675c7d74f999471eb7799e77244ace6d": {
      "model_module": "@jupyter-widgets/base",
      "model_module_version": "1.1.0",
      "model_name": "LayoutModel",
      "state": {}
     },
     "680c320b387046089bd364d1d6097524": {
      "model_module": "@jupyter-widgets/controls",
      "model_module_version": "1.3.0",
      "model_name": "DescriptionStyleModel",
      "state": {
       "description_width": ""
      }
     },
     "6844069adcd444f196f82cea4cab866b": {
      "model_module": "@jupyter-widgets/controls",
      "model_module_version": "1.3.0",
      "model_name": "SliderStyleModel",
      "state": {
       "description_width": ""
      }
     },
     "689041fce6d2476a973203010bca9550": {
      "model_module": "@jupyter-widgets/base",
      "model_module_version": "1.1.0",
      "model_name": "LayoutModel",
      "state": {}
     },
     "69292fe29d274677bcd5b5bd7c37957d": {
      "model_module": "@jupyter-widgets/controls",
      "model_module_version": "1.3.0",
      "model_name": "SliderStyleModel",
      "state": {
       "description_width": ""
      }
     },
     "69731c55f4a142d1b6cf3eae548f1cbe": {
      "model_module": "@jupyter-widgets/base",
      "model_module_version": "1.1.0",
      "model_name": "LayoutModel",
      "state": {}
     },
     "6a135b44910b46728225ab72b6c47f13": {
      "model_module": "@jupyter-widgets/controls",
      "model_module_version": "1.3.0",
      "model_name": "CheckboxModel",
      "state": {
       "description": "show_surface",
       "disabled": false,
       "layout": "IPY_MODEL_284f4e5dcf694e79bb6b5473c7dc5920",
       "style": "IPY_MODEL_4d1874012dbd44a687cb42c2acccddbc",
       "value": false
      }
     },
     "6a6848ccf7804ea69e5ea0a76f5a839e": {
      "model_module": "@jupyter-widgets/output",
      "model_module_version": "1.0.0",
      "model_name": "OutputModel",
      "state": {
       "layout": "IPY_MODEL_6701bd61c4d149c8b4afa0a4dbff3cac",
       "outputs": [
        {
         "ename": "KeyError",
         "evalue": "'pdbResNums'",
         "output_type": "error",
         "traceback": [
          "\u001b[0;31m---------------------------------------------------------------------------\u001b[0m",
          "\u001b[0;31mTypeError\u001b[0m                                 Traceback (most recent call last)",
          "\u001b[0;32m~/anaconda3/lib/python3.6/site-packages/pandas/core/indexes/base.py\u001b[0m in \u001b[0;36mget_value\u001b[0;34m(self, series, key)\u001b[0m\n\u001b[1;32m   2565\u001b[0m             \u001b[0;32mtry\u001b[0m\u001b[0;34m:\u001b[0m\u001b[0;34m\u001b[0m\u001b[0m\n\u001b[0;32m-> 2566\u001b[0;31m                 \u001b[0;32mreturn\u001b[0m \u001b[0mlibts\u001b[0m\u001b[0;34m.\u001b[0m\u001b[0mget_value_box\u001b[0m\u001b[0;34m(\u001b[0m\u001b[0ms\u001b[0m\u001b[0;34m,\u001b[0m \u001b[0mkey\u001b[0m\u001b[0;34m)\u001b[0m\u001b[0;34m\u001b[0m\u001b[0m\n\u001b[0m\u001b[1;32m   2567\u001b[0m             \u001b[0;32mexcept\u001b[0m \u001b[0mIndexError\u001b[0m\u001b[0;34m:\u001b[0m\u001b[0;34m\u001b[0m\u001b[0m\n",
          "\u001b[0;32mpandas/_libs/tslib.pyx\u001b[0m in \u001b[0;36mpandas._libs.tslib.get_value_box\u001b[0;34m()\u001b[0m\n",
          "\u001b[0;32mpandas/_libs/tslib.pyx\u001b[0m in \u001b[0;36mpandas._libs.tslib.get_value_box\u001b[0;34m()\u001b[0m\n",
          "\u001b[0;31mTypeError\u001b[0m: 'str' object cannot be interpreted as an integer",
          "\nDuring handling of the above exception, another exception occurred:\n",
          "\u001b[0;31mKeyError\u001b[0m                                  Traceback (most recent call last)",
          "\u001b[0;32m~/anaconda3/lib/python3.6/site-packages/ipywidgets/widgets/interaction.py\u001b[0m in \u001b[0;36mupdate\u001b[0;34m(self, *args)\u001b[0m\n\u001b[1;32m    249\u001b[0m                     \u001b[0mvalue\u001b[0m \u001b[0;34m=\u001b[0m \u001b[0mwidget\u001b[0m\u001b[0;34m.\u001b[0m\u001b[0mget_interact_value\u001b[0m\u001b[0;34m(\u001b[0m\u001b[0;34m)\u001b[0m\u001b[0;34m\u001b[0m\u001b[0m\n\u001b[1;32m    250\u001b[0m                     \u001b[0mself\u001b[0m\u001b[0;34m.\u001b[0m\u001b[0mkwargs\u001b[0m\u001b[0;34m[\u001b[0m\u001b[0mwidget\u001b[0m\u001b[0;34m.\u001b[0m\u001b[0m_kwarg\u001b[0m\u001b[0;34m]\u001b[0m \u001b[0;34m=\u001b[0m \u001b[0mvalue\u001b[0m\u001b[0;34m\u001b[0m\u001b[0m\n\u001b[0;32m--> 251\u001b[0;31m                 \u001b[0mself\u001b[0m\u001b[0;34m.\u001b[0m\u001b[0mresult\u001b[0m \u001b[0;34m=\u001b[0m \u001b[0mself\u001b[0m\u001b[0;34m.\u001b[0m\u001b[0mf\u001b[0m\u001b[0;34m(\u001b[0m\u001b[0;34m**\u001b[0m\u001b[0mself\u001b[0m\u001b[0;34m.\u001b[0m\u001b[0mkwargs\u001b[0m\u001b[0;34m)\u001b[0m\u001b[0;34m\u001b[0m\u001b[0m\n\u001b[0m\u001b[1;32m    252\u001b[0m                 \u001b[0mshow_inline_matplotlib_plots\u001b[0m\u001b[0;34m(\u001b[0m\u001b[0;34m)\u001b[0m\u001b[0;34m\u001b[0m\u001b[0m\n\u001b[1;32m    253\u001b[0m                 \u001b[0;32mif\u001b[0m \u001b[0mself\u001b[0m\u001b[0;34m.\u001b[0m\u001b[0mauto_display\u001b[0m \u001b[0;32mand\u001b[0m \u001b[0mself\u001b[0m\u001b[0;34m.\u001b[0m\u001b[0mresult\u001b[0m \u001b[0;32mis\u001b[0m \u001b[0;32mnot\u001b[0m \u001b[0;32mNone\u001b[0m\u001b[0;34m:\u001b[0m\u001b[0;34m\u001b[0m\u001b[0m\n",
          "\u001b[0;32m<ipython-input-14-9eab7ab5ff80>\u001b[0m in \u001b[0;36mview3d\u001b[0;34m(show_bio_assembly, show_surface, show_labels, i)\u001b[0m\n\u001b[1;32m      3\u001b[0m     \u001b[0;32mdef\u001b[0m \u001b[0mview3d\u001b[0m\u001b[0;34m(\u001b[0m\u001b[0mshow_bio_assembly\u001b[0m\u001b[0;34m=\u001b[0m\u001b[0;32mFalse\u001b[0m\u001b[0;34m,\u001b[0m \u001b[0mshow_surface\u001b[0m\u001b[0;34m=\u001b[0m\u001b[0;32mFalse\u001b[0m\u001b[0;34m,\u001b[0m \u001b[0mshow_labels\u001b[0m\u001b[0;34m=\u001b[0m\u001b[0;32mTrue\u001b[0m\u001b[0;34m,\u001b[0m \u001b[0mi\u001b[0m\u001b[0;34m=\u001b[0m\u001b[0;36m0\u001b[0m\u001b[0;34m)\u001b[0m\u001b[0;34m:\u001b[0m\u001b[0;34m\u001b[0m\u001b[0m\n\u001b[1;32m      4\u001b[0m         \u001b[0mpdb_id\u001b[0m\u001b[0;34m,\u001b[0m \u001b[0mchain_id\u001b[0m \u001b[0;34m=\u001b[0m \u001b[0mdf\u001b[0m\u001b[0;34m.\u001b[0m\u001b[0miloc\u001b[0m\u001b[0;34m[\u001b[0m\u001b[0mi\u001b[0m\u001b[0;34m]\u001b[0m\u001b[0;34m[\u001b[0m\u001b[0;34m'pdbChainId'\u001b[0m\u001b[0;34m]\u001b[0m\u001b[0;34m.\u001b[0m\u001b[0msplit\u001b[0m\u001b[0;34m(\u001b[0m\u001b[0;34m'.'\u001b[0m\u001b[0;34m)\u001b[0m\u001b[0;34m\u001b[0m\u001b[0m\n\u001b[0;32m----> 5\u001b[0;31m         \u001b[0mres_num\u001b[0m \u001b[0;34m=\u001b[0m \u001b[0mdf\u001b[0m\u001b[0;34m.\u001b[0m\u001b[0miloc\u001b[0m\u001b[0;34m[\u001b[0m\u001b[0mi\u001b[0m\u001b[0;34m]\u001b[0m\u001b[0;34m[\u001b[0m\u001b[0;34m'pdbResNums'\u001b[0m\u001b[0;34m]\u001b[0m\u001b[0;34m\u001b[0m\u001b[0m\n\u001b[0m\u001b[1;32m      6\u001b[0m         \u001b[0mlabels\u001b[0m \u001b[0;34m=\u001b[0m \u001b[0mdf\u001b[0m\u001b[0;34m.\u001b[0m\u001b[0miloc\u001b[0m\u001b[0;34m[\u001b[0m\u001b[0mi\u001b[0m\u001b[0;34m]\u001b[0m\u001b[0;34m[\u001b[0m\u001b[0;34m'snps'\u001b[0m\u001b[0;34m]\u001b[0m\u001b[0;34m\u001b[0m\u001b[0m\n\u001b[1;32m      7\u001b[0m         \u001b[0msigs\u001b[0m \u001b[0;34m=\u001b[0m \u001b[0mdf\u001b[0m\u001b[0;34m.\u001b[0m\u001b[0miloc\u001b[0m\u001b[0;34m[\u001b[0m\u001b[0mi\u001b[0m\u001b[0;34m]\u001b[0m\u001b[0;34m[\u001b[0m\u001b[0;34m'clinsig'\u001b[0m\u001b[0;34m]\u001b[0m\u001b[0;34m\u001b[0m\u001b[0m\n",
          "\u001b[0;32m~/anaconda3/lib/python3.6/site-packages/pandas/core/series.py\u001b[0m in \u001b[0;36m__getitem__\u001b[0;34m(self, key)\u001b[0m\n\u001b[1;32m    621\u001b[0m         \u001b[0mkey\u001b[0m \u001b[0;34m=\u001b[0m \u001b[0mcom\u001b[0m\u001b[0;34m.\u001b[0m\u001b[0m_apply_if_callable\u001b[0m\u001b[0;34m(\u001b[0m\u001b[0mkey\u001b[0m\u001b[0;34m,\u001b[0m \u001b[0mself\u001b[0m\u001b[0;34m)\u001b[0m\u001b[0;34m\u001b[0m\u001b[0m\n\u001b[1;32m    622\u001b[0m         \u001b[0;32mtry\u001b[0m\u001b[0;34m:\u001b[0m\u001b[0;34m\u001b[0m\u001b[0m\n\u001b[0;32m--> 623\u001b[0;31m             \u001b[0mresult\u001b[0m \u001b[0;34m=\u001b[0m \u001b[0mself\u001b[0m\u001b[0;34m.\u001b[0m\u001b[0mindex\u001b[0m\u001b[0;34m.\u001b[0m\u001b[0mget_value\u001b[0m\u001b[0;34m(\u001b[0m\u001b[0mself\u001b[0m\u001b[0;34m,\u001b[0m \u001b[0mkey\u001b[0m\u001b[0;34m)\u001b[0m\u001b[0;34m\u001b[0m\u001b[0m\n\u001b[0m\u001b[1;32m    624\u001b[0m \u001b[0;34m\u001b[0m\u001b[0m\n\u001b[1;32m    625\u001b[0m             \u001b[0;32mif\u001b[0m \u001b[0;32mnot\u001b[0m \u001b[0mis_scalar\u001b[0m\u001b[0;34m(\u001b[0m\u001b[0mresult\u001b[0m\u001b[0;34m)\u001b[0m\u001b[0;34m:\u001b[0m\u001b[0;34m\u001b[0m\u001b[0m\n",
          "\u001b[0;32m~/anaconda3/lib/python3.6/site-packages/pandas/core/indexes/base.py\u001b[0m in \u001b[0;36mget_value\u001b[0;34m(self, series, key)\u001b[0m\n\u001b[1;32m   2572\u001b[0m                     \u001b[0;32mraise\u001b[0m \u001b[0mInvalidIndexError\u001b[0m\u001b[0;34m(\u001b[0m\u001b[0mkey\u001b[0m\u001b[0;34m)\u001b[0m\u001b[0;34m\u001b[0m\u001b[0m\n\u001b[1;32m   2573\u001b[0m                 \u001b[0;32melse\u001b[0m\u001b[0;34m:\u001b[0m\u001b[0;34m\u001b[0m\u001b[0m\n\u001b[0;32m-> 2574\u001b[0;31m                     \u001b[0;32mraise\u001b[0m \u001b[0me1\u001b[0m\u001b[0;34m\u001b[0m\u001b[0m\n\u001b[0m\u001b[1;32m   2575\u001b[0m             \u001b[0;32mexcept\u001b[0m \u001b[0mException\u001b[0m\u001b[0;34m:\u001b[0m  \u001b[0;31m# pragma: no cover\u001b[0m\u001b[0;34m\u001b[0m\u001b[0m\n\u001b[1;32m   2576\u001b[0m                 \u001b[0;32mraise\u001b[0m \u001b[0me1\u001b[0m\u001b[0;34m\u001b[0m\u001b[0m\n",
          "\u001b[0;32m~/anaconda3/lib/python3.6/site-packages/pandas/core/indexes/base.py\u001b[0m in \u001b[0;36mget_value\u001b[0;34m(self, series, key)\u001b[0m\n\u001b[1;32m   2558\u001b[0m         \u001b[0;32mtry\u001b[0m\u001b[0;34m:\u001b[0m\u001b[0;34m\u001b[0m\u001b[0m\n\u001b[1;32m   2559\u001b[0m             return self._engine.get_value(s, k,\n\u001b[0;32m-> 2560\u001b[0;31m                                           tz=getattr(series.dtype, 'tz', None))\n\u001b[0m\u001b[1;32m   2561\u001b[0m         \u001b[0;32mexcept\u001b[0m \u001b[0mKeyError\u001b[0m \u001b[0;32mas\u001b[0m \u001b[0me1\u001b[0m\u001b[0;34m:\u001b[0m\u001b[0;34m\u001b[0m\u001b[0m\n\u001b[1;32m   2562\u001b[0m             \u001b[0;32mif\u001b[0m \u001b[0mlen\u001b[0m\u001b[0;34m(\u001b[0m\u001b[0mself\u001b[0m\u001b[0;34m)\u001b[0m \u001b[0;34m>\u001b[0m \u001b[0;36m0\u001b[0m \u001b[0;32mand\u001b[0m \u001b[0mself\u001b[0m\u001b[0;34m.\u001b[0m\u001b[0minferred_type\u001b[0m \u001b[0;32min\u001b[0m \u001b[0;34m[\u001b[0m\u001b[0;34m'integer'\u001b[0m\u001b[0;34m,\u001b[0m \u001b[0;34m'boolean'\u001b[0m\u001b[0;34m]\u001b[0m\u001b[0;34m:\u001b[0m\u001b[0;34m\u001b[0m\u001b[0m\n",
          "\u001b[0;32mpandas/_libs/index.pyx\u001b[0m in \u001b[0;36mpandas._libs.index.IndexEngine.get_value\u001b[0;34m()\u001b[0m\n",
          "\u001b[0;32mpandas/_libs/index.pyx\u001b[0m in \u001b[0;36mpandas._libs.index.IndexEngine.get_value\u001b[0;34m()\u001b[0m\n",
          "\u001b[0;32mpandas/_libs/index.pyx\u001b[0m in \u001b[0;36mpandas._libs.index.IndexEngine.get_loc\u001b[0;34m()\u001b[0m\n",
          "\u001b[0;32mpandas/_libs/hashtable_class_helper.pxi\u001b[0m in \u001b[0;36mpandas._libs.hashtable.PyObjectHashTable.get_item\u001b[0;34m()\u001b[0m\n",
          "\u001b[0;32mpandas/_libs/hashtable_class_helper.pxi\u001b[0m in \u001b[0;36mpandas._libs.hashtable.PyObjectHashTable.get_item\u001b[0;34m()\u001b[0m\n",
          "\u001b[0;31mKeyError\u001b[0m: 'pdbResNums'"
         ]
        }
       ]
      }
     },
     "6ad1c647762f4adda21a8bf5e50a9dcc": {
      "model_module": "@jupyter-widgets/base",
      "model_module_version": "1.1.0",
      "model_name": "LayoutModel",
      "state": {}
     },
     "6b116fc6b8dd4515a5cf32de713952c4": {
      "model_module": "@jupyter-widgets/controls",
      "model_module_version": "1.3.0",
      "model_name": "CheckboxModel",
      "state": {
       "description": "show_surface",
       "disabled": false,
       "layout": "IPY_MODEL_9198a3ee190f4d2f92eef452cc866f4c",
       "style": "IPY_MODEL_208c50b031bd40afaf17874eed11004b",
       "value": false
      }
     },
     "6ba8c015fc4d4d3d9d78027f025820fd": {
      "model_module": "@jupyter-widgets/output",
      "model_module_version": "1.0.0",
      "model_name": "OutputModel",
      "state": {
       "layout": "IPY_MODEL_156004e78ca94ea182c9ace99f942184",
       "outputs": [
        {
         "name": "stdout",
         "output_type": "stream",
         "text": "PDB Id: 1B72 chain Id: A\nuniprotId: P14653\n"
        },
        {
         "data": {
          "application/3dmoljs_load.v0": "<div id=\"3dmolviewer_1534463481361609\"  style=\"position: relative; width: 640px; height: 480px\">\n        <p id=\"3dmolwarning_1534463481361609\" style=\"background-color:#ffcccc;color:black\">You appear to be running in JupyterLab.  You need to install the 3dmol extension: <br>\n        <tt>jupyter labextension install jupyterlab_3dmol</tt></p>\n        </div>\n<script>\n\nvar loadScriptAsync = function(uri){\n  return new Promise((resolve, reject) => {\n    var tag = document.createElement('script');\n    tag.src = uri;\n    tag.async = true;\n    tag.onload = () => {\n      resolve();\n    };\n  var firstScriptTag = document.getElementsByTagName('script')[0];\n  firstScriptTag.parentNode.insertBefore(tag, firstScriptTag);\n});\n};\n\nif(typeof $3Dmolpromise === 'undefined') {\n$3Dmolpromise = null;\n  $3Dmolpromise = loadScriptAsync('https://3dmol.csb.pitt.edu/build/3Dmol.js');\n}\n\nvar viewer_1534463481361609 = null;\nvar warn = document.getElementById(\"3dmolwarning_1534463481361609\");\nif(warn) {\n    warn.parentNode.removeChild(warn);\n}\n$3Dmolpromise.then(function() {\nviewer_1534463481361609 = $3Dmol.createViewer($(\"#3dmolviewer_1534463481361609\"),{backgroundColor:\"white\"});\n$3Dmol.download(\"pdb:1B72\", viewer_1534463481361609, {\"doAssembly\": false}, function() {\n\tviewer_1534463481361609.setStyle({\"cartoon\": {\"colorscheme\": \"chain\", \"width\": 0.6, \"opacity\": 0.9}});\n\tviewer_1534463481361609.setStyle({\"hetflag\": true},{\"stick\": {\"radius\": 0.3, \"singleBond\": false}});\n\tviewer_1534463481361609.addStyle({\"chain\": \"A\", \"resi\": [\"207\"], \"byres\": true, \"expand\": 6},{\"stick\": {\"colorscheme\": \"orangeCarbon\", \"radius\": 0.15}});\n\tviewer_1534463481361609.addStyle({\"resi\": \"207\", \"chain\": \"A\"},{\"stick\": {\"colorscheme\": \"redCarbon\", \"radius\": 0.2}});\n\tviewer_1534463481361609.addStyle({\"resi\": \"207\", \"chain\": \"A\"},{\"sphere\": {\"color\": \"red\", \"opacity\": 0.6}});\n\tviewer_1534463481361609.addLabel(\"R->C Pathogenic\",{\"fontSize\": 10, \"fontColor\": \"red\", \"backgroundColor\": \"ivory\"},{\"resi\": \"207\", \"chain\": \"A\"});\n\tviewer_1534463481361609.zoomTo({\"resi\": [\"207\"], \"chain\": \"A\"});\nviewer_1534463481361609.render();\n})\n});\n</script>",
          "text/html": "<div id=\"3dmolviewer_1534463481361609\"  style=\"position: relative; width: 640px; height: 480px\">\n        <p id=\"3dmolwarning_1534463481361609\" style=\"background-color:#ffcccc;color:black\">You appear to be running in JupyterLab.  You need to install the 3dmol extension: <br>\n        <tt>jupyter labextension install jupyterlab_3dmol</tt></p>\n        </div>\n<script>\n\nvar loadScriptAsync = function(uri){\n  return new Promise((resolve, reject) => {\n    var tag = document.createElement('script');\n    tag.src = uri;\n    tag.async = true;\n    tag.onload = () => {\n      resolve();\n    };\n  var firstScriptTag = document.getElementsByTagName('script')[0];\n  firstScriptTag.parentNode.insertBefore(tag, firstScriptTag);\n});\n};\n\nif(typeof $3Dmolpromise === 'undefined') {\n$3Dmolpromise = null;\n  $3Dmolpromise = loadScriptAsync('https://3dmol.csb.pitt.edu/build/3Dmol.js');\n}\n\nvar viewer_1534463481361609 = null;\nvar warn = document.getElementById(\"3dmolwarning_1534463481361609\");\nif(warn) {\n    warn.parentNode.removeChild(warn);\n}\n$3Dmolpromise.then(function() {\nviewer_1534463481361609 = $3Dmol.createViewer($(\"#3dmolviewer_1534463481361609\"),{backgroundColor:\"white\"});\n$3Dmol.download(\"pdb:1B72\", viewer_1534463481361609, {\"doAssembly\": false}, function() {\n\tviewer_1534463481361609.setStyle({\"cartoon\": {\"colorscheme\": \"chain\", \"width\": 0.6, \"opacity\": 0.9}});\n\tviewer_1534463481361609.setStyle({\"hetflag\": true},{\"stick\": {\"radius\": 0.3, \"singleBond\": false}});\n\tviewer_1534463481361609.addStyle({\"chain\": \"A\", \"resi\": [\"207\"], \"byres\": true, \"expand\": 6},{\"stick\": {\"colorscheme\": \"orangeCarbon\", \"radius\": 0.15}});\n\tviewer_1534463481361609.addStyle({\"resi\": \"207\", \"chain\": \"A\"},{\"stick\": {\"colorscheme\": \"redCarbon\", \"radius\": 0.2}});\n\tviewer_1534463481361609.addStyle({\"resi\": \"207\", \"chain\": \"A\"},{\"sphere\": {\"color\": \"red\", \"opacity\": 0.6}});\n\tviewer_1534463481361609.addLabel(\"R->C Pathogenic\",{\"fontSize\": 10, \"fontColor\": \"red\", \"backgroundColor\": \"ivory\"},{\"resi\": \"207\", \"chain\": \"A\"});\n\tviewer_1534463481361609.zoomTo({\"resi\": [\"207\"], \"chain\": \"A\"});\nviewer_1534463481361609.render();\n})\n});\n</script>"
         },
         "metadata": {},
         "output_type": "display_data"
        }
       ]
      }
     },
     "6c1d1bc50980429688b97fc04d9b361a": {
      "model_module": "@jupyter-widgets/base",
      "model_module_version": "1.1.0",
      "model_name": "LayoutModel",
      "state": {}
     },
     "6d00a34508a64b98ae3ddea1bd2257a9": {
      "model_module": "@jupyter-widgets/controls",
      "model_module_version": "1.3.0",
      "model_name": "DescriptionStyleModel",
      "state": {
       "description_width": ""
      }
     },
     "6d1d1d68e1dd4194a2fd37e1fc2a3476": {
      "model_module": "@jupyter-widgets/controls",
      "model_module_version": "1.3.0",
      "model_name": "SliderStyleModel",
      "state": {
       "description_width": ""
      }
     },
     "704a2304578c46efbda8d4c4d0180a17": {
      "model_module": "@jupyter-widgets/base",
      "model_module_version": "1.1.0",
      "model_name": "LayoutModel",
      "state": {}
     },
     "70c53e8c27bd4074b90774f4eb9efa54": {
      "model_module": "@jupyter-widgets/base",
      "model_module_version": "1.1.0",
      "model_name": "LayoutModel",
      "state": {}
     },
     "71b92166fb154261a81f407759195c7c": {
      "model_module": "@jupyter-widgets/controls",
      "model_module_version": "1.3.0",
      "model_name": "DescriptionStyleModel",
      "state": {
       "description_width": ""
      }
     },
     "725e5065b08b46b88e18f02e8e989b49": {
      "model_module": "@jupyter-widgets/base",
      "model_module_version": "1.1.0",
      "model_name": "LayoutModel",
      "state": {}
     },
     "73222fb086234cfca8851415c7ecb6c9": {
      "model_module": "@jupyter-widgets/controls",
      "model_module_version": "1.3.0",
      "model_name": "CheckboxModel",
      "state": {
       "description": "show_labels",
       "disabled": false,
       "layout": "IPY_MODEL_704a2304578c46efbda8d4c4d0180a17",
       "style": "IPY_MODEL_926a687b9956415fab4b7c4c6c21fd02",
       "value": true
      }
     },
     "73746a18678e4dc3b16cb7d44eabd5e8": {
      "model_module": "@jupyter-widgets/controls",
      "model_module_version": "1.3.0",
      "model_name": "DescriptionStyleModel",
      "state": {
       "description_width": ""
      }
     },
     "73a23605858f422e8c2b3160a23f801a": {
      "model_module": "@jupyter-widgets/controls",
      "model_module_version": "1.3.0",
      "model_name": "CheckboxModel",
      "state": {
       "description": "show_labels",
       "disabled": false,
       "layout": "IPY_MODEL_e2e8e6b8bb5a456c8523b7ce7cb8ee8b",
       "style": "IPY_MODEL_2dc41f7d5ade4818b8a72b1a946ff591",
       "value": true
      }
     },
     "753a48442c8d42a1b7b6c8a90a23cede": {
      "model_module": "@jupyter-widgets/controls",
      "model_module_version": "1.3.0",
      "model_name": "DescriptionStyleModel",
      "state": {
       "description_width": ""
      }
     },
     "755da281fa0448f289fcd480ef5cf272": {
      "model_module": "@jupyter-widgets/controls",
      "model_module_version": "1.3.0",
      "model_name": "CheckboxModel",
      "state": {
       "description": "show_labels",
       "disabled": false,
       "layout": "IPY_MODEL_2b96a49ae77b4e11ae25e8096fc2b042",
       "style": "IPY_MODEL_f2bc9ba70ef54d8b8953ccb0f91656a4",
       "value": true
      }
     },
     "76a438c4169440ce843571e2d317c6c9": {
      "model_module": "@jupyter-widgets/controls",
      "model_module_version": "1.3.0",
      "model_name": "DescriptionStyleModel",
      "state": {
       "description_width": ""
      }
     },
     "76a5b949a4514cda9a59970124a839e9": {
      "model_module": "@jupyter-widgets/base",
      "model_module_version": "1.1.0",
      "model_name": "LayoutModel",
      "state": {}
     },
     "76c1d60b3b4a47d692e5ddb784839f31": {
      "model_module": "@jupyter-widgets/base",
      "model_module_version": "1.1.0",
      "model_name": "LayoutModel",
      "state": {}
     },
     "76c36107ec6f4cab9c1aca35d611a560": {
      "model_module": "@jupyter-widgets/base",
      "model_module_version": "1.1.0",
      "model_name": "LayoutModel",
      "state": {}
     },
     "774d56b3f4414722b6724427b9ff6ae3": {
      "model_module": "@jupyter-widgets/controls",
      "model_module_version": "1.3.0",
      "model_name": "DescriptionStyleModel",
      "state": {
       "description_width": ""
      }
     },
     "77afc6bf6d51485582a04fb66c875e1a": {
      "model_module": "@jupyter-widgets/base",
      "model_module_version": "1.1.0",
      "model_name": "LayoutModel",
      "state": {}
     },
     "77ccc014bf3b42b2b4d8979741bc75f4": {
      "model_module": "@jupyter-widgets/controls",
      "model_module_version": "1.3.0",
      "model_name": "SelectMultipleModel",
      "state": {
       "_options_labels": [
        "All",
        "Benign",
        "Likely benign",
        "Likely pathogenic",
        "Pathogenic",
        "drug-response",
        "untested",
        "Uncertain significance",
        "other",
        "null"
       ],
       "description": "Significance:",
       "index": [
        1,
        2,
        3,
        4,
        5
       ],
       "layout": "IPY_MODEL_2656ddbdef5644ef8019a2945457ab99",
       "rows": 5,
       "style": "IPY_MODEL_99f73a74363f4d729e665b8f498f2659"
      }
     },
     "79695acf309942a3af15f78092e3d36a": {
      "model_module": "@jupyter-widgets/base",
      "model_module_version": "1.1.0",
      "model_name": "LayoutModel",
      "state": {}
     },
     "7aef79e519674fb9b6b115e0ac0c9878": {
      "model_module": "@jupyter-widgets/base",
      "model_module_version": "1.1.0",
      "model_name": "LayoutModel",
      "state": {}
     },
     "7b62b79860474cc0842ecb8e453e9703": {
      "model_module": "@jupyter-widgets/controls",
      "model_module_version": "1.3.0",
      "model_name": "DescriptionStyleModel",
      "state": {
       "description_width": ""
      }
     },
     "7e5d127a926743ecb0db461f93df3707": {
      "model_module": "@jupyter-widgets/base",
      "model_module_version": "1.1.0",
      "model_name": "LayoutModel",
      "state": {}
     },
     "7f966ae460ad44fd9afae9805e65048a": {
      "model_module": "@jupyter-widgets/controls",
      "model_module_version": "1.3.0",
      "model_name": "CheckboxModel",
      "state": {
       "description": "show_bio_assembly",
       "disabled": false,
       "layout": "IPY_MODEL_bd8d8318761848b5ae7c1331e9fba6cb",
       "style": "IPY_MODEL_116db6bd4aa74f84941be6b7132a157c",
       "value": false
      }
     },
     "816e34b99fe24a77b2673796b48812cf": {
      "model_module": "@jupyter-widgets/controls",
      "model_module_version": "1.3.0",
      "model_name": "DescriptionStyleModel",
      "state": {
       "description_width": ""
      }
     },
     "8263080214814e5ead5e028bfe61c102": {
      "model_module": "@jupyter-widgets/base",
      "model_module_version": "1.1.0",
      "model_name": "LayoutModel",
      "state": {}
     },
     "84d30840431b458cab05923ed81a7668": {
      "model_module": "@jupyter-widgets/controls",
      "model_module_version": "1.3.0",
      "model_name": "CheckboxModel",
      "state": {
       "description": "show_bio_assembly",
       "disabled": false,
       "layout": "IPY_MODEL_c75acb3a6b1d4074a3161fcde60fafba",
       "style": "IPY_MODEL_2fb37a813ceb461daf93237960172bb4",
       "value": false
      }
     },
     "8564504d23224a36ae5c2c3c37e469bb": {
      "model_module": "@jupyter-widgets/base",
      "model_module_version": "1.1.0",
      "model_name": "LayoutModel",
      "state": {}
     },
     "86a5413e9f064cb29e0c5040007a3d0c": {
      "model_module": "@jupyter-widgets/controls",
      "model_module_version": "1.3.0",
      "model_name": "VBoxModel",
      "state": {
       "_dom_classes": [
        "widget-interact"
       ],
       "children": [
        "IPY_MODEL_1587a84460c94db99cc7bf534f9566bf",
        "IPY_MODEL_f646e1cea23b47beb60237d80b119618",
        "IPY_MODEL_f07396cc2dac4842b4fa862e85e3abc8",
        "IPY_MODEL_8a3cd8b3fa284df4821d5b526aa96abc",
        "IPY_MODEL_b392bd93010c46e8987b28472d08b205"
       ],
       "layout": "IPY_MODEL_0e988eb893b644378e9cc46c6ae5e834"
      }
     },
     "882d3eea77df4e64a25fe126a0bca785": {
      "model_module": "@jupyter-widgets/output",
      "model_module_version": "1.0.0",
      "model_name": "OutputModel",
      "state": {
       "layout": "IPY_MODEL_7e5d127a926743ecb0db461f93df3707",
       "outputs": [
        {
         "name": "stdout",
         "output_type": "stream",
         "text": "PDB Id: 2AMY chain Id: A\nuniprotId: O15305\n"
        },
        {
         "data": {
          "application/3dmoljs_load.v0": "<div id=\"3dmolviewer_15344632225878642\"  style=\"position: relative; width: 640px; height: 480px\">\n        <p id=\"3dmolwarning_15344632225878642\" style=\"background-color:#ffcccc;color:black\">You appear to be running in JupyterLab.  You need to install the 3dmol extension: <br>\n        <tt>jupyter labextension install jupyterlab_3dmol</tt></p>\n        </div>\n<script>\n\nvar loadScriptAsync = function(uri){\n  return new Promise((resolve, reject) => {\n    var tag = document.createElement('script');\n    tag.src = uri;\n    tag.async = true;\n    tag.onload = () => {\n      resolve();\n    };\n  var firstScriptTag = document.getElementsByTagName('script')[0];\n  firstScriptTag.parentNode.insertBefore(tag, firstScriptTag);\n});\n};\n\nif(typeof $3Dmolpromise === 'undefined') {\n$3Dmolpromise = null;\n  $3Dmolpromise = loadScriptAsync('https://3dmol.csb.pitt.edu/build/3Dmol.js');\n}\n\nvar viewer_15344632225878642 = null;\nvar warn = document.getElementById(\"3dmolwarning_15344632225878642\");\nif(warn) {\n    warn.parentNode.removeChild(warn);\n}\n$3Dmolpromise.then(function() {\nviewer_15344632225878642 = $3Dmol.createViewer($(\"#3dmolviewer_15344632225878642\"),{backgroundColor:\"white\"});\n$3Dmol.download(\"pdb:2AMY\", viewer_15344632225878642, {\"doAssembly\": false}, function() {\n\tviewer_15344632225878642.setStyle({\"sphere\": {\"colorscheme\": \"chain\", \"opacity\": 0.6}});\n\tviewer_15344632225878642.setStyle({\"hetflag\": true},{\"stick\": {\"radius\": 0.3, \"singleBond\": false}});\n\tviewer_15344632225878642.setStyle({\"resi\": \"63\", \"chain\": \"A\"},{\"sphere\": {\"color\": \"palevioletred\"}});\n\tviewer_15344632225878642.addLabel(\"K->N Likely pathogenic\",{\"fontSize\": 10, \"fontColor\": \"palevioletred\", \"backgroundColor\": \"ivory\"},{\"resi\": \"63\", \"chain\": \"A\"});\n\tviewer_15344632225878642.setStyle({\"resi\": \"132\", \"chain\": \"A\"},{\"sphere\": {\"color\": \"palevioletred\"}});\n\tviewer_15344632225878642.addLabel(\"I->T Likely pathogenic\",{\"fontSize\": 10, \"fontColor\": \"palevioletred\", \"backgroundColor\": \"ivory\"},{\"resi\": \"132\", \"chain\": \"A\"});\n\tviewer_15344632225878642.setStyle({\"resi\": \"69\", \"chain\": \"A\"},{\"sphere\": {\"color\": \"palevioletred\"}});\n\tviewer_15344632225878642.addLabel(\"P->SA Likely pathogenic\",{\"fontSize\": 10, \"fontColor\": \"palevioletred\", \"backgroundColor\": \"ivory\"},{\"resi\": \"69\", \"chain\": \"A\"});\n\tviewer_15344632225878642.setStyle({\"resi\": \"171\", \"chain\": \"A\"},{\"sphere\": {\"color\": \"palevioletred\"}});\n\tviewer_15344632225878642.addLabel(\"T->N Likely pathogenic\",{\"fontSize\": 10, \"fontColor\": \"palevioletred\", \"backgroundColor\": \"ivory\"},{\"resi\": \"171\", \"chain\": \"A\"});\n\tviewer_15344632225878642.setStyle({\"resi\": \"226\", \"chain\": \"A\"},{\"sphere\": {\"color\": \"red\"}});\n\tviewer_15344632225878642.addLabel(\"T->S Pathogenic\",{\"fontSize\": 10, \"fontColor\": \"red\", \"backgroundColor\": \"ivory\"},{\"resi\": \"226\", \"chain\": \"A\"});\n\tviewer_15344632225878642.setStyle({\"resi\": \"187\", \"chain\": \"A\"},{\"sphere\": {\"color\": \"palevioletred\"}});\n\tviewer_15344632225878642.addLabel(\"W->* Likely pathogenic\",{\"fontSize\": 10, \"fontColor\": \"palevioletred\", \"backgroundColor\": \"ivory\"},{\"resi\": \"187\", \"chain\": \"A\"});\n\tviewer_15344632225878642.setStyle({\"resi\": \"32\", \"chain\": \"A\"},{\"sphere\": {\"color\": \"red\"}});\n\tviewer_15344632225878642.addLabel(\"L->R Pathogenic\",{\"fontSize\": 10, \"fontColor\": \"red\", \"backgroundColor\": \"ivory\"},{\"resi\": \"32\", \"chain\": \"A\"});\n\tviewer_15344632225878642.setStyle({\"resi\": \"157\", \"chain\": \"A\"},{\"sphere\": {\"color\": \"red\"}});\n\tviewer_15344632225878642.addLabel(\"F->S Pathogenic\",{\"fontSize\": 10, \"fontColor\": \"red\", \"backgroundColor\": \"ivory\"},{\"resi\": \"157\", \"chain\": \"A\"});\n\tviewer_15344632225878642.setStyle({\"resi\": \"141\", \"chain\": \"A\"},{\"sphere\": {\"color\": \"red\"}});\n\tviewer_15344632225878642.addLabel(\"R->H Pathogenic\",{\"fontSize\": 10, \"fontColor\": \"red\", \"backgroundColor\": \"ivory\"},{\"resi\": \"141\", \"chain\": \"A\"});\n\tviewer_15344632225878642.setStyle({\"resi\": \"188\", \"chain\": \"A\"},{\"sphere\": {\"color\": \"red\"}});\n\tviewer_15344632225878642.addLabel(\"D->G Pathogenic\",{\"fontSize\": 10, \"fontColor\": \"red\", \"backgroundColor\": \"ivory\"},{\"resi\": \"188\", \"chain\": \"A\"});\n\tviewer_15344632225878642.setStyle({\"resi\": \"208\", \"chain\": \"A\"},{\"sphere\": {\"color\": \"red\"}});\n\tviewer_15344632225878642.addLabel(\"G->EA Pathogenic\",{\"fontSize\": 10, \"fontColor\": \"red\", \"backgroundColor\": \"ivory\"},{\"resi\": \"208\", \"chain\": \"A\"});\n\tviewer_15344632225878642.setStyle({\"resi\": \"148\", \"chain\": \"A\"},{\"sphere\": {\"color\": \"red\"}});\n\tviewer_15344632225878642.addLabel(\"D->N Pathogenic\",{\"fontSize\": 10, \"fontColor\": \"red\", \"backgroundColor\": \"ivory\"},{\"resi\": \"148\", \"chain\": \"A\"});\n\tviewer_15344632225878642.setStyle({\"resi\": \"9\", \"chain\": \"A\"},{\"sphere\": {\"color\": \"palevioletred\"}});\n\tviewer_15344632225878642.addLabel(\"C->*AY Likely pathogenic\",{\"fontSize\": 10, \"fontColor\": \"palevioletred\", \"backgroundColor\": \"ivory\"},{\"resi\": \"9\", \"chain\": \"A\"});\n\tviewer_15344632225878642.setStyle({\"resi\": \"231\", \"chain\": \"A\"},{\"sphere\": {\"color\": \"red\"}});\n\tviewer_15344632225878642.addLabel(\"V->M Pathogenic\",{\"fontSize\": 10, \"fontColor\": \"red\", \"backgroundColor\": \"ivory\"},{\"resi\": \"231\", \"chain\": \"A\"});\n\tviewer_15344632225878642.setStyle({\"resi\": \"18\", \"chain\": \"A\"},{\"sphere\": {\"color\": \"palevioletred\"}});\n\tviewer_15344632225878642.addLabel(\"T->S Likely pathogenic\",{\"fontSize\": 10, \"fontColor\": \"palevioletred\", \"backgroundColor\": \"ivory\"},{\"resi\": \"18\", \"chain\": \"A\"});\n\tviewer_15344632225878642.setStyle({\"resi\": \"241\", \"chain\": \"A\"},{\"sphere\": {\"color\": \"red\"}});\n\tviewer_15344632225878642.addLabel(\"C->S Pathogenic\",{\"fontSize\": 10, \"fontColor\": \"red\", \"backgroundColor\": \"ivory\"},{\"resi\": \"241\", \"chain\": \"A\"});\n\tviewer_15344632225878642.setStyle({\"resi\": \"129\", \"chain\": \"A\"},{\"sphere\": {\"color\": \"red\"}});\n\tviewer_15344632225878642.addLabel(\"V->M Pathogenic\",{\"fontSize\": 10, \"fontColor\": \"red\", \"backgroundColor\": \"ivory\"},{\"resi\": \"129\", \"chain\": \"A\"});\n\tviewer_15344632225878642.setStyle({\"resi\": \"116\", \"chain\": \"A\"},{\"sphere\": {\"color\": \"palevioletred\"}});\n\tviewer_15344632225878642.addLabel(\"R->E Likely pathogenic\",{\"fontSize\": 10, \"fontColor\": \"palevioletred\", \"backgroundColor\": \"ivory\"},{\"resi\": \"116\", \"chain\": \"A\"});\n\tviewer_15344632225878642.setStyle({\"resi\": \"119\", \"chain\": \"A\"},{\"sphere\": {\"color\": \"red\"}});\n\tviewer_15344632225878642.addLabel(\"F->L Pathogenic\",{\"fontSize\": 10, \"fontColor\": \"red\", \"backgroundColor\": \"ivory\"},{\"resi\": \"119\", \"chain\": \"A\"});\n\tviewer_15344632225878642.setStyle({\"resi\": \"108\", \"chain\": \"A\"},{\"sphere\": {\"color\": \"red\"}});\n\tviewer_15344632225878642.addLabel(\"A->V Pathogenic\",{\"fontSize\": 10, \"fontColor\": \"red\", \"backgroundColor\": \"ivory\"},{\"resi\": \"108\", \"chain\": \"A\"});\n\tviewer_15344632225878642.setStyle({\"resi\": \"31\", \"chain\": \"A\"},{\"sphere\": {\"color\": \"palevioletred\"}});\n\tviewer_15344632225878642.addLabel(\"F->L Likely pathogenic\",{\"fontSize\": 10, \"fontColor\": \"palevioletred\", \"backgroundColor\": \"ivory\"},{\"resi\": \"31\", \"chain\": \"A\"});\n\tviewer_15344632225878642.setStyle({\"resi\": \"194\", \"chain\": \"A\"},{\"sphere\": {\"color\": \"palevioletred\"}});\n\tviewer_15344632225878642.addLabel(\"R->* Likely pathogenic\",{\"fontSize\": 10, \"fontColor\": \"palevioletred\", \"backgroundColor\": \"ivory\"},{\"resi\": \"194\", \"chain\": \"A\"});\n\tviewer_15344632225878642.setStyle({\"resi\": \"176\", \"chain\": \"A\"},{\"sphere\": {\"color\": \"palevioletred\"}});\n\tviewer_15344632225878642.addLabel(\"G->D Likely pathogenic\",{\"fontSize\": 10, \"fontColor\": \"palevioletred\", \"backgroundColor\": \"ivory\"},{\"resi\": \"176\", \"chain\": \"A\"});\n\tviewer_15344632225878642.setStyle({\"resi\": \"106\", \"chain\": \"A\"},{\"sphere\": {\"color\": \"red\"}});\n\tviewer_15344632225878642.addLabel(\"Y->F Pathogenic\",{\"fontSize\": 10, \"fontColor\": \"red\", \"backgroundColor\": \"ivory\"},{\"resi\": \"106\", \"chain\": \"A\"});\n\tviewer_15344632225878642.setStyle({\"resi\": \"216\", \"chain\": \"A\"},{\"sphere\": {\"color\": \"red\"}});\n\tviewer_15344632225878642.addLabel(\"N->S Pathogenic,Likely pathogenic\",{\"fontSize\": 10, \"fontColor\": \"red\", \"backgroundColor\": \"ivory\"},{\"resi\": \"216\", \"chain\": \"A\"});\n\tviewer_15344632225878642.setStyle({\"resi\": \"207\", \"chain\": \"A\"},{\"sphere\": {\"color\": \"palevioletred\"}});\n\tviewer_15344632225878642.addLabel(\"F->S Likely pathogenic\",{\"fontSize\": 10, \"fontColor\": \"palevioletred\", \"backgroundColor\": \"ivory\"},{\"resi\": \"207\", \"chain\": \"A\"});\n\tviewer_15344632225878642.setStyle({\"resi\": \"65\", \"chain\": \"A\"},{\"sphere\": {\"color\": \"red\"}});\n\tviewer_15344632225878642.addLabel(\"D->Y Pathogenic\",{\"fontSize\": 10, \"fontColor\": \"red\", \"backgroundColor\": \"ivory\"},{\"resi\": \"65\", \"chain\": \"A\"});\n\tviewer_15344632225878642.setStyle({\"resi\": \"237\", \"chain\": \"A\"},{\"sphere\": {\"color\": \"red\"}});\n\tviewer_15344632225878642.addLabel(\"T->MR Pathogenic\",{\"fontSize\": 10, \"fontColor\": \"red\", \"backgroundColor\": \"ivory\"},{\"resi\": \"237\", \"chain\": \"A\"});\n\tviewer_15344632225878642.setStyle({\"resi\": \"44\", \"chain\": \"A\"},{\"sphere\": {\"color\": \"palevioletred\"}});\n\tviewer_15344632225878642.addLabel(\"V->A Likely pathogenic\",{\"fontSize\": 10, \"fontColor\": \"palevioletred\", \"backgroundColor\": \"ivory\"},{\"resi\": \"44\", \"chain\": \"A\"});\n\tviewer_15344632225878642.setStyle({\"resi\": \"218\", \"chain\": \"A\"},{\"sphere\": {\"color\": \"red\"}});\n\tviewer_15344632225878642.addLabel(\"H->LD Pathogenic,Likely pathogenic\",{\"fontSize\": 10, \"fontColor\": \"red\", \"backgroundColor\": \"ivory\"},{\"resi\": \"218\", \"chain\": \"A\"});\n\tviewer_15344632225878642.setStyle({\"resi\": \"139\", \"chain\": \"A\"},{\"sphere\": {\"color\": \"red\"}});\n\tviewer_15344632225878642.addLabel(\"E->K Pathogenic,Likely pathogenic\",{\"fontSize\": 10, \"fontColor\": \"red\", \"backgroundColor\": \"ivory\"},{\"resi\": \"139\", \"chain\": \"A\"});\n\tviewer_15344632225878642.setStyle({\"resi\": \"43\", \"chain\": \"A\"},{\"sphere\": {\"color\": \"palevioletred\"}});\n\tviewer_15344632225878642.addLabel(\"V->L Likely pathogenic\",{\"fontSize\": 10, \"fontColor\": \"palevioletred\", \"backgroundColor\": \"ivory\"},{\"resi\": \"43\", \"chain\": \"A\"});\n\tviewer_15344632225878642.setStyle({\"resi\": \"144\", \"chain\": \"A\"},{\"sphere\": {\"color\": \"palevioletred\"}});\n\tviewer_15344632225878642.addLabel(\"F->L Likely pathogenic\",{\"fontSize\": 10, \"fontColor\": \"palevioletred\", \"backgroundColor\": \"ivory\"},{\"resi\": \"144\", \"chain\": \"A\"});\n\tviewer_15344632225878642.setStyle({\"resi\": \"53\", \"chain\": \"A\"},{\"sphere\": {\"color\": \"red\"}});\n\tviewer_15344632225878642.addLabel(\"Q->* Pathogenic\",{\"fontSize\": 10, \"fontColor\": \"red\", \"backgroundColor\": \"ivory\"},{\"resi\": \"53\", \"chain\": \"A\"});\n\tviewer_15344632225878642.setStyle({\"resi\": \"153\", \"chain\": \"A\"},{\"sphere\": {\"color\": \"palevioletred\"}});\n\tviewer_15344632225878642.addLabel(\"I->T Likely pathogenic\",{\"fontSize\": 10, \"fontColor\": \"palevioletred\", \"backgroundColor\": \"ivory\"},{\"resi\": \"153\", \"chain\": \"A\"});\n\tviewer_15344632225878642.setStyle({\"resi\": \"113\", \"chain\": \"A\"},{\"sphere\": {\"color\": \"red\"}});\n\tviewer_15344632225878642.addLabel(\"P->TSL Pathogenic,Likely pathogenic\",{\"fontSize\": 10, \"fontColor\": \"red\", \"backgroundColor\": \"ivory\"},{\"resi\": \"113\", \"chain\": \"A\"});\n\tviewer_15344632225878642.setStyle({\"resi\": \"223\", \"chain\": \"A\"},{\"sphere\": {\"color\": \"red\"}});\n\tviewer_15344632225878642.addLabel(\"D->E Pathogenic\",{\"fontSize\": 10, \"fontColor\": \"red\", \"backgroundColor\": \"ivory\"},{\"resi\": \"223\", \"chain\": \"A\"});\n\tviewer_15344632225878642.setStyle({\"resi\": \"117\", \"chain\": \"A\"},{\"sphere\": {\"color\": \"red\"}});\n\tviewer_15344632225878642.addLabel(\"G->R Pathogenic\",{\"fontSize\": 10, \"fontColor\": \"red\", \"backgroundColor\": \"ivory\"},{\"resi\": \"117\", \"chain\": \"A\"});\n\tviewer_15344632225878642.setStyle({\"resi\": \"104\", \"chain\": \"A\"},{\"sphere\": {\"color\": \"red\"}});\n\tviewer_15344632225878642.addLabel(\"L->V Pathogenic\",{\"fontSize\": 10, \"fontColor\": \"red\", \"backgroundColor\": \"ivory\"},{\"resi\": \"104\", \"chain\": \"A\"});\n\tviewer_15344632225878642.setStyle({\"resi\": \"162\", \"chain\": \"A\"},{\"sphere\": {\"color\": \"red\"}});\n\tviewer_15344632225878642.addLabel(\"R->W Pathogenic\",{\"fontSize\": 10, \"fontColor\": \"red\", \"backgroundColor\": \"ivory\"},{\"resi\": \"162\", \"chain\": \"A\"});\n\tviewer_15344632225878642.setStyle({\"resi\": \"123\", \"chain\": \"A\"},{\"sphere\": {\"color\": \"red\"}});\n\tviewer_15344632225878642.addLabel(\"R->*Q Pathogenic\",{\"fontSize\": 10, \"fontColor\": \"red\", \"backgroundColor\": \"ivory\"},{\"resi\": \"123\", \"chain\": \"A\"});\n\tviewer_15344632225878642.zoomTo({\"resi\": [\"63\", \"132\", \"69\", \"171\", \"226\", \"187\", \"32\", \"157\", \"141\", \"188\", \"208\", \"148\", \"9\", \"231\", \"18\", \"241\", \"129\", \"116\", \"119\", \"108\", \"31\", \"194\", \"176\", \"106\", \"216\", \"207\", \"65\", \"237\", \"44\", \"218\", \"139\", \"43\", \"144\", \"53\", \"153\", \"113\", \"223\", \"117\", \"104\", \"162\", \"123\"], \"chain\": \"A\"});\nviewer_15344632225878642.render();\n})\n});\n</script>",
          "text/html": "<div id=\"3dmolviewer_15344632225878642\"  style=\"position: relative; width: 640px; height: 480px\">\n        <p id=\"3dmolwarning_15344632225878642\" style=\"background-color:#ffcccc;color:black\">You appear to be running in JupyterLab.  You need to install the 3dmol extension: <br>\n        <tt>jupyter labextension install jupyterlab_3dmol</tt></p>\n        </div>\n<script>\n\nvar loadScriptAsync = function(uri){\n  return new Promise((resolve, reject) => {\n    var tag = document.createElement('script');\n    tag.src = uri;\n    tag.async = true;\n    tag.onload = () => {\n      resolve();\n    };\n  var firstScriptTag = document.getElementsByTagName('script')[0];\n  firstScriptTag.parentNode.insertBefore(tag, firstScriptTag);\n});\n};\n\nif(typeof $3Dmolpromise === 'undefined') {\n$3Dmolpromise = null;\n  $3Dmolpromise = loadScriptAsync('https://3dmol.csb.pitt.edu/build/3Dmol.js');\n}\n\nvar viewer_15344632225878642 = null;\nvar warn = document.getElementById(\"3dmolwarning_15344632225878642\");\nif(warn) {\n    warn.parentNode.removeChild(warn);\n}\n$3Dmolpromise.then(function() {\nviewer_15344632225878642 = $3Dmol.createViewer($(\"#3dmolviewer_15344632225878642\"),{backgroundColor:\"white\"});\n$3Dmol.download(\"pdb:2AMY\", viewer_15344632225878642, {\"doAssembly\": false}, function() {\n\tviewer_15344632225878642.setStyle({\"sphere\": {\"colorscheme\": \"chain\", \"opacity\": 0.6}});\n\tviewer_15344632225878642.setStyle({\"hetflag\": true},{\"stick\": {\"radius\": 0.3, \"singleBond\": false}});\n\tviewer_15344632225878642.setStyle({\"resi\": \"63\", \"chain\": \"A\"},{\"sphere\": {\"color\": \"palevioletred\"}});\n\tviewer_15344632225878642.addLabel(\"K->N Likely pathogenic\",{\"fontSize\": 10, \"fontColor\": \"palevioletred\", \"backgroundColor\": \"ivory\"},{\"resi\": \"63\", \"chain\": \"A\"});\n\tviewer_15344632225878642.setStyle({\"resi\": \"132\", \"chain\": \"A\"},{\"sphere\": {\"color\": \"palevioletred\"}});\n\tviewer_15344632225878642.addLabel(\"I->T Likely pathogenic\",{\"fontSize\": 10, \"fontColor\": \"palevioletred\", \"backgroundColor\": \"ivory\"},{\"resi\": \"132\", \"chain\": \"A\"});\n\tviewer_15344632225878642.setStyle({\"resi\": \"69\", \"chain\": \"A\"},{\"sphere\": {\"color\": \"palevioletred\"}});\n\tviewer_15344632225878642.addLabel(\"P->SA Likely pathogenic\",{\"fontSize\": 10, \"fontColor\": \"palevioletred\", \"backgroundColor\": \"ivory\"},{\"resi\": \"69\", \"chain\": \"A\"});\n\tviewer_15344632225878642.setStyle({\"resi\": \"171\", \"chain\": \"A\"},{\"sphere\": {\"color\": \"palevioletred\"}});\n\tviewer_15344632225878642.addLabel(\"T->N Likely pathogenic\",{\"fontSize\": 10, \"fontColor\": \"palevioletred\", \"backgroundColor\": \"ivory\"},{\"resi\": \"171\", \"chain\": \"A\"});\n\tviewer_15344632225878642.setStyle({\"resi\": \"226\", \"chain\": \"A\"},{\"sphere\": {\"color\": \"red\"}});\n\tviewer_15344632225878642.addLabel(\"T->S Pathogenic\",{\"fontSize\": 10, \"fontColor\": \"red\", \"backgroundColor\": \"ivory\"},{\"resi\": \"226\", \"chain\": \"A\"});\n\tviewer_15344632225878642.setStyle({\"resi\": \"187\", \"chain\": \"A\"},{\"sphere\": {\"color\": \"palevioletred\"}});\n\tviewer_15344632225878642.addLabel(\"W->* Likely pathogenic\",{\"fontSize\": 10, \"fontColor\": \"palevioletred\", \"backgroundColor\": \"ivory\"},{\"resi\": \"187\", \"chain\": \"A\"});\n\tviewer_15344632225878642.setStyle({\"resi\": \"32\", \"chain\": \"A\"},{\"sphere\": {\"color\": \"red\"}});\n\tviewer_15344632225878642.addLabel(\"L->R Pathogenic\",{\"fontSize\": 10, \"fontColor\": \"red\", \"backgroundColor\": \"ivory\"},{\"resi\": \"32\", \"chain\": \"A\"});\n\tviewer_15344632225878642.setStyle({\"resi\": \"157\", \"chain\": \"A\"},{\"sphere\": {\"color\": \"red\"}});\n\tviewer_15344632225878642.addLabel(\"F->S Pathogenic\",{\"fontSize\": 10, \"fontColor\": \"red\", \"backgroundColor\": \"ivory\"},{\"resi\": \"157\", \"chain\": \"A\"});\n\tviewer_15344632225878642.setStyle({\"resi\": \"141\", \"chain\": \"A\"},{\"sphere\": {\"color\": \"red\"}});\n\tviewer_15344632225878642.addLabel(\"R->H Pathogenic\",{\"fontSize\": 10, \"fontColor\": \"red\", \"backgroundColor\": \"ivory\"},{\"resi\": \"141\", \"chain\": \"A\"});\n\tviewer_15344632225878642.setStyle({\"resi\": \"188\", \"chain\": \"A\"},{\"sphere\": {\"color\": \"red\"}});\n\tviewer_15344632225878642.addLabel(\"D->G Pathogenic\",{\"fontSize\": 10, \"fontColor\": \"red\", \"backgroundColor\": \"ivory\"},{\"resi\": \"188\", \"chain\": \"A\"});\n\tviewer_15344632225878642.setStyle({\"resi\": \"208\", \"chain\": \"A\"},{\"sphere\": {\"color\": \"red\"}});\n\tviewer_15344632225878642.addLabel(\"G->EA Pathogenic\",{\"fontSize\": 10, \"fontColor\": \"red\", \"backgroundColor\": \"ivory\"},{\"resi\": \"208\", \"chain\": \"A\"});\n\tviewer_15344632225878642.setStyle({\"resi\": \"148\", \"chain\": \"A\"},{\"sphere\": {\"color\": \"red\"}});\n\tviewer_15344632225878642.addLabel(\"D->N Pathogenic\",{\"fontSize\": 10, \"fontColor\": \"red\", \"backgroundColor\": \"ivory\"},{\"resi\": \"148\", \"chain\": \"A\"});\n\tviewer_15344632225878642.setStyle({\"resi\": \"9\", \"chain\": \"A\"},{\"sphere\": {\"color\": \"palevioletred\"}});\n\tviewer_15344632225878642.addLabel(\"C->*AY Likely pathogenic\",{\"fontSize\": 10, \"fontColor\": \"palevioletred\", \"backgroundColor\": \"ivory\"},{\"resi\": \"9\", \"chain\": \"A\"});\n\tviewer_15344632225878642.setStyle({\"resi\": \"231\", \"chain\": \"A\"},{\"sphere\": {\"color\": \"red\"}});\n\tviewer_15344632225878642.addLabel(\"V->M Pathogenic\",{\"fontSize\": 10, \"fontColor\": \"red\", \"backgroundColor\": \"ivory\"},{\"resi\": \"231\", \"chain\": \"A\"});\n\tviewer_15344632225878642.setStyle({\"resi\": \"18\", \"chain\": \"A\"},{\"sphere\": {\"color\": \"palevioletred\"}});\n\tviewer_15344632225878642.addLabel(\"T->S Likely pathogenic\",{\"fontSize\": 10, \"fontColor\": \"palevioletred\", \"backgroundColor\": \"ivory\"},{\"resi\": \"18\", \"chain\": \"A\"});\n\tviewer_15344632225878642.setStyle({\"resi\": \"241\", \"chain\": \"A\"},{\"sphere\": {\"color\": \"red\"}});\n\tviewer_15344632225878642.addLabel(\"C->S Pathogenic\",{\"fontSize\": 10, \"fontColor\": \"red\", \"backgroundColor\": \"ivory\"},{\"resi\": \"241\", \"chain\": \"A\"});\n\tviewer_15344632225878642.setStyle({\"resi\": \"129\", \"chain\": \"A\"},{\"sphere\": {\"color\": \"red\"}});\n\tviewer_15344632225878642.addLabel(\"V->M Pathogenic\",{\"fontSize\": 10, \"fontColor\": \"red\", \"backgroundColor\": \"ivory\"},{\"resi\": \"129\", \"chain\": \"A\"});\n\tviewer_15344632225878642.setStyle({\"resi\": \"116\", \"chain\": \"A\"},{\"sphere\": {\"color\": \"palevioletred\"}});\n\tviewer_15344632225878642.addLabel(\"R->E Likely pathogenic\",{\"fontSize\": 10, \"fontColor\": \"palevioletred\", \"backgroundColor\": \"ivory\"},{\"resi\": \"116\", \"chain\": \"A\"});\n\tviewer_15344632225878642.setStyle({\"resi\": \"119\", \"chain\": \"A\"},{\"sphere\": {\"color\": \"red\"}});\n\tviewer_15344632225878642.addLabel(\"F->L Pathogenic\",{\"fontSize\": 10, \"fontColor\": \"red\", \"backgroundColor\": \"ivory\"},{\"resi\": \"119\", \"chain\": \"A\"});\n\tviewer_15344632225878642.setStyle({\"resi\": \"108\", \"chain\": \"A\"},{\"sphere\": {\"color\": \"red\"}});\n\tviewer_15344632225878642.addLabel(\"A->V Pathogenic\",{\"fontSize\": 10, \"fontColor\": \"red\", \"backgroundColor\": \"ivory\"},{\"resi\": \"108\", \"chain\": \"A\"});\n\tviewer_15344632225878642.setStyle({\"resi\": \"31\", \"chain\": \"A\"},{\"sphere\": {\"color\": \"palevioletred\"}});\n\tviewer_15344632225878642.addLabel(\"F->L Likely pathogenic\",{\"fontSize\": 10, \"fontColor\": \"palevioletred\", \"backgroundColor\": \"ivory\"},{\"resi\": \"31\", \"chain\": \"A\"});\n\tviewer_15344632225878642.setStyle({\"resi\": \"194\", \"chain\": \"A\"},{\"sphere\": {\"color\": \"palevioletred\"}});\n\tviewer_15344632225878642.addLabel(\"R->* Likely pathogenic\",{\"fontSize\": 10, \"fontColor\": \"palevioletred\", \"backgroundColor\": \"ivory\"},{\"resi\": \"194\", \"chain\": \"A\"});\n\tviewer_15344632225878642.setStyle({\"resi\": \"176\", \"chain\": \"A\"},{\"sphere\": {\"color\": \"palevioletred\"}});\n\tviewer_15344632225878642.addLabel(\"G->D Likely pathogenic\",{\"fontSize\": 10, \"fontColor\": \"palevioletred\", \"backgroundColor\": \"ivory\"},{\"resi\": \"176\", \"chain\": \"A\"});\n\tviewer_15344632225878642.setStyle({\"resi\": \"106\", \"chain\": \"A\"},{\"sphere\": {\"color\": \"red\"}});\n\tviewer_15344632225878642.addLabel(\"Y->F Pathogenic\",{\"fontSize\": 10, \"fontColor\": \"red\", \"backgroundColor\": \"ivory\"},{\"resi\": \"106\", \"chain\": \"A\"});\n\tviewer_15344632225878642.setStyle({\"resi\": \"216\", \"chain\": \"A\"},{\"sphere\": {\"color\": \"red\"}});\n\tviewer_15344632225878642.addLabel(\"N->S Pathogenic,Likely pathogenic\",{\"fontSize\": 10, \"fontColor\": \"red\", \"backgroundColor\": \"ivory\"},{\"resi\": \"216\", \"chain\": \"A\"});\n\tviewer_15344632225878642.setStyle({\"resi\": \"207\", \"chain\": \"A\"},{\"sphere\": {\"color\": \"palevioletred\"}});\n\tviewer_15344632225878642.addLabel(\"F->S Likely pathogenic\",{\"fontSize\": 10, \"fontColor\": \"palevioletred\", \"backgroundColor\": \"ivory\"},{\"resi\": \"207\", \"chain\": \"A\"});\n\tviewer_15344632225878642.setStyle({\"resi\": \"65\", \"chain\": \"A\"},{\"sphere\": {\"color\": \"red\"}});\n\tviewer_15344632225878642.addLabel(\"D->Y Pathogenic\",{\"fontSize\": 10, \"fontColor\": \"red\", \"backgroundColor\": \"ivory\"},{\"resi\": \"65\", \"chain\": \"A\"});\n\tviewer_15344632225878642.setStyle({\"resi\": \"237\", \"chain\": \"A\"},{\"sphere\": {\"color\": \"red\"}});\n\tviewer_15344632225878642.addLabel(\"T->MR Pathogenic\",{\"fontSize\": 10, \"fontColor\": \"red\", \"backgroundColor\": \"ivory\"},{\"resi\": \"237\", \"chain\": \"A\"});\n\tviewer_15344632225878642.setStyle({\"resi\": \"44\", \"chain\": \"A\"},{\"sphere\": {\"color\": \"palevioletred\"}});\n\tviewer_15344632225878642.addLabel(\"V->A Likely pathogenic\",{\"fontSize\": 10, \"fontColor\": \"palevioletred\", \"backgroundColor\": \"ivory\"},{\"resi\": \"44\", \"chain\": \"A\"});\n\tviewer_15344632225878642.setStyle({\"resi\": \"218\", \"chain\": \"A\"},{\"sphere\": {\"color\": \"red\"}});\n\tviewer_15344632225878642.addLabel(\"H->LD Pathogenic,Likely pathogenic\",{\"fontSize\": 10, \"fontColor\": \"red\", \"backgroundColor\": \"ivory\"},{\"resi\": \"218\", \"chain\": \"A\"});\n\tviewer_15344632225878642.setStyle({\"resi\": \"139\", \"chain\": \"A\"},{\"sphere\": {\"color\": \"red\"}});\n\tviewer_15344632225878642.addLabel(\"E->K Pathogenic,Likely pathogenic\",{\"fontSize\": 10, \"fontColor\": \"red\", \"backgroundColor\": \"ivory\"},{\"resi\": \"139\", \"chain\": \"A\"});\n\tviewer_15344632225878642.setStyle({\"resi\": \"43\", \"chain\": \"A\"},{\"sphere\": {\"color\": \"palevioletred\"}});\n\tviewer_15344632225878642.addLabel(\"V->L Likely pathogenic\",{\"fontSize\": 10, \"fontColor\": \"palevioletred\", \"backgroundColor\": \"ivory\"},{\"resi\": \"43\", \"chain\": \"A\"});\n\tviewer_15344632225878642.setStyle({\"resi\": \"144\", \"chain\": \"A\"},{\"sphere\": {\"color\": \"palevioletred\"}});\n\tviewer_15344632225878642.addLabel(\"F->L Likely pathogenic\",{\"fontSize\": 10, \"fontColor\": \"palevioletred\", \"backgroundColor\": \"ivory\"},{\"resi\": \"144\", \"chain\": \"A\"});\n\tviewer_15344632225878642.setStyle({\"resi\": \"53\", \"chain\": \"A\"},{\"sphere\": {\"color\": \"red\"}});\n\tviewer_15344632225878642.addLabel(\"Q->* Pathogenic\",{\"fontSize\": 10, \"fontColor\": \"red\", \"backgroundColor\": \"ivory\"},{\"resi\": \"53\", \"chain\": \"A\"});\n\tviewer_15344632225878642.setStyle({\"resi\": \"153\", \"chain\": \"A\"},{\"sphere\": {\"color\": \"palevioletred\"}});\n\tviewer_15344632225878642.addLabel(\"I->T Likely pathogenic\",{\"fontSize\": 10, \"fontColor\": \"palevioletred\", \"backgroundColor\": \"ivory\"},{\"resi\": \"153\", \"chain\": \"A\"});\n\tviewer_15344632225878642.setStyle({\"resi\": \"113\", \"chain\": \"A\"},{\"sphere\": {\"color\": \"red\"}});\n\tviewer_15344632225878642.addLabel(\"P->TSL Pathogenic,Likely pathogenic\",{\"fontSize\": 10, \"fontColor\": \"red\", \"backgroundColor\": \"ivory\"},{\"resi\": \"113\", \"chain\": \"A\"});\n\tviewer_15344632225878642.setStyle({\"resi\": \"223\", \"chain\": \"A\"},{\"sphere\": {\"color\": \"red\"}});\n\tviewer_15344632225878642.addLabel(\"D->E Pathogenic\",{\"fontSize\": 10, \"fontColor\": \"red\", \"backgroundColor\": \"ivory\"},{\"resi\": \"223\", \"chain\": \"A\"});\n\tviewer_15344632225878642.setStyle({\"resi\": \"117\", \"chain\": \"A\"},{\"sphere\": {\"color\": \"red\"}});\n\tviewer_15344632225878642.addLabel(\"G->R Pathogenic\",{\"fontSize\": 10, \"fontColor\": \"red\", \"backgroundColor\": \"ivory\"},{\"resi\": \"117\", \"chain\": \"A\"});\n\tviewer_15344632225878642.setStyle({\"resi\": \"104\", \"chain\": \"A\"},{\"sphere\": {\"color\": \"red\"}});\n\tviewer_15344632225878642.addLabel(\"L->V Pathogenic\",{\"fontSize\": 10, \"fontColor\": \"red\", \"backgroundColor\": \"ivory\"},{\"resi\": \"104\", \"chain\": \"A\"});\n\tviewer_15344632225878642.setStyle({\"resi\": \"162\", \"chain\": \"A\"},{\"sphere\": {\"color\": \"red\"}});\n\tviewer_15344632225878642.addLabel(\"R->W Pathogenic\",{\"fontSize\": 10, \"fontColor\": \"red\", \"backgroundColor\": \"ivory\"},{\"resi\": \"162\", \"chain\": \"A\"});\n\tviewer_15344632225878642.setStyle({\"resi\": \"123\", \"chain\": \"A\"},{\"sphere\": {\"color\": \"red\"}});\n\tviewer_15344632225878642.addLabel(\"R->*Q Pathogenic\",{\"fontSize\": 10, \"fontColor\": \"red\", \"backgroundColor\": \"ivory\"},{\"resi\": \"123\", \"chain\": \"A\"});\n\tviewer_15344632225878642.zoomTo({\"resi\": [\"63\", \"132\", \"69\", \"171\", \"226\", \"187\", \"32\", \"157\", \"141\", \"188\", \"208\", \"148\", \"9\", \"231\", \"18\", \"241\", \"129\", \"116\", \"119\", \"108\", \"31\", \"194\", \"176\", \"106\", \"216\", \"207\", \"65\", \"237\", \"44\", \"218\", \"139\", \"43\", \"144\", \"53\", \"153\", \"113\", \"223\", \"117\", \"104\", \"162\", \"123\"], \"chain\": \"A\"});\nviewer_15344632225878642.render();\n})\n});\n</script>"
         },
         "metadata": {},
         "output_type": "display_data"
        }
       ]
      }
     },
     "887c606c61524d87ae8529025106c0ad": {
      "model_module": "@jupyter-widgets/controls",
      "model_module_version": "1.3.0",
      "model_name": "DescriptionStyleModel",
      "state": {
       "description_width": ""
      }
     },
     "88f56c18c8c2433c91349ef9421d3bf9": {
      "model_module": "@jupyter-widgets/controls",
      "model_module_version": "1.3.0",
      "model_name": "CheckboxModel",
      "state": {
       "description": "show_labels",
       "disabled": false,
       "layout": "IPY_MODEL_77afc6bf6d51485582a04fb66c875e1a",
       "style": "IPY_MODEL_8f39df0eea35453f8eabba79ecce293a",
       "value": true
      }
     },
     "8a3cd8b3fa284df4821d5b526aa96abc": {
      "model_module": "@jupyter-widgets/controls",
      "model_module_version": "1.3.0",
      "model_name": "IntSliderModel",
      "state": {
       "continuous_update": false,
       "description": "Structure",
       "layout": "IPY_MODEL_8564504d23224a36ae5c2c3c37e469bb",
       "max": 49712,
       "style": "IPY_MODEL_6d1d1d68e1dd4194a2fd37e1fc2a3476"
      }
     },
     "8a680af13a794ea88304376649a9de7b": {
      "model_module": "@jupyter-widgets/base",
      "model_module_version": "1.1.0",
      "model_name": "LayoutModel",
      "state": {}
     },
     "8a7f8ad864db4c6191cad1cbd12f2152": {
      "model_module": "@jupyter-widgets/controls",
      "model_module_version": "1.3.0",
      "model_name": "CheckboxModel",
      "state": {
       "description": "show_bio_assembly",
       "disabled": false,
       "layout": "IPY_MODEL_0ec1beb2f11b48f9a088311a445cf294",
       "style": "IPY_MODEL_e594f69f788546fa87d6a5936a58f71b",
       "value": false
      }
     },
     "8b3bd768592946f1ba2182ba5ed98a5b": {
      "model_module": "@jupyter-widgets/controls",
      "model_module_version": "1.3.0",
      "model_name": "CheckboxModel",
      "state": {
       "description": "show_bio_assembly",
       "disabled": false,
       "layout": "IPY_MODEL_dc6aa1d9a1fb4334a183b8d7959e341e",
       "style": "IPY_MODEL_a5d9b87baa30417b997199f75d8c4a03",
       "value": false
      }
     },
     "8db020111e8241a28fda3c6ebee5c718": {
      "model_module": "@jupyter-widgets/base",
      "model_module_version": "1.1.0",
      "model_name": "LayoutModel",
      "state": {}
     },
     "8e08d74de35542a6a59e75c7843c8f43": {
      "model_module": "@jupyter-widgets/base",
      "model_module_version": "1.1.0",
      "model_name": "LayoutModel",
      "state": {}
     },
     "8eae76d94c0f45de8dd92974e2d337e6": {
      "model_module": "@jupyter-widgets/controls",
      "model_module_version": "1.3.0",
      "model_name": "CheckboxModel",
      "state": {
       "description": "show_labels",
       "disabled": false,
       "layout": "IPY_MODEL_2458795a6df94f308d4725e57f5aa614",
       "style": "IPY_MODEL_f94d53139c9b435bb01b34f6565d8353",
       "value": true
      }
     },
     "8f0e3d7c5ea345df925e792101299313": {
      "model_module": "@jupyter-widgets/controls",
      "model_module_version": "1.3.0",
      "model_name": "SliderStyleModel",
      "state": {
       "description_width": ""
      }
     },
     "8f39df0eea35453f8eabba79ecce293a": {
      "model_module": "@jupyter-widgets/controls",
      "model_module_version": "1.3.0",
      "model_name": "DescriptionStyleModel",
      "state": {
       "description_width": ""
      }
     },
     "90416a3ad6274221825943dfc9330bcc": {
      "model_module": "@jupyter-widgets/controls",
      "model_module_version": "1.3.0",
      "model_name": "SliderStyleModel",
      "state": {
       "description_width": ""
      }
     },
     "9198a3ee190f4d2f92eef452cc866f4c": {
      "model_module": "@jupyter-widgets/base",
      "model_module_version": "1.1.0",
      "model_name": "LayoutModel",
      "state": {}
     },
     "921b19cd1caa48b1a3197c7df6723a81": {
      "model_module": "@jupyter-widgets/controls",
      "model_module_version": "1.3.0",
      "model_name": "IntSliderModel",
      "state": {
       "continuous_update": false,
       "description": "Structure",
       "layout": "IPY_MODEL_e2333e68ae2441dc92749f0be8e12590",
       "max": 1455,
       "style": "IPY_MODEL_9dd9206bef5142eab9a13bb1e622c2b4"
      }
     },
     "926a687b9956415fab4b7c4c6c21fd02": {
      "model_module": "@jupyter-widgets/controls",
      "model_module_version": "1.3.0",
      "model_name": "DescriptionStyleModel",
      "state": {
       "description_width": ""
      }
     },
     "92e20ef6e69b4f7f8536d82de3d42244": {
      "model_module": "@jupyter-widgets/controls",
      "model_module_version": "1.3.0",
      "model_name": "DropdownModel",
      "state": {
       "_options_labels": [
        "none",
        "snp_id",
        "pdbChainId",
        "uniprotId",
        "sqlQuery"
       ],
       "description": "Select field:",
       "index": 0,
       "layout": "IPY_MODEL_be301ee028754817bcdc5d9f82174e48",
       "style": "IPY_MODEL_b060cb442bcb486d9b1a95fb560908c1"
      }
     },
     "941660ab94b4450883d3ffad7dea8653": {
      "model_module": "@jupyter-widgets/controls",
      "model_module_version": "1.3.0",
      "model_name": "VBoxModel",
      "state": {
       "_dom_classes": [
        "widget-interact"
       ],
       "children": [
        "IPY_MODEL_8a7f8ad864db4c6191cad1cbd12f2152",
        "IPY_MODEL_a04de6225c844e589341a5ca00da0c5b",
        "IPY_MODEL_73222fb086234cfca8851415c7ecb6c9",
        "IPY_MODEL_de3aaaa2783b4b4a9521321bfd038581",
        "IPY_MODEL_fba6045137cf43c5a8a138acc24a670d"
       ],
       "layout": "IPY_MODEL_22d814ff0f5a43bcad33aa63fa08b764"
      }
     },
     "9689515fb86e44728675416b7c3dcec7": {
      "model_module": "@jupyter-widgets/controls",
      "model_module_version": "1.3.0",
      "model_name": "CheckboxModel",
      "state": {
       "description": "show_bio_assembly",
       "disabled": false,
       "layout": "IPY_MODEL_baf3eed38c6245a6bf3642f9acf2fe14",
       "style": "IPY_MODEL_49f70cef2477498089f34e7c1030fca8",
       "value": false
      }
     },
     "997e9e642b0d4cee9283c31bd2d386ef": {
      "model_module": "@jupyter-widgets/base",
      "model_module_version": "1.1.0",
      "model_name": "LayoutModel",
      "state": {}
     },
     "99f73a74363f4d729e665b8f498f2659": {
      "model_module": "@jupyter-widgets/controls",
      "model_module_version": "1.3.0",
      "model_name": "DescriptionStyleModel",
      "state": {
       "description_width": ""
      }
     },
     "9a23f6fe4157451685339d698af3c429": {
      "model_module": "@jupyter-widgets/base",
      "model_module_version": "1.1.0",
      "model_name": "LayoutModel",
      "state": {}
     },
     "9afe0794adb545d99abddb6bb719c2a7": {
      "model_module": "@jupyter-widgets/base",
      "model_module_version": "1.1.0",
      "model_name": "LayoutModel",
      "state": {}
     },
     "9b22a4c74e7f474a822b2b650b0ca4b7": {
      "model_module": "@jupyter-widgets/controls",
      "model_module_version": "1.3.0",
      "model_name": "TextareaModel",
      "state": {
       "description": "Enter id(s):",
       "layout": "IPY_MODEL_4078d23232f84cd995368e1885acd114",
       "style": "IPY_MODEL_76a438c4169440ce843571e2d317c6c9"
      }
     },
     "9b6fa790a40f46a890829a343adbc2df": {
      "model_module": "@jupyter-widgets/controls",
      "model_module_version": "1.3.0",
      "model_name": "TextareaModel",
      "state": {
       "description": "Enter id(s):",
       "layout": "IPY_MODEL_a88307227cfb44daae8e1446a02015d7",
       "style": "IPY_MODEL_c8841d1b8e8f404bb409092c70c4108e"
      }
     },
     "9bc20ec315bd44b09414af77be45594f": {
      "model_module": "@jupyter-widgets/controls",
      "model_module_version": "1.3.0",
      "model_name": "DescriptionStyleModel",
      "state": {
       "description_width": ""
      }
     },
     "9c2a2396b8ec46d9986ab0db8952cebe": {
      "model_module": "@jupyter-widgets/controls",
      "model_module_version": "1.3.0",
      "model_name": "DescriptionStyleModel",
      "state": {
       "description_width": ""
      }
     },
     "9ca27fd8ed51407f91f40aece152908f": {
      "model_module": "@jupyter-widgets/base",
      "model_module_version": "1.1.0",
      "model_name": "LayoutModel",
      "state": {}
     },
     "9d896d92de254a1d8480c3ce7c5fd1b0": {
      "model_module": "@jupyter-widgets/base",
      "model_module_version": "1.1.0",
      "model_name": "LayoutModel",
      "state": {}
     },
     "9dd9206bef5142eab9a13bb1e622c2b4": {
      "model_module": "@jupyter-widgets/controls",
      "model_module_version": "1.3.0",
      "model_name": "SliderStyleModel",
      "state": {
       "description_width": ""
      }
     },
     "a04de6225c844e589341a5ca00da0c5b": {
      "model_module": "@jupyter-widgets/controls",
      "model_module_version": "1.3.0",
      "model_name": "CheckboxModel",
      "state": {
       "description": "show_surface",
       "disabled": false,
       "layout": "IPY_MODEL_675c7d74f999471eb7799e77244ace6d",
       "style": "IPY_MODEL_50f0a2c32caa4baf84f7eaa99e1a570e",
       "value": false
      }
     },
     "a11beae898794619a97aa003bdb4323e": {
      "model_module": "@jupyter-widgets/controls",
      "model_module_version": "1.3.0",
      "model_name": "CheckboxModel",
      "state": {
       "description": "show_bio_assembly",
       "disabled": false,
       "layout": "IPY_MODEL_fdb6f332c60b469a83acc997756b931d",
       "style": "IPY_MODEL_da09d69f99fb4b25973a1ae4703dbceb",
       "value": false
      }
     },
     "a2116ef243c64d2aa72f6788f2137d64": {
      "model_module": "@jupyter-widgets/controls",
      "model_module_version": "1.3.0",
      "model_name": "SliderStyleModel",
      "state": {
       "description_width": ""
      }
     },
     "a2c8e5060b5844c59b5fda13016b216d": {
      "model_module": "@jupyter-widgets/base",
      "model_module_version": "1.1.0",
      "model_name": "LayoutModel",
      "state": {}
     },
     "a2ec76940e5849abb1029070c139eee6": {
      "model_module": "@jupyter-widgets/output",
      "model_module_version": "1.0.0",
      "model_name": "OutputModel",
      "state": {
       "layout": "IPY_MODEL_614b82fc152048d2bdcd61af5a63ca9a",
       "outputs": [
        {
         "name": "stdout",
         "output_type": "stream",
         "text": "PDB Id: 3HR0 chain Id: A\nuniprotId: Q9H9E3\n"
        },
        {
         "data": {
          "application/3dmoljs_load.v0": "<div id=\"3dmolviewer_1534462810042121\"  style=\"position: relative; width: 640px; height: 480px\">\n        <p id=\"3dmolwarning_1534462810042121\" style=\"background-color:#ffcccc;color:black\">You appear to be running in JupyterLab.  You need to install the 3dmol extension: <br>\n        <tt>jupyter labextension install jupyterlab_3dmol</tt></p>\n        </div>\n<script>\n\nvar loadScriptAsync = function(uri){\n  return new Promise((resolve, reject) => {\n    var tag = document.createElement('script');\n    tag.src = uri;\n    tag.async = true;\n    tag.onload = () => {\n      resolve();\n    };\n  var firstScriptTag = document.getElementsByTagName('script')[0];\n  firstScriptTag.parentNode.insertBefore(tag, firstScriptTag);\n});\n};\n\nif(typeof $3Dmolpromise === 'undefined') {\n$3Dmolpromise = null;\n  $3Dmolpromise = loadScriptAsync('https://3dmol.csb.pitt.edu/build/3Dmol.js');\n}\n\nvar viewer_1534462810042121 = null;\nvar warn = document.getElementById(\"3dmolwarning_1534462810042121\");\nif(warn) {\n    warn.parentNode.removeChild(warn);\n}\n$3Dmolpromise.then(function() {\nviewer_1534462810042121 = $3Dmol.createViewer($(\"#3dmolviewer_1534462810042121\"),{backgroundColor:\"white\"});\n$3Dmol.download(\"pdb:3HR0\", viewer_1534462810042121, {\"doAssembly\": false}, function() {\n\tviewer_1534462810042121.setStyle({\"cartoon\": {\"colorscheme\": \"chain\", \"width\": 0.6, \"opacity\": 0.9}});\n\tviewer_1534462810042121.setStyle({\"hetflag\": true},{\"stick\": {\"radius\": 0.3, \"singleBond\": false}});\n\tviewer_1534462810042121.addStyle({\"chain\": \"A\", \"resi\": [\"645\", \"769\", \"599\", \"729\"], \"byres\": true, \"expand\": 6},{\"stick\": {\"colorscheme\": \"orangeCarbon\", \"radius\": 0.15}});\n\tviewer_1534462810042121.addStyle({\"resi\": \"645\", \"chain\": \"A\"},{\"stick\": {\"colorscheme\": \"turquoiseCarbon\", \"radius\": 0.2}});\n\tviewer_1534462810042121.addStyle({\"resi\": \"645\", \"chain\": \"A\"},{\"sphere\": {\"color\": \"turquoise\", \"opacity\": 0.6}});\n\tviewer_1534462810042121.addLabel(\"N->K Likely benign\",{\"fontSize\": 10, \"fontColor\": \"turquoise\", \"backgroundColor\": \"ivory\"},{\"resi\": \"645\", \"chain\": \"A\"});\n\tviewer_1534462810042121.addStyle({\"resi\": \"769\", \"chain\": \"A\"},{\"stick\": {\"colorscheme\": \"redCarbon\", \"radius\": 0.2}});\n\tviewer_1534462810042121.addStyle({\"resi\": \"769\", \"chain\": \"A\"},{\"sphere\": {\"color\": \"red\", \"opacity\": 0.6}});\n\tviewer_1534462810042121.addLabel(\"L->R Pathogenic\",{\"fontSize\": 10, \"fontColor\": \"red\", \"backgroundColor\": \"ivory\"},{\"resi\": \"769\", \"chain\": \"A\"});\n\tviewer_1534462810042121.addStyle({\"resi\": \"599\", \"chain\": \"A\"},{\"stick\": {\"colorscheme\": \"palevioletredCarbon\", \"radius\": 0.2}});\n\tviewer_1534462810042121.addStyle({\"resi\": \"599\", \"chain\": \"A\"},{\"sphere\": {\"color\": \"palevioletred\", \"opacity\": 0.6}});\n\tviewer_1534462810042121.addLabel(\"K->N Likely pathogenic\",{\"fontSize\": 10, \"fontColor\": \"palevioletred\", \"backgroundColor\": \"ivory\"},{\"resi\": \"599\", \"chain\": \"A\"});\n\tviewer_1534462810042121.addStyle({\"resi\": \"729\", \"chain\": \"A\"},{\"stick\": {\"colorscheme\": \"redCarbon\", \"radius\": 0.2}});\n\tviewer_1534462810042121.addStyle({\"resi\": \"729\", \"chain\": \"A\"},{\"sphere\": {\"color\": \"red\", \"opacity\": 0.6}});\n\tviewer_1534462810042121.addLabel(\"R->W Pathogenic\",{\"fontSize\": 10, \"fontColor\": \"red\", \"backgroundColor\": \"ivory\"},{\"resi\": \"729\", \"chain\": \"A\"});\n\tviewer_1534462810042121.zoomTo({\"resi\": [\"645\", \"769\", \"599\", \"729\"], \"chain\": \"A\"});\nviewer_1534462810042121.render();\n})\n});\n</script>",
          "text/html": "<div id=\"3dmolviewer_1534462810042121\"  style=\"position: relative; width: 640px; height: 480px\">\n        <p id=\"3dmolwarning_1534462810042121\" style=\"background-color:#ffcccc;color:black\">You appear to be running in JupyterLab.  You need to install the 3dmol extension: <br>\n        <tt>jupyter labextension install jupyterlab_3dmol</tt></p>\n        </div>\n<script>\n\nvar loadScriptAsync = function(uri){\n  return new Promise((resolve, reject) => {\n    var tag = document.createElement('script');\n    tag.src = uri;\n    tag.async = true;\n    tag.onload = () => {\n      resolve();\n    };\n  var firstScriptTag = document.getElementsByTagName('script')[0];\n  firstScriptTag.parentNode.insertBefore(tag, firstScriptTag);\n});\n};\n\nif(typeof $3Dmolpromise === 'undefined') {\n$3Dmolpromise = null;\n  $3Dmolpromise = loadScriptAsync('https://3dmol.csb.pitt.edu/build/3Dmol.js');\n}\n\nvar viewer_1534462810042121 = null;\nvar warn = document.getElementById(\"3dmolwarning_1534462810042121\");\nif(warn) {\n    warn.parentNode.removeChild(warn);\n}\n$3Dmolpromise.then(function() {\nviewer_1534462810042121 = $3Dmol.createViewer($(\"#3dmolviewer_1534462810042121\"),{backgroundColor:\"white\"});\n$3Dmol.download(\"pdb:3HR0\", viewer_1534462810042121, {\"doAssembly\": false}, function() {\n\tviewer_1534462810042121.setStyle({\"cartoon\": {\"colorscheme\": \"chain\", \"width\": 0.6, \"opacity\": 0.9}});\n\tviewer_1534462810042121.setStyle({\"hetflag\": true},{\"stick\": {\"radius\": 0.3, \"singleBond\": false}});\n\tviewer_1534462810042121.addStyle({\"chain\": \"A\", \"resi\": [\"645\", \"769\", \"599\", \"729\"], \"byres\": true, \"expand\": 6},{\"stick\": {\"colorscheme\": \"orangeCarbon\", \"radius\": 0.15}});\n\tviewer_1534462810042121.addStyle({\"resi\": \"645\", \"chain\": \"A\"},{\"stick\": {\"colorscheme\": \"turquoiseCarbon\", \"radius\": 0.2}});\n\tviewer_1534462810042121.addStyle({\"resi\": \"645\", \"chain\": \"A\"},{\"sphere\": {\"color\": \"turquoise\", \"opacity\": 0.6}});\n\tviewer_1534462810042121.addLabel(\"N->K Likely benign\",{\"fontSize\": 10, \"fontColor\": \"turquoise\", \"backgroundColor\": \"ivory\"},{\"resi\": \"645\", \"chain\": \"A\"});\n\tviewer_1534462810042121.addStyle({\"resi\": \"769\", \"chain\": \"A\"},{\"stick\": {\"colorscheme\": \"redCarbon\", \"radius\": 0.2}});\n\tviewer_1534462810042121.addStyle({\"resi\": \"769\", \"chain\": \"A\"},{\"sphere\": {\"color\": \"red\", \"opacity\": 0.6}});\n\tviewer_1534462810042121.addLabel(\"L->R Pathogenic\",{\"fontSize\": 10, \"fontColor\": \"red\", \"backgroundColor\": \"ivory\"},{\"resi\": \"769\", \"chain\": \"A\"});\n\tviewer_1534462810042121.addStyle({\"resi\": \"599\", \"chain\": \"A\"},{\"stick\": {\"colorscheme\": \"palevioletredCarbon\", \"radius\": 0.2}});\n\tviewer_1534462810042121.addStyle({\"resi\": \"599\", \"chain\": \"A\"},{\"sphere\": {\"color\": \"palevioletred\", \"opacity\": 0.6}});\n\tviewer_1534462810042121.addLabel(\"K->N Likely pathogenic\",{\"fontSize\": 10, \"fontColor\": \"palevioletred\", \"backgroundColor\": \"ivory\"},{\"resi\": \"599\", \"chain\": \"A\"});\n\tviewer_1534462810042121.addStyle({\"resi\": \"729\", \"chain\": \"A\"},{\"stick\": {\"colorscheme\": \"redCarbon\", \"radius\": 0.2}});\n\tviewer_1534462810042121.addStyle({\"resi\": \"729\", \"chain\": \"A\"},{\"sphere\": {\"color\": \"red\", \"opacity\": 0.6}});\n\tviewer_1534462810042121.addLabel(\"R->W Pathogenic\",{\"fontSize\": 10, \"fontColor\": \"red\", \"backgroundColor\": \"ivory\"},{\"resi\": \"729\", \"chain\": \"A\"});\n\tviewer_1534462810042121.zoomTo({\"resi\": [\"645\", \"769\", \"599\", \"729\"], \"chain\": \"A\"});\nviewer_1534462810042121.render();\n})\n});\n</script>"
         },
         "metadata": {},
         "output_type": "display_data"
        }
       ]
      }
     },
     "a34aed7f71b04104b34bc2a285382432": {
      "model_module": "@jupyter-widgets/controls",
      "model_module_version": "1.3.0",
      "model_name": "VBoxModel",
      "state": {
       "_dom_classes": [
        "widget-interact"
       ],
       "children": [
        "IPY_MODEL_8b3bd768592946f1ba2182ba5ed98a5b",
        "IPY_MODEL_6b116fc6b8dd4515a5cf32de713952c4",
        "IPY_MODEL_8eae76d94c0f45de8dd92974e2d337e6",
        "IPY_MODEL_634cb5aaa1fa4624b6e1ac6f776c4350",
        "IPY_MODEL_6a6848ccf7804ea69e5ea0a76f5a839e"
       ],
       "layout": "IPY_MODEL_ab0d8f7f638746ed832ee68bd643bea8"
      }
     },
     "a3a98e6e4e2547e49713d7df9f81967a": {
      "model_module": "@jupyter-widgets/base",
      "model_module_version": "1.1.0",
      "model_name": "LayoutModel",
      "state": {}
     },
     "a3d5092491374a20b2f87fbcf0b1b0d4": {
      "model_module": "@jupyter-widgets/controls",
      "model_module_version": "1.3.0",
      "model_name": "DescriptionStyleModel",
      "state": {
       "description_width": ""
      }
     },
     "a4f7676b4ae34fa6aa1d129285d14b2d": {
      "model_module": "@jupyter-widgets/base",
      "model_module_version": "1.1.0",
      "model_name": "LayoutModel",
      "state": {}
     },
     "a549ef09ed384439a35780f37a205183": {
      "model_module": "@jupyter-widgets/controls",
      "model_module_version": "1.3.0",
      "model_name": "CheckboxModel",
      "state": {
       "description": "show_surface",
       "disabled": false,
       "layout": "IPY_MODEL_a972e0142ae7457fa2ad65fe33542b29",
       "style": "IPY_MODEL_cde54f14552c4c40b8b60689e7a81826",
       "value": false
      }
     },
     "a5d9b87baa30417b997199f75d8c4a03": {
      "model_module": "@jupyter-widgets/controls",
      "model_module_version": "1.3.0",
      "model_name": "DescriptionStyleModel",
      "state": {
       "description_width": ""
      }
     },
     "a65eaf14d7f94102b25524cfcb907cee": {
      "model_module": "@jupyter-widgets/base",
      "model_module_version": "1.1.0",
      "model_name": "LayoutModel",
      "state": {}
     },
     "a7a584bc12a7415888da524ef0894f1d": {
      "model_module": "@jupyter-widgets/controls",
      "model_module_version": "1.3.0",
      "model_name": "IntSliderModel",
      "state": {
       "continuous_update": false,
       "description": "Structure",
       "layout": "IPY_MODEL_9a23f6fe4157451685339d698af3c429",
       "max": 1455,
       "style": "IPY_MODEL_529ca41c457e46ab89bbad89973d56f5",
       "value": 1273
      }
     },
     "a88307227cfb44daae8e1446a02015d7": {
      "model_module": "@jupyter-widgets/base",
      "model_module_version": "1.1.0",
      "model_name": "LayoutModel",
      "state": {}
     },
     "a8c4c1e891e243169d060720a63c6297": {
      "model_module": "@jupyter-widgets/controls",
      "model_module_version": "1.3.0",
      "model_name": "DescriptionStyleModel",
      "state": {
       "description_width": ""
      }
     },
     "a9254bd7cbbc453d98bd04195cbbf646": {
      "model_module": "@jupyter-widgets/controls",
      "model_module_version": "1.3.0",
      "model_name": "DescriptionStyleModel",
      "state": {
       "description_width": ""
      }
     },
     "a9284a13d4ce4c67b09351b3be2ce78d": {
      "model_module": "@jupyter-widgets/controls",
      "model_module_version": "1.3.0",
      "model_name": "DescriptionStyleModel",
      "state": {
       "description_width": ""
      }
     },
     "a972e0142ae7457fa2ad65fe33542b29": {
      "model_module": "@jupyter-widgets/base",
      "model_module_version": "1.1.0",
      "model_name": "LayoutModel",
      "state": {}
     },
     "aa088e8c4cc7412eab129b77e5955f3e": {
      "model_module": "@jupyter-widgets/controls",
      "model_module_version": "1.3.0",
      "model_name": "VBoxModel",
      "state": {
       "_dom_classes": [
        "widget-interact"
       ],
       "children": [
        "IPY_MODEL_84d30840431b458cab05923ed81a7668",
        "IPY_MODEL_638e20ba20694e8b97b5e9ab5e784f72",
        "IPY_MODEL_0d87fefb7b0b49fb824ef66c3046995b",
        "IPY_MODEL_ff6f5d1880064b89b5d9410613f60150",
        "IPY_MODEL_58989db032f34f10ab4b39496021f2c7"
       ],
       "layout": "IPY_MODEL_48d7844f95ca47ffac7622d97459c441"
      }
     },
     "ab0d8f7f638746ed832ee68bd643bea8": {
      "model_module": "@jupyter-widgets/base",
      "model_module_version": "1.1.0",
      "model_name": "LayoutModel",
      "state": {}
     },
     "ac3dfdd1ecb74376af15ea0f323631d2": {
      "model_module": "@jupyter-widgets/base",
      "model_module_version": "1.1.0",
      "model_name": "LayoutModel",
      "state": {}
     },
     "ae381cfa16ff4ecd9acc50b5c3542b0c": {
      "model_module": "@jupyter-widgets/controls",
      "model_module_version": "1.3.0",
      "model_name": "SelectMultipleModel",
      "state": {
       "_options_labels": [
        "All",
        "Benign",
        "Likely benign",
        "Likely pathogenic",
        "Pathogenic",
        "drug-response",
        "untested",
        "Uncertain significance",
        "other",
        "null"
       ],
       "description": "Significance:",
       "index": [
        1,
        2,
        3,
        4,
        5
       ],
       "layout": "IPY_MODEL_9afe0794adb545d99abddb6bb719c2a7",
       "rows": 5,
       "style": "IPY_MODEL_3db783c1d3024482ada52f922a20eb19"
      }
     },
     "ae81dc8a849d47ec8a23234c58f505d4": {
      "model_module": "@jupyter-widgets/base",
      "model_module_version": "1.1.0",
      "model_name": "LayoutModel",
      "state": {}
     },
     "af031df67a634a8b92c3b3ee961f524d": {
      "model_module": "@jupyter-widgets/base",
      "model_module_version": "1.1.0",
      "model_name": "LayoutModel",
      "state": {}
     },
     "b060cb442bcb486d9b1a95fb560908c1": {
      "model_module": "@jupyter-widgets/controls",
      "model_module_version": "1.3.0",
      "model_name": "DescriptionStyleModel",
      "state": {
       "description_width": ""
      }
     },
     "b0cbc725bd8e4065a331a2f56e331f72": {
      "model_module": "@jupyter-widgets/base",
      "model_module_version": "1.1.0",
      "model_name": "LayoutModel",
      "state": {}
     },
     "b0fc1cea47eb472b94b37666252e7114": {
      "model_module": "@jupyter-widgets/controls",
      "model_module_version": "1.3.0",
      "model_name": "CheckboxModel",
      "state": {
       "description": "show_labels",
       "disabled": false,
       "layout": "IPY_MODEL_725e5065b08b46b88e18f02e8e989b49",
       "style": "IPY_MODEL_f39fe7bd3b5b4b6c947f70f37533fd6c",
       "value": true
      }
     },
     "b125546d96e649d29f9b8e5d69d1417e": {
      "model_module": "@jupyter-widgets/base",
      "model_module_version": "1.1.0",
      "model_name": "LayoutModel",
      "state": {}
     },
     "b392bd93010c46e8987b28472d08b205": {
      "model_module": "@jupyter-widgets/output",
      "model_module_version": "1.0.0",
      "model_name": "OutputModel",
      "state": {
       "layout": "IPY_MODEL_6ad1c647762f4adda21a8bf5e50a9dcc",
       "outputs": [
        {
         "ename": "KeyError",
         "evalue": "'pdbResNums'",
         "output_type": "error",
         "traceback": [
          "\u001b[0;31m---------------------------------------------------------------------------\u001b[0m",
          "\u001b[0;31mTypeError\u001b[0m                                 Traceback (most recent call last)",
          "\u001b[0;32m~/anaconda3/lib/python3.6/site-packages/pandas/core/indexes/base.py\u001b[0m in \u001b[0;36mget_value\u001b[0;34m(self, series, key)\u001b[0m\n\u001b[1;32m   2565\u001b[0m             \u001b[0;32mtry\u001b[0m\u001b[0;34m:\u001b[0m\u001b[0;34m\u001b[0m\u001b[0m\n\u001b[0;32m-> 2566\u001b[0;31m                 \u001b[0;32mreturn\u001b[0m \u001b[0mlibts\u001b[0m\u001b[0;34m.\u001b[0m\u001b[0mget_value_box\u001b[0m\u001b[0;34m(\u001b[0m\u001b[0ms\u001b[0m\u001b[0;34m,\u001b[0m \u001b[0mkey\u001b[0m\u001b[0;34m)\u001b[0m\u001b[0;34m\u001b[0m\u001b[0m\n\u001b[0m\u001b[1;32m   2567\u001b[0m             \u001b[0;32mexcept\u001b[0m \u001b[0mIndexError\u001b[0m\u001b[0;34m:\u001b[0m\u001b[0;34m\u001b[0m\u001b[0m\n",
          "\u001b[0;32mpandas/_libs/tslib.pyx\u001b[0m in \u001b[0;36mpandas._libs.tslib.get_value_box\u001b[0;34m()\u001b[0m\n",
          "\u001b[0;32mpandas/_libs/tslib.pyx\u001b[0m in \u001b[0;36mpandas._libs.tslib.get_value_box\u001b[0;34m()\u001b[0m\n",
          "\u001b[0;31mTypeError\u001b[0m: 'str' object cannot be interpreted as an integer",
          "\nDuring handling of the above exception, another exception occurred:\n",
          "\u001b[0;31mKeyError\u001b[0m                                  Traceback (most recent call last)",
          "\u001b[0;32m~/anaconda3/lib/python3.6/site-packages/ipywidgets/widgets/interaction.py\u001b[0m in \u001b[0;36mupdate\u001b[0;34m(self, *args)\u001b[0m\n\u001b[1;32m    249\u001b[0m                     \u001b[0mvalue\u001b[0m \u001b[0;34m=\u001b[0m \u001b[0mwidget\u001b[0m\u001b[0;34m.\u001b[0m\u001b[0mget_interact_value\u001b[0m\u001b[0;34m(\u001b[0m\u001b[0;34m)\u001b[0m\u001b[0;34m\u001b[0m\u001b[0m\n\u001b[1;32m    250\u001b[0m                     \u001b[0mself\u001b[0m\u001b[0;34m.\u001b[0m\u001b[0mkwargs\u001b[0m\u001b[0;34m[\u001b[0m\u001b[0mwidget\u001b[0m\u001b[0;34m.\u001b[0m\u001b[0m_kwarg\u001b[0m\u001b[0;34m]\u001b[0m \u001b[0;34m=\u001b[0m \u001b[0mvalue\u001b[0m\u001b[0;34m\u001b[0m\u001b[0m\n\u001b[0;32m--> 251\u001b[0;31m                 \u001b[0mself\u001b[0m\u001b[0;34m.\u001b[0m\u001b[0mresult\u001b[0m \u001b[0;34m=\u001b[0m \u001b[0mself\u001b[0m\u001b[0;34m.\u001b[0m\u001b[0mf\u001b[0m\u001b[0;34m(\u001b[0m\u001b[0;34m**\u001b[0m\u001b[0mself\u001b[0m\u001b[0;34m.\u001b[0m\u001b[0mkwargs\u001b[0m\u001b[0;34m)\u001b[0m\u001b[0;34m\u001b[0m\u001b[0m\n\u001b[0m\u001b[1;32m    252\u001b[0m                 \u001b[0mshow_inline_matplotlib_plots\u001b[0m\u001b[0;34m(\u001b[0m\u001b[0;34m)\u001b[0m\u001b[0;34m\u001b[0m\u001b[0m\n\u001b[1;32m    253\u001b[0m                 \u001b[0;32mif\u001b[0m \u001b[0mself\u001b[0m\u001b[0;34m.\u001b[0m\u001b[0mauto_display\u001b[0m \u001b[0;32mand\u001b[0m \u001b[0mself\u001b[0m\u001b[0;34m.\u001b[0m\u001b[0mresult\u001b[0m \u001b[0;32mis\u001b[0m \u001b[0;32mnot\u001b[0m \u001b[0;32mNone\u001b[0m\u001b[0;34m:\u001b[0m\u001b[0;34m\u001b[0m\u001b[0m\n",
          "\u001b[0;32m<ipython-input-12-844ec273e37e>\u001b[0m in \u001b[0;36mview3d\u001b[0;34m(show_bio_assembly, show_surface, show_labels, i)\u001b[0m\n\u001b[1;32m      3\u001b[0m     \u001b[0;32mdef\u001b[0m \u001b[0mview3d\u001b[0m\u001b[0;34m(\u001b[0m\u001b[0mshow_bio_assembly\u001b[0m\u001b[0;34m=\u001b[0m\u001b[0;32mFalse\u001b[0m\u001b[0;34m,\u001b[0m \u001b[0mshow_surface\u001b[0m\u001b[0;34m=\u001b[0m\u001b[0;32mFalse\u001b[0m\u001b[0;34m,\u001b[0m \u001b[0mshow_labels\u001b[0m\u001b[0;34m=\u001b[0m\u001b[0;32mTrue\u001b[0m\u001b[0;34m,\u001b[0m \u001b[0mi\u001b[0m\u001b[0;34m=\u001b[0m\u001b[0;36m0\u001b[0m\u001b[0;34m)\u001b[0m\u001b[0;34m:\u001b[0m\u001b[0;34m\u001b[0m\u001b[0m\n\u001b[1;32m      4\u001b[0m         \u001b[0mpdb_id\u001b[0m\u001b[0;34m,\u001b[0m \u001b[0mchain_id\u001b[0m \u001b[0;34m=\u001b[0m \u001b[0mdf\u001b[0m\u001b[0;34m.\u001b[0m\u001b[0miloc\u001b[0m\u001b[0;34m[\u001b[0m\u001b[0mi\u001b[0m\u001b[0;34m]\u001b[0m\u001b[0;34m[\u001b[0m\u001b[0;34m'pdbChainId'\u001b[0m\u001b[0;34m]\u001b[0m\u001b[0;34m.\u001b[0m\u001b[0msplit\u001b[0m\u001b[0;34m(\u001b[0m\u001b[0;34m'.'\u001b[0m\u001b[0;34m)\u001b[0m\u001b[0;34m\u001b[0m\u001b[0m\n\u001b[0;32m----> 5\u001b[0;31m         \u001b[0mres_num\u001b[0m \u001b[0;34m=\u001b[0m \u001b[0mdf\u001b[0m\u001b[0;34m.\u001b[0m\u001b[0miloc\u001b[0m\u001b[0;34m[\u001b[0m\u001b[0mi\u001b[0m\u001b[0;34m]\u001b[0m\u001b[0;34m[\u001b[0m\u001b[0;34m'pdbResNums'\u001b[0m\u001b[0;34m]\u001b[0m\u001b[0;34m\u001b[0m\u001b[0m\n\u001b[0m\u001b[1;32m      6\u001b[0m         \u001b[0mlabels\u001b[0m \u001b[0;34m=\u001b[0m \u001b[0mdf\u001b[0m\u001b[0;34m.\u001b[0m\u001b[0miloc\u001b[0m\u001b[0;34m[\u001b[0m\u001b[0mi\u001b[0m\u001b[0;34m]\u001b[0m\u001b[0;34m[\u001b[0m\u001b[0;34m'snps'\u001b[0m\u001b[0;34m]\u001b[0m\u001b[0;34m\u001b[0m\u001b[0m\n\u001b[1;32m      7\u001b[0m         \u001b[0msigs\u001b[0m \u001b[0;34m=\u001b[0m \u001b[0mdf\u001b[0m\u001b[0;34m.\u001b[0m\u001b[0miloc\u001b[0m\u001b[0;34m[\u001b[0m\u001b[0mi\u001b[0m\u001b[0;34m]\u001b[0m\u001b[0;34m[\u001b[0m\u001b[0;34m'clinsig'\u001b[0m\u001b[0;34m]\u001b[0m\u001b[0;34m\u001b[0m\u001b[0m\n",
          "\u001b[0;32m~/anaconda3/lib/python3.6/site-packages/pandas/core/series.py\u001b[0m in \u001b[0;36m__getitem__\u001b[0;34m(self, key)\u001b[0m\n\u001b[1;32m    621\u001b[0m         \u001b[0mkey\u001b[0m \u001b[0;34m=\u001b[0m \u001b[0mcom\u001b[0m\u001b[0;34m.\u001b[0m\u001b[0m_apply_if_callable\u001b[0m\u001b[0;34m(\u001b[0m\u001b[0mkey\u001b[0m\u001b[0;34m,\u001b[0m \u001b[0mself\u001b[0m\u001b[0;34m)\u001b[0m\u001b[0;34m\u001b[0m\u001b[0m\n\u001b[1;32m    622\u001b[0m         \u001b[0;32mtry\u001b[0m\u001b[0;34m:\u001b[0m\u001b[0;34m\u001b[0m\u001b[0m\n\u001b[0;32m--> 623\u001b[0;31m             \u001b[0mresult\u001b[0m \u001b[0;34m=\u001b[0m \u001b[0mself\u001b[0m\u001b[0;34m.\u001b[0m\u001b[0mindex\u001b[0m\u001b[0;34m.\u001b[0m\u001b[0mget_value\u001b[0m\u001b[0;34m(\u001b[0m\u001b[0mself\u001b[0m\u001b[0;34m,\u001b[0m \u001b[0mkey\u001b[0m\u001b[0;34m)\u001b[0m\u001b[0;34m\u001b[0m\u001b[0m\n\u001b[0m\u001b[1;32m    624\u001b[0m \u001b[0;34m\u001b[0m\u001b[0m\n\u001b[1;32m    625\u001b[0m             \u001b[0;32mif\u001b[0m \u001b[0;32mnot\u001b[0m \u001b[0mis_scalar\u001b[0m\u001b[0;34m(\u001b[0m\u001b[0mresult\u001b[0m\u001b[0;34m)\u001b[0m\u001b[0;34m:\u001b[0m\u001b[0;34m\u001b[0m\u001b[0m\n",
          "\u001b[0;32m~/anaconda3/lib/python3.6/site-packages/pandas/core/indexes/base.py\u001b[0m in \u001b[0;36mget_value\u001b[0;34m(self, series, key)\u001b[0m\n\u001b[1;32m   2572\u001b[0m                     \u001b[0;32mraise\u001b[0m \u001b[0mInvalidIndexError\u001b[0m\u001b[0;34m(\u001b[0m\u001b[0mkey\u001b[0m\u001b[0;34m)\u001b[0m\u001b[0;34m\u001b[0m\u001b[0m\n\u001b[1;32m   2573\u001b[0m                 \u001b[0;32melse\u001b[0m\u001b[0;34m:\u001b[0m\u001b[0;34m\u001b[0m\u001b[0m\n\u001b[0;32m-> 2574\u001b[0;31m                     \u001b[0;32mraise\u001b[0m \u001b[0me1\u001b[0m\u001b[0;34m\u001b[0m\u001b[0m\n\u001b[0m\u001b[1;32m   2575\u001b[0m             \u001b[0;32mexcept\u001b[0m \u001b[0mException\u001b[0m\u001b[0;34m:\u001b[0m  \u001b[0;31m# pragma: no cover\u001b[0m\u001b[0;34m\u001b[0m\u001b[0m\n\u001b[1;32m   2576\u001b[0m                 \u001b[0;32mraise\u001b[0m \u001b[0me1\u001b[0m\u001b[0;34m\u001b[0m\u001b[0m\n",
          "\u001b[0;32m~/anaconda3/lib/python3.6/site-packages/pandas/core/indexes/base.py\u001b[0m in \u001b[0;36mget_value\u001b[0;34m(self, series, key)\u001b[0m\n\u001b[1;32m   2558\u001b[0m         \u001b[0;32mtry\u001b[0m\u001b[0;34m:\u001b[0m\u001b[0;34m\u001b[0m\u001b[0m\n\u001b[1;32m   2559\u001b[0m             return self._engine.get_value(s, k,\n\u001b[0;32m-> 2560\u001b[0;31m                                           tz=getattr(series.dtype, 'tz', None))\n\u001b[0m\u001b[1;32m   2561\u001b[0m         \u001b[0;32mexcept\u001b[0m \u001b[0mKeyError\u001b[0m \u001b[0;32mas\u001b[0m \u001b[0me1\u001b[0m\u001b[0;34m:\u001b[0m\u001b[0;34m\u001b[0m\u001b[0m\n\u001b[1;32m   2562\u001b[0m             \u001b[0;32mif\u001b[0m \u001b[0mlen\u001b[0m\u001b[0;34m(\u001b[0m\u001b[0mself\u001b[0m\u001b[0;34m)\u001b[0m \u001b[0;34m>\u001b[0m \u001b[0;36m0\u001b[0m \u001b[0;32mand\u001b[0m \u001b[0mself\u001b[0m\u001b[0;34m.\u001b[0m\u001b[0minferred_type\u001b[0m \u001b[0;32min\u001b[0m \u001b[0;34m[\u001b[0m\u001b[0;34m'integer'\u001b[0m\u001b[0;34m,\u001b[0m \u001b[0;34m'boolean'\u001b[0m\u001b[0;34m]\u001b[0m\u001b[0;34m:\u001b[0m\u001b[0;34m\u001b[0m\u001b[0m\n",
          "\u001b[0;32mpandas/_libs/index.pyx\u001b[0m in \u001b[0;36mpandas._libs.index.IndexEngine.get_value\u001b[0;34m()\u001b[0m\n",
          "\u001b[0;32mpandas/_libs/index.pyx\u001b[0m in \u001b[0;36mpandas._libs.index.IndexEngine.get_value\u001b[0;34m()\u001b[0m\n",
          "\u001b[0;32mpandas/_libs/index.pyx\u001b[0m in \u001b[0;36mpandas._libs.index.IndexEngine.get_loc\u001b[0;34m()\u001b[0m\n",
          "\u001b[0;32mpandas/_libs/hashtable_class_helper.pxi\u001b[0m in \u001b[0;36mpandas._libs.hashtable.PyObjectHashTable.get_item\u001b[0;34m()\u001b[0m\n",
          "\u001b[0;32mpandas/_libs/hashtable_class_helper.pxi\u001b[0m in \u001b[0;36mpandas._libs.hashtable.PyObjectHashTable.get_item\u001b[0;34m()\u001b[0m\n",
          "\u001b[0;31mKeyError\u001b[0m: 'pdbResNums'"
         ]
        }
       ]
      }
     },
     "b5ebf849d89b4e71aed4001d772a7dae": {
      "model_module": "@jupyter-widgets/controls",
      "model_module_version": "1.3.0",
      "model_name": "TextareaModel",
      "state": {
       "description": "Enter id(s):",
       "layout": "IPY_MODEL_76c1d60b3b4a47d692e5ddb784839f31",
       "style": "IPY_MODEL_a8c4c1e891e243169d060720a63c6297"
      }
     },
     "b6a8874911404c37963d39c39dfe66c5": {
      "model_module": "@jupyter-widgets/controls",
      "model_module_version": "1.3.0",
      "model_name": "IntSliderModel",
      "state": {
       "continuous_update": false,
       "description": "Structure",
       "layout": "IPY_MODEL_8db020111e8241a28fda3c6ebee5c718",
       "max": 1455,
       "style": "IPY_MODEL_dd24749aabf64bc29c5ae03e3bf2c4f6"
      }
     },
     "b7c7429061234e5c992d3021c1035c84": {
      "model_module": "@jupyter-widgets/controls",
      "model_module_version": "1.3.0",
      "model_name": "VBoxModel",
      "state": {
       "_dom_classes": [
        "widget-interact"
       ],
       "children": [
        "IPY_MODEL_17c43604290e4bb1b2cd0ab3b1b0f63c",
        "IPY_MODEL_4d6983428821462288328ff95b57a307",
        "IPY_MODEL_da0a8b0504154bf2899281fc646e74e7",
        "IPY_MODEL_4c940a6cfe7a419c938b7fc760130816",
        "IPY_MODEL_26fd3c1deff2462d9bca21cc16a3c8b0"
       ],
       "layout": "IPY_MODEL_ef56af416a4344338f7a53266083562b"
      }
     },
     "b83efa0ba1724e8ab340f2212645bece": {
      "model_module": "@jupyter-widgets/base",
      "model_module_version": "1.1.0",
      "model_name": "LayoutModel",
      "state": {}
     },
     "b94ac1aa559847a6a93c7d24826999ff": {
      "model_module": "@jupyter-widgets/controls",
      "model_module_version": "1.3.0",
      "model_name": "VBoxModel",
      "state": {
       "_dom_classes": [
        "widget-interact"
       ],
       "children": [
        "IPY_MODEL_f9404ad7c8d34884b71bb98140700df8",
        "IPY_MODEL_6a135b44910b46728225ab72b6c47f13",
        "IPY_MODEL_755da281fa0448f289fcd480ef5cf272",
        "IPY_MODEL_5d8542a1da3e4e2893884b9a55cc63f9",
        "IPY_MODEL_e126efb9bd584df3991f8ff0dbeaa41b"
       ],
       "layout": "IPY_MODEL_531b97711b0c43ee9d7cf586199cf446"
      }
     },
     "b9ec932e7a34442e813a54d70d818dd8": {
      "model_module": "@jupyter-widgets/controls",
      "model_module_version": "1.3.0",
      "model_name": "DropdownModel",
      "state": {
       "_options_labels": [
        "none",
        "snp_id",
        "pdbChainId",
        "uniprotId",
        "sqlQuery"
       ],
       "description": "Select field:",
       "index": 0,
       "layout": "IPY_MODEL_c18c2c39032c4b1ba8ea7f437d8356ae",
       "style": "IPY_MODEL_73746a18678e4dc3b16cb7d44eabd5e8"
      }
     },
     "baf3eed38c6245a6bf3642f9acf2fe14": {
      "model_module": "@jupyter-widgets/base",
      "model_module_version": "1.1.0",
      "model_name": "LayoutModel",
      "state": {}
     },
     "bb0423c209b1433c956e7e444db8356b": {
      "model_module": "@jupyter-widgets/output",
      "model_module_version": "1.0.0",
      "model_name": "OutputModel",
      "state": {
       "layout": "IPY_MODEL_5a22f2ee4e624d3a83ab4c49d30ad6b8",
       "outputs": [
        {
         "name": "stdout",
         "output_type": "stream",
         "text": "PDB Id: 3QWQ chain Id: A\nuniprotId: P00533\n"
        },
        {
         "data": {
          "application/3dmoljs_load.v0": "<div id=\"3dmolviewer_15344633864674869\"  style=\"position: relative; width: 640px; height: 480px\">\n        <p id=\"3dmolwarning_15344633864674869\" style=\"background-color:#ffcccc;color:black\">You appear to be running in JupyterLab.  You need to install the 3dmol extension: <br>\n        <tt>jupyter labextension install jupyterlab_3dmol</tt></p>\n        </div>\n<script>\n\nvar loadScriptAsync = function(uri){\n  return new Promise((resolve, reject) => {\n    var tag = document.createElement('script');\n    tag.src = uri;\n    tag.async = true;\n    tag.onload = () => {\n      resolve();\n    };\n  var firstScriptTag = document.getElementsByTagName('script')[0];\n  firstScriptTag.parentNode.insertBefore(tag, firstScriptTag);\n});\n};\n\nif(typeof $3Dmolpromise === 'undefined') {\n$3Dmolpromise = null;\n  $3Dmolpromise = loadScriptAsync('https://3dmol.csb.pitt.edu/build/3Dmol.js');\n}\n\nvar viewer_15344633864674869 = null;\nvar warn = document.getElementById(\"3dmolwarning_15344633864674869\");\nif(warn) {\n    warn.parentNode.removeChild(warn);\n}\n$3Dmolpromise.then(function() {\nviewer_15344633864674869 = $3Dmol.createViewer($(\"#3dmolviewer_15344633864674869\"),{backgroundColor:\"white\"});\n$3Dmol.download(\"pdb:3QWQ\", viewer_15344633864674869, {\"doAssembly\": false}, function() {\n\tviewer_15344633864674869.setStyle({\"cartoon\": {\"colorscheme\": \"chain\", \"width\": 0.6, \"opacity\": 0.9}});\n\tviewer_15344633864674869.setStyle({\"hetflag\": true},{\"stick\": {\"radius\": 0.3, \"singleBond\": false}});\n\tviewer_15344633864674869.addStyle({\"chain\": \"A\", \"resi\": [\"468\", \"404\", \"574\", \"497\", \"239\", \"522\", \"84\", \"265\", \"302\"], \"byres\": true, \"expand\": 6},{\"stick\": {\"colorscheme\": \"orangeCarbon\", \"radius\": 0.15}});\n\tviewer_15344633864674869.addStyle({\"resi\": \"468\", \"chain\": \"A\"},{\"stick\": {\"colorscheme\": \"palevioletredCarbon\", \"radius\": 0.2}});\n\tviewer_15344633864674869.addStyle({\"resi\": \"468\", \"chain\": \"A\"},{\"sphere\": {\"color\": \"palevioletred\", \"opacity\": 0.6}});\n\tviewer_15344633864674869.addLabel(\"S->G Likely pathogenic\",{\"fontSize\": 10, \"fontColor\": \"palevioletred\", \"backgroundColor\": \"ivory\"},{\"resi\": \"468\", \"chain\": \"A\"});\n\tviewer_15344633864674869.addStyle({\"resi\": \"404\", \"chain\": \"A\"},{\"stick\": {\"colorscheme\": \"redCarbon\", \"radius\": 0.2}});\n\tviewer_15344633864674869.addStyle({\"resi\": \"404\", \"chain\": \"A\"},{\"sphere\": {\"color\": \"red\", \"opacity\": 0.6}});\n\tviewer_15344633864674869.addLabel(\"G->D Pathogenic\",{\"fontSize\": 10, \"fontColor\": \"red\", \"backgroundColor\": \"ivory\"},{\"resi\": \"404\", \"chain\": \"A\"});\n\tviewer_15344633864674869.addStyle({\"resi\": \"574\", \"chain\": \"A\"},{\"stick\": {\"colorscheme\": \"palevioletredCarbon\", \"radius\": 0.2}});\n\tviewer_15344633864674869.addStyle({\"resi\": \"574\", \"chain\": \"A\"},{\"sphere\": {\"color\": \"palevioletred\", \"opacity\": 0.6}});\n\tviewer_15344633864674869.addLabel(\"G->VA Likely pathogenic\",{\"fontSize\": 10, \"fontColor\": \"palevioletred\", \"backgroundColor\": \"ivory\"},{\"resi\": \"574\", \"chain\": \"A\"});\n\tviewer_15344633864674869.addStyle({\"resi\": \"497\", \"chain\": \"A\"},{\"stick\": {\"colorscheme\": \"turquoiseCarbon\", \"radius\": 0.2}});\n\tviewer_15344633864674869.addStyle({\"resi\": \"497\", \"chain\": \"A\"},{\"sphere\": {\"color\": \"turquoise\", \"opacity\": 0.6}});\n\tviewer_15344633864674869.addLabel(\"R->K Likely benign\",{\"fontSize\": 10, \"fontColor\": \"turquoise\", \"backgroundColor\": \"ivory\"},{\"resi\": \"497\", \"chain\": \"A\"});\n\tviewer_15344633864674869.addStyle({\"resi\": \"239\", \"chain\": \"A\"},{\"stick\": {\"colorscheme\": \"palevioletredCarbon\", \"radius\": 0.2}});\n\tviewer_15344633864674869.addStyle({\"resi\": \"239\", \"chain\": \"A\"},{\"sphere\": {\"color\": \"palevioletred\", \"opacity\": 0.6}});\n\tviewer_15344633864674869.addLabel(\"T->P Likely pathogenic\",{\"fontSize\": 10, \"fontColor\": \"palevioletred\", \"backgroundColor\": \"ivory\"},{\"resi\": \"239\", \"chain\": \"A\"});\n\tviewer_15344633864674869.addStyle({\"resi\": \"522\", \"chain\": \"A\"},{\"stick\": {\"colorscheme\": \"palevioletredCarbon\", \"radius\": 0.2}});\n\tviewer_15344633864674869.addStyle({\"resi\": \"522\", \"chain\": \"A\"},{\"sphere\": {\"color\": \"palevioletred\", \"opacity\": 0.6}});\n\tviewer_15344633864674869.addLabel(\"P->S Likely pathogenic\",{\"fontSize\": 10, \"fontColor\": \"palevioletred\", \"backgroundColor\": \"ivory\"},{\"resi\": \"522\", \"chain\": \"A\"});\n\tviewer_15344633864674869.addStyle({\"resi\": \"84\", \"chain\": \"A\"},{\"stick\": {\"colorscheme\": \"palevioletredCarbon\", \"radius\": 0.2}});\n\tviewer_15344633864674869.addStyle({\"resi\": \"84\", \"chain\": \"A\"},{\"sphere\": {\"color\": \"palevioletred\", \"opacity\": 0.6}});\n\tviewer_15344633864674869.addLabel(\"R->KG Likely pathogenic\",{\"fontSize\": 10, \"fontColor\": \"palevioletred\", \"backgroundColor\": \"ivory\"},{\"resi\": \"84\", \"chain\": \"A\"});\n\tviewer_15344633864674869.addStyle({\"resi\": \"265\", \"chain\": \"A\"},{\"stick\": {\"colorscheme\": \"palevioletredCarbon\", \"radius\": 0.2}});\n\tviewer_15344633864674869.addStyle({\"resi\": \"265\", \"chain\": \"A\"},{\"sphere\": {\"color\": \"palevioletred\", \"opacity\": 0.6}});\n\tviewer_15344633864674869.addLabel(\"A->TVIND Likely pathogenic\",{\"fontSize\": 10, \"fontColor\": \"palevioletred\", \"backgroundColor\": \"ivory\"},{\"resi\": \"265\", \"chain\": \"A\"});\n\tviewer_15344633864674869.addStyle({\"resi\": \"302\", \"chain\": \"A\"},{\"stick\": {\"colorscheme\": \"redCarbon\", \"radius\": 0.2}});\n\tviewer_15344633864674869.addStyle({\"resi\": \"302\", \"chain\": \"A\"},{\"sphere\": {\"color\": \"red\", \"opacity\": 0.6}});\n\tviewer_15344633864674869.addLabel(\"C->F Pathogenic\",{\"fontSize\": 10, \"fontColor\": \"red\", \"backgroundColor\": \"ivory\"},{\"resi\": \"302\", \"chain\": \"A\"});\n\tviewer_15344633864674869.zoomTo({\"resi\": [\"468\", \"404\", \"574\", \"497\", \"239\", \"522\", \"84\", \"265\", \"302\"], \"chain\": \"A\"});\nviewer_15344633864674869.render();\n})\n});\n</script>",
          "text/html": "<div id=\"3dmolviewer_15344633864674869\"  style=\"position: relative; width: 640px; height: 480px\">\n        <p id=\"3dmolwarning_15344633864674869\" style=\"background-color:#ffcccc;color:black\">You appear to be running in JupyterLab.  You need to install the 3dmol extension: <br>\n        <tt>jupyter labextension install jupyterlab_3dmol</tt></p>\n        </div>\n<script>\n\nvar loadScriptAsync = function(uri){\n  return new Promise((resolve, reject) => {\n    var tag = document.createElement('script');\n    tag.src = uri;\n    tag.async = true;\n    tag.onload = () => {\n      resolve();\n    };\n  var firstScriptTag = document.getElementsByTagName('script')[0];\n  firstScriptTag.parentNode.insertBefore(tag, firstScriptTag);\n});\n};\n\nif(typeof $3Dmolpromise === 'undefined') {\n$3Dmolpromise = null;\n  $3Dmolpromise = loadScriptAsync('https://3dmol.csb.pitt.edu/build/3Dmol.js');\n}\n\nvar viewer_15344633864674869 = null;\nvar warn = document.getElementById(\"3dmolwarning_15344633864674869\");\nif(warn) {\n    warn.parentNode.removeChild(warn);\n}\n$3Dmolpromise.then(function() {\nviewer_15344633864674869 = $3Dmol.createViewer($(\"#3dmolviewer_15344633864674869\"),{backgroundColor:\"white\"});\n$3Dmol.download(\"pdb:3QWQ\", viewer_15344633864674869, {\"doAssembly\": false}, function() {\n\tviewer_15344633864674869.setStyle({\"cartoon\": {\"colorscheme\": \"chain\", \"width\": 0.6, \"opacity\": 0.9}});\n\tviewer_15344633864674869.setStyle({\"hetflag\": true},{\"stick\": {\"radius\": 0.3, \"singleBond\": false}});\n\tviewer_15344633864674869.addStyle({\"chain\": \"A\", \"resi\": [\"468\", \"404\", \"574\", \"497\", \"239\", \"522\", \"84\", \"265\", \"302\"], \"byres\": true, \"expand\": 6},{\"stick\": {\"colorscheme\": \"orangeCarbon\", \"radius\": 0.15}});\n\tviewer_15344633864674869.addStyle({\"resi\": \"468\", \"chain\": \"A\"},{\"stick\": {\"colorscheme\": \"palevioletredCarbon\", \"radius\": 0.2}});\n\tviewer_15344633864674869.addStyle({\"resi\": \"468\", \"chain\": \"A\"},{\"sphere\": {\"color\": \"palevioletred\", \"opacity\": 0.6}});\n\tviewer_15344633864674869.addLabel(\"S->G Likely pathogenic\",{\"fontSize\": 10, \"fontColor\": \"palevioletred\", \"backgroundColor\": \"ivory\"},{\"resi\": \"468\", \"chain\": \"A\"});\n\tviewer_15344633864674869.addStyle({\"resi\": \"404\", \"chain\": \"A\"},{\"stick\": {\"colorscheme\": \"redCarbon\", \"radius\": 0.2}});\n\tviewer_15344633864674869.addStyle({\"resi\": \"404\", \"chain\": \"A\"},{\"sphere\": {\"color\": \"red\", \"opacity\": 0.6}});\n\tviewer_15344633864674869.addLabel(\"G->D Pathogenic\",{\"fontSize\": 10, \"fontColor\": \"red\", \"backgroundColor\": \"ivory\"},{\"resi\": \"404\", \"chain\": \"A\"});\n\tviewer_15344633864674869.addStyle({\"resi\": \"574\", \"chain\": \"A\"},{\"stick\": {\"colorscheme\": \"palevioletredCarbon\", \"radius\": 0.2}});\n\tviewer_15344633864674869.addStyle({\"resi\": \"574\", \"chain\": \"A\"},{\"sphere\": {\"color\": \"palevioletred\", \"opacity\": 0.6}});\n\tviewer_15344633864674869.addLabel(\"G->VA Likely pathogenic\",{\"fontSize\": 10, \"fontColor\": \"palevioletred\", \"backgroundColor\": \"ivory\"},{\"resi\": \"574\", \"chain\": \"A\"});\n\tviewer_15344633864674869.addStyle({\"resi\": \"497\", \"chain\": \"A\"},{\"stick\": {\"colorscheme\": \"turquoiseCarbon\", \"radius\": 0.2}});\n\tviewer_15344633864674869.addStyle({\"resi\": \"497\", \"chain\": \"A\"},{\"sphere\": {\"color\": \"turquoise\", \"opacity\": 0.6}});\n\tviewer_15344633864674869.addLabel(\"R->K Likely benign\",{\"fontSize\": 10, \"fontColor\": \"turquoise\", \"backgroundColor\": \"ivory\"},{\"resi\": \"497\", \"chain\": \"A\"});\n\tviewer_15344633864674869.addStyle({\"resi\": \"239\", \"chain\": \"A\"},{\"stick\": {\"colorscheme\": \"palevioletredCarbon\", \"radius\": 0.2}});\n\tviewer_15344633864674869.addStyle({\"resi\": \"239\", \"chain\": \"A\"},{\"sphere\": {\"color\": \"palevioletred\", \"opacity\": 0.6}});\n\tviewer_15344633864674869.addLabel(\"T->P Likely pathogenic\",{\"fontSize\": 10, \"fontColor\": \"palevioletred\", \"backgroundColor\": \"ivory\"},{\"resi\": \"239\", \"chain\": \"A\"});\n\tviewer_15344633864674869.addStyle({\"resi\": \"522\", \"chain\": \"A\"},{\"stick\": {\"colorscheme\": \"palevioletredCarbon\", \"radius\": 0.2}});\n\tviewer_15344633864674869.addStyle({\"resi\": \"522\", \"chain\": \"A\"},{\"sphere\": {\"color\": \"palevioletred\", \"opacity\": 0.6}});\n\tviewer_15344633864674869.addLabel(\"P->S Likely pathogenic\",{\"fontSize\": 10, \"fontColor\": \"palevioletred\", \"backgroundColor\": \"ivory\"},{\"resi\": \"522\", \"chain\": \"A\"});\n\tviewer_15344633864674869.addStyle({\"resi\": \"84\", \"chain\": \"A\"},{\"stick\": {\"colorscheme\": \"palevioletredCarbon\", \"radius\": 0.2}});\n\tviewer_15344633864674869.addStyle({\"resi\": \"84\", \"chain\": \"A\"},{\"sphere\": {\"color\": \"palevioletred\", \"opacity\": 0.6}});\n\tviewer_15344633864674869.addLabel(\"R->KG Likely pathogenic\",{\"fontSize\": 10, \"fontColor\": \"palevioletred\", \"backgroundColor\": \"ivory\"},{\"resi\": \"84\", \"chain\": \"A\"});\n\tviewer_15344633864674869.addStyle({\"resi\": \"265\", \"chain\": \"A\"},{\"stick\": {\"colorscheme\": \"palevioletredCarbon\", \"radius\": 0.2}});\n\tviewer_15344633864674869.addStyle({\"resi\": \"265\", \"chain\": \"A\"},{\"sphere\": {\"color\": \"palevioletred\", \"opacity\": 0.6}});\n\tviewer_15344633864674869.addLabel(\"A->TVIND Likely pathogenic\",{\"fontSize\": 10, \"fontColor\": \"palevioletred\", \"backgroundColor\": \"ivory\"},{\"resi\": \"265\", \"chain\": \"A\"});\n\tviewer_15344633864674869.addStyle({\"resi\": \"302\", \"chain\": \"A\"},{\"stick\": {\"colorscheme\": \"redCarbon\", \"radius\": 0.2}});\n\tviewer_15344633864674869.addStyle({\"resi\": \"302\", \"chain\": \"A\"},{\"sphere\": {\"color\": \"red\", \"opacity\": 0.6}});\n\tviewer_15344633864674869.addLabel(\"C->F Pathogenic\",{\"fontSize\": 10, \"fontColor\": \"red\", \"backgroundColor\": \"ivory\"},{\"resi\": \"302\", \"chain\": \"A\"});\n\tviewer_15344633864674869.zoomTo({\"resi\": [\"468\", \"404\", \"574\", \"497\", \"239\", \"522\", \"84\", \"265\", \"302\"], \"chain\": \"A\"});\nviewer_15344633864674869.render();\n})\n});\n</script>"
         },
         "metadata": {},
         "output_type": "display_data"
        }
       ]
      }
     },
     "bbc81bdc6fa4486c97170d08a12bab55": {
      "model_module": "@jupyter-widgets/base",
      "model_module_version": "1.1.0",
      "model_name": "LayoutModel",
      "state": {}
     },
     "bbe94088fb1549ec8c8ecdc094c2712d": {
      "model_module": "@jupyter-widgets/controls",
      "model_module_version": "1.3.0",
      "model_name": "IntSliderModel",
      "state": {
       "continuous_update": false,
       "description": "Structure",
       "layout": "IPY_MODEL_170cae3a13e14bb9a49ee1e927a4e400",
       "max": 49712,
       "style": "IPY_MODEL_c37c569889354c96891771583635c539"
      }
     },
     "bc66507621f045f28b941976b295fb0f": {
      "model_module": "@jupyter-widgets/controls",
      "model_module_version": "1.3.0",
      "model_name": "DescriptionStyleModel",
      "state": {
       "description_width": ""
      }
     },
     "bca2be2e63084f17838260be59d9c4ec": {
      "model_module": "@jupyter-widgets/controls",
      "model_module_version": "1.3.0",
      "model_name": "DescriptionStyleModel",
      "state": {
       "description_width": ""
      }
     },
     "bd8d8318761848b5ae7c1331e9fba6cb": {
      "model_module": "@jupyter-widgets/base",
      "model_module_version": "1.1.0",
      "model_name": "LayoutModel",
      "state": {}
     },
     "bdbf14af3d2547a987c62a805e4a11d9": {
      "model_module": "@jupyter-widgets/controls",
      "model_module_version": "1.3.0",
      "model_name": "CheckboxModel",
      "state": {
       "description": "show_surface",
       "disabled": false,
       "layout": "IPY_MODEL_4be52e9262384bbf94e6c3820670f6c1",
       "style": "IPY_MODEL_9c2a2396b8ec46d9986ab0db8952cebe",
       "value": false
      }
     },
     "bdd6b23be12b4cf3915f5af55f0d9833": {
      "model_module": "@jupyter-widgets/controls",
      "model_module_version": "1.3.0",
      "model_name": "CheckboxModel",
      "state": {
       "description": "show_surface",
       "disabled": false,
       "layout": "IPY_MODEL_2f4d798ec7c7442994892015d535e371",
       "style": "IPY_MODEL_5a5aa4235b294fd893a46a3e7bf36a52",
       "value": false
      }
     },
     "be301ee028754817bcdc5d9f82174e48": {
      "model_module": "@jupyter-widgets/base",
      "model_module_version": "1.1.0",
      "model_name": "LayoutModel",
      "state": {}
     },
     "c0823d31387f4aa8ad19a6e1b3c81f5a": {
      "model_module": "@jupyter-widgets/base",
      "model_module_version": "1.1.0",
      "model_name": "LayoutModel",
      "state": {}
     },
     "c18c2c39032c4b1ba8ea7f437d8356ae": {
      "model_module": "@jupyter-widgets/base",
      "model_module_version": "1.1.0",
      "model_name": "LayoutModel",
      "state": {}
     },
     "c2a0f3b6bc9044ba8f1ad5ef8d60685b": {
      "model_module": "@jupyter-widgets/controls",
      "model_module_version": "1.3.0",
      "model_name": "SelectMultipleModel",
      "state": {
       "_options_labels": [
        "All",
        "Benign",
        "Likely benign",
        "Likely pathogenic",
        "Pathogenic",
        "drug-response",
        "untested",
        "Uncertain significance",
        "other",
        "null"
       ],
       "description": "Significance:",
       "index": [
        1
       ],
       "layout": "IPY_MODEL_e9d606f3f0044983a52b04cc60204032",
       "rows": 5,
       "style": "IPY_MODEL_bc66507621f045f28b941976b295fb0f"
      }
     },
     "c2bec11122714b9b98895e81f19c214b": {
      "model_module": "@jupyter-widgets/controls",
      "model_module_version": "1.3.0",
      "model_name": "VBoxModel",
      "state": {
       "_dom_classes": [
        "widget-interact"
       ],
       "children": [
        "IPY_MODEL_c56dd2731f1f40bd95626905470bff23",
        "IPY_MODEL_e8bb18d8a12a41e5a486c3c2f87935b7",
        "IPY_MODEL_b0fc1cea47eb472b94b37666252e7114",
        "IPY_MODEL_a7a584bc12a7415888da524ef0894f1d",
        "IPY_MODEL_6ba8c015fc4d4d3d9d78027f025820fd"
       ],
       "layout": "IPY_MODEL_8a680af13a794ea88304376649a9de7b"
      }
     },
     "c37c569889354c96891771583635c539": {
      "model_module": "@jupyter-widgets/controls",
      "model_module_version": "1.3.0",
      "model_name": "SliderStyleModel",
      "state": {
       "description_width": ""
      }
     },
     "c56dd2731f1f40bd95626905470bff23": {
      "model_module": "@jupyter-widgets/controls",
      "model_module_version": "1.3.0",
      "model_name": "CheckboxModel",
      "state": {
       "description": "show_bio_assembly",
       "disabled": false,
       "layout": "IPY_MODEL_a2c8e5060b5844c59b5fda13016b216d",
       "style": "IPY_MODEL_178023a6621247f78ddd4a54c82e30ff",
       "value": false
      }
     },
     "c589a5f6cae24b6892c4e9b49ff2c65c": {
      "model_module": "@jupyter-widgets/controls",
      "model_module_version": "1.3.0",
      "model_name": "CheckboxModel",
      "state": {
       "description": "show_bio_assembly",
       "disabled": false,
       "layout": "IPY_MODEL_c0823d31387f4aa8ad19a6e1b3c81f5a",
       "style": "IPY_MODEL_26d9f17cab9c4e1e817570f8535e1021",
       "value": false
      }
     },
     "c6a45f71699345bc80efcfe1a1884b33": {
      "model_module": "@jupyter-widgets/base",
      "model_module_version": "1.1.0",
      "model_name": "LayoutModel",
      "state": {}
     },
     "c744db66aafb45bda77ad58df8732fed": {
      "model_module": "@jupyter-widgets/controls",
      "model_module_version": "1.3.0",
      "model_name": "CheckboxModel",
      "state": {
       "description": "show_labels",
       "disabled": false,
       "layout": "IPY_MODEL_8263080214814e5ead5e028bfe61c102",
       "style": "IPY_MODEL_9bc20ec315bd44b09414af77be45594f",
       "value": true
      }
     },
     "c75acb3a6b1d4074a3161fcde60fafba": {
      "model_module": "@jupyter-widgets/base",
      "model_module_version": "1.1.0",
      "model_name": "LayoutModel",
      "state": {}
     },
     "c7b1e77400544c21be853c0b15e75691": {
      "model_module": "@jupyter-widgets/controls",
      "model_module_version": "1.3.0",
      "model_name": "DescriptionStyleModel",
      "state": {
       "description_width": ""
      }
     },
     "c8841d1b8e8f404bb409092c70c4108e": {
      "model_module": "@jupyter-widgets/controls",
      "model_module_version": "1.3.0",
      "model_name": "DescriptionStyleModel",
      "state": {
       "description_width": ""
      }
     },
     "c89c8180b89e4280a448f9222fcaa270": {
      "model_module": "@jupyter-widgets/controls",
      "model_module_version": "1.3.0",
      "model_name": "VBoxModel",
      "state": {
       "_dom_classes": [
        "widget-interact"
       ],
       "children": [
        "IPY_MODEL_7f966ae460ad44fd9afae9805e65048a",
        "IPY_MODEL_bdbf14af3d2547a987c62a805e4a11d9",
        "IPY_MODEL_e24b480e11944852a1d95c56eed32a4e",
        "IPY_MODEL_bbe94088fb1549ec8c8ecdc094c2712d",
        "IPY_MODEL_d62d6c2f9ea841beaaaa384e2737c7bf"
       ],
       "layout": "IPY_MODEL_03ee6602cae14c6c9e5d3f24b42d5dd4"
      }
     },
     "c9342b0bb84a4d95af05d983d2f643eb": {
      "model_module": "@jupyter-widgets/controls",
      "model_module_version": "1.3.0",
      "model_name": "TextareaModel",
      "state": {
       "description": "Enter id(s):",
       "layout": "IPY_MODEL_fc55f0a237b341349c4a3ebfde9ca83e",
       "style": "IPY_MODEL_0f97ef7109b9419ba0fa1c2f4073c3ab"
      }
     },
     "cd099e73995141b19792a4f9704043fb": {
      "model_module": "@jupyter-widgets/base",
      "model_module_version": "1.1.0",
      "model_name": "LayoutModel",
      "state": {}
     },
     "cde25a4550a74c1896d5c78a1624b22d": {
      "model_module": "@jupyter-widgets/base",
      "model_module_version": "1.1.0",
      "model_name": "LayoutModel",
      "state": {}
     },
     "cde54f14552c4c40b8b60689e7a81826": {
      "model_module": "@jupyter-widgets/controls",
      "model_module_version": "1.3.0",
      "model_name": "DescriptionStyleModel",
      "state": {
       "description_width": ""
      }
     },
     "cfbfe7d558e24439ad01029551de310a": {
      "model_module": "@jupyter-widgets/controls",
      "model_module_version": "1.3.0",
      "model_name": "CheckboxModel",
      "state": {
       "description": "show_labels",
       "disabled": false,
       "layout": "IPY_MODEL_e91f16de00124ced8164cac5987e0fbb",
       "style": "IPY_MODEL_753a48442c8d42a1b7b6c8a90a23cede",
       "value": true
      }
     },
     "d1e49256fa8d4d149a17d84dce1e4f72": {
      "model_module": "@jupyter-widgets/controls",
      "model_module_version": "1.3.0",
      "model_name": "CheckboxModel",
      "state": {
       "description": "show_labels",
       "disabled": false,
       "layout": "IPY_MODEL_7aef79e519674fb9b6b115e0ac0c9878",
       "style": "IPY_MODEL_5463b2dad3c04d7c89e35d0315db65f7",
       "value": true
      }
     },
     "d62d6c2f9ea841beaaaa384e2737c7bf": {
      "model_module": "@jupyter-widgets/output",
      "model_module_version": "1.0.0",
      "model_name": "OutputModel",
      "state": {
       "layout": "IPY_MODEL_1008bb9cae65434983c2297116f366d6",
       "outputs": [
        {
         "ename": "KeyError",
         "evalue": "'pdbResNums'",
         "output_type": "error",
         "traceback": [
          "\u001b[0;31m---------------------------------------------------------------------------\u001b[0m",
          "\u001b[0;31mTypeError\u001b[0m                                 Traceback (most recent call last)",
          "\u001b[0;32m~/anaconda3/lib/python3.6/site-packages/pandas/core/indexes/base.py\u001b[0m in \u001b[0;36mget_value\u001b[0;34m(self, series, key)\u001b[0m\n\u001b[1;32m   2565\u001b[0m             \u001b[0;32mtry\u001b[0m\u001b[0;34m:\u001b[0m\u001b[0;34m\u001b[0m\u001b[0m\n\u001b[0;32m-> 2566\u001b[0;31m                 \u001b[0;32mreturn\u001b[0m \u001b[0mlibts\u001b[0m\u001b[0;34m.\u001b[0m\u001b[0mget_value_box\u001b[0m\u001b[0;34m(\u001b[0m\u001b[0ms\u001b[0m\u001b[0;34m,\u001b[0m \u001b[0mkey\u001b[0m\u001b[0;34m)\u001b[0m\u001b[0;34m\u001b[0m\u001b[0m\n\u001b[0m\u001b[1;32m   2567\u001b[0m             \u001b[0;32mexcept\u001b[0m \u001b[0mIndexError\u001b[0m\u001b[0;34m:\u001b[0m\u001b[0;34m\u001b[0m\u001b[0m\n",
          "\u001b[0;32mpandas/_libs/tslib.pyx\u001b[0m in \u001b[0;36mpandas._libs.tslib.get_value_box\u001b[0;34m()\u001b[0m\n",
          "\u001b[0;32mpandas/_libs/tslib.pyx\u001b[0m in \u001b[0;36mpandas._libs.tslib.get_value_box\u001b[0;34m()\u001b[0m\n",
          "\u001b[0;31mTypeError\u001b[0m: 'str' object cannot be interpreted as an integer",
          "\nDuring handling of the above exception, another exception occurred:\n",
          "\u001b[0;31mKeyError\u001b[0m                                  Traceback (most recent call last)",
          "\u001b[0;32m~/anaconda3/lib/python3.6/site-packages/ipywidgets/widgets/interaction.py\u001b[0m in \u001b[0;36mupdate\u001b[0;34m(self, *args)\u001b[0m\n\u001b[1;32m    249\u001b[0m                     \u001b[0mvalue\u001b[0m \u001b[0;34m=\u001b[0m \u001b[0mwidget\u001b[0m\u001b[0;34m.\u001b[0m\u001b[0mget_interact_value\u001b[0m\u001b[0;34m(\u001b[0m\u001b[0;34m)\u001b[0m\u001b[0;34m\u001b[0m\u001b[0m\n\u001b[1;32m    250\u001b[0m                     \u001b[0mself\u001b[0m\u001b[0;34m.\u001b[0m\u001b[0mkwargs\u001b[0m\u001b[0;34m[\u001b[0m\u001b[0mwidget\u001b[0m\u001b[0;34m.\u001b[0m\u001b[0m_kwarg\u001b[0m\u001b[0;34m]\u001b[0m \u001b[0;34m=\u001b[0m \u001b[0mvalue\u001b[0m\u001b[0;34m\u001b[0m\u001b[0m\n\u001b[0;32m--> 251\u001b[0;31m                 \u001b[0mself\u001b[0m\u001b[0;34m.\u001b[0m\u001b[0mresult\u001b[0m \u001b[0;34m=\u001b[0m \u001b[0mself\u001b[0m\u001b[0;34m.\u001b[0m\u001b[0mf\u001b[0m\u001b[0;34m(\u001b[0m\u001b[0;34m**\u001b[0m\u001b[0mself\u001b[0m\u001b[0;34m.\u001b[0m\u001b[0mkwargs\u001b[0m\u001b[0;34m)\u001b[0m\u001b[0;34m\u001b[0m\u001b[0m\n\u001b[0m\u001b[1;32m    252\u001b[0m                 \u001b[0mshow_inline_matplotlib_plots\u001b[0m\u001b[0;34m(\u001b[0m\u001b[0;34m)\u001b[0m\u001b[0;34m\u001b[0m\u001b[0m\n\u001b[1;32m    253\u001b[0m                 \u001b[0;32mif\u001b[0m \u001b[0mself\u001b[0m\u001b[0;34m.\u001b[0m\u001b[0mauto_display\u001b[0m \u001b[0;32mand\u001b[0m \u001b[0mself\u001b[0m\u001b[0;34m.\u001b[0m\u001b[0mresult\u001b[0m \u001b[0;32mis\u001b[0m \u001b[0;32mnot\u001b[0m \u001b[0;32mNone\u001b[0m\u001b[0;34m:\u001b[0m\u001b[0;34m\u001b[0m\u001b[0m\n",
          "\u001b[0;32m<ipython-input-12-844ec273e37e>\u001b[0m in \u001b[0;36mview3d\u001b[0;34m(show_bio_assembly, show_surface, show_labels, i)\u001b[0m\n\u001b[1;32m      3\u001b[0m     \u001b[0;32mdef\u001b[0m \u001b[0mview3d\u001b[0m\u001b[0;34m(\u001b[0m\u001b[0mshow_bio_assembly\u001b[0m\u001b[0;34m=\u001b[0m\u001b[0;32mFalse\u001b[0m\u001b[0;34m,\u001b[0m \u001b[0mshow_surface\u001b[0m\u001b[0;34m=\u001b[0m\u001b[0;32mFalse\u001b[0m\u001b[0;34m,\u001b[0m \u001b[0mshow_labels\u001b[0m\u001b[0;34m=\u001b[0m\u001b[0;32mTrue\u001b[0m\u001b[0;34m,\u001b[0m \u001b[0mi\u001b[0m\u001b[0;34m=\u001b[0m\u001b[0;36m0\u001b[0m\u001b[0;34m)\u001b[0m\u001b[0;34m:\u001b[0m\u001b[0;34m\u001b[0m\u001b[0m\n\u001b[1;32m      4\u001b[0m         \u001b[0mpdb_id\u001b[0m\u001b[0;34m,\u001b[0m \u001b[0mchain_id\u001b[0m \u001b[0;34m=\u001b[0m \u001b[0mdf\u001b[0m\u001b[0;34m.\u001b[0m\u001b[0miloc\u001b[0m\u001b[0;34m[\u001b[0m\u001b[0mi\u001b[0m\u001b[0;34m]\u001b[0m\u001b[0;34m[\u001b[0m\u001b[0;34m'pdbChainId'\u001b[0m\u001b[0;34m]\u001b[0m\u001b[0;34m.\u001b[0m\u001b[0msplit\u001b[0m\u001b[0;34m(\u001b[0m\u001b[0;34m'.'\u001b[0m\u001b[0;34m)\u001b[0m\u001b[0;34m\u001b[0m\u001b[0m\n\u001b[0;32m----> 5\u001b[0;31m         \u001b[0mres_num\u001b[0m \u001b[0;34m=\u001b[0m \u001b[0mdf\u001b[0m\u001b[0;34m.\u001b[0m\u001b[0miloc\u001b[0m\u001b[0;34m[\u001b[0m\u001b[0mi\u001b[0m\u001b[0;34m]\u001b[0m\u001b[0;34m[\u001b[0m\u001b[0;34m'pdbResNums'\u001b[0m\u001b[0;34m]\u001b[0m\u001b[0;34m\u001b[0m\u001b[0m\n\u001b[0m\u001b[1;32m      6\u001b[0m         \u001b[0mlabels\u001b[0m \u001b[0;34m=\u001b[0m \u001b[0mdf\u001b[0m\u001b[0;34m.\u001b[0m\u001b[0miloc\u001b[0m\u001b[0;34m[\u001b[0m\u001b[0mi\u001b[0m\u001b[0;34m]\u001b[0m\u001b[0;34m[\u001b[0m\u001b[0;34m'snps'\u001b[0m\u001b[0;34m]\u001b[0m\u001b[0;34m\u001b[0m\u001b[0m\n\u001b[1;32m      7\u001b[0m         \u001b[0msigs\u001b[0m \u001b[0;34m=\u001b[0m \u001b[0mdf\u001b[0m\u001b[0;34m.\u001b[0m\u001b[0miloc\u001b[0m\u001b[0;34m[\u001b[0m\u001b[0mi\u001b[0m\u001b[0;34m]\u001b[0m\u001b[0;34m[\u001b[0m\u001b[0;34m'clinsig'\u001b[0m\u001b[0;34m]\u001b[0m\u001b[0;34m\u001b[0m\u001b[0m\n",
          "\u001b[0;32m~/anaconda3/lib/python3.6/site-packages/pandas/core/series.py\u001b[0m in \u001b[0;36m__getitem__\u001b[0;34m(self, key)\u001b[0m\n\u001b[1;32m    621\u001b[0m         \u001b[0mkey\u001b[0m \u001b[0;34m=\u001b[0m \u001b[0mcom\u001b[0m\u001b[0;34m.\u001b[0m\u001b[0m_apply_if_callable\u001b[0m\u001b[0;34m(\u001b[0m\u001b[0mkey\u001b[0m\u001b[0;34m,\u001b[0m \u001b[0mself\u001b[0m\u001b[0;34m)\u001b[0m\u001b[0;34m\u001b[0m\u001b[0m\n\u001b[1;32m    622\u001b[0m         \u001b[0;32mtry\u001b[0m\u001b[0;34m:\u001b[0m\u001b[0;34m\u001b[0m\u001b[0m\n\u001b[0;32m--> 623\u001b[0;31m             \u001b[0mresult\u001b[0m \u001b[0;34m=\u001b[0m \u001b[0mself\u001b[0m\u001b[0;34m.\u001b[0m\u001b[0mindex\u001b[0m\u001b[0;34m.\u001b[0m\u001b[0mget_value\u001b[0m\u001b[0;34m(\u001b[0m\u001b[0mself\u001b[0m\u001b[0;34m,\u001b[0m \u001b[0mkey\u001b[0m\u001b[0;34m)\u001b[0m\u001b[0;34m\u001b[0m\u001b[0m\n\u001b[0m\u001b[1;32m    624\u001b[0m \u001b[0;34m\u001b[0m\u001b[0m\n\u001b[1;32m    625\u001b[0m             \u001b[0;32mif\u001b[0m \u001b[0;32mnot\u001b[0m \u001b[0mis_scalar\u001b[0m\u001b[0;34m(\u001b[0m\u001b[0mresult\u001b[0m\u001b[0;34m)\u001b[0m\u001b[0;34m:\u001b[0m\u001b[0;34m\u001b[0m\u001b[0m\n",
          "\u001b[0;32m~/anaconda3/lib/python3.6/site-packages/pandas/core/indexes/base.py\u001b[0m in \u001b[0;36mget_value\u001b[0;34m(self, series, key)\u001b[0m\n\u001b[1;32m   2572\u001b[0m                     \u001b[0;32mraise\u001b[0m \u001b[0mInvalidIndexError\u001b[0m\u001b[0;34m(\u001b[0m\u001b[0mkey\u001b[0m\u001b[0;34m)\u001b[0m\u001b[0;34m\u001b[0m\u001b[0m\n\u001b[1;32m   2573\u001b[0m                 \u001b[0;32melse\u001b[0m\u001b[0;34m:\u001b[0m\u001b[0;34m\u001b[0m\u001b[0m\n\u001b[0;32m-> 2574\u001b[0;31m                     \u001b[0;32mraise\u001b[0m \u001b[0me1\u001b[0m\u001b[0;34m\u001b[0m\u001b[0m\n\u001b[0m\u001b[1;32m   2575\u001b[0m             \u001b[0;32mexcept\u001b[0m \u001b[0mException\u001b[0m\u001b[0;34m:\u001b[0m  \u001b[0;31m# pragma: no cover\u001b[0m\u001b[0;34m\u001b[0m\u001b[0m\n\u001b[1;32m   2576\u001b[0m                 \u001b[0;32mraise\u001b[0m \u001b[0me1\u001b[0m\u001b[0;34m\u001b[0m\u001b[0m\n",
          "\u001b[0;32m~/anaconda3/lib/python3.6/site-packages/pandas/core/indexes/base.py\u001b[0m in \u001b[0;36mget_value\u001b[0;34m(self, series, key)\u001b[0m\n\u001b[1;32m   2558\u001b[0m         \u001b[0;32mtry\u001b[0m\u001b[0;34m:\u001b[0m\u001b[0;34m\u001b[0m\u001b[0m\n\u001b[1;32m   2559\u001b[0m             return self._engine.get_value(s, k,\n\u001b[0;32m-> 2560\u001b[0;31m                                           tz=getattr(series.dtype, 'tz', None))\n\u001b[0m\u001b[1;32m   2561\u001b[0m         \u001b[0;32mexcept\u001b[0m \u001b[0mKeyError\u001b[0m \u001b[0;32mas\u001b[0m \u001b[0me1\u001b[0m\u001b[0;34m:\u001b[0m\u001b[0;34m\u001b[0m\u001b[0m\n\u001b[1;32m   2562\u001b[0m             \u001b[0;32mif\u001b[0m \u001b[0mlen\u001b[0m\u001b[0;34m(\u001b[0m\u001b[0mself\u001b[0m\u001b[0;34m)\u001b[0m \u001b[0;34m>\u001b[0m \u001b[0;36m0\u001b[0m \u001b[0;32mand\u001b[0m \u001b[0mself\u001b[0m\u001b[0;34m.\u001b[0m\u001b[0minferred_type\u001b[0m \u001b[0;32min\u001b[0m \u001b[0;34m[\u001b[0m\u001b[0;34m'integer'\u001b[0m\u001b[0;34m,\u001b[0m \u001b[0;34m'boolean'\u001b[0m\u001b[0;34m]\u001b[0m\u001b[0;34m:\u001b[0m\u001b[0;34m\u001b[0m\u001b[0m\n",
          "\u001b[0;32mpandas/_libs/index.pyx\u001b[0m in \u001b[0;36mpandas._libs.index.IndexEngine.get_value\u001b[0;34m()\u001b[0m\n",
          "\u001b[0;32mpandas/_libs/index.pyx\u001b[0m in \u001b[0;36mpandas._libs.index.IndexEngine.get_value\u001b[0;34m()\u001b[0m\n",
          "\u001b[0;32mpandas/_libs/index.pyx\u001b[0m in \u001b[0;36mpandas._libs.index.IndexEngine.get_loc\u001b[0;34m()\u001b[0m\n",
          "\u001b[0;32mpandas/_libs/hashtable_class_helper.pxi\u001b[0m in \u001b[0;36mpandas._libs.hashtable.PyObjectHashTable.get_item\u001b[0;34m()\u001b[0m\n",
          "\u001b[0;32mpandas/_libs/hashtable_class_helper.pxi\u001b[0m in \u001b[0;36mpandas._libs.hashtable.PyObjectHashTable.get_item\u001b[0;34m()\u001b[0m\n",
          "\u001b[0;31mKeyError\u001b[0m: 'pdbResNums'"
         ]
        }
       ]
      }
     },
     "d68ff6da11814b9ea5cf74cb28897d03": {
      "model_module": "@jupyter-widgets/controls",
      "model_module_version": "1.3.0",
      "model_name": "CheckboxModel",
      "state": {
       "description": "show_bio_assembly",
       "disabled": false,
       "layout": "IPY_MODEL_9d896d92de254a1d8480c3ce7c5fd1b0",
       "style": "IPY_MODEL_391208b222024de9b47e619fb17d7921",
       "value": false
      }
     },
     "d7d68bfabce341b99f639ba9333effc9": {
      "model_module": "@jupyter-widgets/base",
      "model_module_version": "1.1.0",
      "model_name": "LayoutModel",
      "state": {}
     },
     "da09d69f99fb4b25973a1ae4703dbceb": {
      "model_module": "@jupyter-widgets/controls",
      "model_module_version": "1.3.0",
      "model_name": "DescriptionStyleModel",
      "state": {
       "description_width": ""
      }
     },
     "da0a8b0504154bf2899281fc646e74e7": {
      "model_module": "@jupyter-widgets/controls",
      "model_module_version": "1.3.0",
      "model_name": "CheckboxModel",
      "state": {
       "description": "show_labels",
       "disabled": false,
       "layout": "IPY_MODEL_46589af67b1b4cda994d409b17fdc9b5",
       "style": "IPY_MODEL_0b46a32ae5ae4db78454b5e471878557",
       "value": true
      }
     },
     "dc6aa1d9a1fb4334a183b8d7959e341e": {
      "model_module": "@jupyter-widgets/base",
      "model_module_version": "1.1.0",
      "model_name": "LayoutModel",
      "state": {}
     },
     "dd24749aabf64bc29c5ae03e3bf2c4f6": {
      "model_module": "@jupyter-widgets/controls",
      "model_module_version": "1.3.0",
      "model_name": "SliderStyleModel",
      "state": {
       "description_width": ""
      }
     },
     "de3aaaa2783b4b4a9521321bfd038581": {
      "model_module": "@jupyter-widgets/controls",
      "model_module_version": "1.3.0",
      "model_name": "IntSliderModel",
      "state": {
       "continuous_update": false,
       "description": "Structure",
       "layout": "IPY_MODEL_28dc1562e1c74b34ac122d97d19082d9",
       "max": 1455,
       "style": "IPY_MODEL_69292fe29d274677bcd5b5bd7c37957d",
       "value": 474
      }
     },
     "e126efb9bd584df3991f8ff0dbeaa41b": {
      "model_module": "@jupyter-widgets/output",
      "model_module_version": "1.0.0",
      "model_name": "OutputModel",
      "state": {
       "layout": "IPY_MODEL_9ca27fd8ed51407f91f40aece152908f",
       "outputs": [
        {
         "name": "stdout",
         "output_type": "stream",
         "text": "PDB Id: 2AMY chain Id: A\nuniprotId: O15305\n"
        },
        {
         "data": {
          "application/3dmoljs_load.v0": "<div id=\"3dmolviewer_1534457505100947\"  style=\"position: relative; width: 640px; height: 480px\">\n        <p id=\"3dmolwarning_1534457505100947\" style=\"background-color:#ffcccc;color:black\">You appear to be running in JupyterLab.  You need to install the 3dmol extension: <br>\n        <tt>jupyter labextension install jupyterlab_3dmol</tt></p>\n        </div>\n<script>\n\nvar loadScriptAsync = function(uri){\n  return new Promise((resolve, reject) => {\n    var tag = document.createElement('script');\n    tag.src = uri;\n    tag.async = true;\n    tag.onload = () => {\n      resolve();\n    };\n  var firstScriptTag = document.getElementsByTagName('script')[0];\n  firstScriptTag.parentNode.insertBefore(tag, firstScriptTag);\n});\n};\n\nif(typeof $3Dmolpromise === 'undefined') {\n$3Dmolpromise = null;\n  $3Dmolpromise = loadScriptAsync('https://3dmol.csb.pitt.edu/build/3Dmol.js');\n}\n\nvar viewer_1534457505100947 = null;\nvar warn = document.getElementById(\"3dmolwarning_1534457505100947\");\nif(warn) {\n    warn.parentNode.removeChild(warn);\n}\n$3Dmolpromise.then(function() {\nviewer_1534457505100947 = $3Dmol.createViewer($(\"#3dmolviewer_1534457505100947\"),{backgroundColor:\"white\"});\n$3Dmol.download(\"pdb:2AMY\", viewer_1534457505100947, {\"doAssembly\": false}, function() {\n\tviewer_1534457505100947.setStyle({\"cartoon\": {\"colorscheme\": \"chain\", \"width\": 0.6, \"opacity\": 0.9}});\n\tviewer_1534457505100947.setStyle({\"hetflag\": true},{\"stick\": {\"radius\": 0.3, \"singleBond\": false}});\n\tviewer_1534457505100947.addStyle({\"chain\": \"A\", \"resi\": [\"63\", \"132\", \"69\", \"171\", \"226\", \"187\", \"32\", \"157\", \"141\", \"188\", \"208\", \"148\", \"9\", \"231\", \"18\", \"241\", \"129\", \"116\", \"119\", \"108\", \"31\", \"194\", \"176\", \"106\", \"216\", \"207\", \"65\", \"237\", \"44\", \"218\", \"139\", \"43\", \"144\", \"53\", \"153\", \"113\", \"223\", \"117\", \"104\", \"162\", \"123\"], \"byres\": true, \"expand\": 6},{\"stick\": {\"colorscheme\": \"orangeCarbon\", \"radius\": 0.15}});\n\tviewer_1534457505100947.addStyle({\"resi\": \"63\", \"chain\": \"A\"},{\"stick\": {\"colorscheme\": \"palevioletredCarbon\", \"radius\": 0.2}});\n\tviewer_1534457505100947.addStyle({\"resi\": \"63\", \"chain\": \"A\"},{\"sphere\": {\"color\": \"palevioletred\", \"opacity\": 0.6}});\n\tviewer_1534457505100947.addLabel(\"K->N Likely pathogenic\",{\"fontSize\": 10, \"fontColor\": \"palevioletred\", \"backgroundColor\": \"ivory\"},{\"resi\": \"63\", \"chain\": \"A\"});\n\tviewer_1534457505100947.addStyle({\"resi\": \"132\", \"chain\": \"A\"},{\"stick\": {\"colorscheme\": \"palevioletredCarbon\", \"radius\": 0.2}});\n\tviewer_1534457505100947.addStyle({\"resi\": \"132\", \"chain\": \"A\"},{\"sphere\": {\"color\": \"palevioletred\", \"opacity\": 0.6}});\n\tviewer_1534457505100947.addLabel(\"I->T Likely pathogenic\",{\"fontSize\": 10, \"fontColor\": \"palevioletred\", \"backgroundColor\": \"ivory\"},{\"resi\": \"132\", \"chain\": \"A\"});\n\tviewer_1534457505100947.addStyle({\"resi\": \"69\", \"chain\": \"A\"},{\"stick\": {\"colorscheme\": \"palevioletredCarbon\", \"radius\": 0.2}});\n\tviewer_1534457505100947.addStyle({\"resi\": \"69\", \"chain\": \"A\"},{\"sphere\": {\"color\": \"palevioletred\", \"opacity\": 0.6}});\n\tviewer_1534457505100947.addLabel(\"P->SA Likely pathogenic\",{\"fontSize\": 10, \"fontColor\": \"palevioletred\", \"backgroundColor\": \"ivory\"},{\"resi\": \"69\", \"chain\": \"A\"});\n\tviewer_1534457505100947.addStyle({\"resi\": \"171\", \"chain\": \"A\"},{\"stick\": {\"colorscheme\": \"palevioletredCarbon\", \"radius\": 0.2}});\n\tviewer_1534457505100947.addStyle({\"resi\": \"171\", \"chain\": \"A\"},{\"sphere\": {\"color\": \"palevioletred\", \"opacity\": 0.6}});\n\tviewer_1534457505100947.addLabel(\"T->N Likely pathogenic\",{\"fontSize\": 10, \"fontColor\": \"palevioletred\", \"backgroundColor\": \"ivory\"},{\"resi\": \"171\", \"chain\": \"A\"});\n\tviewer_1534457505100947.addStyle({\"resi\": \"226\", \"chain\": \"A\"},{\"stick\": {\"colorscheme\": \"redCarbon\", \"radius\": 0.2}});\n\tviewer_1534457505100947.addStyle({\"resi\": \"226\", \"chain\": \"A\"},{\"sphere\": {\"color\": \"red\", \"opacity\": 0.6}});\n\tviewer_1534457505100947.addLabel(\"T->S Pathogenic\",{\"fontSize\": 10, \"fontColor\": \"red\", \"backgroundColor\": \"ivory\"},{\"resi\": \"226\", \"chain\": \"A\"});\n\tviewer_1534457505100947.addStyle({\"resi\": \"187\", \"chain\": \"A\"},{\"stick\": {\"colorscheme\": \"palevioletredCarbon\", \"radius\": 0.2}});\n\tviewer_1534457505100947.addStyle({\"resi\": \"187\", \"chain\": \"A\"},{\"sphere\": {\"color\": \"palevioletred\", \"opacity\": 0.6}});\n\tviewer_1534457505100947.addLabel(\"W->* Likely pathogenic\",{\"fontSize\": 10, \"fontColor\": \"palevioletred\", \"backgroundColor\": \"ivory\"},{\"resi\": \"187\", \"chain\": \"A\"});\n\tviewer_1534457505100947.addStyle({\"resi\": \"32\", \"chain\": \"A\"},{\"stick\": {\"colorscheme\": \"redCarbon\", \"radius\": 0.2}});\n\tviewer_1534457505100947.addStyle({\"resi\": \"32\", \"chain\": \"A\"},{\"sphere\": {\"color\": \"red\", \"opacity\": 0.6}});\n\tviewer_1534457505100947.addLabel(\"L->R Pathogenic\",{\"fontSize\": 10, \"fontColor\": \"red\", \"backgroundColor\": \"ivory\"},{\"resi\": \"32\", \"chain\": \"A\"});\n\tviewer_1534457505100947.addStyle({\"resi\": \"157\", \"chain\": \"A\"},{\"stick\": {\"colorscheme\": \"redCarbon\", \"radius\": 0.2}});\n\tviewer_1534457505100947.addStyle({\"resi\": \"157\", \"chain\": \"A\"},{\"sphere\": {\"color\": \"red\", \"opacity\": 0.6}});\n\tviewer_1534457505100947.addLabel(\"F->S Pathogenic\",{\"fontSize\": 10, \"fontColor\": \"red\", \"backgroundColor\": \"ivory\"},{\"resi\": \"157\", \"chain\": \"A\"});\n\tviewer_1534457505100947.addStyle({\"resi\": \"141\", \"chain\": \"A\"},{\"stick\": {\"colorscheme\": \"redCarbon\", \"radius\": 0.2}});\n\tviewer_1534457505100947.addStyle({\"resi\": \"141\", \"chain\": \"A\"},{\"sphere\": {\"color\": \"red\", \"opacity\": 0.6}});\n\tviewer_1534457505100947.addLabel(\"R->H Pathogenic\",{\"fontSize\": 10, \"fontColor\": \"red\", \"backgroundColor\": \"ivory\"},{\"resi\": \"141\", \"chain\": \"A\"});\n\tviewer_1534457505100947.addStyle({\"resi\": \"188\", \"chain\": \"A\"},{\"stick\": {\"colorscheme\": \"redCarbon\", \"radius\": 0.2}});\n\tviewer_1534457505100947.addStyle({\"resi\": \"188\", \"chain\": \"A\"},{\"sphere\": {\"color\": \"red\", \"opacity\": 0.6}});\n\tviewer_1534457505100947.addLabel(\"D->G Pathogenic\",{\"fontSize\": 10, \"fontColor\": \"red\", \"backgroundColor\": \"ivory\"},{\"resi\": \"188\", \"chain\": \"A\"});\n\tviewer_1534457505100947.addStyle({\"resi\": \"208\", \"chain\": \"A\"},{\"stick\": {\"colorscheme\": \"redCarbon\", \"radius\": 0.2}});\n\tviewer_1534457505100947.addStyle({\"resi\": \"208\", \"chain\": \"A\"},{\"sphere\": {\"color\": \"red\", \"opacity\": 0.6}});\n\tviewer_1534457505100947.addLabel(\"G->EA Pathogenic\",{\"fontSize\": 10, \"fontColor\": \"red\", \"backgroundColor\": \"ivory\"},{\"resi\": \"208\", \"chain\": \"A\"});\n\tviewer_1534457505100947.addStyle({\"resi\": \"148\", \"chain\": \"A\"},{\"stick\": {\"colorscheme\": \"redCarbon\", \"radius\": 0.2}});\n\tviewer_1534457505100947.addStyle({\"resi\": \"148\", \"chain\": \"A\"},{\"sphere\": {\"color\": \"red\", \"opacity\": 0.6}});\n\tviewer_1534457505100947.addLabel(\"D->N Pathogenic\",{\"fontSize\": 10, \"fontColor\": \"red\", \"backgroundColor\": \"ivory\"},{\"resi\": \"148\", \"chain\": \"A\"});\n\tviewer_1534457505100947.addStyle({\"resi\": \"9\", \"chain\": \"A\"},{\"stick\": {\"colorscheme\": \"palevioletredCarbon\", \"radius\": 0.2}});\n\tviewer_1534457505100947.addStyle({\"resi\": \"9\", \"chain\": \"A\"},{\"sphere\": {\"color\": \"palevioletred\", \"opacity\": 0.6}});\n\tviewer_1534457505100947.addLabel(\"C->*AY Likely pathogenic\",{\"fontSize\": 10, \"fontColor\": \"palevioletred\", \"backgroundColor\": \"ivory\"},{\"resi\": \"9\", \"chain\": \"A\"});\n\tviewer_1534457505100947.addStyle({\"resi\": \"231\", \"chain\": \"A\"},{\"stick\": {\"colorscheme\": \"redCarbon\", \"radius\": 0.2}});\n\tviewer_1534457505100947.addStyle({\"resi\": \"231\", \"chain\": \"A\"},{\"sphere\": {\"color\": \"red\", \"opacity\": 0.6}});\n\tviewer_1534457505100947.addLabel(\"V->M Pathogenic\",{\"fontSize\": 10, \"fontColor\": \"red\", \"backgroundColor\": \"ivory\"},{\"resi\": \"231\", \"chain\": \"A\"});\n\tviewer_1534457505100947.addStyle({\"resi\": \"18\", \"chain\": \"A\"},{\"stick\": {\"colorscheme\": \"palevioletredCarbon\", \"radius\": 0.2}});\n\tviewer_1534457505100947.addStyle({\"resi\": \"18\", \"chain\": \"A\"},{\"sphere\": {\"color\": \"palevioletred\", \"opacity\": 0.6}});\n\tviewer_1534457505100947.addLabel(\"T->S Likely pathogenic\",{\"fontSize\": 10, \"fontColor\": \"palevioletred\", \"backgroundColor\": \"ivory\"},{\"resi\": \"18\", \"chain\": \"A\"});\n\tviewer_1534457505100947.addStyle({\"resi\": \"241\", \"chain\": \"A\"},{\"stick\": {\"colorscheme\": \"redCarbon\", \"radius\": 0.2}});\n\tviewer_1534457505100947.addStyle({\"resi\": \"241\", \"chain\": \"A\"},{\"sphere\": {\"color\": \"red\", \"opacity\": 0.6}});\n\tviewer_1534457505100947.addLabel(\"C->S Pathogenic\",{\"fontSize\": 10, \"fontColor\": \"red\", \"backgroundColor\": \"ivory\"},{\"resi\": \"241\", \"chain\": \"A\"});\n\tviewer_1534457505100947.addStyle({\"resi\": \"129\", \"chain\": \"A\"},{\"stick\": {\"colorscheme\": \"redCarbon\", \"radius\": 0.2}});\n\tviewer_1534457505100947.addStyle({\"resi\": \"129\", \"chain\": \"A\"},{\"sphere\": {\"color\": \"red\", \"opacity\": 0.6}});\n\tviewer_1534457505100947.addLabel(\"V->M Pathogenic\",{\"fontSize\": 10, \"fontColor\": \"red\", \"backgroundColor\": \"ivory\"},{\"resi\": \"129\", \"chain\": \"A\"});\n\tviewer_1534457505100947.addStyle({\"resi\": \"116\", \"chain\": \"A\"},{\"stick\": {\"colorscheme\": \"palevioletredCarbon\", \"radius\": 0.2}});\n\tviewer_1534457505100947.addStyle({\"resi\": \"116\", \"chain\": \"A\"},{\"sphere\": {\"color\": \"palevioletred\", \"opacity\": 0.6}});\n\tviewer_1534457505100947.addLabel(\"R->E Likely pathogenic\",{\"fontSize\": 10, \"fontColor\": \"palevioletred\", \"backgroundColor\": \"ivory\"},{\"resi\": \"116\", \"chain\": \"A\"});\n\tviewer_1534457505100947.addStyle({\"resi\": \"119\", \"chain\": \"A\"},{\"stick\": {\"colorscheme\": \"redCarbon\", \"radius\": 0.2}});\n\tviewer_1534457505100947.addStyle({\"resi\": \"119\", \"chain\": \"A\"},{\"sphere\": {\"color\": \"red\", \"opacity\": 0.6}});\n\tviewer_1534457505100947.addLabel(\"F->L Pathogenic\",{\"fontSize\": 10, \"fontColor\": \"red\", \"backgroundColor\": \"ivory\"},{\"resi\": \"119\", \"chain\": \"A\"});\n\tviewer_1534457505100947.addStyle({\"resi\": \"108\", \"chain\": \"A\"},{\"stick\": {\"colorscheme\": \"redCarbon\", \"radius\": 0.2}});\n\tviewer_1534457505100947.addStyle({\"resi\": \"108\", \"chain\": \"A\"},{\"sphere\": {\"color\": \"red\", \"opacity\": 0.6}});\n\tviewer_1534457505100947.addLabel(\"A->V Pathogenic\",{\"fontSize\": 10, \"fontColor\": \"red\", \"backgroundColor\": \"ivory\"},{\"resi\": \"108\", \"chain\": \"A\"});\n\tviewer_1534457505100947.addStyle({\"resi\": \"31\", \"chain\": \"A\"},{\"stick\": {\"colorscheme\": \"palevioletredCarbon\", \"radius\": 0.2}});\n\tviewer_1534457505100947.addStyle({\"resi\": \"31\", \"chain\": \"A\"},{\"sphere\": {\"color\": \"palevioletred\", \"opacity\": 0.6}});\n\tviewer_1534457505100947.addLabel(\"F->L Likely pathogenic\",{\"fontSize\": 10, \"fontColor\": \"palevioletred\", \"backgroundColor\": \"ivory\"},{\"resi\": \"31\", \"chain\": \"A\"});\n\tviewer_1534457505100947.addStyle({\"resi\": \"194\", \"chain\": \"A\"},{\"stick\": {\"colorscheme\": \"palevioletredCarbon\", \"radius\": 0.2}});\n\tviewer_1534457505100947.addStyle({\"resi\": \"194\", \"chain\": \"A\"},{\"sphere\": {\"color\": \"palevioletred\", \"opacity\": 0.6}});\n\tviewer_1534457505100947.addLabel(\"R->* Likely pathogenic\",{\"fontSize\": 10, \"fontColor\": \"palevioletred\", \"backgroundColor\": \"ivory\"},{\"resi\": \"194\", \"chain\": \"A\"});\n\tviewer_1534457505100947.addStyle({\"resi\": \"176\", \"chain\": \"A\"},{\"stick\": {\"colorscheme\": \"palevioletredCarbon\", \"radius\": 0.2}});\n\tviewer_1534457505100947.addStyle({\"resi\": \"176\", \"chain\": \"A\"},{\"sphere\": {\"color\": \"palevioletred\", \"opacity\": 0.6}});\n\tviewer_1534457505100947.addLabel(\"G->D Likely pathogenic\",{\"fontSize\": 10, \"fontColor\": \"palevioletred\", \"backgroundColor\": \"ivory\"},{\"resi\": \"176\", \"chain\": \"A\"});\n\tviewer_1534457505100947.addStyle({\"resi\": \"106\", \"chain\": \"A\"},{\"stick\": {\"colorscheme\": \"redCarbon\", \"radius\": 0.2}});\n\tviewer_1534457505100947.addStyle({\"resi\": \"106\", \"chain\": \"A\"},{\"sphere\": {\"color\": \"red\", \"opacity\": 0.6}});\n\tviewer_1534457505100947.addLabel(\"Y->F Pathogenic\",{\"fontSize\": 10, \"fontColor\": \"red\", \"backgroundColor\": \"ivory\"},{\"resi\": \"106\", \"chain\": \"A\"});\n\tviewer_1534457505100947.addStyle({\"resi\": \"216\", \"chain\": \"A\"},{\"stick\": {\"colorscheme\": \"redCarbon\", \"radius\": 0.2}});\n\tviewer_1534457505100947.addStyle({\"resi\": \"216\", \"chain\": \"A\"},{\"sphere\": {\"color\": \"red\", \"opacity\": 0.6}});\n\tviewer_1534457505100947.addLabel(\"N->S Pathogenic,Likely pathogenic\",{\"fontSize\": 10, \"fontColor\": \"red\", \"backgroundColor\": \"ivory\"},{\"resi\": \"216\", \"chain\": \"A\"});\n\tviewer_1534457505100947.addStyle({\"resi\": \"207\", \"chain\": \"A\"},{\"stick\": {\"colorscheme\": \"palevioletredCarbon\", \"radius\": 0.2}});\n\tviewer_1534457505100947.addStyle({\"resi\": \"207\", \"chain\": \"A\"},{\"sphere\": {\"color\": \"palevioletred\", \"opacity\": 0.6}});\n\tviewer_1534457505100947.addLabel(\"F->S Likely pathogenic\",{\"fontSize\": 10, \"fontColor\": \"palevioletred\", \"backgroundColor\": \"ivory\"},{\"resi\": \"207\", \"chain\": \"A\"});\n\tviewer_1534457505100947.addStyle({\"resi\": \"65\", \"chain\": \"A\"},{\"stick\": {\"colorscheme\": \"redCarbon\", \"radius\": 0.2}});\n\tviewer_1534457505100947.addStyle({\"resi\": \"65\", \"chain\": \"A\"},{\"sphere\": {\"color\": \"red\", \"opacity\": 0.6}});\n\tviewer_1534457505100947.addLabel(\"D->Y Pathogenic\",{\"fontSize\": 10, \"fontColor\": \"red\", \"backgroundColor\": \"ivory\"},{\"resi\": \"65\", \"chain\": \"A\"});\n\tviewer_1534457505100947.addStyle({\"resi\": \"237\", \"chain\": \"A\"},{\"stick\": {\"colorscheme\": \"redCarbon\", \"radius\": 0.2}});\n\tviewer_1534457505100947.addStyle({\"resi\": \"237\", \"chain\": \"A\"},{\"sphere\": {\"color\": \"red\", \"opacity\": 0.6}});\n\tviewer_1534457505100947.addLabel(\"T->MR Pathogenic\",{\"fontSize\": 10, \"fontColor\": \"red\", \"backgroundColor\": \"ivory\"},{\"resi\": \"237\", \"chain\": \"A\"});\n\tviewer_1534457505100947.addStyle({\"resi\": \"44\", \"chain\": \"A\"},{\"stick\": {\"colorscheme\": \"palevioletredCarbon\", \"radius\": 0.2}});\n\tviewer_1534457505100947.addStyle({\"resi\": \"44\", \"chain\": \"A\"},{\"sphere\": {\"color\": \"palevioletred\", \"opacity\": 0.6}});\n\tviewer_1534457505100947.addLabel(\"V->A Likely pathogenic\",{\"fontSize\": 10, \"fontColor\": \"palevioletred\", \"backgroundColor\": \"ivory\"},{\"resi\": \"44\", \"chain\": \"A\"});\n\tviewer_1534457505100947.addStyle({\"resi\": \"218\", \"chain\": \"A\"},{\"stick\": {\"colorscheme\": \"redCarbon\", \"radius\": 0.2}});\n\tviewer_1534457505100947.addStyle({\"resi\": \"218\", \"chain\": \"A\"},{\"sphere\": {\"color\": \"red\", \"opacity\": 0.6}});\n\tviewer_1534457505100947.addLabel(\"H->LD Pathogenic,Likely pathogenic\",{\"fontSize\": 10, \"fontColor\": \"red\", \"backgroundColor\": \"ivory\"},{\"resi\": \"218\", \"chain\": \"A\"});\n\tviewer_1534457505100947.addStyle({\"resi\": \"139\", \"chain\": \"A\"},{\"stick\": {\"colorscheme\": \"redCarbon\", \"radius\": 0.2}});\n\tviewer_1534457505100947.addStyle({\"resi\": \"139\", \"chain\": \"A\"},{\"sphere\": {\"color\": \"red\", \"opacity\": 0.6}});\n\tviewer_1534457505100947.addLabel(\"E->K Pathogenic,Likely pathogenic\",{\"fontSize\": 10, \"fontColor\": \"red\", \"backgroundColor\": \"ivory\"},{\"resi\": \"139\", \"chain\": \"A\"});\n\tviewer_1534457505100947.addStyle({\"resi\": \"43\", \"chain\": \"A\"},{\"stick\": {\"colorscheme\": \"palevioletredCarbon\", \"radius\": 0.2}});\n\tviewer_1534457505100947.addStyle({\"resi\": \"43\", \"chain\": \"A\"},{\"sphere\": {\"color\": \"palevioletred\", \"opacity\": 0.6}});\n\tviewer_1534457505100947.addLabel(\"V->L Likely pathogenic\",{\"fontSize\": 10, \"fontColor\": \"palevioletred\", \"backgroundColor\": \"ivory\"},{\"resi\": \"43\", \"chain\": \"A\"});\n\tviewer_1534457505100947.addStyle({\"resi\": \"144\", \"chain\": \"A\"},{\"stick\": {\"colorscheme\": \"palevioletredCarbon\", \"radius\": 0.2}});\n\tviewer_1534457505100947.addStyle({\"resi\": \"144\", \"chain\": \"A\"},{\"sphere\": {\"color\": \"palevioletred\", \"opacity\": 0.6}});\n\tviewer_1534457505100947.addLabel(\"F->L Likely pathogenic\",{\"fontSize\": 10, \"fontColor\": \"palevioletred\", \"backgroundColor\": \"ivory\"},{\"resi\": \"144\", \"chain\": \"A\"});\n\tviewer_1534457505100947.addStyle({\"resi\": \"53\", \"chain\": \"A\"},{\"stick\": {\"colorscheme\": \"redCarbon\", \"radius\": 0.2}});\n\tviewer_1534457505100947.addStyle({\"resi\": \"53\", \"chain\": \"A\"},{\"sphere\": {\"color\": \"red\", \"opacity\": 0.6}});\n\tviewer_1534457505100947.addLabel(\"Q->* Pathogenic\",{\"fontSize\": 10, \"fontColor\": \"red\", \"backgroundColor\": \"ivory\"},{\"resi\": \"53\", \"chain\": \"A\"});\n\tviewer_1534457505100947.addStyle({\"resi\": \"153\", \"chain\": \"A\"},{\"stick\": {\"colorscheme\": \"palevioletredCarbon\", \"radius\": 0.2}});\n\tviewer_1534457505100947.addStyle({\"resi\": \"153\", \"chain\": \"A\"},{\"sphere\": {\"color\": \"palevioletred\", \"opacity\": 0.6}});\n\tviewer_1534457505100947.addLabel(\"I->T Likely pathogenic\",{\"fontSize\": 10, \"fontColor\": \"palevioletred\", \"backgroundColor\": \"ivory\"},{\"resi\": \"153\", \"chain\": \"A\"});\n\tviewer_1534457505100947.addStyle({\"resi\": \"113\", \"chain\": \"A\"},{\"stick\": {\"colorscheme\": \"redCarbon\", \"radius\": 0.2}});\n\tviewer_1534457505100947.addStyle({\"resi\": \"113\", \"chain\": \"A\"},{\"sphere\": {\"color\": \"red\", \"opacity\": 0.6}});\n\tviewer_1534457505100947.addLabel(\"P->TSL Pathogenic,Likely pathogenic\",{\"fontSize\": 10, \"fontColor\": \"red\", \"backgroundColor\": \"ivory\"},{\"resi\": \"113\", \"chain\": \"A\"});\n\tviewer_1534457505100947.addStyle({\"resi\": \"223\", \"chain\": \"A\"},{\"stick\": {\"colorscheme\": \"redCarbon\", \"radius\": 0.2}});\n\tviewer_1534457505100947.addStyle({\"resi\": \"223\", \"chain\": \"A\"},{\"sphere\": {\"color\": \"red\", \"opacity\": 0.6}});\n\tviewer_1534457505100947.addLabel(\"D->E Pathogenic\",{\"fontSize\": 10, \"fontColor\": \"red\", \"backgroundColor\": \"ivory\"},{\"resi\": \"223\", \"chain\": \"A\"});\n\tviewer_1534457505100947.addStyle({\"resi\": \"117\", \"chain\": \"A\"},{\"stick\": {\"colorscheme\": \"redCarbon\", \"radius\": 0.2}});\n\tviewer_1534457505100947.addStyle({\"resi\": \"117\", \"chain\": \"A\"},{\"sphere\": {\"color\": \"red\", \"opacity\": 0.6}});\n\tviewer_1534457505100947.addLabel(\"G->R Pathogenic\",{\"fontSize\": 10, \"fontColor\": \"red\", \"backgroundColor\": \"ivory\"},{\"resi\": \"117\", \"chain\": \"A\"});\n\tviewer_1534457505100947.addStyle({\"resi\": \"104\", \"chain\": \"A\"},{\"stick\": {\"colorscheme\": \"redCarbon\", \"radius\": 0.2}});\n\tviewer_1534457505100947.addStyle({\"resi\": \"104\", \"chain\": \"A\"},{\"sphere\": {\"color\": \"red\", \"opacity\": 0.6}});\n\tviewer_1534457505100947.addLabel(\"L->V Pathogenic\",{\"fontSize\": 10, \"fontColor\": \"red\", \"backgroundColor\": \"ivory\"},{\"resi\": \"104\", \"chain\": \"A\"});\n\tviewer_1534457505100947.addStyle({\"resi\": \"162\", \"chain\": \"A\"},{\"stick\": {\"colorscheme\": \"redCarbon\", \"radius\": 0.2}});\n\tviewer_1534457505100947.addStyle({\"resi\": \"162\", \"chain\": \"A\"},{\"sphere\": {\"color\": \"red\", \"opacity\": 0.6}});\n\tviewer_1534457505100947.addLabel(\"R->W Pathogenic\",{\"fontSize\": 10, \"fontColor\": \"red\", \"backgroundColor\": \"ivory\"},{\"resi\": \"162\", \"chain\": \"A\"});\n\tviewer_1534457505100947.addStyle({\"resi\": \"123\", \"chain\": \"A\"},{\"stick\": {\"colorscheme\": \"redCarbon\", \"radius\": 0.2}});\n\tviewer_1534457505100947.addStyle({\"resi\": \"123\", \"chain\": \"A\"},{\"sphere\": {\"color\": \"red\", \"opacity\": 0.6}});\n\tviewer_1534457505100947.addLabel(\"R->*Q Pathogenic\",{\"fontSize\": 10, \"fontColor\": \"red\", \"backgroundColor\": \"ivory\"},{\"resi\": \"123\", \"chain\": \"A\"});\n\tviewer_1534457505100947.zoomTo({\"resi\": [\"63\", \"132\", \"69\", \"171\", \"226\", \"187\", \"32\", \"157\", \"141\", \"188\", \"208\", \"148\", \"9\", \"231\", \"18\", \"241\", \"129\", \"116\", \"119\", \"108\", \"31\", \"194\", \"176\", \"106\", \"216\", \"207\", \"65\", \"237\", \"44\", \"218\", \"139\", \"43\", \"144\", \"53\", \"153\", \"113\", \"223\", \"117\", \"104\", \"162\", \"123\"], \"chain\": \"A\"});\nviewer_1534457505100947.render();\n})\n});\n</script>",
          "text/html": "<div id=\"3dmolviewer_1534457505100947\"  style=\"position: relative; width: 640px; height: 480px\">\n        <p id=\"3dmolwarning_1534457505100947\" style=\"background-color:#ffcccc;color:black\">You appear to be running in JupyterLab.  You need to install the 3dmol extension: <br>\n        <tt>jupyter labextension install jupyterlab_3dmol</tt></p>\n        </div>\n<script>\n\nvar loadScriptAsync = function(uri){\n  return new Promise((resolve, reject) => {\n    var tag = document.createElement('script');\n    tag.src = uri;\n    tag.async = true;\n    tag.onload = () => {\n      resolve();\n    };\n  var firstScriptTag = document.getElementsByTagName('script')[0];\n  firstScriptTag.parentNode.insertBefore(tag, firstScriptTag);\n});\n};\n\nif(typeof $3Dmolpromise === 'undefined') {\n$3Dmolpromise = null;\n  $3Dmolpromise = loadScriptAsync('https://3dmol.csb.pitt.edu/build/3Dmol.js');\n}\n\nvar viewer_1534457505100947 = null;\nvar warn = document.getElementById(\"3dmolwarning_1534457505100947\");\nif(warn) {\n    warn.parentNode.removeChild(warn);\n}\n$3Dmolpromise.then(function() {\nviewer_1534457505100947 = $3Dmol.createViewer($(\"#3dmolviewer_1534457505100947\"),{backgroundColor:\"white\"});\n$3Dmol.download(\"pdb:2AMY\", viewer_1534457505100947, {\"doAssembly\": false}, function() {\n\tviewer_1534457505100947.setStyle({\"cartoon\": {\"colorscheme\": \"chain\", \"width\": 0.6, \"opacity\": 0.9}});\n\tviewer_1534457505100947.setStyle({\"hetflag\": true},{\"stick\": {\"radius\": 0.3, \"singleBond\": false}});\n\tviewer_1534457505100947.addStyle({\"chain\": \"A\", \"resi\": [\"63\", \"132\", \"69\", \"171\", \"226\", \"187\", \"32\", \"157\", \"141\", \"188\", \"208\", \"148\", \"9\", \"231\", \"18\", \"241\", \"129\", \"116\", \"119\", \"108\", \"31\", \"194\", \"176\", \"106\", \"216\", \"207\", \"65\", \"237\", \"44\", \"218\", \"139\", \"43\", \"144\", \"53\", \"153\", \"113\", \"223\", \"117\", \"104\", \"162\", \"123\"], \"byres\": true, \"expand\": 6},{\"stick\": {\"colorscheme\": \"orangeCarbon\", \"radius\": 0.15}});\n\tviewer_1534457505100947.addStyle({\"resi\": \"63\", \"chain\": \"A\"},{\"stick\": {\"colorscheme\": \"palevioletredCarbon\", \"radius\": 0.2}});\n\tviewer_1534457505100947.addStyle({\"resi\": \"63\", \"chain\": \"A\"},{\"sphere\": {\"color\": \"palevioletred\", \"opacity\": 0.6}});\n\tviewer_1534457505100947.addLabel(\"K->N Likely pathogenic\",{\"fontSize\": 10, \"fontColor\": \"palevioletred\", \"backgroundColor\": \"ivory\"},{\"resi\": \"63\", \"chain\": \"A\"});\n\tviewer_1534457505100947.addStyle({\"resi\": \"132\", \"chain\": \"A\"},{\"stick\": {\"colorscheme\": \"palevioletredCarbon\", \"radius\": 0.2}});\n\tviewer_1534457505100947.addStyle({\"resi\": \"132\", \"chain\": \"A\"},{\"sphere\": {\"color\": \"palevioletred\", \"opacity\": 0.6}});\n\tviewer_1534457505100947.addLabel(\"I->T Likely pathogenic\",{\"fontSize\": 10, \"fontColor\": \"palevioletred\", \"backgroundColor\": \"ivory\"},{\"resi\": \"132\", \"chain\": \"A\"});\n\tviewer_1534457505100947.addStyle({\"resi\": \"69\", \"chain\": \"A\"},{\"stick\": {\"colorscheme\": \"palevioletredCarbon\", \"radius\": 0.2}});\n\tviewer_1534457505100947.addStyle({\"resi\": \"69\", \"chain\": \"A\"},{\"sphere\": {\"color\": \"palevioletred\", \"opacity\": 0.6}});\n\tviewer_1534457505100947.addLabel(\"P->SA Likely pathogenic\",{\"fontSize\": 10, \"fontColor\": \"palevioletred\", \"backgroundColor\": \"ivory\"},{\"resi\": \"69\", \"chain\": \"A\"});\n\tviewer_1534457505100947.addStyle({\"resi\": \"171\", \"chain\": \"A\"},{\"stick\": {\"colorscheme\": \"palevioletredCarbon\", \"radius\": 0.2}});\n\tviewer_1534457505100947.addStyle({\"resi\": \"171\", \"chain\": \"A\"},{\"sphere\": {\"color\": \"palevioletred\", \"opacity\": 0.6}});\n\tviewer_1534457505100947.addLabel(\"T->N Likely pathogenic\",{\"fontSize\": 10, \"fontColor\": \"palevioletred\", \"backgroundColor\": \"ivory\"},{\"resi\": \"171\", \"chain\": \"A\"});\n\tviewer_1534457505100947.addStyle({\"resi\": \"226\", \"chain\": \"A\"},{\"stick\": {\"colorscheme\": \"redCarbon\", \"radius\": 0.2}});\n\tviewer_1534457505100947.addStyle({\"resi\": \"226\", \"chain\": \"A\"},{\"sphere\": {\"color\": \"red\", \"opacity\": 0.6}});\n\tviewer_1534457505100947.addLabel(\"T->S Pathogenic\",{\"fontSize\": 10, \"fontColor\": \"red\", \"backgroundColor\": \"ivory\"},{\"resi\": \"226\", \"chain\": \"A\"});\n\tviewer_1534457505100947.addStyle({\"resi\": \"187\", \"chain\": \"A\"},{\"stick\": {\"colorscheme\": \"palevioletredCarbon\", \"radius\": 0.2}});\n\tviewer_1534457505100947.addStyle({\"resi\": \"187\", \"chain\": \"A\"},{\"sphere\": {\"color\": \"palevioletred\", \"opacity\": 0.6}});\n\tviewer_1534457505100947.addLabel(\"W->* Likely pathogenic\",{\"fontSize\": 10, \"fontColor\": \"palevioletred\", \"backgroundColor\": \"ivory\"},{\"resi\": \"187\", \"chain\": \"A\"});\n\tviewer_1534457505100947.addStyle({\"resi\": \"32\", \"chain\": \"A\"},{\"stick\": {\"colorscheme\": \"redCarbon\", \"radius\": 0.2}});\n\tviewer_1534457505100947.addStyle({\"resi\": \"32\", \"chain\": \"A\"},{\"sphere\": {\"color\": \"red\", \"opacity\": 0.6}});\n\tviewer_1534457505100947.addLabel(\"L->R Pathogenic\",{\"fontSize\": 10, \"fontColor\": \"red\", \"backgroundColor\": \"ivory\"},{\"resi\": \"32\", \"chain\": \"A\"});\n\tviewer_1534457505100947.addStyle({\"resi\": \"157\", \"chain\": \"A\"},{\"stick\": {\"colorscheme\": \"redCarbon\", \"radius\": 0.2}});\n\tviewer_1534457505100947.addStyle({\"resi\": \"157\", \"chain\": \"A\"},{\"sphere\": {\"color\": \"red\", \"opacity\": 0.6}});\n\tviewer_1534457505100947.addLabel(\"F->S Pathogenic\",{\"fontSize\": 10, \"fontColor\": \"red\", \"backgroundColor\": \"ivory\"},{\"resi\": \"157\", \"chain\": \"A\"});\n\tviewer_1534457505100947.addStyle({\"resi\": \"141\", \"chain\": \"A\"},{\"stick\": {\"colorscheme\": \"redCarbon\", \"radius\": 0.2}});\n\tviewer_1534457505100947.addStyle({\"resi\": \"141\", \"chain\": \"A\"},{\"sphere\": {\"color\": \"red\", \"opacity\": 0.6}});\n\tviewer_1534457505100947.addLabel(\"R->H Pathogenic\",{\"fontSize\": 10, \"fontColor\": \"red\", \"backgroundColor\": \"ivory\"},{\"resi\": \"141\", \"chain\": \"A\"});\n\tviewer_1534457505100947.addStyle({\"resi\": \"188\", \"chain\": \"A\"},{\"stick\": {\"colorscheme\": \"redCarbon\", \"radius\": 0.2}});\n\tviewer_1534457505100947.addStyle({\"resi\": \"188\", \"chain\": \"A\"},{\"sphere\": {\"color\": \"red\", \"opacity\": 0.6}});\n\tviewer_1534457505100947.addLabel(\"D->G Pathogenic\",{\"fontSize\": 10, \"fontColor\": \"red\", \"backgroundColor\": \"ivory\"},{\"resi\": \"188\", \"chain\": \"A\"});\n\tviewer_1534457505100947.addStyle({\"resi\": \"208\", \"chain\": \"A\"},{\"stick\": {\"colorscheme\": \"redCarbon\", \"radius\": 0.2}});\n\tviewer_1534457505100947.addStyle({\"resi\": \"208\", \"chain\": \"A\"},{\"sphere\": {\"color\": \"red\", \"opacity\": 0.6}});\n\tviewer_1534457505100947.addLabel(\"G->EA Pathogenic\",{\"fontSize\": 10, \"fontColor\": \"red\", \"backgroundColor\": \"ivory\"},{\"resi\": \"208\", \"chain\": \"A\"});\n\tviewer_1534457505100947.addStyle({\"resi\": \"148\", \"chain\": \"A\"},{\"stick\": {\"colorscheme\": \"redCarbon\", \"radius\": 0.2}});\n\tviewer_1534457505100947.addStyle({\"resi\": \"148\", \"chain\": \"A\"},{\"sphere\": {\"color\": \"red\", \"opacity\": 0.6}});\n\tviewer_1534457505100947.addLabel(\"D->N Pathogenic\",{\"fontSize\": 10, \"fontColor\": \"red\", \"backgroundColor\": \"ivory\"},{\"resi\": \"148\", \"chain\": \"A\"});\n\tviewer_1534457505100947.addStyle({\"resi\": \"9\", \"chain\": \"A\"},{\"stick\": {\"colorscheme\": \"palevioletredCarbon\", \"radius\": 0.2}});\n\tviewer_1534457505100947.addStyle({\"resi\": \"9\", \"chain\": \"A\"},{\"sphere\": {\"color\": \"palevioletred\", \"opacity\": 0.6}});\n\tviewer_1534457505100947.addLabel(\"C->*AY Likely pathogenic\",{\"fontSize\": 10, \"fontColor\": \"palevioletred\", \"backgroundColor\": \"ivory\"},{\"resi\": \"9\", \"chain\": \"A\"});\n\tviewer_1534457505100947.addStyle({\"resi\": \"231\", \"chain\": \"A\"},{\"stick\": {\"colorscheme\": \"redCarbon\", \"radius\": 0.2}});\n\tviewer_1534457505100947.addStyle({\"resi\": \"231\", \"chain\": \"A\"},{\"sphere\": {\"color\": \"red\", \"opacity\": 0.6}});\n\tviewer_1534457505100947.addLabel(\"V->M Pathogenic\",{\"fontSize\": 10, \"fontColor\": \"red\", \"backgroundColor\": \"ivory\"},{\"resi\": \"231\", \"chain\": \"A\"});\n\tviewer_1534457505100947.addStyle({\"resi\": \"18\", \"chain\": \"A\"},{\"stick\": {\"colorscheme\": \"palevioletredCarbon\", \"radius\": 0.2}});\n\tviewer_1534457505100947.addStyle({\"resi\": \"18\", \"chain\": \"A\"},{\"sphere\": {\"color\": \"palevioletred\", \"opacity\": 0.6}});\n\tviewer_1534457505100947.addLabel(\"T->S Likely pathogenic\",{\"fontSize\": 10, \"fontColor\": \"palevioletred\", \"backgroundColor\": \"ivory\"},{\"resi\": \"18\", \"chain\": \"A\"});\n\tviewer_1534457505100947.addStyle({\"resi\": \"241\", \"chain\": \"A\"},{\"stick\": {\"colorscheme\": \"redCarbon\", \"radius\": 0.2}});\n\tviewer_1534457505100947.addStyle({\"resi\": \"241\", \"chain\": \"A\"},{\"sphere\": {\"color\": \"red\", \"opacity\": 0.6}});\n\tviewer_1534457505100947.addLabel(\"C->S Pathogenic\",{\"fontSize\": 10, \"fontColor\": \"red\", \"backgroundColor\": \"ivory\"},{\"resi\": \"241\", \"chain\": \"A\"});\n\tviewer_1534457505100947.addStyle({\"resi\": \"129\", \"chain\": \"A\"},{\"stick\": {\"colorscheme\": \"redCarbon\", \"radius\": 0.2}});\n\tviewer_1534457505100947.addStyle({\"resi\": \"129\", \"chain\": \"A\"},{\"sphere\": {\"color\": \"red\", \"opacity\": 0.6}});\n\tviewer_1534457505100947.addLabel(\"V->M Pathogenic\",{\"fontSize\": 10, \"fontColor\": \"red\", \"backgroundColor\": \"ivory\"},{\"resi\": \"129\", \"chain\": \"A\"});\n\tviewer_1534457505100947.addStyle({\"resi\": \"116\", \"chain\": \"A\"},{\"stick\": {\"colorscheme\": \"palevioletredCarbon\", \"radius\": 0.2}});\n\tviewer_1534457505100947.addStyle({\"resi\": \"116\", \"chain\": \"A\"},{\"sphere\": {\"color\": \"palevioletred\", \"opacity\": 0.6}});\n\tviewer_1534457505100947.addLabel(\"R->E Likely pathogenic\",{\"fontSize\": 10, \"fontColor\": \"palevioletred\", \"backgroundColor\": \"ivory\"},{\"resi\": \"116\", \"chain\": \"A\"});\n\tviewer_1534457505100947.addStyle({\"resi\": \"119\", \"chain\": \"A\"},{\"stick\": {\"colorscheme\": \"redCarbon\", \"radius\": 0.2}});\n\tviewer_1534457505100947.addStyle({\"resi\": \"119\", \"chain\": \"A\"},{\"sphere\": {\"color\": \"red\", \"opacity\": 0.6}});\n\tviewer_1534457505100947.addLabel(\"F->L Pathogenic\",{\"fontSize\": 10, \"fontColor\": \"red\", \"backgroundColor\": \"ivory\"},{\"resi\": \"119\", \"chain\": \"A\"});\n\tviewer_1534457505100947.addStyle({\"resi\": \"108\", \"chain\": \"A\"},{\"stick\": {\"colorscheme\": \"redCarbon\", \"radius\": 0.2}});\n\tviewer_1534457505100947.addStyle({\"resi\": \"108\", \"chain\": \"A\"},{\"sphere\": {\"color\": \"red\", \"opacity\": 0.6}});\n\tviewer_1534457505100947.addLabel(\"A->V Pathogenic\",{\"fontSize\": 10, \"fontColor\": \"red\", \"backgroundColor\": \"ivory\"},{\"resi\": \"108\", \"chain\": \"A\"});\n\tviewer_1534457505100947.addStyle({\"resi\": \"31\", \"chain\": \"A\"},{\"stick\": {\"colorscheme\": \"palevioletredCarbon\", \"radius\": 0.2}});\n\tviewer_1534457505100947.addStyle({\"resi\": \"31\", \"chain\": \"A\"},{\"sphere\": {\"color\": \"palevioletred\", \"opacity\": 0.6}});\n\tviewer_1534457505100947.addLabel(\"F->L Likely pathogenic\",{\"fontSize\": 10, \"fontColor\": \"palevioletred\", \"backgroundColor\": \"ivory\"},{\"resi\": \"31\", \"chain\": \"A\"});\n\tviewer_1534457505100947.addStyle({\"resi\": \"194\", \"chain\": \"A\"},{\"stick\": {\"colorscheme\": \"palevioletredCarbon\", \"radius\": 0.2}});\n\tviewer_1534457505100947.addStyle({\"resi\": \"194\", \"chain\": \"A\"},{\"sphere\": {\"color\": \"palevioletred\", \"opacity\": 0.6}});\n\tviewer_1534457505100947.addLabel(\"R->* Likely pathogenic\",{\"fontSize\": 10, \"fontColor\": \"palevioletred\", \"backgroundColor\": \"ivory\"},{\"resi\": \"194\", \"chain\": \"A\"});\n\tviewer_1534457505100947.addStyle({\"resi\": \"176\", \"chain\": \"A\"},{\"stick\": {\"colorscheme\": \"palevioletredCarbon\", \"radius\": 0.2}});\n\tviewer_1534457505100947.addStyle({\"resi\": \"176\", \"chain\": \"A\"},{\"sphere\": {\"color\": \"palevioletred\", \"opacity\": 0.6}});\n\tviewer_1534457505100947.addLabel(\"G->D Likely pathogenic\",{\"fontSize\": 10, \"fontColor\": \"palevioletred\", \"backgroundColor\": \"ivory\"},{\"resi\": \"176\", \"chain\": \"A\"});\n\tviewer_1534457505100947.addStyle({\"resi\": \"106\", \"chain\": \"A\"},{\"stick\": {\"colorscheme\": \"redCarbon\", \"radius\": 0.2}});\n\tviewer_1534457505100947.addStyle({\"resi\": \"106\", \"chain\": \"A\"},{\"sphere\": {\"color\": \"red\", \"opacity\": 0.6}});\n\tviewer_1534457505100947.addLabel(\"Y->F Pathogenic\",{\"fontSize\": 10, \"fontColor\": \"red\", \"backgroundColor\": \"ivory\"},{\"resi\": \"106\", \"chain\": \"A\"});\n\tviewer_1534457505100947.addStyle({\"resi\": \"216\", \"chain\": \"A\"},{\"stick\": {\"colorscheme\": \"redCarbon\", \"radius\": 0.2}});\n\tviewer_1534457505100947.addStyle({\"resi\": \"216\", \"chain\": \"A\"},{\"sphere\": {\"color\": \"red\", \"opacity\": 0.6}});\n\tviewer_1534457505100947.addLabel(\"N->S Pathogenic,Likely pathogenic\",{\"fontSize\": 10, \"fontColor\": \"red\", \"backgroundColor\": \"ivory\"},{\"resi\": \"216\", \"chain\": \"A\"});\n\tviewer_1534457505100947.addStyle({\"resi\": \"207\", \"chain\": \"A\"},{\"stick\": {\"colorscheme\": \"palevioletredCarbon\", \"radius\": 0.2}});\n\tviewer_1534457505100947.addStyle({\"resi\": \"207\", \"chain\": \"A\"},{\"sphere\": {\"color\": \"palevioletred\", \"opacity\": 0.6}});\n\tviewer_1534457505100947.addLabel(\"F->S Likely pathogenic\",{\"fontSize\": 10, \"fontColor\": \"palevioletred\", \"backgroundColor\": \"ivory\"},{\"resi\": \"207\", \"chain\": \"A\"});\n\tviewer_1534457505100947.addStyle({\"resi\": \"65\", \"chain\": \"A\"},{\"stick\": {\"colorscheme\": \"redCarbon\", \"radius\": 0.2}});\n\tviewer_1534457505100947.addStyle({\"resi\": \"65\", \"chain\": \"A\"},{\"sphere\": {\"color\": \"red\", \"opacity\": 0.6}});\n\tviewer_1534457505100947.addLabel(\"D->Y Pathogenic\",{\"fontSize\": 10, \"fontColor\": \"red\", \"backgroundColor\": \"ivory\"},{\"resi\": \"65\", \"chain\": \"A\"});\n\tviewer_1534457505100947.addStyle({\"resi\": \"237\", \"chain\": \"A\"},{\"stick\": {\"colorscheme\": \"redCarbon\", \"radius\": 0.2}});\n\tviewer_1534457505100947.addStyle({\"resi\": \"237\", \"chain\": \"A\"},{\"sphere\": {\"color\": \"red\", \"opacity\": 0.6}});\n\tviewer_1534457505100947.addLabel(\"T->MR Pathogenic\",{\"fontSize\": 10, \"fontColor\": \"red\", \"backgroundColor\": \"ivory\"},{\"resi\": \"237\", \"chain\": \"A\"});\n\tviewer_1534457505100947.addStyle({\"resi\": \"44\", \"chain\": \"A\"},{\"stick\": {\"colorscheme\": \"palevioletredCarbon\", \"radius\": 0.2}});\n\tviewer_1534457505100947.addStyle({\"resi\": \"44\", \"chain\": \"A\"},{\"sphere\": {\"color\": \"palevioletred\", \"opacity\": 0.6}});\n\tviewer_1534457505100947.addLabel(\"V->A Likely pathogenic\",{\"fontSize\": 10, \"fontColor\": \"palevioletred\", \"backgroundColor\": \"ivory\"},{\"resi\": \"44\", \"chain\": \"A\"});\n\tviewer_1534457505100947.addStyle({\"resi\": \"218\", \"chain\": \"A\"},{\"stick\": {\"colorscheme\": \"redCarbon\", \"radius\": 0.2}});\n\tviewer_1534457505100947.addStyle({\"resi\": \"218\", \"chain\": \"A\"},{\"sphere\": {\"color\": \"red\", \"opacity\": 0.6}});\n\tviewer_1534457505100947.addLabel(\"H->LD Pathogenic,Likely pathogenic\",{\"fontSize\": 10, \"fontColor\": \"red\", \"backgroundColor\": \"ivory\"},{\"resi\": \"218\", \"chain\": \"A\"});\n\tviewer_1534457505100947.addStyle({\"resi\": \"139\", \"chain\": \"A\"},{\"stick\": {\"colorscheme\": \"redCarbon\", \"radius\": 0.2}});\n\tviewer_1534457505100947.addStyle({\"resi\": \"139\", \"chain\": \"A\"},{\"sphere\": {\"color\": \"red\", \"opacity\": 0.6}});\n\tviewer_1534457505100947.addLabel(\"E->K Pathogenic,Likely pathogenic\",{\"fontSize\": 10, \"fontColor\": \"red\", \"backgroundColor\": \"ivory\"},{\"resi\": \"139\", \"chain\": \"A\"});\n\tviewer_1534457505100947.addStyle({\"resi\": \"43\", \"chain\": \"A\"},{\"stick\": {\"colorscheme\": \"palevioletredCarbon\", \"radius\": 0.2}});\n\tviewer_1534457505100947.addStyle({\"resi\": \"43\", \"chain\": \"A\"},{\"sphere\": {\"color\": \"palevioletred\", \"opacity\": 0.6}});\n\tviewer_1534457505100947.addLabel(\"V->L Likely pathogenic\",{\"fontSize\": 10, \"fontColor\": \"palevioletred\", \"backgroundColor\": \"ivory\"},{\"resi\": \"43\", \"chain\": \"A\"});\n\tviewer_1534457505100947.addStyle({\"resi\": \"144\", \"chain\": \"A\"},{\"stick\": {\"colorscheme\": \"palevioletredCarbon\", \"radius\": 0.2}});\n\tviewer_1534457505100947.addStyle({\"resi\": \"144\", \"chain\": \"A\"},{\"sphere\": {\"color\": \"palevioletred\", \"opacity\": 0.6}});\n\tviewer_1534457505100947.addLabel(\"F->L Likely pathogenic\",{\"fontSize\": 10, \"fontColor\": \"palevioletred\", \"backgroundColor\": \"ivory\"},{\"resi\": \"144\", \"chain\": \"A\"});\n\tviewer_1534457505100947.addStyle({\"resi\": \"53\", \"chain\": \"A\"},{\"stick\": {\"colorscheme\": \"redCarbon\", \"radius\": 0.2}});\n\tviewer_1534457505100947.addStyle({\"resi\": \"53\", \"chain\": \"A\"},{\"sphere\": {\"color\": \"red\", \"opacity\": 0.6}});\n\tviewer_1534457505100947.addLabel(\"Q->* Pathogenic\",{\"fontSize\": 10, \"fontColor\": \"red\", \"backgroundColor\": \"ivory\"},{\"resi\": \"53\", \"chain\": \"A\"});\n\tviewer_1534457505100947.addStyle({\"resi\": \"153\", \"chain\": \"A\"},{\"stick\": {\"colorscheme\": \"palevioletredCarbon\", \"radius\": 0.2}});\n\tviewer_1534457505100947.addStyle({\"resi\": \"153\", \"chain\": \"A\"},{\"sphere\": {\"color\": \"palevioletred\", \"opacity\": 0.6}});\n\tviewer_1534457505100947.addLabel(\"I->T Likely pathogenic\",{\"fontSize\": 10, \"fontColor\": \"palevioletred\", \"backgroundColor\": \"ivory\"},{\"resi\": \"153\", \"chain\": \"A\"});\n\tviewer_1534457505100947.addStyle({\"resi\": \"113\", \"chain\": \"A\"},{\"stick\": {\"colorscheme\": \"redCarbon\", \"radius\": 0.2}});\n\tviewer_1534457505100947.addStyle({\"resi\": \"113\", \"chain\": \"A\"},{\"sphere\": {\"color\": \"red\", \"opacity\": 0.6}});\n\tviewer_1534457505100947.addLabel(\"P->TSL Pathogenic,Likely pathogenic\",{\"fontSize\": 10, \"fontColor\": \"red\", \"backgroundColor\": \"ivory\"},{\"resi\": \"113\", \"chain\": \"A\"});\n\tviewer_1534457505100947.addStyle({\"resi\": \"223\", \"chain\": \"A\"},{\"stick\": {\"colorscheme\": \"redCarbon\", \"radius\": 0.2}});\n\tviewer_1534457505100947.addStyle({\"resi\": \"223\", \"chain\": \"A\"},{\"sphere\": {\"color\": \"red\", \"opacity\": 0.6}});\n\tviewer_1534457505100947.addLabel(\"D->E Pathogenic\",{\"fontSize\": 10, \"fontColor\": \"red\", \"backgroundColor\": \"ivory\"},{\"resi\": \"223\", \"chain\": \"A\"});\n\tviewer_1534457505100947.addStyle({\"resi\": \"117\", \"chain\": \"A\"},{\"stick\": {\"colorscheme\": \"redCarbon\", \"radius\": 0.2}});\n\tviewer_1534457505100947.addStyle({\"resi\": \"117\", \"chain\": \"A\"},{\"sphere\": {\"color\": \"red\", \"opacity\": 0.6}});\n\tviewer_1534457505100947.addLabel(\"G->R Pathogenic\",{\"fontSize\": 10, \"fontColor\": \"red\", \"backgroundColor\": \"ivory\"},{\"resi\": \"117\", \"chain\": \"A\"});\n\tviewer_1534457505100947.addStyle({\"resi\": \"104\", \"chain\": \"A\"},{\"stick\": {\"colorscheme\": \"redCarbon\", \"radius\": 0.2}});\n\tviewer_1534457505100947.addStyle({\"resi\": \"104\", \"chain\": \"A\"},{\"sphere\": {\"color\": \"red\", \"opacity\": 0.6}});\n\tviewer_1534457505100947.addLabel(\"L->V Pathogenic\",{\"fontSize\": 10, \"fontColor\": \"red\", \"backgroundColor\": \"ivory\"},{\"resi\": \"104\", \"chain\": \"A\"});\n\tviewer_1534457505100947.addStyle({\"resi\": \"162\", \"chain\": \"A\"},{\"stick\": {\"colorscheme\": \"redCarbon\", \"radius\": 0.2}});\n\tviewer_1534457505100947.addStyle({\"resi\": \"162\", \"chain\": \"A\"},{\"sphere\": {\"color\": \"red\", \"opacity\": 0.6}});\n\tviewer_1534457505100947.addLabel(\"R->W Pathogenic\",{\"fontSize\": 10, \"fontColor\": \"red\", \"backgroundColor\": \"ivory\"},{\"resi\": \"162\", \"chain\": \"A\"});\n\tviewer_1534457505100947.addStyle({\"resi\": \"123\", \"chain\": \"A\"},{\"stick\": {\"colorscheme\": \"redCarbon\", \"radius\": 0.2}});\n\tviewer_1534457505100947.addStyle({\"resi\": \"123\", \"chain\": \"A\"},{\"sphere\": {\"color\": \"red\", \"opacity\": 0.6}});\n\tviewer_1534457505100947.addLabel(\"R->*Q Pathogenic\",{\"fontSize\": 10, \"fontColor\": \"red\", \"backgroundColor\": \"ivory\"},{\"resi\": \"123\", \"chain\": \"A\"});\n\tviewer_1534457505100947.zoomTo({\"resi\": [\"63\", \"132\", \"69\", \"171\", \"226\", \"187\", \"32\", \"157\", \"141\", \"188\", \"208\", \"148\", \"9\", \"231\", \"18\", \"241\", \"129\", \"116\", \"119\", \"108\", \"31\", \"194\", \"176\", \"106\", \"216\", \"207\", \"65\", \"237\", \"44\", \"218\", \"139\", \"43\", \"144\", \"53\", \"153\", \"113\", \"223\", \"117\", \"104\", \"162\", \"123\"], \"chain\": \"A\"});\nviewer_1534457505100947.render();\n})\n});\n</script>"
         },
         "metadata": {},
         "output_type": "display_data"
        }
       ]
      }
     },
     "e22baa7ec6be455fa6b11306d9c43bf0": {
      "model_module": "@jupyter-widgets/base",
      "model_module_version": "1.1.0",
      "model_name": "LayoutModel",
      "state": {}
     },
     "e2333e68ae2441dc92749f0be8e12590": {
      "model_module": "@jupyter-widgets/base",
      "model_module_version": "1.1.0",
      "model_name": "LayoutModel",
      "state": {}
     },
     "e24b480e11944852a1d95c56eed32a4e": {
      "model_module": "@jupyter-widgets/controls",
      "model_module_version": "1.3.0",
      "model_name": "CheckboxModel",
      "state": {
       "description": "show_labels",
       "disabled": false,
       "layout": "IPY_MODEL_420b1d136d0b4635add2dd91e55ee751",
       "style": "IPY_MODEL_376436867e1b4da58501edaa649fdc59",
       "value": true
      }
     },
     "e2e8e6b8bb5a456c8523b7ce7cb8ee8b": {
      "model_module": "@jupyter-widgets/base",
      "model_module_version": "1.1.0",
      "model_name": "LayoutModel",
      "state": {}
     },
     "e3365a1f6f1d4c6c9066bf445194e449": {
      "model_module": "@jupyter-widgets/controls",
      "model_module_version": "1.3.0",
      "model_name": "CheckboxModel",
      "state": {
       "description": "show_bio_assembly",
       "disabled": false,
       "layout": "IPY_MODEL_1c246c59f31042319297887575f94867",
       "style": "IPY_MODEL_774d56b3f4414722b6724427b9ff6ae3",
       "value": false
      }
     },
     "e594f69f788546fa87d6a5936a58f71b": {
      "model_module": "@jupyter-widgets/controls",
      "model_module_version": "1.3.0",
      "model_name": "DescriptionStyleModel",
      "state": {
       "description_width": ""
      }
     },
     "e5cebe2cd7534d67891a689e2fffe6ea": {
      "model_module": "@jupyter-widgets/base",
      "model_module_version": "1.1.0",
      "model_name": "LayoutModel",
      "state": {}
     },
     "e686b22682524526aa7dcc6b6a0694d9": {
      "model_module": "@jupyter-widgets/base",
      "model_module_version": "1.1.0",
      "model_name": "LayoutModel",
      "state": {}
     },
     "e762cbc7b748429593c08341d04130d5": {
      "model_module": "@jupyter-widgets/output",
      "model_module_version": "1.0.0",
      "model_name": "OutputModel",
      "state": {
       "layout": "IPY_MODEL_2ec7dd1872bb4ceda671cf3c0034c590",
       "outputs": [
        {
         "name": "stdout",
         "output_type": "stream",
         "text": "PDB Id: 2AMY chain Id: A\nuniprotId: O15305\n"
        },
        {
         "data": {
          "application/3dmoljs_load.v0": "<div id=\"3dmolviewer_1534463497264141\"  style=\"position: relative; width: 640px; height: 480px\">\n        <p id=\"3dmolwarning_1534463497264141\" style=\"background-color:#ffcccc;color:black\">You appear to be running in JupyterLab.  You need to install the 3dmol extension: <br>\n        <tt>jupyter labextension install jupyterlab_3dmol</tt></p>\n        </div>\n<script>\n\nvar loadScriptAsync = function(uri){\n  return new Promise((resolve, reject) => {\n    var tag = document.createElement('script');\n    tag.src = uri;\n    tag.async = true;\n    tag.onload = () => {\n      resolve();\n    };\n  var firstScriptTag = document.getElementsByTagName('script')[0];\n  firstScriptTag.parentNode.insertBefore(tag, firstScriptTag);\n});\n};\n\nif(typeof $3Dmolpromise === 'undefined') {\n$3Dmolpromise = null;\n  $3Dmolpromise = loadScriptAsync('https://3dmol.csb.pitt.edu/build/3Dmol.js');\n}\n\nvar viewer_1534463497264141 = null;\nvar warn = document.getElementById(\"3dmolwarning_1534463497264141\");\nif(warn) {\n    warn.parentNode.removeChild(warn);\n}\n$3Dmolpromise.then(function() {\nviewer_1534463497264141 = $3Dmol.createViewer($(\"#3dmolviewer_1534463497264141\"),{backgroundColor:\"white\"});\n$3Dmol.download(\"pdb:2AMY\", viewer_1534463497264141, {\"doAssembly\": false}, function() {\n\tviewer_1534463497264141.setStyle({\"sphere\": {\"colorscheme\": \"chain\", \"opacity\": 0.6}});\n\tviewer_1534463497264141.setStyle({\"hetflag\": true},{\"stick\": {\"radius\": 0.3, \"singleBond\": false}});\n\tviewer_1534463497264141.setStyle({\"resi\": \"63\", \"chain\": \"A\"},{\"sphere\": {\"color\": \"palevioletred\"}});\n\tviewer_1534463497264141.addLabel(\"K->N Likely pathogenic\",{\"fontSize\": 10, \"fontColor\": \"palevioletred\", \"backgroundColor\": \"ivory\"},{\"resi\": \"63\", \"chain\": \"A\"});\n\tviewer_1534463497264141.setStyle({\"resi\": \"132\", \"chain\": \"A\"},{\"sphere\": {\"color\": \"palevioletred\"}});\n\tviewer_1534463497264141.addLabel(\"I->T Likely pathogenic\",{\"fontSize\": 10, \"fontColor\": \"palevioletred\", \"backgroundColor\": \"ivory\"},{\"resi\": \"132\", \"chain\": \"A\"});\n\tviewer_1534463497264141.setStyle({\"resi\": \"69\", \"chain\": \"A\"},{\"sphere\": {\"color\": \"palevioletred\"}});\n\tviewer_1534463497264141.addLabel(\"P->SA Likely pathogenic\",{\"fontSize\": 10, \"fontColor\": \"palevioletred\", \"backgroundColor\": \"ivory\"},{\"resi\": \"69\", \"chain\": \"A\"});\n\tviewer_1534463497264141.setStyle({\"resi\": \"171\", \"chain\": \"A\"},{\"sphere\": {\"color\": \"palevioletred\"}});\n\tviewer_1534463497264141.addLabel(\"T->N Likely pathogenic\",{\"fontSize\": 10, \"fontColor\": \"palevioletred\", \"backgroundColor\": \"ivory\"},{\"resi\": \"171\", \"chain\": \"A\"});\n\tviewer_1534463497264141.setStyle({\"resi\": \"226\", \"chain\": \"A\"},{\"sphere\": {\"color\": \"red\"}});\n\tviewer_1534463497264141.addLabel(\"T->S Pathogenic\",{\"fontSize\": 10, \"fontColor\": \"red\", \"backgroundColor\": \"ivory\"},{\"resi\": \"226\", \"chain\": \"A\"});\n\tviewer_1534463497264141.setStyle({\"resi\": \"187\", \"chain\": \"A\"},{\"sphere\": {\"color\": \"palevioletred\"}});\n\tviewer_1534463497264141.addLabel(\"W->* Likely pathogenic\",{\"fontSize\": 10, \"fontColor\": \"palevioletred\", \"backgroundColor\": \"ivory\"},{\"resi\": \"187\", \"chain\": \"A\"});\n\tviewer_1534463497264141.setStyle({\"resi\": \"32\", \"chain\": \"A\"},{\"sphere\": {\"color\": \"red\"}});\n\tviewer_1534463497264141.addLabel(\"L->R Pathogenic\",{\"fontSize\": 10, \"fontColor\": \"red\", \"backgroundColor\": \"ivory\"},{\"resi\": \"32\", \"chain\": \"A\"});\n\tviewer_1534463497264141.setStyle({\"resi\": \"157\", \"chain\": \"A\"},{\"sphere\": {\"color\": \"red\"}});\n\tviewer_1534463497264141.addLabel(\"F->S Pathogenic\",{\"fontSize\": 10, \"fontColor\": \"red\", \"backgroundColor\": \"ivory\"},{\"resi\": \"157\", \"chain\": \"A\"});\n\tviewer_1534463497264141.setStyle({\"resi\": \"141\", \"chain\": \"A\"},{\"sphere\": {\"color\": \"red\"}});\n\tviewer_1534463497264141.addLabel(\"R->H Pathogenic\",{\"fontSize\": 10, \"fontColor\": \"red\", \"backgroundColor\": \"ivory\"},{\"resi\": \"141\", \"chain\": \"A\"});\n\tviewer_1534463497264141.setStyle({\"resi\": \"188\", \"chain\": \"A\"},{\"sphere\": {\"color\": \"red\"}});\n\tviewer_1534463497264141.addLabel(\"D->G Pathogenic\",{\"fontSize\": 10, \"fontColor\": \"red\", \"backgroundColor\": \"ivory\"},{\"resi\": \"188\", \"chain\": \"A\"});\n\tviewer_1534463497264141.setStyle({\"resi\": \"208\", \"chain\": \"A\"},{\"sphere\": {\"color\": \"red\"}});\n\tviewer_1534463497264141.addLabel(\"G->EA Pathogenic\",{\"fontSize\": 10, \"fontColor\": \"red\", \"backgroundColor\": \"ivory\"},{\"resi\": \"208\", \"chain\": \"A\"});\n\tviewer_1534463497264141.setStyle({\"resi\": \"148\", \"chain\": \"A\"},{\"sphere\": {\"color\": \"red\"}});\n\tviewer_1534463497264141.addLabel(\"D->N Pathogenic\",{\"fontSize\": 10, \"fontColor\": \"red\", \"backgroundColor\": \"ivory\"},{\"resi\": \"148\", \"chain\": \"A\"});\n\tviewer_1534463497264141.setStyle({\"resi\": \"9\", \"chain\": \"A\"},{\"sphere\": {\"color\": \"palevioletred\"}});\n\tviewer_1534463497264141.addLabel(\"C->*AY Likely pathogenic\",{\"fontSize\": 10, \"fontColor\": \"palevioletred\", \"backgroundColor\": \"ivory\"},{\"resi\": \"9\", \"chain\": \"A\"});\n\tviewer_1534463497264141.setStyle({\"resi\": \"231\", \"chain\": \"A\"},{\"sphere\": {\"color\": \"red\"}});\n\tviewer_1534463497264141.addLabel(\"V->M Pathogenic\",{\"fontSize\": 10, \"fontColor\": \"red\", \"backgroundColor\": \"ivory\"},{\"resi\": \"231\", \"chain\": \"A\"});\n\tviewer_1534463497264141.setStyle({\"resi\": \"18\", \"chain\": \"A\"},{\"sphere\": {\"color\": \"palevioletred\"}});\n\tviewer_1534463497264141.addLabel(\"T->S Likely pathogenic\",{\"fontSize\": 10, \"fontColor\": \"palevioletred\", \"backgroundColor\": \"ivory\"},{\"resi\": \"18\", \"chain\": \"A\"});\n\tviewer_1534463497264141.setStyle({\"resi\": \"241\", \"chain\": \"A\"},{\"sphere\": {\"color\": \"red\"}});\n\tviewer_1534463497264141.addLabel(\"C->S Pathogenic\",{\"fontSize\": 10, \"fontColor\": \"red\", \"backgroundColor\": \"ivory\"},{\"resi\": \"241\", \"chain\": \"A\"});\n\tviewer_1534463497264141.setStyle({\"resi\": \"129\", \"chain\": \"A\"},{\"sphere\": {\"color\": \"red\"}});\n\tviewer_1534463497264141.addLabel(\"V->M Pathogenic\",{\"fontSize\": 10, \"fontColor\": \"red\", \"backgroundColor\": \"ivory\"},{\"resi\": \"129\", \"chain\": \"A\"});\n\tviewer_1534463497264141.setStyle({\"resi\": \"116\", \"chain\": \"A\"},{\"sphere\": {\"color\": \"palevioletred\"}});\n\tviewer_1534463497264141.addLabel(\"R->E Likely pathogenic\",{\"fontSize\": 10, \"fontColor\": \"palevioletred\", \"backgroundColor\": \"ivory\"},{\"resi\": \"116\", \"chain\": \"A\"});\n\tviewer_1534463497264141.setStyle({\"resi\": \"119\", \"chain\": \"A\"},{\"sphere\": {\"color\": \"red\"}});\n\tviewer_1534463497264141.addLabel(\"F->L Pathogenic\",{\"fontSize\": 10, \"fontColor\": \"red\", \"backgroundColor\": \"ivory\"},{\"resi\": \"119\", \"chain\": \"A\"});\n\tviewer_1534463497264141.setStyle({\"resi\": \"108\", \"chain\": \"A\"},{\"sphere\": {\"color\": \"red\"}});\n\tviewer_1534463497264141.addLabel(\"A->V Pathogenic\",{\"fontSize\": 10, \"fontColor\": \"red\", \"backgroundColor\": \"ivory\"},{\"resi\": \"108\", \"chain\": \"A\"});\n\tviewer_1534463497264141.setStyle({\"resi\": \"31\", \"chain\": \"A\"},{\"sphere\": {\"color\": \"palevioletred\"}});\n\tviewer_1534463497264141.addLabel(\"F->L Likely pathogenic\",{\"fontSize\": 10, \"fontColor\": \"palevioletred\", \"backgroundColor\": \"ivory\"},{\"resi\": \"31\", \"chain\": \"A\"});\n\tviewer_1534463497264141.setStyle({\"resi\": \"194\", \"chain\": \"A\"},{\"sphere\": {\"color\": \"palevioletred\"}});\n\tviewer_1534463497264141.addLabel(\"R->* Likely pathogenic\",{\"fontSize\": 10, \"fontColor\": \"palevioletred\", \"backgroundColor\": \"ivory\"},{\"resi\": \"194\", \"chain\": \"A\"});\n\tviewer_1534463497264141.setStyle({\"resi\": \"176\", \"chain\": \"A\"},{\"sphere\": {\"color\": \"palevioletred\"}});\n\tviewer_1534463497264141.addLabel(\"G->D Likely pathogenic\",{\"fontSize\": 10, \"fontColor\": \"palevioletred\", \"backgroundColor\": \"ivory\"},{\"resi\": \"176\", \"chain\": \"A\"});\n\tviewer_1534463497264141.setStyle({\"resi\": \"106\", \"chain\": \"A\"},{\"sphere\": {\"color\": \"red\"}});\n\tviewer_1534463497264141.addLabel(\"Y->F Pathogenic\",{\"fontSize\": 10, \"fontColor\": \"red\", \"backgroundColor\": \"ivory\"},{\"resi\": \"106\", \"chain\": \"A\"});\n\tviewer_1534463497264141.setStyle({\"resi\": \"216\", \"chain\": \"A\"},{\"sphere\": {\"color\": \"red\"}});\n\tviewer_1534463497264141.addLabel(\"N->S Pathogenic,Likely pathogenic\",{\"fontSize\": 10, \"fontColor\": \"red\", \"backgroundColor\": \"ivory\"},{\"resi\": \"216\", \"chain\": \"A\"});\n\tviewer_1534463497264141.setStyle({\"resi\": \"207\", \"chain\": \"A\"},{\"sphere\": {\"color\": \"palevioletred\"}});\n\tviewer_1534463497264141.addLabel(\"F->S Likely pathogenic\",{\"fontSize\": 10, \"fontColor\": \"palevioletred\", \"backgroundColor\": \"ivory\"},{\"resi\": \"207\", \"chain\": \"A\"});\n\tviewer_1534463497264141.setStyle({\"resi\": \"65\", \"chain\": \"A\"},{\"sphere\": {\"color\": \"red\"}});\n\tviewer_1534463497264141.addLabel(\"D->Y Pathogenic\",{\"fontSize\": 10, \"fontColor\": \"red\", \"backgroundColor\": \"ivory\"},{\"resi\": \"65\", \"chain\": \"A\"});\n\tviewer_1534463497264141.setStyle({\"resi\": \"237\", \"chain\": \"A\"},{\"sphere\": {\"color\": \"red\"}});\n\tviewer_1534463497264141.addLabel(\"T->MR Pathogenic\",{\"fontSize\": 10, \"fontColor\": \"red\", \"backgroundColor\": \"ivory\"},{\"resi\": \"237\", \"chain\": \"A\"});\n\tviewer_1534463497264141.setStyle({\"resi\": \"44\", \"chain\": \"A\"},{\"sphere\": {\"color\": \"palevioletred\"}});\n\tviewer_1534463497264141.addLabel(\"V->A Likely pathogenic\",{\"fontSize\": 10, \"fontColor\": \"palevioletred\", \"backgroundColor\": \"ivory\"},{\"resi\": \"44\", \"chain\": \"A\"});\n\tviewer_1534463497264141.setStyle({\"resi\": \"218\", \"chain\": \"A\"},{\"sphere\": {\"color\": \"red\"}});\n\tviewer_1534463497264141.addLabel(\"H->LD Pathogenic,Likely pathogenic\",{\"fontSize\": 10, \"fontColor\": \"red\", \"backgroundColor\": \"ivory\"},{\"resi\": \"218\", \"chain\": \"A\"});\n\tviewer_1534463497264141.setStyle({\"resi\": \"139\", \"chain\": \"A\"},{\"sphere\": {\"color\": \"red\"}});\n\tviewer_1534463497264141.addLabel(\"E->K Pathogenic,Likely pathogenic\",{\"fontSize\": 10, \"fontColor\": \"red\", \"backgroundColor\": \"ivory\"},{\"resi\": \"139\", \"chain\": \"A\"});\n\tviewer_1534463497264141.setStyle({\"resi\": \"43\", \"chain\": \"A\"},{\"sphere\": {\"color\": \"palevioletred\"}});\n\tviewer_1534463497264141.addLabel(\"V->L Likely pathogenic\",{\"fontSize\": 10, \"fontColor\": \"palevioletred\", \"backgroundColor\": \"ivory\"},{\"resi\": \"43\", \"chain\": \"A\"});\n\tviewer_1534463497264141.setStyle({\"resi\": \"144\", \"chain\": \"A\"},{\"sphere\": {\"color\": \"palevioletred\"}});\n\tviewer_1534463497264141.addLabel(\"F->L Likely pathogenic\",{\"fontSize\": 10, \"fontColor\": \"palevioletred\", \"backgroundColor\": \"ivory\"},{\"resi\": \"144\", \"chain\": \"A\"});\n\tviewer_1534463497264141.setStyle({\"resi\": \"53\", \"chain\": \"A\"},{\"sphere\": {\"color\": \"red\"}});\n\tviewer_1534463497264141.addLabel(\"Q->* Pathogenic\",{\"fontSize\": 10, \"fontColor\": \"red\", \"backgroundColor\": \"ivory\"},{\"resi\": \"53\", \"chain\": \"A\"});\n\tviewer_1534463497264141.setStyle({\"resi\": \"153\", \"chain\": \"A\"},{\"sphere\": {\"color\": \"palevioletred\"}});\n\tviewer_1534463497264141.addLabel(\"I->T Likely pathogenic\",{\"fontSize\": 10, \"fontColor\": \"palevioletred\", \"backgroundColor\": \"ivory\"},{\"resi\": \"153\", \"chain\": \"A\"});\n\tviewer_1534463497264141.setStyle({\"resi\": \"113\", \"chain\": \"A\"},{\"sphere\": {\"color\": \"red\"}});\n\tviewer_1534463497264141.addLabel(\"P->TSL Pathogenic,Likely pathogenic\",{\"fontSize\": 10, \"fontColor\": \"red\", \"backgroundColor\": \"ivory\"},{\"resi\": \"113\", \"chain\": \"A\"});\n\tviewer_1534463497264141.setStyle({\"resi\": \"223\", \"chain\": \"A\"},{\"sphere\": {\"color\": \"red\"}});\n\tviewer_1534463497264141.addLabel(\"D->E Pathogenic\",{\"fontSize\": 10, \"fontColor\": \"red\", \"backgroundColor\": \"ivory\"},{\"resi\": \"223\", \"chain\": \"A\"});\n\tviewer_1534463497264141.setStyle({\"resi\": \"117\", \"chain\": \"A\"},{\"sphere\": {\"color\": \"red\"}});\n\tviewer_1534463497264141.addLabel(\"G->R Pathogenic\",{\"fontSize\": 10, \"fontColor\": \"red\", \"backgroundColor\": \"ivory\"},{\"resi\": \"117\", \"chain\": \"A\"});\n\tviewer_1534463497264141.setStyle({\"resi\": \"104\", \"chain\": \"A\"},{\"sphere\": {\"color\": \"red\"}});\n\tviewer_1534463497264141.addLabel(\"L->V Pathogenic\",{\"fontSize\": 10, \"fontColor\": \"red\", \"backgroundColor\": \"ivory\"},{\"resi\": \"104\", \"chain\": \"A\"});\n\tviewer_1534463497264141.setStyle({\"resi\": \"162\", \"chain\": \"A\"},{\"sphere\": {\"color\": \"red\"}});\n\tviewer_1534463497264141.addLabel(\"R->W Pathogenic\",{\"fontSize\": 10, \"fontColor\": \"red\", \"backgroundColor\": \"ivory\"},{\"resi\": \"162\", \"chain\": \"A\"});\n\tviewer_1534463497264141.setStyle({\"resi\": \"123\", \"chain\": \"A\"},{\"sphere\": {\"color\": \"red\"}});\n\tviewer_1534463497264141.addLabel(\"R->*Q Pathogenic\",{\"fontSize\": 10, \"fontColor\": \"red\", \"backgroundColor\": \"ivory\"},{\"resi\": \"123\", \"chain\": \"A\"});\n\tviewer_1534463497264141.zoomTo({\"resi\": [\"63\", \"132\", \"69\", \"171\", \"226\", \"187\", \"32\", \"157\", \"141\", \"188\", \"208\", \"148\", \"9\", \"231\", \"18\", \"241\", \"129\", \"116\", \"119\", \"108\", \"31\", \"194\", \"176\", \"106\", \"216\", \"207\", \"65\", \"237\", \"44\", \"218\", \"139\", \"43\", \"144\", \"53\", \"153\", \"113\", \"223\", \"117\", \"104\", \"162\", \"123\"], \"chain\": \"A\"});\nviewer_1534463497264141.render();\n})\n});\n</script>",
          "text/html": "<div id=\"3dmolviewer_1534463497264141\"  style=\"position: relative; width: 640px; height: 480px\">\n        <p id=\"3dmolwarning_1534463497264141\" style=\"background-color:#ffcccc;color:black\">You appear to be running in JupyterLab.  You need to install the 3dmol extension: <br>\n        <tt>jupyter labextension install jupyterlab_3dmol</tt></p>\n        </div>\n<script>\n\nvar loadScriptAsync = function(uri){\n  return new Promise((resolve, reject) => {\n    var tag = document.createElement('script');\n    tag.src = uri;\n    tag.async = true;\n    tag.onload = () => {\n      resolve();\n    };\n  var firstScriptTag = document.getElementsByTagName('script')[0];\n  firstScriptTag.parentNode.insertBefore(tag, firstScriptTag);\n});\n};\n\nif(typeof $3Dmolpromise === 'undefined') {\n$3Dmolpromise = null;\n  $3Dmolpromise = loadScriptAsync('https://3dmol.csb.pitt.edu/build/3Dmol.js');\n}\n\nvar viewer_1534463497264141 = null;\nvar warn = document.getElementById(\"3dmolwarning_1534463497264141\");\nif(warn) {\n    warn.parentNode.removeChild(warn);\n}\n$3Dmolpromise.then(function() {\nviewer_1534463497264141 = $3Dmol.createViewer($(\"#3dmolviewer_1534463497264141\"),{backgroundColor:\"white\"});\n$3Dmol.download(\"pdb:2AMY\", viewer_1534463497264141, {\"doAssembly\": false}, function() {\n\tviewer_1534463497264141.setStyle({\"sphere\": {\"colorscheme\": \"chain\", \"opacity\": 0.6}});\n\tviewer_1534463497264141.setStyle({\"hetflag\": true},{\"stick\": {\"radius\": 0.3, \"singleBond\": false}});\n\tviewer_1534463497264141.setStyle({\"resi\": \"63\", \"chain\": \"A\"},{\"sphere\": {\"color\": \"palevioletred\"}});\n\tviewer_1534463497264141.addLabel(\"K->N Likely pathogenic\",{\"fontSize\": 10, \"fontColor\": \"palevioletred\", \"backgroundColor\": \"ivory\"},{\"resi\": \"63\", \"chain\": \"A\"});\n\tviewer_1534463497264141.setStyle({\"resi\": \"132\", \"chain\": \"A\"},{\"sphere\": {\"color\": \"palevioletred\"}});\n\tviewer_1534463497264141.addLabel(\"I->T Likely pathogenic\",{\"fontSize\": 10, \"fontColor\": \"palevioletred\", \"backgroundColor\": \"ivory\"},{\"resi\": \"132\", \"chain\": \"A\"});\n\tviewer_1534463497264141.setStyle({\"resi\": \"69\", \"chain\": \"A\"},{\"sphere\": {\"color\": \"palevioletred\"}});\n\tviewer_1534463497264141.addLabel(\"P->SA Likely pathogenic\",{\"fontSize\": 10, \"fontColor\": \"palevioletred\", \"backgroundColor\": \"ivory\"},{\"resi\": \"69\", \"chain\": \"A\"});\n\tviewer_1534463497264141.setStyle({\"resi\": \"171\", \"chain\": \"A\"},{\"sphere\": {\"color\": \"palevioletred\"}});\n\tviewer_1534463497264141.addLabel(\"T->N Likely pathogenic\",{\"fontSize\": 10, \"fontColor\": \"palevioletred\", \"backgroundColor\": \"ivory\"},{\"resi\": \"171\", \"chain\": \"A\"});\n\tviewer_1534463497264141.setStyle({\"resi\": \"226\", \"chain\": \"A\"},{\"sphere\": {\"color\": \"red\"}});\n\tviewer_1534463497264141.addLabel(\"T->S Pathogenic\",{\"fontSize\": 10, \"fontColor\": \"red\", \"backgroundColor\": \"ivory\"},{\"resi\": \"226\", \"chain\": \"A\"});\n\tviewer_1534463497264141.setStyle({\"resi\": \"187\", \"chain\": \"A\"},{\"sphere\": {\"color\": \"palevioletred\"}});\n\tviewer_1534463497264141.addLabel(\"W->* Likely pathogenic\",{\"fontSize\": 10, \"fontColor\": \"palevioletred\", \"backgroundColor\": \"ivory\"},{\"resi\": \"187\", \"chain\": \"A\"});\n\tviewer_1534463497264141.setStyle({\"resi\": \"32\", \"chain\": \"A\"},{\"sphere\": {\"color\": \"red\"}});\n\tviewer_1534463497264141.addLabel(\"L->R Pathogenic\",{\"fontSize\": 10, \"fontColor\": \"red\", \"backgroundColor\": \"ivory\"},{\"resi\": \"32\", \"chain\": \"A\"});\n\tviewer_1534463497264141.setStyle({\"resi\": \"157\", \"chain\": \"A\"},{\"sphere\": {\"color\": \"red\"}});\n\tviewer_1534463497264141.addLabel(\"F->S Pathogenic\",{\"fontSize\": 10, \"fontColor\": \"red\", \"backgroundColor\": \"ivory\"},{\"resi\": \"157\", \"chain\": \"A\"});\n\tviewer_1534463497264141.setStyle({\"resi\": \"141\", \"chain\": \"A\"},{\"sphere\": {\"color\": \"red\"}});\n\tviewer_1534463497264141.addLabel(\"R->H Pathogenic\",{\"fontSize\": 10, \"fontColor\": \"red\", \"backgroundColor\": \"ivory\"},{\"resi\": \"141\", \"chain\": \"A\"});\n\tviewer_1534463497264141.setStyle({\"resi\": \"188\", \"chain\": \"A\"},{\"sphere\": {\"color\": \"red\"}});\n\tviewer_1534463497264141.addLabel(\"D->G Pathogenic\",{\"fontSize\": 10, \"fontColor\": \"red\", \"backgroundColor\": \"ivory\"},{\"resi\": \"188\", \"chain\": \"A\"});\n\tviewer_1534463497264141.setStyle({\"resi\": \"208\", \"chain\": \"A\"},{\"sphere\": {\"color\": \"red\"}});\n\tviewer_1534463497264141.addLabel(\"G->EA Pathogenic\",{\"fontSize\": 10, \"fontColor\": \"red\", \"backgroundColor\": \"ivory\"},{\"resi\": \"208\", \"chain\": \"A\"});\n\tviewer_1534463497264141.setStyle({\"resi\": \"148\", \"chain\": \"A\"},{\"sphere\": {\"color\": \"red\"}});\n\tviewer_1534463497264141.addLabel(\"D->N Pathogenic\",{\"fontSize\": 10, \"fontColor\": \"red\", \"backgroundColor\": \"ivory\"},{\"resi\": \"148\", \"chain\": \"A\"});\n\tviewer_1534463497264141.setStyle({\"resi\": \"9\", \"chain\": \"A\"},{\"sphere\": {\"color\": \"palevioletred\"}});\n\tviewer_1534463497264141.addLabel(\"C->*AY Likely pathogenic\",{\"fontSize\": 10, \"fontColor\": \"palevioletred\", \"backgroundColor\": \"ivory\"},{\"resi\": \"9\", \"chain\": \"A\"});\n\tviewer_1534463497264141.setStyle({\"resi\": \"231\", \"chain\": \"A\"},{\"sphere\": {\"color\": \"red\"}});\n\tviewer_1534463497264141.addLabel(\"V->M Pathogenic\",{\"fontSize\": 10, \"fontColor\": \"red\", \"backgroundColor\": \"ivory\"},{\"resi\": \"231\", \"chain\": \"A\"});\n\tviewer_1534463497264141.setStyle({\"resi\": \"18\", \"chain\": \"A\"},{\"sphere\": {\"color\": \"palevioletred\"}});\n\tviewer_1534463497264141.addLabel(\"T->S Likely pathogenic\",{\"fontSize\": 10, \"fontColor\": \"palevioletred\", \"backgroundColor\": \"ivory\"},{\"resi\": \"18\", \"chain\": \"A\"});\n\tviewer_1534463497264141.setStyle({\"resi\": \"241\", \"chain\": \"A\"},{\"sphere\": {\"color\": \"red\"}});\n\tviewer_1534463497264141.addLabel(\"C->S Pathogenic\",{\"fontSize\": 10, \"fontColor\": \"red\", \"backgroundColor\": \"ivory\"},{\"resi\": \"241\", \"chain\": \"A\"});\n\tviewer_1534463497264141.setStyle({\"resi\": \"129\", \"chain\": \"A\"},{\"sphere\": {\"color\": \"red\"}});\n\tviewer_1534463497264141.addLabel(\"V->M Pathogenic\",{\"fontSize\": 10, \"fontColor\": \"red\", \"backgroundColor\": \"ivory\"},{\"resi\": \"129\", \"chain\": \"A\"});\n\tviewer_1534463497264141.setStyle({\"resi\": \"116\", \"chain\": \"A\"},{\"sphere\": {\"color\": \"palevioletred\"}});\n\tviewer_1534463497264141.addLabel(\"R->E Likely pathogenic\",{\"fontSize\": 10, \"fontColor\": \"palevioletred\", \"backgroundColor\": \"ivory\"},{\"resi\": \"116\", \"chain\": \"A\"});\n\tviewer_1534463497264141.setStyle({\"resi\": \"119\", \"chain\": \"A\"},{\"sphere\": {\"color\": \"red\"}});\n\tviewer_1534463497264141.addLabel(\"F->L Pathogenic\",{\"fontSize\": 10, \"fontColor\": \"red\", \"backgroundColor\": \"ivory\"},{\"resi\": \"119\", \"chain\": \"A\"});\n\tviewer_1534463497264141.setStyle({\"resi\": \"108\", \"chain\": \"A\"},{\"sphere\": {\"color\": \"red\"}});\n\tviewer_1534463497264141.addLabel(\"A->V Pathogenic\",{\"fontSize\": 10, \"fontColor\": \"red\", \"backgroundColor\": \"ivory\"},{\"resi\": \"108\", \"chain\": \"A\"});\n\tviewer_1534463497264141.setStyle({\"resi\": \"31\", \"chain\": \"A\"},{\"sphere\": {\"color\": \"palevioletred\"}});\n\tviewer_1534463497264141.addLabel(\"F->L Likely pathogenic\",{\"fontSize\": 10, \"fontColor\": \"palevioletred\", \"backgroundColor\": \"ivory\"},{\"resi\": \"31\", \"chain\": \"A\"});\n\tviewer_1534463497264141.setStyle({\"resi\": \"194\", \"chain\": \"A\"},{\"sphere\": {\"color\": \"palevioletred\"}});\n\tviewer_1534463497264141.addLabel(\"R->* Likely pathogenic\",{\"fontSize\": 10, \"fontColor\": \"palevioletred\", \"backgroundColor\": \"ivory\"},{\"resi\": \"194\", \"chain\": \"A\"});\n\tviewer_1534463497264141.setStyle({\"resi\": \"176\", \"chain\": \"A\"},{\"sphere\": {\"color\": \"palevioletred\"}});\n\tviewer_1534463497264141.addLabel(\"G->D Likely pathogenic\",{\"fontSize\": 10, \"fontColor\": \"palevioletred\", \"backgroundColor\": \"ivory\"},{\"resi\": \"176\", \"chain\": \"A\"});\n\tviewer_1534463497264141.setStyle({\"resi\": \"106\", \"chain\": \"A\"},{\"sphere\": {\"color\": \"red\"}});\n\tviewer_1534463497264141.addLabel(\"Y->F Pathogenic\",{\"fontSize\": 10, \"fontColor\": \"red\", \"backgroundColor\": \"ivory\"},{\"resi\": \"106\", \"chain\": \"A\"});\n\tviewer_1534463497264141.setStyle({\"resi\": \"216\", \"chain\": \"A\"},{\"sphere\": {\"color\": \"red\"}});\n\tviewer_1534463497264141.addLabel(\"N->S Pathogenic,Likely pathogenic\",{\"fontSize\": 10, \"fontColor\": \"red\", \"backgroundColor\": \"ivory\"},{\"resi\": \"216\", \"chain\": \"A\"});\n\tviewer_1534463497264141.setStyle({\"resi\": \"207\", \"chain\": \"A\"},{\"sphere\": {\"color\": \"palevioletred\"}});\n\tviewer_1534463497264141.addLabel(\"F->S Likely pathogenic\",{\"fontSize\": 10, \"fontColor\": \"palevioletred\", \"backgroundColor\": \"ivory\"},{\"resi\": \"207\", \"chain\": \"A\"});\n\tviewer_1534463497264141.setStyle({\"resi\": \"65\", \"chain\": \"A\"},{\"sphere\": {\"color\": \"red\"}});\n\tviewer_1534463497264141.addLabel(\"D->Y Pathogenic\",{\"fontSize\": 10, \"fontColor\": \"red\", \"backgroundColor\": \"ivory\"},{\"resi\": \"65\", \"chain\": \"A\"});\n\tviewer_1534463497264141.setStyle({\"resi\": \"237\", \"chain\": \"A\"},{\"sphere\": {\"color\": \"red\"}});\n\tviewer_1534463497264141.addLabel(\"T->MR Pathogenic\",{\"fontSize\": 10, \"fontColor\": \"red\", \"backgroundColor\": \"ivory\"},{\"resi\": \"237\", \"chain\": \"A\"});\n\tviewer_1534463497264141.setStyle({\"resi\": \"44\", \"chain\": \"A\"},{\"sphere\": {\"color\": \"palevioletred\"}});\n\tviewer_1534463497264141.addLabel(\"V->A Likely pathogenic\",{\"fontSize\": 10, \"fontColor\": \"palevioletred\", \"backgroundColor\": \"ivory\"},{\"resi\": \"44\", \"chain\": \"A\"});\n\tviewer_1534463497264141.setStyle({\"resi\": \"218\", \"chain\": \"A\"},{\"sphere\": {\"color\": \"red\"}});\n\tviewer_1534463497264141.addLabel(\"H->LD Pathogenic,Likely pathogenic\",{\"fontSize\": 10, \"fontColor\": \"red\", \"backgroundColor\": \"ivory\"},{\"resi\": \"218\", \"chain\": \"A\"});\n\tviewer_1534463497264141.setStyle({\"resi\": \"139\", \"chain\": \"A\"},{\"sphere\": {\"color\": \"red\"}});\n\tviewer_1534463497264141.addLabel(\"E->K Pathogenic,Likely pathogenic\",{\"fontSize\": 10, \"fontColor\": \"red\", \"backgroundColor\": \"ivory\"},{\"resi\": \"139\", \"chain\": \"A\"});\n\tviewer_1534463497264141.setStyle({\"resi\": \"43\", \"chain\": \"A\"},{\"sphere\": {\"color\": \"palevioletred\"}});\n\tviewer_1534463497264141.addLabel(\"V->L Likely pathogenic\",{\"fontSize\": 10, \"fontColor\": \"palevioletred\", \"backgroundColor\": \"ivory\"},{\"resi\": \"43\", \"chain\": \"A\"});\n\tviewer_1534463497264141.setStyle({\"resi\": \"144\", \"chain\": \"A\"},{\"sphere\": {\"color\": \"palevioletred\"}});\n\tviewer_1534463497264141.addLabel(\"F->L Likely pathogenic\",{\"fontSize\": 10, \"fontColor\": \"palevioletred\", \"backgroundColor\": \"ivory\"},{\"resi\": \"144\", \"chain\": \"A\"});\n\tviewer_1534463497264141.setStyle({\"resi\": \"53\", \"chain\": \"A\"},{\"sphere\": {\"color\": \"red\"}});\n\tviewer_1534463497264141.addLabel(\"Q->* Pathogenic\",{\"fontSize\": 10, \"fontColor\": \"red\", \"backgroundColor\": \"ivory\"},{\"resi\": \"53\", \"chain\": \"A\"});\n\tviewer_1534463497264141.setStyle({\"resi\": \"153\", \"chain\": \"A\"},{\"sphere\": {\"color\": \"palevioletred\"}});\n\tviewer_1534463497264141.addLabel(\"I->T Likely pathogenic\",{\"fontSize\": 10, \"fontColor\": \"palevioletred\", \"backgroundColor\": \"ivory\"},{\"resi\": \"153\", \"chain\": \"A\"});\n\tviewer_1534463497264141.setStyle({\"resi\": \"113\", \"chain\": \"A\"},{\"sphere\": {\"color\": \"red\"}});\n\tviewer_1534463497264141.addLabel(\"P->TSL Pathogenic,Likely pathogenic\",{\"fontSize\": 10, \"fontColor\": \"red\", \"backgroundColor\": \"ivory\"},{\"resi\": \"113\", \"chain\": \"A\"});\n\tviewer_1534463497264141.setStyle({\"resi\": \"223\", \"chain\": \"A\"},{\"sphere\": {\"color\": \"red\"}});\n\tviewer_1534463497264141.addLabel(\"D->E Pathogenic\",{\"fontSize\": 10, \"fontColor\": \"red\", \"backgroundColor\": \"ivory\"},{\"resi\": \"223\", \"chain\": \"A\"});\n\tviewer_1534463497264141.setStyle({\"resi\": \"117\", \"chain\": \"A\"},{\"sphere\": {\"color\": \"red\"}});\n\tviewer_1534463497264141.addLabel(\"G->R Pathogenic\",{\"fontSize\": 10, \"fontColor\": \"red\", \"backgroundColor\": \"ivory\"},{\"resi\": \"117\", \"chain\": \"A\"});\n\tviewer_1534463497264141.setStyle({\"resi\": \"104\", \"chain\": \"A\"},{\"sphere\": {\"color\": \"red\"}});\n\tviewer_1534463497264141.addLabel(\"L->V Pathogenic\",{\"fontSize\": 10, \"fontColor\": \"red\", \"backgroundColor\": \"ivory\"},{\"resi\": \"104\", \"chain\": \"A\"});\n\tviewer_1534463497264141.setStyle({\"resi\": \"162\", \"chain\": \"A\"},{\"sphere\": {\"color\": \"red\"}});\n\tviewer_1534463497264141.addLabel(\"R->W Pathogenic\",{\"fontSize\": 10, \"fontColor\": \"red\", \"backgroundColor\": \"ivory\"},{\"resi\": \"162\", \"chain\": \"A\"});\n\tviewer_1534463497264141.setStyle({\"resi\": \"123\", \"chain\": \"A\"},{\"sphere\": {\"color\": \"red\"}});\n\tviewer_1534463497264141.addLabel(\"R->*Q Pathogenic\",{\"fontSize\": 10, \"fontColor\": \"red\", \"backgroundColor\": \"ivory\"},{\"resi\": \"123\", \"chain\": \"A\"});\n\tviewer_1534463497264141.zoomTo({\"resi\": [\"63\", \"132\", \"69\", \"171\", \"226\", \"187\", \"32\", \"157\", \"141\", \"188\", \"208\", \"148\", \"9\", \"231\", \"18\", \"241\", \"129\", \"116\", \"119\", \"108\", \"31\", \"194\", \"176\", \"106\", \"216\", \"207\", \"65\", \"237\", \"44\", \"218\", \"139\", \"43\", \"144\", \"53\", \"153\", \"113\", \"223\", \"117\", \"104\", \"162\", \"123\"], \"chain\": \"A\"});\nviewer_1534463497264141.render();\n})\n});\n</script>"
         },
         "metadata": {},
         "output_type": "display_data"
        }
       ]
      }
     },
     "e7b5b78f25c54b7d9fbe0045680a5e41": {
      "model_module": "@jupyter-widgets/controls",
      "model_module_version": "1.3.0",
      "model_name": "CheckboxModel",
      "state": {
       "description": "show_surface",
       "disabled": false,
       "layout": "IPY_MODEL_af031df67a634a8b92c3b3ee961f524d",
       "style": "IPY_MODEL_12eed0b4750a45ffaa84abe7f64110b5",
       "value": false
      }
     },
     "e7d962c944664eac81482dcabb42e8da": {
      "model_module": "@jupyter-widgets/output",
      "model_module_version": "1.0.0",
      "model_name": "OutputModel",
      "state": {
       "layout": "IPY_MODEL_3b7e9dc7ac894a42b1809754d9140027",
       "outputs": [
        {
         "name": "stdout",
         "output_type": "stream",
         "text": "PDB Id: 2AMY chain Id: A\nuniprotId: O15305\n"
        },
        {
         "data": {
          "application/3dmoljs_load.v0": "<div id=\"3dmolviewer_1534463494306568\"  style=\"position: relative; width: 640px; height: 480px\">\n        <p id=\"3dmolwarning_1534463494306568\" style=\"background-color:#ffcccc;color:black\">You appear to be running in JupyterLab.  You need to install the 3dmol extension: <br>\n        <tt>jupyter labextension install jupyterlab_3dmol</tt></p>\n        </div>\n<script>\n\nvar loadScriptAsync = function(uri){\n  return new Promise((resolve, reject) => {\n    var tag = document.createElement('script');\n    tag.src = uri;\n    tag.async = true;\n    tag.onload = () => {\n      resolve();\n    };\n  var firstScriptTag = document.getElementsByTagName('script')[0];\n  firstScriptTag.parentNode.insertBefore(tag, firstScriptTag);\n});\n};\n\nif(typeof $3Dmolpromise === 'undefined') {\n$3Dmolpromise = null;\n  $3Dmolpromise = loadScriptAsync('https://3dmol.csb.pitt.edu/build/3Dmol.js');\n}\n\nvar viewer_1534463494306568 = null;\nvar warn = document.getElementById(\"3dmolwarning_1534463494306568\");\nif(warn) {\n    warn.parentNode.removeChild(warn);\n}\n$3Dmolpromise.then(function() {\nviewer_1534463494306568 = $3Dmol.createViewer($(\"#3dmolviewer_1534463494306568\"),{backgroundColor:\"white\"});\n$3Dmol.download(\"pdb:2AMY\", viewer_1534463494306568, {\"doAssembly\": false}, function() {\n\tviewer_1534463494306568.setStyle({\"cartoon\": {\"colorscheme\": \"chain\", \"width\": 0.6, \"opacity\": 0.9}});\n\tviewer_1534463494306568.setStyle({\"hetflag\": true},{\"stick\": {\"radius\": 0.3, \"singleBond\": false}});\n\tviewer_1534463494306568.addStyle({\"chain\": \"A\", \"resi\": [\"63\", \"132\", \"69\", \"171\", \"226\", \"187\", \"32\", \"157\", \"141\", \"188\", \"208\", \"148\", \"9\", \"231\", \"18\", \"241\", \"129\", \"116\", \"119\", \"108\", \"31\", \"194\", \"176\", \"106\", \"216\", \"207\", \"65\", \"237\", \"44\", \"218\", \"139\", \"43\", \"144\", \"53\", \"153\", \"113\", \"223\", \"117\", \"104\", \"162\", \"123\"], \"byres\": true, \"expand\": 6},{\"stick\": {\"colorscheme\": \"orangeCarbon\", \"radius\": 0.15}});\n\tviewer_1534463494306568.addStyle({\"resi\": \"63\", \"chain\": \"A\"},{\"stick\": {\"colorscheme\": \"palevioletredCarbon\", \"radius\": 0.2}});\n\tviewer_1534463494306568.addStyle({\"resi\": \"63\", \"chain\": \"A\"},{\"sphere\": {\"color\": \"palevioletred\", \"opacity\": 0.6}});\n\tviewer_1534463494306568.addLabel(\"K->N Likely pathogenic\",{\"fontSize\": 10, \"fontColor\": \"palevioletred\", \"backgroundColor\": \"ivory\"},{\"resi\": \"63\", \"chain\": \"A\"});\n\tviewer_1534463494306568.addStyle({\"resi\": \"132\", \"chain\": \"A\"},{\"stick\": {\"colorscheme\": \"palevioletredCarbon\", \"radius\": 0.2}});\n\tviewer_1534463494306568.addStyle({\"resi\": \"132\", \"chain\": \"A\"},{\"sphere\": {\"color\": \"palevioletred\", \"opacity\": 0.6}});\n\tviewer_1534463494306568.addLabel(\"I->T Likely pathogenic\",{\"fontSize\": 10, \"fontColor\": \"palevioletred\", \"backgroundColor\": \"ivory\"},{\"resi\": \"132\", \"chain\": \"A\"});\n\tviewer_1534463494306568.addStyle({\"resi\": \"69\", \"chain\": \"A\"},{\"stick\": {\"colorscheme\": \"palevioletredCarbon\", \"radius\": 0.2}});\n\tviewer_1534463494306568.addStyle({\"resi\": \"69\", \"chain\": \"A\"},{\"sphere\": {\"color\": \"palevioletred\", \"opacity\": 0.6}});\n\tviewer_1534463494306568.addLabel(\"P->SA Likely pathogenic\",{\"fontSize\": 10, \"fontColor\": \"palevioletred\", \"backgroundColor\": \"ivory\"},{\"resi\": \"69\", \"chain\": \"A\"});\n\tviewer_1534463494306568.addStyle({\"resi\": \"171\", \"chain\": \"A\"},{\"stick\": {\"colorscheme\": \"palevioletredCarbon\", \"radius\": 0.2}});\n\tviewer_1534463494306568.addStyle({\"resi\": \"171\", \"chain\": \"A\"},{\"sphere\": {\"color\": \"palevioletred\", \"opacity\": 0.6}});\n\tviewer_1534463494306568.addLabel(\"T->N Likely pathogenic\",{\"fontSize\": 10, \"fontColor\": \"palevioletred\", \"backgroundColor\": \"ivory\"},{\"resi\": \"171\", \"chain\": \"A\"});\n\tviewer_1534463494306568.addStyle({\"resi\": \"226\", \"chain\": \"A\"},{\"stick\": {\"colorscheme\": \"redCarbon\", \"radius\": 0.2}});\n\tviewer_1534463494306568.addStyle({\"resi\": \"226\", \"chain\": \"A\"},{\"sphere\": {\"color\": \"red\", \"opacity\": 0.6}});\n\tviewer_1534463494306568.addLabel(\"T->S Pathogenic\",{\"fontSize\": 10, \"fontColor\": \"red\", \"backgroundColor\": \"ivory\"},{\"resi\": \"226\", \"chain\": \"A\"});\n\tviewer_1534463494306568.addStyle({\"resi\": \"187\", \"chain\": \"A\"},{\"stick\": {\"colorscheme\": \"palevioletredCarbon\", \"radius\": 0.2}});\n\tviewer_1534463494306568.addStyle({\"resi\": \"187\", \"chain\": \"A\"},{\"sphere\": {\"color\": \"palevioletred\", \"opacity\": 0.6}});\n\tviewer_1534463494306568.addLabel(\"W->* Likely pathogenic\",{\"fontSize\": 10, \"fontColor\": \"palevioletred\", \"backgroundColor\": \"ivory\"},{\"resi\": \"187\", \"chain\": \"A\"});\n\tviewer_1534463494306568.addStyle({\"resi\": \"32\", \"chain\": \"A\"},{\"stick\": {\"colorscheme\": \"redCarbon\", \"radius\": 0.2}});\n\tviewer_1534463494306568.addStyle({\"resi\": \"32\", \"chain\": \"A\"},{\"sphere\": {\"color\": \"red\", \"opacity\": 0.6}});\n\tviewer_1534463494306568.addLabel(\"L->R Pathogenic\",{\"fontSize\": 10, \"fontColor\": \"red\", \"backgroundColor\": \"ivory\"},{\"resi\": \"32\", \"chain\": \"A\"});\n\tviewer_1534463494306568.addStyle({\"resi\": \"157\", \"chain\": \"A\"},{\"stick\": {\"colorscheme\": \"redCarbon\", \"radius\": 0.2}});\n\tviewer_1534463494306568.addStyle({\"resi\": \"157\", \"chain\": \"A\"},{\"sphere\": {\"color\": \"red\", \"opacity\": 0.6}});\n\tviewer_1534463494306568.addLabel(\"F->S Pathogenic\",{\"fontSize\": 10, \"fontColor\": \"red\", \"backgroundColor\": \"ivory\"},{\"resi\": \"157\", \"chain\": \"A\"});\n\tviewer_1534463494306568.addStyle({\"resi\": \"141\", \"chain\": \"A\"},{\"stick\": {\"colorscheme\": \"redCarbon\", \"radius\": 0.2}});\n\tviewer_1534463494306568.addStyle({\"resi\": \"141\", \"chain\": \"A\"},{\"sphere\": {\"color\": \"red\", \"opacity\": 0.6}});\n\tviewer_1534463494306568.addLabel(\"R->H Pathogenic\",{\"fontSize\": 10, \"fontColor\": \"red\", \"backgroundColor\": \"ivory\"},{\"resi\": \"141\", \"chain\": \"A\"});\n\tviewer_1534463494306568.addStyle({\"resi\": \"188\", \"chain\": \"A\"},{\"stick\": {\"colorscheme\": \"redCarbon\", \"radius\": 0.2}});\n\tviewer_1534463494306568.addStyle({\"resi\": \"188\", \"chain\": \"A\"},{\"sphere\": {\"color\": \"red\", \"opacity\": 0.6}});\n\tviewer_1534463494306568.addLabel(\"D->G Pathogenic\",{\"fontSize\": 10, \"fontColor\": \"red\", \"backgroundColor\": \"ivory\"},{\"resi\": \"188\", \"chain\": \"A\"});\n\tviewer_1534463494306568.addStyle({\"resi\": \"208\", \"chain\": \"A\"},{\"stick\": {\"colorscheme\": \"redCarbon\", \"radius\": 0.2}});\n\tviewer_1534463494306568.addStyle({\"resi\": \"208\", \"chain\": \"A\"},{\"sphere\": {\"color\": \"red\", \"opacity\": 0.6}});\n\tviewer_1534463494306568.addLabel(\"G->EA Pathogenic\",{\"fontSize\": 10, \"fontColor\": \"red\", \"backgroundColor\": \"ivory\"},{\"resi\": \"208\", \"chain\": \"A\"});\n\tviewer_1534463494306568.addStyle({\"resi\": \"148\", \"chain\": \"A\"},{\"stick\": {\"colorscheme\": \"redCarbon\", \"radius\": 0.2}});\n\tviewer_1534463494306568.addStyle({\"resi\": \"148\", \"chain\": \"A\"},{\"sphere\": {\"color\": \"red\", \"opacity\": 0.6}});\n\tviewer_1534463494306568.addLabel(\"D->N Pathogenic\",{\"fontSize\": 10, \"fontColor\": \"red\", \"backgroundColor\": \"ivory\"},{\"resi\": \"148\", \"chain\": \"A\"});\n\tviewer_1534463494306568.addStyle({\"resi\": \"9\", \"chain\": \"A\"},{\"stick\": {\"colorscheme\": \"palevioletredCarbon\", \"radius\": 0.2}});\n\tviewer_1534463494306568.addStyle({\"resi\": \"9\", \"chain\": \"A\"},{\"sphere\": {\"color\": \"palevioletred\", \"opacity\": 0.6}});\n\tviewer_1534463494306568.addLabel(\"C->*AY Likely pathogenic\",{\"fontSize\": 10, \"fontColor\": \"palevioletred\", \"backgroundColor\": \"ivory\"},{\"resi\": \"9\", \"chain\": \"A\"});\n\tviewer_1534463494306568.addStyle({\"resi\": \"231\", \"chain\": \"A\"},{\"stick\": {\"colorscheme\": \"redCarbon\", \"radius\": 0.2}});\n\tviewer_1534463494306568.addStyle({\"resi\": \"231\", \"chain\": \"A\"},{\"sphere\": {\"color\": \"red\", \"opacity\": 0.6}});\n\tviewer_1534463494306568.addLabel(\"V->M Pathogenic\",{\"fontSize\": 10, \"fontColor\": \"red\", \"backgroundColor\": \"ivory\"},{\"resi\": \"231\", \"chain\": \"A\"});\n\tviewer_1534463494306568.addStyle({\"resi\": \"18\", \"chain\": \"A\"},{\"stick\": {\"colorscheme\": \"palevioletredCarbon\", \"radius\": 0.2}});\n\tviewer_1534463494306568.addStyle({\"resi\": \"18\", \"chain\": \"A\"},{\"sphere\": {\"color\": \"palevioletred\", \"opacity\": 0.6}});\n\tviewer_1534463494306568.addLabel(\"T->S Likely pathogenic\",{\"fontSize\": 10, \"fontColor\": \"palevioletred\", \"backgroundColor\": \"ivory\"},{\"resi\": \"18\", \"chain\": \"A\"});\n\tviewer_1534463494306568.addStyle({\"resi\": \"241\", \"chain\": \"A\"},{\"stick\": {\"colorscheme\": \"redCarbon\", \"radius\": 0.2}});\n\tviewer_1534463494306568.addStyle({\"resi\": \"241\", \"chain\": \"A\"},{\"sphere\": {\"color\": \"red\", \"opacity\": 0.6}});\n\tviewer_1534463494306568.addLabel(\"C->S Pathogenic\",{\"fontSize\": 10, \"fontColor\": \"red\", \"backgroundColor\": \"ivory\"},{\"resi\": \"241\", \"chain\": \"A\"});\n\tviewer_1534463494306568.addStyle({\"resi\": \"129\", \"chain\": \"A\"},{\"stick\": {\"colorscheme\": \"redCarbon\", \"radius\": 0.2}});\n\tviewer_1534463494306568.addStyle({\"resi\": \"129\", \"chain\": \"A\"},{\"sphere\": {\"color\": \"red\", \"opacity\": 0.6}});\n\tviewer_1534463494306568.addLabel(\"V->M Pathogenic\",{\"fontSize\": 10, \"fontColor\": \"red\", \"backgroundColor\": \"ivory\"},{\"resi\": \"129\", \"chain\": \"A\"});\n\tviewer_1534463494306568.addStyle({\"resi\": \"116\", \"chain\": \"A\"},{\"stick\": {\"colorscheme\": \"palevioletredCarbon\", \"radius\": 0.2}});\n\tviewer_1534463494306568.addStyle({\"resi\": \"116\", \"chain\": \"A\"},{\"sphere\": {\"color\": \"palevioletred\", \"opacity\": 0.6}});\n\tviewer_1534463494306568.addLabel(\"R->E Likely pathogenic\",{\"fontSize\": 10, \"fontColor\": \"palevioletred\", \"backgroundColor\": \"ivory\"},{\"resi\": \"116\", \"chain\": \"A\"});\n\tviewer_1534463494306568.addStyle({\"resi\": \"119\", \"chain\": \"A\"},{\"stick\": {\"colorscheme\": \"redCarbon\", \"radius\": 0.2}});\n\tviewer_1534463494306568.addStyle({\"resi\": \"119\", \"chain\": \"A\"},{\"sphere\": {\"color\": \"red\", \"opacity\": 0.6}});\n\tviewer_1534463494306568.addLabel(\"F->L Pathogenic\",{\"fontSize\": 10, \"fontColor\": \"red\", \"backgroundColor\": \"ivory\"},{\"resi\": \"119\", \"chain\": \"A\"});\n\tviewer_1534463494306568.addStyle({\"resi\": \"108\", \"chain\": \"A\"},{\"stick\": {\"colorscheme\": \"redCarbon\", \"radius\": 0.2}});\n\tviewer_1534463494306568.addStyle({\"resi\": \"108\", \"chain\": \"A\"},{\"sphere\": {\"color\": \"red\", \"opacity\": 0.6}});\n\tviewer_1534463494306568.addLabel(\"A->V Pathogenic\",{\"fontSize\": 10, \"fontColor\": \"red\", \"backgroundColor\": \"ivory\"},{\"resi\": \"108\", \"chain\": \"A\"});\n\tviewer_1534463494306568.addStyle({\"resi\": \"31\", \"chain\": \"A\"},{\"stick\": {\"colorscheme\": \"palevioletredCarbon\", \"radius\": 0.2}});\n\tviewer_1534463494306568.addStyle({\"resi\": \"31\", \"chain\": \"A\"},{\"sphere\": {\"color\": \"palevioletred\", \"opacity\": 0.6}});\n\tviewer_1534463494306568.addLabel(\"F->L Likely pathogenic\",{\"fontSize\": 10, \"fontColor\": \"palevioletred\", \"backgroundColor\": \"ivory\"},{\"resi\": \"31\", \"chain\": \"A\"});\n\tviewer_1534463494306568.addStyle({\"resi\": \"194\", \"chain\": \"A\"},{\"stick\": {\"colorscheme\": \"palevioletredCarbon\", \"radius\": 0.2}});\n\tviewer_1534463494306568.addStyle({\"resi\": \"194\", \"chain\": \"A\"},{\"sphere\": {\"color\": \"palevioletred\", \"opacity\": 0.6}});\n\tviewer_1534463494306568.addLabel(\"R->* Likely pathogenic\",{\"fontSize\": 10, \"fontColor\": \"palevioletred\", \"backgroundColor\": \"ivory\"},{\"resi\": \"194\", \"chain\": \"A\"});\n\tviewer_1534463494306568.addStyle({\"resi\": \"176\", \"chain\": \"A\"},{\"stick\": {\"colorscheme\": \"palevioletredCarbon\", \"radius\": 0.2}});\n\tviewer_1534463494306568.addStyle({\"resi\": \"176\", \"chain\": \"A\"},{\"sphere\": {\"color\": \"palevioletred\", \"opacity\": 0.6}});\n\tviewer_1534463494306568.addLabel(\"G->D Likely pathogenic\",{\"fontSize\": 10, \"fontColor\": \"palevioletred\", \"backgroundColor\": \"ivory\"},{\"resi\": \"176\", \"chain\": \"A\"});\n\tviewer_1534463494306568.addStyle({\"resi\": \"106\", \"chain\": \"A\"},{\"stick\": {\"colorscheme\": \"redCarbon\", \"radius\": 0.2}});\n\tviewer_1534463494306568.addStyle({\"resi\": \"106\", \"chain\": \"A\"},{\"sphere\": {\"color\": \"red\", \"opacity\": 0.6}});\n\tviewer_1534463494306568.addLabel(\"Y->F Pathogenic\",{\"fontSize\": 10, \"fontColor\": \"red\", \"backgroundColor\": \"ivory\"},{\"resi\": \"106\", \"chain\": \"A\"});\n\tviewer_1534463494306568.addStyle({\"resi\": \"216\", \"chain\": \"A\"},{\"stick\": {\"colorscheme\": \"redCarbon\", \"radius\": 0.2}});\n\tviewer_1534463494306568.addStyle({\"resi\": \"216\", \"chain\": \"A\"},{\"sphere\": {\"color\": \"red\", \"opacity\": 0.6}});\n\tviewer_1534463494306568.addLabel(\"N->S Pathogenic,Likely pathogenic\",{\"fontSize\": 10, \"fontColor\": \"red\", \"backgroundColor\": \"ivory\"},{\"resi\": \"216\", \"chain\": \"A\"});\n\tviewer_1534463494306568.addStyle({\"resi\": \"207\", \"chain\": \"A\"},{\"stick\": {\"colorscheme\": \"palevioletredCarbon\", \"radius\": 0.2}});\n\tviewer_1534463494306568.addStyle({\"resi\": \"207\", \"chain\": \"A\"},{\"sphere\": {\"color\": \"palevioletred\", \"opacity\": 0.6}});\n\tviewer_1534463494306568.addLabel(\"F->S Likely pathogenic\",{\"fontSize\": 10, \"fontColor\": \"palevioletred\", \"backgroundColor\": \"ivory\"},{\"resi\": \"207\", \"chain\": \"A\"});\n\tviewer_1534463494306568.addStyle({\"resi\": \"65\", \"chain\": \"A\"},{\"stick\": {\"colorscheme\": \"redCarbon\", \"radius\": 0.2}});\n\tviewer_1534463494306568.addStyle({\"resi\": \"65\", \"chain\": \"A\"},{\"sphere\": {\"color\": \"red\", \"opacity\": 0.6}});\n\tviewer_1534463494306568.addLabel(\"D->Y Pathogenic\",{\"fontSize\": 10, \"fontColor\": \"red\", \"backgroundColor\": \"ivory\"},{\"resi\": \"65\", \"chain\": \"A\"});\n\tviewer_1534463494306568.addStyle({\"resi\": \"237\", \"chain\": \"A\"},{\"stick\": {\"colorscheme\": \"redCarbon\", \"radius\": 0.2}});\n\tviewer_1534463494306568.addStyle({\"resi\": \"237\", \"chain\": \"A\"},{\"sphere\": {\"color\": \"red\", \"opacity\": 0.6}});\n\tviewer_1534463494306568.addLabel(\"T->MR Pathogenic\",{\"fontSize\": 10, \"fontColor\": \"red\", \"backgroundColor\": \"ivory\"},{\"resi\": \"237\", \"chain\": \"A\"});\n\tviewer_1534463494306568.addStyle({\"resi\": \"44\", \"chain\": \"A\"},{\"stick\": {\"colorscheme\": \"palevioletredCarbon\", \"radius\": 0.2}});\n\tviewer_1534463494306568.addStyle({\"resi\": \"44\", \"chain\": \"A\"},{\"sphere\": {\"color\": \"palevioletred\", \"opacity\": 0.6}});\n\tviewer_1534463494306568.addLabel(\"V->A Likely pathogenic\",{\"fontSize\": 10, \"fontColor\": \"palevioletred\", \"backgroundColor\": \"ivory\"},{\"resi\": \"44\", \"chain\": \"A\"});\n\tviewer_1534463494306568.addStyle({\"resi\": \"218\", \"chain\": \"A\"},{\"stick\": {\"colorscheme\": \"redCarbon\", \"radius\": 0.2}});\n\tviewer_1534463494306568.addStyle({\"resi\": \"218\", \"chain\": \"A\"},{\"sphere\": {\"color\": \"red\", \"opacity\": 0.6}});\n\tviewer_1534463494306568.addLabel(\"H->LD Pathogenic,Likely pathogenic\",{\"fontSize\": 10, \"fontColor\": \"red\", \"backgroundColor\": \"ivory\"},{\"resi\": \"218\", \"chain\": \"A\"});\n\tviewer_1534463494306568.addStyle({\"resi\": \"139\", \"chain\": \"A\"},{\"stick\": {\"colorscheme\": \"redCarbon\", \"radius\": 0.2}});\n\tviewer_1534463494306568.addStyle({\"resi\": \"139\", \"chain\": \"A\"},{\"sphere\": {\"color\": \"red\", \"opacity\": 0.6}});\n\tviewer_1534463494306568.addLabel(\"E->K Pathogenic,Likely pathogenic\",{\"fontSize\": 10, \"fontColor\": \"red\", \"backgroundColor\": \"ivory\"},{\"resi\": \"139\", \"chain\": \"A\"});\n\tviewer_1534463494306568.addStyle({\"resi\": \"43\", \"chain\": \"A\"},{\"stick\": {\"colorscheme\": \"palevioletredCarbon\", \"radius\": 0.2}});\n\tviewer_1534463494306568.addStyle({\"resi\": \"43\", \"chain\": \"A\"},{\"sphere\": {\"color\": \"palevioletred\", \"opacity\": 0.6}});\n\tviewer_1534463494306568.addLabel(\"V->L Likely pathogenic\",{\"fontSize\": 10, \"fontColor\": \"palevioletred\", \"backgroundColor\": \"ivory\"},{\"resi\": \"43\", \"chain\": \"A\"});\n\tviewer_1534463494306568.addStyle({\"resi\": \"144\", \"chain\": \"A\"},{\"stick\": {\"colorscheme\": \"palevioletredCarbon\", \"radius\": 0.2}});\n\tviewer_1534463494306568.addStyle({\"resi\": \"144\", \"chain\": \"A\"},{\"sphere\": {\"color\": \"palevioletred\", \"opacity\": 0.6}});\n\tviewer_1534463494306568.addLabel(\"F->L Likely pathogenic\",{\"fontSize\": 10, \"fontColor\": \"palevioletred\", \"backgroundColor\": \"ivory\"},{\"resi\": \"144\", \"chain\": \"A\"});\n\tviewer_1534463494306568.addStyle({\"resi\": \"53\", \"chain\": \"A\"},{\"stick\": {\"colorscheme\": \"redCarbon\", \"radius\": 0.2}});\n\tviewer_1534463494306568.addStyle({\"resi\": \"53\", \"chain\": \"A\"},{\"sphere\": {\"color\": \"red\", \"opacity\": 0.6}});\n\tviewer_1534463494306568.addLabel(\"Q->* Pathogenic\",{\"fontSize\": 10, \"fontColor\": \"red\", \"backgroundColor\": \"ivory\"},{\"resi\": \"53\", \"chain\": \"A\"});\n\tviewer_1534463494306568.addStyle({\"resi\": \"153\", \"chain\": \"A\"},{\"stick\": {\"colorscheme\": \"palevioletredCarbon\", \"radius\": 0.2}});\n\tviewer_1534463494306568.addStyle({\"resi\": \"153\", \"chain\": \"A\"},{\"sphere\": {\"color\": \"palevioletred\", \"opacity\": 0.6}});\n\tviewer_1534463494306568.addLabel(\"I->T Likely pathogenic\",{\"fontSize\": 10, \"fontColor\": \"palevioletred\", \"backgroundColor\": \"ivory\"},{\"resi\": \"153\", \"chain\": \"A\"});\n\tviewer_1534463494306568.addStyle({\"resi\": \"113\", \"chain\": \"A\"},{\"stick\": {\"colorscheme\": \"redCarbon\", \"radius\": 0.2}});\n\tviewer_1534463494306568.addStyle({\"resi\": \"113\", \"chain\": \"A\"},{\"sphere\": {\"color\": \"red\", \"opacity\": 0.6}});\n\tviewer_1534463494306568.addLabel(\"P->TSL Pathogenic,Likely pathogenic\",{\"fontSize\": 10, \"fontColor\": \"red\", \"backgroundColor\": \"ivory\"},{\"resi\": \"113\", \"chain\": \"A\"});\n\tviewer_1534463494306568.addStyle({\"resi\": \"223\", \"chain\": \"A\"},{\"stick\": {\"colorscheme\": \"redCarbon\", \"radius\": 0.2}});\n\tviewer_1534463494306568.addStyle({\"resi\": \"223\", \"chain\": \"A\"},{\"sphere\": {\"color\": \"red\", \"opacity\": 0.6}});\n\tviewer_1534463494306568.addLabel(\"D->E Pathogenic\",{\"fontSize\": 10, \"fontColor\": \"red\", \"backgroundColor\": \"ivory\"},{\"resi\": \"223\", \"chain\": \"A\"});\n\tviewer_1534463494306568.addStyle({\"resi\": \"117\", \"chain\": \"A\"},{\"stick\": {\"colorscheme\": \"redCarbon\", \"radius\": 0.2}});\n\tviewer_1534463494306568.addStyle({\"resi\": \"117\", \"chain\": \"A\"},{\"sphere\": {\"color\": \"red\", \"opacity\": 0.6}});\n\tviewer_1534463494306568.addLabel(\"G->R Pathogenic\",{\"fontSize\": 10, \"fontColor\": \"red\", \"backgroundColor\": \"ivory\"},{\"resi\": \"117\", \"chain\": \"A\"});\n\tviewer_1534463494306568.addStyle({\"resi\": \"104\", \"chain\": \"A\"},{\"stick\": {\"colorscheme\": \"redCarbon\", \"radius\": 0.2}});\n\tviewer_1534463494306568.addStyle({\"resi\": \"104\", \"chain\": \"A\"},{\"sphere\": {\"color\": \"red\", \"opacity\": 0.6}});\n\tviewer_1534463494306568.addLabel(\"L->V Pathogenic\",{\"fontSize\": 10, \"fontColor\": \"red\", \"backgroundColor\": \"ivory\"},{\"resi\": \"104\", \"chain\": \"A\"});\n\tviewer_1534463494306568.addStyle({\"resi\": \"162\", \"chain\": \"A\"},{\"stick\": {\"colorscheme\": \"redCarbon\", \"radius\": 0.2}});\n\tviewer_1534463494306568.addStyle({\"resi\": \"162\", \"chain\": \"A\"},{\"sphere\": {\"color\": \"red\", \"opacity\": 0.6}});\n\tviewer_1534463494306568.addLabel(\"R->W Pathogenic\",{\"fontSize\": 10, \"fontColor\": \"red\", \"backgroundColor\": \"ivory\"},{\"resi\": \"162\", \"chain\": \"A\"});\n\tviewer_1534463494306568.addStyle({\"resi\": \"123\", \"chain\": \"A\"},{\"stick\": {\"colorscheme\": \"redCarbon\", \"radius\": 0.2}});\n\tviewer_1534463494306568.addStyle({\"resi\": \"123\", \"chain\": \"A\"},{\"sphere\": {\"color\": \"red\", \"opacity\": 0.6}});\n\tviewer_1534463494306568.addLabel(\"R->*Q Pathogenic\",{\"fontSize\": 10, \"fontColor\": \"red\", \"backgroundColor\": \"ivory\"},{\"resi\": \"123\", \"chain\": \"A\"});\n\tviewer_1534463494306568.zoomTo({\"resi\": [\"63\", \"132\", \"69\", \"171\", \"226\", \"187\", \"32\", \"157\", \"141\", \"188\", \"208\", \"148\", \"9\", \"231\", \"18\", \"241\", \"129\", \"116\", \"119\", \"108\", \"31\", \"194\", \"176\", \"106\", \"216\", \"207\", \"65\", \"237\", \"44\", \"218\", \"139\", \"43\", \"144\", \"53\", \"153\", \"113\", \"223\", \"117\", \"104\", \"162\", \"123\"], \"chain\": \"A\"});\nviewer_1534463494306568.render();\n})\n});\n</script>",
          "text/html": "<div id=\"3dmolviewer_1534463494306568\"  style=\"position: relative; width: 640px; height: 480px\">\n        <p id=\"3dmolwarning_1534463494306568\" style=\"background-color:#ffcccc;color:black\">You appear to be running in JupyterLab.  You need to install the 3dmol extension: <br>\n        <tt>jupyter labextension install jupyterlab_3dmol</tt></p>\n        </div>\n<script>\n\nvar loadScriptAsync = function(uri){\n  return new Promise((resolve, reject) => {\n    var tag = document.createElement('script');\n    tag.src = uri;\n    tag.async = true;\n    tag.onload = () => {\n      resolve();\n    };\n  var firstScriptTag = document.getElementsByTagName('script')[0];\n  firstScriptTag.parentNode.insertBefore(tag, firstScriptTag);\n});\n};\n\nif(typeof $3Dmolpromise === 'undefined') {\n$3Dmolpromise = null;\n  $3Dmolpromise = loadScriptAsync('https://3dmol.csb.pitt.edu/build/3Dmol.js');\n}\n\nvar viewer_1534463494306568 = null;\nvar warn = document.getElementById(\"3dmolwarning_1534463494306568\");\nif(warn) {\n    warn.parentNode.removeChild(warn);\n}\n$3Dmolpromise.then(function() {\nviewer_1534463494306568 = $3Dmol.createViewer($(\"#3dmolviewer_1534463494306568\"),{backgroundColor:\"white\"});\n$3Dmol.download(\"pdb:2AMY\", viewer_1534463494306568, {\"doAssembly\": false}, function() {\n\tviewer_1534463494306568.setStyle({\"cartoon\": {\"colorscheme\": \"chain\", \"width\": 0.6, \"opacity\": 0.9}});\n\tviewer_1534463494306568.setStyle({\"hetflag\": true},{\"stick\": {\"radius\": 0.3, \"singleBond\": false}});\n\tviewer_1534463494306568.addStyle({\"chain\": \"A\", \"resi\": [\"63\", \"132\", \"69\", \"171\", \"226\", \"187\", \"32\", \"157\", \"141\", \"188\", \"208\", \"148\", \"9\", \"231\", \"18\", \"241\", \"129\", \"116\", \"119\", \"108\", \"31\", \"194\", \"176\", \"106\", \"216\", \"207\", \"65\", \"237\", \"44\", \"218\", \"139\", \"43\", \"144\", \"53\", \"153\", \"113\", \"223\", \"117\", \"104\", \"162\", \"123\"], \"byres\": true, \"expand\": 6},{\"stick\": {\"colorscheme\": \"orangeCarbon\", \"radius\": 0.15}});\n\tviewer_1534463494306568.addStyle({\"resi\": \"63\", \"chain\": \"A\"},{\"stick\": {\"colorscheme\": \"palevioletredCarbon\", \"radius\": 0.2}});\n\tviewer_1534463494306568.addStyle({\"resi\": \"63\", \"chain\": \"A\"},{\"sphere\": {\"color\": \"palevioletred\", \"opacity\": 0.6}});\n\tviewer_1534463494306568.addLabel(\"K->N Likely pathogenic\",{\"fontSize\": 10, \"fontColor\": \"palevioletred\", \"backgroundColor\": \"ivory\"},{\"resi\": \"63\", \"chain\": \"A\"});\n\tviewer_1534463494306568.addStyle({\"resi\": \"132\", \"chain\": \"A\"},{\"stick\": {\"colorscheme\": \"palevioletredCarbon\", \"radius\": 0.2}});\n\tviewer_1534463494306568.addStyle({\"resi\": \"132\", \"chain\": \"A\"},{\"sphere\": {\"color\": \"palevioletred\", \"opacity\": 0.6}});\n\tviewer_1534463494306568.addLabel(\"I->T Likely pathogenic\",{\"fontSize\": 10, \"fontColor\": \"palevioletred\", \"backgroundColor\": \"ivory\"},{\"resi\": \"132\", \"chain\": \"A\"});\n\tviewer_1534463494306568.addStyle({\"resi\": \"69\", \"chain\": \"A\"},{\"stick\": {\"colorscheme\": \"palevioletredCarbon\", \"radius\": 0.2}});\n\tviewer_1534463494306568.addStyle({\"resi\": \"69\", \"chain\": \"A\"},{\"sphere\": {\"color\": \"palevioletred\", \"opacity\": 0.6}});\n\tviewer_1534463494306568.addLabel(\"P->SA Likely pathogenic\",{\"fontSize\": 10, \"fontColor\": \"palevioletred\", \"backgroundColor\": \"ivory\"},{\"resi\": \"69\", \"chain\": \"A\"});\n\tviewer_1534463494306568.addStyle({\"resi\": \"171\", \"chain\": \"A\"},{\"stick\": {\"colorscheme\": \"palevioletredCarbon\", \"radius\": 0.2}});\n\tviewer_1534463494306568.addStyle({\"resi\": \"171\", \"chain\": \"A\"},{\"sphere\": {\"color\": \"palevioletred\", \"opacity\": 0.6}});\n\tviewer_1534463494306568.addLabel(\"T->N Likely pathogenic\",{\"fontSize\": 10, \"fontColor\": \"palevioletred\", \"backgroundColor\": \"ivory\"},{\"resi\": \"171\", \"chain\": \"A\"});\n\tviewer_1534463494306568.addStyle({\"resi\": \"226\", \"chain\": \"A\"},{\"stick\": {\"colorscheme\": \"redCarbon\", \"radius\": 0.2}});\n\tviewer_1534463494306568.addStyle({\"resi\": \"226\", \"chain\": \"A\"},{\"sphere\": {\"color\": \"red\", \"opacity\": 0.6}});\n\tviewer_1534463494306568.addLabel(\"T->S Pathogenic\",{\"fontSize\": 10, \"fontColor\": \"red\", \"backgroundColor\": \"ivory\"},{\"resi\": \"226\", \"chain\": \"A\"});\n\tviewer_1534463494306568.addStyle({\"resi\": \"187\", \"chain\": \"A\"},{\"stick\": {\"colorscheme\": \"palevioletredCarbon\", \"radius\": 0.2}});\n\tviewer_1534463494306568.addStyle({\"resi\": \"187\", \"chain\": \"A\"},{\"sphere\": {\"color\": \"palevioletred\", \"opacity\": 0.6}});\n\tviewer_1534463494306568.addLabel(\"W->* Likely pathogenic\",{\"fontSize\": 10, \"fontColor\": \"palevioletred\", \"backgroundColor\": \"ivory\"},{\"resi\": \"187\", \"chain\": \"A\"});\n\tviewer_1534463494306568.addStyle({\"resi\": \"32\", \"chain\": \"A\"},{\"stick\": {\"colorscheme\": \"redCarbon\", \"radius\": 0.2}});\n\tviewer_1534463494306568.addStyle({\"resi\": \"32\", \"chain\": \"A\"},{\"sphere\": {\"color\": \"red\", \"opacity\": 0.6}});\n\tviewer_1534463494306568.addLabel(\"L->R Pathogenic\",{\"fontSize\": 10, \"fontColor\": \"red\", \"backgroundColor\": \"ivory\"},{\"resi\": \"32\", \"chain\": \"A\"});\n\tviewer_1534463494306568.addStyle({\"resi\": \"157\", \"chain\": \"A\"},{\"stick\": {\"colorscheme\": \"redCarbon\", \"radius\": 0.2}});\n\tviewer_1534463494306568.addStyle({\"resi\": \"157\", \"chain\": \"A\"},{\"sphere\": {\"color\": \"red\", \"opacity\": 0.6}});\n\tviewer_1534463494306568.addLabel(\"F->S Pathogenic\",{\"fontSize\": 10, \"fontColor\": \"red\", \"backgroundColor\": \"ivory\"},{\"resi\": \"157\", \"chain\": \"A\"});\n\tviewer_1534463494306568.addStyle({\"resi\": \"141\", \"chain\": \"A\"},{\"stick\": {\"colorscheme\": \"redCarbon\", \"radius\": 0.2}});\n\tviewer_1534463494306568.addStyle({\"resi\": \"141\", \"chain\": \"A\"},{\"sphere\": {\"color\": \"red\", \"opacity\": 0.6}});\n\tviewer_1534463494306568.addLabel(\"R->H Pathogenic\",{\"fontSize\": 10, \"fontColor\": \"red\", \"backgroundColor\": \"ivory\"},{\"resi\": \"141\", \"chain\": \"A\"});\n\tviewer_1534463494306568.addStyle({\"resi\": \"188\", \"chain\": \"A\"},{\"stick\": {\"colorscheme\": \"redCarbon\", \"radius\": 0.2}});\n\tviewer_1534463494306568.addStyle({\"resi\": \"188\", \"chain\": \"A\"},{\"sphere\": {\"color\": \"red\", \"opacity\": 0.6}});\n\tviewer_1534463494306568.addLabel(\"D->G Pathogenic\",{\"fontSize\": 10, \"fontColor\": \"red\", \"backgroundColor\": \"ivory\"},{\"resi\": \"188\", \"chain\": \"A\"});\n\tviewer_1534463494306568.addStyle({\"resi\": \"208\", \"chain\": \"A\"},{\"stick\": {\"colorscheme\": \"redCarbon\", \"radius\": 0.2}});\n\tviewer_1534463494306568.addStyle({\"resi\": \"208\", \"chain\": \"A\"},{\"sphere\": {\"color\": \"red\", \"opacity\": 0.6}});\n\tviewer_1534463494306568.addLabel(\"G->EA Pathogenic\",{\"fontSize\": 10, \"fontColor\": \"red\", \"backgroundColor\": \"ivory\"},{\"resi\": \"208\", \"chain\": \"A\"});\n\tviewer_1534463494306568.addStyle({\"resi\": \"148\", \"chain\": \"A\"},{\"stick\": {\"colorscheme\": \"redCarbon\", \"radius\": 0.2}});\n\tviewer_1534463494306568.addStyle({\"resi\": \"148\", \"chain\": \"A\"},{\"sphere\": {\"color\": \"red\", \"opacity\": 0.6}});\n\tviewer_1534463494306568.addLabel(\"D->N Pathogenic\",{\"fontSize\": 10, \"fontColor\": \"red\", \"backgroundColor\": \"ivory\"},{\"resi\": \"148\", \"chain\": \"A\"});\n\tviewer_1534463494306568.addStyle({\"resi\": \"9\", \"chain\": \"A\"},{\"stick\": {\"colorscheme\": \"palevioletredCarbon\", \"radius\": 0.2}});\n\tviewer_1534463494306568.addStyle({\"resi\": \"9\", \"chain\": \"A\"},{\"sphere\": {\"color\": \"palevioletred\", \"opacity\": 0.6}});\n\tviewer_1534463494306568.addLabel(\"C->*AY Likely pathogenic\",{\"fontSize\": 10, \"fontColor\": \"palevioletred\", \"backgroundColor\": \"ivory\"},{\"resi\": \"9\", \"chain\": \"A\"});\n\tviewer_1534463494306568.addStyle({\"resi\": \"231\", \"chain\": \"A\"},{\"stick\": {\"colorscheme\": \"redCarbon\", \"radius\": 0.2}});\n\tviewer_1534463494306568.addStyle({\"resi\": \"231\", \"chain\": \"A\"},{\"sphere\": {\"color\": \"red\", \"opacity\": 0.6}});\n\tviewer_1534463494306568.addLabel(\"V->M Pathogenic\",{\"fontSize\": 10, \"fontColor\": \"red\", \"backgroundColor\": \"ivory\"},{\"resi\": \"231\", \"chain\": \"A\"});\n\tviewer_1534463494306568.addStyle({\"resi\": \"18\", \"chain\": \"A\"},{\"stick\": {\"colorscheme\": \"palevioletredCarbon\", \"radius\": 0.2}});\n\tviewer_1534463494306568.addStyle({\"resi\": \"18\", \"chain\": \"A\"},{\"sphere\": {\"color\": \"palevioletred\", \"opacity\": 0.6}});\n\tviewer_1534463494306568.addLabel(\"T->S Likely pathogenic\",{\"fontSize\": 10, \"fontColor\": \"palevioletred\", \"backgroundColor\": \"ivory\"},{\"resi\": \"18\", \"chain\": \"A\"});\n\tviewer_1534463494306568.addStyle({\"resi\": \"241\", \"chain\": \"A\"},{\"stick\": {\"colorscheme\": \"redCarbon\", \"radius\": 0.2}});\n\tviewer_1534463494306568.addStyle({\"resi\": \"241\", \"chain\": \"A\"},{\"sphere\": {\"color\": \"red\", \"opacity\": 0.6}});\n\tviewer_1534463494306568.addLabel(\"C->S Pathogenic\",{\"fontSize\": 10, \"fontColor\": \"red\", \"backgroundColor\": \"ivory\"},{\"resi\": \"241\", \"chain\": \"A\"});\n\tviewer_1534463494306568.addStyle({\"resi\": \"129\", \"chain\": \"A\"},{\"stick\": {\"colorscheme\": \"redCarbon\", \"radius\": 0.2}});\n\tviewer_1534463494306568.addStyle({\"resi\": \"129\", \"chain\": \"A\"},{\"sphere\": {\"color\": \"red\", \"opacity\": 0.6}});\n\tviewer_1534463494306568.addLabel(\"V->M Pathogenic\",{\"fontSize\": 10, \"fontColor\": \"red\", \"backgroundColor\": \"ivory\"},{\"resi\": \"129\", \"chain\": \"A\"});\n\tviewer_1534463494306568.addStyle({\"resi\": \"116\", \"chain\": \"A\"},{\"stick\": {\"colorscheme\": \"palevioletredCarbon\", \"radius\": 0.2}});\n\tviewer_1534463494306568.addStyle({\"resi\": \"116\", \"chain\": \"A\"},{\"sphere\": {\"color\": \"palevioletred\", \"opacity\": 0.6}});\n\tviewer_1534463494306568.addLabel(\"R->E Likely pathogenic\",{\"fontSize\": 10, \"fontColor\": \"palevioletred\", \"backgroundColor\": \"ivory\"},{\"resi\": \"116\", \"chain\": \"A\"});\n\tviewer_1534463494306568.addStyle({\"resi\": \"119\", \"chain\": \"A\"},{\"stick\": {\"colorscheme\": \"redCarbon\", \"radius\": 0.2}});\n\tviewer_1534463494306568.addStyle({\"resi\": \"119\", \"chain\": \"A\"},{\"sphere\": {\"color\": \"red\", \"opacity\": 0.6}});\n\tviewer_1534463494306568.addLabel(\"F->L Pathogenic\",{\"fontSize\": 10, \"fontColor\": \"red\", \"backgroundColor\": \"ivory\"},{\"resi\": \"119\", \"chain\": \"A\"});\n\tviewer_1534463494306568.addStyle({\"resi\": \"108\", \"chain\": \"A\"},{\"stick\": {\"colorscheme\": \"redCarbon\", \"radius\": 0.2}});\n\tviewer_1534463494306568.addStyle({\"resi\": \"108\", \"chain\": \"A\"},{\"sphere\": {\"color\": \"red\", \"opacity\": 0.6}});\n\tviewer_1534463494306568.addLabel(\"A->V Pathogenic\",{\"fontSize\": 10, \"fontColor\": \"red\", \"backgroundColor\": \"ivory\"},{\"resi\": \"108\", \"chain\": \"A\"});\n\tviewer_1534463494306568.addStyle({\"resi\": \"31\", \"chain\": \"A\"},{\"stick\": {\"colorscheme\": \"palevioletredCarbon\", \"radius\": 0.2}});\n\tviewer_1534463494306568.addStyle({\"resi\": \"31\", \"chain\": \"A\"},{\"sphere\": {\"color\": \"palevioletred\", \"opacity\": 0.6}});\n\tviewer_1534463494306568.addLabel(\"F->L Likely pathogenic\",{\"fontSize\": 10, \"fontColor\": \"palevioletred\", \"backgroundColor\": \"ivory\"},{\"resi\": \"31\", \"chain\": \"A\"});\n\tviewer_1534463494306568.addStyle({\"resi\": \"194\", \"chain\": \"A\"},{\"stick\": {\"colorscheme\": \"palevioletredCarbon\", \"radius\": 0.2}});\n\tviewer_1534463494306568.addStyle({\"resi\": \"194\", \"chain\": \"A\"},{\"sphere\": {\"color\": \"palevioletred\", \"opacity\": 0.6}});\n\tviewer_1534463494306568.addLabel(\"R->* Likely pathogenic\",{\"fontSize\": 10, \"fontColor\": \"palevioletred\", \"backgroundColor\": \"ivory\"},{\"resi\": \"194\", \"chain\": \"A\"});\n\tviewer_1534463494306568.addStyle({\"resi\": \"176\", \"chain\": \"A\"},{\"stick\": {\"colorscheme\": \"palevioletredCarbon\", \"radius\": 0.2}});\n\tviewer_1534463494306568.addStyle({\"resi\": \"176\", \"chain\": \"A\"},{\"sphere\": {\"color\": \"palevioletred\", \"opacity\": 0.6}});\n\tviewer_1534463494306568.addLabel(\"G->D Likely pathogenic\",{\"fontSize\": 10, \"fontColor\": \"palevioletred\", \"backgroundColor\": \"ivory\"},{\"resi\": \"176\", \"chain\": \"A\"});\n\tviewer_1534463494306568.addStyle({\"resi\": \"106\", \"chain\": \"A\"},{\"stick\": {\"colorscheme\": \"redCarbon\", \"radius\": 0.2}});\n\tviewer_1534463494306568.addStyle({\"resi\": \"106\", \"chain\": \"A\"},{\"sphere\": {\"color\": \"red\", \"opacity\": 0.6}});\n\tviewer_1534463494306568.addLabel(\"Y->F Pathogenic\",{\"fontSize\": 10, \"fontColor\": \"red\", \"backgroundColor\": \"ivory\"},{\"resi\": \"106\", \"chain\": \"A\"});\n\tviewer_1534463494306568.addStyle({\"resi\": \"216\", \"chain\": \"A\"},{\"stick\": {\"colorscheme\": \"redCarbon\", \"radius\": 0.2}});\n\tviewer_1534463494306568.addStyle({\"resi\": \"216\", \"chain\": \"A\"},{\"sphere\": {\"color\": \"red\", \"opacity\": 0.6}});\n\tviewer_1534463494306568.addLabel(\"N->S Pathogenic,Likely pathogenic\",{\"fontSize\": 10, \"fontColor\": \"red\", \"backgroundColor\": \"ivory\"},{\"resi\": \"216\", \"chain\": \"A\"});\n\tviewer_1534463494306568.addStyle({\"resi\": \"207\", \"chain\": \"A\"},{\"stick\": {\"colorscheme\": \"palevioletredCarbon\", \"radius\": 0.2}});\n\tviewer_1534463494306568.addStyle({\"resi\": \"207\", \"chain\": \"A\"},{\"sphere\": {\"color\": \"palevioletred\", \"opacity\": 0.6}});\n\tviewer_1534463494306568.addLabel(\"F->S Likely pathogenic\",{\"fontSize\": 10, \"fontColor\": \"palevioletred\", \"backgroundColor\": \"ivory\"},{\"resi\": \"207\", \"chain\": \"A\"});\n\tviewer_1534463494306568.addStyle({\"resi\": \"65\", \"chain\": \"A\"},{\"stick\": {\"colorscheme\": \"redCarbon\", \"radius\": 0.2}});\n\tviewer_1534463494306568.addStyle({\"resi\": \"65\", \"chain\": \"A\"},{\"sphere\": {\"color\": \"red\", \"opacity\": 0.6}});\n\tviewer_1534463494306568.addLabel(\"D->Y Pathogenic\",{\"fontSize\": 10, \"fontColor\": \"red\", \"backgroundColor\": \"ivory\"},{\"resi\": \"65\", \"chain\": \"A\"});\n\tviewer_1534463494306568.addStyle({\"resi\": \"237\", \"chain\": \"A\"},{\"stick\": {\"colorscheme\": \"redCarbon\", \"radius\": 0.2}});\n\tviewer_1534463494306568.addStyle({\"resi\": \"237\", \"chain\": \"A\"},{\"sphere\": {\"color\": \"red\", \"opacity\": 0.6}});\n\tviewer_1534463494306568.addLabel(\"T->MR Pathogenic\",{\"fontSize\": 10, \"fontColor\": \"red\", \"backgroundColor\": \"ivory\"},{\"resi\": \"237\", \"chain\": \"A\"});\n\tviewer_1534463494306568.addStyle({\"resi\": \"44\", \"chain\": \"A\"},{\"stick\": {\"colorscheme\": \"palevioletredCarbon\", \"radius\": 0.2}});\n\tviewer_1534463494306568.addStyle({\"resi\": \"44\", \"chain\": \"A\"},{\"sphere\": {\"color\": \"palevioletred\", \"opacity\": 0.6}});\n\tviewer_1534463494306568.addLabel(\"V->A Likely pathogenic\",{\"fontSize\": 10, \"fontColor\": \"palevioletred\", \"backgroundColor\": \"ivory\"},{\"resi\": \"44\", \"chain\": \"A\"});\n\tviewer_1534463494306568.addStyle({\"resi\": \"218\", \"chain\": \"A\"},{\"stick\": {\"colorscheme\": \"redCarbon\", \"radius\": 0.2}});\n\tviewer_1534463494306568.addStyle({\"resi\": \"218\", \"chain\": \"A\"},{\"sphere\": {\"color\": \"red\", \"opacity\": 0.6}});\n\tviewer_1534463494306568.addLabel(\"H->LD Pathogenic,Likely pathogenic\",{\"fontSize\": 10, \"fontColor\": \"red\", \"backgroundColor\": \"ivory\"},{\"resi\": \"218\", \"chain\": \"A\"});\n\tviewer_1534463494306568.addStyle({\"resi\": \"139\", \"chain\": \"A\"},{\"stick\": {\"colorscheme\": \"redCarbon\", \"radius\": 0.2}});\n\tviewer_1534463494306568.addStyle({\"resi\": \"139\", \"chain\": \"A\"},{\"sphere\": {\"color\": \"red\", \"opacity\": 0.6}});\n\tviewer_1534463494306568.addLabel(\"E->K Pathogenic,Likely pathogenic\",{\"fontSize\": 10, \"fontColor\": \"red\", \"backgroundColor\": \"ivory\"},{\"resi\": \"139\", \"chain\": \"A\"});\n\tviewer_1534463494306568.addStyle({\"resi\": \"43\", \"chain\": \"A\"},{\"stick\": {\"colorscheme\": \"palevioletredCarbon\", \"radius\": 0.2}});\n\tviewer_1534463494306568.addStyle({\"resi\": \"43\", \"chain\": \"A\"},{\"sphere\": {\"color\": \"palevioletred\", \"opacity\": 0.6}});\n\tviewer_1534463494306568.addLabel(\"V->L Likely pathogenic\",{\"fontSize\": 10, \"fontColor\": \"palevioletred\", \"backgroundColor\": \"ivory\"},{\"resi\": \"43\", \"chain\": \"A\"});\n\tviewer_1534463494306568.addStyle({\"resi\": \"144\", \"chain\": \"A\"},{\"stick\": {\"colorscheme\": \"palevioletredCarbon\", \"radius\": 0.2}});\n\tviewer_1534463494306568.addStyle({\"resi\": \"144\", \"chain\": \"A\"},{\"sphere\": {\"color\": \"palevioletred\", \"opacity\": 0.6}});\n\tviewer_1534463494306568.addLabel(\"F->L Likely pathogenic\",{\"fontSize\": 10, \"fontColor\": \"palevioletred\", \"backgroundColor\": \"ivory\"},{\"resi\": \"144\", \"chain\": \"A\"});\n\tviewer_1534463494306568.addStyle({\"resi\": \"53\", \"chain\": \"A\"},{\"stick\": {\"colorscheme\": \"redCarbon\", \"radius\": 0.2}});\n\tviewer_1534463494306568.addStyle({\"resi\": \"53\", \"chain\": \"A\"},{\"sphere\": {\"color\": \"red\", \"opacity\": 0.6}});\n\tviewer_1534463494306568.addLabel(\"Q->* Pathogenic\",{\"fontSize\": 10, \"fontColor\": \"red\", \"backgroundColor\": \"ivory\"},{\"resi\": \"53\", \"chain\": \"A\"});\n\tviewer_1534463494306568.addStyle({\"resi\": \"153\", \"chain\": \"A\"},{\"stick\": {\"colorscheme\": \"palevioletredCarbon\", \"radius\": 0.2}});\n\tviewer_1534463494306568.addStyle({\"resi\": \"153\", \"chain\": \"A\"},{\"sphere\": {\"color\": \"palevioletred\", \"opacity\": 0.6}});\n\tviewer_1534463494306568.addLabel(\"I->T Likely pathogenic\",{\"fontSize\": 10, \"fontColor\": \"palevioletred\", \"backgroundColor\": \"ivory\"},{\"resi\": \"153\", \"chain\": \"A\"});\n\tviewer_1534463494306568.addStyle({\"resi\": \"113\", \"chain\": \"A\"},{\"stick\": {\"colorscheme\": \"redCarbon\", \"radius\": 0.2}});\n\tviewer_1534463494306568.addStyle({\"resi\": \"113\", \"chain\": \"A\"},{\"sphere\": {\"color\": \"red\", \"opacity\": 0.6}});\n\tviewer_1534463494306568.addLabel(\"P->TSL Pathogenic,Likely pathogenic\",{\"fontSize\": 10, \"fontColor\": \"red\", \"backgroundColor\": \"ivory\"},{\"resi\": \"113\", \"chain\": \"A\"});\n\tviewer_1534463494306568.addStyle({\"resi\": \"223\", \"chain\": \"A\"},{\"stick\": {\"colorscheme\": \"redCarbon\", \"radius\": 0.2}});\n\tviewer_1534463494306568.addStyle({\"resi\": \"223\", \"chain\": \"A\"},{\"sphere\": {\"color\": \"red\", \"opacity\": 0.6}});\n\tviewer_1534463494306568.addLabel(\"D->E Pathogenic\",{\"fontSize\": 10, \"fontColor\": \"red\", \"backgroundColor\": \"ivory\"},{\"resi\": \"223\", \"chain\": \"A\"});\n\tviewer_1534463494306568.addStyle({\"resi\": \"117\", \"chain\": \"A\"},{\"stick\": {\"colorscheme\": \"redCarbon\", \"radius\": 0.2}});\n\tviewer_1534463494306568.addStyle({\"resi\": \"117\", \"chain\": \"A\"},{\"sphere\": {\"color\": \"red\", \"opacity\": 0.6}});\n\tviewer_1534463494306568.addLabel(\"G->R Pathogenic\",{\"fontSize\": 10, \"fontColor\": \"red\", \"backgroundColor\": \"ivory\"},{\"resi\": \"117\", \"chain\": \"A\"});\n\tviewer_1534463494306568.addStyle({\"resi\": \"104\", \"chain\": \"A\"},{\"stick\": {\"colorscheme\": \"redCarbon\", \"radius\": 0.2}});\n\tviewer_1534463494306568.addStyle({\"resi\": \"104\", \"chain\": \"A\"},{\"sphere\": {\"color\": \"red\", \"opacity\": 0.6}});\n\tviewer_1534463494306568.addLabel(\"L->V Pathogenic\",{\"fontSize\": 10, \"fontColor\": \"red\", \"backgroundColor\": \"ivory\"},{\"resi\": \"104\", \"chain\": \"A\"});\n\tviewer_1534463494306568.addStyle({\"resi\": \"162\", \"chain\": \"A\"},{\"stick\": {\"colorscheme\": \"redCarbon\", \"radius\": 0.2}});\n\tviewer_1534463494306568.addStyle({\"resi\": \"162\", \"chain\": \"A\"},{\"sphere\": {\"color\": \"red\", \"opacity\": 0.6}});\n\tviewer_1534463494306568.addLabel(\"R->W Pathogenic\",{\"fontSize\": 10, \"fontColor\": \"red\", \"backgroundColor\": \"ivory\"},{\"resi\": \"162\", \"chain\": \"A\"});\n\tviewer_1534463494306568.addStyle({\"resi\": \"123\", \"chain\": \"A\"},{\"stick\": {\"colorscheme\": \"redCarbon\", \"radius\": 0.2}});\n\tviewer_1534463494306568.addStyle({\"resi\": \"123\", \"chain\": \"A\"},{\"sphere\": {\"color\": \"red\", \"opacity\": 0.6}});\n\tviewer_1534463494306568.addLabel(\"R->*Q Pathogenic\",{\"fontSize\": 10, \"fontColor\": \"red\", \"backgroundColor\": \"ivory\"},{\"resi\": \"123\", \"chain\": \"A\"});\n\tviewer_1534463494306568.zoomTo({\"resi\": [\"63\", \"132\", \"69\", \"171\", \"226\", \"187\", \"32\", \"157\", \"141\", \"188\", \"208\", \"148\", \"9\", \"231\", \"18\", \"241\", \"129\", \"116\", \"119\", \"108\", \"31\", \"194\", \"176\", \"106\", \"216\", \"207\", \"65\", \"237\", \"44\", \"218\", \"139\", \"43\", \"144\", \"53\", \"153\", \"113\", \"223\", \"117\", \"104\", \"162\", \"123\"], \"chain\": \"A\"});\nviewer_1534463494306568.render();\n})\n});\n</script>"
         },
         "metadata": {},
         "output_type": "display_data"
        }
       ]
      }
     },
     "e8bb18d8a12a41e5a486c3c2f87935b7": {
      "model_module": "@jupyter-widgets/controls",
      "model_module_version": "1.3.0",
      "model_name": "CheckboxModel",
      "state": {
       "description": "show_surface",
       "disabled": false,
       "layout": "IPY_MODEL_997e9e642b0d4cee9283c31bd2d386ef",
       "style": "IPY_MODEL_56c52e25ea7a4270865a7e22f0b61b50",
       "value": false
      }
     },
     "e91f16de00124ced8164cac5987e0fbb": {
      "model_module": "@jupyter-widgets/base",
      "model_module_version": "1.1.0",
      "model_name": "LayoutModel",
      "state": {}
     },
     "e945c9f0cd854d66b8cb4a53e20f149e": {
      "model_module": "@jupyter-widgets/controls",
      "model_module_version": "1.3.0",
      "model_name": "DescriptionStyleModel",
      "state": {
       "description_width": ""
      }
     },
     "e9d606f3f0044983a52b04cc60204032": {
      "model_module": "@jupyter-widgets/base",
      "model_module_version": "1.1.0",
      "model_name": "LayoutModel",
      "state": {}
     },
     "ece8ff0fa25042d3a9447137ba7378d3": {
      "model_module": "@jupyter-widgets/controls",
      "model_module_version": "1.3.0",
      "model_name": "DescriptionStyleModel",
      "state": {
       "description_width": ""
      }
     },
     "ee0b68541b1d4f8d8700e78806d2be16": {
      "model_module": "@jupyter-widgets/base",
      "model_module_version": "1.1.0",
      "model_name": "LayoutModel",
      "state": {}
     },
     "ee85325cb05c413883f3d655f16f06f9": {
      "model_module": "@jupyter-widgets/controls",
      "model_module_version": "1.3.0",
      "model_name": "VBoxModel",
      "state": {
       "_dom_classes": [
        "widget-interact"
       ],
       "children": [
        "IPY_MODEL_e3365a1f6f1d4c6c9066bf445194e449",
        "IPY_MODEL_1170100444e04f228638a5b01acfb31f",
        "IPY_MODEL_417ba18dfb2d418d8dea6228629f1bdc",
        "IPY_MODEL_1dc27a2683eb49a9bf943b3bfc0f2fbf",
        "IPY_MODEL_882d3eea77df4e64a25fe126a0bca785"
       ],
       "layout": "IPY_MODEL_4ba76275a3fe4c34bbe2cca2ab0e4573"
      }
     },
     "ef56af416a4344338f7a53266083562b": {
      "model_module": "@jupyter-widgets/base",
      "model_module_version": "1.1.0",
      "model_name": "LayoutModel",
      "state": {}
     },
     "f07396cc2dac4842b4fa862e85e3abc8": {
      "model_module": "@jupyter-widgets/controls",
      "model_module_version": "1.3.0",
      "model_name": "CheckboxModel",
      "state": {
       "description": "show_labels",
       "disabled": false,
       "layout": "IPY_MODEL_56912ba30235472dbf36eda4272aadf8",
       "style": "IPY_MODEL_a3d5092491374a20b2f87fbcf0b1b0d4",
       "value": true
      }
     },
     "f0a4beca686b4ecbb42b841772a4fae1": {
      "model_module": "@jupyter-widgets/controls",
      "model_module_version": "1.3.0",
      "model_name": "DescriptionStyleModel",
      "state": {
       "description_width": ""
      }
     },
     "f2bc9ba70ef54d8b8953ccb0f91656a4": {
      "model_module": "@jupyter-widgets/controls",
      "model_module_version": "1.3.0",
      "model_name": "DescriptionStyleModel",
      "state": {
       "description_width": ""
      }
     },
     "f39fe7bd3b5b4b6c947f70f37533fd6c": {
      "model_module": "@jupyter-widgets/controls",
      "model_module_version": "1.3.0",
      "model_name": "DescriptionStyleModel",
      "state": {
       "description_width": ""
      }
     },
     "f646e1cea23b47beb60237d80b119618": {
      "model_module": "@jupyter-widgets/controls",
      "model_module_version": "1.3.0",
      "model_name": "CheckboxModel",
      "state": {
       "description": "show_surface",
       "disabled": false,
       "layout": "IPY_MODEL_76c36107ec6f4cab9c1aca35d611a560",
       "style": "IPY_MODEL_14bf3bc090184ab08ad6cc68cc35590f",
       "value": false
      }
     },
     "f70f7164017b4d5699bdaaf5b44d6c54": {
      "model_module": "@jupyter-widgets/base",
      "model_module_version": "1.1.0",
      "model_name": "LayoutModel",
      "state": {}
     },
     "f9057bd843e441c384c29127dd19d9a6": {
      "model_module": "@jupyter-widgets/base",
      "model_module_version": "1.1.0",
      "model_name": "LayoutModel",
      "state": {}
     },
     "f9404ad7c8d34884b71bb98140700df8": {
      "model_module": "@jupyter-widgets/controls",
      "model_module_version": "1.3.0",
      "model_name": "CheckboxModel",
      "state": {
       "description": "show_bio_assembly",
       "disabled": false,
       "layout": "IPY_MODEL_24e587f44d024fe28ba757025afa2919",
       "style": "IPY_MODEL_139353bec67848d8a38af3bdf2ef1fe7",
       "value": false
      }
     },
     "f94d53139c9b435bb01b34f6565d8353": {
      "model_module": "@jupyter-widgets/controls",
      "model_module_version": "1.3.0",
      "model_name": "DescriptionStyleModel",
      "state": {
       "description_width": ""
      }
     },
     "f94e787c7c5643bf82b5029f4dd6b550": {
      "model_module": "@jupyter-widgets/base",
      "model_module_version": "1.1.0",
      "model_name": "LayoutModel",
      "state": {}
     },
     "f9bb9f8dc2f84789b97b5530e5a3c372": {
      "model_module": "@jupyter-widgets/controls",
      "model_module_version": "1.3.0",
      "model_name": "IntSliderModel",
      "state": {
       "continuous_update": false,
       "description": "Structure",
       "layout": "IPY_MODEL_ae81dc8a849d47ec8a23234c58f505d4",
       "max": 1455,
       "style": "IPY_MODEL_231aa8f5289e45b4b1a1d24d1204f674",
       "value": 509
      }
     },
     "fa905030cac9416e8afc7e5b75be383f": {
      "model_module": "@jupyter-widgets/base",
      "model_module_version": "1.1.0",
      "model_name": "LayoutModel",
      "state": {}
     },
     "fba6045137cf43c5a8a138acc24a670d": {
      "model_module": "@jupyter-widgets/output",
      "model_module_version": "1.0.0",
      "model_name": "OutputModel",
      "state": {
       "layout": "IPY_MODEL_76a5b949a4514cda9a59970124a839e9",
       "outputs": [
        {
         "name": "stdout",
         "output_type": "stream",
         "text": "PDB Id: 5BQD chain Id: A\nuniprotId: Q99593\n"
        },
        {
         "data": {
          "application/3dmoljs_load.v0": "<div id=\"3dmolviewer_15344629228935711\"  style=\"position: relative; width: 640px; height: 480px\">\n        <p id=\"3dmolwarning_15344629228935711\" style=\"background-color:#ffcccc;color:black\">You appear to be running in JupyterLab.  You need to install the 3dmol extension: <br>\n        <tt>jupyter labextension install jupyterlab_3dmol</tt></p>\n        </div>\n<script>\n\nvar loadScriptAsync = function(uri){\n  return new Promise((resolve, reject) => {\n    var tag = document.createElement('script');\n    tag.src = uri;\n    tag.async = true;\n    tag.onload = () => {\n      resolve();\n    };\n  var firstScriptTag = document.getElementsByTagName('script')[0];\n  firstScriptTag.parentNode.insertBefore(tag, firstScriptTag);\n});\n};\n\nif(typeof $3Dmolpromise === 'undefined') {\n$3Dmolpromise = null;\n  $3Dmolpromise = loadScriptAsync('https://3dmol.csb.pitt.edu/build/3Dmol.js');\n}\n\nvar viewer_15344629228935711 = null;\nvar warn = document.getElementById(\"3dmolwarning_15344629228935711\");\nif(warn) {\n    warn.parentNode.removeChild(warn);\n}\n$3Dmolpromise.then(function() {\nviewer_15344629228935711 = $3Dmol.createViewer($(\"#3dmolviewer_15344629228935711\"),{backgroundColor:\"white\"});\n$3Dmol.download(\"pdb:5BQD\", viewer_15344629228935711, {\"doAssembly\": false}, function() {\n\tviewer_15344629228935711.setStyle({\"sphere\": {\"colorscheme\": \"chain\", \"opacity\": 0.6}});\n\tviewer_15344629228935711.setStyle({\"hetflag\": true},{\"stick\": {\"radius\": 0.3, \"singleBond\": false}});\n\tviewer_15344629228935711.setStyle({\"resi\": \"111\", \"chain\": \"A\"},{\"sphere\": {\"color\": \"turquoise\"}});\n\tviewer_15344629228935711.addLabel(\"D->Y Likely benign\",{\"fontSize\": 10, \"fontColor\": \"turquoise\", \"backgroundColor\": \"ivory\"},{\"resi\": \"111\", \"chain\": \"A\"});\n\tviewer_15344629228935711.setStyle({\"resi\": \"135\", \"chain\": \"A\"},{\"sphere\": {\"color\": \"palevioletred\"}});\n\tviewer_15344629228935711.addLabel(\"L->R Likely pathogenic\",{\"fontSize\": 10, \"fontColor\": \"palevioletred\", \"backgroundColor\": \"ivory\"},{\"resi\": \"135\", \"chain\": \"A\"});\n\tviewer_15344629228935711.setStyle({\"resi\": \"60\", \"chain\": \"A\"},{\"sphere\": {\"color\": \"red\"}});\n\tviewer_15344629228935711.addLabel(\"E->* Pathogenic\",{\"fontSize\": 10, \"fontColor\": \"red\", \"backgroundColor\": \"ivory\"},{\"resi\": \"60\", \"chain\": \"A\"});\n\tviewer_15344629228935711.setStyle({\"resi\": \"224\", \"chain\": \"A\"},{\"sphere\": {\"color\": \"red\"}});\n\tviewer_15344629228935711.addLabel(\"Q->* Pathogenic\",{\"fontSize\": 10, \"fontColor\": \"red\", \"backgroundColor\": \"ivory\"},{\"resi\": \"224\", \"chain\": \"A\"});\n\tviewer_15344629228935711.setStyle({\"resi\": \"196\", \"chain\": \"A\"},{\"sphere\": {\"color\": \"red\"}});\n\tviewer_15344629228935711.addLabel(\"S->* Pathogenic\",{\"fontSize\": 10, \"fontColor\": \"red\", \"backgroundColor\": \"ivory\"},{\"resi\": \"196\", \"chain\": \"A\"});\n\tviewer_15344629228935711.setStyle({\"resi\": \"140\", \"chain\": \"A\"},{\"sphere\": {\"color\": \"red\"}});\n\tviewer_15344629228935711.addLabel(\"D->E Pathogenic\",{\"fontSize\": 10, \"fontColor\": \"red\", \"backgroundColor\": \"ivory\"},{\"resi\": \"140\", \"chain\": \"A\"});\n\tviewer_15344629228935711.setStyle({\"resi\": \"157\", \"chain\": \"A\"},{\"sphere\": {\"color\": \"red\"}});\n\tviewer_15344629228935711.addLabel(\"K->Q Pathogenic\",{\"fontSize\": 10, \"fontColor\": \"red\", \"backgroundColor\": \"ivory\"},{\"resi\": \"157\", \"chain\": \"A\"});\n\tviewer_15344629228935711.setStyle({\"resi\": \"106\", \"chain\": \"A\"},{\"sphere\": {\"color\": \"turquoise\"}});\n\tviewer_15344629228935711.addLabel(\"I->V Likely benign\",{\"fontSize\": 10, \"fontColor\": \"turquoise\", \"backgroundColor\": \"ivory\"},{\"resi\": \"106\", \"chain\": \"A\"});\n\tviewer_15344629228935711.setStyle({\"resi\": \"69\", \"chain\": \"A\"},{\"sphere\": {\"color\": \"red\"}});\n\tviewer_15344629228935711.addLabel(\"E->* Pathogenic\",{\"fontSize\": 10, \"fontColor\": \"red\", \"backgroundColor\": \"ivory\"},{\"resi\": \"69\", \"chain\": \"A\"});\n\tviewer_15344629228935711.setStyle({\"resi\": \"48\", \"chain\": \"A\"},{\"sphere\": {\"color\": \"red\"}});\n\tviewer_15344629228935711.addLabel(\"Q->* Pathogenic\",{\"fontSize\": 10, \"fontColor\": \"red\", \"backgroundColor\": \"ivory\"},{\"resi\": \"48\", \"chain\": \"A\"});\n\tviewer_15344629228935711.setStyle({\"resi\": \"204\", \"chain\": \"A\"},{\"sphere\": {\"color\": \"red\"}});\n\tviewer_15344629228935711.addLabel(\"H->Q Pathogenic\",{\"fontSize\": 10, \"fontColor\": \"red\", \"backgroundColor\": \"ivory\"},{\"resi\": \"204\", \"chain\": \"A\"});\n\tviewer_15344629228935711.setStyle({\"resi\": \"68\", \"chain\": \"A\"},{\"sphere\": {\"color\": \"red\"}});\n\tviewer_15344629228935711.addLabel(\"H->T Pathogenic\",{\"fontSize\": 10, \"fontColor\": \"red\", \"backgroundColor\": \"ivory\"},{\"resi\": \"68\", \"chain\": \"A\"});\n\tviewer_15344629228935711.setStyle({\"resi\": \"36\", \"chain\": \"A\"},{\"sphere\": {\"color\": \"red\"}});\n\tviewer_15344629228935711.addLabel(\"S->A Pathogenic\",{\"fontSize\": 10, \"fontColor\": \"red\", \"backgroundColor\": \"ivory\"},{\"resi\": \"36\", \"chain\": \"A\"});\n\tviewer_15344629228935711.setStyle({\"resi\": \"54\", \"chain\": \"A\"},{\"sphere\": {\"color\": \"red\"}});\n\tviewer_15344629228935711.addLabel(\"I->T Pathogenic\",{\"fontSize\": 10, \"fontColor\": \"red\", \"backgroundColor\": \"ivory\"},{\"resi\": \"54\", \"chain\": \"A\"});\n\tviewer_15344629228935711.setStyle({\"resi\": \"156\", \"chain\": \"A\"},{\"sphere\": {\"color\": \"red\"}});\n\tviewer_15344629228935711.addLabel(\"Q->R Pathogenic\",{\"fontSize\": 10, \"fontColor\": \"red\", \"backgroundColor\": \"ivory\"},{\"resi\": \"156\", \"chain\": \"A\"});\n\tviewer_15344629228935711.setStyle({\"resi\": \"136\", \"chain\": \"A\"},{\"sphere\": {\"color\": \"red\"}});\n\tviewer_15344629228935711.addLabel(\"Y->* Pathogenic\",{\"fontSize\": 10, \"fontColor\": \"red\", \"backgroundColor\": \"ivory\"},{\"resi\": \"136\", \"chain\": \"A\"});\n\tviewer_15344629228935711.setStyle({\"resi\": \"101\", \"chain\": \"A\"},{\"sphere\": {\"color\": \"palevioletred\"}});\n\tviewer_15344629228935711.addLabel(\"I->F Likely pathogenic\",{\"fontSize\": 10, \"fontColor\": \"palevioletred\", \"backgroundColor\": \"ivory\"},{\"resi\": \"101\", \"chain\": \"A\"});\n\tviewer_15344629228935711.setStyle({\"resi\": \"125\", \"chain\": \"A\"},{\"sphere\": {\"color\": \"red\"}});\n\tviewer_15344629228935711.addLabel(\"G->R Pathogenic\",{\"fontSize\": 10, \"fontColor\": \"red\", \"backgroundColor\": \"ivory\"},{\"resi\": \"125\", \"chain\": \"A\"});\n\tviewer_15344629228935711.setStyle({\"resi\": \"80\", \"chain\": \"A\"},{\"sphere\": {\"color\": \"red\"}});\n\tviewer_15344629228935711.addLabel(\"G->R Pathogenic\",{\"fontSize\": 10, \"fontColor\": \"red\", \"backgroundColor\": \"ivory\"},{\"resi\": \"80\", \"chain\": \"A\"});\n\tviewer_15344629228935711.setStyle({\"resi\": \"153\", \"chain\": \"A\"},{\"sphere\": {\"color\": \"red\"}});\n\tviewer_15344629228935711.addLabel(\"V->S Pathogenic\",{\"fontSize\": 10, \"fontColor\": \"red\", \"backgroundColor\": \"ivory\"},{\"resi\": \"153\", \"chain\": \"A\"});\n\tviewer_15344629228935711.setStyle({\"resi\": \"141\", \"chain\": \"A\"},{\"sphere\": {\"color\": \"red\"}});\n\tviewer_15344629228935711.addLabel(\"S->P Pathogenic\",{\"fontSize\": 10, \"fontColor\": \"red\", \"backgroundColor\": \"ivory\"},{\"resi\": \"141\", \"chain\": \"A\"});\n\tviewer_15344629228935711.setStyle({\"resi\": \"113\", \"chain\": \"A\"},{\"sphere\": {\"color\": \"red\"}});\n\tviewer_15344629228935711.addLabel(\"R->KI Pathogenic\",{\"fontSize\": 10, \"fontColor\": \"red\", \"backgroundColor\": \"ivory\"},{\"resi\": \"113\", \"chain\": \"A\"});\n\tviewer_15344629228935711.setStyle({\"resi\": \"148\", \"chain\": \"A\"},{\"sphere\": {\"color\": \"red\"}});\n\tviewer_15344629228935711.addLabel(\"W->* Pathogenic\",{\"fontSize\": 10, \"fontColor\": \"red\", \"backgroundColor\": \"ivory\"},{\"resi\": \"148\", \"chain\": \"A\"});\n\tviewer_15344629228935711.setStyle({\"resi\": \"49\", \"chain\": \"A\"},{\"sphere\": {\"color\": \"red\"}});\n\tviewer_15344629228935711.addLabel(\"Q->K Pathogenic\",{\"fontSize\": 10, \"fontColor\": \"red\", \"backgroundColor\": \"ivory\"},{\"resi\": \"49\", \"chain\": \"A\"});\n\tviewer_15344629228935711.zoomTo({\"resi\": [\"111\", \"135\", \"60\", \"224\", \"196\", \"140\", \"157\", \"106\", \"69\", \"48\", \"204\", \"68\", \"36\", \"54\", \"156\", \"136\", \"101\", \"125\", \"80\", \"153\", \"141\", \"113\", \"148\", \"49\"], \"chain\": \"A\"});\nviewer_15344629228935711.render();\n})\n});\n</script>",
          "text/html": "<div id=\"3dmolviewer_15344629228935711\"  style=\"position: relative; width: 640px; height: 480px\">\n        <p id=\"3dmolwarning_15344629228935711\" style=\"background-color:#ffcccc;color:black\">You appear to be running in JupyterLab.  You need to install the 3dmol extension: <br>\n        <tt>jupyter labextension install jupyterlab_3dmol</tt></p>\n        </div>\n<script>\n\nvar loadScriptAsync = function(uri){\n  return new Promise((resolve, reject) => {\n    var tag = document.createElement('script');\n    tag.src = uri;\n    tag.async = true;\n    tag.onload = () => {\n      resolve();\n    };\n  var firstScriptTag = document.getElementsByTagName('script')[0];\n  firstScriptTag.parentNode.insertBefore(tag, firstScriptTag);\n});\n};\n\nif(typeof $3Dmolpromise === 'undefined') {\n$3Dmolpromise = null;\n  $3Dmolpromise = loadScriptAsync('https://3dmol.csb.pitt.edu/build/3Dmol.js');\n}\n\nvar viewer_15344629228935711 = null;\nvar warn = document.getElementById(\"3dmolwarning_15344629228935711\");\nif(warn) {\n    warn.parentNode.removeChild(warn);\n}\n$3Dmolpromise.then(function() {\nviewer_15344629228935711 = $3Dmol.createViewer($(\"#3dmolviewer_15344629228935711\"),{backgroundColor:\"white\"});\n$3Dmol.download(\"pdb:5BQD\", viewer_15344629228935711, {\"doAssembly\": false}, function() {\n\tviewer_15344629228935711.setStyle({\"sphere\": {\"colorscheme\": \"chain\", \"opacity\": 0.6}});\n\tviewer_15344629228935711.setStyle({\"hetflag\": true},{\"stick\": {\"radius\": 0.3, \"singleBond\": false}});\n\tviewer_15344629228935711.setStyle({\"resi\": \"111\", \"chain\": \"A\"},{\"sphere\": {\"color\": \"turquoise\"}});\n\tviewer_15344629228935711.addLabel(\"D->Y Likely benign\",{\"fontSize\": 10, \"fontColor\": \"turquoise\", \"backgroundColor\": \"ivory\"},{\"resi\": \"111\", \"chain\": \"A\"});\n\tviewer_15344629228935711.setStyle({\"resi\": \"135\", \"chain\": \"A\"},{\"sphere\": {\"color\": \"palevioletred\"}});\n\tviewer_15344629228935711.addLabel(\"L->R Likely pathogenic\",{\"fontSize\": 10, \"fontColor\": \"palevioletred\", \"backgroundColor\": \"ivory\"},{\"resi\": \"135\", \"chain\": \"A\"});\n\tviewer_15344629228935711.setStyle({\"resi\": \"60\", \"chain\": \"A\"},{\"sphere\": {\"color\": \"red\"}});\n\tviewer_15344629228935711.addLabel(\"E->* Pathogenic\",{\"fontSize\": 10, \"fontColor\": \"red\", \"backgroundColor\": \"ivory\"},{\"resi\": \"60\", \"chain\": \"A\"});\n\tviewer_15344629228935711.setStyle({\"resi\": \"224\", \"chain\": \"A\"},{\"sphere\": {\"color\": \"red\"}});\n\tviewer_15344629228935711.addLabel(\"Q->* Pathogenic\",{\"fontSize\": 10, \"fontColor\": \"red\", \"backgroundColor\": \"ivory\"},{\"resi\": \"224\", \"chain\": \"A\"});\n\tviewer_15344629228935711.setStyle({\"resi\": \"196\", \"chain\": \"A\"},{\"sphere\": {\"color\": \"red\"}});\n\tviewer_15344629228935711.addLabel(\"S->* Pathogenic\",{\"fontSize\": 10, \"fontColor\": \"red\", \"backgroundColor\": \"ivory\"},{\"resi\": \"196\", \"chain\": \"A\"});\n\tviewer_15344629228935711.setStyle({\"resi\": \"140\", \"chain\": \"A\"},{\"sphere\": {\"color\": \"red\"}});\n\tviewer_15344629228935711.addLabel(\"D->E Pathogenic\",{\"fontSize\": 10, \"fontColor\": \"red\", \"backgroundColor\": \"ivory\"},{\"resi\": \"140\", \"chain\": \"A\"});\n\tviewer_15344629228935711.setStyle({\"resi\": \"157\", \"chain\": \"A\"},{\"sphere\": {\"color\": \"red\"}});\n\tviewer_15344629228935711.addLabel(\"K->Q Pathogenic\",{\"fontSize\": 10, \"fontColor\": \"red\", \"backgroundColor\": \"ivory\"},{\"resi\": \"157\", \"chain\": \"A\"});\n\tviewer_15344629228935711.setStyle({\"resi\": \"106\", \"chain\": \"A\"},{\"sphere\": {\"color\": \"turquoise\"}});\n\tviewer_15344629228935711.addLabel(\"I->V Likely benign\",{\"fontSize\": 10, \"fontColor\": \"turquoise\", \"backgroundColor\": \"ivory\"},{\"resi\": \"106\", \"chain\": \"A\"});\n\tviewer_15344629228935711.setStyle({\"resi\": \"69\", \"chain\": \"A\"},{\"sphere\": {\"color\": \"red\"}});\n\tviewer_15344629228935711.addLabel(\"E->* Pathogenic\",{\"fontSize\": 10, \"fontColor\": \"red\", \"backgroundColor\": \"ivory\"},{\"resi\": \"69\", \"chain\": \"A\"});\n\tviewer_15344629228935711.setStyle({\"resi\": \"48\", \"chain\": \"A\"},{\"sphere\": {\"color\": \"red\"}});\n\tviewer_15344629228935711.addLabel(\"Q->* Pathogenic\",{\"fontSize\": 10, \"fontColor\": \"red\", \"backgroundColor\": \"ivory\"},{\"resi\": \"48\", \"chain\": \"A\"});\n\tviewer_15344629228935711.setStyle({\"resi\": \"204\", \"chain\": \"A\"},{\"sphere\": {\"color\": \"red\"}});\n\tviewer_15344629228935711.addLabel(\"H->Q Pathogenic\",{\"fontSize\": 10, \"fontColor\": \"red\", \"backgroundColor\": \"ivory\"},{\"resi\": \"204\", \"chain\": \"A\"});\n\tviewer_15344629228935711.setStyle({\"resi\": \"68\", \"chain\": \"A\"},{\"sphere\": {\"color\": \"red\"}});\n\tviewer_15344629228935711.addLabel(\"H->T Pathogenic\",{\"fontSize\": 10, \"fontColor\": \"red\", \"backgroundColor\": \"ivory\"},{\"resi\": \"68\", \"chain\": \"A\"});\n\tviewer_15344629228935711.setStyle({\"resi\": \"36\", \"chain\": \"A\"},{\"sphere\": {\"color\": \"red\"}});\n\tviewer_15344629228935711.addLabel(\"S->A Pathogenic\",{\"fontSize\": 10, \"fontColor\": \"red\", \"backgroundColor\": \"ivory\"},{\"resi\": \"36\", \"chain\": \"A\"});\n\tviewer_15344629228935711.setStyle({\"resi\": \"54\", \"chain\": \"A\"},{\"sphere\": {\"color\": \"red\"}});\n\tviewer_15344629228935711.addLabel(\"I->T Pathogenic\",{\"fontSize\": 10, \"fontColor\": \"red\", \"backgroundColor\": \"ivory\"},{\"resi\": \"54\", \"chain\": \"A\"});\n\tviewer_15344629228935711.setStyle({\"resi\": \"156\", \"chain\": \"A\"},{\"sphere\": {\"color\": \"red\"}});\n\tviewer_15344629228935711.addLabel(\"Q->R Pathogenic\",{\"fontSize\": 10, \"fontColor\": \"red\", \"backgroundColor\": \"ivory\"},{\"resi\": \"156\", \"chain\": \"A\"});\n\tviewer_15344629228935711.setStyle({\"resi\": \"136\", \"chain\": \"A\"},{\"sphere\": {\"color\": \"red\"}});\n\tviewer_15344629228935711.addLabel(\"Y->* Pathogenic\",{\"fontSize\": 10, \"fontColor\": \"red\", \"backgroundColor\": \"ivory\"},{\"resi\": \"136\", \"chain\": \"A\"});\n\tviewer_15344629228935711.setStyle({\"resi\": \"101\", \"chain\": \"A\"},{\"sphere\": {\"color\": \"palevioletred\"}});\n\tviewer_15344629228935711.addLabel(\"I->F Likely pathogenic\",{\"fontSize\": 10, \"fontColor\": \"palevioletred\", \"backgroundColor\": \"ivory\"},{\"resi\": \"101\", \"chain\": \"A\"});\n\tviewer_15344629228935711.setStyle({\"resi\": \"125\", \"chain\": \"A\"},{\"sphere\": {\"color\": \"red\"}});\n\tviewer_15344629228935711.addLabel(\"G->R Pathogenic\",{\"fontSize\": 10, \"fontColor\": \"red\", \"backgroundColor\": \"ivory\"},{\"resi\": \"125\", \"chain\": \"A\"});\n\tviewer_15344629228935711.setStyle({\"resi\": \"80\", \"chain\": \"A\"},{\"sphere\": {\"color\": \"red\"}});\n\tviewer_15344629228935711.addLabel(\"G->R Pathogenic\",{\"fontSize\": 10, \"fontColor\": \"red\", \"backgroundColor\": \"ivory\"},{\"resi\": \"80\", \"chain\": \"A\"});\n\tviewer_15344629228935711.setStyle({\"resi\": \"153\", \"chain\": \"A\"},{\"sphere\": {\"color\": \"red\"}});\n\tviewer_15344629228935711.addLabel(\"V->S Pathogenic\",{\"fontSize\": 10, \"fontColor\": \"red\", \"backgroundColor\": \"ivory\"},{\"resi\": \"153\", \"chain\": \"A\"});\n\tviewer_15344629228935711.setStyle({\"resi\": \"141\", \"chain\": \"A\"},{\"sphere\": {\"color\": \"red\"}});\n\tviewer_15344629228935711.addLabel(\"S->P Pathogenic\",{\"fontSize\": 10, \"fontColor\": \"red\", \"backgroundColor\": \"ivory\"},{\"resi\": \"141\", \"chain\": \"A\"});\n\tviewer_15344629228935711.setStyle({\"resi\": \"113\", \"chain\": \"A\"},{\"sphere\": {\"color\": \"red\"}});\n\tviewer_15344629228935711.addLabel(\"R->KI Pathogenic\",{\"fontSize\": 10, \"fontColor\": \"red\", \"backgroundColor\": \"ivory\"},{\"resi\": \"113\", \"chain\": \"A\"});\n\tviewer_15344629228935711.setStyle({\"resi\": \"148\", \"chain\": \"A\"},{\"sphere\": {\"color\": \"red\"}});\n\tviewer_15344629228935711.addLabel(\"W->* Pathogenic\",{\"fontSize\": 10, \"fontColor\": \"red\", \"backgroundColor\": \"ivory\"},{\"resi\": \"148\", \"chain\": \"A\"});\n\tviewer_15344629228935711.setStyle({\"resi\": \"49\", \"chain\": \"A\"},{\"sphere\": {\"color\": \"red\"}});\n\tviewer_15344629228935711.addLabel(\"Q->K Pathogenic\",{\"fontSize\": 10, \"fontColor\": \"red\", \"backgroundColor\": \"ivory\"},{\"resi\": \"49\", \"chain\": \"A\"});\n\tviewer_15344629228935711.zoomTo({\"resi\": [\"111\", \"135\", \"60\", \"224\", \"196\", \"140\", \"157\", \"106\", \"69\", \"48\", \"204\", \"68\", \"36\", \"54\", \"156\", \"136\", \"101\", \"125\", \"80\", \"153\", \"141\", \"113\", \"148\", \"49\"], \"chain\": \"A\"});\nviewer_15344629228935711.render();\n})\n});\n</script>"
         },
         "metadata": {},
         "output_type": "display_data"
        }
       ]
      }
     },
     "fc55f0a237b341349c4a3ebfde9ca83e": {
      "model_module": "@jupyter-widgets/base",
      "model_module_version": "1.1.0",
      "model_name": "LayoutModel",
      "state": {}
     },
     "fcbf158ad7854fb9a33cfc1e561f4ad3": {
      "model_module": "@jupyter-widgets/controls",
      "model_module_version": "1.3.0",
      "model_name": "VBoxModel",
      "state": {
       "_dom_classes": [
        "widget-interact"
       ],
       "children": [
        "IPY_MODEL_4673e0c2a378451ab1dcf2324c413644",
        "IPY_MODEL_a549ef09ed384439a35780f37a205183",
        "IPY_MODEL_88f56c18c8c2433c91349ef9421d3bf9",
        "IPY_MODEL_2c20921911c44a9a8cc0442114098d11",
        "IPY_MODEL_e7d962c944664eac81482dcabb42e8da"
       ],
       "layout": "IPY_MODEL_3af81d02858240b0a645f4e5652a5e0e"
      }
     },
     "fd07921377b24d20983ea2fb393aed93": {
      "model_module": "@jupyter-widgets/controls",
      "model_module_version": "1.3.0",
      "model_name": "DropdownModel",
      "state": {
       "_options_labels": [
        "none",
        "snp_id",
        "pdbChainId",
        "uniprotId",
        "sqlQuery"
       ],
       "description": "Select field:",
       "index": 0,
       "layout": "IPY_MODEL_f70f7164017b4d5699bdaaf5b44d6c54",
       "style": "IPY_MODEL_7b62b79860474cc0842ecb8e453e9703"
      }
     },
     "fd2ff2ce0792437b867e869774e209f1": {
      "model_module": "@jupyter-widgets/controls",
      "model_module_version": "1.3.0",
      "model_name": "DescriptionStyleModel",
      "state": {
       "description_width": ""
      }
     },
     "fdb6f332c60b469a83acc997756b931d": {
      "model_module": "@jupyter-widgets/base",
      "model_module_version": "1.1.0",
      "model_name": "LayoutModel",
      "state": {}
     },
     "ff6f5d1880064b89b5d9410613f60150": {
      "model_module": "@jupyter-widgets/controls",
      "model_module_version": "1.3.0",
      "model_name": "IntSliderModel",
      "state": {
       "continuous_update": false,
       "description": "Structure",
       "layout": "IPY_MODEL_643fd25e5ca341de871b27daf6374c07",
       "max": 1455,
       "style": "IPY_MODEL_8f0e3d7c5ea345df925e792101299313"
      }
     }
    },
    "version_major": 2,
    "version_minor": 0
   }
  }
 },
 "nbformat": 4,
 "nbformat_minor": 4
}
