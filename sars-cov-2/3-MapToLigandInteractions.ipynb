{
 "cells": [
  {
   "cell_type": "markdown",
   "metadata": {},
   "source": [
    "## Map Mutations to Protein-Ligand Interactions\n",
    "Here we find and visualize the mutations at protein-ligand binding sites."
   ]
  },
  {
   "cell_type": "code",
   "execution_count": 1,
   "metadata": {},
   "outputs": [],
   "source": [
    "# Disable Numba: temporary workaround for https://github.com/sbl-sdsc/mmtf-pyspark/issues/288\n",
    "import os\n",
    "os.environ['NUMBA_DISABLE_JIT'] = \"1\""
   ]
  },
  {
   "cell_type": "code",
   "execution_count": 2,
   "metadata": {},
   "outputs": [],
   "source": [
    "from pyspark.sql import SparkSession\n",
    "from mmtfPyspark.io import mmtfReader\n",
    "from mmtfPyspark.interactions import InteractionExtractor, InteractionFilter\n",
    "from ipywidgets import interact, IntSlider, FloatSlider\n",
    "import py3Dmol\n",
    "import pandas as pd"
   ]
  },
  {
   "cell_type": "code",
   "execution_count": 3,
   "metadata": {
    "code_folding": [
     0
    ]
   },
   "outputs": [],
   "source": [
    "# Initialize Spark\n",
    "spark = SparkSession.builder.appName(\"3-MapLigandInteractions\").getOrCreate()"
   ]
  },
  {
   "cell_type": "code",
   "execution_count": 4,
   "metadata": {},
   "outputs": [],
   "source": [
    "# Enable Arrow-based columnar data transfers between Spark and Pandas dataframes\n",
    "spark.conf.set(\"spark.sql.execution.arrow.enabled\", \"true\")"
   ]
  },
  {
   "cell_type": "markdown",
   "metadata": {},
   "source": [
    "#### Input parameters"
   ]
  },
  {
   "cell_type": "code",
   "execution_count": 5,
   "metadata": {},
   "outputs": [],
   "source": [
    "distance_cutoff = 8  # distance cutoff for finding and visualizing interactions\n",
    "input_file_name = 'mutations3d.csv'  # mutations mapped to 3D protein structures\n",
    "output_file_name = 'mutations3d_ligand.csv'  # mutations mapped to protein-ligand binding sites"
   ]
  },
  {
   "cell_type": "markdown",
   "metadata": {},
   "source": [
    "### Read 'mutations3d.csv' file created in the previous step"
   ]
  },
  {
   "cell_type": "code",
   "execution_count": 6,
   "metadata": {
    "scrolled": true
   },
   "outputs": [
    {
     "data": {
      "text/html": [
       "<div>\n",
       "<style scoped>\n",
       "    .dataframe tbody tr th:only-of-type {\n",
       "        vertical-align: middle;\n",
       "    }\n",
       "\n",
       "    .dataframe tbody tr th {\n",
       "        vertical-align: top;\n",
       "    }\n",
       "\n",
       "    .dataframe thead th {\n",
       "        text-align: right;\n",
       "    }\n",
       "</style>\n",
       "<table border=\"1\" class=\"dataframe\">\n",
       "  <thead>\n",
       "    <tr style=\"text-align: right;\">\n",
       "      <th></th>\n",
       "      <th>coverage</th>\n",
       "      <th>description</th>\n",
       "      <th>name</th>\n",
       "      <th>resolution</th>\n",
       "      <th>structureChainId</th>\n",
       "      <th>structureId</th>\n",
       "      <th>uniprotPosition</th>\n",
       "      <th>pdbPosition</th>\n",
       "      <th>residue</th>\n",
       "      <th>variationId</th>\n",
       "      <th>annotation</th>\n",
       "      <th>scale</th>\n",
       "      <th>color</th>\n",
       "    </tr>\n",
       "  </thead>\n",
       "  <tbody>\n",
       "    <tr>\n",
       "      <th>0</th>\n",
       "      <td>0.026709</td>\n",
       "      <td>Spike protein S2', water</td>\n",
       "      <td>Spike glycoprotein</td>\n",
       "      <td>2.47</td>\n",
       "      <td>6LVN.A</td>\n",
       "      <td>6LVN</td>\n",
       "      <td>1169</td>\n",
       "      <td>2</td>\n",
       "      <td>1169</td>\n",
       "      <td>S:p.1169I&gt;L(54), S:p.1169I&gt;F(28), S:p.1169I&gt;V(...</td>\n",
       "      <td>1169I&gt;L(54), 1169I&gt;F(28), 1169I&gt;V(16), 1169I&gt;T(6)</td>\n",
       "      <td>0.304365</td>\n",
       "      <td>#fcaa8d</td>\n",
       "    </tr>\n",
       "    <tr>\n",
       "      <th>1</th>\n",
       "      <td>0.027494</td>\n",
       "      <td>Spike protein S2', water</td>\n",
       "      <td>Spike glycoprotein</td>\n",
       "      <td>2.47</td>\n",
       "      <td>6LVN.B</td>\n",
       "      <td>6LVN</td>\n",
       "      <td>1169</td>\n",
       "      <td>2</td>\n",
       "      <td>1169</td>\n",
       "      <td>S:p.1169I&gt;L(54), S:p.1169I&gt;F(28), S:p.1169I&gt;V(...</td>\n",
       "      <td>1169I&gt;L(54), 1169I&gt;F(28), 1169I&gt;V(16), 1169I&gt;T(6)</td>\n",
       "      <td>0.304365</td>\n",
       "      <td>#fcaa8d</td>\n",
       "    </tr>\n",
       "    <tr>\n",
       "      <th>2</th>\n",
       "      <td>0.026709</td>\n",
       "      <td>Spike protein S2', water</td>\n",
       "      <td>Spike glycoprotein</td>\n",
       "      <td>2.47</td>\n",
       "      <td>6LVN.D</td>\n",
       "      <td>6LVN</td>\n",
       "      <td>1169</td>\n",
       "      <td>2</td>\n",
       "      <td>1169</td>\n",
       "      <td>S:p.1169I&gt;L(54), S:p.1169I&gt;F(28), S:p.1169I&gt;V(...</td>\n",
       "      <td>1169I&gt;L(54), 1169I&gt;F(28), 1169I&gt;V(16), 1169I&gt;T(6)</td>\n",
       "      <td>0.304365</td>\n",
       "      <td>#fcaa8d</td>\n",
       "    </tr>\n",
       "    <tr>\n",
       "      <th>3</th>\n",
       "      <td>0.273370</td>\n",
       "      <td>Spike glycoprotein, 2-acetamido-2-deoxy-beta-D...</td>\n",
       "      <td>Spike glycoprotein</td>\n",
       "      <td>3.00</td>\n",
       "      <td>6XRA.A</td>\n",
       "      <td>6XRA</td>\n",
       "      <td>1169</td>\n",
       "      <td>1169</td>\n",
       "      <td>1169</td>\n",
       "      <td>S:p.1169I&gt;L(54), S:p.1169I&gt;F(28), S:p.1169I&gt;V(...</td>\n",
       "      <td>1169I&gt;L(54), 1169I&gt;F(28), 1169I&gt;V(16), 1169I&gt;T(6)</td>\n",
       "      <td>0.304365</td>\n",
       "      <td>#fcaa8d</td>\n",
       "    </tr>\n",
       "    <tr>\n",
       "      <th>4</th>\n",
       "      <td>0.273370</td>\n",
       "      <td>Spike glycoprotein, 2-acetamido-2-deoxy-beta-D...</td>\n",
       "      <td>Spike glycoprotein</td>\n",
       "      <td>3.00</td>\n",
       "      <td>6XRA.B</td>\n",
       "      <td>6XRA</td>\n",
       "      <td>1169</td>\n",
       "      <td>1169</td>\n",
       "      <td>1169</td>\n",
       "      <td>S:p.1169I&gt;L(54), S:p.1169I&gt;F(28), S:p.1169I&gt;V(...</td>\n",
       "      <td>1169I&gt;L(54), 1169I&gt;F(28), 1169I&gt;V(16), 1169I&gt;T(6)</td>\n",
       "      <td>0.304365</td>\n",
       "      <td>#fcaa8d</td>\n",
       "    </tr>\n",
       "  </tbody>\n",
       "</table>\n",
       "</div>"
      ],
      "text/plain": [
       "   coverage                                        description  \\\n",
       "0  0.026709                           Spike protein S2', water   \n",
       "1  0.027494                           Spike protein S2', water   \n",
       "2  0.026709                           Spike protein S2', water   \n",
       "3  0.273370  Spike glycoprotein, 2-acetamido-2-deoxy-beta-D...   \n",
       "4  0.273370  Spike glycoprotein, 2-acetamido-2-deoxy-beta-D...   \n",
       "\n",
       "                 name  resolution structureChainId structureId  \\\n",
       "0  Spike glycoprotein        2.47           6LVN.A        6LVN   \n",
       "1  Spike glycoprotein        2.47           6LVN.B        6LVN   \n",
       "2  Spike glycoprotein        2.47           6LVN.D        6LVN   \n",
       "3  Spike glycoprotein        3.00           6XRA.A        6XRA   \n",
       "4  Spike glycoprotein        3.00           6XRA.B        6XRA   \n",
       "\n",
       "   uniprotPosition pdbPosition  residue  \\\n",
       "0             1169           2     1169   \n",
       "1             1169           2     1169   \n",
       "2             1169           2     1169   \n",
       "3             1169        1169     1169   \n",
       "4             1169        1169     1169   \n",
       "\n",
       "                                         variationId  \\\n",
       "0  S:p.1169I>L(54), S:p.1169I>F(28), S:p.1169I>V(...   \n",
       "1  S:p.1169I>L(54), S:p.1169I>F(28), S:p.1169I>V(...   \n",
       "2  S:p.1169I>L(54), S:p.1169I>F(28), S:p.1169I>V(...   \n",
       "3  S:p.1169I>L(54), S:p.1169I>F(28), S:p.1169I>V(...   \n",
       "4  S:p.1169I>L(54), S:p.1169I>F(28), S:p.1169I>V(...   \n",
       "\n",
       "                                          annotation     scale    color  \n",
       "0  1169I>L(54), 1169I>F(28), 1169I>V(16), 1169I>T(6)  0.304365  #fcaa8d  \n",
       "1  1169I>L(54), 1169I>F(28), 1169I>V(16), 1169I>T(6)  0.304365  #fcaa8d  \n",
       "2  1169I>L(54), 1169I>F(28), 1169I>V(16), 1169I>T(6)  0.304365  #fcaa8d  \n",
       "3  1169I>L(54), 1169I>F(28), 1169I>V(16), 1169I>T(6)  0.304365  #fcaa8d  \n",
       "4  1169I>L(54), 1169I>F(28), 1169I>V(16), 1169I>T(6)  0.304365  #fcaa8d  "
      ]
     },
     "execution_count": 6,
     "metadata": {},
     "output_type": "execute_result"
    }
   ],
   "source": [
    "pd.set_option('display.max_columns', None)  # show all columns\n",
    "df = pd.read_csv(input_file_name)\n",
    "df['pdbPosition'] = df['pdbPosition'].astype('str')  # PDB residue numbers must be string to handle insertion codes\n",
    "df.head()"
   ]
  },
  {
   "cell_type": "markdown",
   "metadata": {},
   "source": [
    "## Create a list of unique PDB IDs"
   ]
  },
  {
   "cell_type": "code",
   "execution_count": 7,
   "metadata": {
    "scrolled": true
   },
   "outputs": [
    {
     "name": "stdout",
     "output_type": "stream",
     "text": [
      "PDB Ids: ['6LVN', '6XRA', '6LXT', '6VSB', '6VXX', '6VYB', '6WPS', '6WPT', '6X29', '6X2A', '6X2B', '6X2C', '6X6P', '6X79', '6XCM', '6XCN', '6XEY', '6XF5', '6XF6', '6XKL', '6XLU', '6XM0', '6XM3', '6XM4', '6XM5', '6XR8', '6XS6', '6Z43', '6Z97', '6ZB4', '6ZB5', '6ZDH', '6ZGE', '6ZGG', '6ZGH', '6ZGI', '6ZHD', '6ZOW', '6ZOX', '6ZOY', '6ZOZ', '6ZP0', '6ZP1', '6ZP2', '6ZP5', '6ZP7', '6ZWV', '6ZXN', '7A25', '7A29', '7A4N', '7A93', '7A94', '7A95', '7A96', '7A97', '7A98', '7AD1', '7BNM', '7BNN', '7BNO', '7BYR', '7C2L', '7CAB', '7CAC', '7CAI', '7CAK', '7CHH', '7CN9', '7CT5', '7CWL', '7CWM', '7CWN', '7CWS', '7CWU', '7CZP', '7CZQ', '7CZR', '7CZS', '7CZT', '7CZU', '7CZV', '7CZW', '7CZX', '7CZY', '7CZZ', '7D00', '7D03', '7D0B', '7D0C', '7D0D', '7DCC', '7DCX', '7DD2', '7DD8', '7DDD', '7DDN', '7DF3', '7DF4', '7DK3', '7DK4', '7DK5', '7DK6', '7DK7', '7DWX', '7DWY', '7DWZ', '7DX0', '7DX1', '7DX2', '7DX3', '7DX5', '7DX6', '7DX7', '7DX8', '7DX9', '7E7B', '7E7D', '7JJI', '7JJJ', '7JV4', '7JV6', '7JVC', '7JW0', '7JWB', '7JWY', '7JZL', '7JZN', '7K43', '7K4N', '7K8S', '7K8T', '7K8U', '7K8V', '7K8W', '7K8X', '7K8Y', '7K8Z', '7K90', '7KDG', '7KDH', '7KDI', '7KDJ', '7KDK', '7KDL', '7KE4', '7KE6', '7KE7', '7KE8', '7KE9', '7KEA', '7KEB', '7KEC', '7KJ2', '7KJ3', '7KJ4', '7KJ5', '7KKK', '7KKL', '7KL9', '7KMK', '7KML', '7KMS', '7KMZ', '7KNB', '7KNE', '7KNH', '7KNI', '7KRQ', '7KRR', '7KRS', '7KS9', '7KSG', '7KXJ', '7KXK', '7L02', '7L06', '7L09', '7L2D', '7L2E', '7L2F', '7L3N', '7L56', '7L57', '7L58', '7L7K', '7LAA', '7LAB', '7LCN', '7LD1', '7LJR', '7LQV', '7LQW', '7LS9', '7LSS', '7LWI', '7LWJ', '7LWK', '7LWL', '7LWM', '7LWN', '7LWO', '7LWP', '7LWQ', '7LWS', '7LWT', '7LWU', '7LWV', '7LWW', '7LXY', '7LXZ', '7LY2', '7LYK', '7LYL', '7LYM', '7LYN', '7LYO', '7LYP', '7LYQ', '7M0J', '7ND3', '7ND4', '7ND5', '7ND6', '7ND7', '7ND8', '7ND9', '7NDA', '7NDB', '7NDC', '7NDD', '6M1V', '6LZG', '6M0J', '6VW1', '6W41', '6XDG', '6XE1', '6YLA', '6YM0', '6Z2M', '6ZCZ', '6ZDG', '6ZER', '6ZFO', '6ZLR', '7A5R', '7A5S', '7A91', '7A92', '7BEH', '7BEJ', '7BEP', '7BWJ', '7C01', '7C8D', '7C8J', '7C8W', '7CAN', '7CDI', '7CDJ', '7CHB', '7CHE', '7CHF', '7CM4', '7D2Z', '7DMU', '7DPM', '7DX4', '7E3J', '7EAM', '7EAN', '7JVA', '7JX3', '7K9Z', '7KGJ', '7KGK', '7KLG', '7KLH', '7L0N', '7LO4', '7LOP', '7NEH', '7NXC', '6XC2', '6XC3', '6XC4', '6XC7', '6XKP', '6YOR', '6YZ5', '6YZ7', '6ZBP', '6ZH9', '7B17', '7BEI', '7BEK', '7BEL', '7BEM', '7BEO', '7BZ5', '7C8V', '7CAH', '7CH4', '7CH5', '7CHC', '7CJF', '7CWO', '7D30', '7DEO', '7DET', '7DEU', '7JMO', '7JMW', '7JVB', '7JZM', '7JZU', '7K45', '7K8M', '7KFV', '7KFW', '7KFX', '7KFY', '7KLW', '7KMG', '7KMH', '7KMI', '7KN5', '7KN6', '7KN7', '7KZB', '7LM8', '7NEG', '7NX6', '7NX7', '7NX8', '7NX9', '7NXA', '7NXB', '7B3O', '7KMB', '6M17', '7BEN', '7L5B', '7L7F', '6XKQ', '7JMP', '7BH9', '7JV2', '7D4G', '7L2C', '7LY3', '7LXX', '7LXW', '7LY0', '7JJC']\n"
     ]
    }
   ],
   "source": [
    "pdb_ids = list(df.structureId.drop_duplicates())\n",
    "print(\"PDB Ids:\", pdb_ids)"
   ]
  },
  {
   "cell_type": "markdown",
   "metadata": {},
   "source": [
    "## Find all polymer-ligand interactions"
   ]
  },
  {
   "cell_type": "code",
   "execution_count": 8,
   "metadata": {},
   "outputs": [],
   "source": [
    "structures = mmtfReader.download_mmtf_files(pdb_ids)"
   ]
  },
  {
   "cell_type": "code",
   "execution_count": 9,
   "metadata": {},
   "outputs": [
    {
     "data": {
      "text/html": [
       "<div>\n",
       "<style scoped>\n",
       "    .dataframe tbody tr th:only-of-type {\n",
       "        vertical-align: middle;\n",
       "    }\n",
       "\n",
       "    .dataframe tbody tr th {\n",
       "        vertical-align: top;\n",
       "    }\n",
       "\n",
       "    .dataframe thead th {\n",
       "        text-align: right;\n",
       "    }\n",
       "</style>\n",
       "<table border=\"1\" class=\"dataframe\">\n",
       "  <thead>\n",
       "    <tr style=\"text-align: right;\">\n",
       "      <th></th>\n",
       "      <th>structureChainId</th>\n",
       "      <th>queryGroupId</th>\n",
       "      <th>queryChainId</th>\n",
       "      <th>queryGroupNumber</th>\n",
       "      <th>targetGroupId</th>\n",
       "      <th>targetChainId</th>\n",
       "      <th>targetGroupNumber</th>\n",
       "      <th>sequenceIndex</th>\n",
       "      <th>sequence</th>\n",
       "    </tr>\n",
       "  </thead>\n",
       "  <tbody>\n",
       "    <tr>\n",
       "      <th>0</th>\n",
       "      <td>6XC2.A</td>\n",
       "      <td>NAG</td>\n",
       "      <td>A</td>\n",
       "      <td>601</td>\n",
       "      <td>ALA</td>\n",
       "      <td>A</td>\n",
       "      <td>372</td>\n",
       "      <td>53</td>\n",
       "      <td>RVQPTESIVRFPNITNLCPFGEVFNATRFASVYAWNRKRISNCVAD...</td>\n",
       "    </tr>\n",
       "    <tr>\n",
       "      <th>1</th>\n",
       "      <td>6XC2.Z</td>\n",
       "      <td>NAG</td>\n",
       "      <td>Z</td>\n",
       "      <td>601</td>\n",
       "      <td>SER</td>\n",
       "      <td>Z</td>\n",
       "      <td>371</td>\n",
       "      <td>52</td>\n",
       "      <td>RVQPTESIVRFPNITNLCPFGEVFNATRFASVYAWNRKRISNCVAD...</td>\n",
       "    </tr>\n",
       "    <tr>\n",
       "      <th>2</th>\n",
       "      <td>6XC2.Z</td>\n",
       "      <td>NAG</td>\n",
       "      <td>Z</td>\n",
       "      <td>601</td>\n",
       "      <td>ASN</td>\n",
       "      <td>Z</td>\n",
       "      <td>343</td>\n",
       "      <td>24</td>\n",
       "      <td>RVQPTESIVRFPNITNLCPFGEVFNATRFASVYAWNRKRISNCVAD...</td>\n",
       "    </tr>\n",
       "    <tr>\n",
       "      <th>3</th>\n",
       "      <td>6XC2.A</td>\n",
       "      <td>NAG</td>\n",
       "      <td>A</td>\n",
       "      <td>601</td>\n",
       "      <td>ASP</td>\n",
       "      <td>A</td>\n",
       "      <td>364</td>\n",
       "      <td>45</td>\n",
       "      <td>RVQPTESIVRFPNITNLCPFGEVFNATRFASVYAWNRKRISNCVAD...</td>\n",
       "    </tr>\n",
       "    <tr>\n",
       "      <th>4</th>\n",
       "      <td>6XC2.Z</td>\n",
       "      <td>NAG</td>\n",
       "      <td>Z</td>\n",
       "      <td>601</td>\n",
       "      <td>ALA</td>\n",
       "      <td>Z</td>\n",
       "      <td>372</td>\n",
       "      <td>53</td>\n",
       "      <td>RVQPTESIVRFPNITNLCPFGEVFNATRFASVYAWNRKRISNCVAD...</td>\n",
       "    </tr>\n",
       "  </tbody>\n",
       "</table>\n",
       "</div>"
      ],
      "text/plain": [
       "  structureChainId queryGroupId queryChainId queryGroupNumber targetGroupId  \\\n",
       "0           6XC2.A          NAG            A              601           ALA   \n",
       "1           6XC2.Z          NAG            Z              601           SER   \n",
       "2           6XC2.Z          NAG            Z              601           ASN   \n",
       "3           6XC2.A          NAG            A              601           ASP   \n",
       "4           6XC2.Z          NAG            Z              601           ALA   \n",
       "\n",
       "  targetChainId targetGroupNumber  sequenceIndex  \\\n",
       "0             A               372             53   \n",
       "1             Z               371             52   \n",
       "2             Z               343             24   \n",
       "3             A               364             45   \n",
       "4             Z               372             53   \n",
       "\n",
       "                                            sequence  \n",
       "0  RVQPTESIVRFPNITNLCPFGEVFNATRFASVYAWNRKRISNCVAD...  \n",
       "1  RVQPTESIVRFPNITNLCPFGEVFNATRFASVYAWNRKRISNCVAD...  \n",
       "2  RVQPTESIVRFPNITNLCPFGEVFNATRFASVYAWNRKRISNCVAD...  \n",
       "3  RVQPTESIVRFPNITNLCPFGEVFNATRFASVYAWNRKRISNCVAD...  \n",
       "4  RVQPTESIVRFPNITNLCPFGEVFNATRFASVYAWNRKRISNCVAD...  "
      ]
     },
     "execution_count": 9,
     "metadata": {},
     "output_type": "execute_result"
    }
   ],
   "source": [
    "interaction_filter = InteractionFilter(distanceCutoff=distance_cutoff)\n",
    "interaction_filter.set_query_groups(False, [\"HOH\", \"DOD\"])  # exclude water interactions\n",
    "\n",
    "interactions = InteractionExtractor().get_ligand_polymer_interactions(structures, interaction_filter, level='group').toPandas()\n",
    "interactions.head()"
   ]
  },
  {
   "cell_type": "markdown",
   "metadata": {},
   "source": [
    "## Filter mutations by joining with the interaction data"
   ]
  },
  {
   "cell_type": "code",
   "execution_count": 10,
   "metadata": {},
   "outputs": [
    {
     "data": {
      "text/html": [
       "<div>\n",
       "<style scoped>\n",
       "    .dataframe tbody tr th:only-of-type {\n",
       "        vertical-align: middle;\n",
       "    }\n",
       "\n",
       "    .dataframe tbody tr th {\n",
       "        vertical-align: top;\n",
       "    }\n",
       "\n",
       "    .dataframe thead th {\n",
       "        text-align: right;\n",
       "    }\n",
       "</style>\n",
       "<table border=\"1\" class=\"dataframe\">\n",
       "  <thead>\n",
       "    <tr style=\"text-align: right;\">\n",
       "      <th></th>\n",
       "      <th>coverage</th>\n",
       "      <th>description</th>\n",
       "      <th>name</th>\n",
       "      <th>resolution</th>\n",
       "      <th>structureChainId</th>\n",
       "      <th>structureId</th>\n",
       "      <th>uniprotPosition</th>\n",
       "      <th>pdbPosition</th>\n",
       "      <th>residue</th>\n",
       "      <th>variationId</th>\n",
       "      <th>annotation</th>\n",
       "      <th>scale</th>\n",
       "      <th>color</th>\n",
       "      <th>queryGroupId</th>\n",
       "      <th>queryChainId</th>\n",
       "      <th>queryGroupNumber</th>\n",
       "      <th>targetGroupId</th>\n",
       "      <th>targetChainId</th>\n",
       "      <th>targetGroupNumber</th>\n",
       "      <th>sequenceIndex</th>\n",
       "      <th>sequence</th>\n",
       "    </tr>\n",
       "  </thead>\n",
       "  <tbody>\n",
       "    <tr>\n",
       "      <th>0</th>\n",
       "      <td>0.27337</td>\n",
       "      <td>Spike glycoprotein, 2-acetamido-2-deoxy-beta-D...</td>\n",
       "      <td>Spike glycoprotein</td>\n",
       "      <td>3.0</td>\n",
       "      <td>6XRA.A</td>\n",
       "      <td>6XRA</td>\n",
       "      <td>1170</td>\n",
       "      <td>1170</td>\n",
       "      <td>1170</td>\n",
       "      <td>S:p.1170S&gt;F(26), S:p.1170S&gt;T(14), S:p.1170S&gt;A(...</td>\n",
       "      <td>1170S&gt;F(26), 1170S&gt;T(14), 1170S&gt;A(6), 1170S&gt;P(...</td>\n",
       "      <td>0.258940</td>\n",
       "      <td>#fcb79c</td>\n",
       "      <td>NAG</td>\n",
       "      <td>A</td>\n",
       "      <td>1417</td>\n",
       "      <td>SER</td>\n",
       "      <td>A</td>\n",
       "      <td>1170</td>\n",
       "      <td>1169</td>\n",
       "      <td>MFVFLVLLPLVSSQCVNLTTRTQLPPAYTNSFTRGVYYPDKVFRSS...</td>\n",
       "    </tr>\n",
       "    <tr>\n",
       "      <th>1</th>\n",
       "      <td>0.27337</td>\n",
       "      <td>Spike glycoprotein, 2-acetamido-2-deoxy-beta-D...</td>\n",
       "      <td>Spike glycoprotein</td>\n",
       "      <td>3.0</td>\n",
       "      <td>6XRA.B</td>\n",
       "      <td>6XRA</td>\n",
       "      <td>1170</td>\n",
       "      <td>1170</td>\n",
       "      <td>1170</td>\n",
       "      <td>S:p.1170S&gt;F(26), S:p.1170S&gt;T(14), S:p.1170S&gt;A(...</td>\n",
       "      <td>1170S&gt;F(26), 1170S&gt;T(14), 1170S&gt;A(6), 1170S&gt;P(...</td>\n",
       "      <td>0.258940</td>\n",
       "      <td>#fcb79c</td>\n",
       "      <td>NAG</td>\n",
       "      <td>B</td>\n",
       "      <td>1417</td>\n",
       "      <td>SER</td>\n",
       "      <td>B</td>\n",
       "      <td>1170</td>\n",
       "      <td>1169</td>\n",
       "      <td>MFVFLVLLPLVSSQCVNLTTRTQLPPAYTNSFTRGVYYPDKVFRSS...</td>\n",
       "    </tr>\n",
       "    <tr>\n",
       "      <th>2</th>\n",
       "      <td>0.27337</td>\n",
       "      <td>Spike glycoprotein, 2-acetamido-2-deoxy-beta-D...</td>\n",
       "      <td>Spike glycoprotein</td>\n",
       "      <td>3.0</td>\n",
       "      <td>6XRA.C</td>\n",
       "      <td>6XRA</td>\n",
       "      <td>1170</td>\n",
       "      <td>1170</td>\n",
       "      <td>1170</td>\n",
       "      <td>S:p.1170S&gt;F(26), S:p.1170S&gt;T(14), S:p.1170S&gt;A(...</td>\n",
       "      <td>1170S&gt;F(26), 1170S&gt;T(14), 1170S&gt;A(6), 1170S&gt;P(...</td>\n",
       "      <td>0.258940</td>\n",
       "      <td>#fcb79c</td>\n",
       "      <td>NAG</td>\n",
       "      <td>C</td>\n",
       "      <td>1417</td>\n",
       "      <td>SER</td>\n",
       "      <td>C</td>\n",
       "      <td>1170</td>\n",
       "      <td>1169</td>\n",
       "      <td>MFVFLVLLPLVSSQCVNLTTRTQLPPAYTNSFTRGVYYPDKVFRSS...</td>\n",
       "    </tr>\n",
       "    <tr>\n",
       "      <th>3</th>\n",
       "      <td>0.27337</td>\n",
       "      <td>Spike glycoprotein, 2-acetamido-2-deoxy-beta-D...</td>\n",
       "      <td>Spike glycoprotein</td>\n",
       "      <td>3.0</td>\n",
       "      <td>6XRA.A</td>\n",
       "      <td>6XRA</td>\n",
       "      <td>1171</td>\n",
       "      <td>1171</td>\n",
       "      <td>1171</td>\n",
       "      <td>S:p.1171G&gt;S(94), S:p.1171G&gt;V(54), S:p.1171G&gt;D(34)</td>\n",
       "      <td>1171G&gt;S(94), 1171G&gt;V(54), 1171G&gt;D(34)</td>\n",
       "      <td>0.341039</td>\n",
       "      <td>#fc9d7f</td>\n",
       "      <td>NAG</td>\n",
       "      <td>A</td>\n",
       "      <td>1417</td>\n",
       "      <td>GLY</td>\n",
       "      <td>A</td>\n",
       "      <td>1171</td>\n",
       "      <td>1170</td>\n",
       "      <td>MFVFLVLLPLVSSQCVNLTTRTQLPPAYTNSFTRGVYYPDKVFRSS...</td>\n",
       "    </tr>\n",
       "    <tr>\n",
       "      <th>4</th>\n",
       "      <td>0.27337</td>\n",
       "      <td>Spike glycoprotein, 2-acetamido-2-deoxy-beta-D...</td>\n",
       "      <td>Spike glycoprotein</td>\n",
       "      <td>3.0</td>\n",
       "      <td>6XRA.B</td>\n",
       "      <td>6XRA</td>\n",
       "      <td>1171</td>\n",
       "      <td>1171</td>\n",
       "      <td>1171</td>\n",
       "      <td>S:p.1171G&gt;S(94), S:p.1171G&gt;V(54), S:p.1171G&gt;D(34)</td>\n",
       "      <td>1171G&gt;S(94), 1171G&gt;V(54), 1171G&gt;D(34)</td>\n",
       "      <td>0.341039</td>\n",
       "      <td>#fc9d7f</td>\n",
       "      <td>NAG</td>\n",
       "      <td>B</td>\n",
       "      <td>1417</td>\n",
       "      <td>GLY</td>\n",
       "      <td>B</td>\n",
       "      <td>1171</td>\n",
       "      <td>1170</td>\n",
       "      <td>MFVFLVLLPLVSSQCVNLTTRTQLPPAYTNSFTRGVYYPDKVFRSS...</td>\n",
       "    </tr>\n",
       "  </tbody>\n",
       "</table>\n",
       "</div>"
      ],
      "text/plain": [
       "   coverage                                        description  \\\n",
       "0   0.27337  Spike glycoprotein, 2-acetamido-2-deoxy-beta-D...   \n",
       "1   0.27337  Spike glycoprotein, 2-acetamido-2-deoxy-beta-D...   \n",
       "2   0.27337  Spike glycoprotein, 2-acetamido-2-deoxy-beta-D...   \n",
       "3   0.27337  Spike glycoprotein, 2-acetamido-2-deoxy-beta-D...   \n",
       "4   0.27337  Spike glycoprotein, 2-acetamido-2-deoxy-beta-D...   \n",
       "\n",
       "                 name  resolution structureChainId structureId  \\\n",
       "0  Spike glycoprotein         3.0           6XRA.A        6XRA   \n",
       "1  Spike glycoprotein         3.0           6XRA.B        6XRA   \n",
       "2  Spike glycoprotein         3.0           6XRA.C        6XRA   \n",
       "3  Spike glycoprotein         3.0           6XRA.A        6XRA   \n",
       "4  Spike glycoprotein         3.0           6XRA.B        6XRA   \n",
       "\n",
       "   uniprotPosition pdbPosition  residue  \\\n",
       "0             1170        1170     1170   \n",
       "1             1170        1170     1170   \n",
       "2             1170        1170     1170   \n",
       "3             1171        1171     1171   \n",
       "4             1171        1171     1171   \n",
       "\n",
       "                                         variationId  \\\n",
       "0  S:p.1170S>F(26), S:p.1170S>T(14), S:p.1170S>A(...   \n",
       "1  S:p.1170S>F(26), S:p.1170S>T(14), S:p.1170S>A(...   \n",
       "2  S:p.1170S>F(26), S:p.1170S>T(14), S:p.1170S>A(...   \n",
       "3  S:p.1171G>S(94), S:p.1171G>V(54), S:p.1171G>D(34)   \n",
       "4  S:p.1171G>S(94), S:p.1171G>V(54), S:p.1171G>D(34)   \n",
       "\n",
       "                                          annotation     scale    color  \\\n",
       "0  1170S>F(26), 1170S>T(14), 1170S>A(6), 1170S>P(...  0.258940  #fcb79c   \n",
       "1  1170S>F(26), 1170S>T(14), 1170S>A(6), 1170S>P(...  0.258940  #fcb79c   \n",
       "2  1170S>F(26), 1170S>T(14), 1170S>A(6), 1170S>P(...  0.258940  #fcb79c   \n",
       "3              1171G>S(94), 1171G>V(54), 1171G>D(34)  0.341039  #fc9d7f   \n",
       "4              1171G>S(94), 1171G>V(54), 1171G>D(34)  0.341039  #fc9d7f   \n",
       "\n",
       "  queryGroupId queryChainId queryGroupNumber targetGroupId targetChainId  \\\n",
       "0          NAG            A             1417           SER             A   \n",
       "1          NAG            B             1417           SER             B   \n",
       "2          NAG            C             1417           SER             C   \n",
       "3          NAG            A             1417           GLY             A   \n",
       "4          NAG            B             1417           GLY             B   \n",
       "\n",
       "  targetGroupNumber  sequenceIndex  \\\n",
       "0              1170           1169   \n",
       "1              1170           1169   \n",
       "2              1170           1169   \n",
       "3              1171           1170   \n",
       "4              1171           1170   \n",
       "\n",
       "                                            sequence  \n",
       "0  MFVFLVLLPLVSSQCVNLTTRTQLPPAYTNSFTRGVYYPDKVFRSS...  \n",
       "1  MFVFLVLLPLVSSQCVNLTTRTQLPPAYTNSFTRGVYYPDKVFRSS...  \n",
       "2  MFVFLVLLPLVSSQCVNLTTRTQLPPAYTNSFTRGVYYPDKVFRSS...  \n",
       "3  MFVFLVLLPLVSSQCVNLTTRTQLPPAYTNSFTRGVYYPDKVFRSS...  \n",
       "4  MFVFLVLLPLVSSQCVNLTTRTQLPPAYTNSFTRGVYYPDKVFRSS...  "
      ]
     },
     "execution_count": 10,
     "metadata": {},
     "output_type": "execute_result"
    }
   ],
   "source": [
    "mt = df.merge(interactions, left_on=['structureChainId','pdbPosition'], right_on=['structureChainId','targetGroupNumber'], how='inner')\n",
    "mt.head()"
   ]
  },
  {
   "cell_type": "markdown",
   "metadata": {},
   "source": [
    "## Save protein-ligand mapping"
   ]
  },
  {
   "cell_type": "code",
   "execution_count": 11,
   "metadata": {},
   "outputs": [],
   "source": [
    "mt.to_csv(output_file_name, index=False)"
   ]
  },
  {
   "cell_type": "markdown",
   "metadata": {},
   "source": [
    "## View mutations grouped by protein chain\n",
    "Use the slider to view each protein chain. Turn labels off for an unobstructed view of the mutations. Interacting ligands are rendered as spheres with green carbon atoms."
   ]
  },
  {
   "cell_type": "code",
   "execution_count": 12,
   "metadata": {},
   "outputs": [
    {
     "name": "stdout",
     "output_type": "stream",
     "text": [
      "Chains: ['6LXT.A', '6LXT.B', '6LXT.C', '6LXT.E', '6LXT.F', '6LZG.B', '6M0J.E', '6M17.E', '6M17.F', '6VSB.A', '6VSB.B', '6VSB.C', '6VW1.E', '6VW1.F', '6VXX.A', '6VXX.B', '6VXX.C', '6VYB.A', '6VYB.B', '6VYB.C', '6W41.C', '6WPS.A', '6WPS.B', '6WPS.E', '6WPT.A', '6WPT.B', '6WPT.C', '6X6P.A', '6X6P.B', '6X6P.C', '6X79.A', '6X79.B', '6X79.C', '6XC2.A', '6XC2.Z', '6XC3.C', '6XC4.A', '6XC4.Z', '6XC7.A', '6XCM.A', '6XCM.B', '6XCM.C', '6XCN.A', '6XCN.C', '6XCN.E', '6XDG.E', '6XE1.E', '6XEY.A', '6XEY.B', '6XEY.C', '6XF5.A', '6XF5.B', '6XF5.C', '6XF6.A', '6XF6.B', '6XF6.C', '6XKL.A', '6XKL.B', '6XKL.C', '6XKP.A', '6XKP.B', '6XKQ.A', '6XLU.A', '6XLU.B', '6XLU.C', '6XM0.A', '6XM0.B', '6XM0.C', '6XM3.A', '6XM3.B', '6XM3.C', '6XM4.A', '6XM4.B', '6XM4.C', '6XM5.A', '6XM5.B', '6XM5.C', '6XR8.A', '6XR8.B', '6XR8.C', '6XRA.A', '6XRA.B', '6XRA.C', '6YLA.A', '6YLA.E', '6YZ5.E', '6YZ7.AAA', '6YZ7.EEE', '6Z2M.A', '6Z2M.E', '6Z43.A', '6Z43.B', '6Z43.C', '6Z97.A', '6Z97.B', '6Z97.C', '6ZB4.A', '6ZB4.B', '6ZB4.C', '6ZB5.A', '6ZB5.B', '6ZB5.C', '6ZBP.EEE', '6ZCZ.E', '6ZDG.A', '6ZDG.D', '6ZDG.E', '6ZDH.A', '6ZDH.B', '6ZDH.C', '6ZER.A', '6ZER.D', '6ZER.E', '6ZFO.A', '6ZFO.E', '6ZGE.A', '6ZGE.B', '6ZGE.C', '6ZGI.A', '6ZGI.B', '6ZGI.C', '6ZHD.A', '6ZHD.B', '6ZHD.C', '6ZLR.AAA', '6ZLR.DDD', '6ZLR.EEE', '6ZOW.A', '6ZOW.B', '6ZOW.C', '6ZOW.a', '6ZOX.A', '6ZOX.B', '6ZOX.C', '6ZOY.A', '6ZOY.B', '6ZOY.C', '6ZOZ.A', '6ZOZ.B', '6ZOZ.C', '6ZP0.A', '6ZP0.B', '6ZP0.C', '6ZP1.A', '6ZP1.B', '6ZP1.C', '6ZP2.A', '6ZP2.B', '6ZP2.C', '6ZP5.A', '6ZP5.B', '6ZP5.C', '6ZP7.A', '6ZP7.B', '6ZP7.C', '6ZWV.A', '6ZWV.B', '6ZWV.C', '6ZXN.A', '6ZXN.B', '6ZXN.C', '7A25.A', '7A25.B', '7A25.C', '7A29.A', '7A29.B', '7A29.C', '7A4N.A', '7A4N.B', '7A4N.C', '7A5R.A', '7A5R.B', '7A5S.A', '7A5S.B', '7A91.A', '7A92.A', '7A94.A', '7A94.B', '7A94.C', '7AD1.A', '7AD1.B', '7AD1.C', '7B17.A', '7B3O.E', '7BEH.E', '7BEI.E', '7BEJ.E', '7BEK.E', '7BEL.R', '7BEL.X', '7BEM.E', '7BEN.C', '7BEN.E', '7BEO.R', '7BEO.X', '7BEP.C', '7BEP.E', '7BNM.A', '7BNM.B', '7BNM.C', '7BNN.A', '7BNN.B', '7BNN.C', '7BNO.A', '7BNO.B', '7BNO.C', '7BWJ.E', '7BYR.A', '7BYR.B', '7BYR.C', '7BZ5.A', '7C01.A', '7C01.B', '7C2L.A', '7C2L.B', '7C2L.C', '7C8V.B', '7C8W.B', '7CAB.A', '7CAB.B', '7CAB.C', '7CAC.A', '7CAC.B', '7CAC.C', '7CAI.A', '7CAI.B', '7CAI.C', '7CAK.A', '7CAK.B', '7CAK.C', '7CAN.B', '7CDI.E', '7CDJ.E', '7CHB.R', '7CHH.A', '7CHH.B', '7CHH.C', '7CJF.C', '7CM4.A', '7CN9.A', '7CN9.B', '7CN9.C', '7CT5.A', '7CT5.B', '7CT5.C', '7CWL.A', '7CWL.B', '7CWL.C', '7CWM.A', '7CWM.B', '7CWM.C', '7CWN.A', '7CWN.B', '7CWN.C', '7CWS.O', '7CWS.Q', '7CWS.R', '7CWU.A', '7CWU.B', '7CWU.C', '7CZP.A', '7CZP.B', '7CZP.C', '7CZQ.A', '7CZQ.B', '7CZQ.C', '7CZR.A', '7CZR.B', '7CZR.C', '7CZS.A', '7CZS.B', '7CZS.C', '7CZT.A', '7CZT.B', '7CZT.C', '7CZU.A', '7CZU.B', '7CZU.C', '7CZV.A', '7CZV.B', '7CZV.C', '7CZW.A', '7CZW.B', '7CZW.C', '7CZX.A', '7CZX.B', '7CZX.C', '7CZY.A', '7CZY.B', '7CZY.C', '7CZZ.A', '7CZZ.B', '7CZZ.C', '7D00.A', '7D00.B', '7D00.C', '7D03.A', '7D03.B', '7D03.C', '7D0B.A', '7D0B.B', '7D0B.C', '7D0C.A', '7D0C.B', '7D0C.C', '7D0D.A', '7D0D.B', '7D0D.C', '7D2Z.B', '7D30.B', '7DEO.B', '7DEO.D', '7DET.A', '7DET.C', '7DEU.A', '7DF3.A', '7DF3.B', '7DF3.C', '7DF4.B', '7DF4.C', '7DF4.D', '7DMU.B', '7DMU.D', '7DPM.C', '7DPM.F', '7DPM.I', '7DPM.L', '7DWX.E', '7DWX.F', '7DWX.G', '7DWX.H', '7DWX.I', '7DWX.J', '7DWY.A', '7DWY.B', '7DWY.C', '7DWZ.A', '7DWZ.B', '7DWZ.C', '7DX0.A', '7DX0.B', '7DX0.C', '7DX1.A', '7DX1.B', '7DX1.C', '7DX2.A', '7DX2.B', '7DX2.C', '7DX3.A', '7DX3.B', '7DX3.C', '7DX4.E', '7DX5.A', '7DX5.B', '7DX5.C', '7DX6.A', '7DX6.B', '7DX6.C', '7DX7.A', '7DX7.B', '7DX7.C', '7DX8.A', '7DX8.B', '7DX8.C', '7DX9.A', '7DX9.B', '7DX9.C', '7E3J.B', '7E7B.A', '7E7B.B', '7E7B.C', '7E7D.A', '7E7D.B', '7E7D.C', '7EAM.A', '7EAM.B', '7EAN.A', '7JJI.A', '7JJI.B', '7JJI.C', '7JJJ.A', '7JJJ.B', '7JJJ.C', '7JJJ.D', '7JJJ.E', '7JJJ.F', '7JMO.A', '7JMP.A', '7JMW.A', '7JV4.A', '7JV4.B', '7JV4.C', '7JV6.A', '7JV6.B', '7JV6.E', '7JVA.A', '7JVB.A', '7JVB.B', '7JVC.A', '7JVC.B', '7JVC.E', '7JW0.A', '7JW0.B', '7JW0.E', '7JWY.A', '7JWY.B', '7JWY.C', '7JX3.R', '7JZL.A', '7JZL.B', '7JZL.C', '7JZM.B', '7JZN.A', '7JZN.B', '7JZN.C', '7JZU.B', '7K43.A', '7K43.B', '7K43.E', '7K45.B', '7K4N.A', '7K4N.B', '7K4N.E', '7K8M.E', '7K8S.A', '7K8S.B', '7K8S.C', '7K8T.A', '7K8T.B', '7K8T.C', '7K8U.A', '7K8U.B', '7K8U.C', '7K8V.A', '7K8V.B', '7K8V.C', '7K8W.A', '7K8W.B', '7K8W.G', '7K8X.A', '7K8X.B', '7K8X.C', '7K8Y.B', '7K8Y.D', '7K8Y.E', '7K8Z.A', '7K8Z.B', '7K8Z.C', '7K90.A', '7K90.B', '7K90.C', '7K9Z.E', '7KDG.A', '7KDG.B', '7KDG.C', '7KDH.A', '7KDH.B', '7KDH.C', '7KDI.A', '7KDI.B', '7KDI.C', '7KDJ.A', '7KDJ.B', '7KDJ.C', '7KDK.A', '7KDK.B', '7KDK.C', '7KDL.A', '7KDL.B', '7KDL.C', '7KE4.A', '7KE4.B', '7KE4.C', '7KE6.A', '7KE6.B', '7KE6.C', '7KE7.A', '7KE7.B', '7KE7.C', '7KE8.A', '7KE8.B', '7KE8.C', '7KE9.A', '7KE9.B', '7KE9.C', '7KEA.A', '7KEA.B', '7KEA.C', '7KEB.A', '7KEB.B', '7KEB.C', '7KEC.A', '7KEC.B', '7KEC.C', '7KFV.A', '7KFV.B', '7KFV.E', '7KFW.A', '7KFW.B', '7KFW.E', '7KFX.A', '7KFY.A', '7KJ2.A', '7KJ2.B', '7KJ2.C', '7KJ3.A', '7KJ3.B', '7KJ3.C', '7KJ4.A', '7KJ4.B', '7KJ4.C', '7KJ5.A', '7KJ5.B', '7KJ5.C', '7KKK.A', '7KKK.C', '7KKK.E', '7KKL.A', '7KKL.C', '7KKL.D', '7KL9.A', '7KL9.B', '7KL9.C', '7KLG.A', '7KLG.B', '7KLH.A', '7KLH.B', '7KMB.G', '7KMH.C', '7KMI.C', '7KMK.A', '7KMK.B', '7KMK.C', '7KML.A', '7KML.B', '7KML.C', '7KMS.A', '7KMS.B', '7KMS.C', '7KMZ.A', '7KMZ.B', '7KMZ.C', '7KN5.A', '7KN5.B', '7KN6.A', '7KN7.A', '7KNB.A', '7KNB.B', '7KNB.C', '7KNE.A', '7KNE.B', '7KNE.C', '7KNH.A', '7KNH.B', '7KNH.C', '7KNI.A', '7KNI.B', '7KNI.C', '7KRQ.A', '7KRQ.B', '7KRQ.C', '7KRR.A', '7KRR.B', '7KRR.C', '7KRS.A', '7KRS.B', '7KRS.C', '7KS9.A', '7KS9.B', '7KS9.C', '7KSG.A', '7KSG.B', '7KSG.C', '7KXJ.A', '7KXJ.B', '7KXJ.C', '7KXK.A', '7KXK.B', '7KXK.C', '7KZB.C', '7L02.A', '7L02.B', '7L02.C', '7L06.A', '7L06.B', '7L06.C', '7L09.A', '7L09.B', '7L09.C', '7L0N.R', '7L0N.S', '7L2C.A', '7L2C.B', '7L2D.A', '7L2D.B', '7L2D.C', '7L2E.A', '7L2E.B', '7L2E.C', '7L2F.A', '7L2F.B', '7L2F.C', '7L3N.A', '7L3N.B', '7L3N.C', '7L56.A', '7L56.B', '7L56.C', '7L57.A', '7L57.B', '7L57.C', '7L58.A', '7L58.B', '7L58.C', '7LAA.A', '7LAA.B', '7LAA.C', '7LAB.A', '7LAB.B', '7LAB.C', '7LCN.A', '7LCN.C', '7LCN.K', '7LD1.A', '7LD1.B', '7LD1.C', '7LM8.A', '7LO4.B', '7LOP.A', '7LOP.Z', '7LQV.A', '7LQV.B', '7LQV.C', '7LQW.A', '7LQW.B', '7LQW.C', '7LS9.A', '7LS9.B', '7LS9.C', '7LSS.A', '7LSS.B', '7LSS.C', '7LWI.A', '7LWI.B', '7LWI.C', '7LWJ.A', '7LWJ.B', '7LWJ.C', '7LWK.A', '7LWK.B', '7LWK.C', '7LWL.A', '7LWL.B', '7LWL.C', '7LWM.A', '7LWM.B', '7LWM.C', '7LWN.A', '7LWN.B', '7LWN.C', '7LWO.A', '7LWO.B', '7LWO.C', '7LWP.A', '7LWP.B', '7LWP.C', '7LWQ.A', '7LWQ.B', '7LWQ.C', '7LWT.A', '7LWT.B', '7LWT.C', '7LWU.A', '7LWU.B', '7LWU.C', '7LWV.A', '7LWV.B', '7LWV.C', '7LWW.A', '7LWW.B', '7LWW.C', '7LXW.A', '7LXX.A', '7LXY.A', '7LXY.B', '7LXY.J', '7LXZ.A', '7LXZ.B', '7LXZ.K', '7LY0.A', '7LY2.A', '7LY2.B', '7LY2.J', '7LY3.A', '7LY3.B', '7LYK.A', '7LYK.B', '7LYK.C', '7LYL.A', '7LYL.B', '7LYL.C', '7LYM.A', '7LYM.B', '7LYM.C', '7LYN.A', '7LYN.B', '7LYN.C', '7LYO.A', '7LYO.B', '7LYO.C', '7LYP.A', '7LYP.B', '7LYP.C', '7LYQ.A', '7LYQ.B', '7LYQ.C', '7ND3.A', '7ND3.B', '7ND3.C', '7ND4.A', '7ND4.B', '7ND4.C', '7ND5.A', '7ND5.B', '7ND5.C', '7ND6.A', '7ND6.B', '7ND6.C', '7ND7.A', '7ND7.B', '7ND7.C', '7ND8.A', '7ND8.B', '7ND8.C', '7ND9.A', '7ND9.B', '7ND9.C', '7NDA.A', '7NDA.B', '7NDA.C', '7NDB.A', '7NDB.B', '7NDB.C', '7NDC.A', '7NDC.B', '7NDC.C', '7NDD.A', '7NDD.B', '7NDD.C', '7NEG.E', '7NEH.E', '7NX6.E', '7NX7.E', '7NX8.E', '7NX9.E', '7NXA.E', '7NXB.E', '7NXC.B']\n"
     ]
    }
   ],
   "source": [
    "chains = mt.groupby('structureChainId')\n",
    "print(\"Chains:\", list(chains.groups.keys()))"
   ]
  },
  {
   "cell_type": "code",
   "execution_count": 13,
   "metadata": {
    "code_folding": [
     0
    ],
    "jupyter": {
     "source_hidden": true
    }
   },
   "outputs": [],
   "source": [
    "# Setup viewer\n",
    "def view_grouped_mutations(grouped_df, *args):\n",
    "    chainIds = list(grouped_df.groups.keys())\n",
    "\n",
    "    def view3d(show_bio_assembly, show_surface, show_short_label, show_long_label, size, font, logFreq, i):\n",
    "        group = grouped_df.get_group(chainIds[i])\n",
    "        \n",
    "        pdb_id, chain_id = chainIds[i].split('.')\n",
    "        global viewer1\n",
    "        viewer1 = py3Dmol.view(query='pdb:' + pdb_id, options={'doAssembly': show_bio_assembly}, width=size, height=size)\n",
    "\n",
    "        # polymer style\n",
    "        viewer1.setStyle({'cartoon': {'colorscheme': 'chain', 'width': 0.6, 'opacity':0.9}})\n",
    "\n",
    "        # highlight chain of interest in blue\n",
    "        viewer1.setStyle({'chain': chain_id},{'cartoon': {'color': 'blue'}})\n",
    "   \n",
    "        # non-polymer style\n",
    "        viewer1.setStyle({'hetflag': True}, {'stick':{'radius': 0.3, 'singleBond': False}})\n",
    "        \n",
    "        # don't display water molecules\n",
    "        viewer1.setStyle({'resn': ['HOH','DOD']}, {})\n",
    "        \n",
    "        rows = group.shape[0]\n",
    "        for j in range(0, rows):\n",
    "            if group.iloc[j]['scale'] > logFreq:\n",
    "                # interacting residue info\n",
    "                res_num = str(group.iloc[j]['pdbPosition'])\n",
    "                mod_res = {'resi': res_num, 'chain': chain_id}\n",
    "            \n",
    "                # interacting ligand info\n",
    "                lig_id = group.iloc[j]['queryGroupId']\n",
    "                lig_chain = group.iloc[j]['queryChainId']\n",
    "                lig_num = group.iloc[j]['queryGroupNumber']\n",
    "                lig_res = {'resi': lig_num, 'chain': lig_chain}\n",
    "            \n",
    "                col = group.iloc[j]['color']\n",
    "                c_col = col + 'Carbon'\n",
    "                viewer1.addStyle(mod_res, {'stick':{'colorscheme':c_col, 'radius': 0.2}})\n",
    "                viewer1.addStyle(mod_res, {'sphere':{'color':col, 'opacity': 0.6}})   \n",
    "                viewer1.addStyle(lig_res, {'sphere': {'colorscheme': 'greenCarbon'}})\n",
    "            \n",
    "                annotation = group.iloc[j]['annotation']\n",
    "                variationId = group.iloc[j]['variationId']\n",
    "                \n",
    "                if show_short_label:\n",
    "                    label = annotation\n",
    "                if show_long_label:\n",
    "                    label = chain_id + \".\" + str(res_num) + \": \" + variationId\n",
    "                if show_short_label or show_long_label:\n",
    "                    viewer1.addLabel(label, {'fontSize':font,'fontColor': 'black','backgroundColor':'ivory'}, mod_res)\n",
    "                    viewer1.addLabel(lig_id + lig_num, {'fontSize':font}, lig_res)\n",
    "\n",
    "        viewer1.zoomTo({'chain': chain_id})\n",
    "        viewer1.center({'chain': chain_id})\n",
    "        \n",
    "        if show_surface:\n",
    "             viewer1.addSurface(py3Dmol.SES,{'opacity':0.8,'color':'lightblue'},{'chain': chain_id})\n",
    "                \n",
    "        # print header\n",
    "        name = group.iloc[0]['name']\n",
    "        resolution = group.iloc[0]['resolution']\n",
    "        coverage = group.iloc[0]['coverage']\n",
    "        description = group.iloc[0]['description']\n",
    "        print(name)\n",
    "        print()\n",
    "        print(f'PDB Id: {pdb_id}, chain Id: {chain_id}, resolution: {resolution}, sequence coverage: {coverage:.2f}')\n",
    "        print(f'description: {description}')\n",
    "        \n",
    "        # print any specified additional columns from the dataframe\n",
    "        for a in args:\n",
    "            print(a + \": \" + group.iloc[j][a])\n",
    "                \n",
    "        return viewer1.show()\n",
    "\n",
    "    f_widget = IntSlider(value=9, min=5, max=20, description='font size', continuous_update=False)\n",
    "    z_widget = IntSlider(value=750, min=500, max=1200, description='size', continuous_update=False)\n",
    "    s_widget = IntSlider(min=0, max=len(chainIds)-1, description='structure', continuous_update=False)\n",
    "    l_widget = FloatSlider(value=0.5, min=0, max=1, step=0.05, description='logFreq:', disabled=False, \n",
    "                           continuous_update=False, orientation='horizontal', readout=True, readout_format='.2f')\n",
    "    \n",
    "    return interact(view3d, show_bio_assembly=False, show_surface=False, show_short_label=True, show_long_label=False, size=z_widget, \n",
    "                    font=f_widget, logFreq=l_widget, i=s_widget)\n",
    "\n",
    "def view_image1():\n",
    "    return viewer1.png()"
   ]
  },
  {
   "cell_type": "code",
   "execution_count": 14,
   "metadata": {},
   "outputs": [
    {
     "data": {
      "application/vnd.jupyter.widget-view+json": {
       "model_id": "4d703e741ba94bcbbea4ff34b308937e",
       "version_major": 2,
       "version_minor": 0
      },
      "text/plain": [
       "interactive(children=(Checkbox(value=False, description='show_bio_assembly'), Checkbox(value=False, descriptio…"
      ]
     },
     "metadata": {},
     "output_type": "display_data"
    }
   ],
   "source": [
    "view_grouped_mutations(chains);"
   ]
  },
  {
   "cell_type": "markdown",
   "metadata": {},
   "source": [
    "## View one mutation at a time\n",
    "Use the slider to view each mutation. Surrounding residues within the `distance_cutoff` are rendered as orange sticks. Interacting ligands are rendered as spheres with green carbon atoms."
   ]
  },
  {
   "cell_type": "code",
   "execution_count": 15,
   "metadata": {
    "code_folding": [
     0
    ],
    "jupyter": {
     "source_hidden": true
    }
   },
   "outputs": [],
   "source": [
    "# Setup viewer\n",
    "def view_single_mutation(df, distance_cutoff, *args):\n",
    "\n",
    "    def view3d(show_bio_assembly, show_surface, show_short_label, show_long_label, size, font, logFreq, i):        \n",
    "        pdb_id, chain_id = df.iloc[i]['structureChainId'].split('.')\n",
    "        \n",
    "        global viewer2\n",
    "        viewer2 = py3Dmol.view(query='pdb:' + pdb_id, options={'doAssembly': show_bio_assembly}, width=size, height=size)\n",
    "\n",
    "        # polymer style\n",
    "        viewer2.setStyle({'cartoon': {'colorscheme': 'chain', 'width': 0.6, 'opacity':0.7}})\n",
    "       \n",
    "        # highlight chain of interest in blue\n",
    "        viewer2.setStyle({'chain': chain_id},{'cartoon': {'color': 'blue', 'width': 0.6, 'opacity':0.5}})\n",
    "        \n",
    "        # non-polymer style\n",
    "        viewer2.setStyle({'hetflag': True}, {'stick':{'radius': 0.3, 'singleBond': False}})\n",
    "        \n",
    "        # don't display water molecules\n",
    "        viewer2.setStyle({'resn': ['HOH','DOD']}, {})\n",
    "        \n",
    "        # interacting residue info\n",
    "        res_num = str(df.iloc[i]['pdbPosition'])\n",
    "        mod_res = {'resi': res_num, 'chain': chain_id}\n",
    "        \n",
    "        # interacting ligand info\n",
    "        label = df.iloc[i]['variationId']  \n",
    "        lig_id = df.iloc[i]['queryGroupId']\n",
    "        lig_chain = df.iloc[i]['queryChainId']\n",
    "        lig_num = df.iloc[i]['queryGroupNumber']\n",
    "        lig_res = {'resi': lig_num, 'chain': lig_chain}\n",
    "        lig_label = lig_id + \"-\" + lig_chain + lig_num\n",
    "        \n",
    "        col = df.iloc[i]['color']\n",
    "        c_col = col + 'Carbon'\n",
    "        viewer2.addStyle(mod_res, {'stick':{'colorscheme': c_col, 'radius': 0.2}})\n",
    "        viewer2.addStyle(mod_res, {'sphere':{'color': col, 'opacity': 0.8}})  \n",
    "\n",
    "        # text label\n",
    "        annotation = df.iloc[i]['annotation']\n",
    "        variationId = df.iloc[i]['variationId']\n",
    "                \n",
    "        if show_short_label:\n",
    "            label = annotation\n",
    "        if show_long_label:\n",
    "            label = chain_id + \".\" + str(res_num) + \": \" + variationId\n",
    "        if show_short_label or show_long_label:\n",
    "            viewer2.addLabel(label, {'fontSize':font,'fontColor': 'black','backgroundColor':'ivory', 'opacity': 1.0}, mod_res)    \n",
    "            viewer2.addLabel(lig_label, {'fontSize':font-2}, lig_res)      \n",
    "\n",
    "        # select neigboring residues by distance\n",
    "        surroundings = {'chain': chain_id, 'resi': res_num, 'byres': True, 'expand': distance_cutoff}\n",
    "        \n",
    "        # residues surrounding mutation site\n",
    "        viewer2.addStyle(surroundings,{'stick':{'colorscheme':'orangeCarbon', 'radius': 0.15}})\n",
    "\n",
    "        \n",
    "        # interacting ligand style\n",
    "        viewer2.addStyle(lig_res, {'sphere': {'colorscheme': 'greenCarbon'}})  \n",
    "        \n",
    "        # set style for interacting waters\n",
    "        waters = {'resn': ['HOH','DOD']}\n",
    "        waters.update(surroundings)\n",
    "        viewer2.addStyle(waters,{'sphere':{'color':'orange', 'radius': 0.5}})\n",
    "    \n",
    "        if show_surface:\n",
    "             viewer2.addSurface(py3Dmol.SES, {'opacity':0.8,'color':'lightblue'}, {'chain': chain_id})\n",
    "         \n",
    "        viewer2.zoomTo(surroundings)\n",
    "        viewer2.center(mod_res)\n",
    "        \n",
    "        # print header\n",
    "        print(\"PDB Id:\", pdb_id, \"chain Id:\" , chain_id, \"residue:\", res_num, \"ligand:\", lig_label, \"mutation:\", variationId)\n",
    "        \n",
    "        # print any specified additional columns from the dataframe\n",
    "        for a in args:\n",
    "            print(a + \": \" + df.iloc[i][a])\n",
    "                \n",
    "        return viewer2.show()\n",
    "\n",
    "    f_widget = IntSlider(value=12, min=5, max=20, description='font size', continuous_update=False)\n",
    "    z_widget = IntSlider(value=750, min=500, max=1200, description='size', continuous_update=False)\n",
    "    s_widget = IntSlider(min=0, max=len(df)-1, description='structure', continuous_update=False)\n",
    "    l_widget = FloatSlider(value=0.5, min=0, max=1, step=0.05, description='logFreq:', disabled=False, \n",
    "                           continuous_update=False, orientation='horizontal', readout=True, readout_format='.2f')\n",
    "    \n",
    "    return interact(view3d, show_bio_assembly=False, show_surface=False, show_short_label=True, show_long_label=False, size=z_widget, \n",
    "                    font=f_widget, logFreq=l_widget, i=s_widget)\n",
    "\n",
    "def view_image2():\n",
    "    return viewer2.png()"
   ]
  },
  {
   "cell_type": "code",
   "execution_count": 16,
   "metadata": {},
   "outputs": [],
   "source": [
    "mt_unique = mt.drop_duplicates([\"structureChainId\",\"variationId\",'queryGroupId','queryGroupNumber'])"
   ]
  },
  {
   "cell_type": "code",
   "execution_count": 17,
   "metadata": {},
   "outputs": [
    {
     "data": {
      "application/vnd.jupyter.widget-view+json": {
       "model_id": "db00245f058a4a8eb02b955935e6ffff",
       "version_major": 2,
       "version_minor": 0
      },
      "text/plain": [
       "interactive(children=(Checkbox(value=False, description='show_bio_assembly'), Checkbox(value=False, descriptio…"
      ]
     },
     "metadata": {},
     "output_type": "display_data"
    }
   ],
   "source": [
    "view_single_mutation(mt_unique, distance_cutoff);"
   ]
  },
  {
   "cell_type": "code",
   "execution_count": 18,
   "metadata": {
    "code_folding": [
     0
    ]
   },
   "outputs": [],
   "source": [
    "# Shutdown Spark\n",
    "spark.stop()"
   ]
  },
  {
   "cell_type": "markdown",
   "metadata": {},
   "source": [
    "## Now run the next step\n",
    "Map mutations occuring at protein-polymer interfaces: [4-MapToDrugInteractions.ipynb](4-MapToDrugInteractions.ipynb)"
   ]
  },
  {
   "cell_type": "code",
   "execution_count": null,
   "metadata": {},
   "outputs": [],
   "source": []
  }
 ],
 "metadata": {
  "kernelspec": {
   "display_name": "Python 3",
   "language": "python",
   "name": "python3"
  },
  "language_info": {
   "codemirror_mode": {
    "name": "ipython",
    "version": 3
   },
   "file_extension": ".py",
   "mimetype": "text/x-python",
   "name": "python",
   "nbconvert_exporter": "python",
   "pygments_lexer": "ipython3",
   "version": "3.6.13"
  }
 },
 "nbformat": 4,
 "nbformat_minor": 4
}
