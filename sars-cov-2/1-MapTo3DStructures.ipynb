{
 "cells": [
  {
   "cell_type": "markdown",
   "metadata": {},
   "source": [
    "# Maps SARS-CoV-2 Mutations to 3D Protein Structures\n",
    "[Work in progress]\n",
    "\n",
    "This notebook maps mutation frequency of SARS-CoV-2 strains onto 3D protein structures in the [Protein Data Bank](https://www.wwpdb.org/). SARS-CoV2-2 strains and their mutations have been aggregated in the [COVID-19-Net Knowledge Graph](https://github.com/covid-19-net/covid-19-community)."
   ]
  },
  {
   "cell_type": "code",
   "execution_count": 1,
   "metadata": {},
   "outputs": [],
   "source": [
    "import math\n",
    "import pandas as pd\n",
    "import numpy as np\n",
    "import matplotlib.pyplot as plt\n",
    "import matplotlib.colors\n",
    "import matplotlib.cm as cm\n",
    "import ipywidgets as widgets\n",
    "from ipywidgets import interact, IntSlider, FloatSlider\n",
    "from py2neo import Graph\n",
    "import py3Dmol"
   ]
  },
  {
   "cell_type": "code",
   "execution_count": 2,
   "metadata": {},
   "outputs": [],
   "source": [
    "pd.options.display.max_rows = None  # display all rows\n",
    "pd.options.display.max_columns = None  # display all columsns"
   ]
  },
  {
   "cell_type": "code",
   "execution_count": 3,
   "metadata": {},
   "outputs": [],
   "source": [
    "output_file_name = 'mutations3d.csv' # mutations mapped to 3D protein structures"
   ]
  },
  {
   "cell_type": "markdown",
   "metadata": {},
   "source": [
    "#### Connect to COVID-19-Community Knowledge Graph\n",
    "[COVID-19-Net Knowledge Graph](https://github.com/covid-19-net/covid-19-community)"
   ]
  },
  {
   "cell_type": "code",
   "execution_count": 4,
   "metadata": {},
   "outputs": [],
   "source": [
    "graph = Graph(\"bolt://132.249.238.185:7687\", user=\"reader\", password=\"demo\")"
   ]
  },
  {
   "cell_type": "markdown",
   "metadata": {},
   "source": [
    "### Get list of SARS-CoV-2 proteins"
   ]
  },
  {
   "cell_type": "code",
   "execution_count": 5,
   "metadata": {},
   "outputs": [],
   "source": [
    "reference_genome = 'ncbiprotein:NC_045512' # Genbank reference sequence"
   ]
  },
  {
   "cell_type": "code",
   "execution_count": 6,
   "metadata": {},
   "outputs": [],
   "source": [
    "query = \"\"\"\n",
    "MATCH (r:Strain{id: $reference_genome})-[:HAS]->(g:Gene)-[:ENCODES]->(p:Protein)\n",
    "      -[:HAS_TERTIARY_STRUCTURE]->(:Chain)-[:IS_PART_OF_STRUCTURE]->(s:Structure)\n",
    "WHERE (g.end - g.start) < 10000 // exclude polyproteins\n",
    "RETURN DISTINCT(p.name) AS protein\n",
    "ORDER BY protein\n",
    "\"\"\"\n",
    "proteins = graph.run(query, reference_genome=reference_genome).to_data_frame()['protein'].values"
   ]
  },
  {
   "cell_type": "code",
   "execution_count": 7,
   "metadata": {},
   "outputs": [],
   "source": [
    "protein_widget = widgets.Dropdown(options=proteins, description='Select protein:', value='Spike glycoprotein')"
   ]
  },
  {
   "cell_type": "code",
   "execution_count": 8,
   "metadata": {},
   "outputs": [
    {
     "data": {
      "application/vnd.jupyter.widget-view+json": {
       "model_id": "a456bfbeac2f40949c008a4c5f3c37bb",
       "version_major": 2,
       "version_minor": 0
      },
      "text/plain": [
       "Dropdown(description='Select protein:', index=14, options=(\"2'-O-methyltransferase\", '3C-like proteinase', 'He…"
      ]
     },
     "metadata": {},
     "output_type": "display_data"
    }
   ],
   "source": [
    "display(protein_widget)"
   ]
  },
  {
   "cell_type": "code",
   "execution_count": 9,
   "metadata": {},
   "outputs": [
    {
     "name": "stdout",
     "output_type": "stream",
     "text": [
      "Protein name : Spike glycoprotein\n"
     ]
    }
   ],
   "source": [
    "protein_name = protein_widget.value\n",
    "print('Protein name :', protein_name)"
   ]
  },
  {
   "cell_type": "markdown",
   "metadata": {},
   "source": [
    "### Get total number of strains"
   ]
  },
  {
   "cell_type": "code",
   "execution_count": 10,
   "metadata": {},
   "outputs": [],
   "source": [
    "query = \"\"\"\n",
    "MATCH (s:Strain)\n",
    "WHERE s.hostTaxonomyId = 'taxonomy:9606'\n",
    "RETURN count(s)\n",
    "\"\"\""
   ]
  },
  {
   "cell_type": "code",
   "execution_count": 11,
   "metadata": {},
   "outputs": [],
   "source": [
    "strains = graph.evaluate(query)"
   ]
  },
  {
   "cell_type": "code",
   "execution_count": 12,
   "metadata": {},
   "outputs": [
    {
     "name": "stdout",
     "output_type": "stream",
     "text": [
      "Total number of human strains: 74762\n"
     ]
    }
   ],
   "source": [
    "print('Total number of human strains:', strains)"
   ]
  },
  {
   "cell_type": "markdown",
   "metadata": {},
   "source": [
    "### Get variants for selected protein"
   ]
  },
  {
   "cell_type": "code",
   "execution_count": 13,
   "metadata": {},
   "outputs": [],
   "source": [
    "query = \"\"\"\n",
    "MATCH (p:Protein{name: $protein_name})-[:HAS_VARIANT]->(v:Variant{variantConsequence:'missense_variant'})<-[:HAS_VARIANT]-(s:Strain)\n",
    "WHERE s.hostTaxonomyId = 'taxonomy:9606'\n",
    "WITH v.proteinPosition AS residue, count(v.proteinVariant) AS count, \n",
    "     v.proteinVariant + '(' + count(v.proteinVariant) + ')' AS variationId ,\n",
    "     split(v.proteinVariant, ':')[1] + '(' + count(v.proteinVariant) + ')' AS annotation\n",
    "     ORDER by count DESC\n",
    "WITH residue, count, variationId, annotation\n",
    "RETURN residue, collect(variationId) AS variationId, collect(annotation) AS annotation, sum(count) AS count ORDER BY residue\n",
    "\"\"\""
   ]
  },
  {
   "cell_type": "markdown",
   "metadata": {},
   "source": [
    "#### Add mutation annotation to each residue"
   ]
  },
  {
   "cell_type": "code",
   "execution_count": 14,
   "metadata": {},
   "outputs": [],
   "source": [
    "variants = graph.run(query, protein_name=protein_name).to_data_frame()"
   ]
  },
  {
   "cell_type": "code",
   "execution_count": 15,
   "metadata": {},
   "outputs": [],
   "source": [
    "variants['variationId'] = variants['variationId'].apply(lambda x: ', '.join(x))\n",
    "variants['annotation'] = variants['annotation'].apply(lambda x: ', '.join(x))"
   ]
  },
  {
   "cell_type": "code",
   "execution_count": 16,
   "metadata": {},
   "outputs": [],
   "source": [
    "variants['annotation'] = variants['annotation'].str.replace('p.', '')"
   ]
  },
  {
   "cell_type": "code",
   "execution_count": 17,
   "metadata": {},
   "outputs": [
    {
     "data": {
      "text/html": [
       "<div>\n",
       "<style scoped>\n",
       "    .dataframe tbody tr th:only-of-type {\n",
       "        vertical-align: middle;\n",
       "    }\n",
       "\n",
       "    .dataframe tbody tr th {\n",
       "        vertical-align: top;\n",
       "    }\n",
       "\n",
       "    .dataframe thead th {\n",
       "        text-align: right;\n",
       "    }\n",
       "</style>\n",
       "<table border=\"1\" class=\"dataframe\">\n",
       "  <thead>\n",
       "    <tr style=\"text-align: right;\">\n",
       "      <th></th>\n",
       "      <th>annotation</th>\n",
       "      <th>count</th>\n",
       "      <th>residue</th>\n",
       "      <th>variationId</th>\n",
       "    </tr>\n",
       "  </thead>\n",
       "  <tbody>\n",
       "    <tr>\n",
       "      <th>0</th>\n",
       "      <td>3V&gt;G(2), 3V&gt;F(1)</td>\n",
       "      <td>3</td>\n",
       "      <td>3</td>\n",
       "      <td>QHD43416.1:p.3V&gt;G(2), QHD43416.1:p.3V&gt;F(1)</td>\n",
       "    </tr>\n",
       "    <tr>\n",
       "      <th>1</th>\n",
       "      <td>4F&gt;S(1)</td>\n",
       "      <td>1</td>\n",
       "      <td>4</td>\n",
       "      <td>QHD43416.1:p.4F&gt;S(1)</td>\n",
       "    </tr>\n",
       "    <tr>\n",
       "      <th>2</th>\n",
       "      <td>5L&gt;F(326), 5L&gt;I(2)</td>\n",
       "      <td>328</td>\n",
       "      <td>5</td>\n",
       "      <td>QHD43416.1:p.5L&gt;F(326), QHD43416.1:p.5L&gt;I(2)</td>\n",
       "    </tr>\n",
       "    <tr>\n",
       "      <th>3</th>\n",
       "      <td>6V&gt;F(48), 6V&gt;I(1)</td>\n",
       "      <td>49</td>\n",
       "      <td>6</td>\n",
       "      <td>QHD43416.1:p.6V&gt;F(48), QHD43416.1:p.6V&gt;I(1)</td>\n",
       "    </tr>\n",
       "    <tr>\n",
       "      <th>4</th>\n",
       "      <td>7L&gt;V(2)</td>\n",
       "      <td>2</td>\n",
       "      <td>7</td>\n",
       "      <td>QHD43416.1:p.7L&gt;V(2)</td>\n",
       "    </tr>\n",
       "  </tbody>\n",
       "</table>\n",
       "</div>"
      ],
      "text/plain": [
       "           annotation  count  residue  \\\n",
       "0    3V>G(2), 3V>F(1)      3        3   \n",
       "1             4F>S(1)      1        4   \n",
       "2  5L>F(326), 5L>I(2)    328        5   \n",
       "3   6V>F(48), 6V>I(1)     49        6   \n",
       "4             7L>V(2)      2        7   \n",
       "\n",
       "                                    variationId  \n",
       "0    QHD43416.1:p.3V>G(2), QHD43416.1:p.3V>F(1)  \n",
       "1                          QHD43416.1:p.4F>S(1)  \n",
       "2  QHD43416.1:p.5L>F(326), QHD43416.1:p.5L>I(2)  \n",
       "3   QHD43416.1:p.6V>F(48), QHD43416.1:p.6V>I(1)  \n",
       "4                          QHD43416.1:p.7L>V(2)  "
      ]
     },
     "execution_count": 17,
     "metadata": {},
     "output_type": "execute_result"
    }
   ],
   "source": [
    "variants.head()"
   ]
  },
  {
   "cell_type": "markdown",
   "metadata": {},
   "source": [
    "#### Create a color scale based on the log mutation frequency"
   ]
  },
  {
   "cell_type": "code",
   "execution_count": 18,
   "metadata": {},
   "outputs": [],
   "source": [
    "variants['scale'] = variants['count'].apply(np.log) / math.log(strains)"
   ]
  },
  {
   "cell_type": "code",
   "execution_count": 19,
   "metadata": {},
   "outputs": [],
   "source": [
    "n_colors = 100\n",
    "colors = cm.Reds(np.linspace(0.0, 1.0, n_colors))\n",
    "col = np.empty(n_colors, dtype=object)\n",
    "\n",
    "for i, color in enumerate(colors):\n",
    "    col[i] = matplotlib.colors.rgb2hex(color)"
   ]
  },
  {
   "cell_type": "code",
   "execution_count": 20,
   "metadata": {},
   "outputs": [],
   "source": [
    "variants['color'] = variants['scale'].apply(lambda x: col[round(x*n_colors)])"
   ]
  },
  {
   "cell_type": "code",
   "execution_count": 21,
   "metadata": {},
   "outputs": [
    {
     "data": {
      "text/html": [
       "<div>\n",
       "<style scoped>\n",
       "    .dataframe tbody tr th:only-of-type {\n",
       "        vertical-align: middle;\n",
       "    }\n",
       "\n",
       "    .dataframe tbody tr th {\n",
       "        vertical-align: top;\n",
       "    }\n",
       "\n",
       "    .dataframe thead th {\n",
       "        text-align: right;\n",
       "    }\n",
       "</style>\n",
       "<table border=\"1\" class=\"dataframe\">\n",
       "  <thead>\n",
       "    <tr style=\"text-align: right;\">\n",
       "      <th></th>\n",
       "      <th>annotation</th>\n",
       "      <th>count</th>\n",
       "      <th>residue</th>\n",
       "      <th>variationId</th>\n",
       "      <th>scale</th>\n",
       "      <th>color</th>\n",
       "    </tr>\n",
       "  </thead>\n",
       "  <tbody>\n",
       "    <tr>\n",
       "      <th>0</th>\n",
       "      <td>3V&gt;G(2), 3V&gt;F(1)</td>\n",
       "      <td>3</td>\n",
       "      <td>3</td>\n",
       "      <td>QHD43416.1:p.3V&gt;G(2), QHD43416.1:p.3V&gt;F(1)</td>\n",
       "      <td>0.097898</td>\n",
       "      <td>#fee5d8</td>\n",
       "    </tr>\n",
       "    <tr>\n",
       "      <th>1</th>\n",
       "      <td>4F&gt;S(1)</td>\n",
       "      <td>1</td>\n",
       "      <td>4</td>\n",
       "      <td>QHD43416.1:p.4F&gt;S(1)</td>\n",
       "      <td>0.000000</td>\n",
       "      <td>#fff5f0</td>\n",
       "    </tr>\n",
       "    <tr>\n",
       "      <th>2</th>\n",
       "      <td>5L&gt;F(326), 5L&gt;I(2)</td>\n",
       "      <td>328</td>\n",
       "      <td>5</td>\n",
       "      <td>QHD43416.1:p.5L&gt;F(326), QHD43416.1:p.5L&gt;I(2)</td>\n",
       "      <td>0.516216</td>\n",
       "      <td>#f96044</td>\n",
       "    </tr>\n",
       "    <tr>\n",
       "      <th>3</th>\n",
       "      <td>6V&gt;F(48), 6V&gt;I(1)</td>\n",
       "      <td>49</td>\n",
       "      <td>6</td>\n",
       "      <td>QHD43416.1:p.6V&gt;F(48), QHD43416.1:p.6V&gt;I(1)</td>\n",
       "      <td>0.346801</td>\n",
       "      <td>#fc997a</td>\n",
       "    </tr>\n",
       "    <tr>\n",
       "      <th>4</th>\n",
       "      <td>7L&gt;V(2)</td>\n",
       "      <td>2</td>\n",
       "      <td>7</td>\n",
       "      <td>QHD43416.1:p.7L&gt;V(2)</td>\n",
       "      <td>0.061766</td>\n",
       "      <td>#ffebe2</td>\n",
       "    </tr>\n",
       "  </tbody>\n",
       "</table>\n",
       "</div>"
      ],
      "text/plain": [
       "           annotation  count  residue  \\\n",
       "0    3V>G(2), 3V>F(1)      3        3   \n",
       "1             4F>S(1)      1        4   \n",
       "2  5L>F(326), 5L>I(2)    328        5   \n",
       "3   6V>F(48), 6V>I(1)     49        6   \n",
       "4             7L>V(2)      2        7   \n",
       "\n",
       "                                    variationId     scale    color  \n",
       "0    QHD43416.1:p.3V>G(2), QHD43416.1:p.3V>F(1)  0.097898  #fee5d8  \n",
       "1                          QHD43416.1:p.4F>S(1)  0.000000  #fff5f0  \n",
       "2  QHD43416.1:p.5L>F(326), QHD43416.1:p.5L>I(2)  0.516216  #f96044  \n",
       "3   QHD43416.1:p.6V>F(48), QHD43416.1:p.6V>I(1)  0.346801  #fc997a  \n",
       "4                          QHD43416.1:p.7L>V(2)  0.061766  #ffebe2  "
      ]
     },
     "execution_count": 21,
     "metadata": {},
     "output_type": "execute_result"
    }
   ],
   "source": [
    "variants.head()"
   ]
  },
  {
   "cell_type": "markdown",
   "metadata": {},
   "source": [
    "### Get PDB structures for selected protein"
   ]
  },
  {
   "cell_type": "code",
   "execution_count": 22,
   "metadata": {},
   "outputs": [],
   "source": [
    "query = \"\"\"\n",
    "MATCH (p:Protein{name: $protein_name})-[h:HAS_TERTIARY_STRUCTURE]->(c:Chain)-[:IS_PART_OF_STRUCTURE]->(s:Structure)\n",
    "RETURN p.name AS name, p.start, p.end, c.name AS structureChainId, c.uniprotStart, c.uniprotEnd, c.pdbStart, c.pdbEnd, s.resolution AS resolution, s.description AS description, h.coverage AS coverage\n",
    "ORDER BY resolution, coverage DESC\n",
    "\"\"\""
   ]
  },
  {
   "cell_type": "code",
   "execution_count": 23,
   "metadata": {},
   "outputs": [],
   "source": [
    "chains = graph.run(query, protein_name=protein_name).to_data_frame()"
   ]
  },
  {
   "cell_type": "code",
   "execution_count": 24,
   "metadata": {},
   "outputs": [],
   "source": [
    "chains['structureChainId'] = chains['structureChainId'].str[4:]"
   ]
  },
  {
   "cell_type": "code",
   "execution_count": 25,
   "metadata": {},
   "outputs": [],
   "source": [
    "chains['structureId'] = chains['structureChainId'].str[:4]"
   ]
  },
  {
   "cell_type": "code",
   "execution_count": 26,
   "metadata": {},
   "outputs": [
    {
     "data": {
      "text/html": [
       "<div>\n",
       "<style scoped>\n",
       "    .dataframe tbody tr th:only-of-type {\n",
       "        vertical-align: middle;\n",
       "    }\n",
       "\n",
       "    .dataframe tbody tr th {\n",
       "        vertical-align: top;\n",
       "    }\n",
       "\n",
       "    .dataframe thead th {\n",
       "        text-align: right;\n",
       "    }\n",
       "</style>\n",
       "<table border=\"1\" class=\"dataframe\">\n",
       "  <thead>\n",
       "    <tr style=\"text-align: right;\">\n",
       "      <th></th>\n",
       "      <th>c.pdbEnd</th>\n",
       "      <th>c.pdbStart</th>\n",
       "      <th>c.uniprotEnd</th>\n",
       "      <th>c.uniprotStart</th>\n",
       "      <th>coverage</th>\n",
       "      <th>description</th>\n",
       "      <th>name</th>\n",
       "      <th>p.end</th>\n",
       "      <th>p.start</th>\n",
       "      <th>resolution</th>\n",
       "      <th>structureChainId</th>\n",
       "      <th>structureId</th>\n",
       "    </tr>\n",
       "  </thead>\n",
       "  <tbody>\n",
       "    <tr>\n",
       "      <th>0</th>\n",
       "      <td>[966]</td>\n",
       "      <td>[917]</td>\n",
       "      <td>[966]</td>\n",
       "      <td>[917]</td>\n",
       "      <td>0.039651</td>\n",
       "      <td>spike protein</td>\n",
       "      <td>Spike glycoprotein</td>\n",
       "      <td>1273</td>\n",
       "      <td>13</td>\n",
       "      <td>1.50</td>\n",
       "      <td>6M1V.A</td>\n",
       "      <td>6M1V</td>\n",
       "    </tr>\n",
       "    <tr>\n",
       "      <th>1</th>\n",
       "      <td>[966]</td>\n",
       "      <td>[917]</td>\n",
       "      <td>[966]</td>\n",
       "      <td>[917]</td>\n",
       "      <td>0.039277</td>\n",
       "      <td>spike protein</td>\n",
       "      <td>Spike glycoprotein</td>\n",
       "      <td>1273</td>\n",
       "      <td>1</td>\n",
       "      <td>1.50</td>\n",
       "      <td>6M1V.A</td>\n",
       "      <td>6M1V</td>\n",
       "    </tr>\n",
       "    <tr>\n",
       "      <th>2</th>\n",
       "      <td>[359, 369, 384, 516]</td>\n",
       "      <td>[338, 366, 371, 392]</td>\n",
       "      <td>[359, 369, 384, 516]</td>\n",
       "      <td>[338, 366, 371, 392]</td>\n",
       "      <td>0.130849</td>\n",
       "      <td>Spike protein S1, COVA2-39 heavy chain, COVA2-...</td>\n",
       "      <td>Spike glycoprotein</td>\n",
       "      <td>1273</td>\n",
       "      <td>13</td>\n",
       "      <td>1.71</td>\n",
       "      <td>7JMP.A</td>\n",
       "      <td>7JMP</td>\n",
       "    </tr>\n",
       "    <tr>\n",
       "      <th>3</th>\n",
       "      <td>[359, 369, 384, 516]</td>\n",
       "      <td>[338, 366, 371, 392]</td>\n",
       "      <td>[359, 369, 384, 516]</td>\n",
       "      <td>[338, 366, 371, 392]</td>\n",
       "      <td>0.129615</td>\n",
       "      <td>Spike protein S1, COVA2-39 heavy chain, COVA2-...</td>\n",
       "      <td>Spike glycoprotein</td>\n",
       "      <td>1273</td>\n",
       "      <td>1</td>\n",
       "      <td>1.71</td>\n",
       "      <td>7JMP.A</td>\n",
       "      <td>7JMP</td>\n",
       "    </tr>\n",
       "    <tr>\n",
       "      <th>4</th>\n",
       "      <td>[528]</td>\n",
       "      <td>[334]</td>\n",
       "      <td>[528]</td>\n",
       "      <td>[334]</td>\n",
       "      <td>0.154639</td>\n",
       "      <td>Spike glycoprotein, Nanobody H11-D4</td>\n",
       "      <td>Spike glycoprotein</td>\n",
       "      <td>1273</td>\n",
       "      <td>13</td>\n",
       "      <td>1.80</td>\n",
       "      <td>6YZ5.E</td>\n",
       "      <td>6YZ5</td>\n",
       "    </tr>\n",
       "  </tbody>\n",
       "</table>\n",
       "</div>"
      ],
      "text/plain": [
       "               c.pdbEnd            c.pdbStart          c.uniprotEnd  \\\n",
       "0                 [966]                 [917]                 [966]   \n",
       "1                 [966]                 [917]                 [966]   \n",
       "2  [359, 369, 384, 516]  [338, 366, 371, 392]  [359, 369, 384, 516]   \n",
       "3  [359, 369, 384, 516]  [338, 366, 371, 392]  [359, 369, 384, 516]   \n",
       "4                 [528]                 [334]                 [528]   \n",
       "\n",
       "         c.uniprotStart  coverage  \\\n",
       "0                 [917]  0.039651   \n",
       "1                 [917]  0.039277   \n",
       "2  [338, 366, 371, 392]  0.130849   \n",
       "3  [338, 366, 371, 392]  0.129615   \n",
       "4                 [334]  0.154639   \n",
       "\n",
       "                                         description                name  \\\n",
       "0                                      spike protein  Spike glycoprotein   \n",
       "1                                      spike protein  Spike glycoprotein   \n",
       "2  Spike protein S1, COVA2-39 heavy chain, COVA2-...  Spike glycoprotein   \n",
       "3  Spike protein S1, COVA2-39 heavy chain, COVA2-...  Spike glycoprotein   \n",
       "4                Spike glycoprotein, Nanobody H11-D4  Spike glycoprotein   \n",
       "\n",
       "   p.end  p.start  resolution structureChainId structureId  \n",
       "0   1273       13        1.50           6M1V.A        6M1V  \n",
       "1   1273        1        1.50           6M1V.A        6M1V  \n",
       "2   1273       13        1.71           7JMP.A        7JMP  \n",
       "3   1273        1        1.71           7JMP.A        7JMP  \n",
       "4   1273       13        1.80           6YZ5.E        6YZ5  "
      ]
     },
     "execution_count": 26,
     "metadata": {},
     "output_type": "execute_result"
    }
   ],
   "source": [
    "chains.head()"
   ]
  },
  {
   "cell_type": "code",
   "execution_count": 27,
   "metadata": {},
   "outputs": [],
   "source": [
    "chains.drop_duplicates(subset=['structureChainId'], inplace=True)"
   ]
  },
  {
   "cell_type": "markdown",
   "metadata": {},
   "source": [
    "#### Map uniprot residue numbers to PDB residue numbers"
   ]
  },
  {
   "cell_type": "code",
   "execution_count": 28,
   "metadata": {
    "jupyter": {
     "source_hidden": true
    }
   },
   "outputs": [],
   "source": [
    "def uniprot_to_pdb_mapping(row):\n",
    "    mapping = dict()\n",
    "    for (us,ue, ps, pe) in zip(row['c.uniprotStart'], row['c.uniprotEnd'], row['c.pdbStart'], row['c.pdbEnd']):\n",
    "        ps = int(ps)\n",
    "        pe = int(pe)\n",
    "        if (ue-us != pe-ps):\n",
    "            print('length mismatch:', row['structureChainId'], ue-us, pe-ps)\n",
    "        else:\n",
    "            offset = ps - us\n",
    "            for v in range(us, ue+1):\n",
    "                mapping[v] = offset + v\n",
    "                \n",
    "    #print(mapping)\n",
    "    return mapping"
   ]
  },
  {
   "cell_type": "code",
   "execution_count": 29,
   "metadata": {},
   "outputs": [],
   "source": [
    "chains['mapping'] = chains.apply(lambda row: uniprot_to_pdb_mapping(row), axis=1)"
   ]
  },
  {
   "cell_type": "markdown",
   "metadata": {},
   "source": [
    "### Visualize mutation sites\n",
    "\n",
    "Mutations are mapped onto protein chains for available 3D protein structures.\n",
    "\n",
    "Display options:\n",
    "\n",
    "|||\n",
    "|:-|:-|\n",
    "| *show_bio_assembly* | Toggle display of the biologically relevant quaternary structure |\n",
    "| *show_surface* | Toggle surface for protein chain |\n",
    "| *show_annotations* | Toggle display of mutation information<br>{PDBId}.{chainId}.{PDBResidue}: {UniProtResidue}{aminoAcid1}>{aminoAcid2}(# observations)<br>Example: 6Z43.A.614: 614D>G(58984), 614D>N(6) |\n",
    "| *size* | Change size of visualization |\n",
    "| *font* | Change font size of annotations |\n",
    "| *logFreq* | Change minimum threshold to display mutations based on normalized log of mutation frequency [0.0 - 1.0]|\n",
    "| *structure* | Move slider to browse through available structures |"
   ]
  },
  {
   "cell_type": "code",
   "execution_count": 30,
   "metadata": {
    "jupyter": {
     "source_hidden": true
    }
   },
   "outputs": [],
   "source": [
    "# Setup viewer\n",
    "def view_mutations(df, variants, *args):\n",
    "    chainIds = list(df['structureChainId'])\n",
    "\n",
    "    def view3d(show_bio_assembly, show_surface, show_short_label, show_long_label, size, font, logFreq, i): \n",
    "        pdb_id, chain_id = chainIds[i].split('.')\n",
    "        global viewer1\n",
    "        viewer1 = py3Dmol.view(query='pdb:' + pdb_id, options={'doAssembly': show_bio_assembly}, width=size, height=size)\n",
    "\n",
    "        # polymer style\n",
    "        viewer1.setStyle({'cartoon': {'colorscheme': 'chain', 'width': 0.6, 'opacity':0.8}})\n",
    "\n",
    "        # highlight chain of interest in blue\n",
    "        viewer1.setStyle({'chain': chain_id},{'cartoon': {'color': 'blue'}})\n",
    "        \n",
    "        # non-polymer style\n",
    "        viewer1.setStyle({'hetflag': True}, {'stick':{'radius': 0.3, 'singleBond': False, 'colorscheme': 'greenCarbon'}})\n",
    "        \n",
    "        mapping = df['mapping'].iloc[i]\n",
    "\n",
    "        for row in variants.itertuples():\n",
    "            # get PDB residue mapping from a UniProt residue number\n",
    "            res_num = mapping.get(row.residue, 0)\n",
    "            col = row.color\n",
    "            if res_num > 0 and row.scale > logFreq:\n",
    "                mut_res = {'resi': res_num, 'chain': chain_id}\n",
    "                viewer1.addStyle(mut_res, {'sphere':{'color':col, 'opacity': 1.0}}) \n",
    "\n",
    "                if show_short_label:\n",
    "                    label = row.annotation\n",
    "                if show_long_label:\n",
    "                    label = chainIds[i] + \".\" + str(res_num) + \": \" + row.variationId\n",
    "                if show_short_label or show_long_label:\n",
    "                    viewer1.addLabel(label, {'fontSize':font,'fontColor': 'black','backgroundColor':'ivory', 'opacity': 1.0}, {'resi': res_num, 'chain': chain_id})\n",
    "\n",
    "        description = df['description'].iloc[i]\n",
    "        resolution = df['resolution'].iloc[i]\n",
    "        coverage = df['coverage'].iloc[i]\n",
    "        name = df['name'].iloc[i]\n",
    "        \n",
    "        print(name)\n",
    "        print()\n",
    "        print(f'PDB Id: {pdb_id}, chain Id: {chain_id}, resolution: {resolution}, sequence coverage: {coverage:.2f}')\n",
    "        print(f'description: {description}')\n",
    "        \n",
    "        # print any specified additional columns from the dataframe\n",
    "        for a in args:\n",
    "            print(a + \": \" + df.iloc[i][a])\n",
    "\n",
    "        viewer1.zoomTo({'chain': chain_id})\n",
    "        viewer1.center({'chain': chain_id})\n",
    "        \n",
    "        if show_surface:\n",
    "             viewer1.addSurface(py3Dmol.SES,{'opacity':0.8,'color':'lightblue'},{'chain': chain_id})\n",
    "\n",
    "        return viewer1.show()\n",
    "       \n",
    "    f_widget = IntSlider(value=9, min=5, max=20, description='font size', continuous_update=False)\n",
    "    z_widget = IntSlider(value=750, min=500, max=1200, description='size', continuous_update=False)\n",
    "    s_widget = IntSlider(min=0, max=len(chainIds)-1, description='structure', continuous_update=False)\n",
    "    l_widget = FloatSlider(value=0.5, min=0, max=1, step=0.05, description='logFreq:', \n",
    "                           continuous_update=False, orientation='horizontal', readout=True, readout_format='.2f')\n",
    "    \n",
    "    \n",
    "    return interact(view3d, show_bio_assembly=False, show_surface=False, show_short_label=True, show_long_label=False, size=z_widget, font=f_widget, logFreq=l_widget, i=s_widget)\n",
    "\n",
    "def view_image1():\n",
    "    return viewer1.png()"
   ]
  },
  {
   "cell_type": "code",
   "execution_count": 31,
   "metadata": {},
   "outputs": [
    {
     "data": {
      "application/vnd.jupyter.widget-view+json": {
       "model_id": "5c16df0fd7b94eb899839cfbd06273b8",
       "version_major": 2,
       "version_minor": 0
      },
      "text/plain": [
       "interactive(children=(Checkbox(value=False, description='show_bio_assembly'), Checkbox(value=False, descriptio…"
      ]
     },
     "metadata": {},
     "output_type": "display_data"
    }
   ],
   "source": [
    "view_mutations(chains, variants);"
   ]
  },
  {
   "cell_type": "code",
   "execution_count": 32,
   "metadata": {
    "jupyter": {
     "source_hidden": true
    }
   },
   "outputs": [],
   "source": [
    "# https://stackoverflow.com/questions/32468402/how-to-explode-a-list-inside-a-dataframe-cell-into-separate-rows\n",
    "import copy\n",
    "\n",
    "def pandas_explode(df, column_to_explode):\n",
    "    \"\"\"\n",
    "    Similar to Hive's EXPLODE function, take a column with iterable elements, and flatten the iterable to one element \n",
    "    per observation in the output table\n",
    "\n",
    "    :param df: A dataframe to explod\n",
    "    :type df: pandas.DataFrame\n",
    "    :param column_to_explode: \n",
    "    :type column_to_explode: str\n",
    "    :return: An exploded data frame\n",
    "    :rtype: pandas.DataFrame\n",
    "    \"\"\"\n",
    "\n",
    "    # Create a list of new observations\n",
    "    new_observations = list()\n",
    "\n",
    "    # Iterate through existing observations\n",
    "    for row in df.to_dict(orient='records'):\n",
    "\n",
    "        # Take out the exploding iterable\n",
    "        explode_values = row[column_to_explode]\n",
    "        del row[column_to_explode]\n",
    "\n",
    "        # Create a new observation for every entry in the exploding iterable & add all of the other columns\n",
    "        for explode_value in explode_values.items():\n",
    "\n",
    "            # Deep copy existing observation\n",
    "            new_observation = copy.deepcopy(row)\n",
    "\n",
    "            # Add one (newly flattened) value from exploding iterable\n",
    "            new_observation[column_to_explode] = explode_value\n",
    "\n",
    "            # Add to the list of new observations\n",
    "            new_observations.append(new_observation)\n",
    "\n",
    "    # Create a DataFrame\n",
    "    return_df = pd.DataFrame(new_observations)\n",
    "\n",
    "    # Return\n",
    "    return return_df"
   ]
  },
  {
   "cell_type": "markdown",
   "metadata": {},
   "source": [
    "### Expand chains into residues"
   ]
  },
  {
   "cell_type": "code",
   "execution_count": 33,
   "metadata": {},
   "outputs": [],
   "source": [
    "residues = pandas_explode(chains, 'mapping')\n",
    "residues['uniprotPosition'] = residues['mapping'].apply(lambda x: x[0])\n",
    "residues['pdbPosition'] = residues['mapping'].apply(lambda x: x[1])\n",
    "residues.drop(columns='mapping', inplace=True)"
   ]
  },
  {
   "cell_type": "code",
   "execution_count": 34,
   "metadata": {},
   "outputs": [],
   "source": [
    "residues = residues.drop(columns=['c.pdbEnd', 'c.pdbStart', 'c.uniprotEnd', 'c.uniprotStart', 'p.end', 'p.start'])"
   ]
  },
  {
   "cell_type": "code",
   "execution_count": 35,
   "metadata": {},
   "outputs": [
    {
     "data": {
      "text/html": [
       "<div>\n",
       "<style scoped>\n",
       "    .dataframe tbody tr th:only-of-type {\n",
       "        vertical-align: middle;\n",
       "    }\n",
       "\n",
       "    .dataframe tbody tr th {\n",
       "        vertical-align: top;\n",
       "    }\n",
       "\n",
       "    .dataframe thead th {\n",
       "        text-align: right;\n",
       "    }\n",
       "</style>\n",
       "<table border=\"1\" class=\"dataframe\">\n",
       "  <thead>\n",
       "    <tr style=\"text-align: right;\">\n",
       "      <th></th>\n",
       "      <th>coverage</th>\n",
       "      <th>description</th>\n",
       "      <th>name</th>\n",
       "      <th>resolution</th>\n",
       "      <th>structureChainId</th>\n",
       "      <th>structureId</th>\n",
       "      <th>uniprotPosition</th>\n",
       "      <th>pdbPosition</th>\n",
       "    </tr>\n",
       "  </thead>\n",
       "  <tbody>\n",
       "    <tr>\n",
       "      <th>0</th>\n",
       "      <td>0.039651</td>\n",
       "      <td>spike protein</td>\n",
       "      <td>Spike glycoprotein</td>\n",
       "      <td>1.5</td>\n",
       "      <td>6M1V.A</td>\n",
       "      <td>6M1V</td>\n",
       "      <td>917</td>\n",
       "      <td>917</td>\n",
       "    </tr>\n",
       "    <tr>\n",
       "      <th>1</th>\n",
       "      <td>0.039651</td>\n",
       "      <td>spike protein</td>\n",
       "      <td>Spike glycoprotein</td>\n",
       "      <td>1.5</td>\n",
       "      <td>6M1V.A</td>\n",
       "      <td>6M1V</td>\n",
       "      <td>918</td>\n",
       "      <td>918</td>\n",
       "    </tr>\n",
       "    <tr>\n",
       "      <th>2</th>\n",
       "      <td>0.039651</td>\n",
       "      <td>spike protein</td>\n",
       "      <td>Spike glycoprotein</td>\n",
       "      <td>1.5</td>\n",
       "      <td>6M1V.A</td>\n",
       "      <td>6M1V</td>\n",
       "      <td>919</td>\n",
       "      <td>919</td>\n",
       "    </tr>\n",
       "    <tr>\n",
       "      <th>3</th>\n",
       "      <td>0.039651</td>\n",
       "      <td>spike protein</td>\n",
       "      <td>Spike glycoprotein</td>\n",
       "      <td>1.5</td>\n",
       "      <td>6M1V.A</td>\n",
       "      <td>6M1V</td>\n",
       "      <td>920</td>\n",
       "      <td>920</td>\n",
       "    </tr>\n",
       "    <tr>\n",
       "      <th>4</th>\n",
       "      <td>0.039651</td>\n",
       "      <td>spike protein</td>\n",
       "      <td>Spike glycoprotein</td>\n",
       "      <td>1.5</td>\n",
       "      <td>6M1V.A</td>\n",
       "      <td>6M1V</td>\n",
       "      <td>921</td>\n",
       "      <td>921</td>\n",
       "    </tr>\n",
       "    <tr>\n",
       "      <th>5</th>\n",
       "      <td>0.039651</td>\n",
       "      <td>spike protein</td>\n",
       "      <td>Spike glycoprotein</td>\n",
       "      <td>1.5</td>\n",
       "      <td>6M1V.A</td>\n",
       "      <td>6M1V</td>\n",
       "      <td>922</td>\n",
       "      <td>922</td>\n",
       "    </tr>\n",
       "    <tr>\n",
       "      <th>6</th>\n",
       "      <td>0.039651</td>\n",
       "      <td>spike protein</td>\n",
       "      <td>Spike glycoprotein</td>\n",
       "      <td>1.5</td>\n",
       "      <td>6M1V.A</td>\n",
       "      <td>6M1V</td>\n",
       "      <td>923</td>\n",
       "      <td>923</td>\n",
       "    </tr>\n",
       "    <tr>\n",
       "      <th>7</th>\n",
       "      <td>0.039651</td>\n",
       "      <td>spike protein</td>\n",
       "      <td>Spike glycoprotein</td>\n",
       "      <td>1.5</td>\n",
       "      <td>6M1V.A</td>\n",
       "      <td>6M1V</td>\n",
       "      <td>924</td>\n",
       "      <td>924</td>\n",
       "    </tr>\n",
       "    <tr>\n",
       "      <th>8</th>\n",
       "      <td>0.039651</td>\n",
       "      <td>spike protein</td>\n",
       "      <td>Spike glycoprotein</td>\n",
       "      <td>1.5</td>\n",
       "      <td>6M1V.A</td>\n",
       "      <td>6M1V</td>\n",
       "      <td>925</td>\n",
       "      <td>925</td>\n",
       "    </tr>\n",
       "    <tr>\n",
       "      <th>9</th>\n",
       "      <td>0.039651</td>\n",
       "      <td>spike protein</td>\n",
       "      <td>Spike glycoprotein</td>\n",
       "      <td>1.5</td>\n",
       "      <td>6M1V.A</td>\n",
       "      <td>6M1V</td>\n",
       "      <td>926</td>\n",
       "      <td>926</td>\n",
       "    </tr>\n",
       "  </tbody>\n",
       "</table>\n",
       "</div>"
      ],
      "text/plain": [
       "   coverage    description                name  resolution structureChainId  \\\n",
       "0  0.039651  spike protein  Spike glycoprotein         1.5           6M1V.A   \n",
       "1  0.039651  spike protein  Spike glycoprotein         1.5           6M1V.A   \n",
       "2  0.039651  spike protein  Spike glycoprotein         1.5           6M1V.A   \n",
       "3  0.039651  spike protein  Spike glycoprotein         1.5           6M1V.A   \n",
       "4  0.039651  spike protein  Spike glycoprotein         1.5           6M1V.A   \n",
       "5  0.039651  spike protein  Spike glycoprotein         1.5           6M1V.A   \n",
       "6  0.039651  spike protein  Spike glycoprotein         1.5           6M1V.A   \n",
       "7  0.039651  spike protein  Spike glycoprotein         1.5           6M1V.A   \n",
       "8  0.039651  spike protein  Spike glycoprotein         1.5           6M1V.A   \n",
       "9  0.039651  spike protein  Spike glycoprotein         1.5           6M1V.A   \n",
       "\n",
       "  structureId  uniprotPosition  pdbPosition  \n",
       "0        6M1V              917          917  \n",
       "1        6M1V              918          918  \n",
       "2        6M1V              919          919  \n",
       "3        6M1V              920          920  \n",
       "4        6M1V              921          921  \n",
       "5        6M1V              922          922  \n",
       "6        6M1V              923          923  \n",
       "7        6M1V              924          924  \n",
       "8        6M1V              925          925  \n",
       "9        6M1V              926          926  "
      ]
     },
     "execution_count": 35,
     "metadata": {},
     "output_type": "execute_result"
    }
   ],
   "source": [
    "residues.head(10)"
   ]
  },
  {
   "cell_type": "code",
   "execution_count": 36,
   "metadata": {},
   "outputs": [],
   "source": [
    "variants = variants[['residue', 'variationId', 'annotation', 'scale', 'color']]"
   ]
  },
  {
   "cell_type": "code",
   "execution_count": 37,
   "metadata": {},
   "outputs": [],
   "source": [
    "residues_variants = residues.merge(variants, left_on='uniprotPosition', right_on='residue')"
   ]
  },
  {
   "cell_type": "code",
   "execution_count": 38,
   "metadata": {},
   "outputs": [
    {
     "data": {
      "text/html": [
       "<div>\n",
       "<style scoped>\n",
       "    .dataframe tbody tr th:only-of-type {\n",
       "        vertical-align: middle;\n",
       "    }\n",
       "\n",
       "    .dataframe tbody tr th {\n",
       "        vertical-align: top;\n",
       "    }\n",
       "\n",
       "    .dataframe thead th {\n",
       "        text-align: right;\n",
       "    }\n",
       "</style>\n",
       "<table border=\"1\" class=\"dataframe\">\n",
       "  <thead>\n",
       "    <tr style=\"text-align: right;\">\n",
       "      <th></th>\n",
       "      <th>coverage</th>\n",
       "      <th>description</th>\n",
       "      <th>name</th>\n",
       "      <th>resolution</th>\n",
       "      <th>structureChainId</th>\n",
       "      <th>structureId</th>\n",
       "      <th>uniprotPosition</th>\n",
       "      <th>pdbPosition</th>\n",
       "      <th>residue</th>\n",
       "      <th>variationId</th>\n",
       "      <th>annotation</th>\n",
       "      <th>scale</th>\n",
       "      <th>color</th>\n",
       "    </tr>\n",
       "  </thead>\n",
       "  <tbody>\n",
       "    <tr>\n",
       "      <th>0</th>\n",
       "      <td>0.039651</td>\n",
       "      <td>spike protein</td>\n",
       "      <td>Spike glycoprotein</td>\n",
       "      <td>1.5</td>\n",
       "      <td>6M1V.A</td>\n",
       "      <td>6M1V</td>\n",
       "      <td>917</td>\n",
       "      <td>917</td>\n",
       "      <td>917</td>\n",
       "      <td>QHD43416.1:p.917Y&gt;H(4)</td>\n",
       "      <td>917Y&gt;H(4)</td>\n",
       "      <td>0.123533</td>\n",
       "      <td>#fee1d3</td>\n",
       "    </tr>\n",
       "    <tr>\n",
       "      <th>1</th>\n",
       "      <td>0.841396</td>\n",
       "      <td>Spike glycoprotein</td>\n",
       "      <td>Spike glycoprotein</td>\n",
       "      <td>2.4</td>\n",
       "      <td>6XLU.B</td>\n",
       "      <td>6XLU</td>\n",
       "      <td>917</td>\n",
       "      <td>917</td>\n",
       "      <td>917</td>\n",
       "      <td>QHD43416.1:p.917Y&gt;H(4)</td>\n",
       "      <td>917Y&gt;H(4)</td>\n",
       "      <td>0.123533</td>\n",
       "      <td>#fee1d3</td>\n",
       "    </tr>\n",
       "    <tr>\n",
       "      <th>2</th>\n",
       "      <td>0.840603</td>\n",
       "      <td>Spike glycoprotein</td>\n",
       "      <td>Spike glycoprotein</td>\n",
       "      <td>2.4</td>\n",
       "      <td>6XLU.C</td>\n",
       "      <td>6XLU</td>\n",
       "      <td>917</td>\n",
       "      <td>917</td>\n",
       "      <td>917</td>\n",
       "      <td>QHD43416.1:p.917Y&gt;H(4)</td>\n",
       "      <td>917Y&gt;H(4)</td>\n",
       "      <td>0.123533</td>\n",
       "      <td>#fee1d3</td>\n",
       "    </tr>\n",
       "    <tr>\n",
       "      <th>3</th>\n",
       "      <td>0.838224</td>\n",
       "      <td>Spike glycoprotein</td>\n",
       "      <td>Spike glycoprotein</td>\n",
       "      <td>2.4</td>\n",
       "      <td>6XLU.A</td>\n",
       "      <td>6XLU</td>\n",
       "      <td>917</td>\n",
       "      <td>917</td>\n",
       "      <td>917</td>\n",
       "      <td>QHD43416.1:p.917Y&gt;H(4)</td>\n",
       "      <td>917Y&gt;H(4)</td>\n",
       "      <td>0.123533</td>\n",
       "      <td>#fee1d3</td>\n",
       "    </tr>\n",
       "    <tr>\n",
       "      <th>4</th>\n",
       "      <td>0.870738</td>\n",
       "      <td>Spike glycoprotein</td>\n",
       "      <td>Spike glycoprotein</td>\n",
       "      <td>2.6</td>\n",
       "      <td>6ZGE.A</td>\n",
       "      <td>6ZGE</td>\n",
       "      <td>917</td>\n",
       "      <td>917</td>\n",
       "      <td>917</td>\n",
       "      <td>QHD43416.1:p.917Y&gt;H(4)</td>\n",
       "      <td>917Y&gt;H(4)</td>\n",
       "      <td>0.123533</td>\n",
       "      <td>#fee1d3</td>\n",
       "    </tr>\n",
       "  </tbody>\n",
       "</table>\n",
       "</div>"
      ],
      "text/plain": [
       "   coverage         description                name  resolution  \\\n",
       "0  0.039651       spike protein  Spike glycoprotein         1.5   \n",
       "1  0.841396  Spike glycoprotein  Spike glycoprotein         2.4   \n",
       "2  0.840603  Spike glycoprotein  Spike glycoprotein         2.4   \n",
       "3  0.838224  Spike glycoprotein  Spike glycoprotein         2.4   \n",
       "4  0.870738  Spike glycoprotein  Spike glycoprotein         2.6   \n",
       "\n",
       "  structureChainId structureId  uniprotPosition  pdbPosition  residue  \\\n",
       "0           6M1V.A        6M1V              917          917      917   \n",
       "1           6XLU.B        6XLU              917          917      917   \n",
       "2           6XLU.C        6XLU              917          917      917   \n",
       "3           6XLU.A        6XLU              917          917      917   \n",
       "4           6ZGE.A        6ZGE              917          917      917   \n",
       "\n",
       "              variationId annotation     scale    color  \n",
       "0  QHD43416.1:p.917Y>H(4)  917Y>H(4)  0.123533  #fee1d3  \n",
       "1  QHD43416.1:p.917Y>H(4)  917Y>H(4)  0.123533  #fee1d3  \n",
       "2  QHD43416.1:p.917Y>H(4)  917Y>H(4)  0.123533  #fee1d3  \n",
       "3  QHD43416.1:p.917Y>H(4)  917Y>H(4)  0.123533  #fee1d3  \n",
       "4  QHD43416.1:p.917Y>H(4)  917Y>H(4)  0.123533  #fee1d3  "
      ]
     },
     "execution_count": 38,
     "metadata": {},
     "output_type": "execute_result"
    }
   ],
   "source": [
    "residues_variants.head()"
   ]
  },
  {
   "cell_type": "code",
   "execution_count": 39,
   "metadata": {},
   "outputs": [],
   "source": [
    "residues_variants.to_csv(output_file_name, index=False)"
   ]
  },
  {
   "cell_type": "markdown",
   "metadata": {},
   "source": [
    "## Now run the next step\n",
    "Map mutations occuring at protein-protein interaction sites: [2-MapToPolymerInteractions.ipynb](2-MapToPolymerInteractions.ipynb)"
   ]
  }
 ],
 "metadata": {
  "kernelspec": {
   "display_name": "Python 3",
   "language": "python",
   "name": "python3"
  },
  "language_info": {
   "codemirror_mode": {
    "name": "ipython",
    "version": 3
   },
   "file_extension": ".py",
   "mimetype": "text/x-python",
   "name": "python",
   "nbconvert_exporter": "python",
   "pygments_lexer": "ipython3",
   "version": "3.7.8"
  }
 },
 "nbformat": 4,
 "nbformat_minor": 4
}
