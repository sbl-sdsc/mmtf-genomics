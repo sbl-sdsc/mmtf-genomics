{
 "cells": [
  {
   "cell_type": "markdown",
   "metadata": {},
   "source": [
    "# Read and Standardize Mutation Information\n",
    "This notebook reads a .csv file with one mutation per line. This notebook is a template that you can modify for your specific use case.\n",
    "\n",
    "For subsequent analysis, the input file must contain at least the following 3 fields:\n",
    "* **var_id** with the genomic location using the [HGVS sequence variant nomenclature]\n",
    "(http://varnomen.hgvs.org/recommendations/general/), e.g. chr5:g.149440497C>T\n",
    "* **annotation** short label, e.g., cancer type\n",
    "* **color** color for visualization ([list of colors](https://github.com/3dmol/3Dmol.js/blob/master/3Dmol/colors.js#L45-L192)), e.g., to color by cancer type\n",
    "\n",
    "This notebook is an example that standardizes the variant nomenclature\n",
    "1. Read the file with your mutation information\n",
    "2. Create a column 'var_id' with the genomic location using the [HGVS sequence variant nomenclature](http://varnomen.hgvs.org/recommendations/general/), e.g. chr5:g.149440497C>T\n",
    "3. Filter out any variations that are not SNPs\n",
    "4. Save the file as 'mutations.csv'\n",
    "\n",
    "The mutations.csv file is the input for the next step: MapTo3DStructures"
   ]
  },
  {
   "cell_type": "code",
   "execution_count": 1,
   "metadata": {},
   "outputs": [],
   "source": [
    "import pandas as pd"
   ]
  },
  {
   "cell_type": "markdown",
   "metadata": {},
   "source": [
    "#### Input parameters (specify your input file name below)"
   ]
  },
  {
   "cell_type": "code",
   "execution_count": 2,
   "metadata": {},
   "outputs": [],
   "source": [
    "input_file_name = \"../data/example-grch37.csv\"\n",
    "\n",
    "#input_file_name = <path to your input file> # mutation info (chromosome number and position required)\n",
    "\n",
    "output_file_name = 'mutations.csv' # contains mutation info in standard format (e.g., chr5:g.149440497C>T)"
   ]
  },
  {
   "cell_type": "markdown",
   "metadata": {},
   "source": [
    "## Read input file and remove mutations that are not SNVs"
   ]
  },
  {
   "cell_type": "code",
   "execution_count": 3,
   "metadata": {},
   "outputs": [],
   "source": [
    "df = pd.read_csv(input_file_name)\n",
    "pd.options.display.max_columns = None # show all columns"
   ]
  },
  {
   "cell_type": "markdown",
   "metadata": {},
   "source": [
    "Filter out any variants that are not SNVs"
   ]
  },
  {
   "cell_type": "code",
   "execution_count": 4,
   "metadata": {},
   "outputs": [
    {
     "data": {
      "text/html": [
       "<div>\n",
       "<style scoped>\n",
       "    .dataframe tbody tr th:only-of-type {\n",
       "        vertical-align: middle;\n",
       "    }\n",
       "\n",
       "    .dataframe tbody tr th {\n",
       "        vertical-align: top;\n",
       "    }\n",
       "\n",
       "    .dataframe thead th {\n",
       "        text-align: right;\n",
       "    }\n",
       "</style>\n",
       "<table border=\"1\" class=\"dataframe\">\n",
       "  <thead>\n",
       "    <tr style=\"text-align: right;\">\n",
       "      <th></th>\n",
       "      <th>ID</th>\n",
       "      <th>CHROM</th>\n",
       "      <th>POS</th>\n",
       "      <th>REF</th>\n",
       "      <th>ALT</th>\n",
       "      <th>annotation</th>\n",
       "      <th>color</th>\n",
       "    </tr>\n",
       "  </thead>\n",
       "  <tbody>\n",
       "    <tr>\n",
       "      <th>0</th>\n",
       "      <td>rs147776857</td>\n",
       "      <td>6</td>\n",
       "      <td>52619766</td>\n",
       "      <td>C</td>\n",
       "      <td>T</td>\n",
       "      <td>GSTA2 missense mutation</td>\n",
       "      <td>blue</td>\n",
       "    </tr>\n",
       "    <tr>\n",
       "      <th>1</th>\n",
       "      <td>rs121913460</td>\n",
       "      <td>9</td>\n",
       "      <td>133738358</td>\n",
       "      <td>A</td>\n",
       "      <td>T</td>\n",
       "      <td>ABL1 missense mutation</td>\n",
       "      <td>green</td>\n",
       "    </tr>\n",
       "    <tr>\n",
       "      <th>2</th>\n",
       "      <td>rs34933751</td>\n",
       "      <td>11</td>\n",
       "      <td>5246945</td>\n",
       "      <td>G</td>\n",
       "      <td>T</td>\n",
       "      <td>HBB missense mutation</td>\n",
       "      <td>purple</td>\n",
       "    </tr>\n",
       "  </tbody>\n",
       "</table>\n",
       "</div>"
      ],
      "text/plain": [
       "            ID  CHROM        POS REF ALT               annotation   color\n",
       "0  rs147776857      6   52619766   C   T  GSTA2 missense mutation    blue\n",
       "1  rs121913460      9  133738358   A   T   ABL1 missense mutation   green\n",
       "2   rs34933751     11    5246945   G   T    HBB missense mutation  purple"
      ]
     },
     "execution_count": 4,
     "metadata": {},
     "output_type": "execute_result"
    }
   ],
   "source": [
    "# df = df[df['ANN[*].EFFECT'] == 'missense_variant']\n",
    "df.head()"
   ]
  },
  {
   "cell_type": "markdown",
   "metadata": {},
   "source": [
    "## Create a new column `var_id` with a standard variant identifier"
   ]
  },
  {
   "cell_type": "code",
   "execution_count": 5,
   "metadata": {},
   "outputs": [],
   "source": [
    "# G2S service does not accept the standard chr format anymore\n",
    "# def var_id(chrom, pos, ref, alt):\n",
    "#    return \"chr\" + str(chrom) + \":g.\" + str(pos) + ref + \">\" + alt"
   ]
  },
  {
   "cell_type": "code",
   "execution_count": 6,
   "metadata": {},
   "outputs": [],
   "source": [
    "def var_id(chrom, pos, ref, alt):\n",
    "    return str(chrom) + \":g.\" + str(pos) + ref + \">\" + alt"
   ]
  },
  {
   "cell_type": "code",
   "execution_count": 7,
   "metadata": {},
   "outputs": [],
   "source": [
    "df['var_id'] = df.apply(lambda x: var_id(x['CHROM'], x['POS'], x['REF'], x['ALT']), axis=1)"
   ]
  },
  {
   "cell_type": "code",
   "execution_count": 8,
   "metadata": {},
   "outputs": [
    {
     "data": {
      "text/html": [
       "<div>\n",
       "<style scoped>\n",
       "    .dataframe tbody tr th:only-of-type {\n",
       "        vertical-align: middle;\n",
       "    }\n",
       "\n",
       "    .dataframe tbody tr th {\n",
       "        vertical-align: top;\n",
       "    }\n",
       "\n",
       "    .dataframe thead th {\n",
       "        text-align: right;\n",
       "    }\n",
       "</style>\n",
       "<table border=\"1\" class=\"dataframe\">\n",
       "  <thead>\n",
       "    <tr style=\"text-align: right;\">\n",
       "      <th></th>\n",
       "      <th>ID</th>\n",
       "      <th>CHROM</th>\n",
       "      <th>POS</th>\n",
       "      <th>REF</th>\n",
       "      <th>ALT</th>\n",
       "      <th>annotation</th>\n",
       "      <th>color</th>\n",
       "      <th>var_id</th>\n",
       "    </tr>\n",
       "  </thead>\n",
       "  <tbody>\n",
       "    <tr>\n",
       "      <th>0</th>\n",
       "      <td>rs147776857</td>\n",
       "      <td>6</td>\n",
       "      <td>52619766</td>\n",
       "      <td>C</td>\n",
       "      <td>T</td>\n",
       "      <td>GSTA2 missense mutation</td>\n",
       "      <td>blue</td>\n",
       "      <td>6:g.52619766C&gt;T</td>\n",
       "    </tr>\n",
       "    <tr>\n",
       "      <th>1</th>\n",
       "      <td>rs121913460</td>\n",
       "      <td>9</td>\n",
       "      <td>133738358</td>\n",
       "      <td>A</td>\n",
       "      <td>T</td>\n",
       "      <td>ABL1 missense mutation</td>\n",
       "      <td>green</td>\n",
       "      <td>9:g.133738358A&gt;T</td>\n",
       "    </tr>\n",
       "    <tr>\n",
       "      <th>2</th>\n",
       "      <td>rs34933751</td>\n",
       "      <td>11</td>\n",
       "      <td>5246945</td>\n",
       "      <td>G</td>\n",
       "      <td>T</td>\n",
       "      <td>HBB missense mutation</td>\n",
       "      <td>purple</td>\n",
       "      <td>11:g.5246945G&gt;T</td>\n",
       "    </tr>\n",
       "  </tbody>\n",
       "</table>\n",
       "</div>"
      ],
      "text/plain": [
       "            ID  CHROM        POS REF ALT               annotation   color  \\\n",
       "0  rs147776857      6   52619766   C   T  GSTA2 missense mutation    blue   \n",
       "1  rs121913460      9  133738358   A   T   ABL1 missense mutation   green   \n",
       "2   rs34933751     11    5246945   G   T    HBB missense mutation  purple   \n",
       "\n",
       "             var_id  \n",
       "0   6:g.52619766C>T  \n",
       "1  9:g.133738358A>T  \n",
       "2   11:g.5246945G>T  "
      ]
     },
     "execution_count": 8,
     "metadata": {},
     "output_type": "execute_result"
    }
   ],
   "source": [
    "df.head()"
   ]
  },
  {
   "cell_type": "code",
   "execution_count": 9,
   "metadata": {},
   "outputs": [],
   "source": [
    "df.to_csv(output_file_name, index=False)"
   ]
  },
  {
   "cell_type": "markdown",
   "metadata": {},
   "source": [
    "## Now run the next step\n",
    "Map mutations to 3D Structure: [2-MapTo3DStructures.ipynb](./2-MapTo3DStructures.ipynb)"
   ]
  },
  {
   "cell_type": "code",
   "execution_count": null,
   "metadata": {},
   "outputs": [],
   "source": []
  },
  {
   "cell_type": "code",
   "execution_count": null,
   "metadata": {},
   "outputs": [],
   "source": []
  }
 ],
 "metadata": {
  "kernelspec": {
   "display_name": "Python 3",
   "language": "python",
   "name": "python3"
  },
  "language_info": {
   "codemirror_mode": {
    "name": "ipython",
    "version": 3
   },
   "file_extension": ".py",
   "mimetype": "text/x-python",
   "name": "python",
   "nbconvert_exporter": "python",
   "pygments_lexer": "ipython3",
   "version": "3.6.13"
  }
 },
 "nbformat": 4,
 "nbformat_minor": 4
}
