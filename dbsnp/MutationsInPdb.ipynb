{
 "cells": [
  {
   "cell_type": "markdown",
   "metadata": {},
   "source": [
    "## Find Missense Mutations in PDB\n",
    "This notebook is a prototype for visualizing the positions of missense mutations from [dbSNP](https://www.ncbi.nlm.nih.gov/projects/SNP/) (GRCh37 build) for cases where a protein structure contains the mutated amino acid."
   ]
  },
  {
   "cell_type": "code",
   "execution_count": 1,
   "metadata": {},
   "outputs": [],
   "source": [
    "# Disable Numba: temporary workaround for https://github.com/sbl-sdsc/mmtf-pyspark/issues/288\n",
    "import os\n",
    "os.environ['NUMBA_DISABLE_JIT'] = \"1\""
   ]
  },
  {
   "cell_type": "code",
   "execution_count": 2,
   "metadata": {},
   "outputs": [],
   "source": [
    "from pyspark.sql import Row, SparkSession\n",
    "from pyspark.sql.functions import collect_set, collect_list, concat_ws\n",
    "from mmtfPyspark.datasets import dbSnpDataset\n",
    "import pandas as pd\n",
    "from ipywidgets import interact, IntSlider, widgets\n",
    "from IPython.display import display\n",
    "import py3Dmol"
   ]
  },
  {
   "cell_type": "code",
   "execution_count": 3,
   "metadata": {
    "code_folding": [
     2
    ],
    "jupyter": {
     "source_hidden": true
    }
   },
   "outputs": [],
   "source": [
    "field = widgets.Dropdown(options=('none','snp_id', 'pdbChainId','uniprotId','sqlQuery'),description='Select field:')\n",
    "selection = widgets.Textarea(description='Enter id(s):')\n",
    "significance = widgets.SelectMultiple(description='Significance:', \\\n",
    "                                      options=('All', 'Benign', 'Likely benign', 'Likely pathogenic', \\\n",
    "                                               'Pathogenic', 'drug-response', 'untested', \\\n",
    "                                               'Uncertain significance', 'other', 'null'), \\\n",
    "                                      value=('Benign', 'Likely benign', 'Likely pathogenic', \\\n",
    "                                               'Pathogenic', 'drug-response'))"
   ]
  },
  {
   "cell_type": "markdown",
   "metadata": {},
   "source": [
    "## Select clinical significance\n",
    "Select one of more significance levels from ClinVar (MacOS: hold command key to select muliple criteria). \n",
    "\n",
    "Default: Benign, Likely benign, Likely pathogenic, Pathogenic, drug-response."
   ]
  },
  {
   "cell_type": "code",
   "execution_count": 4,
   "metadata": {
    "scrolled": true
   },
   "outputs": [
    {
     "data": {
      "application/vnd.jupyter.widget-view+json": {
       "model_id": "9a8976845f65476c87dc458abc3b9894",
       "version_major": 2,
       "version_minor": 0
      },
      "text/plain": [
       "SelectMultiple(description='Significance:', index=(1, 2, 3, 4, 5), options=('All', 'Benign', 'Likely benign', …"
      ]
     },
     "metadata": {},
     "output_type": "display_data"
    }
   ],
   "source": [
    "display(significance)"
   ]
  },
  {
   "cell_type": "markdown",
   "metadata": {},
   "source": [
    "## Optionally, filter dataset\n",
    "Select a query field and enter a comma separated list of identifiers:\n",
    "\n",
    "Example queries below are for missense mutations in the Cystic Fibrosis [CFTR2 gene](https://www.cftr2.org/mutations_history).\n",
    "\n",
    "* none: no filtering (Default)\n",
    "* snp_id:  397508256, 397508796 (also called the rsId, e.g. rs397508256)\n",
    "* pdbChainId: 5UAK.A\n",
    "* uniprotId: P13569\n",
    "* sqlQuery: any valid sql query (e.g., chr = 7 AND pos = 117149089)"
   ]
  },
  {
   "cell_type": "code",
   "execution_count": 5,
   "metadata": {},
   "outputs": [
    {
     "data": {
      "application/vnd.jupyter.widget-view+json": {
       "model_id": "a348c564b3844cb8af1231a2ec57b5ad",
       "version_major": 2,
       "version_minor": 0
      },
      "text/plain": [
       "Dropdown(description='Select field:', options=('none', 'snp_id', 'pdbChainId', 'uniprotId', 'sqlQuery'), value…"
      ]
     },
     "metadata": {},
     "output_type": "display_data"
    },
    {
     "data": {
      "application/vnd.jupyter.widget-view+json": {
       "model_id": "8e7c830cf67f40258284442f98cf86a3",
       "version_major": 2,
       "version_minor": 0
      },
      "text/plain": [
       "Textarea(value='', description='Enter id(s):')"
      ]
     },
     "metadata": {},
     "output_type": "display_data"
    }
   ],
   "source": [
    "# show widgets\n",
    "display(field)\n",
    "display(selection)"
   ]
  },
  {
   "cell_type": "markdown",
   "metadata": {},
   "source": [
    "### Create query strings"
   ]
  },
  {
   "cell_type": "code",
   "execution_count": 6,
   "metadata": {
    "code_folding": [],
    "jupyter": {
     "source_hidden": true
    }
   },
   "outputs": [
    {
     "name": "stdout",
     "output_type": "stream",
     "text": [
      "Query: clinsig IN ('Benign', 'Likely benign', 'Likely pathogenic', 'Pathogenic', 'drug-response')\n"
     ]
    }
   ],
   "source": [
    "if significance.value and not 'All' in significance.value:\n",
    "    sig_query = \"clinsig IN \" + str(significance.value).replace(\",)\", \")\")\n",
    "    print(\"Query:\", sig_query)\n",
    "    \n",
    "if field.value == 'sqlQuery':\n",
    "    query = selection.value\n",
    "    print(\"Query:\", query)\n",
    "    \n",
    "elif field.value != 'none':\n",
    "    query = field.value + \" IN \" + str(tuple(selection.value.split(\",\"))).replace(\",)\", \")\")\n",
    "    print(\"Query:\", query)"
   ]
  },
  {
   "cell_type": "markdown",
   "metadata": {},
   "source": [
    "### Initialize Spark"
   ]
  },
  {
   "cell_type": "code",
   "execution_count": 7,
   "metadata": {},
   "outputs": [],
   "source": [
    "spark = SparkSession.builder.master(\"local[4]\").appName(\"SNPsInPDB\").getOrCreate()"
   ]
  },
  {
   "cell_type": "code",
   "execution_count": 8,
   "metadata": {},
   "outputs": [],
   "source": [
    "# Enable Arrow-based columnar data transfers between Spark and Pandas dataframes\n",
    "spark.conf.set(\"spark.sql.execution.arrow.enabled\", \"true\")"
   ]
  },
  {
   "cell_type": "markdown",
   "metadata": {},
   "source": [
    "## Read file with dbSNP info\n",
    "The following dataset was created from the SNP3D_PDB_GRCH37 dataset by mapping non-synonymous SNPs to human proteins with >= 95% sequence identity in the PDB."
   ]
  },
  {
   "cell_type": "code",
   "execution_count": 9,
   "metadata": {},
   "outputs": [
    {
     "data": {
      "text/plain": [
       "1171630"
      ]
     },
     "execution_count": 9,
     "metadata": {},
     "output_type": "execute_result"
    }
   ],
   "source": [
    "ds = dbSnpDataset.get_cached_dataset()\n",
    "ds.count()"
   ]
  },
  {
   "cell_type": "markdown",
   "metadata": {},
   "source": [
    "## Find mutated residues in PDB structures\n",
    "This filter keeps only residues where the variant residue type is the same as in the PDB structures."
   ]
  },
  {
   "cell_type": "code",
   "execution_count": 10,
   "metadata": {},
   "outputs": [],
   "source": [
    "ds = ds.filter(\"master_var == pdb_res\")"
   ]
  },
  {
   "cell_type": "code",
   "execution_count": 11,
   "metadata": {},
   "outputs": [
    {
     "name": "stdout",
     "output_type": "stream",
     "text": [
      "Missense mutations in PDB 1291\n"
     ]
    }
   ],
   "source": [
    "print(\"Missense mutations in PDB\", ds.count())"
   ]
  },
  {
   "cell_type": "markdown",
   "metadata": {},
   "source": [
    "## Filter by clinical significance"
   ]
  },
  {
   "cell_type": "code",
   "execution_count": 12,
   "metadata": {
    "jupyter": {
     "source_hidden": true
    },
    "scrolled": true
   },
   "outputs": [
    {
     "name": "stdout",
     "output_type": "stream",
     "text": [
      "Results:  108\n"
     ]
    }
   ],
   "source": [
    "if significance.value and not 'All' in significance.value:\n",
    "    ds = ds.filter(sig_query)\n",
    "    print(\"Results: \", ds.count())"
   ]
  },
  {
   "cell_type": "markdown",
   "metadata": {},
   "source": [
    "## Filter by optional Ids"
   ]
  },
  {
   "cell_type": "code",
   "execution_count": 13,
   "metadata": {
    "jupyter": {
     "source_hidden": true
    }
   },
   "outputs": [],
   "source": [
    "if field.value in ['snp_id','pdbChainId','uniprotId','sqlQuery']:\n",
    "    print(\"Filtered by query: \", query)\n",
    "    ds = ds.filter(query)\n",
    "    ds.show(5)"
   ]
  },
  {
   "cell_type": "markdown",
   "metadata": {},
   "source": [
    "### Show some sample results"
   ]
  },
  {
   "cell_type": "code",
   "execution_count": 14,
   "metadata": {},
   "outputs": [
    {
     "data": {
      "text/html": [
       "<div>\n",
       "<style scoped>\n",
       "    .dataframe tbody tr th:only-of-type {\n",
       "        vertical-align: middle;\n",
       "    }\n",
       "\n",
       "    .dataframe tbody tr th {\n",
       "        vertical-align: top;\n",
       "    }\n",
       "\n",
       "    .dataframe thead th {\n",
       "        text-align: right;\n",
       "    }\n",
       "</style>\n",
       "<table border=\"1\" class=\"dataframe\">\n",
       "  <thead>\n",
       "    <tr style=\"text-align: right;\">\n",
       "      <th></th>\n",
       "      <th>chr</th>\n",
       "      <th>pos</th>\n",
       "      <th>snp_id</th>\n",
       "      <th>master_acc</th>\n",
       "      <th>master_gi</th>\n",
       "      <th>master_pos</th>\n",
       "      <th>master_res</th>\n",
       "      <th>master_var</th>\n",
       "      <th>pdb_gi</th>\n",
       "      <th>pdb_res</th>\n",
       "      <th>pdb_pos</th>\n",
       "      <th>blast_ident</th>\n",
       "      <th>clinsig</th>\n",
       "      <th>pdbChainId</th>\n",
       "      <th>tax_id</th>\n",
       "      <th>pdbResNum</th>\n",
       "      <th>uniprotId</th>\n",
       "      <th>uniprotNum</th>\n",
       "    </tr>\n",
       "  </thead>\n",
       "  <tbody>\n",
       "    <tr>\n",
       "      <th>0</th>\n",
       "      <td>1</td>\n",
       "      <td>161599779</td>\n",
       "      <td>200688856</td>\n",
       "      <td>NP_001257965</td>\n",
       "      <td>402478626</td>\n",
       "      <td>19</td>\n",
       "      <td>S</td>\n",
       "      <td>R</td>\n",
       "      <td>723586676</td>\n",
       "      <td>R</td>\n",
       "      <td>19</td>\n",
       "      <td>95.288</td>\n",
       "      <td>Pathogenic</td>\n",
       "      <td>3WN5.C</td>\n",
       "      <td>9606</td>\n",
       "      <td>15</td>\n",
       "      <td>P08637</td>\n",
       "      <td>36</td>\n",
       "    </tr>\n",
       "    <tr>\n",
       "      <th>1</th>\n",
       "      <td>17</td>\n",
       "      <td>1673276</td>\n",
       "      <td>1136287</td>\n",
       "      <td>NP_001316832</td>\n",
       "      <td>1049480189</td>\n",
       "      <td>72</td>\n",
       "      <td>T</td>\n",
       "      <td>M</td>\n",
       "      <td>15988024</td>\n",
       "      <td>M</td>\n",
       "      <td>52</td>\n",
       "      <td>99.246</td>\n",
       "      <td>Benign</td>\n",
       "      <td>1IMV.A</td>\n",
       "      <td>9606</td>\n",
       "      <td>52</td>\n",
       "      <td>P36955</td>\n",
       "      <td>72</td>\n",
       "    </tr>\n",
       "    <tr>\n",
       "      <th>2</th>\n",
       "      <td>17</td>\n",
       "      <td>1673276</td>\n",
       "      <td>1136287</td>\n",
       "      <td>NP_002606</td>\n",
       "      <td>39725934</td>\n",
       "      <td>72</td>\n",
       "      <td>T</td>\n",
       "      <td>M</td>\n",
       "      <td>15988024</td>\n",
       "      <td>M</td>\n",
       "      <td>52</td>\n",
       "      <td>99.246</td>\n",
       "      <td>Benign</td>\n",
       "      <td>1IMV.A</td>\n",
       "      <td>9606</td>\n",
       "      <td>52</td>\n",
       "      <td>P36955</td>\n",
       "      <td>72</td>\n",
       "    </tr>\n",
       "    <tr>\n",
       "      <th>3</th>\n",
       "      <td>17</td>\n",
       "      <td>64210757</td>\n",
       "      <td>4581</td>\n",
       "      <td>NP_000033</td>\n",
       "      <td>153266841</td>\n",
       "      <td>266</td>\n",
       "      <td>V</td>\n",
       "      <td>L</td>\n",
       "      <td>6573461</td>\n",
       "      <td>L</td>\n",
       "      <td>247</td>\n",
       "      <td>99.693</td>\n",
       "      <td>Benign</td>\n",
       "      <td>1C1Z.A</td>\n",
       "      <td>9606</td>\n",
       "      <td>247</td>\n",
       "      <td>P02749</td>\n",
       "      <td>266</td>\n",
       "    </tr>\n",
       "    <tr>\n",
       "      <th>4</th>\n",
       "      <td>8</td>\n",
       "      <td>18258316</td>\n",
       "      <td>1208</td>\n",
       "      <td>NP_000006</td>\n",
       "      <td>116295260</td>\n",
       "      <td>268</td>\n",
       "      <td>R</td>\n",
       "      <td>K</td>\n",
       "      <td>149243115</td>\n",
       "      <td>K</td>\n",
       "      <td>272</td>\n",
       "      <td>99.654</td>\n",
       "      <td>drug-response</td>\n",
       "      <td>2PFR.A</td>\n",
       "      <td>9606</td>\n",
       "      <td>268</td>\n",
       "      <td>P11245</td>\n",
       "      <td>268</td>\n",
       "    </tr>\n",
       "    <tr>\n",
       "      <th>5</th>\n",
       "      <td>1</td>\n",
       "      <td>161599693</td>\n",
       "      <td>448740</td>\n",
       "      <td>NP_001257965</td>\n",
       "      <td>402478626</td>\n",
       "      <td>48</td>\n",
       "      <td>N</td>\n",
       "      <td>S</td>\n",
       "      <td>723586676</td>\n",
       "      <td>S</td>\n",
       "      <td>48</td>\n",
       "      <td>95.288</td>\n",
       "      <td>Pathogenic</td>\n",
       "      <td>3WN5.C</td>\n",
       "      <td>9606</td>\n",
       "      <td>44</td>\n",
       "      <td>P08637</td>\n",
       "      <td>65</td>\n",
       "    </tr>\n",
       "    <tr>\n",
       "      <th>6</th>\n",
       "      <td>X</td>\n",
       "      <td>8504833</td>\n",
       "      <td>808119</td>\n",
       "      <td>NP_000207</td>\n",
       "      <td>119395746</td>\n",
       "      <td>534</td>\n",
       "      <td>V</td>\n",
       "      <td>I</td>\n",
       "      <td>109156983</td>\n",
       "      <td>I</td>\n",
       "      <td>511</td>\n",
       "      <td>99.848</td>\n",
       "      <td>Benign</td>\n",
       "      <td>1ZLG.A</td>\n",
       "      <td>9606</td>\n",
       "      <td>534</td>\n",
       "      <td>P23352</td>\n",
       "      <td>534</td>\n",
       "    </tr>\n",
       "    <tr>\n",
       "      <th>7</th>\n",
       "      <td>1</td>\n",
       "      <td>161599693</td>\n",
       "      <td>448740</td>\n",
       "      <td>NP_001257966</td>\n",
       "      <td>402478628</td>\n",
       "      <td>48</td>\n",
       "      <td>N</td>\n",
       "      <td>S</td>\n",
       "      <td>10121061</td>\n",
       "      <td>S</td>\n",
       "      <td>48</td>\n",
       "      <td>98.889</td>\n",
       "      <td>Pathogenic</td>\n",
       "      <td>1E4K.C</td>\n",
       "      <td>9606</td>\n",
       "      <td>44</td>\n",
       "      <td>O75015</td>\n",
       "      <td>65</td>\n",
       "    </tr>\n",
       "    <tr>\n",
       "      <th>8</th>\n",
       "      <td>6</td>\n",
       "      <td>5260936</td>\n",
       "      <td>2224391</td>\n",
       "      <td>NP_001158313</td>\n",
       "      <td>258679535</td>\n",
       "      <td>11</td>\n",
       "      <td>S</td>\n",
       "      <td>A</td>\n",
       "      <td>1209040466</td>\n",
       "      <td>A</td>\n",
       "      <td>11</td>\n",
       "      <td>98.571</td>\n",
       "      <td>Benign</td>\n",
       "      <td>5USR.B</td>\n",
       "      <td>9606</td>\n",
       "      <td>11</td>\n",
       "      <td>Q9HD34</td>\n",
       "      <td>11</td>\n",
       "    </tr>\n",
       "    <tr>\n",
       "      <th>9</th>\n",
       "      <td>6</td>\n",
       "      <td>5260936</td>\n",
       "      <td>2224391</td>\n",
       "      <td>NP_001305711</td>\n",
       "      <td>974005181</td>\n",
       "      <td>11</td>\n",
       "      <td>S</td>\n",
       "      <td>A</td>\n",
       "      <td>1209040466</td>\n",
       "      <td>A</td>\n",
       "      <td>11</td>\n",
       "      <td>98.551</td>\n",
       "      <td>Benign</td>\n",
       "      <td>5USR.B</td>\n",
       "      <td>9606</td>\n",
       "      <td>11</td>\n",
       "      <td>Q9HD34</td>\n",
       "      <td>11</td>\n",
       "    </tr>\n",
       "    <tr>\n",
       "      <th>10</th>\n",
       "      <td>6</td>\n",
       "      <td>5260936</td>\n",
       "      <td>2224391</td>\n",
       "      <td>NP_001158312</td>\n",
       "      <td>258679533</td>\n",
       "      <td>11</td>\n",
       "      <td>S</td>\n",
       "      <td>A</td>\n",
       "      <td>1209040466</td>\n",
       "      <td>A</td>\n",
       "      <td>11</td>\n",
       "      <td>97.143</td>\n",
       "      <td>Benign</td>\n",
       "      <td>5USR.B</td>\n",
       "      <td>9606</td>\n",
       "      <td>11</td>\n",
       "      <td>Q9HD34</td>\n",
       "      <td>11</td>\n",
       "    </tr>\n",
       "    <tr>\n",
       "      <th>11</th>\n",
       "      <td>6</td>\n",
       "      <td>5260936</td>\n",
       "      <td>2224391</td>\n",
       "      <td>NP_065141</td>\n",
       "      <td>38570054</td>\n",
       "      <td>11</td>\n",
       "      <td>S</td>\n",
       "      <td>A</td>\n",
       "      <td>1209040466</td>\n",
       "      <td>A</td>\n",
       "      <td>11</td>\n",
       "      <td>98.901</td>\n",
       "      <td>Benign</td>\n",
       "      <td>5USR.B</td>\n",
       "      <td>9606</td>\n",
       "      <td>11</td>\n",
       "      <td>Q9HD34</td>\n",
       "      <td>11</td>\n",
       "    </tr>\n",
       "    <tr>\n",
       "      <th>12</th>\n",
       "      <td>9</td>\n",
       "      <td>133748283</td>\n",
       "      <td>121913459</td>\n",
       "      <td>NP_005148</td>\n",
       "      <td>62362414</td>\n",
       "      <td>315</td>\n",
       "      <td>T</td>\n",
       "      <td>I</td>\n",
       "      <td>1175128757</td>\n",
       "      <td>I</td>\n",
       "      <td>295</td>\n",
       "      <td>99.591</td>\n",
       "      <td>Pathogenic</td>\n",
       "      <td>5MO4.A</td>\n",
       "      <td>9606</td>\n",
       "      <td>334</td>\n",
       "      <td>P00519</td>\n",
       "      <td>315</td>\n",
       "    </tr>\n",
       "    <tr>\n",
       "      <th>13</th>\n",
       "      <td>6</td>\n",
       "      <td>24291203</td>\n",
       "      <td>2274305</td>\n",
       "      <td>NP_001182539</td>\n",
       "      <td>307219252</td>\n",
       "      <td>221</td>\n",
       "      <td>S</td>\n",
       "      <td>G</td>\n",
       "      <td>159164249</td>\n",
       "      <td>G</td>\n",
       "      <td>97</td>\n",
       "      <td>98.947</td>\n",
       "      <td>Benign</td>\n",
       "      <td>2DNF.A</td>\n",
       "      <td>9606</td>\n",
       "      <td>97</td>\n",
       "      <td>Q9UHG0</td>\n",
       "      <td>221</td>\n",
       "    </tr>\n",
       "    <tr>\n",
       "      <th>14</th>\n",
       "      <td>6</td>\n",
       "      <td>24291203</td>\n",
       "      <td>2274305</td>\n",
       "      <td>NP_057440</td>\n",
       "      <td>117938307</td>\n",
       "      <td>221</td>\n",
       "      <td>S</td>\n",
       "      <td>G</td>\n",
       "      <td>159164249</td>\n",
       "      <td>G</td>\n",
       "      <td>97</td>\n",
       "      <td>98.947</td>\n",
       "      <td>Benign</td>\n",
       "      <td>2DNF.A</td>\n",
       "      <td>9606</td>\n",
       "      <td>97</td>\n",
       "      <td>Q9UHG0</td>\n",
       "      <td>221</td>\n",
       "    </tr>\n",
       "    <tr>\n",
       "      <th>15</th>\n",
       "      <td>6</td>\n",
       "      <td>16290761</td>\n",
       "      <td>1042391</td>\n",
       "      <td>NP_006868</td>\n",
       "      <td>156104880</td>\n",
       "      <td>256</td>\n",
       "      <td>F</td>\n",
       "      <td>I</td>\n",
       "      <td>62739008</td>\n",
       "      <td>I</td>\n",
       "      <td>278</td>\n",
       "      <td>99.710</td>\n",
       "      <td>Benign</td>\n",
       "      <td>2BLE.A</td>\n",
       "      <td>9606</td>\n",
       "      <td>256</td>\n",
       "      <td>P36959</td>\n",
       "      <td>256</td>\n",
       "    </tr>\n",
       "    <tr>\n",
       "      <th>16</th>\n",
       "      <td>6</td>\n",
       "      <td>32011235</td>\n",
       "      <td>2856453</td>\n",
       "      <td>NP_115859</td>\n",
       "      <td>20665034</td>\n",
       "      <td>306</td>\n",
       "      <td>V</td>\n",
       "      <td>I</td>\n",
       "      <td>159163964</td>\n",
       "      <td>I</td>\n",
       "      <td>40</td>\n",
       "      <td>99.020</td>\n",
       "      <td>Benign</td>\n",
       "      <td>2CUH.A</td>\n",
       "      <td>9606</td>\n",
       "      <td>40</td>\n",
       "      <td>P22105</td>\n",
       "      <td>3875</td>\n",
       "    </tr>\n",
       "    <tr>\n",
       "      <th>17</th>\n",
       "      <td>6</td>\n",
       "      <td>32011235</td>\n",
       "      <td>2856453</td>\n",
       "      <td>NP_061978</td>\n",
       "      <td>188528648</td>\n",
       "      <td>3875</td>\n",
       "      <td>V</td>\n",
       "      <td>I</td>\n",
       "      <td>159163964</td>\n",
       "      <td>I</td>\n",
       "      <td>40</td>\n",
       "      <td>99.020</td>\n",
       "      <td>Benign</td>\n",
       "      <td>2CUH.A</td>\n",
       "      <td>9606</td>\n",
       "      <td>40</td>\n",
       "      <td>P22105</td>\n",
       "      <td>3875</td>\n",
       "    </tr>\n",
       "    <tr>\n",
       "      <th>18</th>\n",
       "      <td>7</td>\n",
       "      <td>140453136</td>\n",
       "      <td>113488022</td>\n",
       "      <td>NP_004324</td>\n",
       "      <td>33188459</td>\n",
       "      <td>600</td>\n",
       "      <td>V</td>\n",
       "      <td>E</td>\n",
       "      <td>657232052</td>\n",
       "      <td>E</td>\n",
       "      <td>193</td>\n",
       "      <td>99.672</td>\n",
       "      <td>Likely pathogenic</td>\n",
       "      <td>4MNF.A</td>\n",
       "      <td>9606</td>\n",
       "      <td>600</td>\n",
       "      <td>P15056</td>\n",
       "      <td>600</td>\n",
       "    </tr>\n",
       "    <tr>\n",
       "      <th>19</th>\n",
       "      <td>7</td>\n",
       "      <td>140453136</td>\n",
       "      <td>113488022</td>\n",
       "      <td>NP_004324</td>\n",
       "      <td>33188459</td>\n",
       "      <td>600</td>\n",
       "      <td>V</td>\n",
       "      <td>E</td>\n",
       "      <td>657232052</td>\n",
       "      <td>E</td>\n",
       "      <td>193</td>\n",
       "      <td>99.672</td>\n",
       "      <td>Pathogenic</td>\n",
       "      <td>4MNF.A</td>\n",
       "      <td>9606</td>\n",
       "      <td>600</td>\n",
       "      <td>P15056</td>\n",
       "      <td>600</td>\n",
       "    </tr>\n",
       "  </tbody>\n",
       "</table>\n",
       "</div>"
      ],
      "text/plain": [
       "   chr        pos     snp_id    master_acc   master_gi  master_pos master_res  \\\n",
       "0    1  161599779  200688856  NP_001257965   402478626          19          S   \n",
       "1   17    1673276    1136287  NP_001316832  1049480189          72          T   \n",
       "2   17    1673276    1136287     NP_002606    39725934          72          T   \n",
       "3   17   64210757       4581     NP_000033   153266841         266          V   \n",
       "4    8   18258316       1208     NP_000006   116295260         268          R   \n",
       "5    1  161599693     448740  NP_001257965   402478626          48          N   \n",
       "6    X    8504833     808119     NP_000207   119395746         534          V   \n",
       "7    1  161599693     448740  NP_001257966   402478628          48          N   \n",
       "8    6    5260936    2224391  NP_001158313   258679535          11          S   \n",
       "9    6    5260936    2224391  NP_001305711   974005181          11          S   \n",
       "10   6    5260936    2224391  NP_001158312   258679533          11          S   \n",
       "11   6    5260936    2224391     NP_065141    38570054          11          S   \n",
       "12   9  133748283  121913459     NP_005148    62362414         315          T   \n",
       "13   6   24291203    2274305  NP_001182539   307219252         221          S   \n",
       "14   6   24291203    2274305     NP_057440   117938307         221          S   \n",
       "15   6   16290761    1042391     NP_006868   156104880         256          F   \n",
       "16   6   32011235    2856453     NP_115859    20665034         306          V   \n",
       "17   6   32011235    2856453     NP_061978   188528648        3875          V   \n",
       "18   7  140453136  113488022     NP_004324    33188459         600          V   \n",
       "19   7  140453136  113488022     NP_004324    33188459         600          V   \n",
       "\n",
       "   master_var      pdb_gi pdb_res  pdb_pos  blast_ident            clinsig  \\\n",
       "0           R   723586676       R       19       95.288         Pathogenic   \n",
       "1           M    15988024       M       52       99.246             Benign   \n",
       "2           M    15988024       M       52       99.246             Benign   \n",
       "3           L     6573461       L      247       99.693             Benign   \n",
       "4           K   149243115       K      272       99.654      drug-response   \n",
       "5           S   723586676       S       48       95.288         Pathogenic   \n",
       "6           I   109156983       I      511       99.848             Benign   \n",
       "7           S    10121061       S       48       98.889         Pathogenic   \n",
       "8           A  1209040466       A       11       98.571             Benign   \n",
       "9           A  1209040466       A       11       98.551             Benign   \n",
       "10          A  1209040466       A       11       97.143             Benign   \n",
       "11          A  1209040466       A       11       98.901             Benign   \n",
       "12          I  1175128757       I      295       99.591         Pathogenic   \n",
       "13          G   159164249       G       97       98.947             Benign   \n",
       "14          G   159164249       G       97       98.947             Benign   \n",
       "15          I    62739008       I      278       99.710             Benign   \n",
       "16          I   159163964       I       40       99.020             Benign   \n",
       "17          I   159163964       I       40       99.020             Benign   \n",
       "18          E   657232052       E      193       99.672  Likely pathogenic   \n",
       "19          E   657232052       E      193       99.672         Pathogenic   \n",
       "\n",
       "   pdbChainId  tax_id pdbResNum uniprotId  uniprotNum  \n",
       "0      3WN5.C    9606        15    P08637          36  \n",
       "1      1IMV.A    9606        52    P36955          72  \n",
       "2      1IMV.A    9606        52    P36955          72  \n",
       "3      1C1Z.A    9606       247    P02749         266  \n",
       "4      2PFR.A    9606       268    P11245         268  \n",
       "5      3WN5.C    9606        44    P08637          65  \n",
       "6      1ZLG.A    9606       534    P23352         534  \n",
       "7      1E4K.C    9606        44    O75015          65  \n",
       "8      5USR.B    9606        11    Q9HD34          11  \n",
       "9      5USR.B    9606        11    Q9HD34          11  \n",
       "10     5USR.B    9606        11    Q9HD34          11  \n",
       "11     5USR.B    9606        11    Q9HD34          11  \n",
       "12     5MO4.A    9606       334    P00519         315  \n",
       "13     2DNF.A    9606        97    Q9UHG0         221  \n",
       "14     2DNF.A    9606        97    Q9UHG0         221  \n",
       "15     2BLE.A    9606       256    P36959         256  \n",
       "16     2CUH.A    9606        40    P22105        3875  \n",
       "17     2CUH.A    9606        40    P22105        3875  \n",
       "18     4MNF.A    9606       600    P15056         600  \n",
       "19     4MNF.A    9606       600    P15056         600  "
      ]
     },
     "execution_count": 14,
     "metadata": {},
     "output_type": "execute_result"
    }
   ],
   "source": [
    "ds.toPandas().head(20)"
   ]
  },
  {
   "cell_type": "markdown",
   "metadata": {},
   "source": [
    "## Aggregate data on the residue and chain level"
   ]
  },
  {
   "cell_type": "code",
   "execution_count": 15,
   "metadata": {
    "jupyter": {
     "source_hidden": true
    }
   },
   "outputs": [],
   "source": [
    "ds = ds.groupBy(\"pdbChainId\",\"pdbResNum\",\"master_res\",\"uniprotId\").agg(collect_set(\"master_var\").alias(\"master_var\"),collect_set(\"clinsig\").alias(\"clinsig\"))\n",
    "ds = ds.withColumn(\"master_var\", concat_ws((\"\"), ds.master_var))\n",
    "ds = ds.withColumn(\"clinsig\", concat_ws((\",\"), ds.clinsig))\n",
    "ds = ds.withColumn(\"snps\", concat_ws((\"->\"), ds.master_res, ds.master_var))\n",
    "ds = ds.drop(\"master_res\")\n",
    "ds = ds.groupBy(\"pdbChainId\",\"uniprotId\").agg(collect_list(\"pdbResNum\").alias(\"pdbResNums\"), \\\n",
    "                                              collect_list(\"snps\").alias(\"snps\"), \\\n",
    "                                              collect_list(\"clinsig\").alias(\"clinsig\"))"
   ]
  },
  {
   "cell_type": "code",
   "execution_count": 16,
   "metadata": {},
   "outputs": [
    {
     "data": {
      "text/html": [
       "<div>\n",
       "<style scoped>\n",
       "    .dataframe tbody tr th:only-of-type {\n",
       "        vertical-align: middle;\n",
       "    }\n",
       "\n",
       "    .dataframe tbody tr th {\n",
       "        vertical-align: top;\n",
       "    }\n",
       "\n",
       "    .dataframe thead th {\n",
       "        text-align: right;\n",
       "    }\n",
       "</style>\n",
       "<table border=\"1\" class=\"dataframe\">\n",
       "  <thead>\n",
       "    <tr style=\"text-align: right;\">\n",
       "      <th></th>\n",
       "      <th>pdbChainId</th>\n",
       "      <th>uniprotId</th>\n",
       "      <th>pdbResNums</th>\n",
       "      <th>snps</th>\n",
       "      <th>clinsig</th>\n",
       "    </tr>\n",
       "  </thead>\n",
       "  <tbody>\n",
       "    <tr>\n",
       "      <th>0</th>\n",
       "      <td>3BIC.A</td>\n",
       "      <td>P22033</td>\n",
       "      <td>[671, 499]</td>\n",
       "      <td>[I-&gt;V, A-&gt;T]</td>\n",
       "      <td>[Benign, Likely benign]</td>\n",
       "    </tr>\n",
       "    <tr>\n",
       "      <th>1</th>\n",
       "      <td>1C1Z.A</td>\n",
       "      <td>P02749</td>\n",
       "      <td>[247]</td>\n",
       "      <td>[V-&gt;L]</td>\n",
       "      <td>[Benign]</td>\n",
       "    </tr>\n",
       "    <tr>\n",
       "      <th>2</th>\n",
       "      <td>5J8R.A</td>\n",
       "      <td>Q05209</td>\n",
       "      <td>[61]</td>\n",
       "      <td>[K-&gt;R]</td>\n",
       "      <td>[Pathogenic]</td>\n",
       "    </tr>\n",
       "    <tr>\n",
       "      <th>3</th>\n",
       "      <td>4MZV.A</td>\n",
       "      <td>P16422</td>\n",
       "      <td>[115]</td>\n",
       "      <td>[M-&gt;T]</td>\n",
       "      <td>[Likely benign]</td>\n",
       "    </tr>\n",
       "    <tr>\n",
       "      <th>4</th>\n",
       "      <td>3WN5.C</td>\n",
       "      <td>P08637</td>\n",
       "      <td>[15, 61, 44]</td>\n",
       "      <td>[S-&gt;R, N-&gt;D, N-&gt;S]</td>\n",
       "      <td>[Pathogenic, Pathogenic, Pathogenic]</td>\n",
       "    </tr>\n",
       "    <tr>\n",
       "      <th>5</th>\n",
       "      <td>1IMV.A</td>\n",
       "      <td>P36955</td>\n",
       "      <td>[52]</td>\n",
       "      <td>[T-&gt;M]</td>\n",
       "      <td>[Benign]</td>\n",
       "    </tr>\n",
       "    <tr>\n",
       "      <th>6</th>\n",
       "      <td>4KKD.A</td>\n",
       "      <td>P48740</td>\n",
       "      <td>[666]</td>\n",
       "      <td>[G-&gt;E]</td>\n",
       "      <td>[Pathogenic]</td>\n",
       "    </tr>\n",
       "    <tr>\n",
       "      <th>7</th>\n",
       "      <td>3RMU.A</td>\n",
       "      <td>Q96PE7</td>\n",
       "      <td>[104]</td>\n",
       "      <td>[R-&gt;L]</td>\n",
       "      <td>[Likely benign]</td>\n",
       "    </tr>\n",
       "    <tr>\n",
       "      <th>8</th>\n",
       "      <td>5BV8.A</td>\n",
       "      <td>P04275</td>\n",
       "      <td>[1381, 1324]</td>\n",
       "      <td>[T-&gt;A, G-&gt;S]</td>\n",
       "      <td>[Likely benign, Pathogenic]</td>\n",
       "    </tr>\n",
       "    <tr>\n",
       "      <th>9</th>\n",
       "      <td>4FXK.B</td>\n",
       "      <td>P0C0L4</td>\n",
       "      <td>[1176]</td>\n",
       "      <td>[S-&gt;N]</td>\n",
       "      <td>[Benign]</td>\n",
       "    </tr>\n",
       "    <tr>\n",
       "      <th>10</th>\n",
       "      <td>6C2W.A</td>\n",
       "      <td>P00734</td>\n",
       "      <td>[122]</td>\n",
       "      <td>[T-&gt;M]</td>\n",
       "      <td>[Likely benign]</td>\n",
       "    </tr>\n",
       "    <tr>\n",
       "      <th>11</th>\n",
       "      <td>5USR.B</td>\n",
       "      <td>Q9HD34</td>\n",
       "      <td>[11]</td>\n",
       "      <td>[S-&gt;A]</td>\n",
       "      <td>[Benign]</td>\n",
       "    </tr>\n",
       "    <tr>\n",
       "      <th>12</th>\n",
       "      <td>1E4K.C</td>\n",
       "      <td>O75015</td>\n",
       "      <td>[44]</td>\n",
       "      <td>[N-&gt;S]</td>\n",
       "      <td>[Pathogenic]</td>\n",
       "    </tr>\n",
       "    <tr>\n",
       "      <th>13</th>\n",
       "      <td>1ZLG.A</td>\n",
       "      <td>P23352</td>\n",
       "      <td>[534]</td>\n",
       "      <td>[V-&gt;I]</td>\n",
       "      <td>[Benign]</td>\n",
       "    </tr>\n",
       "    <tr>\n",
       "      <th>14</th>\n",
       "      <td>1HH8.A</td>\n",
       "      <td>P19878</td>\n",
       "      <td>[181]</td>\n",
       "      <td>[K-&gt;R]</td>\n",
       "      <td>[Benign]</td>\n",
       "    </tr>\n",
       "    <tr>\n",
       "      <th>15</th>\n",
       "      <td>5DUQ.A</td>\n",
       "      <td>P05155</td>\n",
       "      <td>[458]</td>\n",
       "      <td>[V-&gt;M]</td>\n",
       "      <td>[Benign]</td>\n",
       "    </tr>\n",
       "    <tr>\n",
       "      <th>16</th>\n",
       "      <td>1APY.A</td>\n",
       "      <td>P20933</td>\n",
       "      <td>[126]</td>\n",
       "      <td>[T-&gt;S]</td>\n",
       "      <td>[Benign]</td>\n",
       "    </tr>\n",
       "    <tr>\n",
       "      <th>17</th>\n",
       "      <td>3LPO.A</td>\n",
       "      <td>P14410</td>\n",
       "      <td>[198]</td>\n",
       "      <td>[T-&gt;A]</td>\n",
       "      <td>[Benign]</td>\n",
       "    </tr>\n",
       "    <tr>\n",
       "      <th>18</th>\n",
       "      <td>2HW5.A</td>\n",
       "      <td>P30084</td>\n",
       "      <td>[75]</td>\n",
       "      <td>[T-&gt;I]</td>\n",
       "      <td>[Benign]</td>\n",
       "    </tr>\n",
       "    <tr>\n",
       "      <th>19</th>\n",
       "      <td>5KZW.A</td>\n",
       "      <td>P10253</td>\n",
       "      <td>[780]</td>\n",
       "      <td>[V-&gt;I]</td>\n",
       "      <td>[Benign]</td>\n",
       "    </tr>\n",
       "  </tbody>\n",
       "</table>\n",
       "</div>"
      ],
      "text/plain": [
       "   pdbChainId uniprotId    pdbResNums                snps  \\\n",
       "0      3BIC.A    P22033    [671, 499]        [I->V, A->T]   \n",
       "1      1C1Z.A    P02749         [247]              [V->L]   \n",
       "2      5J8R.A    Q05209          [61]              [K->R]   \n",
       "3      4MZV.A    P16422         [115]              [M->T]   \n",
       "4      3WN5.C    P08637  [15, 61, 44]  [S->R, N->D, N->S]   \n",
       "5      1IMV.A    P36955          [52]              [T->M]   \n",
       "6      4KKD.A    P48740         [666]              [G->E]   \n",
       "7      3RMU.A    Q96PE7         [104]              [R->L]   \n",
       "8      5BV8.A    P04275  [1381, 1324]        [T->A, G->S]   \n",
       "9      4FXK.B    P0C0L4        [1176]              [S->N]   \n",
       "10     6C2W.A    P00734         [122]              [T->M]   \n",
       "11     5USR.B    Q9HD34          [11]              [S->A]   \n",
       "12     1E4K.C    O75015          [44]              [N->S]   \n",
       "13     1ZLG.A    P23352         [534]              [V->I]   \n",
       "14     1HH8.A    P19878         [181]              [K->R]   \n",
       "15     5DUQ.A    P05155         [458]              [V->M]   \n",
       "16     1APY.A    P20933         [126]              [T->S]   \n",
       "17     3LPO.A    P14410         [198]              [T->A]   \n",
       "18     2HW5.A    P30084          [75]              [T->I]   \n",
       "19     5KZW.A    P10253         [780]              [V->I]   \n",
       "\n",
       "                                 clinsig  \n",
       "0                [Benign, Likely benign]  \n",
       "1                               [Benign]  \n",
       "2                           [Pathogenic]  \n",
       "3                        [Likely benign]  \n",
       "4   [Pathogenic, Pathogenic, Pathogenic]  \n",
       "5                               [Benign]  \n",
       "6                           [Pathogenic]  \n",
       "7                        [Likely benign]  \n",
       "8            [Likely benign, Pathogenic]  \n",
       "9                               [Benign]  \n",
       "10                       [Likely benign]  \n",
       "11                              [Benign]  \n",
       "12                          [Pathogenic]  \n",
       "13                              [Benign]  \n",
       "14                              [Benign]  \n",
       "15                              [Benign]  \n",
       "16                              [Benign]  \n",
       "17                              [Benign]  \n",
       "18                              [Benign]  \n",
       "19                              [Benign]  "
      ]
     },
     "execution_count": 16,
     "metadata": {},
     "output_type": "execute_result"
    }
   ],
   "source": [
    "df = ds.toPandas()\n",
    "df.head(20)"
   ]
  },
  {
   "cell_type": "code",
   "execution_count": 17,
   "metadata": {
    "code_folding": [
     0
    ],
    "jupyter": {
     "source_hidden": true
    }
   },
   "outputs": [],
   "source": [
    "def view_modifications(df, cutoff_distance, *args):\n",
    "\n",
    "    def view3d(show_bio_assembly=False, show_surface=False, show_labels=True, i=0):\n",
    "        pdb_id, chain_id = df.iloc[i]['pdbChainId'].split('.')\n",
    "        res_num = list(df.iloc[i]['pdbResNums'])\n",
    "        labels = df.iloc[i]['snps']\n",
    "        sigs = df.iloc[i]['clinsig']\n",
    "        \n",
    "        sig_dir = {'Benign':'green', 'Likely benign':'turquoise', 'Likely pathogenic':'palevioletred', \\\n",
    "                    'Pathogenic':'red', 'drug-response':'plum', 'untested':'white', \\\n",
    "                    'Uncertain significance': 'lightgray', 'other':'white', 'null':'white'}\n",
    "        \n",
    "       # print header\n",
    "        print (\"PDB Id: \" + pdb_id + \" chain Id: \" + chain_id)\n",
    "        \n",
    "        # print any specified additional columns from the dataframe\n",
    "        for a in args:\n",
    "            print(a + \": \" + df.iloc[i][a])\n",
    "\n",
    "        all_residues = {'resi': res_num, 'chain': chain_id}\n",
    "        \n",
    "        # select neigboring residues by distance\n",
    "        surroundings = {'chain': chain_id, 'resi': res_num, 'byres': True, 'expand': cutoff_distance}\n",
    "        \n",
    "        viewer = py3Dmol.view(query='pdb:' + pdb_id, options={'doAssembly': show_bio_assembly})\n",
    "\n",
    "        # polymer style\n",
    "        viewer.setStyle({'cartoon': {'colorscheme': 'chain', 'width': 0.6, 'opacity':0.9}})\n",
    "\n",
    "        # non-polymer style\n",
    "        viewer.setStyle({'hetflag': True}, {'stick':{'radius': 0.3, 'singleBond': False}})\n",
    "        \n",
    "        # residues surrounding mutation positions\n",
    "        viewer.addStyle(surroundings,{'stick':{'colorscheme':'orangeCarbon', 'radius': 0.15}})\n",
    "        \n",
    "        # mutation positions\n",
    "        for label, res, sig in zip(labels, res_num, sigs):\n",
    "            sig1 = sig.split(',')[0] # if multiple values, use the first one\n",
    "            col = (sig_dir[sig1])\n",
    "            mod_res = {'resi': res, 'chain': chain_id} \n",
    "            c_col = col + \"Carbon\"\n",
    "            viewer.addStyle(mod_res, {'stick':{'colorscheme':c_col, 'radius': 0.2}})\n",
    "            viewer.addStyle(mod_res, {'sphere':{'color':col, 'opacity': 0.6}})\n",
    "                \n",
    "            if show_labels:\n",
    "                viewer.addLabel(label + \" \" + sig, {'fontSize':10,'fontColor':col,'backgroundColor':'ivory'}, {'resi': res, 'chain': chain_id})\n",
    "        \n",
    "        viewer.zoomTo(all_residues)\n",
    "        \n",
    "        if show_surface:\n",
    "            viewer.addSurface(py3Dmol.SES,{'opacity':0.8,'color':'lightblue'})\n",
    "\n",
    "        return viewer.show()\n",
    "       \n",
    "    s_widget = IntSlider(min=0, max=len(df)-1, description='Structure', continuous_update=False)\n",
    "    \n",
    "    return interact(view3d, show_bio_assembly=False, show_surface=False, show_labels=True, i=s_widget)"
   ]
  },
  {
   "cell_type": "markdown",
   "metadata": {},
   "source": [
    "## Visualize locations of missense mutations\n",
    "Mutated residues are rendered in as sticks and transparent spheres, and colored by ClinVar significance. Each mutation is labeled by the PDB residue number and ClinVar significance. Residues surrounding mutation sites (within 6 A) are rendered as thin orange sticks. Small molecules within the structure are rendered as gray sticks."
   ]
  },
  {
   "cell_type": "code",
   "execution_count": 18,
   "metadata": {
    "collapsed": true,
    "jupyter": {
     "outputs_hidden": true
    },
    "scrolled": true,
    "tags": []
   },
   "outputs": [
    {
     "data": {
      "application/vnd.jupyter.widget-view+json": {
       "model_id": "6543634be3494a91b08dc8ab79dc400c",
       "version_major": 2,
       "version_minor": 0
      },
      "text/plain": [
       "interactive(children=(Checkbox(value=False, description='show_bio_assembly'), Checkbox(value=False, descriptio…"
      ]
     },
     "metadata": {},
     "output_type": "display_data"
    }
   ],
   "source": [
    "view_modifications(df, 6, 'uniprotId');"
   ]
  },
  {
   "cell_type": "code",
   "execution_count": 19,
   "metadata": {
    "code_folding": [
     0
    ],
    "jupyter": {
     "source_hidden": true
    }
   },
   "outputs": [],
   "source": [
    "def view_surface(df, cutoff_distance, *args):\n",
    "\n",
    "    def view3d(show_bio_assembly=False, show_surface=False, show_labels=True, i=0):\n",
    "        pdb_id, chain_id = df.iloc[i]['pdbChainId'].split('.')\n",
    "        res_num = list(df.iloc[i]['pdbResNums'])\n",
    "        labels = df.iloc[i]['snps']\n",
    "        sigs = df.iloc[i]['clinsig']\n",
    "        \n",
    "        sig_dir = {'Benign':'green', 'Likely benign':'turquoise', 'Likely pathogenic':'palevioletred', \\\n",
    "                   'Pathogenic':'red', 'drug-response':'plum', 'untested':'white', \\\n",
    "                   'Uncertain significance': 'lightgray', 'other':'white', 'null':'white'}\n",
    "        \n",
    "        # print header\n",
    "        print (\"PDB Id: \" + pdb_id + \" chain Id: \" + chain_id)\n",
    "        \n",
    "        # print any specified additional columns from the dataframe\n",
    "        for a in args:\n",
    "            print(a + \": \" + df.iloc[i][a])\n",
    "            \n",
    "        viewer = py3Dmol.view(query='pdb:' + pdb_id, options={'doAssembly': show_bio_assembly})\n",
    "\n",
    "        all_residues = {'resi': res_num, 'chain': chain_id}\n",
    "        \n",
    "        # polymer style\n",
    "        viewer.setStyle({'sphere': {'colorscheme': 'chain', 'opacity':0.6}})\n",
    "        \n",
    "        # non-polymer style\n",
    "        viewer.setStyle({'hetflag': True}, {'stick':{'radius': 0.3, 'singleBond': False}})\n",
    "\n",
    "        # mutation style\n",
    "        for label, res, sig in zip(labels, res_num, sigs):\n",
    "            sig1 = sig.split(',')[0] # if multiple values, use the first one\n",
    "            col = (sig_dir[sig1])\n",
    "            mod_res = {'resi': res, 'chain': chain_id} \n",
    "            viewer.setStyle(mod_res, {'sphere':{'color':col}})\n",
    "        \n",
    "            if show_labels:\n",
    "                viewer.addLabel(label + \" \" + sig, {'fontSize':10,'fontColor':col,'backgroundColor':'ivory'}, {'resi': res, 'chain': chain_id})\n",
    "        \n",
    "        viewer.zoomTo(all_residues)        \n",
    "        \n",
    "        if show_surface:\n",
    "            viewer.addSurface(py3Dmol.SES,{'opacity':0.8,'color':'lightblue'})\n",
    "\n",
    "        return viewer.show()\n",
    "       \n",
    "    s_widget = IntSlider(min=0, max=len(df)-1, description='Structure', continuous_update=False)\n",
    "    \n",
    "    return interact(view3d, show_bio_assembly=False, show_surface=False, show_labels=True, i=s_widget)"
   ]
  },
  {
   "cell_type": "code",
   "execution_count": 20,
   "metadata": {
    "jupyter": {
     "source_hidden": true
    },
    "tags": []
   },
   "outputs": [
    {
     "data": {
      "application/vnd.jupyter.widget-view+json": {
       "model_id": "9d83e5a8756c4bc58820c8250e250f64",
       "version_major": 2,
       "version_minor": 0
      },
      "text/plain": [
       "interactive(children=(Checkbox(value=False, description='show_bio_assembly'), Checkbox(value=False, descriptio…"
      ]
     },
     "metadata": {},
     "output_type": "display_data"
    }
   ],
   "source": [
    "view_surface(df, 6, 'uniprotId');"
   ]
  },
  {
   "cell_type": "code",
   "execution_count": 21,
   "metadata": {},
   "outputs": [],
   "source": [
    "spark.stop()"
   ]
  },
  {
   "cell_type": "code",
   "execution_count": null,
   "metadata": {},
   "outputs": [],
   "source": []
  }
 ],
 "metadata": {
  "kernelspec": {
   "display_name": "Python 3",
   "language": "python",
   "name": "python3"
  },
  "language_info": {
   "codemirror_mode": {
    "name": "ipython",
    "version": 3
   },
   "file_extension": ".py",
   "mimetype": "text/x-python",
   "name": "python",
   "nbconvert_exporter": "python",
   "pygments_lexer": "ipython3",
   "version": "3.6.13"
  }
 },
 "nbformat": 4,
 "nbformat_minor": 4
}
