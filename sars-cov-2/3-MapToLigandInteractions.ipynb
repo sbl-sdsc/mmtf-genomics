{
 "cells": [
  {
   "cell_type": "markdown",
   "metadata": {},
   "source": [
    "## Map Mutations to Protein-Ligand Interactions\n",
    "Here we find and visualize the mutations at protein-ligand binding sites."
   ]
  },
  {
   "cell_type": "code",
   "execution_count": 1,
   "metadata": {},
   "outputs": [],
   "source": [
    "import os\n",
    "# Disable Numba: temporary workaround for https://github.com/sbl-sdsc/mmtf-pyspark/issues/288\n",
    "#os.environ['NUMBA_DISABLE_JIT'] = \"1\""
   ]
  },
  {
   "cell_type": "code",
   "execution_count": 2,
   "metadata": {},
   "outputs": [],
   "source": [
    "from pyspark.sql import SparkSession\n",
    "from mmtfPyspark.io import mmtfReader\n",
    "from mmtfPyspark.interactions import InteractionExtractor, InteractionFilter\n",
    "from ipywidgets import interact, IntSlider, FloatSlider\n",
    "import py3Dmol\n",
    "import pandas as pd"
   ]
  },
  {
   "cell_type": "code",
   "execution_count": 3,
   "metadata": {
    "code_folding": [
     0
    ]
   },
   "outputs": [
    {
     "name": "stdout",
     "output_type": "stream",
     "text": [
      "2022-01-27 12:59:08 WARN  NativeCodeLoader:62 - Unable to load native-hadoop library for your platform... using builtin-java classes where applicable\n"
     ]
    },
    {
     "name": "stderr",
     "output_type": "stream",
     "text": [
      "Setting default log level to \"WARN\".\n",
      "To adjust logging level use sc.setLogLevel(newLevel). For SparkR, use setLogLevel(newLevel).\n"
     ]
    }
   ],
   "source": [
    "# Initialize Spark\n",
    "spark = SparkSession.builder.appName(\"3-MapLigandInteractions\").getOrCreate()"
   ]
  },
  {
   "cell_type": "code",
   "execution_count": 4,
   "metadata": {},
   "outputs": [],
   "source": [
    "# Enable Arrow-based columnar data transfers between Spark and Pandas dataframes\n",
    "spark.conf.set(\"spark.sql.execution.arrow.enabled\", \"true\")"
   ]
  },
  {
   "cell_type": "markdown",
   "metadata": {},
   "source": [
    "#### Input parameters"
   ]
  },
  {
   "cell_type": "code",
   "execution_count": 5,
   "metadata": {},
   "outputs": [],
   "source": [
    "distance_cutoff = 8  # distance cutoff for finding and visualizing interactions\n",
    "input_file_name = 'mutations3d.csv'  # mutations mapped to 3D protein structures\n",
    "output_file_name = 'mutations3d_ligand.csv'  # mutations mapped to protein-ligand binding sites"
   ]
  },
  {
   "cell_type": "markdown",
   "metadata": {},
   "source": [
    "### Read 'mutations3d.csv' file created in the previous step"
   ]
  },
  {
   "cell_type": "code",
   "execution_count": 6,
   "metadata": {
    "scrolled": true
   },
   "outputs": [
    {
     "data": {
      "text/html": [
       "<div>\n",
       "<style scoped>\n",
       "    .dataframe tbody tr th:only-of-type {\n",
       "        vertical-align: middle;\n",
       "    }\n",
       "\n",
       "    .dataframe tbody tr th {\n",
       "        vertical-align: top;\n",
       "    }\n",
       "\n",
       "    .dataframe thead th {\n",
       "        text-align: right;\n",
       "    }\n",
       "</style>\n",
       "<table border=\"1\" class=\"dataframe\">\n",
       "  <thead>\n",
       "    <tr style=\"text-align: right;\">\n",
       "      <th></th>\n",
       "      <th>coverage</th>\n",
       "      <th>description</th>\n",
       "      <th>name</th>\n",
       "      <th>resolution</th>\n",
       "      <th>structureChainId</th>\n",
       "      <th>structureId</th>\n",
       "      <th>uniprotPosition</th>\n",
       "      <th>pdbPosition</th>\n",
       "      <th>residue</th>\n",
       "      <th>variationId</th>\n",
       "      <th>annotation</th>\n",
       "      <th>scale</th>\n",
       "      <th>color</th>\n",
       "    </tr>\n",
       "  </thead>\n",
       "  <tbody>\n",
       "    <tr>\n",
       "      <th>0</th>\n",
       "      <td>0.153181</td>\n",
       "      <td>2-acetamido-2-deoxy-beta-D-glucopyranose, CR30...</td>\n",
       "      <td>Spike glycoprotein</td>\n",
       "      <td>3.084</td>\n",
       "      <td>6W41.C</td>\n",
       "      <td>6W41</td>\n",
       "      <td>333</td>\n",
       "      <td>333</td>\n",
       "      <td>333</td>\n",
       "      <td>S:p.333T&gt;I(8), S:p.333T&gt;K(4), S:p.333T&gt;A(2)</td>\n",
       "      <td>333T&gt;I(8), 333T&gt;K(4), 333T&gt;A(2)</td>\n",
       "      <td>0.163116</td>\n",
       "      <td>#fdd5c4</td>\n",
       "    </tr>\n",
       "    <tr>\n",
       "      <th>1</th>\n",
       "      <td>0.750196</td>\n",
       "      <td>2-acetamido-2-deoxy-beta-D-glucopyranose, 2-ac...</td>\n",
       "      <td>Spike glycoprotein</td>\n",
       "      <td>3.100</td>\n",
       "      <td>6WPS.A</td>\n",
       "      <td>6WPS</td>\n",
       "      <td>333</td>\n",
       "      <td>333</td>\n",
       "      <td>333</td>\n",
       "      <td>S:p.333T&gt;I(8), S:p.333T&gt;K(4), S:p.333T&gt;A(2)</td>\n",
       "      <td>333T&gt;I(8), 333T&gt;K(4), 333T&gt;A(2)</td>\n",
       "      <td>0.163116</td>\n",
       "      <td>#fdd5c4</td>\n",
       "    </tr>\n",
       "    <tr>\n",
       "      <th>2</th>\n",
       "      <td>0.750196</td>\n",
       "      <td>2-acetamido-2-deoxy-beta-D-glucopyranose, 2-ac...</td>\n",
       "      <td>Spike glycoprotein</td>\n",
       "      <td>3.100</td>\n",
       "      <td>6WPS.B</td>\n",
       "      <td>6WPS</td>\n",
       "      <td>333</td>\n",
       "      <td>333</td>\n",
       "      <td>333</td>\n",
       "      <td>S:p.333T&gt;I(8), S:p.333T&gt;K(4), S:p.333T&gt;A(2)</td>\n",
       "      <td>333T&gt;I(8), 333T&gt;K(4), 333T&gt;A(2)</td>\n",
       "      <td>0.163116</td>\n",
       "      <td>#fdd5c4</td>\n",
       "    </tr>\n",
       "    <tr>\n",
       "      <th>3</th>\n",
       "      <td>0.750196</td>\n",
       "      <td>2-acetamido-2-deoxy-beta-D-glucopyranose, 2-ac...</td>\n",
       "      <td>Spike glycoprotein</td>\n",
       "      <td>3.100</td>\n",
       "      <td>6WPS.E</td>\n",
       "      <td>6WPS</td>\n",
       "      <td>333</td>\n",
       "      <td>333</td>\n",
       "      <td>333</td>\n",
       "      <td>S:p.333T&gt;I(8), S:p.333T&gt;K(4), S:p.333T&gt;A(2)</td>\n",
       "      <td>333T&gt;I(8), 333T&gt;K(4), 333T&gt;A(2)</td>\n",
       "      <td>0.163116</td>\n",
       "      <td>#fdd5c4</td>\n",
       "    </tr>\n",
       "    <tr>\n",
       "      <th>4</th>\n",
       "      <td>0.742341</td>\n",
       "      <td>2-acetamido-2-deoxy-beta-D-glucopyranose, 2-ac...</td>\n",
       "      <td>Spike glycoprotein</td>\n",
       "      <td>3.700</td>\n",
       "      <td>6WPT.A</td>\n",
       "      <td>6WPT</td>\n",
       "      <td>333</td>\n",
       "      <td>333</td>\n",
       "      <td>333</td>\n",
       "      <td>S:p.333T&gt;I(8), S:p.333T&gt;K(4), S:p.333T&gt;A(2)</td>\n",
       "      <td>333T&gt;I(8), 333T&gt;K(4), 333T&gt;A(2)</td>\n",
       "      <td>0.163116</td>\n",
       "      <td>#fdd5c4</td>\n",
       "    </tr>\n",
       "  </tbody>\n",
       "</table>\n",
       "</div>"
      ],
      "text/plain": [
       "   coverage                                        description  \\\n",
       "0  0.153181  2-acetamido-2-deoxy-beta-D-glucopyranose, CR30...   \n",
       "1  0.750196  2-acetamido-2-deoxy-beta-D-glucopyranose, 2-ac...   \n",
       "2  0.750196  2-acetamido-2-deoxy-beta-D-glucopyranose, 2-ac...   \n",
       "3  0.750196  2-acetamido-2-deoxy-beta-D-glucopyranose, 2-ac...   \n",
       "4  0.742341  2-acetamido-2-deoxy-beta-D-glucopyranose, 2-ac...   \n",
       "\n",
       "                 name  resolution structureChainId structureId  \\\n",
       "0  Spike glycoprotein       3.084           6W41.C        6W41   \n",
       "1  Spike glycoprotein       3.100           6WPS.A        6WPS   \n",
       "2  Spike glycoprotein       3.100           6WPS.B        6WPS   \n",
       "3  Spike glycoprotein       3.100           6WPS.E        6WPS   \n",
       "4  Spike glycoprotein       3.700           6WPT.A        6WPT   \n",
       "\n",
       "   uniprotPosition pdbPosition  residue  \\\n",
       "0              333         333      333   \n",
       "1              333         333      333   \n",
       "2              333         333      333   \n",
       "3              333         333      333   \n",
       "4              333         333      333   \n",
       "\n",
       "                                   variationId  \\\n",
       "0  S:p.333T>I(8), S:p.333T>K(4), S:p.333T>A(2)   \n",
       "1  S:p.333T>I(8), S:p.333T>K(4), S:p.333T>A(2)   \n",
       "2  S:p.333T>I(8), S:p.333T>K(4), S:p.333T>A(2)   \n",
       "3  S:p.333T>I(8), S:p.333T>K(4), S:p.333T>A(2)   \n",
       "4  S:p.333T>I(8), S:p.333T>K(4), S:p.333T>A(2)   \n",
       "\n",
       "                        annotation     scale    color  \n",
       "0  333T>I(8), 333T>K(4), 333T>A(2)  0.163116  #fdd5c4  \n",
       "1  333T>I(8), 333T>K(4), 333T>A(2)  0.163116  #fdd5c4  \n",
       "2  333T>I(8), 333T>K(4), 333T>A(2)  0.163116  #fdd5c4  \n",
       "3  333T>I(8), 333T>K(4), 333T>A(2)  0.163116  #fdd5c4  \n",
       "4  333T>I(8), 333T>K(4), 333T>A(2)  0.163116  #fdd5c4  "
      ]
     },
     "execution_count": 6,
     "metadata": {},
     "output_type": "execute_result"
    }
   ],
   "source": [
    "pd.set_option('display.max_columns', None)  # show all columns\n",
    "df = pd.read_csv(input_file_name)\n",
    "df['pdbPosition'] = df['pdbPosition'].astype('str')  # PDB residue numbers must be string to handle insertion codes\n",
    "df.head()"
   ]
  },
  {
   "cell_type": "markdown",
   "metadata": {},
   "source": [
    "## Create a list of unique PDB IDs"
   ]
  },
  {
   "cell_type": "code",
   "execution_count": 7,
   "metadata": {
    "scrolled": true
   },
   "outputs": [
    {
     "name": "stdout",
     "output_type": "stream",
     "text": [
      "PDB Ids: ['6W41', '6WPS', '6WPT', '6XCM', '6XCN', '6XDG', '6XE1', '6Z2M', '6ZCZ', '6ZDH', '6ZER', '7A5R', '7A5S', '7BEH', '7BEJ', '7BEP', '7BWJ', '7BYR', '7C01', '7C2L', '7C8W', '7CAC', '7CAI', '7CAK', '7CDI', '7CDJ', '7CHB', '7CHE', '7CHF', '7CHH', '7CHO', '7CHP', '7CHS', '7CM4', '7CWS', '7CZP', '7CZQ', '7CZR', '7CZS', '7CZT', '7CZU', '7CZV', '7CZW', '7CZX', '7CZY', '7CZZ', '7D00', '7D03', '7DK4', '7DPM', '7DX4', '7DZX', '7DZY', '7E8M', '7EAM', '7JV4', '7JV6', '7JVA', '7JVC', '7JX3', '7K43', '7K4N', '7K8S', '7K8T', '7K8U', '7K8V', '7K8W', '7K8X', '7K8Z', '7K90', '7K9Z', '7KKK', '7KKL', '7KLG', '7KLH', '7KML', '7KQB', '7KQE', '7L02', '7L06', '7L09', '7L0N', '7L2D', '7L2E', '7L2F', '7L3N', '7L56', '7LAA', '7LAB', '7LCN', '7LD1', '7LJR', '7LOP', '7LS9', '7LSS', '7LXY', '7LXZ', '7LY2', '7M3I', '7M6D', '7M6E', '7M6F', '7M6G', '7M71', '7M7B', '7M7W', '7MFU', '7MJJ', '7MJK', '7MJL', '7MKL', '7MKM', '7N0G', '7N0H', '7ND3', '7ND4', '7ND5', '7ND7', '7ND8', '7ND9', '7NDA', '7NEH', '7NKT', '7NTC', '6XC2', '6XC3', '6XC4', '6XC7', '6ZH9', '7BEI', '7BEK', '7BEL', '7BEO', '7C8V', '7CAH', '7CH4', '7CH5', '7CHC', '7CJF', '7CWL', '7CWM', '7CWN', '7CWO', '7CWU', '7DEO', '7DET', '7DEU', '7JMO', '7JMW', '7K45', '7K8M', '7KFV', '7KFW', '7KFX', '7KFY', '7KLW', '7KMG', '7KMH', '7KMI', '7KN6', '7KN7', '7KZB', '7LM8', '7MF1', '7MMO', '7NEG', '7NX6', '7NX7', '7NX8', '7NX9', '7NXA', '7NXB', '7B3O', '7BEN', '7JMP', '7JV2', '7D4G', '7L2C', '7LY3', '7M8J', '7LXX', '7LXW', '7LY0', '7M53']\n"
     ]
    }
   ],
   "source": [
    "pdb_ids = list(df.structureId.drop_duplicates())\n",
    "print(\"PDB Ids:\", pdb_ids)"
   ]
  },
  {
   "cell_type": "markdown",
   "metadata": {},
   "source": [
    "## Find all polymer-ligand interactions"
   ]
  },
  {
   "cell_type": "code",
   "execution_count": 8,
   "metadata": {},
   "outputs": [],
   "source": [
    "structures = mmtfReader.download_mmtf_files(pdb_ids)"
   ]
  },
  {
   "cell_type": "code",
   "execution_count": 9,
   "metadata": {},
   "outputs": [
    {
     "name": "stderr",
     "output_type": "stream",
     "text": [
      "                                                                                \r"
     ]
    },
    {
     "data": {
      "text/html": [
       "<div>\n",
       "<style scoped>\n",
       "    .dataframe tbody tr th:only-of-type {\n",
       "        vertical-align: middle;\n",
       "    }\n",
       "\n",
       "    .dataframe tbody tr th {\n",
       "        vertical-align: top;\n",
       "    }\n",
       "\n",
       "    .dataframe thead th {\n",
       "        text-align: right;\n",
       "    }\n",
       "</style>\n",
       "<table border=\"1\" class=\"dataframe\">\n",
       "  <thead>\n",
       "    <tr style=\"text-align: right;\">\n",
       "      <th></th>\n",
       "      <th>structureChainId</th>\n",
       "      <th>queryGroupId</th>\n",
       "      <th>queryChainId</th>\n",
       "      <th>queryGroupNumber</th>\n",
       "      <th>targetGroupId</th>\n",
       "      <th>targetChainId</th>\n",
       "      <th>targetGroupNumber</th>\n",
       "      <th>sequenceIndex</th>\n",
       "      <th>sequence</th>\n",
       "    </tr>\n",
       "  </thead>\n",
       "  <tbody>\n",
       "    <tr>\n",
       "      <th>0</th>\n",
       "      <td>6XC4.Z</td>\n",
       "      <td>NAG</td>\n",
       "      <td>Z</td>\n",
       "      <td>601</td>\n",
       "      <td>GLU</td>\n",
       "      <td>Z</td>\n",
       "      <td>340</td>\n",
       "      <td>21</td>\n",
       "      <td>RVQPTESIVRFPNITNLCPFGEVFNATRFASVYAWNRKRISNCVAD...</td>\n",
       "    </tr>\n",
       "    <tr>\n",
       "      <th>1</th>\n",
       "      <td>6XC4.A</td>\n",
       "      <td>NAG</td>\n",
       "      <td>A</td>\n",
       "      <td>601</td>\n",
       "      <td>ASP</td>\n",
       "      <td>A</td>\n",
       "      <td>364</td>\n",
       "      <td>45</td>\n",
       "      <td>RVQPTESIVRFPNITNLCPFGEVFNATRFASVYAWNRKRISNCVAD...</td>\n",
       "    </tr>\n",
       "    <tr>\n",
       "      <th>2</th>\n",
       "      <td>6XC4.A</td>\n",
       "      <td>NAG</td>\n",
       "      <td>A</td>\n",
       "      <td>601</td>\n",
       "      <td>PHE</td>\n",
       "      <td>A</td>\n",
       "      <td>374</td>\n",
       "      <td>55</td>\n",
       "      <td>RVQPTESIVRFPNITNLCPFGEVFNATRFASVYAWNRKRISNCVAD...</td>\n",
       "    </tr>\n",
       "    <tr>\n",
       "      <th>3</th>\n",
       "      <td>6XC4.A</td>\n",
       "      <td>NAG</td>\n",
       "      <td>A</td>\n",
       "      <td>601</td>\n",
       "      <td>VAL</td>\n",
       "      <td>A</td>\n",
       "      <td>341</td>\n",
       "      <td>22</td>\n",
       "      <td>RVQPTESIVRFPNITNLCPFGEVFNATRFASVYAWNRKRISNCVAD...</td>\n",
       "    </tr>\n",
       "    <tr>\n",
       "      <th>4</th>\n",
       "      <td>6XC4.Z</td>\n",
       "      <td>NAG</td>\n",
       "      <td>Z</td>\n",
       "      <td>601</td>\n",
       "      <td>LEU</td>\n",
       "      <td>Z</td>\n",
       "      <td>368</td>\n",
       "      <td>49</td>\n",
       "      <td>RVQPTESIVRFPNITNLCPFGEVFNATRFASVYAWNRKRISNCVAD...</td>\n",
       "    </tr>\n",
       "  </tbody>\n",
       "</table>\n",
       "</div>"
      ],
      "text/plain": [
       "  structureChainId queryGroupId queryChainId queryGroupNumber targetGroupId  \\\n",
       "0           6XC4.Z          NAG            Z              601           GLU   \n",
       "1           6XC4.A          NAG            A              601           ASP   \n",
       "2           6XC4.A          NAG            A              601           PHE   \n",
       "3           6XC4.A          NAG            A              601           VAL   \n",
       "4           6XC4.Z          NAG            Z              601           LEU   \n",
       "\n",
       "  targetChainId targetGroupNumber  sequenceIndex  \\\n",
       "0             Z               340             21   \n",
       "1             A               364             45   \n",
       "2             A               374             55   \n",
       "3             A               341             22   \n",
       "4             Z               368             49   \n",
       "\n",
       "                                            sequence  \n",
       "0  RVQPTESIVRFPNITNLCPFGEVFNATRFASVYAWNRKRISNCVAD...  \n",
       "1  RVQPTESIVRFPNITNLCPFGEVFNATRFASVYAWNRKRISNCVAD...  \n",
       "2  RVQPTESIVRFPNITNLCPFGEVFNATRFASVYAWNRKRISNCVAD...  \n",
       "3  RVQPTESIVRFPNITNLCPFGEVFNATRFASVYAWNRKRISNCVAD...  \n",
       "4  RVQPTESIVRFPNITNLCPFGEVFNATRFASVYAWNRKRISNCVAD...  "
      ]
     },
     "execution_count": 9,
     "metadata": {},
     "output_type": "execute_result"
    }
   ],
   "source": [
    "interaction_filter = InteractionFilter(distanceCutoff=distance_cutoff)\n",
    "interaction_filter.set_query_groups(False, [\"HOH\", \"DOD\"])  # exclude water interactions\n",
    "\n",
    "interactions = InteractionExtractor().get_ligand_polymer_interactions(structures, interaction_filter, level='group').toPandas()\n",
    "interactions.head()"
   ]
  },
  {
   "cell_type": "markdown",
   "metadata": {},
   "source": [
    "## Filter mutations by joining with the interaction data"
   ]
  },
  {
   "cell_type": "code",
   "execution_count": 10,
   "metadata": {},
   "outputs": [
    {
     "data": {
      "text/html": [
       "<div>\n",
       "<style scoped>\n",
       "    .dataframe tbody tr th:only-of-type {\n",
       "        vertical-align: middle;\n",
       "    }\n",
       "\n",
       "    .dataframe tbody tr th {\n",
       "        vertical-align: top;\n",
       "    }\n",
       "\n",
       "    .dataframe thead th {\n",
       "        text-align: right;\n",
       "    }\n",
       "</style>\n",
       "<table border=\"1\" class=\"dataframe\">\n",
       "  <thead>\n",
       "    <tr style=\"text-align: right;\">\n",
       "      <th></th>\n",
       "      <th>coverage</th>\n",
       "      <th>description</th>\n",
       "      <th>name</th>\n",
       "      <th>resolution</th>\n",
       "      <th>structureChainId</th>\n",
       "      <th>structureId</th>\n",
       "      <th>uniprotPosition</th>\n",
       "      <th>pdbPosition</th>\n",
       "      <th>residue</th>\n",
       "      <th>variationId</th>\n",
       "      <th>annotation</th>\n",
       "      <th>scale</th>\n",
       "      <th>color</th>\n",
       "      <th>queryGroupId</th>\n",
       "      <th>queryChainId</th>\n",
       "      <th>queryGroupNumber</th>\n",
       "      <th>targetGroupId</th>\n",
       "      <th>targetChainId</th>\n",
       "      <th>targetGroupNumber</th>\n",
       "      <th>sequenceIndex</th>\n",
       "      <th>sequence</th>\n",
       "    </tr>\n",
       "  </thead>\n",
       "  <tbody>\n",
       "    <tr>\n",
       "      <th>0</th>\n",
       "      <td>0.750196</td>\n",
       "      <td>2-acetamido-2-deoxy-beta-D-glucopyranose, 2-ac...</td>\n",
       "      <td>Spike glycoprotein</td>\n",
       "      <td>3.1</td>\n",
       "      <td>6WPS.A</td>\n",
       "      <td>6WPS</td>\n",
       "      <td>333</td>\n",
       "      <td>333</td>\n",
       "      <td>333</td>\n",
       "      <td>S:p.333T&gt;I(8), S:p.333T&gt;K(4), S:p.333T&gt;A(2)</td>\n",
       "      <td>333T&gt;I(8), 333T&gt;K(4), 333T&gt;A(2)</td>\n",
       "      <td>0.163116</td>\n",
       "      <td>#fdd5c4</td>\n",
       "      <td>NAG</td>\n",
       "      <td>A</td>\n",
       "      <td>1305</td>\n",
       "      <td>THR</td>\n",
       "      <td>A</td>\n",
       "      <td>333</td>\n",
       "      <td>351</td>\n",
       "      <td>MGILPSPGMPALLSLVSLLSVLLMGCVAETGTQCVNLTTRTQLPPA...</td>\n",
       "    </tr>\n",
       "    <tr>\n",
       "      <th>1</th>\n",
       "      <td>0.750196</td>\n",
       "      <td>2-acetamido-2-deoxy-beta-D-glucopyranose, 2-ac...</td>\n",
       "      <td>Spike glycoprotein</td>\n",
       "      <td>3.1</td>\n",
       "      <td>6WPS.B</td>\n",
       "      <td>6WPS</td>\n",
       "      <td>333</td>\n",
       "      <td>333</td>\n",
       "      <td>333</td>\n",
       "      <td>S:p.333T&gt;I(8), S:p.333T&gt;K(4), S:p.333T&gt;A(2)</td>\n",
       "      <td>333T&gt;I(8), 333T&gt;K(4), 333T&gt;A(2)</td>\n",
       "      <td>0.163116</td>\n",
       "      <td>#fdd5c4</td>\n",
       "      <td>NAG</td>\n",
       "      <td>B</td>\n",
       "      <td>1305</td>\n",
       "      <td>THR</td>\n",
       "      <td>B</td>\n",
       "      <td>333</td>\n",
       "      <td>351</td>\n",
       "      <td>MGILPSPGMPALLSLVSLLSVLLMGCVAETGTQCVNLTTRTQLPPA...</td>\n",
       "    </tr>\n",
       "    <tr>\n",
       "      <th>2</th>\n",
       "      <td>0.750196</td>\n",
       "      <td>2-acetamido-2-deoxy-beta-D-glucopyranose, 2-ac...</td>\n",
       "      <td>Spike glycoprotein</td>\n",
       "      <td>3.1</td>\n",
       "      <td>6WPS.E</td>\n",
       "      <td>6WPS</td>\n",
       "      <td>333</td>\n",
       "      <td>333</td>\n",
       "      <td>333</td>\n",
       "      <td>S:p.333T&gt;I(8), S:p.333T&gt;K(4), S:p.333T&gt;A(2)</td>\n",
       "      <td>333T&gt;I(8), 333T&gt;K(4), 333T&gt;A(2)</td>\n",
       "      <td>0.163116</td>\n",
       "      <td>#fdd5c4</td>\n",
       "      <td>NAG</td>\n",
       "      <td>E</td>\n",
       "      <td>1305</td>\n",
       "      <td>THR</td>\n",
       "      <td>E</td>\n",
       "      <td>333</td>\n",
       "      <td>351</td>\n",
       "      <td>MGILPSPGMPALLSLVSLLSVLLMGCVAETGTQCVNLTTRTQLPPA...</td>\n",
       "    </tr>\n",
       "    <tr>\n",
       "      <th>3</th>\n",
       "      <td>0.736057</td>\n",
       "      <td>2-acetamido-2-deoxy-beta-D-glucopyranose, 2-ac...</td>\n",
       "      <td>Spike glycoprotein</td>\n",
       "      <td>3.7</td>\n",
       "      <td>6WPT.B</td>\n",
       "      <td>6WPT</td>\n",
       "      <td>333</td>\n",
       "      <td>333</td>\n",
       "      <td>333</td>\n",
       "      <td>S:p.333T&gt;I(8), S:p.333T&gt;K(4), S:p.333T&gt;A(2)</td>\n",
       "      <td>333T&gt;I(8), 333T&gt;K(4), 333T&gt;A(2)</td>\n",
       "      <td>0.163116</td>\n",
       "      <td>#fdd5c4</td>\n",
       "      <td>NAG</td>\n",
       "      <td>B</td>\n",
       "      <td>1305</td>\n",
       "      <td>THR</td>\n",
       "      <td>B</td>\n",
       "      <td>333</td>\n",
       "      <td>351</td>\n",
       "      <td>MGILPSPGMPALLSLVSLLSVLLMGCVAETGTQCVNLTTRTQLPPA...</td>\n",
       "    </tr>\n",
       "    <tr>\n",
       "      <th>4</th>\n",
       "      <td>0.747840</td>\n",
       "      <td>2-acetamido-2-deoxy-beta-D-glucopyranose, 2-ac...</td>\n",
       "      <td>Spike glycoprotein</td>\n",
       "      <td>3.7</td>\n",
       "      <td>6WPT.C</td>\n",
       "      <td>6WPT</td>\n",
       "      <td>333</td>\n",
       "      <td>333</td>\n",
       "      <td>333</td>\n",
       "      <td>S:p.333T&gt;I(8), S:p.333T&gt;K(4), S:p.333T&gt;A(2)</td>\n",
       "      <td>333T&gt;I(8), 333T&gt;K(4), 333T&gt;A(2)</td>\n",
       "      <td>0.163116</td>\n",
       "      <td>#fdd5c4</td>\n",
       "      <td>NAG</td>\n",
       "      <td>C</td>\n",
       "      <td>1305</td>\n",
       "      <td>THR</td>\n",
       "      <td>C</td>\n",
       "      <td>333</td>\n",
       "      <td>351</td>\n",
       "      <td>MGILPSPGMPALLSLVSLLSVLLMGCVAETGTQCVNLTTRTQLPPA...</td>\n",
       "    </tr>\n",
       "  </tbody>\n",
       "</table>\n",
       "</div>"
      ],
      "text/plain": [
       "   coverage                                        description  \\\n",
       "0  0.750196  2-acetamido-2-deoxy-beta-D-glucopyranose, 2-ac...   \n",
       "1  0.750196  2-acetamido-2-deoxy-beta-D-glucopyranose, 2-ac...   \n",
       "2  0.750196  2-acetamido-2-deoxy-beta-D-glucopyranose, 2-ac...   \n",
       "3  0.736057  2-acetamido-2-deoxy-beta-D-glucopyranose, 2-ac...   \n",
       "4  0.747840  2-acetamido-2-deoxy-beta-D-glucopyranose, 2-ac...   \n",
       "\n",
       "                 name  resolution structureChainId structureId  \\\n",
       "0  Spike glycoprotein         3.1           6WPS.A        6WPS   \n",
       "1  Spike glycoprotein         3.1           6WPS.B        6WPS   \n",
       "2  Spike glycoprotein         3.1           6WPS.E        6WPS   \n",
       "3  Spike glycoprotein         3.7           6WPT.B        6WPT   \n",
       "4  Spike glycoprotein         3.7           6WPT.C        6WPT   \n",
       "\n",
       "   uniprotPosition pdbPosition  residue  \\\n",
       "0              333         333      333   \n",
       "1              333         333      333   \n",
       "2              333         333      333   \n",
       "3              333         333      333   \n",
       "4              333         333      333   \n",
       "\n",
       "                                   variationId  \\\n",
       "0  S:p.333T>I(8), S:p.333T>K(4), S:p.333T>A(2)   \n",
       "1  S:p.333T>I(8), S:p.333T>K(4), S:p.333T>A(2)   \n",
       "2  S:p.333T>I(8), S:p.333T>K(4), S:p.333T>A(2)   \n",
       "3  S:p.333T>I(8), S:p.333T>K(4), S:p.333T>A(2)   \n",
       "4  S:p.333T>I(8), S:p.333T>K(4), S:p.333T>A(2)   \n",
       "\n",
       "                        annotation     scale    color queryGroupId  \\\n",
       "0  333T>I(8), 333T>K(4), 333T>A(2)  0.163116  #fdd5c4          NAG   \n",
       "1  333T>I(8), 333T>K(4), 333T>A(2)  0.163116  #fdd5c4          NAG   \n",
       "2  333T>I(8), 333T>K(4), 333T>A(2)  0.163116  #fdd5c4          NAG   \n",
       "3  333T>I(8), 333T>K(4), 333T>A(2)  0.163116  #fdd5c4          NAG   \n",
       "4  333T>I(8), 333T>K(4), 333T>A(2)  0.163116  #fdd5c4          NAG   \n",
       "\n",
       "  queryChainId queryGroupNumber targetGroupId targetChainId targetGroupNumber  \\\n",
       "0            A             1305           THR             A               333   \n",
       "1            B             1305           THR             B               333   \n",
       "2            E             1305           THR             E               333   \n",
       "3            B             1305           THR             B               333   \n",
       "4            C             1305           THR             C               333   \n",
       "\n",
       "   sequenceIndex                                           sequence  \n",
       "0            351  MGILPSPGMPALLSLVSLLSVLLMGCVAETGTQCVNLTTRTQLPPA...  \n",
       "1            351  MGILPSPGMPALLSLVSLLSVLLMGCVAETGTQCVNLTTRTQLPPA...  \n",
       "2            351  MGILPSPGMPALLSLVSLLSVLLMGCVAETGTQCVNLTTRTQLPPA...  \n",
       "3            351  MGILPSPGMPALLSLVSLLSVLLMGCVAETGTQCVNLTTRTQLPPA...  \n",
       "4            351  MGILPSPGMPALLSLVSLLSVLLMGCVAETGTQCVNLTTRTQLPPA...  "
      ]
     },
     "execution_count": 10,
     "metadata": {},
     "output_type": "execute_result"
    }
   ],
   "source": [
    "mt = df.merge(interactions, left_on=['structureChainId','pdbPosition'], right_on=['structureChainId','targetGroupNumber'], how='inner')\n",
    "mt.head()"
   ]
  },
  {
   "cell_type": "markdown",
   "metadata": {},
   "source": [
    "## Save protein-ligand mapping"
   ]
  },
  {
   "cell_type": "code",
   "execution_count": 11,
   "metadata": {},
   "outputs": [],
   "source": [
    "mt.to_csv(output_file_name, index=False)"
   ]
  },
  {
   "cell_type": "markdown",
   "metadata": {},
   "source": [
    "## View mutations grouped by protein chain\n",
    "Use the slider to view each protein chain. Turn labels off for an unobstructed view of the mutations. Interacting ligands are rendered as spheres with green carbon atoms."
   ]
  },
  {
   "cell_type": "code",
   "execution_count": 12,
   "metadata": {},
   "outputs": [
    {
     "name": "stdout",
     "output_type": "stream",
     "text": [
      "Chains: ['6W41.C', '6WPS.A', '6WPS.B', '6WPS.E', '6WPT.A', '6WPT.B', '6WPT.C', '6XC2.A', '6XC2.Z', '6XC3.C', '6XC4.A', '6XC4.Z', '6XC7.A', '6XCM.A', '6XCM.B', '6XCM.C', '6XCN.A', '6XCN.C', '6XCN.E', '6XDG.E', '6XE1.E', '6Z2M.A', '6Z2M.E', '6ZCZ.E', '6ZDH.A', '6ZDH.B', '6ZDH.C', '6ZER.A', '6ZER.D', '6ZER.E', '7A5R.A', '7A5R.B', '7A5S.A', '7A5S.B', '7B3O.E', '7BEH.E', '7BEI.E', '7BEJ.E', '7BEK.E', '7BEL.R', '7BEL.X', '7BEN.C', '7BEN.E', '7BEO.R', '7BEO.X', '7BEP.C', '7BEP.E', '7BWJ.E', '7BYR.A', '7BYR.B', '7BYR.C', '7C01.A', '7C01.B', '7C2L.A', '7C2L.B', '7C2L.C', '7C8V.B', '7C8W.B', '7CAC.A', '7CAC.B', '7CAC.C', '7CAI.A', '7CAI.B', '7CAI.C', '7CAK.A', '7CAK.B', '7CAK.C', '7CDI.E', '7CDJ.E', '7CHB.R', '7CHH.A', '7CHH.B', '7CHH.C', '7CHO.A', '7CHO.E', '7CHP.E', '7CHS.E', '7CJF.C', '7CM4.A', '7CWL.A', '7CWL.B', '7CWL.C', '7CWM.A', '7CWM.B', '7CWM.C', '7CWN.A', '7CWN.B', '7CWN.C', '7CWS.O', '7CWS.Q', '7CWS.R', '7CWU.A', '7CWU.B', '7CWU.C', '7CZP.A', '7CZP.B', '7CZP.C', '7CZQ.A', '7CZQ.B', '7CZQ.C', '7CZR.A', '7CZR.B', '7CZR.C', '7CZS.A', '7CZS.B', '7CZS.C', '7CZT.A', '7CZT.B', '7CZT.C', '7CZU.A', '7CZU.B', '7CZU.C', '7CZV.A', '7CZV.B', '7CZV.C', '7CZW.A', '7CZW.B', '7CZW.C', '7CZX.A', '7CZX.B', '7CZX.C', '7CZY.A', '7CZY.B', '7CZY.C', '7CZZ.A', '7CZZ.B', '7CZZ.C', '7D00.A', '7D00.B', '7D00.C', '7D03.A', '7D03.B', '7D03.C', '7DEO.B', '7DEO.D', '7DET.A', '7DET.C', '7DEU.A', '7DPM.C', '7DPM.F', '7DPM.I', '7DPM.L', '7DX4.E', '7E8M.E', '7EAM.A', '7EAM.B', '7JMO.A', '7JMP.A', '7JMW.A', '7JV4.A', '7JV4.B', '7JV4.C', '7JV6.A', '7JV6.B', '7JV6.E', '7JVA.A', '7JVC.A', '7JVC.B', '7JVC.E', '7JX3.R', '7K43.A', '7K43.B', '7K43.E', '7K45.B', '7K4N.A', '7K4N.B', '7K4N.E', '7K8M.E', '7K8S.A', '7K8S.B', '7K8S.C', '7K8T.A', '7K8T.B', '7K8T.C', '7K8U.A', '7K8U.B', '7K8U.C', '7K8V.A', '7K8V.B', '7K8V.C', '7K8W.A', '7K8W.B', '7K8W.G', '7K8X.A', '7K8X.B', '7K8X.C', '7K8Z.A', '7K8Z.B', '7K8Z.C', '7K90.A', '7K90.B', '7K90.C', '7K9Z.E', '7KFV.A', '7KFV.B', '7KFV.E', '7KFW.A', '7KFW.B', '7KFW.E', '7KFX.A', '7KFY.A', '7KKK.A', '7KKK.C', '7KKK.E', '7KKL.A', '7KKL.C', '7KKL.D', '7KLG.A', '7KLG.B', '7KLH.A', '7KLH.B', '7KMH.C', '7KMI.C', '7KML.A', '7KML.B', '7KML.C', '7KN6.A', '7KN7.A', '7KQB.A', '7KQB.B', '7KQB.C', '7KZB.C', '7L02.A', '7L02.B', '7L02.C', '7L06.A', '7L06.B', '7L06.C', '7L09.A', '7L09.B', '7L09.C', '7L0N.R', '7L0N.S', '7L2C.A', '7L2C.B', '7L2D.A', '7L2D.B', '7L2D.C', '7L2E.A', '7L2E.B', '7L2E.C', '7L2F.A', '7L2F.B', '7L2F.C', '7L3N.A', '7L3N.B', '7L3N.C', '7L56.A', '7L56.B', '7L56.C', '7LAA.A', '7LAA.B', '7LAA.C', '7LAB.A', '7LAB.B', '7LAB.C', '7LCN.A', '7LCN.C', '7LCN.K', '7LD1.A', '7LD1.B', '7LD1.C', '7LM8.A', '7LOP.A', '7LOP.Z', '7LS9.A', '7LS9.B', '7LS9.C', '7LSS.A', '7LSS.B', '7LSS.C', '7LXW.A', '7LXX.A', '7LXY.A', '7LXY.B', '7LXY.J', '7LXZ.A', '7LXZ.B', '7LXZ.K', '7LY0.A', '7LY2.A', '7LY2.B', '7LY2.J', '7LY3.A', '7LY3.B', '7M3I.C', '7M3I.R', '7M6D.C', '7M6E.A', '7M6E.B', '7M6E.E', '7M6F.A', '7M6F.B', '7M6F.E', '7M6G.A', '7M6G.B', '7M6G.C', '7M71.A', '7M71.B', '7M7B.A', '7M7W.R', '7M7W.S', '7MF1.A', '7MFU.A', '7MFU.D', '7MJJ.A', '7MJJ.B', '7MJJ.C', '7MJK.A', '7MJK.B', '7MJK.C', '7MJL.A', '7MKL.A', '7MKL.B', '7MKL.C', '7MKM.A', '7MMO.C', '7N0G.A', '7N0G.B', '7N0G.C', '7N0H.A', '7N0H.B', '7N0H.C', '7ND3.A', '7ND3.B', '7ND3.C', '7ND4.A', '7ND4.B', '7ND4.C', '7ND5.A', '7ND5.B', '7ND5.C', '7ND7.A', '7ND7.B', '7ND7.C', '7ND8.A', '7ND8.B', '7ND8.C', '7ND9.A', '7ND9.B', '7ND9.C', '7NDA.A', '7NDA.B', '7NDA.C', '7NEG.E', '7NEH.E', '7NKT.AAA', '7NTC.A', '7NTC.B', '7NTC.C', '7NX6.E', '7NX7.E', '7NX8.E', '7NX9.E', '7NXA.E', '7NXB.E']\n"
     ]
    }
   ],
   "source": [
    "chains = mt.groupby('structureChainId')\n",
    "print(\"Chains:\", list(chains.groups.keys()))"
   ]
  },
  {
   "cell_type": "code",
   "execution_count": 13,
   "metadata": {
    "code_folding": [
     0
    ],
    "jupyter": {
     "source_hidden": true
    }
   },
   "outputs": [],
   "source": [
    "# Setup viewer\n",
    "def view_grouped_mutations(grouped_df, *args):\n",
    "    chainIds = list(grouped_df.groups.keys())\n",
    "\n",
    "    def view3d(show_bio_assembly, show_surface, show_short_label, show_long_label, size, font, logFreq, i):\n",
    "        group = grouped_df.get_group(chainIds[i])\n",
    "        \n",
    "        pdb_id, chain_id = chainIds[i].split('.')\n",
    "        global viewer1\n",
    "        viewer1 = py3Dmol.view(query='pdb:' + pdb_id, options={'doAssembly': show_bio_assembly}, width=size, height=size)\n",
    "\n",
    "        # polymer style\n",
    "        viewer1.setStyle({'cartoon': {'colorscheme': 'chain', 'width': 0.6, 'opacity':0.9}})\n",
    "\n",
    "        # highlight chain of interest in blue\n",
    "        viewer1.setStyle({'chain': chain_id},{'cartoon': {'color': 'blue'}})\n",
    "   \n",
    "        # non-polymer style\n",
    "        viewer1.setStyle({'hetflag': True}, {'stick':{'radius': 0.3, 'singleBond': False}})\n",
    "        \n",
    "        # don't display water molecules\n",
    "        viewer1.setStyle({'resn': ['HOH','DOD']}, {})\n",
    "        \n",
    "        rows = group.shape[0]\n",
    "        for j in range(0, rows):\n",
    "            if group.iloc[j]['scale'] > logFreq:\n",
    "                # interacting residue info\n",
    "                res_num = str(group.iloc[j]['pdbPosition'])\n",
    "                mod_res = {'resi': res_num, 'chain': chain_id}\n",
    "            \n",
    "                # interacting ligand info\n",
    "                lig_id = group.iloc[j]['queryGroupId']\n",
    "                lig_chain = group.iloc[j]['queryChainId']\n",
    "                lig_num = group.iloc[j]['queryGroupNumber']\n",
    "                lig_res = {'resi': lig_num, 'chain': lig_chain}\n",
    "            \n",
    "                col = group.iloc[j]['color']\n",
    "                c_col = col + 'Carbon'\n",
    "                viewer1.addStyle(mod_res, {'stick':{'colorscheme':c_col, 'radius': 0.2}})\n",
    "                viewer1.addStyle(mod_res, {'sphere':{'color':col, 'opacity': 0.6}})   \n",
    "                viewer1.addStyle(lig_res, {'sphere': {'colorscheme': 'greenCarbon'}})\n",
    "            \n",
    "                annotation = group.iloc[j]['annotation']\n",
    "                variationId = group.iloc[j]['variationId']\n",
    "                \n",
    "                if show_short_label:\n",
    "                    label = annotation\n",
    "                if show_long_label:\n",
    "                    label = chain_id + \".\" + str(res_num) + \": \" + variationId\n",
    "                if show_short_label or show_long_label:\n",
    "                    viewer1.addLabel(label, {'fontSize':font,'fontColor': 'black','backgroundColor':'ivory'}, mod_res)\n",
    "                    viewer1.addLabel(lig_id + lig_num, {'fontSize':font}, lig_res)\n",
    "\n",
    "        viewer1.zoomTo({'chain': chain_id})\n",
    "        viewer1.center({'chain': chain_id})\n",
    "        \n",
    "        if show_surface:\n",
    "             viewer1.addSurface(py3Dmol.SES,{'opacity':0.8,'color':'lightblue'},{'chain': chain_id})\n",
    "                \n",
    "        # print header\n",
    "        name = group.iloc[0]['name']\n",
    "        resolution = group.iloc[0]['resolution']\n",
    "        coverage = group.iloc[0]['coverage']\n",
    "        description = group.iloc[0]['description']\n",
    "        print(name)\n",
    "        print()\n",
    "        print(f'PDB Id: {pdb_id}, chain Id: {chain_id}, resolution: {resolution}, sequence coverage: {coverage:.2f}')\n",
    "        print(f'description: {description}')\n",
    "        \n",
    "        # print any specified additional columns from the dataframe\n",
    "        for a in args:\n",
    "            print(a + \": \" + group.iloc[j][a])\n",
    "                \n",
    "        return viewer1.show()\n",
    "\n",
    "    f_widget = IntSlider(value=9, min=5, max=20, description='font size', continuous_update=False)\n",
    "    z_widget = IntSlider(value=750, min=500, max=1200, description='size', continuous_update=False)\n",
    "    s_widget = IntSlider(min=0, max=len(chainIds)-1, description='structure', continuous_update=False)\n",
    "    l_widget = FloatSlider(value=0.5, min=0, max=1, step=0.05, description='logFreq:', disabled=False, \n",
    "                           continuous_update=False, orientation='horizontal', readout=True, readout_format='.2f')\n",
    "    \n",
    "    return interact(view3d, show_bio_assembly=False, show_surface=False, show_short_label=True, show_long_label=False, size=z_widget, \n",
    "                    font=f_widget, logFreq=l_widget, i=s_widget)\n",
    "\n",
    "def view_image1():\n",
    "    return viewer1.png()"
   ]
  },
  {
   "cell_type": "code",
   "execution_count": 14,
   "metadata": {},
   "outputs": [
    {
     "data": {
      "application/vnd.jupyter.widget-view+json": {
       "model_id": "ca0ba1c2c9de4c76843e67d44ffb44fa",
       "version_major": 2,
       "version_minor": 0
      },
      "text/plain": [
       "interactive(children=(Checkbox(value=False, description='show_bio_assembly'), Checkbox(value=False, descriptio…"
      ]
     },
     "metadata": {},
     "output_type": "display_data"
    }
   ],
   "source": [
    "view_grouped_mutations(chains);"
   ]
  },
  {
   "cell_type": "markdown",
   "metadata": {},
   "source": [
    "## View one mutation at a time\n",
    "Use the slider to view each mutation. Surrounding residues within the `distance_cutoff` are rendered as orange sticks. Interacting ligands are rendered as spheres with green carbon atoms."
   ]
  },
  {
   "cell_type": "code",
   "execution_count": 15,
   "metadata": {
    "code_folding": [
     0
    ],
    "jupyter": {
     "source_hidden": true
    }
   },
   "outputs": [],
   "source": [
    "# Setup viewer\n",
    "def view_single_mutation(df, distance_cutoff, *args):\n",
    "\n",
    "    def view3d(show_bio_assembly, show_surface, show_short_label, show_long_label, size, font, logFreq, i):        \n",
    "        pdb_id, chain_id = df.iloc[i]['structureChainId'].split('.')\n",
    "        \n",
    "        global viewer2\n",
    "        viewer2 = py3Dmol.view(query='pdb:' + pdb_id, options={'doAssembly': show_bio_assembly}, width=size, height=size)\n",
    "\n",
    "        # polymer style\n",
    "        viewer2.setStyle({'cartoon': {'colorscheme': 'chain', 'width': 0.6, 'opacity':0.7}})\n",
    "       \n",
    "        # highlight chain of interest in blue\n",
    "        viewer2.setStyle({'chain': chain_id},{'cartoon': {'color': 'blue', 'width': 0.6, 'opacity':0.5}})\n",
    "        \n",
    "        # non-polymer style\n",
    "        viewer2.setStyle({'hetflag': True}, {'stick':{'radius': 0.3, 'singleBond': False}})\n",
    "        \n",
    "        # don't display water molecules\n",
    "        viewer2.setStyle({'resn': ['HOH','DOD']}, {})\n",
    "        \n",
    "        # interacting residue info\n",
    "        res_num = str(df.iloc[i]['pdbPosition'])\n",
    "        mod_res = {'resi': res_num, 'chain': chain_id}\n",
    "        \n",
    "        # interacting ligand info\n",
    "        label = df.iloc[i]['variationId']  \n",
    "        lig_id = df.iloc[i]['queryGroupId']\n",
    "        lig_chain = df.iloc[i]['queryChainId']\n",
    "        lig_num = df.iloc[i]['queryGroupNumber']\n",
    "        lig_res = {'resi': lig_num, 'chain': lig_chain}\n",
    "        lig_label = lig_id + \"-\" + lig_chain + lig_num\n",
    "        \n",
    "        col = df.iloc[i]['color']\n",
    "        c_col = col + 'Carbon'\n",
    "        viewer2.addStyle(mod_res, {'stick':{'colorscheme': c_col, 'radius': 0.2}})\n",
    "        viewer2.addStyle(mod_res, {'sphere':{'color': col, 'opacity': 0.8}})  \n",
    "\n",
    "        # text label\n",
    "        annotation = df.iloc[i]['annotation']\n",
    "        variationId = df.iloc[i]['variationId']\n",
    "                \n",
    "        if show_short_label:\n",
    "            label = annotation\n",
    "        if show_long_label:\n",
    "            label = chain_id + \".\" + str(res_num) + \": \" + variationId\n",
    "        if show_short_label or show_long_label:\n",
    "            viewer2.addLabel(label, {'fontSize':font,'fontColor': 'black','backgroundColor':'ivory', 'opacity': 1.0}, mod_res)    \n",
    "            viewer2.addLabel(lig_label, {'fontSize':font-2}, lig_res)      \n",
    "\n",
    "        # select neigboring residues by distance\n",
    "        surroundings = {'chain': chain_id, 'resi': res_num, 'byres': True, 'expand': distance_cutoff}\n",
    "        \n",
    "        # residues surrounding mutation site\n",
    "        viewer2.addStyle(surroundings,{'stick':{'colorscheme':'orangeCarbon', 'radius': 0.15}})\n",
    "\n",
    "        \n",
    "        # interacting ligand style\n",
    "        viewer2.addStyle(lig_res, {'sphere': {'colorscheme': 'greenCarbon'}})  \n",
    "        \n",
    "        # set style for interacting waters\n",
    "        waters = {'resn': ['HOH','DOD']}\n",
    "        waters.update(surroundings)\n",
    "        viewer2.addStyle(waters,{'sphere':{'color':'orange', 'radius': 0.5}})\n",
    "    \n",
    "        if show_surface:\n",
    "             viewer2.addSurface(py3Dmol.SES, {'opacity':0.8,'color':'lightblue'}, {'chain': chain_id})\n",
    "         \n",
    "        viewer2.zoomTo(surroundings)\n",
    "        viewer2.center(mod_res)\n",
    "        \n",
    "        # print header\n",
    "        print(\"PDB Id:\", pdb_id, \"chain Id:\" , chain_id, \"residue:\", res_num, \"ligand:\", lig_label, \"mutation:\", variationId)\n",
    "        \n",
    "        # print any specified additional columns from the dataframe\n",
    "        for a in args:\n",
    "            print(a + \": \" + df.iloc[i][a])\n",
    "                \n",
    "        return viewer2.show()\n",
    "\n",
    "    f_widget = IntSlider(value=12, min=5, max=20, description='font size', continuous_update=False)\n",
    "    z_widget = IntSlider(value=750, min=500, max=1200, description='size', continuous_update=False)\n",
    "    s_widget = IntSlider(min=0, max=len(df)-1, description='structure', continuous_update=False)\n",
    "    l_widget = FloatSlider(value=0.5, min=0, max=1, step=0.05, description='logFreq:', disabled=False, \n",
    "                           continuous_update=False, orientation='horizontal', readout=True, readout_format='.2f')\n",
    "    \n",
    "    return interact(view3d, show_bio_assembly=False, show_surface=False, show_short_label=True, show_long_label=False, size=z_widget, \n",
    "                    font=f_widget, logFreq=l_widget, i=s_widget)\n",
    "\n",
    "def view_image2():\n",
    "    return viewer2.png()"
   ]
  },
  {
   "cell_type": "code",
   "execution_count": 16,
   "metadata": {},
   "outputs": [],
   "source": [
    "mt_unique = mt.drop_duplicates([\"structureChainId\",\"variationId\",'queryGroupId','queryGroupNumber'])"
   ]
  },
  {
   "cell_type": "code",
   "execution_count": 17,
   "metadata": {},
   "outputs": [
    {
     "data": {
      "application/vnd.jupyter.widget-view+json": {
       "model_id": "a4de557d7c6344a8b379cfca2aa8ba3f",
       "version_major": 2,
       "version_minor": 0
      },
      "text/plain": [
       "interactive(children=(Checkbox(value=False, description='show_bio_assembly'), Checkbox(value=False, descriptio…"
      ]
     },
     "metadata": {},
     "output_type": "display_data"
    }
   ],
   "source": [
    "view_single_mutation(mt_unique, distance_cutoff);"
   ]
  },
  {
   "cell_type": "code",
   "execution_count": 18,
   "metadata": {
    "code_folding": [
     0
    ]
   },
   "outputs": [],
   "source": [
    "# Shutdown Spark\n",
    "spark.stop()"
   ]
  },
  {
   "cell_type": "markdown",
   "metadata": {},
   "source": [
    "## Now run the next step\n",
    "Map mutations occuring at protein-polymer interfaces: [4-MapToDrugInteractions.ipynb](4-MapToDrugInteractions.ipynb)"
   ]
  },
  {
   "cell_type": "code",
   "execution_count": null,
   "metadata": {},
   "outputs": [],
   "source": []
  }
 ],
 "metadata": {
  "kernelspec": {
   "display_name": "Python 3 (ipykernel)",
   "language": "python",
   "name": "python3"
  },
  "language_info": {
   "codemirror_mode": {
    "name": "ipython",
    "version": 3
   },
   "file_extension": ".py",
   "mimetype": "text/x-python",
   "name": "python",
   "nbconvert_exporter": "python",
   "pygments_lexer": "ipython3",
   "version": "3.7.12"
  }
 },
 "nbformat": 4,
 "nbformat_minor": 4
}
