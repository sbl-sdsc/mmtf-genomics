{
 "cells": [
  {
   "cell_type": "markdown",
   "metadata": {},
   "source": [
    "# Maps SARS-CoV-2 Mutations to 3D Protein Structures\n",
    "[Work in progress]\n",
    "\n",
    "This notebook maps mutation frequency of SARS-CoV-2 strains onto 3D protein structures in the [Protein Data Bank](https://www.wwpdb.org/). SARS-CoV2-2 strains and their mutations have been aggregated in the [COVID-19-Net Knowledge Graph](https://github.com/covid-19-net/covid-19-community)."
   ]
  },
  {
   "cell_type": "code",
   "execution_count": 1,
   "metadata": {},
   "outputs": [],
   "source": [
    "import math\n",
    "import pandas as pd\n",
    "import numpy as np\n",
    "import matplotlib.pyplot as plt\n",
    "import matplotlib.colors\n",
    "import matplotlib.cm as cm\n",
    "import ipywidgets as widgets\n",
    "from ipywidgets import interact, IntSlider, FloatSlider, SelectMultiple\n",
    "from py2neo import Graph\n",
    "import py3Dmol"
   ]
  },
  {
   "cell_type": "code",
   "execution_count": 2,
   "metadata": {},
   "outputs": [],
   "source": [
    "pd.options.display.max_rows = None  # display all rows\n",
    "pd.options.display.max_columns = None  # display all columsns"
   ]
  },
  {
   "cell_type": "code",
   "execution_count": 3,
   "metadata": {},
   "outputs": [],
   "source": [
    "output_file_name = 'mutations3d.csv' # mutations mapped to 3D protein structures"
   ]
  },
  {
   "cell_type": "markdown",
   "metadata": {},
   "source": [
    "#### Connect to COVID-19-Community Knowledge Graph\n",
    "[COVID-19-Net Knowledge Graph](https://github.com/covid-19-net/covid-19-community)"
   ]
  },
  {
   "cell_type": "code",
   "execution_count": 4,
   "metadata": {},
   "outputs": [],
   "source": [
    "graph = Graph(\"bolt://132.249.238.185:7687\", user=\"reader\", password=\"demo\")"
   ]
  },
  {
   "cell_type": "markdown",
   "metadata": {},
   "source": [
    "### Get list of SARS-CoV-2 proteins"
   ]
  },
  {
   "cell_type": "code",
   "execution_count": 5,
   "metadata": {},
   "outputs": [],
   "source": [
    "reference_genome = 'refseq:NC_045512' # Wuhan-Hu-1 Genbank reference sequence"
   ]
  },
  {
   "cell_type": "code",
   "execution_count": 6,
   "metadata": {},
   "outputs": [],
   "source": [
    "query = \"\"\"\n",
    "MATCH (r:Strain{id: $reference_genome})-[:HAS_GENE]->(g:Gene)-[:ENCODES]->(p:Protein)\n",
    "      -[:HAS_TERTIARY_STRUCTURE]->(:Chain)-[:IS_PART_OF_STRUCTURE]->(s:Structure)\n",
    "WHERE (g.end - g.start) < 10000 // exclude polyproteins\n",
    "RETURN p.name AS protein, s.description AS description\n",
    "ORDER BY protein\n",
    "\"\"\"\n",
    "structures = graph.run(query, reference_genome=reference_genome).to_data_frame()"
   ]
  },
  {
   "cell_type": "code",
   "execution_count": 7,
   "metadata": {},
   "outputs": [],
   "source": [
    "proteins = structures['protein'].unique()"
   ]
  },
  {
   "cell_type": "code",
   "execution_count": 8,
   "metadata": {},
   "outputs": [],
   "source": [
    "protein_widget = widgets.Dropdown(options=proteins, description='Select protein:', value='Spike glycoprotein',\n",
    "                                  style={'description_width': 'initial'}, )"
   ]
  },
  {
   "cell_type": "markdown",
   "metadata": {},
   "source": [
    "#### Select SARS-CoV-2 Protein"
   ]
  },
  {
   "cell_type": "markdown",
   "metadata": {},
   "source": [
    "##### Specify if protein is a full-length or cleaved protein"
   ]
  },
  {
   "cell_type": "code",
   "execution_count": 9,
   "metadata": {},
   "outputs": [],
   "source": [
    "full_length = 'True'"
   ]
  },
  {
   "cell_type": "code",
   "execution_count": 10,
   "metadata": {},
   "outputs": [
    {
     "data": {
      "application/vnd.jupyter.widget-view+json": {
       "model_id": "338a9fd5acbd47f095793234996e6bd2",
       "version_major": 2,
       "version_minor": 0
      },
      "text/plain": [
       "Dropdown(description='Select protein:', index=15, options=(\"2'-O-methyltransferase\", '3C-like proteinase', 'En…"
      ]
     },
     "metadata": {},
     "output_type": "display_data"
    }
   ],
   "source": [
    "display(protein_widget)"
   ]
  },
  {
   "cell_type": "code",
   "execution_count": 11,
   "metadata": {},
   "outputs": [
    {
     "name": "stdout",
     "output_type": "stream",
     "text": [
      "Protein name: Spike glycoprotein\n"
     ]
    }
   ],
   "source": [
    "protein_name = protein_widget.value\n",
    "print('Protein name:', protein_name)"
   ]
  },
  {
   "cell_type": "code",
   "execution_count": 12,
   "metadata": {},
   "outputs": [],
   "source": [
    "subset = structures.query(f'protein == \"{protein_name}\"')"
   ]
  },
  {
   "cell_type": "code",
   "execution_count": 13,
   "metadata": {},
   "outputs": [],
   "source": [
    "descriptions = list(subset['description'].unique())\n",
    "descriptions.sort()\n",
    "descriptions.insert(0, 'All')"
   ]
  },
  {
   "cell_type": "code",
   "execution_count": 14,
   "metadata": {},
   "outputs": [],
   "source": [
    "description_widget = SelectMultiple(options=descriptions, value=['All'], description='Select subset', \n",
    "                                    layout={'width': 'max-content'}, style={'description_width': 'initial'}, \n",
    "                                    rows=len(descriptions), disabled=False)"
   ]
  },
  {
   "cell_type": "markdown",
   "metadata": {},
   "source": [
    "#### Select a subset of structures to be analyzed\n",
    "The default is All structures. Multiple values can be selected with shift and/or ctrl (or command) pressed and mouse clicks or arrow keys."
   ]
  },
  {
   "cell_type": "code",
   "execution_count": 15,
   "metadata": {},
   "outputs": [
    {
     "data": {
      "application/vnd.jupyter.widget-view+json": {
       "model_id": "86549e1c90bb4b178831df816c58f194",
       "version_major": 2,
       "version_minor": 0
      },
      "text/plain": [
       "SelectMultiple(description='Select subset', index=(0,), layout=Layout(width='max-content'), options=('All', 'A…"
      ]
     },
     "metadata": {},
     "output_type": "display_data"
    }
   ],
   "source": [
    "display(description_widget)"
   ]
  },
  {
   "cell_type": "code",
   "execution_count": 16,
   "metadata": {},
   "outputs": [
    {
     "name": "stdout",
     "output_type": "stream",
     "text": [
      "Selected subset:\n",
      "All\n"
     ]
    }
   ],
   "source": [
    "print(\"Selected subset:\")\n",
    "for value in description_widget.value:\n",
    "    print(value)"
   ]
  },
  {
   "cell_type": "markdown",
   "metadata": {},
   "source": [
    "### Get total number of strains"
   ]
  },
  {
   "cell_type": "code",
   "execution_count": 17,
   "metadata": {},
   "outputs": [],
   "source": [
    "query = \"\"\"\n",
    "MATCH (s:Strain)\n",
    "WHERE s.taxonomyId = 'taxonomy:2697049' AND s.hostTaxonomyId = 'taxonomy:9606'\n",
    "RETURN count(s)\n",
    "\"\"\""
   ]
  },
  {
   "cell_type": "code",
   "execution_count": 18,
   "metadata": {},
   "outputs": [],
   "source": [
    "strains = graph.evaluate(query)"
   ]
  },
  {
   "cell_type": "code",
   "execution_count": 19,
   "metadata": {},
   "outputs": [
    {
     "name": "stdout",
     "output_type": "stream",
     "text": [
      "Total number of human strains: 73188\n"
     ]
    }
   ],
   "source": [
    "print('Total number of human strains:', strains)"
   ]
  },
  {
   "cell_type": "markdown",
   "metadata": {},
   "source": [
    "### Get variants for selected protein"
   ]
  },
  {
   "cell_type": "code",
   "execution_count": 20,
   "metadata": {},
   "outputs": [],
   "source": [
    "query = \"\"\"\n",
    "MATCH (p:Protein{name: $protein_name, fullLength: $full_length})-[:HAS_VARIANT]->(v:Variant{variantConsequence:'missense_variant'})<-[:HAS_VARIANT]-(s:Strain)\n",
    "WHERE s.hostTaxonomyId = 'taxonomy:9606'\n",
    "WITH v.proteinPosition AS residue, count(v.proteinVariant) AS count, \n",
    "     v.proteinVariant + '(' + count(v.proteinVariant) + ')' AS variationId ,\n",
    "     split(v.proteinVariant, ':')[1] + '(' + count(v.proteinVariant) + ')' AS annotation\n",
    "     ORDER by count DESC\n",
    "WITH residue, count, variationId, annotation\n",
    "RETURN residue, collect(variationId) AS variationId, collect(annotation) AS annotation, sum(count) AS count ORDER BY residue\n",
    "\"\"\""
   ]
  },
  {
   "cell_type": "markdown",
   "metadata": {},
   "source": [
    "#### Add mutation annotation to each residue"
   ]
  },
  {
   "cell_type": "code",
   "execution_count": 21,
   "metadata": {},
   "outputs": [],
   "source": [
    "variants = graph.run(query, protein_name=protein_name, full_length=full_length).to_data_frame()"
   ]
  },
  {
   "cell_type": "code",
   "execution_count": 22,
   "metadata": {},
   "outputs": [],
   "source": [
    "variants['variationId'] = variants['variationId'].apply(lambda x: ', '.join(x))\n",
    "variants['annotation'] = variants['annotation'].apply(lambda x: ', '.join(x))"
   ]
  },
  {
   "cell_type": "code",
   "execution_count": 23,
   "metadata": {},
   "outputs": [],
   "source": [
    "variants['annotation'] = variants['annotation'].str.replace('p.', '')"
   ]
  },
  {
   "cell_type": "code",
   "execution_count": 24,
   "metadata": {},
   "outputs": [
    {
     "data": {
      "text/html": [
       "<div>\n",
       "<style scoped>\n",
       "    .dataframe tbody tr th:only-of-type {\n",
       "        vertical-align: middle;\n",
       "    }\n",
       "\n",
       "    .dataframe tbody tr th {\n",
       "        vertical-align: top;\n",
       "    }\n",
       "\n",
       "    .dataframe thead th {\n",
       "        text-align: right;\n",
       "    }\n",
       "</style>\n",
       "<table border=\"1\" class=\"dataframe\">\n",
       "  <thead>\n",
       "    <tr style=\"text-align: right;\">\n",
       "      <th></th>\n",
       "      <th>annotation</th>\n",
       "      <th>count</th>\n",
       "      <th>residue</th>\n",
       "      <th>variationId</th>\n",
       "    </tr>\n",
       "  </thead>\n",
       "  <tbody>\n",
       "    <tr>\n",
       "      <th>0</th>\n",
       "      <td>2F&gt;L(2)</td>\n",
       "      <td>2</td>\n",
       "      <td>2</td>\n",
       "      <td>QHD43416.1:p.2F&gt;L(2)</td>\n",
       "    </tr>\n",
       "    <tr>\n",
       "      <th>1</th>\n",
       "      <td>3V&gt;G(18), 3V&gt;F(2)</td>\n",
       "      <td>20</td>\n",
       "      <td>3</td>\n",
       "      <td>QHD43416.1:p.3V&gt;G(18), QHD43416.1:p.3V&gt;F(2)</td>\n",
       "    </tr>\n",
       "    <tr>\n",
       "      <th>2</th>\n",
       "      <td>4F&gt;S(1)</td>\n",
       "      <td>1</td>\n",
       "      <td>4</td>\n",
       "      <td>QHD43416.1:p.4F&gt;S(1)</td>\n",
       "    </tr>\n",
       "    <tr>\n",
       "      <th>3</th>\n",
       "      <td>5L&gt;F(673), 5L&gt;I(1)</td>\n",
       "      <td>674</td>\n",
       "      <td>5</td>\n",
       "      <td>QHD43416.1:p.5L&gt;F(673), QHD43416.1:p.5L&gt;I(1)</td>\n",
       "    </tr>\n",
       "    <tr>\n",
       "      <th>4</th>\n",
       "      <td>6V&gt;F(55), 6V&gt;I(1)</td>\n",
       "      <td>56</td>\n",
       "      <td>6</td>\n",
       "      <td>QHD43416.1:p.6V&gt;F(55), QHD43416.1:p.6V&gt;I(1)</td>\n",
       "    </tr>\n",
       "  </tbody>\n",
       "</table>\n",
       "</div>"
      ],
      "text/plain": [
       "           annotation  count  residue  \\\n",
       "0             2F>L(2)      2        2   \n",
       "1   3V>G(18), 3V>F(2)     20        3   \n",
       "2             4F>S(1)      1        4   \n",
       "3  5L>F(673), 5L>I(1)    674        5   \n",
       "4   6V>F(55), 6V>I(1)     56        6   \n",
       "\n",
       "                                    variationId  \n",
       "0                          QHD43416.1:p.2F>L(2)  \n",
       "1   QHD43416.1:p.3V>G(18), QHD43416.1:p.3V>F(2)  \n",
       "2                          QHD43416.1:p.4F>S(1)  \n",
       "3  QHD43416.1:p.5L>F(673), QHD43416.1:p.5L>I(1)  \n",
       "4   QHD43416.1:p.6V>F(55), QHD43416.1:p.6V>I(1)  "
      ]
     },
     "execution_count": 24,
     "metadata": {},
     "output_type": "execute_result"
    }
   ],
   "source": [
    "variants.head()"
   ]
  },
  {
   "cell_type": "markdown",
   "metadata": {},
   "source": [
    "#### Create a color scale based on the log mutation frequency"
   ]
  },
  {
   "cell_type": "code",
   "execution_count": 25,
   "metadata": {},
   "outputs": [],
   "source": [
    "variants['scale'] = variants['count'].apply(np.log) / math.log(strains)"
   ]
  },
  {
   "cell_type": "code",
   "execution_count": 26,
   "metadata": {},
   "outputs": [],
   "source": [
    "n_colors = 100\n",
    "colors = cm.Reds(np.linspace(0.0, 1.0, n_colors))\n",
    "col = np.empty(n_colors, dtype=object)\n",
    "\n",
    "for i, color in enumerate(colors):\n",
    "    col[i] = matplotlib.colors.rgb2hex(color)"
   ]
  },
  {
   "cell_type": "code",
   "execution_count": 27,
   "metadata": {},
   "outputs": [],
   "source": [
    "variants['color'] = variants['scale'].apply(lambda x: col[round(x*n_colors)])"
   ]
  },
  {
   "cell_type": "code",
   "execution_count": 28,
   "metadata": {},
   "outputs": [
    {
     "data": {
      "text/html": [
       "<div>\n",
       "<style scoped>\n",
       "    .dataframe tbody tr th:only-of-type {\n",
       "        vertical-align: middle;\n",
       "    }\n",
       "\n",
       "    .dataframe tbody tr th {\n",
       "        vertical-align: top;\n",
       "    }\n",
       "\n",
       "    .dataframe thead th {\n",
       "        text-align: right;\n",
       "    }\n",
       "</style>\n",
       "<table border=\"1\" class=\"dataframe\">\n",
       "  <thead>\n",
       "    <tr style=\"text-align: right;\">\n",
       "      <th></th>\n",
       "      <th>annotation</th>\n",
       "      <th>count</th>\n",
       "      <th>residue</th>\n",
       "      <th>variationId</th>\n",
       "      <th>scale</th>\n",
       "      <th>color</th>\n",
       "    </tr>\n",
       "  </thead>\n",
       "  <tbody>\n",
       "    <tr>\n",
       "      <th>0</th>\n",
       "      <td>2F&gt;L(2)</td>\n",
       "      <td>2</td>\n",
       "      <td>2</td>\n",
       "      <td>QHD43416.1:p.2F&gt;L(2)</td>\n",
       "      <td>0.061884</td>\n",
       "      <td>#ffebe2</td>\n",
       "    </tr>\n",
       "    <tr>\n",
       "      <th>1</th>\n",
       "      <td>3V&gt;G(18), 3V&gt;F(2)</td>\n",
       "      <td>20</td>\n",
       "      <td>3</td>\n",
       "      <td>QHD43416.1:p.3V&gt;G(18), QHD43416.1:p.3V&gt;F(2)</td>\n",
       "      <td>0.267457</td>\n",
       "      <td>#fcb499</td>\n",
       "    </tr>\n",
       "    <tr>\n",
       "      <th>2</th>\n",
       "      <td>4F&gt;S(1)</td>\n",
       "      <td>1</td>\n",
       "      <td>4</td>\n",
       "      <td>QHD43416.1:p.4F&gt;S(1)</td>\n",
       "      <td>0.000000</td>\n",
       "      <td>#fff5f0</td>\n",
       "    </tr>\n",
       "    <tr>\n",
       "      <th>3</th>\n",
       "      <td>5L&gt;F(673), 5L&gt;I(1)</td>\n",
       "      <td>674</td>\n",
       "      <td>5</td>\n",
       "      <td>QHD43416.1:p.5L&gt;F(673), QHD43416.1:p.5L&gt;I(1)</td>\n",
       "      <td>0.581498</td>\n",
       "      <td>#f34a36</td>\n",
       "    </tr>\n",
       "    <tr>\n",
       "      <th>4</th>\n",
       "      <td>6V&gt;F(55), 6V&gt;I(1)</td>\n",
       "      <td>56</td>\n",
       "      <td>6</td>\n",
       "      <td>QHD43416.1:p.6V&gt;F(55), QHD43416.1:p.6V&gt;I(1)</td>\n",
       "      <td>0.359381</td>\n",
       "      <td>#fc9576</td>\n",
       "    </tr>\n",
       "  </tbody>\n",
       "</table>\n",
       "</div>"
      ],
      "text/plain": [
       "           annotation  count  residue  \\\n",
       "0             2F>L(2)      2        2   \n",
       "1   3V>G(18), 3V>F(2)     20        3   \n",
       "2             4F>S(1)      1        4   \n",
       "3  5L>F(673), 5L>I(1)    674        5   \n",
       "4   6V>F(55), 6V>I(1)     56        6   \n",
       "\n",
       "                                    variationId     scale    color  \n",
       "0                          QHD43416.1:p.2F>L(2)  0.061884  #ffebe2  \n",
       "1   QHD43416.1:p.3V>G(18), QHD43416.1:p.3V>F(2)  0.267457  #fcb499  \n",
       "2                          QHD43416.1:p.4F>S(1)  0.000000  #fff5f0  \n",
       "3  QHD43416.1:p.5L>F(673), QHD43416.1:p.5L>I(1)  0.581498  #f34a36  \n",
       "4   QHD43416.1:p.6V>F(55), QHD43416.1:p.6V>I(1)  0.359381  #fc9576  "
      ]
     },
     "execution_count": 28,
     "metadata": {},
     "output_type": "execute_result"
    }
   ],
   "source": [
    "variants.head()"
   ]
  },
  {
   "cell_type": "markdown",
   "metadata": {},
   "source": [
    "### Get PDB structures for selected protein"
   ]
  },
  {
   "cell_type": "code",
   "execution_count": 29,
   "metadata": {},
   "outputs": [],
   "source": [
    "query = \"\"\"\n",
    "MATCH (p:Protein{name: $protein_name})-[h:HAS_TERTIARY_STRUCTURE]->(c:Chain)-[:IS_PART_OF_STRUCTURE]->(s:Structure)\n",
    "RETURN p.name AS name, p.start, p.end, c.name AS structureChainId, c.uniprotStart, c.uniprotEnd, c.pdbStart, c.pdbEnd, s.resolution AS resolution, s.description AS description, h.coverage AS coverage\n",
    "ORDER BY resolution, coverage DESC\n",
    "\"\"\""
   ]
  },
  {
   "cell_type": "code",
   "execution_count": 30,
   "metadata": {},
   "outputs": [],
   "source": [
    "chains = graph.run(query, protein_name=protein_name).to_data_frame()"
   ]
  },
  {
   "cell_type": "code",
   "execution_count": 31,
   "metadata": {},
   "outputs": [
    {
     "name": "stdout",
     "output_type": "stream",
     "text": [
      "All\n",
      "all\n"
     ]
    }
   ],
   "source": [
    "print(description_widget.value[0])\n",
    "if description_widget.value[0] != 'All':\n",
    "    print(\"Selecting subset:\", description_widget.value)\n",
    "    chains = chains.query(f'description in {description_widget.value}')\n",
    "else:\n",
    "    print('all')"
   ]
  },
  {
   "cell_type": "code",
   "execution_count": 32,
   "metadata": {},
   "outputs": [],
   "source": [
    "chains['structureChainId'] = chains['structureChainId'].str[4:]"
   ]
  },
  {
   "cell_type": "code",
   "execution_count": 33,
   "metadata": {},
   "outputs": [],
   "source": [
    "chains['structureId'] = chains['structureChainId'].str[:4]"
   ]
  },
  {
   "cell_type": "code",
   "execution_count": 34,
   "metadata": {},
   "outputs": [
    {
     "data": {
      "text/html": [
       "<div>\n",
       "<style scoped>\n",
       "    .dataframe tbody tr th:only-of-type {\n",
       "        vertical-align: middle;\n",
       "    }\n",
       "\n",
       "    .dataframe tbody tr th {\n",
       "        vertical-align: top;\n",
       "    }\n",
       "\n",
       "    .dataframe thead th {\n",
       "        text-align: right;\n",
       "    }\n",
       "</style>\n",
       "<table border=\"1\" class=\"dataframe\">\n",
       "  <thead>\n",
       "    <tr style=\"text-align: right;\">\n",
       "      <th></th>\n",
       "      <th>c.pdbEnd</th>\n",
       "      <th>c.pdbStart</th>\n",
       "      <th>c.uniprotEnd</th>\n",
       "      <th>c.uniprotStart</th>\n",
       "      <th>coverage</th>\n",
       "      <th>description</th>\n",
       "      <th>name</th>\n",
       "      <th>p.end</th>\n",
       "      <th>p.start</th>\n",
       "      <th>resolution</th>\n",
       "      <th>structureChainId</th>\n",
       "      <th>structureId</th>\n",
       "    </tr>\n",
       "  </thead>\n",
       "  <tbody>\n",
       "    <tr>\n",
       "      <th>0</th>\n",
       "      <td>[966]</td>\n",
       "      <td>[917]</td>\n",
       "      <td>[966]</td>\n",
       "      <td>[917]</td>\n",
       "      <td>0.039651</td>\n",
       "      <td>spike protein</td>\n",
       "      <td>Spike glycoprotein</td>\n",
       "      <td>1273</td>\n",
       "      <td>13</td>\n",
       "      <td>1.50</td>\n",
       "      <td>6M1V.A</td>\n",
       "      <td>6M1V</td>\n",
       "    </tr>\n",
       "    <tr>\n",
       "      <th>1</th>\n",
       "      <td>[966]</td>\n",
       "      <td>[917]</td>\n",
       "      <td>[966]</td>\n",
       "      <td>[917]</td>\n",
       "      <td>0.039277</td>\n",
       "      <td>spike protein</td>\n",
       "      <td>Spike glycoprotein</td>\n",
       "      <td>1273</td>\n",
       "      <td>1</td>\n",
       "      <td>1.50</td>\n",
       "      <td>6M1V.A</td>\n",
       "      <td>6M1V</td>\n",
       "    </tr>\n",
       "    <tr>\n",
       "      <th>2</th>\n",
       "      <td>[359, 369, 384, 516]</td>\n",
       "      <td>[338, 366, 371, 392]</td>\n",
       "      <td>[359, 369, 384, 516]</td>\n",
       "      <td>[338, 366, 371, 392]</td>\n",
       "      <td>0.130849</td>\n",
       "      <td>Spike protein S1, COVA2-39 heavy chain, COVA2-...</td>\n",
       "      <td>Spike glycoprotein</td>\n",
       "      <td>1273</td>\n",
       "      <td>13</td>\n",
       "      <td>1.71</td>\n",
       "      <td>7JMP.A</td>\n",
       "      <td>7JMP</td>\n",
       "    </tr>\n",
       "    <tr>\n",
       "      <th>3</th>\n",
       "      <td>[359, 369, 384, 516]</td>\n",
       "      <td>[338, 366, 371, 392]</td>\n",
       "      <td>[359, 369, 384, 516]</td>\n",
       "      <td>[338, 366, 371, 392]</td>\n",
       "      <td>0.129615</td>\n",
       "      <td>Spike protein S1, COVA2-39 heavy chain, COVA2-...</td>\n",
       "      <td>Spike glycoprotein</td>\n",
       "      <td>1273</td>\n",
       "      <td>1</td>\n",
       "      <td>1.71</td>\n",
       "      <td>7JMP.A</td>\n",
       "      <td>7JMP</td>\n",
       "    </tr>\n",
       "    <tr>\n",
       "      <th>4</th>\n",
       "      <td>[528]</td>\n",
       "      <td>[334]</td>\n",
       "      <td>[528]</td>\n",
       "      <td>[334]</td>\n",
       "      <td>0.154639</td>\n",
       "      <td>Spike glycoprotein, Nanobody H11-D4</td>\n",
       "      <td>Spike glycoprotein</td>\n",
       "      <td>1273</td>\n",
       "      <td>13</td>\n",
       "      <td>1.80</td>\n",
       "      <td>6YZ5.E</td>\n",
       "      <td>6YZ5</td>\n",
       "    </tr>\n",
       "  </tbody>\n",
       "</table>\n",
       "</div>"
      ],
      "text/plain": [
       "               c.pdbEnd            c.pdbStart          c.uniprotEnd  \\\n",
       "0                 [966]                 [917]                 [966]   \n",
       "1                 [966]                 [917]                 [966]   \n",
       "2  [359, 369, 384, 516]  [338, 366, 371, 392]  [359, 369, 384, 516]   \n",
       "3  [359, 369, 384, 516]  [338, 366, 371, 392]  [359, 369, 384, 516]   \n",
       "4                 [528]                 [334]                 [528]   \n",
       "\n",
       "         c.uniprotStart  coverage  \\\n",
       "0                 [917]  0.039651   \n",
       "1                 [917]  0.039277   \n",
       "2  [338, 366, 371, 392]  0.130849   \n",
       "3  [338, 366, 371, 392]  0.129615   \n",
       "4                 [334]  0.154639   \n",
       "\n",
       "                                         description                name  \\\n",
       "0                                      spike protein  Spike glycoprotein   \n",
       "1                                      spike protein  Spike glycoprotein   \n",
       "2  Spike protein S1, COVA2-39 heavy chain, COVA2-...  Spike glycoprotein   \n",
       "3  Spike protein S1, COVA2-39 heavy chain, COVA2-...  Spike glycoprotein   \n",
       "4                Spike glycoprotein, Nanobody H11-D4  Spike glycoprotein   \n",
       "\n",
       "   p.end  p.start  resolution structureChainId structureId  \n",
       "0   1273       13        1.50           6M1V.A        6M1V  \n",
       "1   1273        1        1.50           6M1V.A        6M1V  \n",
       "2   1273       13        1.71           7JMP.A        7JMP  \n",
       "3   1273        1        1.71           7JMP.A        7JMP  \n",
       "4   1273       13        1.80           6YZ5.E        6YZ5  "
      ]
     },
     "execution_count": 34,
     "metadata": {},
     "output_type": "execute_result"
    }
   ],
   "source": [
    "chains.head()"
   ]
  },
  {
   "cell_type": "code",
   "execution_count": 35,
   "metadata": {},
   "outputs": [],
   "source": [
    "chains.drop_duplicates(subset=['structureChainId'], inplace=True)\n",
    "chains.sort_values(by=['structureChainId'], inplace=True)"
   ]
  },
  {
   "cell_type": "markdown",
   "metadata": {},
   "source": [
    "#### Map uniprot residue numbers to PDB residue numbers"
   ]
  },
  {
   "cell_type": "code",
   "execution_count": 36,
   "metadata": {
    "jupyter": {
     "source_hidden": true
    }
   },
   "outputs": [],
   "source": [
    "def uniprot_to_pdb_mapping(row):\n",
    "    mapping = dict()\n",
    "    for (us,ue, ps, pe) in zip(row['c.uniprotStart'], row['c.uniprotEnd'], row['c.pdbStart'], row['c.pdbEnd']):\n",
    "        ps = int(ps)\n",
    "        pe = int(pe)\n",
    "        if (ue-us != pe-ps):\n",
    "            print('length mismatch:', row['structureChainId'], ue-us, pe-ps)\n",
    "        else:\n",
    "            offset = ps - us\n",
    "            for v in range(us, ue+1):\n",
    "                mapping[v] = offset + v\n",
    "                \n",
    "    #print(mapping)\n",
    "    return mapping"
   ]
  },
  {
   "cell_type": "code",
   "execution_count": 37,
   "metadata": {},
   "outputs": [],
   "source": [
    "chains['mapping'] = chains.apply(lambda row: uniprot_to_pdb_mapping(row), axis=1)"
   ]
  },
  {
   "cell_type": "markdown",
   "metadata": {},
   "source": [
    "### Visualize mutation sites\n",
    "\n",
    "Mutations are mapped onto protein chains for available 3D protein structures.\n",
    "\n",
    "Display options:\n",
    "\n",
    "|||\n",
    "|:-|:-|\n",
    "| *show_bio_assembly* | Toggle display of the biologically relevant quaternary structure |\n",
    "| *show_surface* | Toggle surface for protein chain |\n",
    "| *show_annotations* | Toggle display of mutation information<br>{PDBId}.{chainId}.{PDBResidue}: {UniProtResidue}{aminoAcid1}>{aminoAcid2}(# observations)<br>Example: 6Z43.A.614: 614D>G(58984), 614D>N(6) |\n",
    "| *size* | Change size of visualization |\n",
    "| *font* | Change font size of annotations |\n",
    "| *logFreq* | Change minimum threshold to display mutations based on normalized log of mutation frequency [0.0 - 1.0]|\n",
    "| *structure* | Move slider to browse through available structures |"
   ]
  },
  {
   "cell_type": "code",
   "execution_count": 38,
   "metadata": {
    "jupyter": {
     "source_hidden": true
    }
   },
   "outputs": [],
   "source": [
    "# Setup viewer\n",
    "def view_mutations(df, variants, *args):\n",
    "    chainIds = list(df['structureChainId'])\n",
    "\n",
    "    def view3d(show_bio_assembly, show_surface, show_short_label, show_long_label, size, font, logFreq, i): \n",
    "        pdb_id, chain_id = chainIds[i].split('.')\n",
    "        global viewer1\n",
    "        viewer1 = py3Dmol.view(query='pdb:' + pdb_id, options={'doAssembly': show_bio_assembly}, width=size, height=size)\n",
    "\n",
    "        # polymer style\n",
    "        viewer1.setStyle({'cartoon': {'colorscheme': 'chain', 'width': 0.6, 'opacity':0.8}})\n",
    "\n",
    "        # highlight chain of interest in blue\n",
    "        viewer1.setStyle({'chain': chain_id},{'cartoon': {'color': 'blue'}})\n",
    "        \n",
    "        # non-polymer style\n",
    "        viewer1.setStyle({'hetflag': True}, {'stick':{'radius': 0.3, 'singleBond': False, 'colorscheme': 'greenCarbon'}})\n",
    "        \n",
    "        mapping = df['mapping'].iloc[i]\n",
    "\n",
    "        for row in variants.itertuples():\n",
    "            # get PDB residue mapping from a UniProt residue number\n",
    "            res_num = mapping.get(row.residue, 0)\n",
    "            col = row.color\n",
    "            if res_num > 0 and row.scale > logFreq:\n",
    "                mut_res = {'resi': res_num, 'chain': chain_id}\n",
    "                viewer1.addStyle(mut_res, {'sphere':{'color':col, 'opacity': 1.0}}) \n",
    "\n",
    "                if show_short_label:\n",
    "                    label = row.annotation\n",
    "                if show_long_label:\n",
    "                    label = chainIds[i] + \".\" + str(res_num) + \": \" + row.variationId\n",
    "                if show_short_label or show_long_label:\n",
    "                    viewer1.addLabel(label, {'fontSize':font,'fontColor': 'black','backgroundColor':'ivory', 'opacity': 1.0}, {'resi': res_num, 'chain': chain_id})\n",
    "\n",
    "        description = df['description'].iloc[i]\n",
    "        resolution = df['resolution'].iloc[i]\n",
    "        coverage = df['coverage'].iloc[i]\n",
    "        name = df['name'].iloc[i]\n",
    "        \n",
    "        print(name)\n",
    "        print()\n",
    "        print(f'PDB Id: {pdb_id}, chain Id: {chain_id}, resolution: {resolution}, sequence coverage: {coverage:.2f}')\n",
    "        print(f'description: {description}')\n",
    "        \n",
    "        # print any specified additional columns from the dataframe\n",
    "        for a in args:\n",
    "            print(a + \": \" + df.iloc[i][a])\n",
    "\n",
    "        viewer1.zoomTo({'chain': chain_id})\n",
    "        viewer1.center({'chain': chain_id})\n",
    "        \n",
    "        if show_surface:\n",
    "             viewer1.addSurface(py3Dmol.SES,{'opacity':0.8,'color':'lightblue'},{'chain': chain_id})\n",
    "\n",
    "        return viewer1.show()\n",
    "       \n",
    "    f_widget = IntSlider(value=9, min=5, max=20, description='font size', continuous_update=False)\n",
    "    z_widget = IntSlider(value=750, min=500, max=1200, description='size', continuous_update=False)\n",
    "    s_widget = IntSlider(min=0, max=len(chainIds)-1, description='structure', continuous_update=False)\n",
    "    l_widget = FloatSlider(value=0.5, min=0, max=1, step=0.05, description='logFreq:', \n",
    "                           continuous_update=False, orientation='horizontal', readout=True, readout_format='.2f')\n",
    "    \n",
    "    \n",
    "    return interact(view3d, show_bio_assembly=False, show_surface=False, show_short_label=True, show_long_label=False, size=z_widget, font=f_widget, logFreq=l_widget, i=s_widget)\n",
    "\n",
    "def view_image1():\n",
    "    return viewer1.png()"
   ]
  },
  {
   "cell_type": "code",
   "execution_count": 39,
   "metadata": {},
   "outputs": [
    {
     "data": {
      "application/vnd.jupyter.widget-view+json": {
       "model_id": "e0ab3da534344a60aba4736cd3cb33ae",
       "version_major": 2,
       "version_minor": 0
      },
      "text/plain": [
       "interactive(children=(Checkbox(value=False, description='show_bio_assembly'), Checkbox(value=False, descriptio…"
      ]
     },
     "metadata": {},
     "output_type": "display_data"
    }
   ],
   "source": [
    "view_mutations(chains, variants);"
   ]
  },
  {
   "cell_type": "code",
   "execution_count": 40,
   "metadata": {
    "jupyter": {
     "source_hidden": true
    }
   },
   "outputs": [],
   "source": [
    "# https://stackoverflow.com/questions/32468402/how-to-explode-a-list-inside-a-dataframe-cell-into-separate-rows\n",
    "import copy\n",
    "\n",
    "def pandas_explode(df, column_to_explode):\n",
    "    \"\"\"\n",
    "    Similar to Hive's EXPLODE function, take a column with iterable elements, and flatten the iterable to one element \n",
    "    per observation in the output table\n",
    "\n",
    "    :param df: A dataframe to explod\n",
    "    :type df: pandas.DataFrame\n",
    "    :param column_to_explode: \n",
    "    :type column_to_explode: str\n",
    "    :return: An exploded data frame\n",
    "    :rtype: pandas.DataFrame\n",
    "    \"\"\"\n",
    "\n",
    "    # Create a list of new observations\n",
    "    new_observations = list()\n",
    "\n",
    "    # Iterate through existing observations\n",
    "    for row in df.to_dict(orient='records'):\n",
    "\n",
    "        # Take out the exploding iterable\n",
    "        explode_values = row[column_to_explode]\n",
    "        del row[column_to_explode]\n",
    "\n",
    "        # Create a new observation for every entry in the exploding iterable & add all of the other columns\n",
    "        for explode_value in explode_values.items():\n",
    "\n",
    "            # Deep copy existing observation\n",
    "            new_observation = copy.deepcopy(row)\n",
    "\n",
    "            # Add one (newly flattened) value from exploding iterable\n",
    "            new_observation[column_to_explode] = explode_value\n",
    "\n",
    "            # Add to the list of new observations\n",
    "            new_observations.append(new_observation)\n",
    "\n",
    "    # Create a DataFrame\n",
    "    return_df = pd.DataFrame(new_observations)\n",
    "\n",
    "    # Return\n",
    "    return return_df"
   ]
  },
  {
   "cell_type": "markdown",
   "metadata": {},
   "source": [
    "### Expand chains into residues"
   ]
  },
  {
   "cell_type": "code",
   "execution_count": 41,
   "metadata": {},
   "outputs": [],
   "source": [
    "residues = pandas_explode(chains, 'mapping')\n",
    "residues['uniprotPosition'] = residues['mapping'].apply(lambda x: x[0])\n",
    "residues['pdbPosition'] = residues['mapping'].apply(lambda x: x[1])\n",
    "residues.drop(columns='mapping', inplace=True)"
   ]
  },
  {
   "cell_type": "code",
   "execution_count": 42,
   "metadata": {},
   "outputs": [],
   "source": [
    "residues = residues.drop(columns=['c.pdbEnd', 'c.pdbStart', 'c.uniprotEnd', 'c.uniprotStart', 'p.end', 'p.start'])"
   ]
  },
  {
   "cell_type": "code",
   "execution_count": 43,
   "metadata": {},
   "outputs": [
    {
     "data": {
      "text/html": [
       "<div>\n",
       "<style scoped>\n",
       "    .dataframe tbody tr th:only-of-type {\n",
       "        vertical-align: middle;\n",
       "    }\n",
       "\n",
       "    .dataframe tbody tr th {\n",
       "        vertical-align: top;\n",
       "    }\n",
       "\n",
       "    .dataframe thead th {\n",
       "        text-align: right;\n",
       "    }\n",
       "</style>\n",
       "<table border=\"1\" class=\"dataframe\">\n",
       "  <thead>\n",
       "    <tr style=\"text-align: right;\">\n",
       "      <th></th>\n",
       "      <th>coverage</th>\n",
       "      <th>description</th>\n",
       "      <th>name</th>\n",
       "      <th>resolution</th>\n",
       "      <th>structureChainId</th>\n",
       "      <th>structureId</th>\n",
       "      <th>uniprotPosition</th>\n",
       "      <th>pdbPosition</th>\n",
       "    </tr>\n",
       "  </thead>\n",
       "  <tbody>\n",
       "    <tr>\n",
       "      <th>0</th>\n",
       "      <td>0.026963</td>\n",
       "      <td>Spike protein S2</td>\n",
       "      <td>Spike glycoprotein</td>\n",
       "      <td>2.47</td>\n",
       "      <td>6LVN.A</td>\n",
       "      <td>6LVN</td>\n",
       "      <td>1169</td>\n",
       "      <td>2</td>\n",
       "    </tr>\n",
       "    <tr>\n",
       "      <th>1</th>\n",
       "      <td>0.026963</td>\n",
       "      <td>Spike protein S2</td>\n",
       "      <td>Spike glycoprotein</td>\n",
       "      <td>2.47</td>\n",
       "      <td>6LVN.A</td>\n",
       "      <td>6LVN</td>\n",
       "      <td>1170</td>\n",
       "      <td>3</td>\n",
       "    </tr>\n",
       "    <tr>\n",
       "      <th>2</th>\n",
       "      <td>0.026963</td>\n",
       "      <td>Spike protein S2</td>\n",
       "      <td>Spike glycoprotein</td>\n",
       "      <td>2.47</td>\n",
       "      <td>6LVN.A</td>\n",
       "      <td>6LVN</td>\n",
       "      <td>1171</td>\n",
       "      <td>4</td>\n",
       "    </tr>\n",
       "    <tr>\n",
       "      <th>3</th>\n",
       "      <td>0.026963</td>\n",
       "      <td>Spike protein S2</td>\n",
       "      <td>Spike glycoprotein</td>\n",
       "      <td>2.47</td>\n",
       "      <td>6LVN.A</td>\n",
       "      <td>6LVN</td>\n",
       "      <td>1172</td>\n",
       "      <td>5</td>\n",
       "    </tr>\n",
       "    <tr>\n",
       "      <th>4</th>\n",
       "      <td>0.026963</td>\n",
       "      <td>Spike protein S2</td>\n",
       "      <td>Spike glycoprotein</td>\n",
       "      <td>2.47</td>\n",
       "      <td>6LVN.A</td>\n",
       "      <td>6LVN</td>\n",
       "      <td>1173</td>\n",
       "      <td>6</td>\n",
       "    </tr>\n",
       "    <tr>\n",
       "      <th>5</th>\n",
       "      <td>0.026963</td>\n",
       "      <td>Spike protein S2</td>\n",
       "      <td>Spike glycoprotein</td>\n",
       "      <td>2.47</td>\n",
       "      <td>6LVN.A</td>\n",
       "      <td>6LVN</td>\n",
       "      <td>1174</td>\n",
       "      <td>7</td>\n",
       "    </tr>\n",
       "    <tr>\n",
       "      <th>6</th>\n",
       "      <td>0.026963</td>\n",
       "      <td>Spike protein S2</td>\n",
       "      <td>Spike glycoprotein</td>\n",
       "      <td>2.47</td>\n",
       "      <td>6LVN.A</td>\n",
       "      <td>6LVN</td>\n",
       "      <td>1175</td>\n",
       "      <td>8</td>\n",
       "    </tr>\n",
       "    <tr>\n",
       "      <th>7</th>\n",
       "      <td>0.026963</td>\n",
       "      <td>Spike protein S2</td>\n",
       "      <td>Spike glycoprotein</td>\n",
       "      <td>2.47</td>\n",
       "      <td>6LVN.A</td>\n",
       "      <td>6LVN</td>\n",
       "      <td>1176</td>\n",
       "      <td>9</td>\n",
       "    </tr>\n",
       "    <tr>\n",
       "      <th>8</th>\n",
       "      <td>0.026963</td>\n",
       "      <td>Spike protein S2</td>\n",
       "      <td>Spike glycoprotein</td>\n",
       "      <td>2.47</td>\n",
       "      <td>6LVN.A</td>\n",
       "      <td>6LVN</td>\n",
       "      <td>1177</td>\n",
       "      <td>10</td>\n",
       "    </tr>\n",
       "    <tr>\n",
       "      <th>9</th>\n",
       "      <td>0.026963</td>\n",
       "      <td>Spike protein S2</td>\n",
       "      <td>Spike glycoprotein</td>\n",
       "      <td>2.47</td>\n",
       "      <td>6LVN.A</td>\n",
       "      <td>6LVN</td>\n",
       "      <td>1178</td>\n",
       "      <td>11</td>\n",
       "    </tr>\n",
       "  </tbody>\n",
       "</table>\n",
       "</div>"
      ],
      "text/plain": [
       "   coverage       description                name  resolution  \\\n",
       "0  0.026963  Spike protein S2  Spike glycoprotein        2.47   \n",
       "1  0.026963  Spike protein S2  Spike glycoprotein        2.47   \n",
       "2  0.026963  Spike protein S2  Spike glycoprotein        2.47   \n",
       "3  0.026963  Spike protein S2  Spike glycoprotein        2.47   \n",
       "4  0.026963  Spike protein S2  Spike glycoprotein        2.47   \n",
       "5  0.026963  Spike protein S2  Spike glycoprotein        2.47   \n",
       "6  0.026963  Spike protein S2  Spike glycoprotein        2.47   \n",
       "7  0.026963  Spike protein S2  Spike glycoprotein        2.47   \n",
       "8  0.026963  Spike protein S2  Spike glycoprotein        2.47   \n",
       "9  0.026963  Spike protein S2  Spike glycoprotein        2.47   \n",
       "\n",
       "  structureChainId structureId  uniprotPosition  pdbPosition  \n",
       "0           6LVN.A        6LVN             1169            2  \n",
       "1           6LVN.A        6LVN             1170            3  \n",
       "2           6LVN.A        6LVN             1171            4  \n",
       "3           6LVN.A        6LVN             1172            5  \n",
       "4           6LVN.A        6LVN             1173            6  \n",
       "5           6LVN.A        6LVN             1174            7  \n",
       "6           6LVN.A        6LVN             1175            8  \n",
       "7           6LVN.A        6LVN             1176            9  \n",
       "8           6LVN.A        6LVN             1177           10  \n",
       "9           6LVN.A        6LVN             1178           11  "
      ]
     },
     "execution_count": 43,
     "metadata": {},
     "output_type": "execute_result"
    }
   ],
   "source": [
    "residues.head(10)"
   ]
  },
  {
   "cell_type": "code",
   "execution_count": 44,
   "metadata": {},
   "outputs": [],
   "source": [
    "variants = variants[['residue', 'variationId', 'annotation', 'scale', 'color']]"
   ]
  },
  {
   "cell_type": "code",
   "execution_count": 45,
   "metadata": {},
   "outputs": [],
   "source": [
    "residues_variants = residues.merge(variants, left_on='uniprotPosition', right_on='residue')"
   ]
  },
  {
   "cell_type": "code",
   "execution_count": 46,
   "metadata": {},
   "outputs": [
    {
     "data": {
      "text/html": [
       "<div>\n",
       "<style scoped>\n",
       "    .dataframe tbody tr th:only-of-type {\n",
       "        vertical-align: middle;\n",
       "    }\n",
       "\n",
       "    .dataframe tbody tr th {\n",
       "        vertical-align: top;\n",
       "    }\n",
       "\n",
       "    .dataframe thead th {\n",
       "        text-align: right;\n",
       "    }\n",
       "</style>\n",
       "<table border=\"1\" class=\"dataframe\">\n",
       "  <thead>\n",
       "    <tr style=\"text-align: right;\">\n",
       "      <th></th>\n",
       "      <th>coverage</th>\n",
       "      <th>description</th>\n",
       "      <th>name</th>\n",
       "      <th>resolution</th>\n",
       "      <th>structureChainId</th>\n",
       "      <th>structureId</th>\n",
       "      <th>uniprotPosition</th>\n",
       "      <th>pdbPosition</th>\n",
       "      <th>residue</th>\n",
       "      <th>variationId</th>\n",
       "      <th>annotation</th>\n",
       "      <th>scale</th>\n",
       "      <th>color</th>\n",
       "    </tr>\n",
       "  </thead>\n",
       "  <tbody>\n",
       "    <tr>\n",
       "      <th>0</th>\n",
       "      <td>0.026963</td>\n",
       "      <td>Spike protein S2</td>\n",
       "      <td>Spike glycoprotein</td>\n",
       "      <td>2.47</td>\n",
       "      <td>6LVN.A</td>\n",
       "      <td>6LVN</td>\n",
       "      <td>1169</td>\n",
       "      <td>2</td>\n",
       "      <td>1169</td>\n",
       "      <td>QHD43416.1:p.1169I&gt;L(1), QHD43416.1:p.1169I&gt;F(...</td>\n",
       "      <td>1169I&gt;L(1), 1169I&gt;F(1), 1169I&gt;T(1)</td>\n",
       "      <td>0.098083</td>\n",
       "      <td>#fee5d8</td>\n",
       "    </tr>\n",
       "    <tr>\n",
       "      <th>1</th>\n",
       "      <td>0.027756</td>\n",
       "      <td>Spike protein S2</td>\n",
       "      <td>Spike glycoprotein</td>\n",
       "      <td>2.47</td>\n",
       "      <td>6LVN.B</td>\n",
       "      <td>6LVN</td>\n",
       "      <td>1169</td>\n",
       "      <td>2</td>\n",
       "      <td>1169</td>\n",
       "      <td>QHD43416.1:p.1169I&gt;L(1), QHD43416.1:p.1169I&gt;F(...</td>\n",
       "      <td>1169I&gt;L(1), 1169I&gt;F(1), 1169I&gt;T(1)</td>\n",
       "      <td>0.098083</td>\n",
       "      <td>#fee5d8</td>\n",
       "    </tr>\n",
       "    <tr>\n",
       "      <th>2</th>\n",
       "      <td>0.026963</td>\n",
       "      <td>Spike protein S2</td>\n",
       "      <td>Spike glycoprotein</td>\n",
       "      <td>2.47</td>\n",
       "      <td>6LVN.D</td>\n",
       "      <td>6LVN</td>\n",
       "      <td>1169</td>\n",
       "      <td>2</td>\n",
       "      <td>1169</td>\n",
       "      <td>QHD43416.1:p.1169I&gt;L(1), QHD43416.1:p.1169I&gt;F(...</td>\n",
       "      <td>1169I&gt;L(1), 1169I&gt;F(1), 1169I&gt;T(1)</td>\n",
       "      <td>0.098083</td>\n",
       "      <td>#fee5d8</td>\n",
       "    </tr>\n",
       "    <tr>\n",
       "      <th>3</th>\n",
       "      <td>0.275971</td>\n",
       "      <td>Spike glycoprotein</td>\n",
       "      <td>Spike glycoprotein</td>\n",
       "      <td>3.00</td>\n",
       "      <td>6XRA.A</td>\n",
       "      <td>6XRA</td>\n",
       "      <td>1169</td>\n",
       "      <td>1169</td>\n",
       "      <td>1169</td>\n",
       "      <td>QHD43416.1:p.1169I&gt;L(1), QHD43416.1:p.1169I&gt;F(...</td>\n",
       "      <td>1169I&gt;L(1), 1169I&gt;F(1), 1169I&gt;T(1)</td>\n",
       "      <td>0.098083</td>\n",
       "      <td>#fee5d8</td>\n",
       "    </tr>\n",
       "    <tr>\n",
       "      <th>4</th>\n",
       "      <td>0.275971</td>\n",
       "      <td>Spike glycoprotein</td>\n",
       "      <td>Spike glycoprotein</td>\n",
       "      <td>3.00</td>\n",
       "      <td>6XRA.B</td>\n",
       "      <td>6XRA</td>\n",
       "      <td>1169</td>\n",
       "      <td>1169</td>\n",
       "      <td>1169</td>\n",
       "      <td>QHD43416.1:p.1169I&gt;L(1), QHD43416.1:p.1169I&gt;F(...</td>\n",
       "      <td>1169I&gt;L(1), 1169I&gt;F(1), 1169I&gt;T(1)</td>\n",
       "      <td>0.098083</td>\n",
       "      <td>#fee5d8</td>\n",
       "    </tr>\n",
       "  </tbody>\n",
       "</table>\n",
       "</div>"
      ],
      "text/plain": [
       "   coverage         description                name  resolution  \\\n",
       "0  0.026963    Spike protein S2  Spike glycoprotein        2.47   \n",
       "1  0.027756    Spike protein S2  Spike glycoprotein        2.47   \n",
       "2  0.026963    Spike protein S2  Spike glycoprotein        2.47   \n",
       "3  0.275971  Spike glycoprotein  Spike glycoprotein        3.00   \n",
       "4  0.275971  Spike glycoprotein  Spike glycoprotein        3.00   \n",
       "\n",
       "  structureChainId structureId  uniprotPosition  pdbPosition  residue  \\\n",
       "0           6LVN.A        6LVN             1169            2     1169   \n",
       "1           6LVN.B        6LVN             1169            2     1169   \n",
       "2           6LVN.D        6LVN             1169            2     1169   \n",
       "3           6XRA.A        6XRA             1169         1169     1169   \n",
       "4           6XRA.B        6XRA             1169         1169     1169   \n",
       "\n",
       "                                         variationId  \\\n",
       "0  QHD43416.1:p.1169I>L(1), QHD43416.1:p.1169I>F(...   \n",
       "1  QHD43416.1:p.1169I>L(1), QHD43416.1:p.1169I>F(...   \n",
       "2  QHD43416.1:p.1169I>L(1), QHD43416.1:p.1169I>F(...   \n",
       "3  QHD43416.1:p.1169I>L(1), QHD43416.1:p.1169I>F(...   \n",
       "4  QHD43416.1:p.1169I>L(1), QHD43416.1:p.1169I>F(...   \n",
       "\n",
       "                           annotation     scale    color  \n",
       "0  1169I>L(1), 1169I>F(1), 1169I>T(1)  0.098083  #fee5d8  \n",
       "1  1169I>L(1), 1169I>F(1), 1169I>T(1)  0.098083  #fee5d8  \n",
       "2  1169I>L(1), 1169I>F(1), 1169I>T(1)  0.098083  #fee5d8  \n",
       "3  1169I>L(1), 1169I>F(1), 1169I>T(1)  0.098083  #fee5d8  \n",
       "4  1169I>L(1), 1169I>F(1), 1169I>T(1)  0.098083  #fee5d8  "
      ]
     },
     "execution_count": 46,
     "metadata": {},
     "output_type": "execute_result"
    }
   ],
   "source": [
    "residues_variants.head()"
   ]
  },
  {
   "cell_type": "code",
   "execution_count": 47,
   "metadata": {},
   "outputs": [],
   "source": [
    "residues_variants.to_csv(output_file_name, index=False)"
   ]
  },
  {
   "cell_type": "markdown",
   "metadata": {},
   "source": [
    "## Now run the next step\n",
    "Map mutations occuring at protein-protein interaction sites: [2-MapToPolymerInteractions.ipynb](2-MapToPolymerInteractions.ipynb)"
   ]
  },
  {
   "cell_type": "code",
   "execution_count": null,
   "metadata": {},
   "outputs": [],
   "source": []
  }
 ],
 "metadata": {
  "kernelspec": {
   "display_name": "Python 3",
   "language": "python",
   "name": "python3"
  },
  "language_info": {
   "codemirror_mode": {
    "name": "ipython",
    "version": 3
   },
   "file_extension": ".py",
   "mimetype": "text/x-python",
   "name": "python",
   "nbconvert_exporter": "python",
   "pygments_lexer": "ipython3",
   "version": "3.7.8"
  }
 },
 "nbformat": 4,
 "nbformat_minor": 4
}
