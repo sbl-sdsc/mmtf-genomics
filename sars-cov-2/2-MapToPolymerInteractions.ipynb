{
 "cells": [
  {
   "cell_type": "markdown",
   "metadata": {},
   "source": [
    "## Map Mutations to Protein-Protein and Protein-Nucleic Acid Interfaces\n",
    "Here we find and visualize the mutations that occur around protein-protein and protein-nucleic acid interfaces."
   ]
  },
  {
   "cell_type": "code",
   "execution_count": 1,
   "metadata": {},
   "outputs": [],
   "source": [
    "# Disable Numba: temporary workaround for https://github.com/sbl-sdsc/mmtf-pyspark/issues/288\n",
    "import os\n",
    "os.environ['NUMBA_DISABLE_JIT'] = \"1\""
   ]
  },
  {
   "cell_type": "code",
   "execution_count": 2,
   "metadata": {},
   "outputs": [
    {
     "name": "stderr",
     "output_type": "stream",
     "text": [
      "//miniconda3/envs/mmtf-genomics/lib/python3.7/site-packages/requests/__init__.py:91: RequestsDependencyWarning: urllib3 (1.25.10) or chardet (3.0.4) doesn't match a supported version!\n",
      "  RequestsDependencyWarning)\n"
     ]
    }
   ],
   "source": [
    "from pyspark.sql import SparkSession\n",
    "from mmtfPyspark.io import mmtfReader\n",
    "from mmtfPyspark.interactions import InteractionExtractor, InteractionFilter\n",
    "from ipywidgets import interact, IntSlider, FloatSlider, SelectMultiple\n",
    "import py3Dmol\n",
    "from py2neo import Graph\n",
    "import pandas as pd"
   ]
  },
  {
   "cell_type": "code",
   "execution_count": 3,
   "metadata": {
    "code_folding": [
     0
    ]
   },
   "outputs": [],
   "source": [
    "# Initialize Spark\n",
    "spark = SparkSession.builder.appName(\"3-MapToPolymerInteractions\").getOrCreate()"
   ]
  },
  {
   "cell_type": "code",
   "execution_count": 4,
   "metadata": {},
   "outputs": [],
   "source": [
    "# Enable Arrow-based columnar data transfers between Spark and Pandas dataframes\n",
    "spark.conf.set(\"spark.sql.execution.arrow.enabled\", \"true\")"
   ]
  },
  {
   "cell_type": "markdown",
   "metadata": {},
   "source": [
    "#### Input parameters"
   ]
  },
  {
   "cell_type": "code",
   "execution_count": 5,
   "metadata": {},
   "outputs": [],
   "source": [
    "distance_cutoff = 8 # distance cutoff for finding and visualizing interactions\n",
    "input_file_name = 'mutations3d.csv' # mutations mapped to 3D protein structures\n",
    "output_file_name = 'mutations3d_polymer_inter.csv' # mutations mapped to polymer interactions"
   ]
  },
  {
   "cell_type": "markdown",
   "metadata": {},
   "source": [
    "#### Connect to COVID-19-Community Knowledge Graph\n",
    "[COVID-19-Net Knowledge Graph](https://github.com/covid-19-net/covid-19-community)"
   ]
  },
  {
   "cell_type": "code",
   "execution_count": 6,
   "metadata": {},
   "outputs": [],
   "source": [
    "graph = Graph(\"bolt://132.249.238.185:7687\", user=\"reader\", password=\"demo\")"
   ]
  },
  {
   "cell_type": "markdown",
   "metadata": {},
   "source": [
    "## Read mutation file created in the previous step"
   ]
  },
  {
   "cell_type": "code",
   "execution_count": 7,
   "metadata": {},
   "outputs": [
    {
     "data": {
      "text/html": [
       "<div>\n",
       "<style scoped>\n",
       "    .dataframe tbody tr th:only-of-type {\n",
       "        vertical-align: middle;\n",
       "    }\n",
       "\n",
       "    .dataframe tbody tr th {\n",
       "        vertical-align: top;\n",
       "    }\n",
       "\n",
       "    .dataframe thead th {\n",
       "        text-align: right;\n",
       "    }\n",
       "</style>\n",
       "<table border=\"1\" class=\"dataframe\">\n",
       "  <thead>\n",
       "    <tr style=\"text-align: right;\">\n",
       "      <th></th>\n",
       "      <th>coverage</th>\n",
       "      <th>description</th>\n",
       "      <th>name</th>\n",
       "      <th>resolution</th>\n",
       "      <th>structureChainId</th>\n",
       "      <th>structureId</th>\n",
       "      <th>uniprotPosition</th>\n",
       "      <th>pdbPosition</th>\n",
       "      <th>residue</th>\n",
       "      <th>variationId</th>\n",
       "      <th>annotation</th>\n",
       "      <th>scale</th>\n",
       "      <th>color</th>\n",
       "    </tr>\n",
       "  </thead>\n",
       "  <tbody>\n",
       "    <tr>\n",
       "      <th>0</th>\n",
       "      <td>0.154639</td>\n",
       "      <td>Spike glycoprotein, Nanobody H11-D4</td>\n",
       "      <td>Spike glycoprotein</td>\n",
       "      <td>1.80</td>\n",
       "      <td>6YZ5.E</td>\n",
       "      <td>6YZ5</td>\n",
       "      <td>336</td>\n",
       "      <td>336</td>\n",
       "      <td>336</td>\n",
       "      <td>QHD43416.1:p.336C&gt;R(2)</td>\n",
       "      <td>336C&gt;R(2)</td>\n",
       "      <td>0.061764</td>\n",
       "      <td>#ffebe2</td>\n",
       "    </tr>\n",
       "    <tr>\n",
       "      <th>1</th>\n",
       "      <td>0.154639</td>\n",
       "      <td>Synthetic nanobody MR17, Spike glycoprotein</td>\n",
       "      <td>Spike glycoprotein</td>\n",
       "      <td>2.77</td>\n",
       "      <td>7C8W.B</td>\n",
       "      <td>7C8W</td>\n",
       "      <td>336</td>\n",
       "      <td>336</td>\n",
       "      <td>336</td>\n",
       "      <td>QHD43416.1:p.336C&gt;R(2)</td>\n",
       "      <td>336C&gt;R(2)</td>\n",
       "      <td>0.061764</td>\n",
       "      <td>#ffebe2</td>\n",
       "    </tr>\n",
       "    <tr>\n",
       "      <th>2</th>\n",
       "      <td>0.154639</td>\n",
       "      <td>Spike glycoprotein, Nanobody H11-D4</td>\n",
       "      <td>Spike glycoprotein</td>\n",
       "      <td>1.80</td>\n",
       "      <td>6YZ5.E</td>\n",
       "      <td>6YZ5</td>\n",
       "      <td>337</td>\n",
       "      <td>337</td>\n",
       "      <td>337</td>\n",
       "      <td>QHD43416.1:p.337P&gt;R(4), QHD43416.1:p.337P&gt;S(2)</td>\n",
       "      <td>337P&gt;R(4), 337P&gt;S(2)</td>\n",
       "      <td>0.159657</td>\n",
       "      <td>#fdd5c4</td>\n",
       "    </tr>\n",
       "    <tr>\n",
       "      <th>3</th>\n",
       "      <td>0.154639</td>\n",
       "      <td>Synthetic nanobody MR17, Spike glycoprotein</td>\n",
       "      <td>Spike glycoprotein</td>\n",
       "      <td>2.77</td>\n",
       "      <td>7C8W.B</td>\n",
       "      <td>7C8W</td>\n",
       "      <td>337</td>\n",
       "      <td>337</td>\n",
       "      <td>337</td>\n",
       "      <td>QHD43416.1:p.337P&gt;R(4), QHD43416.1:p.337P&gt;S(2)</td>\n",
       "      <td>337P&gt;R(4), 337P&gt;S(2)</td>\n",
       "      <td>0.159657</td>\n",
       "      <td>#fdd5c4</td>\n",
       "    </tr>\n",
       "    <tr>\n",
       "      <th>4</th>\n",
       "      <td>0.154639</td>\n",
       "      <td>Spike glycoprotein, Nanobody H11-D4</td>\n",
       "      <td>Spike glycoprotein</td>\n",
       "      <td>1.80</td>\n",
       "      <td>6YZ5.E</td>\n",
       "      <td>6YZ5</td>\n",
       "      <td>338</td>\n",
       "      <td>338</td>\n",
       "      <td>338</td>\n",
       "      <td>QHD43416.1:p.338F&gt;L(4)</td>\n",
       "      <td>338F&gt;L(4)</td>\n",
       "      <td>0.123527</td>\n",
       "      <td>#fee1d3</td>\n",
       "    </tr>\n",
       "  </tbody>\n",
       "</table>\n",
       "</div>"
      ],
      "text/plain": [
       "   coverage                                  description                name  \\\n",
       "0  0.154639          Spike glycoprotein, Nanobody H11-D4  Spike glycoprotein   \n",
       "1  0.154639  Synthetic nanobody MR17, Spike glycoprotein  Spike glycoprotein   \n",
       "2  0.154639          Spike glycoprotein, Nanobody H11-D4  Spike glycoprotein   \n",
       "3  0.154639  Synthetic nanobody MR17, Spike glycoprotein  Spike glycoprotein   \n",
       "4  0.154639          Spike glycoprotein, Nanobody H11-D4  Spike glycoprotein   \n",
       "\n",
       "   resolution structureChainId structureId  uniprotPosition pdbPosition  \\\n",
       "0        1.80           6YZ5.E        6YZ5              336         336   \n",
       "1        2.77           7C8W.B        7C8W              336         336   \n",
       "2        1.80           6YZ5.E        6YZ5              337         337   \n",
       "3        2.77           7C8W.B        7C8W              337         337   \n",
       "4        1.80           6YZ5.E        6YZ5              338         338   \n",
       "\n",
       "   residue                                     variationId  \\\n",
       "0      336                          QHD43416.1:p.336C>R(2)   \n",
       "1      336                          QHD43416.1:p.336C>R(2)   \n",
       "2      337  QHD43416.1:p.337P>R(4), QHD43416.1:p.337P>S(2)   \n",
       "3      337  QHD43416.1:p.337P>R(4), QHD43416.1:p.337P>S(2)   \n",
       "4      338                          QHD43416.1:p.338F>L(4)   \n",
       "\n",
       "             annotation     scale    color  \n",
       "0             336C>R(2)  0.061764  #ffebe2  \n",
       "1             336C>R(2)  0.061764  #ffebe2  \n",
       "2  337P>R(4), 337P>S(2)  0.159657  #fdd5c4  \n",
       "3  337P>R(4), 337P>S(2)  0.159657  #fdd5c4  \n",
       "4             338F>L(4)  0.123527  #fee1d3  "
      ]
     },
     "execution_count": 7,
     "metadata": {},
     "output_type": "execute_result"
    }
   ],
   "source": [
    "pd.set_option('display.max_columns', None)  # show all columns\n",
    "df = pd.read_csv(input_file_name)\n",
    "df['pdbPosition'] = df['pdbPosition'].astype('str') # PDB residue numbers must be string to handle insertion codes\n",
    "df.head()"
   ]
  },
  {
   "cell_type": "markdown",
   "metadata": {},
   "source": [
    "## Create a list of unique PDB Ids"
   ]
  },
  {
   "cell_type": "code",
   "execution_count": 8,
   "metadata": {},
   "outputs": [
    {
     "name": "stdout",
     "output_type": "stream",
     "text": [
      "PDB Ids: ['6YZ5', '7C8W']\n"
     ]
    }
   ],
   "source": [
    "pdb_ids = list(df.structureId.drop_duplicates())\n",
    "print(\"PDB Ids:\", pdb_ids)"
   ]
  },
  {
   "cell_type": "markdown",
   "metadata": {},
   "source": [
    "## Find all polymer-polymer interactions\n",
    "Find groups (residues) that interact with other polymer chains"
   ]
  },
  {
   "cell_type": "code",
   "execution_count": 9,
   "metadata": {},
   "outputs": [],
   "source": [
    "structures = mmtfReader.download_mmtf_files(pdb_ids)"
   ]
  },
  {
   "cell_type": "markdown",
   "metadata": {},
   "source": [
    "queryGroupId, queryChainId, and queryGroupNumber specify the residue that interacts with another chain (targetChainId)"
   ]
  },
  {
   "cell_type": "code",
   "execution_count": 10,
   "metadata": {
    "scrolled": true
   },
   "outputs": [
    {
     "data": {
      "text/html": [
       "<div>\n",
       "<style scoped>\n",
       "    .dataframe tbody tr th:only-of-type {\n",
       "        vertical-align: middle;\n",
       "    }\n",
       "\n",
       "    .dataframe tbody tr th {\n",
       "        vertical-align: top;\n",
       "    }\n",
       "\n",
       "    .dataframe thead th {\n",
       "        text-align: right;\n",
       "    }\n",
       "</style>\n",
       "<table border=\"1\" class=\"dataframe\">\n",
       "  <thead>\n",
       "    <tr style=\"text-align: right;\">\n",
       "      <th></th>\n",
       "      <th>structureChainId</th>\n",
       "      <th>queryGroupId</th>\n",
       "      <th>queryChainId</th>\n",
       "      <th>queryGroupNumber</th>\n",
       "      <th>targetGroupId</th>\n",
       "      <th>targetChainId</th>\n",
       "      <th>targetGroupNumber</th>\n",
       "      <th>sequenceIndex</th>\n",
       "      <th>sequence</th>\n",
       "    </tr>\n",
       "  </thead>\n",
       "  <tbody>\n",
       "    <tr>\n",
       "      <th>0</th>\n",
       "      <td>7C8W.B</td>\n",
       "      <td>ASP</td>\n",
       "      <td>A</td>\n",
       "      <td>101</td>\n",
       "      <td>PHE</td>\n",
       "      <td>B</td>\n",
       "      <td>456</td>\n",
       "      <td>129</td>\n",
       "      <td>AGSPNITNLCPFGEVFNATRFASVYAWNRKRISNCVADYSVLYNSA...</td>\n",
       "    </tr>\n",
       "    <tr>\n",
       "      <th>1</th>\n",
       "      <td>7C8W.A</td>\n",
       "      <td>SER</td>\n",
       "      <td>B</td>\n",
       "      <td>494</td>\n",
       "      <td>LYS</td>\n",
       "      <td>A</td>\n",
       "      <td>99</td>\n",
       "      <td>98</td>\n",
       "      <td>QVQLVESGGGLVQAGGSLRLSCAASGFPVEVWRMEWYRQAPGKERE...</td>\n",
       "    </tr>\n",
       "    <tr>\n",
       "      <th>2</th>\n",
       "      <td>7C8W.B</td>\n",
       "      <td>LEU</td>\n",
       "      <td>A</td>\n",
       "      <td>104</td>\n",
       "      <td>ASN</td>\n",
       "      <td>B</td>\n",
       "      <td>501</td>\n",
       "      <td>174</td>\n",
       "      <td>AGSPNITNLCPFGEVFNATRFASVYAWNRKRISNCVADYSVLYNSA...</td>\n",
       "    </tr>\n",
       "    <tr>\n",
       "      <th>3</th>\n",
       "      <td>7C8W.B</td>\n",
       "      <td>LYS</td>\n",
       "      <td>A</td>\n",
       "      <td>65</td>\n",
       "      <td>CYS</td>\n",
       "      <td>B</td>\n",
       "      <td>480</td>\n",
       "      <td>153</td>\n",
       "      <td>AGSPNITNLCPFGEVFNATRFASVYAWNRKRISNCVADYSVLYNSA...</td>\n",
       "    </tr>\n",
       "    <tr>\n",
       "      <th>4</th>\n",
       "      <td>7C8W.B</td>\n",
       "      <td>ALA</td>\n",
       "      <td>A</td>\n",
       "      <td>50</td>\n",
       "      <td>GLU</td>\n",
       "      <td>B</td>\n",
       "      <td>484</td>\n",
       "      <td>157</td>\n",
       "      <td>AGSPNITNLCPFGEVFNATRFASVYAWNRKRISNCVADYSVLYNSA...</td>\n",
       "    </tr>\n",
       "  </tbody>\n",
       "</table>\n",
       "</div>"
      ],
      "text/plain": [
       "  structureChainId queryGroupId queryChainId queryGroupNumber targetGroupId  \\\n",
       "0           7C8W.B          ASP            A              101           PHE   \n",
       "1           7C8W.A          SER            B              494           LYS   \n",
       "2           7C8W.B          LEU            A              104           ASN   \n",
       "3           7C8W.B          LYS            A               65           CYS   \n",
       "4           7C8W.B          ALA            A               50           GLU   \n",
       "\n",
       "  targetChainId targetGroupNumber  sequenceIndex  \\\n",
       "0             B               456            129   \n",
       "1             A                99             98   \n",
       "2             B               501            174   \n",
       "3             B               480            153   \n",
       "4             B               484            157   \n",
       "\n",
       "                                            sequence  \n",
       "0  AGSPNITNLCPFGEVFNATRFASVYAWNRKRISNCVADYSVLYNSA...  \n",
       "1  QVQLVESGGGLVQAGGSLRLSCAASGFPVEVWRMEWYRQAPGKERE...  \n",
       "2  AGSPNITNLCPFGEVFNATRFASVYAWNRKRISNCVADYSVLYNSA...  \n",
       "3  AGSPNITNLCPFGEVFNATRFASVYAWNRKRISNCVADYSVLYNSA...  \n",
       "4  AGSPNITNLCPFGEVFNATRFASVYAWNRKRISNCVADYSVLYNSA...  "
      ]
     },
     "execution_count": 10,
     "metadata": {},
     "output_type": "execute_result"
    }
   ],
   "source": [
    "interaction_filter = InteractionFilter(distanceCutoff=distance_cutoff)\n",
    "\n",
    "interactions = InteractionExtractor().get_polymer_interactions(structures, interaction_filter, level='group').toPandas()\n",
    "interactions.head()"
   ]
  },
  {
   "cell_type": "markdown",
   "metadata": {},
   "source": [
    "## Filter mutations by joining with the interaction data"
   ]
  },
  {
   "cell_type": "code",
   "execution_count": 11,
   "metadata": {},
   "outputs": [
    {
     "data": {
      "text/html": [
       "<div>\n",
       "<style scoped>\n",
       "    .dataframe tbody tr th:only-of-type {\n",
       "        vertical-align: middle;\n",
       "    }\n",
       "\n",
       "    .dataframe tbody tr th {\n",
       "        vertical-align: top;\n",
       "    }\n",
       "\n",
       "    .dataframe thead th {\n",
       "        text-align: right;\n",
       "    }\n",
       "</style>\n",
       "<table border=\"1\" class=\"dataframe\">\n",
       "  <thead>\n",
       "    <tr style=\"text-align: right;\">\n",
       "      <th></th>\n",
       "      <th>coverage</th>\n",
       "      <th>description</th>\n",
       "      <th>name</th>\n",
       "      <th>resolution</th>\n",
       "      <th>structureChainId</th>\n",
       "      <th>structureId</th>\n",
       "      <th>uniprotPosition</th>\n",
       "      <th>pdbPosition</th>\n",
       "      <th>residue</th>\n",
       "      <th>variationId</th>\n",
       "      <th>annotation</th>\n",
       "      <th>scale</th>\n",
       "      <th>color</th>\n",
       "      <th>queryGroupId</th>\n",
       "      <th>queryChainId</th>\n",
       "      <th>queryGroupNumber</th>\n",
       "      <th>targetGroupId</th>\n",
       "      <th>targetChainId</th>\n",
       "      <th>targetGroupNumber</th>\n",
       "      <th>sequenceIndex</th>\n",
       "      <th>sequence</th>\n",
       "    </tr>\n",
       "  </thead>\n",
       "  <tbody>\n",
       "    <tr>\n",
       "      <th>0</th>\n",
       "      <td>0.154639</td>\n",
       "      <td>Spike glycoprotein, Nanobody H11-D4</td>\n",
       "      <td>Spike glycoprotein</td>\n",
       "      <td>1.80</td>\n",
       "      <td>6YZ5.E</td>\n",
       "      <td>6YZ5</td>\n",
       "      <td>346</td>\n",
       "      <td>346</td>\n",
       "      <td>346</td>\n",
       "      <td>QHD43416.1:p.346R&gt;K(4)</td>\n",
       "      <td>346R&gt;K(4)</td>\n",
       "      <td>0.123527</td>\n",
       "      <td>#fee1d3</td>\n",
       "      <td>ARG</td>\n",
       "      <td>F</td>\n",
       "      <td>27</td>\n",
       "      <td>ARG</td>\n",
       "      <td>E</td>\n",
       "      <td>346</td>\n",
       "      <td>16</td>\n",
       "      <td>PNITNLCPFGEVFNATRFASVYAWNRKRISNCVADYSVLYNSASFS...</td>\n",
       "    </tr>\n",
       "    <tr>\n",
       "      <th>1</th>\n",
       "      <td>0.154639</td>\n",
       "      <td>Spike glycoprotein, Nanobody H11-D4</td>\n",
       "      <td>Spike glycoprotein</td>\n",
       "      <td>1.80</td>\n",
       "      <td>6YZ5.E</td>\n",
       "      <td>6YZ5</td>\n",
       "      <td>346</td>\n",
       "      <td>346</td>\n",
       "      <td>346</td>\n",
       "      <td>QHD43416.1:p.346R&gt;K(4)</td>\n",
       "      <td>346R&gt;K(4)</td>\n",
       "      <td>0.123527</td>\n",
       "      <td>#fee1d3</td>\n",
       "      <td>PHE</td>\n",
       "      <td>F</td>\n",
       "      <td>29</td>\n",
       "      <td>ARG</td>\n",
       "      <td>E</td>\n",
       "      <td>346</td>\n",
       "      <td>16</td>\n",
       "      <td>PNITNLCPFGEVFNATRFASVYAWNRKRISNCVADYSVLYNSASFS...</td>\n",
       "    </tr>\n",
       "    <tr>\n",
       "      <th>2</th>\n",
       "      <td>0.154639</td>\n",
       "      <td>Spike glycoprotein, Nanobody H11-D4</td>\n",
       "      <td>Spike glycoprotein</td>\n",
       "      <td>1.80</td>\n",
       "      <td>6YZ5.E</td>\n",
       "      <td>6YZ5</td>\n",
       "      <td>346</td>\n",
       "      <td>346</td>\n",
       "      <td>346</td>\n",
       "      <td>QHD43416.1:p.346R&gt;K(4)</td>\n",
       "      <td>346R&gt;K(4)</td>\n",
       "      <td>0.123527</td>\n",
       "      <td>#fee1d3</td>\n",
       "      <td>SER</td>\n",
       "      <td>F</td>\n",
       "      <td>30</td>\n",
       "      <td>ARG</td>\n",
       "      <td>E</td>\n",
       "      <td>346</td>\n",
       "      <td>16</td>\n",
       "      <td>PNITNLCPFGEVFNATRFASVYAWNRKRISNCVADYSVLYNSASFS...</td>\n",
       "    </tr>\n",
       "    <tr>\n",
       "      <th>3</th>\n",
       "      <td>0.154639</td>\n",
       "      <td>Synthetic nanobody MR17, Spike glycoprotein</td>\n",
       "      <td>Spike glycoprotein</td>\n",
       "      <td>2.77</td>\n",
       "      <td>7C8W.B</td>\n",
       "      <td>7C8W</td>\n",
       "      <td>403</td>\n",
       "      <td>403</td>\n",
       "      <td>403</td>\n",
       "      <td>QHD43416.1:p.403R&gt;S(2)</td>\n",
       "      <td>403R&gt;S(2)</td>\n",
       "      <td>0.061764</td>\n",
       "      <td>#ffebe2</td>\n",
       "      <td>LEU</td>\n",
       "      <td>A</td>\n",
       "      <td>104</td>\n",
       "      <td>ARG</td>\n",
       "      <td>B</td>\n",
       "      <td>403</td>\n",
       "      <td>76</td>\n",
       "      <td>AGSPNITNLCPFGEVFNATRFASVYAWNRKRISNCVADYSVLYNSA...</td>\n",
       "    </tr>\n",
       "    <tr>\n",
       "      <th>4</th>\n",
       "      <td>0.154639</td>\n",
       "      <td>Synthetic nanobody MR17, Spike glycoprotein</td>\n",
       "      <td>Spike glycoprotein</td>\n",
       "      <td>2.77</td>\n",
       "      <td>7C8W.B</td>\n",
       "      <td>7C8W</td>\n",
       "      <td>403</td>\n",
       "      <td>403</td>\n",
       "      <td>403</td>\n",
       "      <td>QHD43416.1:p.403R&gt;S(2)</td>\n",
       "      <td>403R&gt;S(2)</td>\n",
       "      <td>0.061764</td>\n",
       "      <td>#ffebe2</td>\n",
       "      <td>ASP</td>\n",
       "      <td>A</td>\n",
       "      <td>101</td>\n",
       "      <td>ARG</td>\n",
       "      <td>B</td>\n",
       "      <td>403</td>\n",
       "      <td>76</td>\n",
       "      <td>AGSPNITNLCPFGEVFNATRFASVYAWNRKRISNCVADYSVLYNSA...</td>\n",
       "    </tr>\n",
       "  </tbody>\n",
       "</table>\n",
       "</div>"
      ],
      "text/plain": [
       "   coverage                                  description                name  \\\n",
       "0  0.154639          Spike glycoprotein, Nanobody H11-D4  Spike glycoprotein   \n",
       "1  0.154639          Spike glycoprotein, Nanobody H11-D4  Spike glycoprotein   \n",
       "2  0.154639          Spike glycoprotein, Nanobody H11-D4  Spike glycoprotein   \n",
       "3  0.154639  Synthetic nanobody MR17, Spike glycoprotein  Spike glycoprotein   \n",
       "4  0.154639  Synthetic nanobody MR17, Spike glycoprotein  Spike glycoprotein   \n",
       "\n",
       "   resolution structureChainId structureId  uniprotPosition pdbPosition  \\\n",
       "0        1.80           6YZ5.E        6YZ5              346         346   \n",
       "1        1.80           6YZ5.E        6YZ5              346         346   \n",
       "2        1.80           6YZ5.E        6YZ5              346         346   \n",
       "3        2.77           7C8W.B        7C8W              403         403   \n",
       "4        2.77           7C8W.B        7C8W              403         403   \n",
       "\n",
       "   residue             variationId annotation     scale    color queryGroupId  \\\n",
       "0      346  QHD43416.1:p.346R>K(4)  346R>K(4)  0.123527  #fee1d3          ARG   \n",
       "1      346  QHD43416.1:p.346R>K(4)  346R>K(4)  0.123527  #fee1d3          PHE   \n",
       "2      346  QHD43416.1:p.346R>K(4)  346R>K(4)  0.123527  #fee1d3          SER   \n",
       "3      403  QHD43416.1:p.403R>S(2)  403R>S(2)  0.061764  #ffebe2          LEU   \n",
       "4      403  QHD43416.1:p.403R>S(2)  403R>S(2)  0.061764  #ffebe2          ASP   \n",
       "\n",
       "  queryChainId queryGroupNumber targetGroupId targetChainId targetGroupNumber  \\\n",
       "0            F               27           ARG             E               346   \n",
       "1            F               29           ARG             E               346   \n",
       "2            F               30           ARG             E               346   \n",
       "3            A              104           ARG             B               403   \n",
       "4            A              101           ARG             B               403   \n",
       "\n",
       "   sequenceIndex                                           sequence  \n",
       "0             16  PNITNLCPFGEVFNATRFASVYAWNRKRISNCVADYSVLYNSASFS...  \n",
       "1             16  PNITNLCPFGEVFNATRFASVYAWNRKRISNCVADYSVLYNSASFS...  \n",
       "2             16  PNITNLCPFGEVFNATRFASVYAWNRKRISNCVADYSVLYNSASFS...  \n",
       "3             76  AGSPNITNLCPFGEVFNATRFASVYAWNRKRISNCVADYSVLYNSA...  \n",
       "4             76  AGSPNITNLCPFGEVFNATRFASVYAWNRKRISNCVADYSVLYNSA...  "
      ]
     },
     "execution_count": 11,
     "metadata": {},
     "output_type": "execute_result"
    }
   ],
   "source": [
    "mt = df.merge(interactions, left_on=['structureChainId','pdbPosition'], right_on=['structureChainId','targetGroupNumber'], how='inner')\n",
    "mt.head()"
   ]
  },
  {
   "cell_type": "markdown",
   "metadata": {},
   "source": [
    "## Save Mappings"
   ]
  },
  {
   "cell_type": "code",
   "execution_count": 12,
   "metadata": {},
   "outputs": [],
   "source": [
    "mt.to_csv(output_file_name, index=False)"
   ]
  },
  {
   "cell_type": "code",
   "execution_count": 13,
   "metadata": {
    "scrolled": true
   },
   "outputs": [
    {
     "name": "stdout",
     "output_type": "stream",
     "text": [
      "Chains: ['6YZ5.E', '7C8W.B']\n"
     ]
    }
   ],
   "source": [
    "chains = mt.groupby('structureChainId')\n",
    "print(\"Chains:\", list(chains.groups.keys()))"
   ]
  },
  {
   "cell_type": "markdown",
   "metadata": {},
   "source": [
    "## View mutations grouped by protein chain"
   ]
  },
  {
   "cell_type": "code",
   "execution_count": 14,
   "metadata": {
    "code_folding": [
     0
    ],
    "jupyter": {
     "source_hidden": true
    }
   },
   "outputs": [],
   "source": [
    "# Setup viewer\n",
    "def view_grouped_mutations(grouped_df, *args):\n",
    "    chainIds = list(grouped_df.groups.keys())\n",
    "\n",
    "    def view3d(show_bio_assembly, show_surface, show_short_label, show_long_label, size, font, logFreq, i):\n",
    "        group = grouped_df.get_group(chainIds[i])\n",
    "        \n",
    "        pdb_id, chain_id = chainIds[i].split('.')\n",
    "        global viewer1\n",
    "        viewer1 = py3Dmol.view(query='pdb:' + pdb_id, options={'doAssembly': show_bio_assembly}, width=size, height=size)\n",
    "\n",
    "        # polymer style\n",
    "        viewer1.setStyle({'cartoon': {'colorscheme': 'chain', 'width': 0.6, 'opacity':0.9}})\n",
    " \n",
    "        # highlight chain of interest in blue\n",
    "        viewer1.setStyle({'chain': chain_id},{'cartoon': {'color': 'blue'}})\n",
    "        \n",
    "        # non-polymer style\n",
    "        viewer1.setStyle({'hetflag': True}, {'stick':{'radius': 0.3, 'singleBond': False}})\n",
    "    \n",
    "        # don't display water molecules\n",
    "        viewer1.setStyle({'resn': ['HOH','DOD']}, {})\n",
    "        \n",
    "        modified_residues = set()\n",
    "        rows = group.shape[0]\n",
    "        for j in range(0, rows):\n",
    "            if group.iloc[j]['scale'] > logFreq:\n",
    "                res_num = str(group.iloc[j]['pdbPosition'])\n",
    "                mod_res = {'resi': res_num, 'chain': chain_id} \n",
    "                modified_residues.add(res_num)\n",
    "            \n",
    "                # style for mutated residue\n",
    "                col = group.iloc[j]['color']\n",
    "                c_col = col + 'Carbon'\n",
    "                viewer1.addStyle(mod_res, {'stick':{'colorscheme':c_col, 'radius': 0.2}})\n",
    "                viewer1.addStyle(mod_res, {'sphere':{'color':col, 'opacity': 0.6}}) \n",
    "           \n",
    "                # style for interacting residues\n",
    "                surroundings = {'not': {'chain': chain_id}, 'byres': True, 'within': {'distance': distance_cutoff, 'sel': mod_res}}\n",
    "                viewer1.setStyle(surroundings,{'cartoon':{'color':'orange', 'width': 0.6}})\n",
    "                viewer1.addStyle(surroundings,{'stick':{'colorscheme':'orangeCarbon', 'radius': 0.15}})\n",
    "                # style for interacting waters\n",
    "                waters = {'resn': ['HOH','DOD']}\n",
    "                waters.update(surroundings)\n",
    "                viewer1.addStyle(waters,{'sphere':{'color':'orange', 'radius': 0.5}})\n",
    "                \n",
    "                if show_short_label or show_long_label:\n",
    "                    viewer1.addResLabels(surroundings, {'fontSize':font-2})\n",
    "            \n",
    "                # text label\n",
    "                annotation = group.iloc[j]['annotation']\n",
    "                variationId = group.iloc[j]['variationId']\n",
    "                \n",
    "                if show_short_label:\n",
    "                    label = annotation\n",
    "                if show_long_label:\n",
    "                    label = chain_id + \".\" + str(res_num) + \": \" + variationId\n",
    "                if show_short_label or show_long_label:\n",
    "                    viewer1.addLabel(label, {'fontSize':font,'fontColor': 'black','backgroundColor':'ivory', 'opacity': 1.0}, mod_res)\n",
    "              \n",
    "        viewer1.zoomTo({'chain': chain_id})\n",
    "        viewer1.center({'chain': chain_id})\n",
    "        \n",
    "        if show_surface:\n",
    "             viewer1.addSurface(py3Dmol.SES,{'opacity':0.8,'color':'lightblue'},{'chain': chain_id})\n",
    "                \n",
    "        # print header\n",
    "        resolution = group.iloc[0]['resolution']\n",
    "        coverage = group.iloc[0]['coverage']\n",
    "        description = group.iloc[0]['description']\n",
    "        print(f\"PDB Id:{pdb_id}, chain Id:{chain_id}, resolution:{resolution}, sequence coverage:{coverage:.2f}\")\n",
    "        print(description)\n",
    "                \n",
    "        return viewer1.show()\n",
    "       \n",
    "    f_widget = IntSlider(value=9, min=5, max=20, description='font size', continuous_update=False)\n",
    "    z_widget = IntSlider(value=750, min=500, max=1200, description='size', continuous_update=False)\n",
    "    s_widget = IntSlider(min=0, max=len(chainIds)-1, description='structure', continuous_update=False)\n",
    "    l_widget = FloatSlider(value=0.5, min=0, max=1, step=0.05, description='logFreq:', \n",
    "                           continuous_update=False, orientation='horizontal', readout=True, readout_format='.2f')\n",
    "    \n",
    "    return interact(view3d, show_bio_assembly=False, show_surface=False, show_short_label=True, show_long_label=False, \n",
    "                    size=z_widget, font=f_widget, logFreq=l_widget, i=s_widget)\n",
    "\n",
    "def view_image1():\n",
    "    return viewer1.png()"
   ]
  },
  {
   "cell_type": "code",
   "execution_count": 15,
   "metadata": {},
   "outputs": [
    {
     "data": {
      "application/vnd.jupyter.widget-view+json": {
       "model_id": "77a1eb0af2da49bbbb7eb7e5a33156fb",
       "version_major": 2,
       "version_minor": 0
      },
      "text/plain": [
       "interactive(children=(Checkbox(value=False, description='show_bio_assembly'), Checkbox(value=False, descriptio…"
      ]
     },
     "metadata": {},
     "output_type": "display_data"
    }
   ],
   "source": [
    "view_grouped_mutations(chains);"
   ]
  },
  {
   "cell_type": "markdown",
   "metadata": {},
   "source": [
    "## View one mutation at a time\n",
    "Use the slider to view each mutation. Interacting residues within the `distance_cutoff` are rendered as orange sticks."
   ]
  },
  {
   "cell_type": "code",
   "execution_count": 16,
   "metadata": {
    "code_folding": [
     0
    ],
    "jupyter": {
     "source_hidden": true
    }
   },
   "outputs": [],
   "source": [
    "# Setup viewer\n",
    "def view_single_mutation(df, distance_cutoff, *args):\n",
    "\n",
    "    def view3d(show_bio_assembly, show_surface, show_short_label, show_long_label, size, font, i):        \n",
    "        pdb_id, chain_id = df.iloc[i]['structureChainId'].split('.')\n",
    "        \n",
    "        global viewer2\n",
    "        viewer2 = py3Dmol.view(query='pdb:' + pdb_id, options={'doAssembly': show_bio_assembly}, width=size, height=size)\n",
    "\n",
    "        # polymer style\n",
    "        viewer2.setStyle({'cartoon': {'colorscheme': 'chain', 'width': 0.6, 'opacity':0.9}})\n",
    "        \n",
    "        # highlight chain of interest in blue\n",
    "        viewer2.setStyle({'chain': chain_id},{'cartoon': {'color': 'blue', 'opacity':0.7}})\n",
    "        \n",
    "        # non-polymer style\n",
    "        viewer2.setStyle({'hetflag': True}, {'stick':{'radius': 0.3, 'singleBond': False}})\n",
    "        \n",
    "        # interacting residue style\n",
    "        res_num = str(df.iloc[i]['pdbPosition'])\n",
    "        label = df.iloc[i]['variationId']     \n",
    "        mod_res = {'resi': res_num, 'chain': chain_id} \n",
    "        col = df.iloc[i]['color']\n",
    "        c_col = col + 'Carbon'\n",
    "        viewer2.addStyle(mod_res, {'stick':{'colorscheme':c_col, 'radius': 0.2}})\n",
    "        viewer2.addStyle(mod_res, {'sphere':{'color':col, 'opacity': 0.6}})   \n",
    "        \n",
    "        # don't display water molecules (except below for interactions)\n",
    "        viewer2.setStyle({'resn': ['HOH','DOD']}, {})\n",
    "            \n",
    "        # select residues in interacting chains by distance from mutation site (same chain is excluded)\n",
    "        surroundings = {'not': {'chain': chain_id}, 'byres': True, 'within': {'distance': distance_cutoff, 'sel': mod_res}}\n",
    "        \n",
    "        # set style for interacting residues\n",
    "        viewer2.setStyle(surroundings,{'cartoon':{'color':'orange', 'width': 0.6}})\n",
    "        viewer2.addStyle(surroundings,{'stick':{'colorscheme':'orangeCarbon', 'radius': 0.15}})\n",
    "    \n",
    "        # set style for interacting waters\n",
    "        waters = {'resn': ['HOH','DOD']}\n",
    "        waters.update(surroundings)\n",
    "        viewer2.addStyle(waters,{'sphere':{'color':'orange', 'radius': 0.5}})\n",
    "        \n",
    "        annotation = df.iloc[i]['annotation']\n",
    "        variationId = df.iloc[i]['variationId']      \n",
    "        \n",
    "        if show_short_label:\n",
    "            label = annotation\n",
    "        if show_long_label:\n",
    "            label = chain_id + \".\" + str(res_num) + \": \" + variationId\n",
    "        if show_short_label or show_long_label:\n",
    "            viewer2.addResLabels(surroundings, {'fontSize':font-2})\n",
    "            viewer2.addLabel(label, {'fontSize':font,'fontColor': 'black','backgroundColor':'ivory', 'opacity': 1.0}, mod_res)\n",
    "            \n",
    "        viewer2.zoomTo(surroundings)\n",
    "        viewer2.center(mod_res)\n",
    "        \n",
    "        if show_surface:\n",
    "             viewer2.addSurface(py3Dmol.SES, {'opacity':0.8,'color':'lightblue'}, {'chain': chain_id})\n",
    "                \n",
    "        #print header\n",
    "        print(\"PDB Id:\", pdb_id, \"chain Id:\" , chain_id, \"residue:\", res_num, \"mutation:\", variationId)\n",
    "        \n",
    "        # print any specified additional columns from the dataframe\n",
    "        for a in args:\n",
    "            print(a + \": \" + df.iloc[i][a])\n",
    "                \n",
    "        return viewer2.show()\n",
    "       \n",
    "    f_widget = IntSlider(value=9, min=5, max=20, description='font size', continuous_update=False)\n",
    "    z_widget = IntSlider(value=750, min=500, max=1200, description='size', continuous_update=False)\n",
    "    s_widget = IntSlider(min=0, max=len(df)-1, description='structure', continuous_update=False)\n",
    "    \n",
    "    return interact(view3d, show_bio_assembly=False, show_surface=False, show_short_label=True, show_long_label=False, \n",
    "                    size=z_widget, font=f_widget, i=s_widget)\n",
    "\n",
    "def view_image2():\n",
    "    return viewer2.png()"
   ]
  },
  {
   "cell_type": "code",
   "execution_count": 17,
   "metadata": {},
   "outputs": [],
   "source": [
    "mt_unique = mt.drop_duplicates([\"structureChainId\",\"variationId\"])"
   ]
  },
  {
   "cell_type": "code",
   "execution_count": 18,
   "metadata": {},
   "outputs": [
    {
     "data": {
      "application/vnd.jupyter.widget-view+json": {
       "model_id": "e1a7e4aa1eba48659129b89fe3c453f3",
       "version_major": 2,
       "version_minor": 0
      },
      "text/plain": [
       "interactive(children=(Checkbox(value=False, description='show_bio_assembly'), Checkbox(value=False, descriptio…"
      ]
     },
     "metadata": {},
     "output_type": "display_data"
    }
   ],
   "source": [
    "view_single_mutation(mt_unique, distance_cutoff);"
   ]
  },
  {
   "cell_type": "code",
   "execution_count": 19,
   "metadata": {
    "code_folding": [
     0
    ]
   },
   "outputs": [],
   "source": [
    "# Shutdown Spark\n",
    "spark.stop()"
   ]
  },
  {
   "cell_type": "markdown",
   "metadata": {},
   "source": [
    "## Now run the next step\n",
    "Map mutations occuring at protein-ligand binding sites: [3-MapToLigandInteractions.ipynb](3-MapToLigandInteractions.ipynb)"
   ]
  }
 ],
 "metadata": {
  "kernelspec": {
   "display_name": "Python 3",
   "language": "python",
   "name": "python3"
  },
  "language_info": {
   "codemirror_mode": {
    "name": "ipython",
    "version": 3
   },
   "file_extension": ".py",
   "mimetype": "text/x-python",
   "name": "python",
   "nbconvert_exporter": "python",
   "pygments_lexer": "ipython3",
   "version": "3.7.8"
  }
 },
 "nbformat": 4,
 "nbformat_minor": 4
}
