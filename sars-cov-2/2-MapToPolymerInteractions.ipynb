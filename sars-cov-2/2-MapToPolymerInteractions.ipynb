{
 "cells": [
  {
   "cell_type": "markdown",
   "metadata": {},
   "source": [
    "## Map Mutations to Protein-Protein and Protein-Nucleic Acid Interfaces\n",
    "Here we find and visualize the mutations that occur around protein-protein and protein-nucleic acid interfaces."
   ]
  },
  {
   "cell_type": "code",
   "execution_count": 1,
   "metadata": {},
   "outputs": [],
   "source": [
    "# Disable Numba: temporary workaround for https://github.com/sbl-sdsc/mmtf-pyspark/issues/288\n",
    "import os\n",
    "os.environ['NUMBA_DISABLE_JIT'] = \"1\""
   ]
  },
  {
   "cell_type": "code",
   "execution_count": 2,
   "metadata": {},
   "outputs": [],
   "source": [
    "from pyspark.sql import SparkSession\n",
    "from mmtfPyspark.io import mmtfReader\n",
    "from mmtfPyspark.interactions import InteractionExtractor, InteractionFilter\n",
    "from ipywidgets import interact, IntSlider, FloatSlider, SelectMultiple\n",
    "import py3Dmol\n",
    "import pandas as pd"
   ]
  },
  {
   "cell_type": "code",
   "execution_count": 3,
   "metadata": {
    "code_folding": [
     0
    ]
   },
   "outputs": [],
   "source": [
    "# Initialize Spark\n",
    "spark = SparkSession.builder.appName(\"2-MapToPolymerInteractions\").getOrCreate()"
   ]
  },
  {
   "cell_type": "code",
   "execution_count": 4,
   "metadata": {},
   "outputs": [],
   "source": [
    "# Enable Arrow-based columnar data transfers between Spark and Pandas dataframes\n",
    "# Commented out for deployment on Pangeo Binder since it causes an out of memory error\n",
    "# Exceeds spark.driver.maxResultSize (1024.0 MB)\n",
    "spark.conf.set(\"spark.sql.execution.arrow.enabled\", \"true\")"
   ]
  },
  {
   "cell_type": "markdown",
   "metadata": {},
   "source": [
    "#### Input parameters"
   ]
  },
  {
   "cell_type": "code",
   "execution_count": 5,
   "metadata": {},
   "outputs": [],
   "source": [
    "distance_cutoff = 8 # distance cutoff for finding and visualizing interactions\n",
    "input_file_name = 'mutations3d.csv' # mutations mapped to 3D protein structures\n",
    "output_file_name = 'mutations3d_polymer_inter.csv' # mutations mapped to polymer interactions"
   ]
  },
  {
   "cell_type": "markdown",
   "metadata": {},
   "source": [
    "## Read mutation file created in the previous step"
   ]
  },
  {
   "cell_type": "code",
   "execution_count": 6,
   "metadata": {},
   "outputs": [
    {
     "data": {
      "text/html": [
       "<div>\n",
       "<style scoped>\n",
       "    .dataframe tbody tr th:only-of-type {\n",
       "        vertical-align: middle;\n",
       "    }\n",
       "\n",
       "    .dataframe tbody tr th {\n",
       "        vertical-align: top;\n",
       "    }\n",
       "\n",
       "    .dataframe thead th {\n",
       "        text-align: right;\n",
       "    }\n",
       "</style>\n",
       "<table border=\"1\" class=\"dataframe\">\n",
       "  <thead>\n",
       "    <tr style=\"text-align: right;\">\n",
       "      <th></th>\n",
       "      <th>coverage</th>\n",
       "      <th>description</th>\n",
       "      <th>name</th>\n",
       "      <th>resolution</th>\n",
       "      <th>structureChainId</th>\n",
       "      <th>structureId</th>\n",
       "      <th>uniprotPosition</th>\n",
       "      <th>pdbPosition</th>\n",
       "      <th>residue</th>\n",
       "      <th>variationId</th>\n",
       "      <th>annotation</th>\n",
       "      <th>scale</th>\n",
       "      <th>color</th>\n",
       "      <th>targetGroupNumber</th>\n",
       "    </tr>\n",
       "  </thead>\n",
       "  <tbody>\n",
       "    <tr>\n",
       "      <th>0</th>\n",
       "      <td>0.088767</td>\n",
       "      <td>Spike protein S2, Spike protein S2, TETRAETHYL...</td>\n",
       "      <td>Spike glycoprotein</td>\n",
       "      <td>2.9</td>\n",
       "      <td>6LXT.A</td>\n",
       "      <td>6LXT</td>\n",
       "      <td>912</td>\n",
       "      <td>912</td>\n",
       "      <td>912</td>\n",
       "      <td>S:p.912T&gt;I(12), QHD43416.1:p.912T&gt;A(4)</td>\n",
       "      <td>912T&gt;I(12), 912T&gt;A(4)</td>\n",
       "      <td>0.181698</td>\n",
       "      <td>#fdd0bc</td>\n",
       "      <td>912</td>\n",
       "    </tr>\n",
       "    <tr>\n",
       "      <th>1</th>\n",
       "      <td>0.089552</td>\n",
       "      <td>Spike protein S2, Spike protein S2, TETRAETHYL...</td>\n",
       "      <td>Spike glycoprotein</td>\n",
       "      <td>2.9</td>\n",
       "      <td>6LXT.C</td>\n",
       "      <td>6LXT</td>\n",
       "      <td>912</td>\n",
       "      <td>912</td>\n",
       "      <td>912</td>\n",
       "      <td>S:p.912T&gt;I(12), QHD43416.1:p.912T&gt;A(4)</td>\n",
       "      <td>912T&gt;I(12), 912T&gt;A(4)</td>\n",
       "      <td>0.181698</td>\n",
       "      <td>#fdd0bc</td>\n",
       "      <td>912</td>\n",
       "    </tr>\n",
       "    <tr>\n",
       "      <th>2</th>\n",
       "      <td>0.084053</td>\n",
       "      <td>Spike protein S2, Spike protein S2, TETRAETHYL...</td>\n",
       "      <td>Spike glycoprotein</td>\n",
       "      <td>2.9</td>\n",
       "      <td>6LXT.D</td>\n",
       "      <td>6LXT</td>\n",
       "      <td>912</td>\n",
       "      <td>912</td>\n",
       "      <td>912</td>\n",
       "      <td>S:p.912T&gt;I(12), QHD43416.1:p.912T&gt;A(4)</td>\n",
       "      <td>912T&gt;I(12), 912T&gt;A(4)</td>\n",
       "      <td>0.181698</td>\n",
       "      <td>#fdd0bc</td>\n",
       "      <td>912</td>\n",
       "    </tr>\n",
       "    <tr>\n",
       "      <th>3</th>\n",
       "      <td>0.758837</td>\n",
       "      <td>Spike glycoprotein, 2-acetamido-2-deoxy-beta-D...</td>\n",
       "      <td>Spike glycoprotein</td>\n",
       "      <td>3.2</td>\n",
       "      <td>6VYB.A</td>\n",
       "      <td>6VYB</td>\n",
       "      <td>912</td>\n",
       "      <td>912</td>\n",
       "      <td>912</td>\n",
       "      <td>S:p.912T&gt;I(12), QHD43416.1:p.912T&gt;A(4)</td>\n",
       "      <td>912T&gt;I(12), 912T&gt;A(4)</td>\n",
       "      <td>0.181698</td>\n",
       "      <td>#fdd0bc</td>\n",
       "      <td>912</td>\n",
       "    </tr>\n",
       "    <tr>\n",
       "      <th>4</th>\n",
       "      <td>0.745483</td>\n",
       "      <td>Spike glycoprotein, 2-acetamido-2-deoxy-beta-D...</td>\n",
       "      <td>Spike glycoprotein</td>\n",
       "      <td>3.2</td>\n",
       "      <td>6VYB.B</td>\n",
       "      <td>6VYB</td>\n",
       "      <td>912</td>\n",
       "      <td>912</td>\n",
       "      <td>912</td>\n",
       "      <td>S:p.912T&gt;I(12), QHD43416.1:p.912T&gt;A(4)</td>\n",
       "      <td>912T&gt;I(12), 912T&gt;A(4)</td>\n",
       "      <td>0.181698</td>\n",
       "      <td>#fdd0bc</td>\n",
       "      <td>912</td>\n",
       "    </tr>\n",
       "  </tbody>\n",
       "</table>\n",
       "</div>"
      ],
      "text/plain": [
       "   coverage                                        description  \\\n",
       "0  0.088767  Spike protein S2, Spike protein S2, TETRAETHYL...   \n",
       "1  0.089552  Spike protein S2, Spike protein S2, TETRAETHYL...   \n",
       "2  0.084053  Spike protein S2, Spike protein S2, TETRAETHYL...   \n",
       "3  0.758837  Spike glycoprotein, 2-acetamido-2-deoxy-beta-D...   \n",
       "4  0.745483  Spike glycoprotein, 2-acetamido-2-deoxy-beta-D...   \n",
       "\n",
       "                 name  resolution structureChainId structureId  \\\n",
       "0  Spike glycoprotein         2.9           6LXT.A        6LXT   \n",
       "1  Spike glycoprotein         2.9           6LXT.C        6LXT   \n",
       "2  Spike glycoprotein         2.9           6LXT.D        6LXT   \n",
       "3  Spike glycoprotein         3.2           6VYB.A        6VYB   \n",
       "4  Spike glycoprotein         3.2           6VYB.B        6VYB   \n",
       "\n",
       "   uniprotPosition  pdbPosition  residue  \\\n",
       "0              912          912      912   \n",
       "1              912          912      912   \n",
       "2              912          912      912   \n",
       "3              912          912      912   \n",
       "4              912          912      912   \n",
       "\n",
       "                              variationId             annotation     scale  \\\n",
       "0  S:p.912T>I(12), QHD43416.1:p.912T>A(4)  912T>I(12), 912T>A(4)  0.181698   \n",
       "1  S:p.912T>I(12), QHD43416.1:p.912T>A(4)  912T>I(12), 912T>A(4)  0.181698   \n",
       "2  S:p.912T>I(12), QHD43416.1:p.912T>A(4)  912T>I(12), 912T>A(4)  0.181698   \n",
       "3  S:p.912T>I(12), QHD43416.1:p.912T>A(4)  912T>I(12), 912T>A(4)  0.181698   \n",
       "4  S:p.912T>I(12), QHD43416.1:p.912T>A(4)  912T>I(12), 912T>A(4)  0.181698   \n",
       "\n",
       "     color targetGroupNumber  \n",
       "0  #fdd0bc               912  \n",
       "1  #fdd0bc               912  \n",
       "2  #fdd0bc               912  \n",
       "3  #fdd0bc               912  \n",
       "4  #fdd0bc               912  "
      ]
     },
     "execution_count": 6,
     "metadata": {},
     "output_type": "execute_result"
    }
   ],
   "source": [
    "pd.set_option('display.max_columns', None)  # show all columns\n",
    "df = pd.read_csv(input_file_name)\n",
    "df['targetGroupNumber'] = df['pdbPosition'].astype('str') # PDB residue numbers must be string to handle insertion codes\n",
    "df.head()"
   ]
  },
  {
   "cell_type": "code",
   "execution_count": 7,
   "metadata": {},
   "outputs": [],
   "source": [
    "mutations=spark.createDataFrame(df) "
   ]
  },
  {
   "cell_type": "markdown",
   "metadata": {},
   "source": [
    "## Create a list of unique PDB Ids"
   ]
  },
  {
   "cell_type": "code",
   "execution_count": 8,
   "metadata": {},
   "outputs": [
    {
     "name": "stdout",
     "output_type": "stream",
     "text": [
      "PDB Ids: ['6LXT', '6VYB', '6Z43', '6ZHD', '7CZP', '7CZQ', '7CZR', '7CZS', '7CZT', '7CZU', '7CZV', '7CZW', '7CZX', '7CZY', '7CZZ', '7D00', '7D03', '7E7B', '7E7D', '6VW1', '6XE1', '6W41', '6YZ5', '6YZ7', '6ZBP']\n"
     ]
    }
   ],
   "source": [
    "pdb_ids = list(df.structureId.drop_duplicates())\n",
    "print(\"PDB Ids:\", pdb_ids)"
   ]
  },
  {
   "cell_type": "markdown",
   "metadata": {},
   "source": [
    "## Find all polymer-polymer interactions\n",
    "Find groups (residues) that interact with other polymer chains"
   ]
  },
  {
   "cell_type": "code",
   "execution_count": 9,
   "metadata": {},
   "outputs": [],
   "source": [
    "structures = mmtfReader.download_mmtf_files(pdb_ids)"
   ]
  },
  {
   "cell_type": "code",
   "execution_count": 10,
   "metadata": {},
   "outputs": [],
   "source": [
    "interaction_filter = InteractionFilter(distanceCutoff=distance_cutoff)\n",
    "\n",
    "interactions = InteractionExtractor().get_polymer_interactions(structures, interaction_filter, level='group')"
   ]
  },
  {
   "cell_type": "markdown",
   "metadata": {},
   "source": [
    "queryGroupId, queryChainId, and queryGroupNumber specify the residue that interacts with another chain (targetChainId)"
   ]
  },
  {
   "cell_type": "code",
   "execution_count": 11,
   "metadata": {},
   "outputs": [
    {
     "data": {
      "text/html": [
       "<div>\n",
       "<style scoped>\n",
       "    .dataframe tbody tr th:only-of-type {\n",
       "        vertical-align: middle;\n",
       "    }\n",
       "\n",
       "    .dataframe tbody tr th {\n",
       "        vertical-align: top;\n",
       "    }\n",
       "\n",
       "    .dataframe thead th {\n",
       "        text-align: right;\n",
       "    }\n",
       "</style>\n",
       "<table border=\"1\" class=\"dataframe\">\n",
       "  <thead>\n",
       "    <tr style=\"text-align: right;\">\n",
       "      <th></th>\n",
       "      <th>structureChainId</th>\n",
       "      <th>queryGroupId</th>\n",
       "      <th>queryChainId</th>\n",
       "      <th>queryGroupNumber</th>\n",
       "      <th>targetGroupId</th>\n",
       "      <th>targetChainId</th>\n",
       "      <th>targetGroupNumber</th>\n",
       "      <th>sequenceIndex</th>\n",
       "      <th>sequence</th>\n",
       "    </tr>\n",
       "  </thead>\n",
       "  <tbody>\n",
       "    <tr>\n",
       "      <th>0</th>\n",
       "      <td>7CZW.H</td>\n",
       "      <td>TYR</td>\n",
       "      <td>A</td>\n",
       "      <td>489</td>\n",
       "      <td>ARG</td>\n",
       "      <td>H</td>\n",
       "      <td>99</td>\n",
       "      <td>98</td>\n",
       "      <td>QVQLQESGPGLVKPSETLSLTCTVSGDSVSSGSYYWSWIRQPPGKG...</td>\n",
       "    </tr>\n",
       "    <tr>\n",
       "      <th>1</th>\n",
       "      <td>7CZW.J</td>\n",
       "      <td>ALA</td>\n",
       "      <td>N</td>\n",
       "      <td>45</td>\n",
       "      <td>GLN</td>\n",
       "      <td>J</td>\n",
       "      <td>120</td>\n",
       "      <td>119</td>\n",
       "      <td>QVQLQESGPGLVKPSETLSLTCTVSGDSVSSGSYYWSWIRQPPGKG...</td>\n",
       "    </tr>\n",
       "    <tr>\n",
       "      <th>2</th>\n",
       "      <td>7CZW.J</td>\n",
       "      <td>SER</td>\n",
       "      <td>N</td>\n",
       "      <td>170</td>\n",
       "      <td>PRO</td>\n",
       "      <td>J</td>\n",
       "      <td>182</td>\n",
       "      <td>181</td>\n",
       "      <td>QVQLQESGPGLVKPSETLSLTCTVSGDSVSSGSYYWSWIRQPPGKG...</td>\n",
       "    </tr>\n",
       "    <tr>\n",
       "      <th>3</th>\n",
       "      <td>7CZW.H</td>\n",
       "      <td>TYR</td>\n",
       "      <td>A</td>\n",
       "      <td>495</td>\n",
       "      <td>TYR</td>\n",
       "      <td>H</td>\n",
       "      <td>55</td>\n",
       "      <td>54</td>\n",
       "      <td>QVQLQESGPGLVKPSETLSLTCTVSGDSVSSGSYYWSWIRQPPGKG...</td>\n",
       "    </tr>\n",
       "    <tr>\n",
       "      <th>4</th>\n",
       "      <td>7CZW.C</td>\n",
       "      <td>SER</td>\n",
       "      <td>A</td>\n",
       "      <td>735</td>\n",
       "      <td>ASP</td>\n",
       "      <td>C</td>\n",
       "      <td>614</td>\n",
       "      <td>613</td>\n",
       "      <td>MFVFLVLLPLVSSQCVNLTTRTQLPPAYTNSFTRGVYYPDKVFRSS...</td>\n",
       "    </tr>\n",
       "  </tbody>\n",
       "</table>\n",
       "</div>"
      ],
      "text/plain": [
       "  structureChainId queryGroupId queryChainId queryGroupNumber targetGroupId  \\\n",
       "0           7CZW.H          TYR            A              489           ARG   \n",
       "1           7CZW.J          ALA            N               45           GLN   \n",
       "2           7CZW.J          SER            N              170           PRO   \n",
       "3           7CZW.H          TYR            A              495           TYR   \n",
       "4           7CZW.C          SER            A              735           ASP   \n",
       "\n",
       "  targetChainId targetGroupNumber  sequenceIndex  \\\n",
       "0             H                99             98   \n",
       "1             J               120            119   \n",
       "2             J               182            181   \n",
       "3             H                55             54   \n",
       "4             C               614            613   \n",
       "\n",
       "                                            sequence  \n",
       "0  QVQLQESGPGLVKPSETLSLTCTVSGDSVSSGSYYWSWIRQPPGKG...  \n",
       "1  QVQLQESGPGLVKPSETLSLTCTVSGDSVSSGSYYWSWIRQPPGKG...  \n",
       "2  QVQLQESGPGLVKPSETLSLTCTVSGDSVSSGSYYWSWIRQPPGKG...  \n",
       "3  QVQLQESGPGLVKPSETLSLTCTVSGDSVSSGSYYWSWIRQPPGKG...  \n",
       "4  MFVFLVLLPLVSSQCVNLTTRTQLPPAYTNSFTRGVYYPDKVFRSS...  "
      ]
     },
     "execution_count": 11,
     "metadata": {},
     "output_type": "execute_result"
    }
   ],
   "source": [
    "interactions.limit(5).toPandas()"
   ]
  },
  {
   "cell_type": "markdown",
   "metadata": {},
   "source": [
    "## Filter mutations by joining with the interaction data"
   ]
  },
  {
   "cell_type": "code",
   "execution_count": 12,
   "metadata": {},
   "outputs": [],
   "source": [
    "result = interactions.join(mutations, ['structureChainId', 'targetGroupNumber'], \"inner\")"
   ]
  },
  {
   "cell_type": "code",
   "execution_count": 13,
   "metadata": {},
   "outputs": [],
   "source": [
    "mt = result.toPandas()"
   ]
  },
  {
   "cell_type": "code",
   "execution_count": 14,
   "metadata": {},
   "outputs": [
    {
     "data": {
      "text/html": [
       "<div>\n",
       "<style scoped>\n",
       "    .dataframe tbody tr th:only-of-type {\n",
       "        vertical-align: middle;\n",
       "    }\n",
       "\n",
       "    .dataframe tbody tr th {\n",
       "        vertical-align: top;\n",
       "    }\n",
       "\n",
       "    .dataframe thead th {\n",
       "        text-align: right;\n",
       "    }\n",
       "</style>\n",
       "<table border=\"1\" class=\"dataframe\">\n",
       "  <thead>\n",
       "    <tr style=\"text-align: right;\">\n",
       "      <th></th>\n",
       "      <th>structureChainId</th>\n",
       "      <th>targetGroupNumber</th>\n",
       "      <th>queryGroupId</th>\n",
       "      <th>queryChainId</th>\n",
       "      <th>queryGroupNumber</th>\n",
       "      <th>targetGroupId</th>\n",
       "      <th>targetChainId</th>\n",
       "      <th>sequenceIndex</th>\n",
       "      <th>sequence</th>\n",
       "      <th>coverage</th>\n",
       "      <th>description</th>\n",
       "      <th>name</th>\n",
       "      <th>resolution</th>\n",
       "      <th>structureId</th>\n",
       "      <th>uniprotPosition</th>\n",
       "      <th>pdbPosition</th>\n",
       "      <th>residue</th>\n",
       "      <th>variationId</th>\n",
       "      <th>annotation</th>\n",
       "      <th>scale</th>\n",
       "      <th>color</th>\n",
       "    </tr>\n",
       "  </thead>\n",
       "  <tbody>\n",
       "    <tr>\n",
       "      <th>0</th>\n",
       "      <td>6LXT.B</td>\n",
       "      <td>947</td>\n",
       "      <td>VAL</td>\n",
       "      <td>A</td>\n",
       "      <td>952</td>\n",
       "      <td>LYS</td>\n",
       "      <td>B</td>\n",
       "      <td>37</td>\n",
       "      <td>GVTQNVLYENQKLIANQFNSAIGKIQDSLSSTASALGKLQDVVNQN...</td>\n",
       "      <td>0.088767</td>\n",
       "      <td>Spike protein S2, Spike protein S2, TETRAETHYL...</td>\n",
       "      <td>Spike glycoprotein</td>\n",
       "      <td>2.9</td>\n",
       "      <td>6LXT</td>\n",
       "      <td>947</td>\n",
       "      <td>947</td>\n",
       "      <td>947</td>\n",
       "      <td>S:p.947K&gt;R(98), S:p.947K&gt;I(2), S:p.947K&gt;E(2)</td>\n",
       "      <td>947K&gt;R(98), 947K&gt;I(2), 947K&gt;E(2)</td>\n",
       "      <td>0.303092</td>\n",
       "      <td>#fcaa8d</td>\n",
       "    </tr>\n",
       "    <tr>\n",
       "      <th>1</th>\n",
       "      <td>6LXT.B</td>\n",
       "      <td>947</td>\n",
       "      <td>VAL</td>\n",
       "      <td>A</td>\n",
       "      <td>1176</td>\n",
       "      <td>LYS</td>\n",
       "      <td>B</td>\n",
       "      <td>37</td>\n",
       "      <td>GVTQNVLYENQKLIANQFNSAIGKIQDSLSSTASALGKLQDVVNQN...</td>\n",
       "      <td>0.088767</td>\n",
       "      <td>Spike protein S2, Spike protein S2, TETRAETHYL...</td>\n",
       "      <td>Spike glycoprotein</td>\n",
       "      <td>2.9</td>\n",
       "      <td>6LXT</td>\n",
       "      <td>947</td>\n",
       "      <td>947</td>\n",
       "      <td>947</td>\n",
       "      <td>S:p.947K&gt;R(98), S:p.947K&gt;I(2), S:p.947K&gt;E(2)</td>\n",
       "      <td>947K&gt;R(98), 947K&gt;I(2), 947K&gt;E(2)</td>\n",
       "      <td>0.303092</td>\n",
       "      <td>#fcaa8d</td>\n",
       "    </tr>\n",
       "    <tr>\n",
       "      <th>2</th>\n",
       "      <td>6LXT.B</td>\n",
       "      <td>947</td>\n",
       "      <td>ILE</td>\n",
       "      <td>A</td>\n",
       "      <td>1179</td>\n",
       "      <td>LYS</td>\n",
       "      <td>B</td>\n",
       "      <td>37</td>\n",
       "      <td>GVTQNVLYENQKLIANQFNSAIGKIQDSLSSTASALGKLQDVVNQN...</td>\n",
       "      <td>0.088767</td>\n",
       "      <td>Spike protein S2, Spike protein S2, TETRAETHYL...</td>\n",
       "      <td>Spike glycoprotein</td>\n",
       "      <td>2.9</td>\n",
       "      <td>6LXT</td>\n",
       "      <td>947</td>\n",
       "      <td>947</td>\n",
       "      <td>947</td>\n",
       "      <td>S:p.947K&gt;R(98), S:p.947K&gt;I(2), S:p.947K&gt;E(2)</td>\n",
       "      <td>947K&gt;R(98), 947K&gt;I(2), 947K&gt;E(2)</td>\n",
       "      <td>0.303092</td>\n",
       "      <td>#fcaa8d</td>\n",
       "    </tr>\n",
       "    <tr>\n",
       "      <th>3</th>\n",
       "      <td>6LXT.B</td>\n",
       "      <td>947</td>\n",
       "      <td>ASN</td>\n",
       "      <td>A</td>\n",
       "      <td>1178</td>\n",
       "      <td>LYS</td>\n",
       "      <td>B</td>\n",
       "      <td>37</td>\n",
       "      <td>GVTQNVLYENQKLIANQFNSAIGKIQDSLSSTASALGKLQDVVNQN...</td>\n",
       "      <td>0.088767</td>\n",
       "      <td>Spike protein S2, Spike protein S2, TETRAETHYL...</td>\n",
       "      <td>Spike glycoprotein</td>\n",
       "      <td>2.9</td>\n",
       "      <td>6LXT</td>\n",
       "      <td>947</td>\n",
       "      <td>947</td>\n",
       "      <td>947</td>\n",
       "      <td>S:p.947K&gt;R(98), S:p.947K&gt;I(2), S:p.947K&gt;E(2)</td>\n",
       "      <td>947K&gt;R(98), 947K&gt;I(2), 947K&gt;E(2)</td>\n",
       "      <td>0.303092</td>\n",
       "      <td>#fcaa8d</td>\n",
       "    </tr>\n",
       "    <tr>\n",
       "      <th>4</th>\n",
       "      <td>6LXT.B</td>\n",
       "      <td>947</td>\n",
       "      <td>GLN</td>\n",
       "      <td>A</td>\n",
       "      <td>1180</td>\n",
       "      <td>LYS</td>\n",
       "      <td>B</td>\n",
       "      <td>37</td>\n",
       "      <td>GVTQNVLYENQKLIANQFNSAIGKIQDSLSSTASALGKLQDVVNQN...</td>\n",
       "      <td>0.088767</td>\n",
       "      <td>Spike protein S2, Spike protein S2, TETRAETHYL...</td>\n",
       "      <td>Spike glycoprotein</td>\n",
       "      <td>2.9</td>\n",
       "      <td>6LXT</td>\n",
       "      <td>947</td>\n",
       "      <td>947</td>\n",
       "      <td>947</td>\n",
       "      <td>S:p.947K&gt;R(98), S:p.947K&gt;I(2), S:p.947K&gt;E(2)</td>\n",
       "      <td>947K&gt;R(98), 947K&gt;I(2), 947K&gt;E(2)</td>\n",
       "      <td>0.303092</td>\n",
       "      <td>#fcaa8d</td>\n",
       "    </tr>\n",
       "  </tbody>\n",
       "</table>\n",
       "</div>"
      ],
      "text/plain": [
       "  structureChainId targetGroupNumber queryGroupId queryChainId  \\\n",
       "0           6LXT.B               947          VAL            A   \n",
       "1           6LXT.B               947          VAL            A   \n",
       "2           6LXT.B               947          ILE            A   \n",
       "3           6LXT.B               947          ASN            A   \n",
       "4           6LXT.B               947          GLN            A   \n",
       "\n",
       "  queryGroupNumber targetGroupId targetChainId  sequenceIndex  \\\n",
       "0              952           LYS             B             37   \n",
       "1             1176           LYS             B             37   \n",
       "2             1179           LYS             B             37   \n",
       "3             1178           LYS             B             37   \n",
       "4             1180           LYS             B             37   \n",
       "\n",
       "                                            sequence  coverage  \\\n",
       "0  GVTQNVLYENQKLIANQFNSAIGKIQDSLSSTASALGKLQDVVNQN...  0.088767   \n",
       "1  GVTQNVLYENQKLIANQFNSAIGKIQDSLSSTASALGKLQDVVNQN...  0.088767   \n",
       "2  GVTQNVLYENQKLIANQFNSAIGKIQDSLSSTASALGKLQDVVNQN...  0.088767   \n",
       "3  GVTQNVLYENQKLIANQFNSAIGKIQDSLSSTASALGKLQDVVNQN...  0.088767   \n",
       "4  GVTQNVLYENQKLIANQFNSAIGKIQDSLSSTASALGKLQDVVNQN...  0.088767   \n",
       "\n",
       "                                         description                name  \\\n",
       "0  Spike protein S2, Spike protein S2, TETRAETHYL...  Spike glycoprotein   \n",
       "1  Spike protein S2, Spike protein S2, TETRAETHYL...  Spike glycoprotein   \n",
       "2  Spike protein S2, Spike protein S2, TETRAETHYL...  Spike glycoprotein   \n",
       "3  Spike protein S2, Spike protein S2, TETRAETHYL...  Spike glycoprotein   \n",
       "4  Spike protein S2, Spike protein S2, TETRAETHYL...  Spike glycoprotein   \n",
       "\n",
       "   resolution structureId  uniprotPosition  pdbPosition  residue  \\\n",
       "0         2.9        6LXT              947          947      947   \n",
       "1         2.9        6LXT              947          947      947   \n",
       "2         2.9        6LXT              947          947      947   \n",
       "3         2.9        6LXT              947          947      947   \n",
       "4         2.9        6LXT              947          947      947   \n",
       "\n",
       "                                    variationId  \\\n",
       "0  S:p.947K>R(98), S:p.947K>I(2), S:p.947K>E(2)   \n",
       "1  S:p.947K>R(98), S:p.947K>I(2), S:p.947K>E(2)   \n",
       "2  S:p.947K>R(98), S:p.947K>I(2), S:p.947K>E(2)   \n",
       "3  S:p.947K>R(98), S:p.947K>I(2), S:p.947K>E(2)   \n",
       "4  S:p.947K>R(98), S:p.947K>I(2), S:p.947K>E(2)   \n",
       "\n",
       "                         annotation     scale    color  \n",
       "0  947K>R(98), 947K>I(2), 947K>E(2)  0.303092  #fcaa8d  \n",
       "1  947K>R(98), 947K>I(2), 947K>E(2)  0.303092  #fcaa8d  \n",
       "2  947K>R(98), 947K>I(2), 947K>E(2)  0.303092  #fcaa8d  \n",
       "3  947K>R(98), 947K>I(2), 947K>E(2)  0.303092  #fcaa8d  \n",
       "4  947K>R(98), 947K>I(2), 947K>E(2)  0.303092  #fcaa8d  "
      ]
     },
     "execution_count": 14,
     "metadata": {},
     "output_type": "execute_result"
    }
   ],
   "source": [
    "mt.head()"
   ]
  },
  {
   "cell_type": "markdown",
   "metadata": {},
   "source": [
    "## Save Mappings"
   ]
  },
  {
   "cell_type": "code",
   "execution_count": 15,
   "metadata": {},
   "outputs": [],
   "source": [
    "mt.to_csv(output_file_name, index=False)"
   ]
  },
  {
   "cell_type": "code",
   "execution_count": 16,
   "metadata": {
    "scrolled": true
   },
   "outputs": [
    {
     "name": "stdout",
     "output_type": "stream",
     "text": [
      "Chains: ['6LXT.A', '6LXT.B', '6LXT.C', '6LXT.D', '6LXT.E', '6LXT.F', '6VW1.E', '6VW1.F', '6VYB.A', '6VYB.B', '6VYB.C', '6W41.C', '6XE1.E', '6YZ5.E', '6YZ7.AAA', '6YZ7.EEE', '6Z43.A', '6Z43.B', '6Z43.C', '6ZBP.EEE', '6ZHD.A', '6ZHD.B', '6ZHD.C', '7CZP.A', '7CZP.B', '7CZP.C', '7CZQ.A', '7CZQ.B', '7CZQ.C', '7CZR.A', '7CZR.B', '7CZR.C', '7CZS.A', '7CZS.B', '7CZS.C', '7CZT.A', '7CZT.B', '7CZT.C', '7CZU.A', '7CZU.B', '7CZU.C', '7CZV.A', '7CZV.B', '7CZV.C', '7CZW.A', '7CZW.B', '7CZW.C', '7CZX.A', '7CZX.B', '7CZX.C', '7CZY.A', '7CZY.B', '7CZY.C', '7CZZ.A', '7CZZ.B', '7CZZ.C', '7D00.A', '7D00.B', '7D00.C', '7D03.A', '7D03.B', '7D03.C', '7E7B.A', '7E7B.B', '7E7B.C', '7E7D.A', '7E7D.B', '7E7D.C']\n"
     ]
    }
   ],
   "source": [
    "chains = mt.groupby('structureChainId')\n",
    "print(\"Chains:\", list(chains.groups.keys()))"
   ]
  },
  {
   "cell_type": "markdown",
   "metadata": {},
   "source": [
    "## View mutations grouped by protein chain"
   ]
  },
  {
   "cell_type": "markdown",
   "metadata": {},
   "source": [
    "Mutations are mapped onto protein chains for available 3D protein structures.\n",
    "\n",
    "Display options:\n",
    "\n",
    "|||\n",
    "|:-|:-|\n",
    "| *show_bio_assembly* | Toggle display of the biologically relevant quaternary structure |\n",
    "| *show_surface* | Toggle surface for protein chain |\n",
    "| *show_short_label* | Toggle display of mutation information<br>{UniProtResidue}{aminoAcid1}>{aminoAcid2}(# observations)<br>Example: 501N>Y(350436)|\n",
    "| *show_long_label* | Toggle display of mutation information<br>{PDBId}.{chainId}.{PDBResidue}: {geneName}.p{UniProtResidue}{aminoAcid1}>{aminoAcid2}(# observations)<br>Example: 6XDG.E.501: S:p.501N>Y(350436) |\n",
    "| *size* | Change size of visualization |\n",
    "| *font* | Change font size of annotations |\n",
    "| *logFreq* | Change minimum threshold to display mutations based on normalized log of mutation frequency [0.0 - 1.0]|\n",
    "| *structure* | Move slider to browse through available structures |"
   ]
  },
  {
   "cell_type": "markdown",
   "metadata": {},
   "source": [
    "#### Example: Move the structure slider to PDB ID:6XDG to see how mutations (e.g., 501N>Y) effect the binding of the Regeneron antibodies"
   ]
  },
  {
   "cell_type": "code",
   "execution_count": 17,
   "metadata": {
    "code_folding": [
     0
    ],
    "jupyter": {
     "source_hidden": true
    },
    "tags": []
   },
   "outputs": [],
   "source": [
    "# Setup viewer\n",
    "def view_grouped_mutations(grouped_df, *args):\n",
    "    chainIds = list(grouped_df.groups.keys())\n",
    "\n",
    "    def view3d(show_bio_assembly, show_surface, show_short_label, show_long_label, size, font, logFreq, i):\n",
    "        group = grouped_df.get_group(chainIds[i])\n",
    "        \n",
    "        pdb_id, chain_id = chainIds[i].split('.')\n",
    "        global viewer1\n",
    "        viewer1 = py3Dmol.view(query='pdb:' + pdb_id, options={'doAssembly': show_bio_assembly}, width=size, height=size)\n",
    "\n",
    "        # polymer style\n",
    "        viewer1.setStyle({'cartoon': {'colorscheme': 'chain', 'width': 0.6, 'opacity':0.9}})\n",
    " \n",
    "        # highlight chain of interest in blue\n",
    "        viewer1.setStyle({'chain': chain_id},{'cartoon': {'color': 'blue'}})\n",
    "        \n",
    "        # non-polymer style\n",
    "        viewer1.setStyle({'hetflag': True}, {'stick':{'radius': 0.3, 'singleBond': False}})\n",
    "    \n",
    "        # don't display water molecules\n",
    "        viewer1.setStyle({'resn': ['HOH','DOD']}, {})\n",
    "        \n",
    "        modified_residues = set()\n",
    "        rows = group.shape[0]\n",
    "        for j in range(0, rows):\n",
    "            if group.iloc[j]['scale'] > logFreq:\n",
    "                res_num = str(group.iloc[j]['pdbPosition'])\n",
    "                mod_res = {'resi': res_num, 'chain': chain_id} \n",
    "                modified_residues.add(res_num)\n",
    "            \n",
    "                # style for mutated residue\n",
    "                col = group.iloc[j]['color']\n",
    "                c_col = col + 'Carbon'\n",
    "                viewer1.addStyle(mod_res, {'stick':{'colorscheme':c_col, 'radius': 0.2}})\n",
    "                viewer1.addStyle(mod_res, {'sphere':{'color':col, 'opacity': 0.6}}) \n",
    "           \n",
    "                # style for interacting residues\n",
    "                surroundings = {'not': {'chain': chain_id}, 'byres': True, 'within': {'distance': distance_cutoff, 'sel': mod_res}}\n",
    "                viewer1.setStyle(surroundings,{'cartoon':{'color':'orange', 'width': 0.6}})\n",
    "                viewer1.addStyle(surroundings,{'stick':{'colorscheme':'orangeCarbon', 'radius': 0.15}})\n",
    "                # style for interacting waters\n",
    "                waters = {'resn': ['HOH','DOD']}\n",
    "                waters.update(surroundings)\n",
    "                viewer1.addStyle(waters,{'sphere':{'color':'orange', 'radius': 0.5}})\n",
    "                \n",
    "                if show_short_label or show_long_label:\n",
    "                    viewer1.addResLabels(surroundings, {'fontSize':font-2})\n",
    "            \n",
    "                # text label\n",
    "                annotation = group.iloc[j]['annotation']\n",
    "                variationId = group.iloc[j]['variationId']\n",
    "                \n",
    "                if show_short_label:\n",
    "                    label = annotation\n",
    "                if show_long_label:\n",
    "                    label = chain_id + \".\" + str(res_num) + \": \" + variationId\n",
    "                if show_short_label or show_long_label:\n",
    "                    viewer1.addLabel(label, {'fontSize':font,'fontColor': 'black','backgroundColor':'ivory', 'opacity': 1.0}, mod_res)\n",
    "              \n",
    "        viewer1.zoomTo({'chain': chain_id})\n",
    "        viewer1.center({'chain': chain_id})\n",
    "        \n",
    "        if show_surface:\n",
    "             viewer1.addSurface(py3Dmol.SES,{'opacity':0.8,'color':'lightblue'},{'chain': chain_id})\n",
    "                \n",
    "        # print header\n",
    "        resolution = group.iloc[0]['resolution']\n",
    "        coverage = group.iloc[0]['coverage']\n",
    "        description = group.iloc[0]['description']\n",
    "        print(f\"PDB Id:{pdb_id}, chain Id:{chain_id}, resolution:{resolution}, sequence coverage:{coverage:.2f}\")\n",
    "        print(description)\n",
    "                \n",
    "        return viewer1.show()\n",
    "       \n",
    "    f_widget = IntSlider(value=9, min=5, max=20, description='font size', continuous_update=False)\n",
    "    z_widget = IntSlider(value=750, min=500, max=1200, description='size', continuous_update=False)\n",
    "    s_widget = IntSlider(min=0, max=len(chainIds)-1, description='structure', continuous_update=False)\n",
    "    l_widget = FloatSlider(value=0.8, min=0, max=1, step=0.05, description='logFreq:', \n",
    "                           continuous_update=False, orientation='horizontal', readout=True, readout_format='.2f')\n",
    "    \n",
    "    return interact(view3d, show_bio_assembly=False, show_surface=False, show_short_label=True, show_long_label=False, \n",
    "                    size=z_widget, font=f_widget, logFreq=l_widget, i=s_widget)\n",
    "\n",
    "def view_image1():\n",
    "    return viewer1.png()"
   ]
  },
  {
   "cell_type": "code",
   "execution_count": 18,
   "metadata": {
    "tags": []
   },
   "outputs": [
    {
     "data": {
      "application/vnd.jupyter.widget-view+json": {
       "model_id": "b800aa89b05d44309e414f82195f24c0",
       "version_major": 2,
       "version_minor": 0
      },
      "text/plain": [
       "interactive(children=(Checkbox(value=False, description='show_bio_assembly'), Checkbox(value=False, descriptio…"
      ]
     },
     "metadata": {},
     "output_type": "display_data"
    }
   ],
   "source": [
    "view_grouped_mutations(chains);"
   ]
  },
  {
   "cell_type": "markdown",
   "metadata": {},
   "source": [
    "## View one mutation at a time\n",
    "Use the slider to view each mutation. Interacting residues within the `distance_cutoff` are rendered as orange sticks."
   ]
  },
  {
   "cell_type": "code",
   "execution_count": 19,
   "metadata": {
    "code_folding": [
     0
    ],
    "jupyter": {
     "source_hidden": true
    }
   },
   "outputs": [],
   "source": [
    "# Setup viewer\n",
    "def view_single_mutation(df, distance_cutoff, *args):\n",
    "\n",
    "    def view3d(show_bio_assembly, show_surface, show_short_label, show_long_label, size, font, i):        \n",
    "        pdb_id, chain_id = df.iloc[i]['structureChainId'].split('.')\n",
    "        \n",
    "        global viewer2\n",
    "        viewer2 = py3Dmol.view(query='pdb:' + pdb_id, options={'doAssembly': show_bio_assembly}, width=size, height=size)\n",
    "\n",
    "        # polymer style\n",
    "        viewer2.setStyle({'cartoon': {'colorscheme': 'chain', 'width': 0.6, 'opacity':0.9}})\n",
    "        \n",
    "        # highlight chain of interest in blue\n",
    "        viewer2.setStyle({'chain': chain_id},{'cartoon': {'color': 'blue', 'opacity':0.7}})\n",
    "        \n",
    "        # non-polymer style\n",
    "        viewer2.setStyle({'hetflag': True}, {'stick':{'radius': 0.3, 'singleBond': False}})\n",
    "        \n",
    "        # interacting residue style\n",
    "        res_num = str(df.iloc[i]['pdbPosition'])\n",
    "        label = df.iloc[i]['variationId']     \n",
    "        mod_res = {'resi': res_num, 'chain': chain_id} \n",
    "        col = df.iloc[i]['color']\n",
    "        c_col = col + 'Carbon'\n",
    "        viewer2.addStyle(mod_res, {'stick':{'colorscheme':c_col, 'radius': 0.2}})\n",
    "        viewer2.addStyle(mod_res, {'sphere':{'color':col, 'opacity': 0.6}})   \n",
    "        \n",
    "        # don't display water molecules (except below for interactions)\n",
    "        viewer2.setStyle({'resn': ['HOH','DOD']}, {})\n",
    "            \n",
    "        # select residues in interacting chains by distance from mutation site (same chain is excluded)\n",
    "        surroundings = {'not': {'chain': chain_id}, 'byres': True, 'within': {'distance': distance_cutoff, 'sel': mod_res}}\n",
    "        \n",
    "        # set style for interacting residues\n",
    "        viewer2.setStyle(surroundings,{'cartoon':{'color':'orange', 'width': 0.6}})\n",
    "        viewer2.addStyle(surroundings,{'stick':{'colorscheme':'orangeCarbon', 'radius': 0.15}})\n",
    "    \n",
    "        # set style for interacting waters\n",
    "        waters = {'resn': ['HOH','DOD']}\n",
    "        waters.update(surroundings)\n",
    "        viewer2.addStyle(waters,{'sphere':{'color':'orange', 'radius': 0.5}})\n",
    "        \n",
    "        annotation = df.iloc[i]['annotation']\n",
    "        variationId = df.iloc[i]['variationId']      \n",
    "        \n",
    "        if show_short_label:\n",
    "            label = annotation\n",
    "        if show_long_label:\n",
    "            label = chain_id + \".\" + str(res_num) + \": \" + variationId\n",
    "        if show_short_label or show_long_label:\n",
    "            viewer2.addResLabels(surroundings, {'fontSize':font-2})\n",
    "            viewer2.addLabel(label, {'fontSize':font,'fontColor': 'black','backgroundColor':'ivory', 'opacity': 1.0}, mod_res)\n",
    "            \n",
    "        viewer2.zoomTo(surroundings)\n",
    "        viewer2.center(mod_res)\n",
    "        \n",
    "        if show_surface:\n",
    "             viewer2.addSurface(py3Dmol.SES, {'opacity':0.8,'color':'lightblue'}, {'chain': chain_id})\n",
    "                \n",
    "        #print header\n",
    "        print(\"PDB Id:\", pdb_id, \"chain Id:\" , chain_id, \"residue:\", res_num, \"mutation:\", variationId)\n",
    "        \n",
    "        # print any specified additional columns from the dataframe\n",
    "        for a in args:\n",
    "            print(a + \": \" + df.iloc[i][a])\n",
    "                \n",
    "        return viewer2.show()\n",
    "       \n",
    "    f_widget = IntSlider(value=9, min=5, max=20, description='font size', continuous_update=False)\n",
    "    z_widget = IntSlider(value=750, min=500, max=1200, description='size', continuous_update=False)\n",
    "    s_widget = IntSlider(min=0, max=len(df)-1, description='structure', continuous_update=False)\n",
    "    \n",
    "    return interact(view3d, show_bio_assembly=False, show_surface=False, show_short_label=True, show_long_label=False, \n",
    "                    size=z_widget, font=f_widget, i=s_widget)\n",
    "\n",
    "def view_image2():\n",
    "    return viewer2.png()"
   ]
  },
  {
   "cell_type": "code",
   "execution_count": 20,
   "metadata": {},
   "outputs": [],
   "source": [
    "mt_unique = mt.drop_duplicates([\"structureChainId\",\"variationId\"])"
   ]
  },
  {
   "cell_type": "code",
   "execution_count": 21,
   "metadata": {},
   "outputs": [
    {
     "data": {
      "application/vnd.jupyter.widget-view+json": {
       "model_id": "efc42e11c8df47c7983544b4a96ff91e",
       "version_major": 2,
       "version_minor": 0
      },
      "text/plain": [
       "interactive(children=(Checkbox(value=False, description='show_bio_assembly'), Checkbox(value=False, descriptio…"
      ]
     },
     "metadata": {},
     "output_type": "display_data"
    }
   ],
   "source": [
    "view_single_mutation(mt_unique, distance_cutoff);"
   ]
  },
  {
   "cell_type": "code",
   "execution_count": 22,
   "metadata": {
    "code_folding": [
     0
    ]
   },
   "outputs": [],
   "source": [
    "# Shutdown Spark\n",
    "spark.stop()"
   ]
  },
  {
   "cell_type": "markdown",
   "metadata": {},
   "source": [
    "## Now run the next step\n",
    "Map mutations occuring at protein-ligand binding sites: [3-MapToLigandInteractions.ipynb](3-MapToLigandInteractions.ipynb)"
   ]
  },
  {
   "cell_type": "code",
   "execution_count": null,
   "metadata": {},
   "outputs": [],
   "source": []
  }
 ],
 "metadata": {
  "kernelspec": {
   "display_name": "Python 3",
   "language": "python",
   "name": "python3"
  },
  "language_info": {
   "codemirror_mode": {
    "name": "ipython",
    "version": 3
   },
   "file_extension": ".py",
   "mimetype": "text/x-python",
   "name": "python",
   "nbconvert_exporter": "python",
   "pygments_lexer": "ipython3",
   "version": "3.6.13"
  }
 },
 "nbformat": 4,
 "nbformat_minor": 4
}
