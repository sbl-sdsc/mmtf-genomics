{
 "cells": [
  {
   "cell_type": "markdown",
   "metadata": {},
   "source": [
    "# UniProt Sequence Coverage by 3D Structures in PDB"
   ]
  },
  {
   "cell_type": "markdown",
   "metadata": {},
   "source": [
    "This notebook determines the coverage of UniProtKB sequences on a per protein chain basis for protein structures in the PDB."
   ]
  },
  {
   "cell_type": "code",
   "execution_count": 1,
   "metadata": {},
   "outputs": [],
   "source": [
    "import pandas as pd\n",
    "import matplotlib.pyplot as plt"
   ]
  },
  {
   "cell_type": "markdown",
   "metadata": {},
   "source": [
    "## Get UniProtKB Data\n",
    "UniProt id, preferred gene name, and sequence length ([see column names for RESTful web services](https://www.uniprot.org/help/uniprotkb_column_names))."
   ]
  },
  {
   "cell_type": "code",
   "execution_count": 2,
   "metadata": {},
   "outputs": [],
   "source": [
    "taxonomy_id = 9606\n",
    "columns = 'id,genes(PREFERRED),length'"
   ]
  },
  {
   "cell_type": "code",
   "execution_count": 3,
   "metadata": {},
   "outputs": [],
   "source": [
    "url = f'https://www.uniprot.org/uniprot/?query=organism:{taxonomy_id}&columns={columns}&format=tab'"
   ]
  },
  {
   "cell_type": "code",
   "execution_count": 4,
   "metadata": {
    "scrolled": true
   },
   "outputs": [
    {
     "data": {
      "text/html": [
       "<div>\n",
       "<style scoped>\n",
       "    .dataframe tbody tr th:only-of-type {\n",
       "        vertical-align: middle;\n",
       "    }\n",
       "\n",
       "    .dataframe tbody tr th {\n",
       "        vertical-align: top;\n",
       "    }\n",
       "\n",
       "    .dataframe thead th {\n",
       "        text-align: right;\n",
       "    }\n",
       "</style>\n",
       "<table border=\"1\" class=\"dataframe\">\n",
       "  <thead>\n",
       "    <tr style=\"text-align: right;\">\n",
       "      <th></th>\n",
       "      <th>Entry</th>\n",
       "      <th>GENE</th>\n",
       "      <th>Length</th>\n",
       "    </tr>\n",
       "  </thead>\n",
       "  <tbody>\n",
       "    <tr>\n",
       "      <th>0</th>\n",
       "      <td>Q66K14</td>\n",
       "      <td>TBC1D9B</td>\n",
       "      <td>1250</td>\n",
       "    </tr>\n",
       "    <tr>\n",
       "      <th>1</th>\n",
       "      <td>Q9UMR3</td>\n",
       "      <td>TBX20</td>\n",
       "      <td>447</td>\n",
       "    </tr>\n",
       "    <tr>\n",
       "      <th>2</th>\n",
       "      <td>Q9P031</td>\n",
       "      <td>CCDC59</td>\n",
       "      <td>241</td>\n",
       "    </tr>\n",
       "    <tr>\n",
       "      <th>3</th>\n",
       "      <td>Q6PEY2</td>\n",
       "      <td>TUBA3E</td>\n",
       "      <td>450</td>\n",
       "    </tr>\n",
       "    <tr>\n",
       "      <th>4</th>\n",
       "      <td>Q9P016</td>\n",
       "      <td>THYN1</td>\n",
       "      <td>225</td>\n",
       "    </tr>\n",
       "  </tbody>\n",
       "</table>\n",
       "</div>"
      ],
      "text/plain": [
       "    Entry     GENE  Length\n",
       "0  Q66K14  TBC1D9B    1250\n",
       "1  Q9UMR3    TBX20     447\n",
       "2  Q9P031   CCDC59     241\n",
       "3  Q6PEY2   TUBA3E     450\n",
       "4  Q9P016    THYN1     225"
      ]
     },
     "execution_count": 4,
     "metadata": {},
     "output_type": "execute_result"
    }
   ],
   "source": [
    "unp = pd.read_csv(url, sep='\\t')\n",
    "unp.rename(columns={'Gene names  (primary )': 'GENE'}, inplace=True)  ## create name without spaces\n",
    "unp.head()"
   ]
  },
  {
   "cell_type": "code",
   "execution_count": 5,
   "metadata": {},
   "outputs": [
    {
     "name": "stdout",
     "output_type": "stream",
     "text": [
      "Unique proteins:  196111 for organism: 9606\n",
      "Unique genes   :  26806 for organism: 9606\n"
     ]
    }
   ],
   "source": [
    "print('Unique proteins: ', len(unp['Entry'].unique()), 'for organism:', taxonomy_id)\n",
    "print('Unique genes   : ', len(unp['GENE'].unique()), 'for organism:', taxonomy_id)"
   ]
  },
  {
   "cell_type": "markdown",
   "metadata": {},
   "source": [
    "## Get UniProt segments covered by PDB residues\n",
    "Get continuous segments of the UniProt sequence covered by PDB residues from EBI [SIFTS](https://www.ebi.ac.uk/pdbe/docs/sifts/) project."
   ]
  },
  {
   "cell_type": "code",
   "execution_count": 6,
   "metadata": {},
   "outputs": [],
   "source": [
    "sifts_url = 'http://ftp.ebi.ac.uk/pub/databases/msd/sifts/flatfiles/tsv/uniprot_segments_observed.tsv.gz'"
   ]
  },
  {
   "cell_type": "code",
   "execution_count": 7,
   "metadata": {
    "scrolled": true
   },
   "outputs": [
    {
     "data": {
      "text/html": [
       "<div>\n",
       "<style scoped>\n",
       "    .dataframe tbody tr th:only-of-type {\n",
       "        vertical-align: middle;\n",
       "    }\n",
       "\n",
       "    .dataframe tbody tr th {\n",
       "        vertical-align: top;\n",
       "    }\n",
       "\n",
       "    .dataframe thead th {\n",
       "        text-align: right;\n",
       "    }\n",
       "</style>\n",
       "<table border=\"1\" class=\"dataframe\">\n",
       "  <thead>\n",
       "    <tr style=\"text-align: right;\">\n",
       "      <th></th>\n",
       "      <th>PDB</th>\n",
       "      <th>CHAIN</th>\n",
       "      <th>SP_PRIMARY</th>\n",
       "      <th>RES_BEG</th>\n",
       "      <th>RES_END</th>\n",
       "      <th>PDB_BEG</th>\n",
       "      <th>PDB_END</th>\n",
       "      <th>SP_BEG</th>\n",
       "      <th>SP_END</th>\n",
       "    </tr>\n",
       "  </thead>\n",
       "  <tbody>\n",
       "    <tr>\n",
       "      <th>0</th>\n",
       "      <td>105m</td>\n",
       "      <td>A</td>\n",
       "      <td>P02185</td>\n",
       "      <td>1</td>\n",
       "      <td>153</td>\n",
       "      <td>1</td>\n",
       "      <td>153</td>\n",
       "      <td>2</td>\n",
       "      <td>154</td>\n",
       "    </tr>\n",
       "    <tr>\n",
       "      <th>1</th>\n",
       "      <td>113l</td>\n",
       "      <td>A</td>\n",
       "      <td>P00720</td>\n",
       "      <td>1</td>\n",
       "      <td>162</td>\n",
       "      <td>1</td>\n",
       "      <td>162</td>\n",
       "      <td>1</td>\n",
       "      <td>162</td>\n",
       "    </tr>\n",
       "    <tr>\n",
       "      <th>2</th>\n",
       "      <td>123l</td>\n",
       "      <td>A</td>\n",
       "      <td>P00720</td>\n",
       "      <td>1</td>\n",
       "      <td>162</td>\n",
       "      <td>1</td>\n",
       "      <td>162</td>\n",
       "      <td>1</td>\n",
       "      <td>162</td>\n",
       "    </tr>\n",
       "    <tr>\n",
       "      <th>3</th>\n",
       "      <td>156l</td>\n",
       "      <td>A</td>\n",
       "      <td>P00720</td>\n",
       "      <td>1</td>\n",
       "      <td>162</td>\n",
       "      <td>1</td>\n",
       "      <td>162</td>\n",
       "      <td>1</td>\n",
       "      <td>162</td>\n",
       "    </tr>\n",
       "    <tr>\n",
       "      <th>4</th>\n",
       "      <td>128l</td>\n",
       "      <td>A</td>\n",
       "      <td>P00720</td>\n",
       "      <td>1</td>\n",
       "      <td>162</td>\n",
       "      <td>1</td>\n",
       "      <td>162</td>\n",
       "      <td>1</td>\n",
       "      <td>162</td>\n",
       "    </tr>\n",
       "  </tbody>\n",
       "</table>\n",
       "</div>"
      ],
      "text/plain": [
       "    PDB CHAIN SP_PRIMARY  RES_BEG  RES_END PDB_BEG PDB_END  SP_BEG  SP_END\n",
       "0  105m     A     P02185        1      153       1     153       2     154\n",
       "1  113l     A     P00720        1      162       1     162       1     162\n",
       "2  123l     A     P00720        1      162       1     162       1     162\n",
       "3  156l     A     P00720        1      162       1     162       1     162\n",
       "4  128l     A     P00720        1      162       1     162       1     162"
      ]
     },
     "execution_count": 7,
     "metadata": {},
     "output_type": "execute_result"
    }
   ],
   "source": [
    "segments = pd.read_csv(sifts_url, sep='\\t', skiprows=1)\n",
    "segments.head()"
   ]
  },
  {
   "cell_type": "markdown",
   "metadata": {},
   "source": [
    "Calculate length of each continuous segment. A chain may have one or more segments."
   ]
  },
  {
   "cell_type": "code",
   "execution_count": 8,
   "metadata": {},
   "outputs": [],
   "source": [
    "segments['SEG_LENGTH'] = segments['SP_END'] - segments['SP_BEG'] + 1"
   ]
  },
  {
   "cell_type": "markdown",
   "metadata": {},
   "source": [
    "Create a unique key for each chain. Use upper case for PDB IDs. Note, Chain IDs are case sensitive!"
   ]
  },
  {
   "cell_type": "code",
   "execution_count": 9,
   "metadata": {},
   "outputs": [],
   "source": [
    "segments['PDB_CHAIN_ID'] = segments['PDB'].str.upper()  + \".\" + segments['CHAIN']\n",
    "segments = segments[['PDB_CHAIN_ID','SP_PRIMARY','SP_BEG','SP_END','SEG_LENGTH']]"
   ]
  },
  {
   "cell_type": "code",
   "execution_count": 10,
   "metadata": {
    "scrolled": true
   },
   "outputs": [
    {
     "data": {
      "text/html": [
       "<div>\n",
       "<style scoped>\n",
       "    .dataframe tbody tr th:only-of-type {\n",
       "        vertical-align: middle;\n",
       "    }\n",
       "\n",
       "    .dataframe tbody tr th {\n",
       "        vertical-align: top;\n",
       "    }\n",
       "\n",
       "    .dataframe thead th {\n",
       "        text-align: right;\n",
       "    }\n",
       "</style>\n",
       "<table border=\"1\" class=\"dataframe\">\n",
       "  <thead>\n",
       "    <tr style=\"text-align: right;\">\n",
       "      <th></th>\n",
       "      <th>PDB_CHAIN_ID</th>\n",
       "      <th>SP_PRIMARY</th>\n",
       "      <th>SP_BEG</th>\n",
       "      <th>SP_END</th>\n",
       "      <th>SEG_LENGTH</th>\n",
       "    </tr>\n",
       "  </thead>\n",
       "  <tbody>\n",
       "    <tr>\n",
       "      <th>0</th>\n",
       "      <td>105M.A</td>\n",
       "      <td>P02185</td>\n",
       "      <td>2</td>\n",
       "      <td>154</td>\n",
       "      <td>153</td>\n",
       "    </tr>\n",
       "    <tr>\n",
       "      <th>1</th>\n",
       "      <td>113L.A</td>\n",
       "      <td>P00720</td>\n",
       "      <td>1</td>\n",
       "      <td>162</td>\n",
       "      <td>162</td>\n",
       "    </tr>\n",
       "    <tr>\n",
       "      <th>2</th>\n",
       "      <td>123L.A</td>\n",
       "      <td>P00720</td>\n",
       "      <td>1</td>\n",
       "      <td>162</td>\n",
       "      <td>162</td>\n",
       "    </tr>\n",
       "    <tr>\n",
       "      <th>3</th>\n",
       "      <td>156L.A</td>\n",
       "      <td>P00720</td>\n",
       "      <td>1</td>\n",
       "      <td>162</td>\n",
       "      <td>162</td>\n",
       "    </tr>\n",
       "    <tr>\n",
       "      <th>4</th>\n",
       "      <td>128L.A</td>\n",
       "      <td>P00720</td>\n",
       "      <td>1</td>\n",
       "      <td>162</td>\n",
       "      <td>162</td>\n",
       "    </tr>\n",
       "  </tbody>\n",
       "</table>\n",
       "</div>"
      ],
      "text/plain": [
       "  PDB_CHAIN_ID SP_PRIMARY  SP_BEG  SP_END  SEG_LENGTH\n",
       "0       105M.A     P02185       2     154         153\n",
       "1       113L.A     P00720       1     162         162\n",
       "2       123L.A     P00720       1     162         162\n",
       "3       156L.A     P00720       1     162         162\n",
       "4       128L.A     P00720       1     162         162"
      ]
     },
     "execution_count": 10,
     "metadata": {},
     "output_type": "execute_result"
    }
   ],
   "source": [
    "segments.head()"
   ]
  },
  {
   "cell_type": "markdown",
   "metadata": {},
   "source": [
    "## Create the intersection between the two dataframes"
   ]
  },
  {
   "cell_type": "code",
   "execution_count": 11,
   "metadata": {},
   "outputs": [],
   "source": [
    "coverage = segments.merge(unp, left_on=['SP_PRIMARY'], right_on=['Entry'])"
   ]
  },
  {
   "cell_type": "markdown",
   "metadata": {},
   "source": [
    "Calculate the coverage per segment."
   ]
  },
  {
   "cell_type": "code",
   "execution_count": 12,
   "metadata": {},
   "outputs": [
    {
     "data": {
      "text/html": [
       "<div>\n",
       "<style scoped>\n",
       "    .dataframe tbody tr th:only-of-type {\n",
       "        vertical-align: middle;\n",
       "    }\n",
       "\n",
       "    .dataframe tbody tr th {\n",
       "        vertical-align: top;\n",
       "    }\n",
       "\n",
       "    .dataframe thead th {\n",
       "        text-align: right;\n",
       "    }\n",
       "</style>\n",
       "<table border=\"1\" class=\"dataframe\">\n",
       "  <thead>\n",
       "    <tr style=\"text-align: right;\">\n",
       "      <th></th>\n",
       "      <th>PDB_CHAIN_ID</th>\n",
       "      <th>SP_PRIMARY</th>\n",
       "      <th>SP_BEG</th>\n",
       "      <th>SP_END</th>\n",
       "      <th>SEG_LENGTH</th>\n",
       "      <th>Entry</th>\n",
       "      <th>GENE</th>\n",
       "      <th>Length</th>\n",
       "      <th>coverage</th>\n",
       "    </tr>\n",
       "  </thead>\n",
       "  <tbody>\n",
       "    <tr>\n",
       "      <th>0</th>\n",
       "      <td>1A1X.A</td>\n",
       "      <td>P56278</td>\n",
       "      <td>2</td>\n",
       "      <td>107</td>\n",
       "      <td>106</td>\n",
       "      <td>P56278</td>\n",
       "      <td>MTCP1</td>\n",
       "      <td>107</td>\n",
       "      <td>0.990654</td>\n",
       "    </tr>\n",
       "    <tr>\n",
       "      <th>1</th>\n",
       "      <td>1QTT.A</td>\n",
       "      <td>P56278</td>\n",
       "      <td>1</td>\n",
       "      <td>107</td>\n",
       "      <td>107</td>\n",
       "      <td>P56278</td>\n",
       "      <td>MTCP1</td>\n",
       "      <td>107</td>\n",
       "      <td>1.000000</td>\n",
       "    </tr>\n",
       "    <tr>\n",
       "      <th>2</th>\n",
       "      <td>1QTU.A</td>\n",
       "      <td>P56278</td>\n",
       "      <td>1</td>\n",
       "      <td>107</td>\n",
       "      <td>107</td>\n",
       "      <td>P56278</td>\n",
       "      <td>MTCP1</td>\n",
       "      <td>107</td>\n",
       "      <td>1.000000</td>\n",
       "    </tr>\n",
       "    <tr>\n",
       "      <th>3</th>\n",
       "      <td>1A1A.A</td>\n",
       "      <td>P12931</td>\n",
       "      <td>144</td>\n",
       "      <td>249</td>\n",
       "      <td>106</td>\n",
       "      <td>P12931</td>\n",
       "      <td>SRC</td>\n",
       "      <td>536</td>\n",
       "      <td>0.197761</td>\n",
       "    </tr>\n",
       "    <tr>\n",
       "      <th>4</th>\n",
       "      <td>1A1A.B</td>\n",
       "      <td>P12931</td>\n",
       "      <td>148</td>\n",
       "      <td>249</td>\n",
       "      <td>102</td>\n",
       "      <td>P12931</td>\n",
       "      <td>SRC</td>\n",
       "      <td>536</td>\n",
       "      <td>0.190299</td>\n",
       "    </tr>\n",
       "  </tbody>\n",
       "</table>\n",
       "</div>"
      ],
      "text/plain": [
       "  PDB_CHAIN_ID SP_PRIMARY  SP_BEG  SP_END  SEG_LENGTH   Entry   GENE  Length  \\\n",
       "0       1A1X.A     P56278       2     107         106  P56278  MTCP1     107   \n",
       "1       1QTT.A     P56278       1     107         107  P56278  MTCP1     107   \n",
       "2       1QTU.A     P56278       1     107         107  P56278  MTCP1     107   \n",
       "3       1A1A.A     P12931     144     249         106  P12931    SRC     536   \n",
       "4       1A1A.B     P12931     148     249         102  P12931    SRC     536   \n",
       "\n",
       "   coverage  \n",
       "0  0.990654  \n",
       "1  1.000000  \n",
       "2  1.000000  \n",
       "3  0.197761  \n",
       "4  0.190299  "
      ]
     },
     "execution_count": 12,
     "metadata": {},
     "output_type": "execute_result"
    }
   ],
   "source": [
    "coverage['coverage'] = coverage['SEG_LENGTH'] / coverage['Length']\n",
    "coverage.head()"
   ]
  },
  {
   "cell_type": "markdown",
   "metadata": {},
   "source": [
    "Sum up the coverage for each unique chain."
   ]
  },
  {
   "cell_type": "code",
   "execution_count": 13,
   "metadata": {
    "scrolled": true
   },
   "outputs": [
    {
     "data": {
      "text/html": [
       "<div>\n",
       "<style scoped>\n",
       "    .dataframe tbody tr th:only-of-type {\n",
       "        vertical-align: middle;\n",
       "    }\n",
       "\n",
       "    .dataframe tbody tr th {\n",
       "        vertical-align: top;\n",
       "    }\n",
       "\n",
       "    .dataframe thead th {\n",
       "        text-align: right;\n",
       "    }\n",
       "</style>\n",
       "<table border=\"1\" class=\"dataframe\">\n",
       "  <thead>\n",
       "    <tr style=\"text-align: right;\">\n",
       "      <th></th>\n",
       "      <th>PDB_CHAIN_ID</th>\n",
       "      <th>SP_PRIMARY</th>\n",
       "      <th>GENE</th>\n",
       "      <th>coverage</th>\n",
       "    </tr>\n",
       "  </thead>\n",
       "  <tbody>\n",
       "    <tr>\n",
       "      <th>0</th>\n",
       "      <td>10GS.A</td>\n",
       "      <td>P09211</td>\n",
       "      <td>GSTP1</td>\n",
       "      <td>0.990476</td>\n",
       "    </tr>\n",
       "    <tr>\n",
       "      <th>1</th>\n",
       "      <td>10GS.B</td>\n",
       "      <td>P09211</td>\n",
       "      <td>GSTP1</td>\n",
       "      <td>0.990476</td>\n",
       "    </tr>\n",
       "    <tr>\n",
       "      <th>2</th>\n",
       "      <td>11GS.A</td>\n",
       "      <td>P09211</td>\n",
       "      <td>GSTP1</td>\n",
       "      <td>0.990476</td>\n",
       "    </tr>\n",
       "    <tr>\n",
       "      <th>3</th>\n",
       "      <td>11GS.B</td>\n",
       "      <td>P09211</td>\n",
       "      <td>GSTP1</td>\n",
       "      <td>0.990476</td>\n",
       "    </tr>\n",
       "    <tr>\n",
       "      <th>4</th>\n",
       "      <td>121P.A</td>\n",
       "      <td>P01112</td>\n",
       "      <td>HRAS</td>\n",
       "      <td>0.878307</td>\n",
       "    </tr>\n",
       "  </tbody>\n",
       "</table>\n",
       "</div>"
      ],
      "text/plain": [
       "  PDB_CHAIN_ID SP_PRIMARY   GENE  coverage\n",
       "0       10GS.A     P09211  GSTP1  0.990476\n",
       "1       10GS.B     P09211  GSTP1  0.990476\n",
       "2       11GS.A     P09211  GSTP1  0.990476\n",
       "3       11GS.B     P09211  GSTP1  0.990476\n",
       "4       121P.A     P01112   HRAS  0.878307"
      ]
     },
     "execution_count": 13,
     "metadata": {},
     "output_type": "execute_result"
    }
   ],
   "source": [
    "chain_cov = coverage.groupby(['PDB_CHAIN_ID','SP_PRIMARY','GENE']).sum()[['coverage']]\n",
    "chain_cov = chain_cov[(chain_cov['coverage'] <= 1.0)]  # there are a few cases where coverage > 1 (e.g., P69905, P01579, Q15848)\n",
    "chain_cov = chain_cov.reset_index()  # convert grouped dataframe to a regular dataframe\n",
    "chain_cov.head()"
   ]
  },
  {
   "cell_type": "code",
   "execution_count": 14,
   "metadata": {},
   "outputs": [
    {
     "name": "stdout",
     "output_type": "stream",
     "text": [
      "Unique chains    : 124051\n",
      "Unique proteins  : 7402\n",
      "Unique genes     : 7281\n",
      "Average coverage : 0.564361212127907\n",
      "Median coverage  : 0.6236559139784946\n"
     ]
    }
   ],
   "source": [
    "print('Unique chains    :', chain_cov.shape[0])\n",
    "print('Unique proteins  :', len(chain_cov['SP_PRIMARY'].unique()))\n",
    "print('Unique genes     :', len(chain_cov['GENE'].unique()))\n",
    "print('Average coverage :', chain_cov['coverage'].mean())\n",
    "print('Median coverage  :', chain_cov['coverage'].median())"
   ]
  },
  {
   "cell_type": "code",
   "execution_count": 15,
   "metadata": {},
   "outputs": [
    {
     "data": {
      "image/png": "[encoded data removed]",
      "text/plain": [
       "<Figure size 432x288 with 1 Axes>"
      ]
     },
     "metadata": {
      "needs_background": "light"
     },
     "output_type": "display_data"
    }
   ],
   "source": [
    "chain_cov.hist(bins=100);"
   ]
  },
  {
   "cell_type": "code",
   "execution_count": null,
   "metadata": {},
   "outputs": [],
   "source": []
  }
 ],
 "metadata": {
  "kernelspec": {
   "display_name": "Python 3",
   "language": "python",
   "name": "python3"
  },
  "language_info": {
   "codemirror_mode": {
    "name": "ipython",
    "version": 3
   },
   "file_extension": ".py",
   "mimetype": "text/x-python",
   "name": "python",
   "nbconvert_exporter": "python",
   "pygments_lexer": "ipython3",
   "version": "3.6.13"
  }
 },
 "nbformat": 4,
 "nbformat_minor": 4
}
