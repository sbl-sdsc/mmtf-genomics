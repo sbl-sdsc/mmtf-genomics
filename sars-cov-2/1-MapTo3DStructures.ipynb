{
 "cells": [
  {
   "cell_type": "markdown",
   "metadata": {},
   "source": [
    "# Maps SARS-CoV-2 Mutations to 3D Protein Structures\n",
    "[Work in progress]\n",
    "\n",
    "This notebook maps mutation frequency of SARS-CoV-2 strains onto 3D protein structures with bound antibody fragments in the [Protein Data Bank](https://www.wwpdb.org/). SARS-CoV2-2 strains and their mutations have been aggregated in the [COVID-19-Net Knowledge Graph](https://github.com/covid-19-net/covid-19-community)."
   ]
  },
  {
   "cell_type": "code",
   "execution_count": 1,
   "metadata": {},
   "outputs": [],
   "source": [
    "import math\n",
    "import pandas as pd\n",
    "import numpy as np\n",
    "import matplotlib.pyplot as plt\n",
    "import matplotlib.colors\n",
    "import matplotlib.cm as cm\n",
    "import ipywidgets as widgets\n",
    "from ipywidgets import interact, IntSlider, FloatSlider, SelectMultiple\n",
    "from py2neo import Graph\n",
    "import py3Dmol"
   ]
  },
  {
   "cell_type": "code",
   "execution_count": 2,
   "metadata": {},
   "outputs": [],
   "source": [
    "pd.options.display.max_rows = None  # display all rows\n",
    "pd.options.display.max_columns = None  # display all columsns"
   ]
  },
  {
   "cell_type": "code",
   "execution_count": 3,
   "metadata": {},
   "outputs": [],
   "source": [
    "output_file_name = 'mutations3d.csv' # mutations mapped to 3D protein structures"
   ]
  },
  {
   "cell_type": "markdown",
   "metadata": {},
   "source": [
    "#### Connect to COVID-19-Community Knowledge Graph\n",
    "[COVID-19-Net Knowledge Graph](https://github.com/covid-19-net/covid-19-community)"
   ]
  },
  {
   "cell_type": "code",
   "execution_count": 4,
   "metadata": {},
   "outputs": [],
   "source": [
    "graph = Graph(\"bolt://132.249.238.185:7687\", user=\"reader\", password=\"demo\")"
   ]
  },
  {
   "cell_type": "markdown",
   "metadata": {},
   "source": [
    "### Taxonomy ids for pathogen (SARS-CoV-2) and host (human)"
   ]
  },
  {
   "cell_type": "code",
   "execution_count": 5,
   "metadata": {},
   "outputs": [],
   "source": [
    "pathogen_taxonomy_id = 'taxonomy:2697049'\n",
    "host_taxonomy_id = 'taxonomy:9606'\n",
    "lineage = 'B.1.1.7'"
   ]
  },
  {
   "cell_type": "markdown",
   "metadata": {},
   "source": [
    "### Get list of SARS-CoV-2 proteins"
   ]
  },
  {
   "cell_type": "code",
   "execution_count": 6,
   "metadata": {},
   "outputs": [],
   "source": [
    "query = \"\"\"\n",
    "MATCH (p:Protein{taxonomyId: $pathogen_taxonomy_id})-[t:HAS_TERTIARY_STRUCTURE]->(:Chain)-[:IS_PART_OF_STRUCTURE]->(s:Structure)\n",
    "WHERE t.coverage > 0.2 // eliminate polyprotein\n",
    "RETURN p.name AS protein, p.accession as accession, p.proId as proId, p.sequence as sequence, s.description AS description\n",
    "ORDER BY protein\n",
    "\"\"\""
   ]
  },
  {
   "cell_type": "code",
   "execution_count": 7,
   "metadata": {},
   "outputs": [],
   "source": [
    "structures = graph.run(query, pathogen_taxonomy_id=pathogen_taxonomy_id).to_data_frame()"
   ]
  },
  {
   "cell_type": "code",
   "execution_count": 8,
   "metadata": {},
   "outputs": [],
   "source": [
    "proteins = structures[['protein', 'accession', 'proId', 'sequence']].drop_duplicates()"
   ]
  },
  {
   "cell_type": "code",
   "execution_count": 9,
   "metadata": {},
   "outputs": [
    {
     "data": {
      "text/html": [
       "<div>\n",
       "<style scoped>\n",
       "    .dataframe tbody tr th:only-of-type {\n",
       "        vertical-align: middle;\n",
       "    }\n",
       "\n",
       "    .dataframe tbody tr th {\n",
       "        vertical-align: top;\n",
       "    }\n",
       "\n",
       "    .dataframe thead th {\n",
       "        text-align: right;\n",
       "    }\n",
       "</style>\n",
       "<table border=\"1\" class=\"dataframe\">\n",
       "  <thead>\n",
       "    <tr style=\"text-align: right;\">\n",
       "      <th></th>\n",
       "      <th>protein</th>\n",
       "      <th>accession</th>\n",
       "      <th>proId</th>\n",
       "      <th>sequence</th>\n",
       "    </tr>\n",
       "  </thead>\n",
       "  <tbody>\n",
       "    <tr>\n",
       "      <th>0</th>\n",
       "      <td>3C-like proteinase</td>\n",
       "      <td>uniprot:P0DTC1</td>\n",
       "      <td>uniprot.chain:PRO_0000449639</td>\n",
       "      <td>SGFRKMAFPSGKVEGCMVQVTCGTTTLNGLWLDDVVYCPRHVICTS...</td>\n",
       "    </tr>\n",
       "    <tr>\n",
       "      <th>29</th>\n",
       "      <td>Helicase</td>\n",
       "      <td>uniprot:P0DTD1</td>\n",
       "      <td>uniprot.chain:PRO_0000449630</td>\n",
       "      <td>AVGACVLCNSQTSLRCGACIRRPFLCCKCCYDHVISTSHKLVLSVN...</td>\n",
       "    </tr>\n",
       "    <tr>\n",
       "      <th>31</th>\n",
       "      <td>Non-structural protein 10</td>\n",
       "      <td>uniprot:P0DTC1</td>\n",
       "      <td>uniprot.chain:PRO_0000449644</td>\n",
       "      <td>AGNATEVPANSTVLSFCAFAVDAAKAYKDYLASGGQPITNCVKMLC...</td>\n",
       "    </tr>\n",
       "    <tr>\n",
       "      <th>32</th>\n",
       "      <td>Non-structural protein 7</td>\n",
       "      <td>uniprot:P0DTC1</td>\n",
       "      <td>uniprot.chain:PRO_0000449641</td>\n",
       "      <td>SKMSDVKCTSVVLLSVLQQLRVESSSKLWAQCVQLHNDILLAKDTT...</td>\n",
       "    </tr>\n",
       "    <tr>\n",
       "      <th>34</th>\n",
       "      <td>Non-structural protein 8</td>\n",
       "      <td>uniprot:P0DTC1</td>\n",
       "      <td>uniprot.chain:PRO_0000449642</td>\n",
       "      <td>AIASEFSSLPSYAAFATAQEAYEQAVANGDSEVVLKKLKKSLNVAK...</td>\n",
       "    </tr>\n",
       "    <tr>\n",
       "      <th>36</th>\n",
       "      <td>Non-structural protein 9</td>\n",
       "      <td>uniprot:P0DTC1</td>\n",
       "      <td>uniprot.chain:PRO_0000449643</td>\n",
       "      <td>NNELSPVALRQMSCAAGTTQTACTDDNALAYYNTTKGGRFVLALLS...</td>\n",
       "    </tr>\n",
       "    <tr>\n",
       "      <th>38</th>\n",
       "      <td>Nucleoprotein</td>\n",
       "      <td>uniprot:P0DTC9</td>\n",
       "      <td>uniprot.chain:PRO_0000449656</td>\n",
       "      <td>MSDNGPQNQRNAPRITFGGPSDSTGSNQNGERSGARSKQRRPQGLP...</td>\n",
       "    </tr>\n",
       "    <tr>\n",
       "      <th>42</th>\n",
       "      <td>ORF9b protein</td>\n",
       "      <td>uniprot:P0DTD2</td>\n",
       "      <td>uniprot.chain:PRO_0000449657</td>\n",
       "      <td>MDPKISEMHPALRLVDPQIQLAVTRMENAVGRDQNNVGPKVYPIIL...</td>\n",
       "    </tr>\n",
       "    <tr>\n",
       "      <th>44</th>\n",
       "      <td>Spike glycoprotein</td>\n",
       "      <td>uniprot:P0DTC2</td>\n",
       "      <td>None</td>\n",
       "      <td>MFVFLVLLPLVSSQCVNLTTRTQLPPAYTNSFTRGVYYPDKVFRSS...</td>\n",
       "    </tr>\n",
       "    <tr>\n",
       "      <th>98</th>\n",
       "      <td>Spike glycoprotein</td>\n",
       "      <td>uniprot:P0DTC2</td>\n",
       "      <td>uniprot.chain:PRO_0000449646</td>\n",
       "      <td>SQCVNLTTRTQLPPAYTNSFTRGVYYPDKVFRSSVLHSTQDLFLPF...</td>\n",
       "    </tr>\n",
       "    <tr>\n",
       "      <th>152</th>\n",
       "      <td>Spike protein S1</td>\n",
       "      <td>uniprot:P0DTC2</td>\n",
       "      <td>uniprot.chain:PRO_0000449647</td>\n",
       "      <td>SQCVNLTTRTQLPPAYTNSFTRGVYYPDKVFRSSVLHSTQDLFLPF...</td>\n",
       "    </tr>\n",
       "    <tr>\n",
       "      <th>158</th>\n",
       "      <td>Spike protein S2'</td>\n",
       "      <td>uniprot:P0DTC2</td>\n",
       "      <td>uniprot.chain:PRO_0000449649</td>\n",
       "      <td>SFIEDLLFNKVTLADAGFIKQYGDCLGDIAARDLICAQKFNGLTVL...</td>\n",
       "    </tr>\n",
       "    <tr>\n",
       "      <th>164</th>\n",
       "      <td>Uridylate-specific endoribonuclease</td>\n",
       "      <td>uniprot:P0DTD1</td>\n",
       "      <td>uniprot.chain:PRO_0000449632</td>\n",
       "      <td>SLENVAFNVVNKGHFDGQQGEVPVSIINNTVYTKVDGVDVELFENK...</td>\n",
       "    </tr>\n",
       "  </tbody>\n",
       "</table>\n",
       "</div>"
      ],
      "text/plain": [
       "                                 protein       accession  \\\n",
       "0                     3C-like proteinase  uniprot:P0DTC1   \n",
       "29                              Helicase  uniprot:P0DTD1   \n",
       "31             Non-structural protein 10  uniprot:P0DTC1   \n",
       "32              Non-structural protein 7  uniprot:P0DTC1   \n",
       "34              Non-structural protein 8  uniprot:P0DTC1   \n",
       "36              Non-structural protein 9  uniprot:P0DTC1   \n",
       "38                         Nucleoprotein  uniprot:P0DTC9   \n",
       "42                         ORF9b protein  uniprot:P0DTD2   \n",
       "44                    Spike glycoprotein  uniprot:P0DTC2   \n",
       "98                    Spike glycoprotein  uniprot:P0DTC2   \n",
       "152                     Spike protein S1  uniprot:P0DTC2   \n",
       "158                    Spike protein S2'  uniprot:P0DTC2   \n",
       "164  Uridylate-specific endoribonuclease  uniprot:P0DTD1   \n",
       "\n",
       "                            proId  \\\n",
       "0    uniprot.chain:PRO_0000449639   \n",
       "29   uniprot.chain:PRO_0000449630   \n",
       "31   uniprot.chain:PRO_0000449644   \n",
       "32   uniprot.chain:PRO_0000449641   \n",
       "34   uniprot.chain:PRO_0000449642   \n",
       "36   uniprot.chain:PRO_0000449643   \n",
       "38   uniprot.chain:PRO_0000449656   \n",
       "42   uniprot.chain:PRO_0000449657   \n",
       "44                           None   \n",
       "98   uniprot.chain:PRO_0000449646   \n",
       "152  uniprot.chain:PRO_0000449647   \n",
       "158  uniprot.chain:PRO_0000449649   \n",
       "164  uniprot.chain:PRO_0000449632   \n",
       "\n",
       "                                              sequence  \n",
       "0    SGFRKMAFPSGKVEGCMVQVTCGTTTLNGLWLDDVVYCPRHVICTS...  \n",
       "29   AVGACVLCNSQTSLRCGACIRRPFLCCKCCYDHVISTSHKLVLSVN...  \n",
       "31   AGNATEVPANSTVLSFCAFAVDAAKAYKDYLASGGQPITNCVKMLC...  \n",
       "32   SKMSDVKCTSVVLLSVLQQLRVESSSKLWAQCVQLHNDILLAKDTT...  \n",
       "34   AIASEFSSLPSYAAFATAQEAYEQAVANGDSEVVLKKLKKSLNVAK...  \n",
       "36   NNELSPVALRQMSCAAGTTQTACTDDNALAYYNTTKGGRFVLALLS...  \n",
       "38   MSDNGPQNQRNAPRITFGGPSDSTGSNQNGERSGARSKQRRPQGLP...  \n",
       "42   MDPKISEMHPALRLVDPQIQLAVTRMENAVGRDQNNVGPKVYPIIL...  \n",
       "44   MFVFLVLLPLVSSQCVNLTTRTQLPPAYTNSFTRGVYYPDKVFRSS...  \n",
       "98   SQCVNLTTRTQLPPAYTNSFTRGVYYPDKVFRSSVLHSTQDLFLPF...  \n",
       "152  SQCVNLTTRTQLPPAYTNSFTRGVYYPDKVFRSSVLHSTQDLFLPF...  \n",
       "158  SFIEDLLFNKVTLADAGFIKQYGDCLGDIAARDLICAQKFNGLTVL...  \n",
       "164  SLENVAFNVVNKGHFDGQQGEVPVSIINNTVYTKVDGVDVELFENK...  "
      ]
     },
     "execution_count": 9,
     "metadata": {},
     "output_type": "execute_result"
    }
   ],
   "source": [
    "proteins.head(50)"
   ]
  },
  {
   "cell_type": "code",
   "execution_count": 10,
   "metadata": {},
   "outputs": [],
   "source": [
    "protein_list = structures['protein'].unique()"
   ]
  },
  {
   "cell_type": "code",
   "execution_count": 11,
   "metadata": {},
   "outputs": [],
   "source": [
    "protein_widget = widgets.Dropdown(options=protein_list, description='Select protein:', value='Spike glycoprotein',\n",
    "                                  style={'description_width': 'initial'}, )"
   ]
  },
  {
   "cell_type": "markdown",
   "metadata": {},
   "source": [
    "### Select SARS-CoV-2 Protein"
   ]
  },
  {
   "cell_type": "code",
   "execution_count": 12,
   "metadata": {},
   "outputs": [
    {
     "data": {
      "application/vnd.jupyter.widget-view+json": {
       "model_id": "1ac95e61fbc24be3be241bd17f131c6d",
       "version_major": 2,
       "version_minor": 0
      },
      "text/plain": [
       "Dropdown(description='Select protein:', index=8, options=('3C-like proteinase', 'Helicase', 'Non-structural pr…"
      ]
     },
     "metadata": {},
     "output_type": "display_data"
    }
   ],
   "source": [
    "display(protein_widget)"
   ]
  },
  {
   "cell_type": "code",
   "execution_count": 13,
   "metadata": {},
   "outputs": [
    {
     "name": "stdout",
     "output_type": "stream",
     "text": [
      "Protein name: Spike glycoprotein\n"
     ]
    }
   ],
   "source": [
    "protein_name = protein_widget.value\n",
    "print('Protein name:', protein_name)"
   ]
  },
  {
   "cell_type": "code",
   "execution_count": 14,
   "metadata": {},
   "outputs": [],
   "source": [
    "subset = structures.query(f'protein == \"{protein_name}\"').copy()\n",
    "subset.fillna('', inplace=True)"
   ]
  },
  {
   "cell_type": "code",
   "execution_count": 15,
   "metadata": {},
   "outputs": [
    {
     "data": {
      "text/html": [
       "<div>\n",
       "<style scoped>\n",
       "    .dataframe tbody tr th:only-of-type {\n",
       "        vertical-align: middle;\n",
       "    }\n",
       "\n",
       "    .dataframe tbody tr th {\n",
       "        vertical-align: top;\n",
       "    }\n",
       "\n",
       "    .dataframe thead th {\n",
       "        text-align: right;\n",
       "    }\n",
       "</style>\n",
       "<table border=\"1\" class=\"dataframe\">\n",
       "  <thead>\n",
       "    <tr style=\"text-align: right;\">\n",
       "      <th></th>\n",
       "      <th>accession</th>\n",
       "      <th>description</th>\n",
       "      <th>proId</th>\n",
       "      <th>protein</th>\n",
       "      <th>sequence</th>\n",
       "    </tr>\n",
       "  </thead>\n",
       "  <tbody>\n",
       "    <tr>\n",
       "      <th>44</th>\n",
       "      <td>uniprot:P0DTC2</td>\n",
       "      <td>Spike glycoprotein,Collagen alpha-1(I) chain, ...</td>\n",
       "      <td></td>\n",
       "      <td>Spike glycoprotein</td>\n",
       "      <td>MFVFLVLLPLVSSQCVNLTTRTQLPPAYTNSFTRGVYYPDKVFRSS...</td>\n",
       "    </tr>\n",
       "    <tr>\n",
       "      <th>45</th>\n",
       "      <td>uniprot:P0DTC2</td>\n",
       "      <td>Spike glycoprotein,Collagen alpha-1(I) chain, ...</td>\n",
       "      <td></td>\n",
       "      <td>Spike glycoprotein</td>\n",
       "      <td>MFVFLVLLPLVSSQCVNLTTRTQLPPAYTNSFTRGVYYPDKVFRSS...</td>\n",
       "    </tr>\n",
       "    <tr>\n",
       "      <th>46</th>\n",
       "      <td>uniprot:P0DTC2</td>\n",
       "      <td>Spike glycoprotein,Collagen alpha-1(I) chain, ...</td>\n",
       "      <td></td>\n",
       "      <td>Spike glycoprotein</td>\n",
       "      <td>MFVFLVLLPLVSSQCVNLTTRTQLPPAYTNSFTRGVYYPDKVFRSS...</td>\n",
       "    </tr>\n",
       "    <tr>\n",
       "      <th>47</th>\n",
       "      <td>uniprot:P0DTC2</td>\n",
       "      <td>Spike glycoprotein,Collagen alpha-1(I) chain, ...</td>\n",
       "      <td></td>\n",
       "      <td>Spike glycoprotein</td>\n",
       "      <td>MFVFLVLLPLVSSQCVNLTTRTQLPPAYTNSFTRGVYYPDKVFRSS...</td>\n",
       "    </tr>\n",
       "    <tr>\n",
       "      <th>48</th>\n",
       "      <td>uniprot:P0DTC2</td>\n",
       "      <td>Spike glycoprotein,Collagen alpha-1(I) chain, ...</td>\n",
       "      <td></td>\n",
       "      <td>Spike glycoprotein</td>\n",
       "      <td>MFVFLVLLPLVSSQCVNLTTRTQLPPAYTNSFTRGVYYPDKVFRSS...</td>\n",
       "    </tr>\n",
       "  </tbody>\n",
       "</table>\n",
       "</div>"
      ],
      "text/plain": [
       "         accession                                        description proId  \\\n",
       "44  uniprot:P0DTC2  Spike glycoprotein,Collagen alpha-1(I) chain, ...         \n",
       "45  uniprot:P0DTC2  Spike glycoprotein,Collagen alpha-1(I) chain, ...         \n",
       "46  uniprot:P0DTC2  Spike glycoprotein,Collagen alpha-1(I) chain, ...         \n",
       "47  uniprot:P0DTC2  Spike glycoprotein,Collagen alpha-1(I) chain, ...         \n",
       "48  uniprot:P0DTC2  Spike glycoprotein,Collagen alpha-1(I) chain, ...         \n",
       "\n",
       "               protein                                           sequence  \n",
       "44  Spike glycoprotein  MFVFLVLLPLVSSQCVNLTTRTQLPPAYTNSFTRGVYYPDKVFRSS...  \n",
       "45  Spike glycoprotein  MFVFLVLLPLVSSQCVNLTTRTQLPPAYTNSFTRGVYYPDKVFRSS...  \n",
       "46  Spike glycoprotein  MFVFLVLLPLVSSQCVNLTTRTQLPPAYTNSFTRGVYYPDKVFRSS...  \n",
       "47  Spike glycoprotein  MFVFLVLLPLVSSQCVNLTTRTQLPPAYTNSFTRGVYYPDKVFRSS...  \n",
       "48  Spike glycoprotein  MFVFLVLLPLVSSQCVNLTTRTQLPPAYTNSFTRGVYYPDKVFRSS...  "
      ]
     },
     "execution_count": 15,
     "metadata": {},
     "output_type": "execute_result"
    }
   ],
   "source": [
    "subset.head()"
   ]
  },
  {
   "cell_type": "code",
   "execution_count": 16,
   "metadata": {},
   "outputs": [],
   "source": [
    "# descriptions = list(subset['description'].unique())\n",
    "# descriptions.sort()\n",
    "# descriptions.insert(0, 'All')"
   ]
  },
  {
   "cell_type": "code",
   "execution_count": 17,
   "metadata": {},
   "outputs": [],
   "source": [
    "# description_widget = SelectMultiple(options=descriptions, value=['All'], description='Select subset', \n",
    "#                                     layout={'width': 'max-content'}, style={'description_width': 'initial'}, \n",
    "#                                     rows=len(descriptions), disabled=False)"
   ]
  },
  {
   "cell_type": "markdown",
   "metadata": {},
   "source": [
    "### Select a subset of structures to be analyzed based on PDB structure description\n",
    "The default is All structures. Multiple values can be selected with shift and/or ctrl (or command) pressed and mouse clicks or arrow keys."
   ]
  },
  {
   "cell_type": "code",
   "execution_count": 18,
   "metadata": {},
   "outputs": [],
   "source": [
    "# display(description_widget)"
   ]
  },
  {
   "cell_type": "code",
   "execution_count": 19,
   "metadata": {},
   "outputs": [],
   "source": [
    "# print(\"Selected subset:\")\n",
    "# for value in description_widget.value:\n",
    "#     print(value)"
   ]
  },
  {
   "cell_type": "markdown",
   "metadata": {},
   "source": [
    "### Get total number of strains"
   ]
  },
  {
   "cell_type": "code",
   "execution_count": 20,
   "metadata": {},
   "outputs": [],
   "source": [
    "query = \"\"\"\n",
    "MATCH (s:Strain)\n",
    "WHERE s.taxonomyId = $pathogen_taxonomy_id AND s.hostTaxonomyId = $host_taxonomy_id AND s.lineage = $lineage\n",
    "RETURN count(s)\n",
    "\"\"\""
   ]
  },
  {
   "cell_type": "code",
   "execution_count": 21,
   "metadata": {},
   "outputs": [],
   "source": [
    "strains = graph.evaluate(query, pathogen_taxonomy_id=pathogen_taxonomy_id, \n",
    "                         host_taxonomy_id=host_taxonomy_id, lineage=lineage)"
   ]
  },
  {
   "cell_type": "code",
   "execution_count": 22,
   "metadata": {},
   "outputs": [
    {
     "name": "stdout",
     "output_type": "stream",
     "text": [
      "Total number of human strains: 230753\n"
     ]
    }
   ],
   "source": [
    "print('Total number of human strains:', strains)"
   ]
  },
  {
   "cell_type": "markdown",
   "metadata": {},
   "source": [
    "### Get variants for selected protein"
   ]
  },
  {
   "cell_type": "code",
   "execution_count": 23,
   "metadata": {},
   "outputs": [],
   "source": [
    "query = \"\"\"\n",
    "MATCH (p:Protein{reviewed: True})-[:HAS_VARIANT]->(v:Variant{variantConsequence:'missense_variant'})<-[:HAS_VARIANT]-(s:Strain)\n",
    "WHERE p.name = $protein_name AND p.taxonomyId = $pathogen_taxonomy_id AND s.hostTaxonomyId = $host_taxonomy_id AND s.lineage = $lineage\n",
    "WITH v.proteinPosition AS residue, count(v.proteinVariant) AS count, \n",
    "     v.proteinVariant + '(' + count(v.proteinVariant) + ')' AS variationId ,\n",
    "     split(v.proteinVariant, ':')[1] + '(' + count(v.proteinVariant) + ')' AS annotation\n",
    "     ORDER by count DESC\n",
    "WITH residue, count, variationId, annotation\n",
    "RETURN residue, collect(variationId) AS variationId, collect(annotation) AS annotation, sum(count) AS count ORDER BY residue\n",
    "\"\"\""
   ]
  },
  {
   "cell_type": "markdown",
   "metadata": {},
   "source": [
    "### Add mutation annotation to each residue"
   ]
  },
  {
   "cell_type": "code",
   "execution_count": 24,
   "metadata": {},
   "outputs": [],
   "source": [
    "variants = graph.run(query, protein_name=protein_name, pathogen_taxonomy_id=pathogen_taxonomy_id, \n",
    "                     host_taxonomy_id=host_taxonomy_id, lineage=lineage).to_data_frame()"
   ]
  },
  {
   "cell_type": "code",
   "execution_count": 25,
   "metadata": {},
   "outputs": [
    {
     "data": {
      "text/plain": [
       "(946, 4)"
      ]
     },
     "execution_count": 25,
     "metadata": {},
     "output_type": "execute_result"
    }
   ],
   "source": [
    "variants.shape"
   ]
  },
  {
   "cell_type": "code",
   "execution_count": 26,
   "metadata": {},
   "outputs": [
    {
     "data": {
      "text/html": [
       "<div>\n",
       "<style scoped>\n",
       "    .dataframe tbody tr th:only-of-type {\n",
       "        vertical-align: middle;\n",
       "    }\n",
       "\n",
       "    .dataframe tbody tr th {\n",
       "        vertical-align: top;\n",
       "    }\n",
       "\n",
       "    .dataframe thead th {\n",
       "        text-align: right;\n",
       "    }\n",
       "</style>\n",
       "<table border=\"1\" class=\"dataframe\">\n",
       "  <thead>\n",
       "    <tr style=\"text-align: right;\">\n",
       "      <th></th>\n",
       "      <th>annotation</th>\n",
       "      <th>count</th>\n",
       "      <th>residue</th>\n",
       "      <th>variationId</th>\n",
       "    </tr>\n",
       "  </thead>\n",
       "  <tbody>\n",
       "    <tr>\n",
       "      <th>0</th>\n",
       "      <td>[p.2F&gt;S(4), p.2F&gt;L(4)]</td>\n",
       "      <td>8</td>\n",
       "      <td>2</td>\n",
       "      <td>[S:p.2F&gt;S(4), S:p.2F&gt;L(4)]</td>\n",
       "    </tr>\n",
       "    <tr>\n",
       "      <th>1</th>\n",
       "      <td>[p.3V&gt;G(30), p.3V&gt;I(17), p.3V&gt;F(2)]</td>\n",
       "      <td>49</td>\n",
       "      <td>3</td>\n",
       "      <td>[S:p.3V&gt;G(30), S:p.3V&gt;I(17), S:p.3V&gt;F(2)]</td>\n",
       "    </tr>\n",
       "    <tr>\n",
       "      <th>2</th>\n",
       "      <td>[p.4F&gt;S(5), p.4F&gt;I(1)]</td>\n",
       "      <td>6</td>\n",
       "      <td>4</td>\n",
       "      <td>[S:p.4F&gt;S(5), S:p.4F&gt;I(1)]</td>\n",
       "    </tr>\n",
       "    <tr>\n",
       "      <th>3</th>\n",
       "      <td>[p.5L&gt;F(3945)]</td>\n",
       "      <td>3945</td>\n",
       "      <td>5</td>\n",
       "      <td>[S:p.5L&gt;F(3945)]</td>\n",
       "    </tr>\n",
       "    <tr>\n",
       "      <th>4</th>\n",
       "      <td>[p.6V&gt;A(363), p.6V&gt;F(20), p.6V&gt;I(8), p.6V&gt;L(1)]</td>\n",
       "      <td>392</td>\n",
       "      <td>6</td>\n",
       "      <td>[S:p.6V&gt;A(363), S:p.6V&gt;F(20), S:p.6V&gt;I(8), S:p...</td>\n",
       "    </tr>\n",
       "  </tbody>\n",
       "</table>\n",
       "</div>"
      ],
      "text/plain": [
       "                                        annotation  count  residue  \\\n",
       "0                           [p.2F>S(4), p.2F>L(4)]      8        2   \n",
       "1              [p.3V>G(30), p.3V>I(17), p.3V>F(2)]     49        3   \n",
       "2                           [p.4F>S(5), p.4F>I(1)]      6        4   \n",
       "3                                   [p.5L>F(3945)]   3945        5   \n",
       "4  [p.6V>A(363), p.6V>F(20), p.6V>I(8), p.6V>L(1)]    392        6   \n",
       "\n",
       "                                         variationId  \n",
       "0                         [S:p.2F>S(4), S:p.2F>L(4)]  \n",
       "1          [S:p.3V>G(30), S:p.3V>I(17), S:p.3V>F(2)]  \n",
       "2                         [S:p.4F>S(5), S:p.4F>I(1)]  \n",
       "3                                   [S:p.5L>F(3945)]  \n",
       "4  [S:p.6V>A(363), S:p.6V>F(20), S:p.6V>I(8), S:p...  "
      ]
     },
     "execution_count": 26,
     "metadata": {},
     "output_type": "execute_result"
    }
   ],
   "source": [
    "variants.head()"
   ]
  },
  {
   "cell_type": "code",
   "execution_count": 27,
   "metadata": {},
   "outputs": [],
   "source": [
    "variants.sort_values('count', ascending=False, inplace=True)"
   ]
  },
  {
   "cell_type": "code",
   "execution_count": 28,
   "metadata": {},
   "outputs": [],
   "source": [
    "variants['variationId'] = variants['variationId'].apply(lambda x: ', '.join(x))\n",
    "variants['annotation'] = variants['annotation'].apply(lambda x: ', '.join(x))"
   ]
  },
  {
   "cell_type": "code",
   "execution_count": 29,
   "metadata": {},
   "outputs": [],
   "source": [
    "variants['annotation'] = variants['annotation'].str.replace('p.', '')"
   ]
  },
  {
   "cell_type": "markdown",
   "metadata": {},
   "source": [
    "Create a color scale based on the log mutation frequency"
   ]
  },
  {
   "cell_type": "code",
   "execution_count": 30,
   "metadata": {},
   "outputs": [],
   "source": [
    "total = variants['count'].sum()\n",
    "variants['scale'] = variants['count'].apply(np.log10) / math.log10(total)"
   ]
  },
  {
   "cell_type": "code",
   "execution_count": 31,
   "metadata": {},
   "outputs": [],
   "source": [
    "n_colors = 100\n",
    "colors = cm.Reds(np.linspace(0.0, 1.0, n_colors))\n",
    "col = np.empty(n_colors, dtype=object)\n",
    "\n",
    "for i, color in enumerate(colors):\n",
    "    col[i] = matplotlib.colors.rgb2hex(color)"
   ]
  },
  {
   "cell_type": "code",
   "execution_count": 32,
   "metadata": {},
   "outputs": [],
   "source": [
    "variants['color'] = variants['scale'].apply(lambda x: col[round(x*n_colors)])"
   ]
  },
  {
   "cell_type": "code",
   "execution_count": 33,
   "metadata": {},
   "outputs": [
    {
     "data": {
      "text/html": [
       "<div>\n",
       "<style scoped>\n",
       "    .dataframe tbody tr th:only-of-type {\n",
       "        vertical-align: middle;\n",
       "    }\n",
       "\n",
       "    .dataframe tbody tr th {\n",
       "        vertical-align: top;\n",
       "    }\n",
       "\n",
       "    .dataframe thead th {\n",
       "        text-align: right;\n",
       "    }\n",
       "</style>\n",
       "<table border=\"1\" class=\"dataframe\">\n",
       "  <thead>\n",
       "    <tr style=\"text-align: right;\">\n",
       "      <th></th>\n",
       "      <th>annotation</th>\n",
       "      <th>count</th>\n",
       "      <th>residue</th>\n",
       "      <th>variationId</th>\n",
       "      <th>scale</th>\n",
       "      <th>color</th>\n",
       "    </tr>\n",
       "  </thead>\n",
       "  <tbody>\n",
       "    <tr>\n",
       "      <th>479</th>\n",
       "      <td>614D&gt;G(339712), 614D&gt;N(18), 614D&gt;A(6)</td>\n",
       "      <td>339736</td>\n",
       "      <td>614</td>\n",
       "      <td>S:p.614D&gt;G(339712), S:p.614D&gt;N(18), S:p.614D&gt;A(6)</td>\n",
       "      <td>0.865227</td>\n",
       "      <td>#a30f15</td>\n",
       "    </tr>\n",
       "    <tr>\n",
       "      <th>556</th>\n",
       "      <td>716T&gt;I(339522), 716T&gt;A(56), 716T&gt;S(2)</td>\n",
       "      <td>339580</td>\n",
       "      <td>716</td>\n",
       "      <td>S:p.716T&gt;I(339522), S:p.716T&gt;A(56), S:p.716T&gt;S(2)</td>\n",
       "      <td>0.865196</td>\n",
       "      <td>#a30f15</td>\n",
       "    </tr>\n",
       "    <tr>\n",
       "      <th>447</th>\n",
       "      <td>570A&gt;D(339534), 570A&gt;S(12), 570A&gt;V(4), 570A&gt;G(2)</td>\n",
       "      <td>339552</td>\n",
       "      <td>570</td>\n",
       "      <td>S:p.570A&gt;D(339534), S:p.570A&gt;S(12), S:p.570A&gt;V...</td>\n",
       "      <td>0.865190</td>\n",
       "      <td>#a30f15</td>\n",
       "    </tr>\n",
       "    <tr>\n",
       "      <th>530</th>\n",
       "      <td>681P&gt;H(339282), 681P&gt;R(258), 681P&gt;S(4)</td>\n",
       "      <td>339544</td>\n",
       "      <td>681</td>\n",
       "      <td>S:p.681P&gt;H(339282), S:p.681P&gt;R(258), S:p.681P&gt;...</td>\n",
       "      <td>0.865189</td>\n",
       "      <td>#a30f15</td>\n",
       "    </tr>\n",
       "    <tr>\n",
       "      <th>734</th>\n",
       "      <td>982S&gt;A(339500)</td>\n",
       "      <td>339500</td>\n",
       "      <td>982</td>\n",
       "      <td>S:p.982S&gt;A(339500)</td>\n",
       "      <td>0.865180</td>\n",
       "      <td>#a30f15</td>\n",
       "    </tr>\n",
       "  </tbody>\n",
       "</table>\n",
       "</div>"
      ],
      "text/plain": [
       "                                           annotation   count  residue  \\\n",
       "479             614D>G(339712), 614D>N(18), 614D>A(6)  339736      614   \n",
       "556             716T>I(339522), 716T>A(56), 716T>S(2)  339580      716   \n",
       "447  570A>D(339534), 570A>S(12), 570A>V(4), 570A>G(2)  339552      570   \n",
       "530            681P>H(339282), 681P>R(258), 681P>S(4)  339544      681   \n",
       "734                                    982S>A(339500)  339500      982   \n",
       "\n",
       "                                           variationId     scale    color  \n",
       "479  S:p.614D>G(339712), S:p.614D>N(18), S:p.614D>A(6)  0.865227  #a30f15  \n",
       "556  S:p.716T>I(339522), S:p.716T>A(56), S:p.716T>S(2)  0.865196  #a30f15  \n",
       "447  S:p.570A>D(339534), S:p.570A>S(12), S:p.570A>V...  0.865190  #a30f15  \n",
       "530  S:p.681P>H(339282), S:p.681P>R(258), S:p.681P>...  0.865189  #a30f15  \n",
       "734                                 S:p.982S>A(339500)  0.865180  #a30f15  "
      ]
     },
     "execution_count": 33,
     "metadata": {},
     "output_type": "execute_result"
    }
   ],
   "source": [
    "variants.head()"
   ]
  },
  {
   "cell_type": "markdown",
   "metadata": {},
   "source": [
    "### Get 3D structure for selected protein"
   ]
  },
  {
   "cell_type": "code",
   "execution_count": 34,
   "metadata": {},
   "outputs": [],
   "source": [
    "# some Electron microscopy structures are of low resolution. Keep only high and medium resolution structures (0 - 4 Å).\n",
    "resolution_threshold = 4.0"
   ]
  },
  {
   "cell_type": "code",
   "execution_count": 35,
   "metadata": {},
   "outputs": [],
   "source": [
    "query = \"\"\"\n",
    "MATCH (g:Gene)-[:ENCODES]->(p:Protein{name: $protein_name, taxonomyId: $pathogen_taxonomy_id})-[h:HAS_TERTIARY_STRUCTURE]->(c:Chain)-[:IS_PART_OF_STRUCTURE]->(s:Structure)\n",
    "WHERE s.resolution <= $resolution_threshold\n",
    "RETURN p.name AS name, p.start, p.end, c.name AS structureChainId, c.uniprotStart, c.uniprotEnd, c.pdbStart, c.pdbEnd, s.resolution AS resolution, s.description AS description, h.coverage AS coverage\n",
    "ORDER BY resolution, coverage DESC\n",
    "\"\"\""
   ]
  },
  {
   "cell_type": "code",
   "execution_count": 36,
   "metadata": {},
   "outputs": [],
   "source": [
    "chains = graph.run(query, protein_name=protein_name, pathogen_taxonomy_id=pathogen_taxonomy_id, \n",
    "                   resolution_threshold=resolution_threshold).to_data_frame()"
   ]
  },
  {
   "cell_type": "code",
   "execution_count": 37,
   "metadata": {},
   "outputs": [],
   "source": [
    "chains['structureChainId'] = chains['structureChainId'].str[4:]"
   ]
  },
  {
   "cell_type": "code",
   "execution_count": 38,
   "metadata": {},
   "outputs": [],
   "source": [
    "chains['structureId'] = chains['structureChainId'].str[:4]"
   ]
  },
  {
   "cell_type": "code",
   "execution_count": 39,
   "metadata": {},
   "outputs": [
    {
     "data": {
      "text/html": [
       "<div>\n",
       "<style scoped>\n",
       "    .dataframe tbody tr th:only-of-type {\n",
       "        vertical-align: middle;\n",
       "    }\n",
       "\n",
       "    .dataframe tbody tr th {\n",
       "        vertical-align: top;\n",
       "    }\n",
       "\n",
       "    .dataframe thead th {\n",
       "        text-align: right;\n",
       "    }\n",
       "</style>\n",
       "<table border=\"1\" class=\"dataframe\">\n",
       "  <thead>\n",
       "    <tr style=\"text-align: right;\">\n",
       "      <th></th>\n",
       "      <th>c.pdbEnd</th>\n",
       "      <th>c.pdbStart</th>\n",
       "      <th>c.uniprotEnd</th>\n",
       "      <th>c.uniprotStart</th>\n",
       "      <th>coverage</th>\n",
       "      <th>description</th>\n",
       "      <th>name</th>\n",
       "      <th>p.end</th>\n",
       "      <th>p.start</th>\n",
       "      <th>resolution</th>\n",
       "      <th>structureChainId</th>\n",
       "      <th>structureId</th>\n",
       "    </tr>\n",
       "  </thead>\n",
       "  <tbody>\n",
       "    <tr>\n",
       "      <th>0</th>\n",
       "      <td>[528]</td>\n",
       "      <td>[334]</td>\n",
       "      <td>[528]</td>\n",
       "      <td>[334]</td>\n",
       "      <td>0.153181</td>\n",
       "      <td>Spike glycoprotein, Nanobody H11-D4, 2-acetami...</td>\n",
       "      <td>Spike glycoprotein</td>\n",
       "      <td>1273</td>\n",
       "      <td>1</td>\n",
       "      <td>1.80</td>\n",
       "      <td>6YZ5.E</td>\n",
       "      <td>6YZ5</td>\n",
       "    </tr>\n",
       "    <tr>\n",
       "      <th>1</th>\n",
       "      <td>[528]</td>\n",
       "      <td>[334]</td>\n",
       "      <td>[528]</td>\n",
       "      <td>[334]</td>\n",
       "      <td>0.153181</td>\n",
       "      <td>Spike glycoprotein, H11-H4, 2-acetamido-2-deox...</td>\n",
       "      <td>Spike glycoprotein</td>\n",
       "      <td>1273</td>\n",
       "      <td>1</td>\n",
       "      <td>1.85</td>\n",
       "      <td>6ZBP.EEE</td>\n",
       "      <td>6ZBP</td>\n",
       "    </tr>\n",
       "    <tr>\n",
       "      <th>2</th>\n",
       "      <td>[70, 617, 676, 1147]</td>\n",
       "      <td>[14, 76, 633, 689]</td>\n",
       "      <td>[70, 617, 676, 1147]</td>\n",
       "      <td>[14, 76, 633, 689]</td>\n",
       "      <td>0.865672</td>\n",
       "      <td>Spike glycoprotein,Collagen alpha-1(I) chain, ...</td>\n",
       "      <td>Spike glycoprotein</td>\n",
       "      <td>1273</td>\n",
       "      <td>1</td>\n",
       "      <td>2.60</td>\n",
       "      <td>7E7B.B</td>\n",
       "      <td>7E7B</td>\n",
       "    </tr>\n",
       "    <tr>\n",
       "      <th>3</th>\n",
       "      <td>[70, 617, 676, 1147]</td>\n",
       "      <td>[14, 76, 633, 689]</td>\n",
       "      <td>[70, 617, 676, 1147]</td>\n",
       "      <td>[14, 76, 633, 689]</td>\n",
       "      <td>0.865672</td>\n",
       "      <td>Spike glycoprotein,Collagen alpha-1(I) chain, ...</td>\n",
       "      <td>Spike glycoprotein</td>\n",
       "      <td>1273</td>\n",
       "      <td>1</td>\n",
       "      <td>2.60</td>\n",
       "      <td>7E7B.A</td>\n",
       "      <td>7E7B</td>\n",
       "    </tr>\n",
       "    <tr>\n",
       "      <th>4</th>\n",
       "      <td>[70, 617, 676, 1147]</td>\n",
       "      <td>[14, 76, 633, 689]</td>\n",
       "      <td>[70, 617, 676, 1147]</td>\n",
       "      <td>[14, 76, 633, 689]</td>\n",
       "      <td>0.865672</td>\n",
       "      <td>Spike glycoprotein,Collagen alpha-1(I) chain, ...</td>\n",
       "      <td>Spike glycoprotein</td>\n",
       "      <td>1273</td>\n",
       "      <td>1</td>\n",
       "      <td>2.60</td>\n",
       "      <td>7E7B.C</td>\n",
       "      <td>7E7B</td>\n",
       "    </tr>\n",
       "  </tbody>\n",
       "</table>\n",
       "</div>"
      ],
      "text/plain": [
       "               c.pdbEnd          c.pdbStart          c.uniprotEnd  \\\n",
       "0                 [528]               [334]                 [528]   \n",
       "1                 [528]               [334]                 [528]   \n",
       "2  [70, 617, 676, 1147]  [14, 76, 633, 689]  [70, 617, 676, 1147]   \n",
       "3  [70, 617, 676, 1147]  [14, 76, 633, 689]  [70, 617, 676, 1147]   \n",
       "4  [70, 617, 676, 1147]  [14, 76, 633, 689]  [70, 617, 676, 1147]   \n",
       "\n",
       "       c.uniprotStart  coverage  \\\n",
       "0               [334]  0.153181   \n",
       "1               [334]  0.153181   \n",
       "2  [14, 76, 633, 689]  0.865672   \n",
       "3  [14, 76, 633, 689]  0.865672   \n",
       "4  [14, 76, 633, 689]  0.865672   \n",
       "\n",
       "                                         description                name  \\\n",
       "0  Spike glycoprotein, Nanobody H11-D4, 2-acetami...  Spike glycoprotein   \n",
       "1  Spike glycoprotein, H11-H4, 2-acetamido-2-deox...  Spike glycoprotein   \n",
       "2  Spike glycoprotein,Collagen alpha-1(I) chain, ...  Spike glycoprotein   \n",
       "3  Spike glycoprotein,Collagen alpha-1(I) chain, ...  Spike glycoprotein   \n",
       "4  Spike glycoprotein,Collagen alpha-1(I) chain, ...  Spike glycoprotein   \n",
       "\n",
       "   p.end  p.start  resolution structureChainId structureId  \n",
       "0   1273        1        1.80           6YZ5.E        6YZ5  \n",
       "1   1273        1        1.85         6ZBP.EEE        6ZBP  \n",
       "2   1273        1        2.60           7E7B.B        7E7B  \n",
       "3   1273        1        2.60           7E7B.A        7E7B  \n",
       "4   1273        1        2.60           7E7B.C        7E7B  "
      ]
     },
     "execution_count": 39,
     "metadata": {},
     "output_type": "execute_result"
    }
   ],
   "source": [
    "chains.head()"
   ]
  },
  {
   "cell_type": "code",
   "execution_count": 40,
   "metadata": {},
   "outputs": [],
   "source": [
    "chains.drop_duplicates(subset=['structureChainId'], inplace=True)\n",
    "chains.sort_values(by=['structureChainId'], inplace=True)"
   ]
  },
  {
   "cell_type": "markdown",
   "metadata": {},
   "source": [
    "#### Map uniprot residue numbers to PDB residue numbers"
   ]
  },
  {
   "cell_type": "code",
   "execution_count": 41,
   "metadata": {
    "jupyter": {
     "source_hidden": true
    }
   },
   "outputs": [],
   "source": [
    "def uniprot_to_pdb_mapping(row):\n",
    "    mapping = dict()\n",
    "    for (us,ue, ps, pe) in zip(row['c.uniprotStart'], row['c.uniprotEnd'], row['c.pdbStart'], row['c.pdbEnd']):\n",
    "        ps = int(ps)\n",
    "        pe = int(pe)\n",
    "        if (ue-us != pe-ps):\n",
    "            print('length mismatch:', row['structureChainId'], ue-us, pe-ps)\n",
    "        else:\n",
    "            offset = ps - us\n",
    "            for v in range(us, ue+1):\n",
    "                mapping[v] = offset + v\n",
    "                \n",
    "    #print(mapping)\n",
    "    return mapping"
   ]
  },
  {
   "cell_type": "code",
   "execution_count": 42,
   "metadata": {},
   "outputs": [
    {
     "name": "stdout",
     "output_type": "stream",
     "text": [
      "length mismatch: 6LXT.A 35 38\n",
      "length mismatch: 6LXT.B 37 40\n",
      "length mismatch: 6LXT.C 36 39\n",
      "length mismatch: 6LXT.D 31 34\n",
      "length mismatch: 6LXT.E 36 39\n",
      "length mismatch: 6LXT.F 33 36\n"
     ]
    }
   ],
   "source": [
    "chains['mapping'] = chains.apply(lambda row: uniprot_to_pdb_mapping(row), axis=1)"
   ]
  },
  {
   "cell_type": "markdown",
   "metadata": {},
   "source": [
    "### Visualize mutation sites\n",
    "\n",
    "Mutations are mapped onto protein chains for available 3D protein structures.\n",
    "\n",
    "Display options:\n",
    "\n",
    "|||\n",
    "|:-|:-|\n",
    "| *show_bio_assembly* | Toggle display of the biologically relevant quaternary structure |\n",
    "| *show_surface* | Toggle surface for protein chain |\n",
    "| *show_short_label* | Toggle display of mutation information<br>{UniProtResidue}{aminoAcid1}>{aminoAcid2}(# observations)<br>Example: 501N>Y(350436)|\n",
    "| *show_long_label* | Toggle display of mutation information<br>{PDBId}.{chainId}.{PDBResidue}: {geneName}.p{UniProtResidue}{aminoAcid1}>{aminoAcid2}(# observations)<br>Example: 6XDG.E.501: S:p.501N>Y(350436) |\n",
    "| *size* | Change size of visualization |\n",
    "| *font* | Change font size of annotations |\n",
    "| *logFreq* | Change minimum threshold to display mutations based on normalized log of mutation frequency [0.0 - 1.0]|\n",
    "| *structure* | Move slider to browse through available structures |"
   ]
  },
  {
   "cell_type": "markdown",
   "metadata": {},
   "source": [
    "#### Example: Move the structure slider to PDB ID:6XDG to see how mutations (e.g., 501N>Y) effect the binding of the Regeneron antibodies "
   ]
  },
  {
   "cell_type": "code",
   "execution_count": 43,
   "metadata": {
    "jupyter": {
     "source_hidden": true
    },
    "tags": []
   },
   "outputs": [],
   "source": [
    "# Setup viewer\n",
    "def view_mutations(df, variants, *args):\n",
    "    chainIds = list(df['structureChainId'])\n",
    "\n",
    "    def view3d(show_bio_assembly, show_surface, show_short_label, show_long_label, size, font, logFreq, i): \n",
    "        pdb_id, chain_id = chainIds[i].split('.')\n",
    "        global viewer1\n",
    "        viewer1 = py3Dmol.view(query='pdb:' + pdb_id, options={'doAssembly': show_bio_assembly}, width=size, height=size)\n",
    "\n",
    "        # polymer style\n",
    "        viewer1.setStyle({'cartoon': {'colorscheme': 'chain', 'width': 0.6, 'opacity':0.8}})\n",
    "\n",
    "        # highlight chain of interest in blue\n",
    "        viewer1.setStyle({'chain': chain_id},{'cartoon': {'color': 'blue'}})\n",
    "        \n",
    "        # non-polymer style\n",
    "        viewer1.setStyle({'hetflag': True}, {'stick':{'radius': 0.3, 'singleBond': False, 'colorscheme': 'greenCarbon'}})\n",
    "        \n",
    "        mapping = df['mapping'].iloc[i]\n",
    "\n",
    "        for row in variants.itertuples():\n",
    "            # get PDB residue mapping from a UniProt residue number\n",
    "            res_num = mapping.get(row.residue, 0)\n",
    "            col = row.color\n",
    "            if res_num > 0 and row.scale > logFreq:\n",
    "                mut_res = {'resi': res_num, 'chain': chain_id}\n",
    "                viewer1.addStyle(mut_res, {'sphere':{'color':col, 'opacity': 1.0}}) \n",
    "\n",
    "                if show_short_label:\n",
    "                    label = row.annotation\n",
    "                if show_long_label:\n",
    "                    label = chainIds[i] + \".\" + str(res_num) + \": \" + row.variationId\n",
    "                if show_short_label or show_long_label:\n",
    "                    viewer1.addLabel(label, {'fontSize':font,'fontColor': 'black','backgroundColor':'ivory', 'opacity': 1.0}, {'resi': res_num, 'chain': chain_id})\n",
    "\n",
    "        description = df['description'].iloc[i]\n",
    "        resolution = df['resolution'].iloc[i]\n",
    "        coverage = df['coverage'].iloc[i]\n",
    "        name = df['name'].iloc[i]\n",
    "        \n",
    "        print(name)\n",
    "        print()\n",
    "        print(f'PDB Id: {pdb_id}, chain Id: {chain_id}, resolution: {resolution}, sequence coverage: {coverage:.2f}')\n",
    "        print(f'description: {description}')\n",
    "        \n",
    "        # print any specified additional columns from the dataframe\n",
    "        for a in args:\n",
    "            print(a + \": \" + df.iloc[i][a])\n",
    "\n",
    "        viewer1.zoomTo({'chain': chain_id})\n",
    "        viewer1.center({'chain': chain_id})\n",
    "        \n",
    "        if show_surface:\n",
    "             viewer1.addSurface(py3Dmol.SES,{'opacity':0.8,'color':'lightblue'},{'chain': chain_id})\n",
    "\n",
    "        return viewer1.show()\n",
    "       \n",
    "    f_widget = IntSlider(value=9, min=5, max=20, description='font size', continuous_update=False)\n",
    "    z_widget = IntSlider(value=750, min=500, max=1200, description='size', continuous_update=False)\n",
    "    s_widget = IntSlider(min=0, max=len(chainIds)-1, description='structure', continuous_update=False)\n",
    "    l_widget = FloatSlider(value=0.8, min=0, max=1, step=0.05, description='logFreq:', \n",
    "                           continuous_update=False, orientation='horizontal', readout=True, readout_format='.2f')\n",
    "    \n",
    "    \n",
    "    return interact(view3d, show_bio_assembly=False, show_surface=False, show_short_label=True, show_long_label=False, size=z_widget, font=f_widget, logFreq=l_widget, i=s_widget)\n",
    "\n",
    "def view_image1():\n",
    "    return viewer1.png()"
   ]
  },
  {
   "cell_type": "code",
   "execution_count": 44,
   "metadata": {
    "tags": []
   },
   "outputs": [
    {
     "data": {
      "application/vnd.jupyter.widget-view+json": {
       "model_id": "092da49631f44cd5bf056af89d43b495",
       "version_major": 2,
       "version_minor": 0
      },
      "text/plain": [
       "interactive(children=(Checkbox(value=False, description='show_bio_assembly'), Checkbox(value=False, descriptio…"
      ]
     },
     "metadata": {},
     "output_type": "display_data"
    }
   ],
   "source": [
    "view_mutations(chains, variants);"
   ]
  },
  {
   "cell_type": "code",
   "execution_count": 45,
   "metadata": {
    "jupyter": {
     "source_hidden": true
    }
   },
   "outputs": [],
   "source": [
    "# https://stackoverflow.com/questions/32468402/how-to-explode-a-list-inside-a-dataframe-cell-into-separate-rows\n",
    "import copy\n",
    "\n",
    "def pandas_explode(df, column_to_explode):\n",
    "    \"\"\"\n",
    "    Similar to Hive's EXPLODE function, take a column with iterable elements, and flatten the iterable to one element \n",
    "    per observation in the output table\n",
    "\n",
    "    :param df: A dataframe to explod\n",
    "    :type df: pandas.DataFrame\n",
    "    :param column_to_explode: \n",
    "    :type column_to_explode: str\n",
    "    :return: An exploded data frame\n",
    "    :rtype: pandas.DataFrame\n",
    "    \"\"\"\n",
    "\n",
    "    # Create a list of new observations\n",
    "    new_observations = list()\n",
    "\n",
    "    # Iterate through existing observations\n",
    "    for row in df.to_dict(orient='records'):\n",
    "\n",
    "        # Take out the exploding iterable\n",
    "        explode_values = row[column_to_explode]\n",
    "        del row[column_to_explode]\n",
    "\n",
    "        # Create a new observation for every entry in the exploding iterable & add all of the other columns\n",
    "        for explode_value in explode_values.items():\n",
    "\n",
    "            # Deep copy existing observation\n",
    "            new_observation = copy.deepcopy(row)\n",
    "\n",
    "            # Add one (newly flattened) value from exploding iterable\n",
    "            new_observation[column_to_explode] = explode_value\n",
    "\n",
    "            # Add to the list of new observations\n",
    "            new_observations.append(new_observation)\n",
    "\n",
    "    # Create a DataFrame\n",
    "    return_df = pd.DataFrame(new_observations)\n",
    "\n",
    "    # Return\n",
    "    return return_df"
   ]
  },
  {
   "cell_type": "markdown",
   "metadata": {},
   "source": [
    "### Expand chains into residues"
   ]
  },
  {
   "cell_type": "code",
   "execution_count": 46,
   "metadata": {},
   "outputs": [],
   "source": [
    "residues = pandas_explode(chains, 'mapping')\n",
    "residues['uniprotPosition'] = residues['mapping'].apply(lambda x: x[0])\n",
    "residues['pdbPosition'] = residues['mapping'].apply(lambda x: x[1])\n",
    "residues.drop(columns='mapping', inplace=True)"
   ]
  },
  {
   "cell_type": "code",
   "execution_count": 47,
   "metadata": {},
   "outputs": [],
   "source": [
    "residues = residues.drop(columns=['c.pdbEnd', 'c.pdbStart', 'c.uniprotEnd', 'c.uniprotStart', 'p.end', 'p.start'])"
   ]
  },
  {
   "cell_type": "code",
   "execution_count": 48,
   "metadata": {},
   "outputs": [
    {
     "data": {
      "text/html": [
       "<div>\n",
       "<style scoped>\n",
       "    .dataframe tbody tr th:only-of-type {\n",
       "        vertical-align: middle;\n",
       "    }\n",
       "\n",
       "    .dataframe tbody tr th {\n",
       "        vertical-align: top;\n",
       "    }\n",
       "\n",
       "    .dataframe thead th {\n",
       "        text-align: right;\n",
       "    }\n",
       "</style>\n",
       "<table border=\"1\" class=\"dataframe\">\n",
       "  <thead>\n",
       "    <tr style=\"text-align: right;\">\n",
       "      <th></th>\n",
       "      <th>coverage</th>\n",
       "      <th>description</th>\n",
       "      <th>name</th>\n",
       "      <th>resolution</th>\n",
       "      <th>structureChainId</th>\n",
       "      <th>structureId</th>\n",
       "      <th>uniprotPosition</th>\n",
       "      <th>pdbPosition</th>\n",
       "    </tr>\n",
       "  </thead>\n",
       "  <tbody>\n",
       "    <tr>\n",
       "      <th>0</th>\n",
       "      <td>0.088767</td>\n",
       "      <td>Spike protein S2, Spike protein S2, TETRAETHYL...</td>\n",
       "      <td>Spike glycoprotein</td>\n",
       "      <td>2.9</td>\n",
       "      <td>6LXT.A</td>\n",
       "      <td>6LXT</td>\n",
       "      <td>912</td>\n",
       "      <td>912</td>\n",
       "    </tr>\n",
       "    <tr>\n",
       "      <th>1</th>\n",
       "      <td>0.088767</td>\n",
       "      <td>Spike protein S2, Spike protein S2, TETRAETHYL...</td>\n",
       "      <td>Spike glycoprotein</td>\n",
       "      <td>2.9</td>\n",
       "      <td>6LXT.A</td>\n",
       "      <td>6LXT</td>\n",
       "      <td>913</td>\n",
       "      <td>913</td>\n",
       "    </tr>\n",
       "    <tr>\n",
       "      <th>2</th>\n",
       "      <td>0.088767</td>\n",
       "      <td>Spike protein S2, Spike protein S2, TETRAETHYL...</td>\n",
       "      <td>Spike glycoprotein</td>\n",
       "      <td>2.9</td>\n",
       "      <td>6LXT.A</td>\n",
       "      <td>6LXT</td>\n",
       "      <td>914</td>\n",
       "      <td>914</td>\n",
       "    </tr>\n",
       "    <tr>\n",
       "      <th>3</th>\n",
       "      <td>0.088767</td>\n",
       "      <td>Spike protein S2, Spike protein S2, TETRAETHYL...</td>\n",
       "      <td>Spike glycoprotein</td>\n",
       "      <td>2.9</td>\n",
       "      <td>6LXT.A</td>\n",
       "      <td>6LXT</td>\n",
       "      <td>915</td>\n",
       "      <td>915</td>\n",
       "    </tr>\n",
       "    <tr>\n",
       "      <th>4</th>\n",
       "      <td>0.088767</td>\n",
       "      <td>Spike protein S2, Spike protein S2, TETRAETHYL...</td>\n",
       "      <td>Spike glycoprotein</td>\n",
       "      <td>2.9</td>\n",
       "      <td>6LXT.A</td>\n",
       "      <td>6LXT</td>\n",
       "      <td>916</td>\n",
       "      <td>916</td>\n",
       "    </tr>\n",
       "  </tbody>\n",
       "</table>\n",
       "</div>"
      ],
      "text/plain": [
       "   coverage                                        description  \\\n",
       "0  0.088767  Spike protein S2, Spike protein S2, TETRAETHYL...   \n",
       "1  0.088767  Spike protein S2, Spike protein S2, TETRAETHYL...   \n",
       "2  0.088767  Spike protein S2, Spike protein S2, TETRAETHYL...   \n",
       "3  0.088767  Spike protein S2, Spike protein S2, TETRAETHYL...   \n",
       "4  0.088767  Spike protein S2, Spike protein S2, TETRAETHYL...   \n",
       "\n",
       "                 name  resolution structureChainId structureId  \\\n",
       "0  Spike glycoprotein         2.9           6LXT.A        6LXT   \n",
       "1  Spike glycoprotein         2.9           6LXT.A        6LXT   \n",
       "2  Spike glycoprotein         2.9           6LXT.A        6LXT   \n",
       "3  Spike glycoprotein         2.9           6LXT.A        6LXT   \n",
       "4  Spike glycoprotein         2.9           6LXT.A        6LXT   \n",
       "\n",
       "   uniprotPosition  pdbPosition  \n",
       "0              912          912  \n",
       "1              913          913  \n",
       "2              914          914  \n",
       "3              915          915  \n",
       "4              916          916  "
      ]
     },
     "execution_count": 48,
     "metadata": {},
     "output_type": "execute_result"
    }
   ],
   "source": [
    "residues.head()"
   ]
  },
  {
   "cell_type": "code",
   "execution_count": 49,
   "metadata": {},
   "outputs": [],
   "source": [
    "variants = variants[['residue', 'variationId', 'annotation', 'scale', 'color']]"
   ]
  },
  {
   "cell_type": "code",
   "execution_count": 50,
   "metadata": {},
   "outputs": [],
   "source": [
    "residues_variants = residues.merge(variants, left_on='uniprotPosition', right_on='residue')"
   ]
  },
  {
   "cell_type": "code",
   "execution_count": 51,
   "metadata": {},
   "outputs": [
    {
     "data": {
      "text/html": [
       "<div>\n",
       "<style scoped>\n",
       "    .dataframe tbody tr th:only-of-type {\n",
       "        vertical-align: middle;\n",
       "    }\n",
       "\n",
       "    .dataframe tbody tr th {\n",
       "        vertical-align: top;\n",
       "    }\n",
       "\n",
       "    .dataframe thead th {\n",
       "        text-align: right;\n",
       "    }\n",
       "</style>\n",
       "<table border=\"1\" class=\"dataframe\">\n",
       "  <thead>\n",
       "    <tr style=\"text-align: right;\">\n",
       "      <th></th>\n",
       "      <th>coverage</th>\n",
       "      <th>description</th>\n",
       "      <th>name</th>\n",
       "      <th>resolution</th>\n",
       "      <th>structureChainId</th>\n",
       "      <th>structureId</th>\n",
       "      <th>uniprotPosition</th>\n",
       "      <th>pdbPosition</th>\n",
       "      <th>residue</th>\n",
       "      <th>variationId</th>\n",
       "      <th>annotation</th>\n",
       "      <th>scale</th>\n",
       "      <th>color</th>\n",
       "    </tr>\n",
       "  </thead>\n",
       "  <tbody>\n",
       "    <tr>\n",
       "      <th>0</th>\n",
       "      <td>0.088767</td>\n",
       "      <td>Spike protein S2, Spike protein S2, TETRAETHYL...</td>\n",
       "      <td>Spike glycoprotein</td>\n",
       "      <td>2.9</td>\n",
       "      <td>6LXT.A</td>\n",
       "      <td>6LXT</td>\n",
       "      <td>912</td>\n",
       "      <td>912</td>\n",
       "      <td>912</td>\n",
       "      <td>S:p.912T&gt;I(2)</td>\n",
       "      <td>912T&gt;I(2)</td>\n",
       "      <td>0.04709</td>\n",
       "      <td>#ffede5</td>\n",
       "    </tr>\n",
       "    <tr>\n",
       "      <th>1</th>\n",
       "      <td>0.089552</td>\n",
       "      <td>Spike protein S2, Spike protein S2, TETRAETHYL...</td>\n",
       "      <td>Spike glycoprotein</td>\n",
       "      <td>2.9</td>\n",
       "      <td>6LXT.C</td>\n",
       "      <td>6LXT</td>\n",
       "      <td>912</td>\n",
       "      <td>912</td>\n",
       "      <td>912</td>\n",
       "      <td>S:p.912T&gt;I(2)</td>\n",
       "      <td>912T&gt;I(2)</td>\n",
       "      <td>0.04709</td>\n",
       "      <td>#ffede5</td>\n",
       "    </tr>\n",
       "    <tr>\n",
       "      <th>2</th>\n",
       "      <td>0.084053</td>\n",
       "      <td>Spike protein S2, Spike protein S2, TETRAETHYL...</td>\n",
       "      <td>Spike glycoprotein</td>\n",
       "      <td>2.9</td>\n",
       "      <td>6LXT.D</td>\n",
       "      <td>6LXT</td>\n",
       "      <td>912</td>\n",
       "      <td>912</td>\n",
       "      <td>912</td>\n",
       "      <td>S:p.912T&gt;I(2)</td>\n",
       "      <td>912T&gt;I(2)</td>\n",
       "      <td>0.04709</td>\n",
       "      <td>#ffede5</td>\n",
       "    </tr>\n",
       "    <tr>\n",
       "      <th>3</th>\n",
       "      <td>0.758837</td>\n",
       "      <td>Spike glycoprotein, 2-acetamido-2-deoxy-beta-D...</td>\n",
       "      <td>Spike glycoprotein</td>\n",
       "      <td>3.2</td>\n",
       "      <td>6VYB.A</td>\n",
       "      <td>6VYB</td>\n",
       "      <td>912</td>\n",
       "      <td>912</td>\n",
       "      <td>912</td>\n",
       "      <td>S:p.912T&gt;I(2)</td>\n",
       "      <td>912T&gt;I(2)</td>\n",
       "      <td>0.04709</td>\n",
       "      <td>#ffede5</td>\n",
       "    </tr>\n",
       "    <tr>\n",
       "      <th>4</th>\n",
       "      <td>0.745483</td>\n",
       "      <td>Spike glycoprotein, 2-acetamido-2-deoxy-beta-D...</td>\n",
       "      <td>Spike glycoprotein</td>\n",
       "      <td>3.2</td>\n",
       "      <td>6VYB.B</td>\n",
       "      <td>6VYB</td>\n",
       "      <td>912</td>\n",
       "      <td>912</td>\n",
       "      <td>912</td>\n",
       "      <td>S:p.912T&gt;I(2)</td>\n",
       "      <td>912T&gt;I(2)</td>\n",
       "      <td>0.04709</td>\n",
       "      <td>#ffede5</td>\n",
       "    </tr>\n",
       "  </tbody>\n",
       "</table>\n",
       "</div>"
      ],
      "text/plain": [
       "   coverage                                        description  \\\n",
       "0  0.088767  Spike protein S2, Spike protein S2, TETRAETHYL...   \n",
       "1  0.089552  Spike protein S2, Spike protein S2, TETRAETHYL...   \n",
       "2  0.084053  Spike protein S2, Spike protein S2, TETRAETHYL...   \n",
       "3  0.758837  Spike glycoprotein, 2-acetamido-2-deoxy-beta-D...   \n",
       "4  0.745483  Spike glycoprotein, 2-acetamido-2-deoxy-beta-D...   \n",
       "\n",
       "                 name  resolution structureChainId structureId  \\\n",
       "0  Spike glycoprotein         2.9           6LXT.A        6LXT   \n",
       "1  Spike glycoprotein         2.9           6LXT.C        6LXT   \n",
       "2  Spike glycoprotein         2.9           6LXT.D        6LXT   \n",
       "3  Spike glycoprotein         3.2           6VYB.A        6VYB   \n",
       "4  Spike glycoprotein         3.2           6VYB.B        6VYB   \n",
       "\n",
       "   uniprotPosition  pdbPosition  residue    variationId annotation    scale  \\\n",
       "0              912          912      912  S:p.912T>I(2)  912T>I(2)  0.04709   \n",
       "1              912          912      912  S:p.912T>I(2)  912T>I(2)  0.04709   \n",
       "2              912          912      912  S:p.912T>I(2)  912T>I(2)  0.04709   \n",
       "3              912          912      912  S:p.912T>I(2)  912T>I(2)  0.04709   \n",
       "4              912          912      912  S:p.912T>I(2)  912T>I(2)  0.04709   \n",
       "\n",
       "     color  \n",
       "0  #ffede5  \n",
       "1  #ffede5  \n",
       "2  #ffede5  \n",
       "3  #ffede5  \n",
       "4  #ffede5  "
      ]
     },
     "execution_count": 51,
     "metadata": {},
     "output_type": "execute_result"
    }
   ],
   "source": [
    "residues_variants.head()"
   ]
  },
  {
   "cell_type": "code",
   "execution_count": 52,
   "metadata": {},
   "outputs": [],
   "source": [
    "residues_variants.to_csv(output_file_name, index=False)"
   ]
  },
  {
   "cell_type": "markdown",
   "metadata": {},
   "source": [
    "## Now run the next step\n",
    "Map mutations occuring at protein-protein interaction sites: [2-MapToPolymerInteractions.ipynb](2-MapToPolymerInteractions.ipynb)"
   ]
  },
  {
   "cell_type": "code",
   "execution_count": null,
   "metadata": {},
   "outputs": [],
   "source": []
  }
 ],
 "metadata": {
  "kernelspec": {
   "display_name": "Python 3",
   "language": "python",
   "name": "python3"
  },
  "language_info": {
   "codemirror_mode": {
    "name": "ipython",
    "version": 3
   },
   "file_extension": ".py",
   "mimetype": "text/x-python",
   "name": "python",
   "nbconvert_exporter": "python",
   "pygments_lexer": "ipython3",
   "version": "3.6.13"
  }
 },
 "nbformat": 4,
 "nbformat_minor": 4
}
