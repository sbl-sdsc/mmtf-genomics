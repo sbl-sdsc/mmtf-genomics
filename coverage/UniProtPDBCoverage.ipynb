{
 "cells": [
  {
   "cell_type": "markdown",
   "metadata": {},
   "source": [
    "# UniProt Sequence Coverage by 3D Structures in PDB"
   ]
  },
  {
   "cell_type": "markdown",
   "metadata": {},
   "source": [
    "This notebook determines the coverage of UniProtKB sequences on a per protein chain basis for protein structures in the PDB."
   ]
  },
  {
   "cell_type": "code",
   "execution_count": 1,
   "metadata": {},
   "outputs": [],
   "source": [
    "import pandas as pd\n",
    "import matplotlib.pyplot as plt"
   ]
  },
  {
   "cell_type": "markdown",
   "metadata": {},
   "source": [
    "## Get UniProtKB Data\n",
    "UniProt id, preferred gene name, and sequence length ([see column names for RESTful web services](https://www.uniprot.org/help/uniprotkb_column_names))."
   ]
  },
  {
   "cell_type": "code",
   "execution_count": 2,
   "metadata": {},
   "outputs": [],
   "source": [
    "taxonomy_id = 9606\n",
    "columns = 'id,genes(PREFERRED),length'"
   ]
  },
  {
   "cell_type": "code",
   "execution_count": 3,
   "metadata": {},
   "outputs": [],
   "source": [
    "url = f'https://www.uniprot.org/uniprot/?query=organism:{taxonomy_id}&columns={columns}&format=tab'"
   ]
  },
  {
   "cell_type": "code",
   "execution_count": 4,
   "metadata": {
    "scrolled": true
   },
   "outputs": [
    {
     "data": {
      "text/html": [
       "<div>\n",
       "<style scoped>\n",
       "    .dataframe tbody tr th:only-of-type {\n",
       "        vertical-align: middle;\n",
       "    }\n",
       "\n",
       "    .dataframe tbody tr th {\n",
       "        vertical-align: top;\n",
       "    }\n",
       "\n",
       "    .dataframe thead th {\n",
       "        text-align: right;\n",
       "    }\n",
       "</style>\n",
       "<table border=\"1\" class=\"dataframe\">\n",
       "  <thead>\n",
       "    <tr style=\"text-align: right;\">\n",
       "      <th></th>\n",
       "      <th>Entry</th>\n",
       "      <th>GENE</th>\n",
       "      <th>Length</th>\n",
       "    </tr>\n",
       "  </thead>\n",
       "  <tbody>\n",
       "    <tr>\n",
       "      <th>0</th>\n",
       "      <td>Q96NG5</td>\n",
       "      <td>ZNF558</td>\n",
       "      <td>402</td>\n",
       "    </tr>\n",
       "    <tr>\n",
       "      <th>1</th>\n",
       "      <td>Q6ZN19</td>\n",
       "      <td>ZNF841</td>\n",
       "      <td>808</td>\n",
       "    </tr>\n",
       "    <tr>\n",
       "      <th>2</th>\n",
       "      <td>Q9UI25</td>\n",
       "      <td>NaN</td>\n",
       "      <td>63</td>\n",
       "    </tr>\n",
       "    <tr>\n",
       "      <th>3</th>\n",
       "      <td>Q86XN6</td>\n",
       "      <td>ZNF761</td>\n",
       "      <td>746</td>\n",
       "    </tr>\n",
       "    <tr>\n",
       "      <th>4</th>\n",
       "      <td>A8MUZ8</td>\n",
       "      <td>ZNF705G</td>\n",
       "      <td>300</td>\n",
       "    </tr>\n",
       "  </tbody>\n",
       "</table>\n",
       "</div>"
      ],
      "text/plain": [
       "    Entry     GENE  Length\n",
       "0  Q96NG5   ZNF558     402\n",
       "1  Q6ZN19   ZNF841     808\n",
       "2  Q9UI25      NaN      63\n",
       "3  Q86XN6   ZNF761     746\n",
       "4  A8MUZ8  ZNF705G     300"
      ]
     },
     "execution_count": 4,
     "metadata": {},
     "output_type": "execute_result"
    }
   ],
   "source": [
    "unp = pd.read_csv(url, sep='\\t')\n",
    "unp.rename(columns={'Gene names  (primary )': 'GENE'}, inplace=True)  ## create name without spaces\n",
    "unp.head()"
   ]
  },
  {
   "cell_type": "code",
   "execution_count": 5,
   "metadata": {},
   "outputs": [
    {
     "name": "stdout",
     "output_type": "stream",
     "text": [
      "Unique proteins:  203711 for organism: 9606\n",
      "Unique genes   :  26756 for organism: 9606\n"
     ]
    }
   ],
   "source": [
    "print('Unique proteins: ', len(unp['Entry'].unique()), 'for organism:', taxonomy_id)\n",
    "print('Unique genes   : ', len(unp['GENE'].unique()), 'for organism:', taxonomy_id)"
   ]
  },
  {
   "cell_type": "markdown",
   "metadata": {},
   "source": [
    "## Get UniProt segments covered by PDB residues\n",
    "Get continuous segments of the UniProt sequence covered by PDB residues from EBI [SIFTS](https://www.ebi.ac.uk/pdbe/docs/sifts/) project."
   ]
  },
  {
   "cell_type": "code",
   "execution_count": 6,
   "metadata": {},
   "outputs": [],
   "source": [
    "sifts_url = 'http://ftp.ebi.ac.uk/pub/databases/msd/sifts/flatfiles/tsv/uniprot_segments_observed.tsv.gz'"
   ]
  },
  {
   "cell_type": "code",
   "execution_count": 7,
   "metadata": {
    "scrolled": true
   },
   "outputs": [
    {
     "data": {
      "text/html": [
       "<div>\n",
       "<style scoped>\n",
       "    .dataframe tbody tr th:only-of-type {\n",
       "        vertical-align: middle;\n",
       "    }\n",
       "\n",
       "    .dataframe tbody tr th {\n",
       "        vertical-align: top;\n",
       "    }\n",
       "\n",
       "    .dataframe thead th {\n",
       "        text-align: right;\n",
       "    }\n",
       "</style>\n",
       "<table border=\"1\" class=\"dataframe\">\n",
       "  <thead>\n",
       "    <tr style=\"text-align: right;\">\n",
       "      <th></th>\n",
       "      <th>PDB</th>\n",
       "      <th>CHAIN</th>\n",
       "      <th>SP_PRIMARY</th>\n",
       "      <th>RES_BEG</th>\n",
       "      <th>RES_END</th>\n",
       "      <th>PDB_BEG</th>\n",
       "      <th>PDB_END</th>\n",
       "      <th>SP_BEG</th>\n",
       "      <th>SP_END</th>\n",
       "    </tr>\n",
       "  </thead>\n",
       "  <tbody>\n",
       "    <tr>\n",
       "      <th>0</th>\n",
       "      <td>120l</td>\n",
       "      <td>A</td>\n",
       "      <td>P00720</td>\n",
       "      <td>1</td>\n",
       "      <td>162</td>\n",
       "      <td>1</td>\n",
       "      <td>162</td>\n",
       "      <td>1</td>\n",
       "      <td>162</td>\n",
       "    </tr>\n",
       "    <tr>\n",
       "      <th>1</th>\n",
       "      <td>113l</td>\n",
       "      <td>A</td>\n",
       "      <td>P00720</td>\n",
       "      <td>1</td>\n",
       "      <td>162</td>\n",
       "      <td>1</td>\n",
       "      <td>162</td>\n",
       "      <td>1</td>\n",
       "      <td>162</td>\n",
       "    </tr>\n",
       "    <tr>\n",
       "      <th>2</th>\n",
       "      <td>123l</td>\n",
       "      <td>A</td>\n",
       "      <td>P00720</td>\n",
       "      <td>1</td>\n",
       "      <td>162</td>\n",
       "      <td>1</td>\n",
       "      <td>162</td>\n",
       "      <td>1</td>\n",
       "      <td>162</td>\n",
       "    </tr>\n",
       "    <tr>\n",
       "      <th>3</th>\n",
       "      <td>156l</td>\n",
       "      <td>A</td>\n",
       "      <td>P00720</td>\n",
       "      <td>1</td>\n",
       "      <td>162</td>\n",
       "      <td>1</td>\n",
       "      <td>162</td>\n",
       "      <td>1</td>\n",
       "      <td>162</td>\n",
       "    </tr>\n",
       "    <tr>\n",
       "      <th>4</th>\n",
       "      <td>128l</td>\n",
       "      <td>A</td>\n",
       "      <td>P00720</td>\n",
       "      <td>1</td>\n",
       "      <td>162</td>\n",
       "      <td>1</td>\n",
       "      <td>162</td>\n",
       "      <td>1</td>\n",
       "      <td>162</td>\n",
       "    </tr>\n",
       "  </tbody>\n",
       "</table>\n",
       "</div>"
      ],
      "text/plain": [
       "    PDB CHAIN SP_PRIMARY  RES_BEG  RES_END PDB_BEG PDB_END  SP_BEG  SP_END\n",
       "0  120l     A     P00720        1      162       1     162       1     162\n",
       "1  113l     A     P00720        1      162       1     162       1     162\n",
       "2  123l     A     P00720        1      162       1     162       1     162\n",
       "3  156l     A     P00720        1      162       1     162       1     162\n",
       "4  128l     A     P00720        1      162       1     162       1     162"
      ]
     },
     "execution_count": 7,
     "metadata": {},
     "output_type": "execute_result"
    }
   ],
   "source": [
    "segments = pd.read_csv(sifts_url, sep='\\t', skiprows=1)\n",
    "segments.head()"
   ]
  },
  {
   "cell_type": "markdown",
   "metadata": {},
   "source": [
    "Calculate length of each continuous segment. A chain may have one or more segments."
   ]
  },
  {
   "cell_type": "code",
   "execution_count": 8,
   "metadata": {},
   "outputs": [],
   "source": [
    "segments['SEG_LENGTH'] = segments['SP_END'] - segments['SP_BEG'] + 1"
   ]
  },
  {
   "cell_type": "markdown",
   "metadata": {},
   "source": [
    "Create a unique key for each chain. Use upper case for PDB IDs. Note, Chain IDs are case sensitive!"
   ]
  },
  {
   "cell_type": "code",
   "execution_count": 9,
   "metadata": {},
   "outputs": [],
   "source": [
    "segments['PDB_CHAIN_ID'] = segments['PDB'].str.upper()  + \".\" + segments['CHAIN']\n",
    "segments = segments[['PDB_CHAIN_ID','SP_PRIMARY','SP_BEG','SP_END','SEG_LENGTH']]"
   ]
  },
  {
   "cell_type": "code",
   "execution_count": 10,
   "metadata": {
    "scrolled": true
   },
   "outputs": [
    {
     "data": {
      "text/html": [
       "<div>\n",
       "<style scoped>\n",
       "    .dataframe tbody tr th:only-of-type {\n",
       "        vertical-align: middle;\n",
       "    }\n",
       "\n",
       "    .dataframe tbody tr th {\n",
       "        vertical-align: top;\n",
       "    }\n",
       "\n",
       "    .dataframe thead th {\n",
       "        text-align: right;\n",
       "    }\n",
       "</style>\n",
       "<table border=\"1\" class=\"dataframe\">\n",
       "  <thead>\n",
       "    <tr style=\"text-align: right;\">\n",
       "      <th></th>\n",
       "      <th>PDB_CHAIN_ID</th>\n",
       "      <th>SP_PRIMARY</th>\n",
       "      <th>SP_BEG</th>\n",
       "      <th>SP_END</th>\n",
       "      <th>SEG_LENGTH</th>\n",
       "    </tr>\n",
       "  </thead>\n",
       "  <tbody>\n",
       "    <tr>\n",
       "      <th>0</th>\n",
       "      <td>120L.A</td>\n",
       "      <td>P00720</td>\n",
       "      <td>1</td>\n",
       "      <td>162</td>\n",
       "      <td>162</td>\n",
       "    </tr>\n",
       "    <tr>\n",
       "      <th>1</th>\n",
       "      <td>113L.A</td>\n",
       "      <td>P00720</td>\n",
       "      <td>1</td>\n",
       "      <td>162</td>\n",
       "      <td>162</td>\n",
       "    </tr>\n",
       "    <tr>\n",
       "      <th>2</th>\n",
       "      <td>123L.A</td>\n",
       "      <td>P00720</td>\n",
       "      <td>1</td>\n",
       "      <td>162</td>\n",
       "      <td>162</td>\n",
       "    </tr>\n",
       "    <tr>\n",
       "      <th>3</th>\n",
       "      <td>156L.A</td>\n",
       "      <td>P00720</td>\n",
       "      <td>1</td>\n",
       "      <td>162</td>\n",
       "      <td>162</td>\n",
       "    </tr>\n",
       "    <tr>\n",
       "      <th>4</th>\n",
       "      <td>128L.A</td>\n",
       "      <td>P00720</td>\n",
       "      <td>1</td>\n",
       "      <td>162</td>\n",
       "      <td>162</td>\n",
       "    </tr>\n",
       "  </tbody>\n",
       "</table>\n",
       "</div>"
      ],
      "text/plain": [
       "  PDB_CHAIN_ID SP_PRIMARY  SP_BEG  SP_END  SEG_LENGTH\n",
       "0       120L.A     P00720       1     162         162\n",
       "1       113L.A     P00720       1     162         162\n",
       "2       123L.A     P00720       1     162         162\n",
       "3       156L.A     P00720       1     162         162\n",
       "4       128L.A     P00720       1     162         162"
      ]
     },
     "execution_count": 10,
     "metadata": {},
     "output_type": "execute_result"
    }
   ],
   "source": [
    "segments.head()"
   ]
  },
  {
   "cell_type": "markdown",
   "metadata": {},
   "source": [
    "## Create the intersection between the two dataframes"
   ]
  },
  {
   "cell_type": "code",
   "execution_count": 11,
   "metadata": {},
   "outputs": [],
   "source": [
    "coverage = segments.merge(unp, left_on=['SP_PRIMARY'], right_on=['Entry'])"
   ]
  },
  {
   "cell_type": "markdown",
   "metadata": {},
   "source": [
    "Calculate the coverage per segment."
   ]
  },
  {
   "cell_type": "code",
   "execution_count": 12,
   "metadata": {},
   "outputs": [
    {
     "data": {
      "text/html": [
       "<div>\n",
       "<style scoped>\n",
       "    .dataframe tbody tr th:only-of-type {\n",
       "        vertical-align: middle;\n",
       "    }\n",
       "\n",
       "    .dataframe tbody tr th {\n",
       "        vertical-align: top;\n",
       "    }\n",
       "\n",
       "    .dataframe thead th {\n",
       "        text-align: right;\n",
       "    }\n",
       "</style>\n",
       "<table border=\"1\" class=\"dataframe\">\n",
       "  <thead>\n",
       "    <tr style=\"text-align: right;\">\n",
       "      <th></th>\n",
       "      <th>PDB_CHAIN_ID</th>\n",
       "      <th>SP_PRIMARY</th>\n",
       "      <th>SP_BEG</th>\n",
       "      <th>SP_END</th>\n",
       "      <th>SEG_LENGTH</th>\n",
       "      <th>Entry</th>\n",
       "      <th>GENE</th>\n",
       "      <th>Length</th>\n",
       "      <th>coverage</th>\n",
       "    </tr>\n",
       "  </thead>\n",
       "  <tbody>\n",
       "    <tr>\n",
       "      <th>0</th>\n",
       "      <td>1A1A.A</td>\n",
       "      <td>P12931</td>\n",
       "      <td>144</td>\n",
       "      <td>249</td>\n",
       "      <td>106</td>\n",
       "      <td>P12931</td>\n",
       "      <td>SRC</td>\n",
       "      <td>536</td>\n",
       "      <td>0.197761</td>\n",
       "    </tr>\n",
       "    <tr>\n",
       "      <th>1</th>\n",
       "      <td>1A1A.B</td>\n",
       "      <td>P12931</td>\n",
       "      <td>148</td>\n",
       "      <td>249</td>\n",
       "      <td>102</td>\n",
       "      <td>P12931</td>\n",
       "      <td>SRC</td>\n",
       "      <td>536</td>\n",
       "      <td>0.190299</td>\n",
       "    </tr>\n",
       "    <tr>\n",
       "      <th>2</th>\n",
       "      <td>1SHD.A</td>\n",
       "      <td>P12931</td>\n",
       "      <td>145</td>\n",
       "      <td>181</td>\n",
       "      <td>37</td>\n",
       "      <td>P12931</td>\n",
       "      <td>SRC</td>\n",
       "      <td>536</td>\n",
       "      <td>0.069030</td>\n",
       "    </tr>\n",
       "    <tr>\n",
       "      <th>3</th>\n",
       "      <td>1SHD.A</td>\n",
       "      <td>P12931</td>\n",
       "      <td>186</td>\n",
       "      <td>249</td>\n",
       "      <td>64</td>\n",
       "      <td>P12931</td>\n",
       "      <td>SRC</td>\n",
       "      <td>536</td>\n",
       "      <td>0.119403</td>\n",
       "    </tr>\n",
       "    <tr>\n",
       "      <th>4</th>\n",
       "      <td>1YI6.A</td>\n",
       "      <td>P12931</td>\n",
       "      <td>261</td>\n",
       "      <td>536</td>\n",
       "      <td>276</td>\n",
       "      <td>P12931</td>\n",
       "      <td>SRC</td>\n",
       "      <td>536</td>\n",
       "      <td>0.514925</td>\n",
       "    </tr>\n",
       "  </tbody>\n",
       "</table>\n",
       "</div>"
      ],
      "text/plain": [
       "  PDB_CHAIN_ID SP_PRIMARY  SP_BEG  SP_END  SEG_LENGTH   Entry GENE  Length  \\\n",
       "0       1A1A.A     P12931     144     249         106  P12931  SRC     536   \n",
       "1       1A1A.B     P12931     148     249         102  P12931  SRC     536   \n",
       "2       1SHD.A     P12931     145     181          37  P12931  SRC     536   \n",
       "3       1SHD.A     P12931     186     249          64  P12931  SRC     536   \n",
       "4       1YI6.A     P12931     261     536         276  P12931  SRC     536   \n",
       "\n",
       "   coverage  \n",
       "0  0.197761  \n",
       "1  0.190299  \n",
       "2  0.069030  \n",
       "3  0.119403  \n",
       "4  0.514925  "
      ]
     },
     "execution_count": 12,
     "metadata": {},
     "output_type": "execute_result"
    }
   ],
   "source": [
    "coverage['coverage'] = coverage['SEG_LENGTH'] / coverage['Length']\n",
    "coverage.head()"
   ]
  },
  {
   "cell_type": "markdown",
   "metadata": {},
   "source": [
    "Sum up the coverage for each unique chain."
   ]
  },
  {
   "cell_type": "code",
   "execution_count": 13,
   "metadata": {
    "scrolled": true
   },
   "outputs": [
    {
     "data": {
      "text/html": [
       "<div>\n",
       "<style scoped>\n",
       "    .dataframe tbody tr th:only-of-type {\n",
       "        vertical-align: middle;\n",
       "    }\n",
       "\n",
       "    .dataframe tbody tr th {\n",
       "        vertical-align: top;\n",
       "    }\n",
       "\n",
       "    .dataframe thead th {\n",
       "        text-align: right;\n",
       "    }\n",
       "</style>\n",
       "<table border=\"1\" class=\"dataframe\">\n",
       "  <thead>\n",
       "    <tr style=\"text-align: right;\">\n",
       "      <th></th>\n",
       "      <th>PDB_CHAIN_ID</th>\n",
       "      <th>SP_PRIMARY</th>\n",
       "      <th>GENE</th>\n",
       "      <th>coverage</th>\n",
       "    </tr>\n",
       "  </thead>\n",
       "  <tbody>\n",
       "    <tr>\n",
       "      <th>0</th>\n",
       "      <td>10GS.A</td>\n",
       "      <td>P09211</td>\n",
       "      <td>GSTP1</td>\n",
       "      <td>0.990476</td>\n",
       "    </tr>\n",
       "    <tr>\n",
       "      <th>1</th>\n",
       "      <td>10GS.B</td>\n",
       "      <td>P09211</td>\n",
       "      <td>GSTP1</td>\n",
       "      <td>0.990476</td>\n",
       "    </tr>\n",
       "    <tr>\n",
       "      <th>2</th>\n",
       "      <td>11GS.A</td>\n",
       "      <td>P09211</td>\n",
       "      <td>GSTP1</td>\n",
       "      <td>0.990476</td>\n",
       "    </tr>\n",
       "    <tr>\n",
       "      <th>3</th>\n",
       "      <td>11GS.B</td>\n",
       "      <td>P09211</td>\n",
       "      <td>GSTP1</td>\n",
       "      <td>0.990476</td>\n",
       "    </tr>\n",
       "    <tr>\n",
       "      <th>4</th>\n",
       "      <td>121P.A</td>\n",
       "      <td>P01112</td>\n",
       "      <td>HRAS</td>\n",
       "      <td>0.878307</td>\n",
       "    </tr>\n",
       "  </tbody>\n",
       "</table>\n",
       "</div>"
      ],
      "text/plain": [
       "  PDB_CHAIN_ID SP_PRIMARY   GENE  coverage\n",
       "0       10GS.A     P09211  GSTP1  0.990476\n",
       "1       10GS.B     P09211  GSTP1  0.990476\n",
       "2       11GS.A     P09211  GSTP1  0.990476\n",
       "3       11GS.B     P09211  GSTP1  0.990476\n",
       "4       121P.A     P01112   HRAS  0.878307"
      ]
     },
     "execution_count": 13,
     "metadata": {},
     "output_type": "execute_result"
    }
   ],
   "source": [
    "chain_cov = coverage.groupby(['PDB_CHAIN_ID','SP_PRIMARY','GENE']).sum()[['coverage']]\n",
    "chain_cov = chain_cov[(chain_cov['coverage'] <= 1.0)]  # there are a few cases where coverage > 1 (e.g., P69905, P01579, Q15848)\n",
    "chain_cov = chain_cov.reset_index()  # convert grouped dataframe to a regular dataframe\n",
    "chain_cov.head()"
   ]
  },
  {
   "cell_type": "code",
   "execution_count": 14,
   "metadata": {},
   "outputs": [
    {
     "name": "stdout",
     "output_type": "stream",
     "text": [
      "Unique chains    : 135611\n",
      "Unique proteins  : 7670\n",
      "Unique genes     : 7529\n",
      "Average coverage : 0.569135530229276\n",
      "Median coverage  : 0.6328871892925431\n"
     ]
    }
   ],
   "source": [
    "print('Unique chains    :', chain_cov.shape[0])\n",
    "print('Unique proteins  :', len(chain_cov['SP_PRIMARY'].unique()))\n",
    "print('Unique genes     :', len(chain_cov['GENE'].unique()))\n",
    "print('Average coverage :', chain_cov['coverage'].mean())\n",
    "print('Median coverage  :', chain_cov['coverage'].median())"
   ]
  },
  {
   "cell_type": "code",
   "execution_count": 15,
   "metadata": {},
   "outputs": [
    {
     "data": {
      "image/png": "[encoded data removed]",
      "text/plain": [
       "<Figure size 432x288 with 1 Axes>"
      ]
     },
     "metadata": {
      "needs_background": "light"
     },
     "output_type": "display_data"
    }
   ],
   "source": [
    "chain_cov.hist(bins=100);"
   ]
  },
  {
   "cell_type": "code",
   "execution_count": null,
   "metadata": {},
   "outputs": [],
   "source": []
  }
 ],
 "metadata": {
  "kernelspec": {
   "display_name": "Python 3 (ipykernel)",
   "language": "python",
   "name": "python3"
  },
  "language_info": {
   "codemirror_mode": {
    "name": "ipython",
    "version": 3
   },
   "file_extension": ".py",
   "mimetype": "text/x-python",
   "name": "python",
   "nbconvert_exporter": "python",
   "pygments_lexer": "ipython3",
   "version": "3.7.12"
  }
 },
 "nbformat": 4,
 "nbformat_minor": 4
}
